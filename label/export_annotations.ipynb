{
 "cells": [
  {
   "attachments": {},
   "cell_type": "markdown",
   "metadata": {},
   "source": [
    "### Export annotations from Labelbox to GCP storage"
   ]
  },
  {
   "cell_type": "code",
   "execution_count": 1,
   "metadata": {
    "tags": []
   },
   "outputs": [],
   "source": [
    "import os, sys\n",
    "sys.path.insert(0, os.path.abspath('..'))"
   ]
  },
  {
   "cell_type": "code",
   "execution_count": 2,
   "metadata": {},
   "outputs": [],
   "source": [
    "%load_ext autoreload\n",
    "%autoreload 2"
   ]
  },
  {
   "cell_type": "code",
   "execution_count": 4,
   "metadata": {},
   "outputs": [],
   "source": [
    "%reload_ext autoreload\n",
    "from utils import gcp_utils\n",
    "from utils.data_management import get_annotation_path\n",
    "from utils.labelbox_utils import get_annotation_objects_from_data_row_export, get_geojson_fc_from_annotation_objects"
   ]
  },
  {
   "cell_type": "code",
   "execution_count": 6,
   "metadata": {},
   "outputs": [
    {
     "data": {
      "text/plain": [
       "True"
      ]
     },
     "execution_count": 6,
     "metadata": {},
     "output_type": "execute_result"
    }
   ],
   "source": [
    "# Load environment variables from .env.\n",
    "# Alternatively, manually set environment variables.\n",
    "\n",
    "from dotenv import load_dotenv\n",
    "load_dotenv()"
   ]
  },
  {
   "cell_type": "code",
   "execution_count": 7,
   "metadata": {},
   "outputs": [],
   "source": [
    "from google.cloud import storage\n",
    "from labelbox import Client as LabelboxClient\n",
    "\n",
    "GCP_PROJECT_NAME = \"gee-sand\"\n",
    "BUCKET_NAME = \"sand_mining\"\n",
    "PROJECT_ID = 'cljoqdjei070j0729f20hc5sx'\n",
    "LABELBOX_API_KEY = os.getenv('LABELBOX_API_KEY')\n",
    "\n",
    "gcp_client = storage.Client(project=GCP_PROJECT_NAME)\n",
    "labelbox_client = LabelboxClient(api_key=LABELBOX_API_KEY)"
   ]
  },
  {
   "cell_type": "code",
   "execution_count": 36,
   "metadata": {},
   "outputs": [
    {
     "name": "stdout",
     "output_type": "stream",
     "text": [
      "Finished without errors.\n"
     ]
    }
   ],
   "source": [
    "project = labelbox_client.get_project(PROJECT_ID)\n",
    "export = project.export_v2()\n",
    "\n",
    "export.wait_till_done()\n",
    "if export.errors:\n",
    "  print(\"Errors:\")\n",
    "  print(export.errors)\n",
    "else:\n",
    "  print(\"Finished without errors.\")\n",
    "  export_full_project = export.result"
   ]
  },
  {
   "cell_type": "markdown",
   "metadata": {},
   "source": []
  },
  {
   "cell_type": "code",
   "execution_count": 49,
   "metadata": {},
   "outputs": [
    {
     "name": "stdout",
     "output_type": "stream",
     "text": [
      "Processing annotations for Ken_Banda_80-35_25-68_2022-03-29_rgb.tif\n",
      "Processing annotations for Ken_Banda_80-35_25-68_2022-12-29_rgb.tif\n",
      "Processing annotations for Ken_Banda_80-35_25-68_2022-03-09_rgb.tif\n",
      "Processing annotations for Ken_Banda_80-35_25-68_2022-04-08_rgb.tif\n",
      "Processing annotations for Ken_Banda_80-35_25-68_2022-05-28_rgb.tif\n",
      "Processing annotations for Sone_Rohtas_84-21_24-91_2022-04-30_rgb.tif\n",
      "Processing annotations for Sone_Rohtas_84-21_24-91_2022-11-26_rgb.tif\n",
      "Processing annotations for Sone_Rohtas_84-21_24-91_2022-05-20_rgb.tif\n",
      "Processing annotations for Sone_Rohtas_84-21_24-91_2022-03-01_rgb.tif\n",
      "Processing annotations for Sone_Rohtas_84-21_24-91_2022-12-16_rgb.tif\n",
      "Processing annotations for Kathajodi_Cuttack_85-85_20-44_2022-05-17_rgb.tif\n",
      "Processing annotations for Kathajodi_Cuttack_85-85_20-44_2022-03-03_rgb.tif\n",
      "Processing annotations for Kathajodi_Cuttack_85-85_20-44_2022-05-02_rgb.tif\n",
      "Processing annotations for Kathajodi_Cuttack_85-85_20-44_2022-12-28_rgb.tif\n",
      "Processing annotations for Betwa_Hamirpur_79-81_25-91_2022-04-01_rgb.tif\n",
      "Processing annotations for Betwa_Hamirpur_79-81_25-91_2022-05-11_rgb.tif\n",
      "Processing annotations for Betwa_Hamirpur_79-81_25-91_2022-03-22_rgb.tif\n",
      "Processing annotations for Betwa_Hamirpur_79-81_25-91_2022-11-02_rgb.tif\n",
      "Processing annotations for Betwa_Hamirpur_79-81_25-91_2022-12-22_rgb.tif\n",
      "Processing annotations for Tawa_Hoshangabad_77-80_22-74_2022-12-27_rgb.tif\n",
      "Processing annotations for Tawa_Hoshangabad_77-80_22-74_2022-05-26_rgb.tif\n",
      "Processing annotations for Tawa_Hoshangabad_77-80_22-74_2022-03-02_rgb.tif\n",
      "Processing annotations for Tawa_Hoshangabad_77-80_22-74_2022-10-23_rgb.tif\n",
      "Processing annotations for Narmada_Sehore_77-32_22-56_2022-10-23_rgb.tif\n",
      "Processing annotations for Narmada_Sehore_77-32_22-56_2022-05-31_rgb.tif\n",
      "Processing annotations for Narmada_Sehore_77-32_22-56_2022-04-11_rgb.tif\n",
      "Processing annotations for Narmada_Sehore_77-32_22-56_2022-11-22_rgb.tif\n",
      "Processing annotations for Narmada_Sehore_77-32_22-56_2022-03-22_rgb.tif\n",
      "Processing annotations for Narmada_Sehore_77-32_22-56_2022-12-27_rgb.tif\n",
      "Processing annotations for Chambal_More_77-86_26-61_2022-04-09_rgb.tif\n",
      "Processing annotations for Chambal_More_77-86_26-61_2022-10-01_rgb.tif\n",
      "Processing annotations for Chambal_More_77-86_26-61_2022-11-05_rgb.tif\n",
      "Processing annotations for Chambal_More_77-86_26-61_2022-03-02_rgb.tif\n"
     ]
    }
   ],
   "source": [
    "from pprint import pprint\n",
    "\n",
    "for data_row_export in export_full_project:\n",
    "    global_key_data_row = data_row_export['data_row']['global_key']\n",
    "\n",
    "    # Hack. With this particular data row, there is something weird in Label.\n",
    "    # Maybe consensus was turned on when the datarow was queued. I've been unable to reverse it.\n",
    "    # Let's just skip this data row. \n",
    "    if global_key_data_row == \"Sone_Rohtas_84-21_24-91_2022-03-31_rgb.tif\":\n",
    "        continue\n",
    "\n",
    "    print(f\"Processing annotations for {global_key_data_row}\")\n",
    "    annotated_objects = get_annotation_objects_from_data_row_export(data_row_export)\n",
    "    \n",
    "    geojson_feature_collection = get_geojson_fc_from_annotation_objects(annotated_objects)\n",
    "    annotation_destination_path = get_annotation_path(global_key_data_row)\n",
    "    gcp_utils.upload_json(gcp_client, geojson_feature_collection, annotation_destination_path)\n",
    "    "
   ]
  },
  {
   "cell_type": "code",
   "execution_count": null,
   "metadata": {},
   "outputs": [],
   "source": []
  }
 ],
 "metadata": {
  "kernelspec": {
   "display_name": "rastervis",
   "language": "python",
   "name": "python3"
  },
  "language_info": {
   "codemirror_mode": {
    "name": "ipython",
    "version": 3
   },
   "file_extension": ".py",
   "mimetype": "text/x-python",
   "name": "python",
   "nbconvert_exporter": "python",
   "pygments_lexer": "ipython3",
   "version": "3.9.17"
  }
 },
 "nbformat": 4,
 "nbformat_minor": 4
}
