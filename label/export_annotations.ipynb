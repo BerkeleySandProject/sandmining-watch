{
 "cells": [
  {
   "attachments": {},
   "cell_type": "markdown",
   "metadata": {},
   "source": [
    "### Export annotations from Labelbox to GCP storage"
   ]
  },
  {
   "cell_type": "code",
   "execution_count": null,
   "metadata": {
    "tags": []
   },
   "outputs": [],
   "source": [
    "import os, sys\n",
    "sys.path.insert(0, os.path.abspath('..'))\n",
    "\n",
    "%load_ext autoreload\n",
    "%autoreload 2"
   ]
  },
  {
   "cell_type": "code",
   "execution_count": null,
   "metadata": {},
   "outputs": [],
   "source": [
    "from google.cloud import storage\n",
    "from labelbox import Client as LabelboxClient\n",
    "\n",
    "from utils import gcp_utils\n",
    "from utils.data_management import get_annotation_path\n",
    "from utils.labelbox_utils import get_annotation_objects_from_data_row_export, get_geojson_fc_from_annotation_objects"
   ]
  },
  {
   "cell_type": "code",
   "execution_count": null,
   "metadata": {},
   "outputs": [],
   "source": [
    "# Load environment variables from .env.\n",
    "# Alternatively, manually set environment variables.\n",
    "\n",
    "from dotenv import load_dotenv\n",
    "load_dotenv()"
   ]
  },
  {
   "cell_type": "code",
   "execution_count": null,
   "metadata": {},
   "outputs": [],
   "source": [
    "\n",
    "from project_config import LABELBOX_PROJECT_ID, GCP_PROJECT_NAME\n",
    "LABELBOX_API_KEY = os.getenv('LABELBOX_API_KEY')\n",
    "\n",
    "gcp_client = storage.Client(project=GCP_PROJECT_NAME)\n",
    "labelbox_client = LabelboxClient(api_key=LABELBOX_API_KEY)\n",
    "project = labelbox_client.get_project(LABELBOX_PROJECT_ID)\n"
   ]
  },
  {
   "cell_type": "code",
   "execution_count": null,
   "metadata": {},
   "outputs": [],
   "source": [
    "# CAREFUL\n",
    "# Use with caution\n",
    "\n",
    "# The following deletes all files in our GCP bucket with a _annotations.geojson file ending\n",
    "\n",
    "\"\"\"\n",
    "from project_config import BUCKET_NAME\n",
    "\n",
    "bucket = gcp_client.get_bucket(BUCKET_NAME)\n",
    "for blob in bucket.list_blobs():\n",
    "    if blob.name.endswith(\"_annotations.geojson\"):\n",
    "        print(f\"Deleting {blob} .. \")\n",
    "        blob.delete()\n",
    "\"\"\""
   ]
  },
  {
   "cell_type": "code",
   "execution_count": null,
   "metadata": {},
   "outputs": [],
   "source": [
    "export_params = {\"project_details\": True}\n",
    "export = project.export_v2(params=export_params)\n",
    "\n",
    "export.wait_till_done()\n",
    "if export.errors:\n",
    "  print(\"Errors:\")\n",
    "  print(export.errors)\n",
    "else:\n",
    "  export_full_project = export.result\n",
    "  print(f\"Finished without errors. Total export contains {len(export_full_project)} data rows.\")\n",
    "  print(len(export_full_project))"
   ]
  },
  {
   "cell_type": "code",
   "execution_count": null,
   "metadata": {},
   "outputs": [],
   "source": [
    "from project_config import LABELBOX_PROJECT_ID\n",
    "\n",
    "for data_row_export in export_full_project:\n",
    "    global_key_data_row = data_row_export['data_row']['global_key']\n",
    "\n",
    "    workflow_status = data_row_export['projects'][LABELBOX_PROJECT_ID]['project_details']['workflow_status']\n",
    "    # We filter depending on workflow_status\n",
    "    if workflow_status in [\"IN_REWORK\", \"TO_LABEL\", \"IN_REVIEW\"]:\n",
    "        continue\n",
    "    assert workflow_status == \"DONE\"\n",
    "    \n",
    "    print(f\"Processing annotations for {global_key_data_row}\")\n",
    "    annotated_objects = get_annotation_objects_from_data_row_export(data_row_export)\n",
    "    \n",
    "    geojson_feature_collection = get_geojson_fc_from_annotation_objects(annotated_objects)\n",
    "    annotation_destination_path = get_annotation_path(global_key_data_row)\n",
    "    gcp_utils.upload_json(gcp_client, geojson_feature_collection, annotation_destination_path)\n",
    "    "
   ]
  },
  {
   "cell_type": "code",
   "execution_count": null,
   "metadata": {},
   "outputs": [],
   "source": []
  }
 ],
 "metadata": {
  "kernelspec": {
   "display_name": "rastervision",
   "language": "python",
   "name": "python3"
  },
  "language_info": {
   "codemirror_mode": {
    "name": "ipython",
    "version": 3
   },
   "file_extension": ".py",
   "mimetype": "text/x-python",
   "name": "python",
   "nbconvert_exporter": "python",
   "pygments_lexer": "ipython3",
   "version": "3.9.17"
  }
 },
 "nbformat": 4,
 "nbformat_minor": 4
}
