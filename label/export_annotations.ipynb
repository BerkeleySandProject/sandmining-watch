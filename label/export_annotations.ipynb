{
 "cells": [
  {
   "attachments": {},
   "cell_type": "markdown",
   "metadata": {},
   "source": [
    "### Export annotations from Labelbox to GCP storage"
   ]
  },
  {
   "cell_type": "code",
   "execution_count": 2,
   "metadata": {
    "tags": []
   },
   "outputs": [],
   "source": [
    "import os, sys\n",
    "sys.path.insert(0, os.path.abspath('..'))\n",
    "\n",
    "%load_ext autoreload\n",
    "%autoreload 2"
   ]
  },
  {
   "cell_type": "code",
   "execution_count": 3,
   "metadata": {},
   "outputs": [
    {
     "name": "stderr",
     "output_type": "stream",
     "text": [
      "/home/ando/.conda/envs/raster_vision/lib/python3.9/site-packages/geopandas/_compat.py:123: UserWarning: The Shapely GEOS version (3.11.2-CAPI-1.17.2) is incompatible with the GEOS version PyGEOS was compiled with (3.10.3-CAPI-1.16.1). Conversions between both will be slow.\n",
      "  warnings.warn(\n",
      "/home/ando/.conda/envs/raster_vision/lib/python3.9/site-packages/rastervision/core/data/raster_source/rasterized_source.py:6: UserWarning: Shapely 2.0 is installed, but because PyGEOS is also installed, GeoPandas will still use PyGEOS by default for now. To force to use and test Shapely 2.0, you have to set the environment variable USE_PYGEOS=0. You can do this before starting the Python process, or in your code before importing geopandas:\n",
      "\n",
      "import os\n",
      "os.environ['USE_PYGEOS'] = '0'\n",
      "import geopandas\n",
      "\n",
      "In a future release, GeoPandas will switch to using Shapely by default. If you are using PyGEOS directly (calling PyGEOS functions on geometries from GeoPandas), this will then stop working and you are encouraged to migrate from PyGEOS to Shapely 2.0 (https://shapely.readthedocs.io/en/latest/migration_pygeos.html).\n",
      "  import geopandas as gpd\n"
     ]
    }
   ],
   "source": [
    "%reload_ext autoreload"
   ]
  },
  {
   "cell_type": "code",
   "execution_count": 4,
   "metadata": {},
   "outputs": [
    {
     "name": "stderr",
     "output_type": "stream",
     "text": [
      "2023-10-17 16:30:15:rastervision.pipeline.rv_config: WARNING - Root temporary directory cannot be used: /data/tmp. Using root: /data/tmp/tmpulp9xr_c\n"
     ]
    }
   ],
   "source": [
    "from google.cloud import storage\n",
    "from labelbox import Client as LabelboxClient\n",
    "\n",
    "from utils import gcp_utils\n",
    "from utils.data_management import get_annotation_path\n",
    "from utils.labelbox_utils import get_annotation_objects_from_data_row_export, get_geojson_fc_from_annotation_objects, get_confidence_geojson_fc_from_annotation_objects"
   ]
  },
  {
   "cell_type": "code",
   "execution_count": 4,
   "metadata": {},
   "outputs": [
    {
     "data": {
      "text/plain": [
       "True"
      ]
     },
     "execution_count": 4,
     "metadata": {},
     "output_type": "execute_result"
    }
   ],
   "source": [
    "# Load environment variables from .env.\n",
    "# Alternatively, manually set environment variables.\n",
    "\n",
    "from dotenv import load_dotenv\n",
    "load_dotenv()"
   ]
  },
  {
   "cell_type": "code",
   "execution_count": 5,
   "metadata": {},
   "outputs": [],
   "source": [
    "from project_config import LABELBOX_PROJECT_ID, GCP_PROJECT_NAME\n",
    "LABELBOX_API_KEY = os.getenv('LABELBOX_API_KEY')\n",
    "\n",
    "gcp_client = storage.Client(project=GCP_PROJECT_NAME)\n",
    "labelbox_client = LabelboxClient(api_key=LABELBOX_API_KEY)\n",
    "project = labelbox_client.get_project(LABELBOX_PROJECT_ID)"
   ]
  },
  {
   "cell_type": "code",
   "execution_count": 5,
   "metadata": {},
   "outputs": [
    {
     "data": {
      "text/plain": [
       "'\\nfrom project_config import BUCKET_NAME\\n\\nbucket = gcp_client.get_bucket(BUCKET_NAME)\\nfor blob in bucket.list_blobs():\\n    if blob.name.endswith(\"_annotations.geojson\"):\\n        print(f\"Deleting {blob} .. \")\\n        blob.delete()\\n'"
      ]
     },
     "execution_count": 5,
     "metadata": {},
     "output_type": "execute_result"
    }
   ],
   "source": [
    "# CAREFUL\n",
    "# Use with caution\n",
    "\n",
    "# The following deletes all files in our GCP bucket with a _annotations.geojson file ending\n",
    "\n",
    "\"\"\"\n",
    "from project_config import BUCKET_NAME\n",
    "\n",
    "bucket = gcp_client.get_bucket(BUCKET_NAME)\n",
    "for blob in bucket.list_blobs():\n",
    "    if blob.name.endswith(\"_annotations.geojson\"):\n",
    "        print(f\"Deleting {blob} .. \")\n",
    "        blob.delete()\n",
    "\"\"\""
   ]
  },
  {
   "cell_type": "code",
   "execution_count": 6,
   "metadata": {},
   "outputs": [
    {
     "name": "stdout",
     "output_type": "stream",
     "text": [
      "Finished without errors. Total export contains 186 data rows.\n",
      "186\n"
     ]
    }
   ],
   "source": [
    "export_params = {\"project_details\": True}\n",
    "export = project.export_v2(params=export_params)\n",
    "\n",
    "export.wait_till_done()\n",
    "if export.errors:\n",
    "  print(\"Errors:\")\n",
    "  print(export.errors)\n",
    "else:\n",
    "  export_full_project = export.result\n",
    "  print(f\"Finished without errors. Total export contains {len(export_full_project)} data rows.\")\n",
    "  print(len(export_full_project))"
   ]
  },
  {
   "cell_type": "code",
   "execution_count": 10,
   "metadata": {},
   "outputs": [
    {
     "name": "stdout",
     "output_type": "stream",
     "text": [
      "Processing annotations for Kathajodi_Cuttack_85-85_20-44_2022-05-01_rgb_median\n",
      "Processing annotations for Kathajodi_Cuttack_85-85_20-44_2022-02-01_rgb_median\n",
      "Processing annotations for Ken_Banda_80-35_25-68_2022-06-01_rgb_median\n",
      "Processing annotations for Ken_Banda_80-35_25-68_2022-01-01_rgb_median\n",
      "Processing annotations for Narmada_Sehore_77-32_22-56_2022-01-01_rgb_median\n",
      "Processing annotations for Narmada_Sehore_77-32_22-56_2022-10-01_rgb_median\n",
      "Processing annotations for Tawa_Hoshangabad_77-80_22-74_2022-04-01_rgb_median\n",
      "Processing annotations for Tawa_Hoshangabad_77-80_22-74_2022-01-01_rgb_median\n",
      "Processing annotations for Sone_Rohtas_84-21_24-91_2022-02-01_rgb_median\n",
      "Processing annotations for Sone_Rohtas_84-21_24-91_2022-05-01_rgb_median\n",
      "Processing annotations for Sone_Rohtas_83-86_24-46_2023-01-01_rgb_median\n",
      "Processing annotations for Sone_Rohtas_83-86_24-46_2023-06-01_rgb_median\n",
      "Processing annotations for Bhargavi_Khordha_85-88_20-26_2018-12-01_rgb_median\n",
      "Processing annotations for Bhargavi_Khordha_85-88_20-26_2019-05-01_rgb_median\n",
      "Processing annotations for Ganges_Patna_85-23_25-62_2022-02-01_rgb_median\n",
      "Processing annotations for Ganges_Patna_85-23_25-62_2022-05-01_rgb_median\n",
      "Processing annotations for Ganges_Patna_85-1_25-66_2020-04-01_rgb_median\n",
      "Processing annotations for Ganges_Patna_85-1_25-66_2019-11-01_rgb_median\n",
      "Processing annotations for Chambal_More_77-92_26-66_2023-01-01_rgb_median\n",
      "Processing annotations for Chambal_More_77-92_26-66_2023-06-01_rgb_median\n",
      "Processing annotations for Damodar_PurbaBardhaman_87-73_23-24_2022-11-01_rgb_median\n",
      "Processing annotations for Damodar_PurbaBardhaman_87-73_23-24_2023-04-01_rgb_median\n",
      "Processing annotations for Mayurakshi_Birbhum_87-66_23-61_2022-10-01_rgb_median\n",
      "Processing annotations for Mayurakshi_Birbhum_87-66_23-61_2023-05-01_rgb_median\n",
      "Processing annotations for Sone_Patna_84-76_25-44_2022-10-01_rgb_median\n",
      "Processing annotations for Sone_Patna_84-76_25-44_2023-06-01_rgb_median\n",
      "Processing annotations for Mahananda_Jalpaiguri_88-4_26-68_2020-11-01_rgb_median\n",
      "Processing annotations for Damodar_PurbaBardhaman_87-39_23-42_2022-10-01_rgb_median\n",
      "Processing annotations for Teesta_Jalpaiguri_88-6_26-84_2021-12-01_rgb_median\n",
      "Processing annotations for Mahananda_Jalpaiguri_88-4_26-68_2021-05-01_rgb_median\n",
      "Processing annotations for Betwa_Jalaun_79-49_25-84_2022-10-01_rgb_median\n",
      "Processing annotations for Betwa_Jalaun_79-49_25-84_2023-05-01_rgb_median\n",
      "Processing annotations for Betwa_Jalaun_79-79_25-89_2022-10-01_rgb_median\n",
      "Processing annotations for Betwa_Jalaun_79-79_25-89_2023-05-01_rgb_median\n",
      "Processing annotations for Mahanadi_Angul_84-52_20-71_2021-11-01_rgb_median\n",
      "Processing annotations for Mahanadi_Angul_84-52_20-71_2022-04-01_rgb_median\n",
      "Processing annotations for Mahananda_UttarDinajpur_88-25_26-46_2020-10-01_rgb_median\n",
      "Processing annotations for Mahananda_UttarDinajpur_88-25_26-46_2021-04-01_rgb_median\n",
      "Processing annotations for Teesta_Jalpaiguri_88-64_26-85_2020-01-01_rgb_median\n",
      "Processing annotations for Teesta_Jalpaiguri_88-64_26-85_2021-05-01_rgb_median\n",
      "Processing annotations for Gangadhar_CoochBehar_89-86_26-46_2021-12-01_rgb_median\n",
      "Processing annotations for Gangadhar_CoochBehar_89-86_26-46_2022-03-01_rgb_median\n",
      "Processing annotations for Damodar_PurbaBardhaman_87-39_23-42_2023-03-01_rgb_median\n",
      "Processing annotations for Palar_Ranipet_79-43_12-88_2019-04-01_rgb_median\n",
      "Processing annotations for Palar_Ranipet_79-43_12-88_2019-08-01_rgb_median\n",
      "Processing annotations for Godavari_EastGodavari_81-05_17-62_2022-05-01_rgb_median\n",
      "Processing annotations for Godavari_EastGodavari_81-05_17-62_2022-10-01_rgb_median\n",
      "Processing annotations for Damodar_PurbaBardhaman_86-93_22-88_2022-10-01_rgb_median\n",
      "Processing annotations for Damodar_PurbaBardhaman_86-93_22-88_2022-04-01_rgb_median\n",
      "Processing annotations for Sone_Patna_84-0_24-62_2022-02-01_rgb_median\n",
      "Processing annotations for Sone_Patna_84-0_24-62_2023-04-01_rgb_median\n",
      "Processing annotations for Sone_Arwal_83-15_24-4_2022-05-01_rgb_median\n",
      "Processing annotations for Sone_Arwal_83-15_24-4_2022-02-01_rgb_median\n",
      "Processing annotations for Penna_Nellore_79-78_14-56_2019-08-01_rgb_median\n",
      "Processing annotations for Penna_Nellore_79-78_14-56_2019-04-01_rgb_median\n",
      "Processing annotations for Godavari_EastGodavari_81-81_16-79_2022-03-01_rgb_median\n",
      "Processing annotations for Godavari_EastGodavari_81-81_16-79_2023-02-01_rgb_median\n",
      "Processing annotations for Godavari_EastGodavari_81-78_16-9_2022-03-01_rgb_median\n",
      "Processing annotations for Godavari_EastGodavari_81-78_16-9_2022-06-01_rgb_median\n",
      "Processing annotations for Godavari_EastGodavari_81-71_17-09_2021-12-01_rgb_median\n",
      "Processing annotations for Godavari_EastGodavari_81-71_17-09_2022-04-01_rgb_median\n",
      "Processing annotations for Godavari_EastGodavari_81-9_16-75_2023-02-01_rgb_median\n",
      "Processing annotations for Godavari_EastGodavari_81-9_16-75_2023-04-01_rgb_median\n",
      "Processing annotations for Godavari_BhadradriKothagudem_80-79_18-04_2022-02-01_rgb_median\n",
      "Processing annotations for Godavari_BhadradriKothagudem_80-79_18-04_2022-05-01_rgb_median\n",
      "Processing annotations for Banas_Banaskantha_71-93_23-96_2022-11-01_rgb_median\n",
      "Processing annotations for Banas_Banaskantha_71-93_23-96_2023-05-01_rgb_median\n",
      "Processing annotations for Godavari_EastGodavari_80-89_17-72_2021-12-01_rgb_median\n",
      "Processing annotations for Godavari_EastGodavari_80-89_17-72_2022-05-01_rgb_median\n",
      "Processing annotations for Godavari_EastGodavari_80-89_17-72_2022-04-01_rgb_median\n",
      "Processing annotations for Banas_Banaskantha_72-04_24-11_2022-11-01_rgb_median\n",
      "Processing annotations for Banas_Banaskantha_72-04_24-11_2023-05-01_rgb_median\n",
      "Processing annotations for Waiganga_Gondiya_80-11_21-59_2021-03-01_rgb_median\n",
      "Processing annotations for Waiganga_Gondiya_80-11_21-59_2022-10-01_rgb_median\n",
      "Processing annotations for Waiganga_Gondiya_80-16_21-62_2019-01-01_rgb_median\n",
      "Processing annotations for Waiganga_Gondiya_80-16_21-62_2022-02-01_rgb_median\n",
      "Processing annotations for Waiganga_Gondiya_80-03_21-55_2023-05-01_rgb_median\n",
      "Processing annotations for Waiganga_Gondiya_80-03_21-55_2023-01-01_rgb_median\n",
      "Processing annotations for Kanhan_Nagpur_79-17_21-27_2022-06-01_rgb_median\n",
      "Processing annotations for Kanhan_Nagpur_79-17_21-27_2021-12-01_rgb_median\n"
     ]
    }
   ],
   "source": [
    "from project_config import LABELBOX_PROJECT_ID, is_validation, is_training\n",
    "from utils.data_management import generate_observation_pointer\n",
    "from dataclasses import dataclass, asdict\n",
    "import json, random\n",
    "\n",
    "annotation_json_list = []\n",
    "\n",
    "annotated_objects= None\n",
    "\n",
    "for data_row_export in export_full_project:\n",
    "    global_key_data_row = data_row_export['data_row']['global_key']\n",
    "\n",
    "    workflow_status = data_row_export['projects'][LABELBOX_PROJECT_ID]['project_details']['workflow_status']\n",
    "    # We filter depending on workflow_status\n",
    "    # if workflow_status in [\"IN_REWORK\", \"TO_LABEL\", \"IN_REVIEW\"]:\n",
    "    #     continue\n",
    "    # assert workflow_status == \"DONE\"\n",
    "\n",
    "    if data_row_export['data_row']['id'] == 'clmjq31xe0qpy073u29vcbtd3':\n",
    "        print (\"Found It\")\n",
    "        \n",
    "    \n",
    "    print(f\"Processing annotations for {global_key_data_row}\")\n",
    "    annotated_objects = get_annotation_objects_from_data_row_export(data_row_export)\n",
    "    \n",
    "    geojson_feature_collection = get_geojson_fc_from_annotation_objects(annotated_objects)\n",
    "    annotation_destination_path = get_annotation_path(global_key_data_row)\n",
    "\n",
    "    observation_pointer = generate_observation_pointer(annotation_destination_path, global_key_data_row, cluster_id=random.randint(1, 10))\n",
    "\n",
    "    #Force cluster to be zero for the hand crafted test set for now\n",
    "    #TODO: Remove this once we have a proper cluster assignment function\n",
    "    if is_validation(observation_pointer.name) and not is_training(observation_pointer.name):\n",
    "        observation_pointer.cluster_id = 0\n",
    "\n",
    "\n",
    "    #convert to dict\n",
    "    obs_dict = asdict(observation_pointer)\n",
    "    annotation_json_list.append(obs_dict)\n",
    "\n",
    "    #Upload annotations geojsons to GCP folders\n",
    "    gcp_utils.upload_json(gcp_client, geojson_feature_collection, annotation_destination_path)\n",
    "\n",
    "#get today's date\n",
    "from datetime import date\n",
    "today = date.today().strftime(\"%Y-%m-%d\")\n",
    "\n",
    "filename = \"dataset_{version}_{date}.json\".format(version=\"v0.1.0\", date=today)\n",
    "# get the current working directory\n",
    "root_dir = os.getcwd()\n",
    "\n",
    "# define the path to the new directory\n",
    "dataset_dir = os.path.join(root_dir, '../dataset')\n",
    "\n",
    "# create the directory if it doesn't exist\n",
    "if not os.path.exists(dataset_dir):\n",
    "    os.makedirs(dataset_dir)\n",
    "\n",
    "filename = os.path.join(dataset_dir, filename)\n",
    "\n",
    "# print (filename)\n",
    "with open(filename, 'w') as f:\n",
    "    json.dump(annotation_json_list, f)"
   ]
  }
 ],
 "metadata": {
  "kernelspec": {
   "display_name": "rastervision",
   "language": "python",
   "name": "python3"
  },
  "language_info": {
   "codemirror_mode": {
    "name": "ipython",
    "version": 3
   },
   "file_extension": ".py",
   "mimetype": "text/x-python",
   "name": "python",
   "nbconvert_exporter": "python",
   "pygments_lexer": "ipython3",
   "version": "3.9.16"
  }
 },
 "nbformat": 4,
 "nbformat_minor": 4
}
