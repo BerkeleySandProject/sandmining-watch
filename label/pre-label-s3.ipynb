{
 "cells": [
  {
   "cell_type": "code",
   "execution_count": 2,
   "metadata": {},
   "outputs": [
    {
     "name": "stderr",
     "output_type": "stream",
     "text": [
      "2023-07-08 20:20:53:rastervision.pipeline.rv_config: WARNING - Root temporary directory cannot be used: /data/tmp. Using root: /data/tmp/tmpjawszlh1\n"
     ]
    }
   ],
   "source": [
    "import os, sys\n",
    "from labelbox import Client, DataRow\n",
    "from uuid import uuid4 ## to generate unique IDs\n",
    "import datetime \n",
    "sys.path.insert(0, os.path.abspath('..'))\n",
    "import config\n",
    "\n",
    "import boto3\n",
    "from labelbox import Client\n",
    "\n",
    "\n"
   ]
  },
  {
   "cell_type": "code",
   "execution_count": 3,
   "metadata": {},
   "outputs": [],
   "source": [
    "%load_ext autoreload\n",
    "%autoreload 2"
   ]
  },
  {
   "cell_type": "code",
   "execution_count": 4,
   "metadata": {},
   "outputs": [],
   "source": [
    "%reload_ext autoreload\n",
    "import utils.s3_utils as s3_utils"
   ]
  },
  {
   "cell_type": "markdown",
   "metadata": {},
   "source": [
    "# Fetch all API KEYs\n",
    "Make sure your labelbox api key is securely stored in your environment variables. You can find your api key in your labelbox account settings.\n",
    "\n",
    "Similarly make sure you have the AWS Public and secret keys stored in your environment variables. You can find your AWS keys in your AWS account settings."
   ]
  },
  {
   "cell_type": "code",
   "execution_count": 5,
   "metadata": {},
   "outputs": [],
   "source": [
    "lb_apikey = os.environ.get('LABELBOX_API_KEY')\n",
    "aws_pubkey = os.environ.get('AWS_ACCESS_KEY')\n",
    "aws_secret = os.environ.get('AWS_SECRET_KEY')\n",
    "s3_bucket = 'sandmines'\n",
    "s3_folder = 'test/'\n",
    "s3_location = 'us-west-1'"
   ]
  },
  {
   "cell_type": "markdown",
   "metadata": {},
   "source": [
    "## Setup S3"
   ]
  },
  {
   "cell_type": "code",
   "execution_count": 11,
   "metadata": {},
   "outputs": [],
   "source": [
    "s3 = boto3.client('s3',\n",
    "                    aws_access_key_id=aws_pubkey, \n",
    "                    aws_secret_access_key=aws_secret, \n",
    "                    region_name=s3_location)"
   ]
  },
  {
   "cell_type": "code",
   "execution_count": 12,
   "metadata": {},
   "outputs": [
    {
     "name": "stdout",
     "output_type": "stream",
     "text": [
      "['labels/', 'test/']\n"
     ]
    }
   ],
   "source": [
    "folders = s3_utils.list_folders(s3, 'sandmines')\n",
    "print (folders)"
   ]
  },
  {
   "cell_type": "markdown",
   "metadata": {},
   "source": [
    "## Set observation name"
   ]
  },
  {
   "cell_type": "code",
   "execution_count": 13,
   "metadata": {},
   "outputs": [],
   "source": [
    "dataset_name = 'Sone_Dehri_XX-xx_YY-yy'"
   ]
  },
  {
   "cell_type": "markdown",
   "metadata": {},
   "source": [
    "## Fetch link to timelapse"
   ]
  },
  {
   "cell_type": "code",
   "execution_count": 14,
   "metadata": {},
   "outputs": [
    {
     "name": "stdout",
     "output_type": "stream",
     "text": [
      "https://s3-us-west-1.amazonaws.com/sandmines/test/Sone_Dehri_XX-xx_YY-yy/Sone_Dehri_XX.xx_YY.yy_timelapse.mp4\n"
     ]
    }
   ],
   "source": [
    "key = s3_folder + dataset_name \n",
    "files = s3_utils.list_files(s3, s3_bucket, key)\n",
    "\n",
    "#filter for the files with '_timelapse' in the name\n",
    "timelapse_file = [file for file in files if 'timelapse' in file][0]\n",
    "\n",
    "timelapse_url = s3_utils.get_public_url(s3_location, s3_bucket, timelapse_file)\n",
    "print (timelapse_url)"
   ]
  },
  {
   "cell_type": "markdown",
   "metadata": {},
   "source": [
    "## Fetch all RGB files in the dataset"
   ]
  },
  {
   "cell_type": "code",
   "execution_count": 15,
   "metadata": {},
   "outputs": [
    {
     "name": "stdout",
     "output_type": "stream",
     "text": [
      "['test/Sone_Dehri_XX-xx_YY-yy/rgb/Sone_Dehri_XX-xx_YY-yy_YYYYMM22_rgb.tif', 'test/Sone_Dehri_XX-xx_YY-yy/rgb/Sone_Dehri_XX-xx_YY-yy_YYYYMMDD_rgb.tif']\n"
     ]
    }
   ],
   "source": [
    "key = s3_folder + dataset_name + '/rgb'\n",
    "files = s3_utils.list_files(s3, s3_bucket, key)\n",
    "\n",
    "print (files)"
   ]
  },
  {
   "cell_type": "code",
   "execution_count": 16,
   "metadata": {},
   "outputs": [
    {
     "data": {
      "text/plain": [
       "[{'row_data': {'tile_layer_url': 'https://s3-us-west-1.amazonaws.com/sandmines/test/Sone_Dehri_XX-xx_YY-yy/rgb/Sone_Dehri_XX-xx_YY-yy_YYYYMM22_rgb.tif',\n",
       "   'min_zoom': 12,\n",
       "   'max_zoom': 20,\n",
       "   'epsg': 'EPSG4326',\n",
       "   'name': 'RGB',\n",
       "   'alternative_layers': [{'tile_layer_url': 'https://api.mapbox.com/styles/v1/mapbox/satellite-v9/tiles/{z}/{x}/{y}?access_token=pk.eyJ1IjoiYW5kby1zaGFoIiwiYSI6ImNsanFmNDJiYzA1ZHYzaW5nazY4YWU3cDEifQ.mABfTStcXV1cMQyAna8_gQ',\n",
       "     'name': 'Hi-res Guidance'}]},\n",
       "  'global_key': 'Sone_Dehri_XX-xx_YY-yy_YYYYMM22_rgb',\n",
       "  'media_type': 'TMS_GEO',\n",
       "  'attachments': [{'type': 'VIDEO',\n",
       "    'value': 'https://s3-us-west-1.amazonaws.com/sandmines/test/Sone_Dehri_XX-xx_YY-yy/Sone_Dehri_XX.xx_YY.yy_timelapse.mp4'}]},\n",
       " {'row_data': {'tile_layer_url': 'https://s3-us-west-1.amazonaws.com/sandmines/test/Sone_Dehri_XX-xx_YY-yy/rgb/Sone_Dehri_XX-xx_YY-yy_YYYYMMDD_rgb.tif',\n",
       "   'min_zoom': 12,\n",
       "   'max_zoom': 20,\n",
       "   'epsg': 'EPSG4326',\n",
       "   'name': 'RGB',\n",
       "   'alternative_layers': [{'tile_layer_url': 'https://api.mapbox.com/styles/v1/mapbox/satellite-v9/tiles/{z}/{x}/{y}?access_token=pk.eyJ1IjoiYW5kby1zaGFoIiwiYSI6ImNsanFmNDJiYzA1ZHYzaW5nazY4YWU3cDEifQ.mABfTStcXV1cMQyAna8_gQ',\n",
       "     'name': 'Hi-res Guidance'}]},\n",
       "  'global_key': 'Sone_Dehri_XX-xx_YY-yy_YYYYMMDD_rgb',\n",
       "  'media_type': 'TMS_GEO',\n",
       "  'attachments': [{'type': 'VIDEO',\n",
       "    'value': 'https://s3-us-west-1.amazonaws.com/sandmines/test/Sone_Dehri_XX-xx_YY-yy/Sone_Dehri_XX.xx_YY.yy_timelapse.mp4'}]}]"
      ]
     },
     "execution_count": 16,
     "metadata": {},
     "output_type": "execute_result"
    }
   ],
   "source": [
    "# for each item in files, create a new dictionary with the following keys:\n",
    "#\"row_data\" : the url of the image, get this using the get_public_url function\n",
    "#\"global_key\" : the file name, get this from the file variable, but remove the folder name and the .tif extension\n",
    "\n",
    "data_rows = []\n",
    "global_keys = []\n",
    "\n",
    "for file in files:\n",
    "    rgb_url = s3_utils.get_public_url(s3_location, s3_bucket, file)\n",
    "    global_key = file.split('/')[-1].split('.')[0]\n",
    "    # print (global_key, url)\n",
    "\n",
    "    this_row_data = {\n",
    "        \"tile_layer_url\": rgb_url,\n",
    "        \"min_zoom\": 12,\n",
    "        \"max_zoom\": 20,\n",
    "        \"epsg\": \"EPSG4326\",\n",
    "        \"name\" : \"RGB\",\n",
    "        \"alternative_layers\": [\n",
    "          {\n",
    "            \"tile_layer_url\": \"https://api.mapbox.com/styles/v1/mapbox/satellite-v9/tiles/{z}/{x}/{y}?access_token=pk.eyJ1IjoiYW5kby1zaGFoIiwiYSI6ImNsanFmNDJiYzA1ZHYzaW5nazY4YWU3cDEifQ.mABfTStcXV1cMQyAna8_gQ\",\n",
    "            \"name\": \"Hi-res Guidance\"\n",
    "          }\n",
    "        ]\n",
    "    }\n",
    "\n",
    "    data_rows.append({'row_data' : this_row_data,\n",
    "                      'global_key' : global_key,\n",
    "                      \"media_type\": \"TMS_GEO\",\n",
    "                        \"attachments\": [{\n",
    "                            \"type\": \"VIDEO\",\n",
    "                            \"value\": timelapse_url\n",
    "                            }]\n",
    "                    }) \n",
    "    global_keys.append(global_key)\n",
    "data_rows"
   ]
  },
  {
   "cell_type": "markdown",
   "metadata": {},
   "source": [
    "## Setup LabelBox client"
   ]
  },
  {
   "cell_type": "code",
   "execution_count": 19,
   "metadata": {},
   "outputs": [],
   "source": [
    "client = Client(api_key=lb_apikey)"
   ]
  },
  {
   "cell_type": "code",
   "execution_count": null,
   "metadata": {},
   "outputs": [],
   "source": [
    "dataset = client.create_dataset(name=dataset_name)"
   ]
  },
  {
   "cell_type": "markdown",
   "metadata": {},
   "source": [
    "## Send all images to LabelBox"
   ]
  },
  {
   "cell_type": "code",
   "execution_count": 72,
   "metadata": {},
   "outputs": [
    {
     "name": "stdout",
     "output_type": "stream",
     "text": [
      "None\n"
     ]
    }
   ],
   "source": [
    "task = dataset.create_data_rows(data_rows)\n",
    "task.wait_till_done()\n",
    "print(task.errors)"
   ]
  },
  {
   "cell_type": "markdown",
   "metadata": {},
   "source": [
    "# Download labeled data rows from LabelBox\n",
    "\n",
    "Only run this AFTER the labeling step is complete in the LabelBox cloud UI.\n",
    "DO NOT run it imediately after sending the images to LabelBox. It will return an empty dataset.\n",
    "\n",
    "\n",
    "`CURRENTLY NOT WORKING`"
   ]
  },
  {
   "cell_type": "code",
   "execution_count": 20,
   "metadata": {},
   "outputs": [
    {
     "name": "stdout",
     "output_type": "stream",
     "text": [
      "{'status': 'SUCCESS', 'results': ['cljujcxmg0acs075k9sjo45gz', 'cljujcxmg0acz075k96vf2tuz'], 'errors': []}\n"
     ]
    }
   ],
   "source": [
    "# this tests that the global keys were able to fetch all of the data rows we expect\n",
    "res = client.get_data_row_ids_for_global_keys(global_keys)\n",
    "\n",
    "print(res)\n",
    "# ---\n"
   ]
  },
  {
   "cell_type": "code",
   "execution_count": 21,
   "metadata": {},
   "outputs": [
    {
     "ename": "ResourceNotFoundError",
     "evalue": "Resource 'Project' not found for params: {'param_0': 'cljoqjqbu065d070wga4ue4jl'}(\"Resource 'Project' not found for params: {'param_0': 'cljoqjqbu065d070wga4ue4jl'}\", None)",
     "output_type": "error",
     "traceback": [
      "\u001b[0;31m---------------------------------------------------------------------------\u001b[0m",
      "\u001b[0;31mResourceNotFoundError\u001b[0m                     Traceback (most recent call last)",
      "Cell \u001b[0;32mIn[21], line 2\u001b[0m\n\u001b[1;32m      1\u001b[0m project_id \u001b[39m=\u001b[39m \u001b[39m'\u001b[39m\u001b[39mcljoqjqbu065d070wga4ue4jl\u001b[39m\u001b[39m'\u001b[39m  \u001b[39m#from LabelBox > Schema > <Project Name> General > ID\u001b[39;00m\n\u001b[0;32m----> 2\u001b[0m project \u001b[39m=\u001b[39m client\u001b[39m.\u001b[39;49mget_project(project_id)\n",
      "File \u001b[0;32m~/.conda/envs/raster_vision/lib/python3.9/site-packages/labelbox/client.py:442\u001b[0m, in \u001b[0;36mClient.get_project\u001b[0;34m(self, project_id)\u001b[0m\n\u001b[1;32m    429\u001b[0m \u001b[39mdef\u001b[39;00m \u001b[39mget_project\u001b[39m(\u001b[39mself\u001b[39m, project_id):\n\u001b[1;32m    430\u001b[0m \u001b[39m    \u001b[39m\u001b[39m\"\"\" Gets a single Project with the given ID.\u001b[39;00m\n\u001b[1;32m    431\u001b[0m \n\u001b[1;32m    432\u001b[0m \u001b[39m    >>> project = client.get_project(\"<project_id>\")\u001b[39;00m\n\u001b[0;32m   (...)\u001b[0m\n\u001b[1;32m    440\u001b[0m \u001b[39m            Project with the given ID.\u001b[39;00m\n\u001b[1;32m    441\u001b[0m \u001b[39m    \"\"\"\u001b[39;00m\n\u001b[0;32m--> 442\u001b[0m     \u001b[39mreturn\u001b[39;00m \u001b[39mself\u001b[39;49m\u001b[39m.\u001b[39;49m_get_single(Entity\u001b[39m.\u001b[39;49mProject, project_id)\n",
      "File \u001b[0;32m~/.conda/envs/raster_vision/lib/python3.9/site-packages/labelbox/client.py:424\u001b[0m, in \u001b[0;36mClient._get_single\u001b[0;34m(self, db_object_type, uid)\u001b[0m\n\u001b[1;32m    422\u001b[0m res \u001b[39m=\u001b[39m res \u001b[39mand\u001b[39;00m res\u001b[39m.\u001b[39mget(utils\u001b[39m.\u001b[39mcamel_case(db_object_type\u001b[39m.\u001b[39mtype_name()))\n\u001b[1;32m    423\u001b[0m \u001b[39mif\u001b[39;00m res \u001b[39mis\u001b[39;00m \u001b[39mNone\u001b[39;00m:\n\u001b[0;32m--> 424\u001b[0m     \u001b[39mraise\u001b[39;00m labelbox\u001b[39m.\u001b[39mexceptions\u001b[39m.\u001b[39mResourceNotFoundError(\n\u001b[1;32m    425\u001b[0m         db_object_type, params)\n\u001b[1;32m    426\u001b[0m \u001b[39melse\u001b[39;00m:\n\u001b[1;32m    427\u001b[0m     \u001b[39mreturn\u001b[39;00m db_object_type(\u001b[39mself\u001b[39m, res)\n",
      "\u001b[0;31mResourceNotFoundError\u001b[0m: Resource 'Project' not found for params: {'param_0': 'cljoqjqbu065d070wga4ue4jl'}(\"Resource 'Project' not found for params: {'param_0': 'cljoqjqbu065d070wga4ue4jl'}\", None)"
     ]
    }
   ],
   "source": [
    "project_id = 'cljoqjqbu065d070wga4ue4jl'  #from LabelBox > Schema > <Project Name> General > ID\n",
    "project = client.get_project(project_id)"
   ]
  },
  {
   "cell_type": "code",
   "execution_count": null,
   "metadata": {},
   "outputs": [],
   "source": [
    "export_params= {\n",
    "  \"attachments\": False,\n",
    "  \"metadata_fields\": False,\n",
    "  \"data_row_details\": False,\n",
    "  \"project_details\": False,\n",
    "  \"label_details\": False,\n",
    "  \"performance_details\": False,\n",
    "  \"interpolated_frames\": False\n",
    "}\n",
    "\n",
    "# Note: Filters follow AND logic, so typically using one filter is sufficient.\n",
    "filters= {\n",
    "  \"data_row_ids\": global_keys \n",
    "}\n",
    "\n",
    "export_task = project.export_v2(params=export_params, filters=filters)\n",
    "export_task.wait_till_done()\n",
    "\n",
    "if export_task.errors:\n",
    "  print(export_task.errors)\n",
    "\n",
    "export_json = export_task.result\n",
    "print(\"results: \", export_json)"
   ]
  }
 ],
 "metadata": {
  "kernelspec": {
   "display_name": "raster_vision",
   "language": "python",
   "name": "python3"
  },
  "language_info": {
   "codemirror_mode": {
    "name": "ipython",
    "version": 3
   },
   "file_extension": ".py",
   "mimetype": "text/x-python",
   "name": "python",
   "nbconvert_exporter": "python",
   "pygments_lexer": "ipython3",
   "version": "3.9.16"
  },
  "orig_nbformat": 4
 },
 "nbformat": 4,
 "nbformat_minor": 2
}
