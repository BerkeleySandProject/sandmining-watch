{
 "cells": [
  {
   "attachments": {},
   "cell_type": "markdown",
   "metadata": {},
   "source": [
    "### Create Labelbox Dataset\n",
    "\n",
    "This Notebook finds RGB images in the GCP storage bucket. For each geographical location where images exist, this notebooks create a Labelbox dataset. It populates this dataset with pointers to the GCP bucket."
   ]
  },
  {
   "cell_type": "code",
   "execution_count": 1,
   "metadata": {
    "tags": []
   },
   "outputs": [],
   "source": [
    "import os, sys\n",
    "sys.path.insert(0, os.path.abspath('..'))\n",
    "\n",
    "%load_ext autoreload\n",
    "%autoreload 2"
   ]
  },
  {
   "cell_type": "code",
   "execution_count": 2,
   "metadata": {},
   "outputs": [
    {
     "name": "stderr",
     "output_type": "stream",
     "text": [
      "2023-08-14 12:34:11:rastervision.pipeline.rv_config: WARNING - Root temporary directory cannot be used: /data/tmp. Using root: /data/tmp/tmp669i1r6q\n"
     ]
    }
   ],
   "source": [
    "from google.cloud import storage\n",
    "from labelbox import Client as LabelboxClient\n",
    "from labelbox import Dataset\n",
    "\n",
    "\n",
    "from utils import gcp_utils\n",
    "from utils.labelbox_utils import create_new_dataset, create_data_row_dict"
   ]
  },
  {
   "cell_type": "code",
   "execution_count": 3,
   "metadata": {},
   "outputs": [],
   "source": [
    "# Load environment variables from .env.\n",
    "# Alternatively, manually set environment variables.\n",
    "\n",
    "# from dotenv import load_dotenv\n",
    "# load_dotenv()"
   ]
  },
  {
   "cell_type": "code",
   "execution_count": 4,
   "metadata": {},
   "outputs": [],
   "source": [
    "from project_config import GCP_PROJECT_NAME, BUCKET_NAME\n",
    "\n",
    "LABELBOX_API_KEY = os.getenv('LABELBOX_API_KEY')\n",
    "\n",
    "gcp_client = storage.Client(project=GCP_PROJECT_NAME)\n",
    "labelbox_client = LabelboxClient(api_key=LABELBOX_API_KEY)"
   ]
  },
  {
   "cell_type": "markdown",
   "metadata": {},
   "source": [
    "## Overload bucket name if it's different from the default"
   ]
  },
  {
   "cell_type": "code",
   "execution_count": 5,
   "metadata": {},
   "outputs": [],
   "source": [
    "BUCKET_NAME = \"sand_mining_median\"\n",
    "SUBFOLDER = \"labels\""
   ]
  },
  {
   "cell_type": "code",
   "execution_count": 13,
   "metadata": {},
   "outputs": [
    {
     "name": "stdout",
     "output_type": "stream",
     "text": [
      "['Kathajodi_Cuttack_85-85_20-44_median', 'Ken_Banda_80-35_25-68_median', 'Narmada_Sehore_77-32_22-56_median', 'Tawa_Hoshangabad_77-80_22-74_median', 'Sone_Rohtas_84-21_24-91_median', 'Chambal_More_77-86_26-61_median', 'Betwa_Hamirpur_79-81_25-91_median']\n"
     ]
    }
   ],
   "source": [
    "all_label_locations = gcp_utils.list_subfolders(client=gcp_client, folder_name=SUBFOLDER, bucket_name=BUCKET_NAME)\n",
    "print(all_label_locations)"
   ]
  },
  {
   "attachments": {},
   "cell_type": "markdown",
   "metadata": {},
   "source": [
    "Choose the locations for which to push images to Labelbox"
   ]
  },
  {
   "cell_type": "code",
   "execution_count": 17,
   "metadata": {},
   "outputs": [
    {
     "name": "stdout",
     "output_type": "stream",
     "text": [
      "['Kathajodi_Cuttack_85-85_20-44_median', 'Ken_Banda_80-35_25-68_median', 'Narmada_Sehore_77-32_22-56_median', 'Tawa_Hoshangabad_77-80_22-74_median', 'Sone_Rohtas_84-21_24-91_median', 'Chambal_More_77-86_26-61_median', 'Betwa_Hamirpur_79-81_25-91_median']\n"
     ]
    }
   ],
   "source": [
    "label_locations = all_label_locations\n",
    "#drop any labels that have \"test\" in the name\n",
    "label_locations = [x for x in label_locations if \"test\" not in x]\n",
    "\n",
    "\n",
    "# label_locations = ['Tawa_Hoshangabad_77-80_22-74_median']\n",
    "\n",
    "print (label_locations)"
   ]
  },
  {
   "cell_type": "markdown",
   "metadata": {},
   "source": [
    "## Create Labelbox Datasets for each folder"
   ]
  },
  {
   "cell_type": "code",
   "execution_count": 28,
   "metadata": {},
   "outputs": [
    {
     "name": "stdout",
     "output_type": "stream",
     "text": [
      "--- Location: Kathajodi_Cuttack_85-85_20-44_median\n",
      "--- Folder: labels/Kathajodi_Cuttack_85-85_20-44_median/rgb\n",
      "Kathajodi_Cuttack_85-85_20-44_2022-01-01_rgb_median\n",
      "Kathajodi_Cuttack_85-85_20-44_2022-02-01_rgb_median\n",
      "Kathajodi_Cuttack_85-85_20-44_2022-03-01_rgb_median\n",
      "Kathajodi_Cuttack_85-85_20-44_2022-04-01_rgb_median\n",
      "Kathajodi_Cuttack_85-85_20-44_2022-05-01_rgb_median\n",
      "Kathajodi_Cuttack_85-85_20-44_2022-09-01_rgb_median\n",
      "Kathajodi_Cuttack_85-85_20-44_2022-10-01_rgb_median\n",
      "Kathajodi_Cuttack_85-85_20-44_2022-11-01_rgb_median\n",
      "Generating dataset in LabelBox\n",
      "Creating 8 data rows in dataset Kathajodi_Cuttack_85-85_20-44_median\n",
      "Finished without error.\n",
      "--- Location: Ken_Banda_80-35_25-68_median\n",
      "--- Folder: labels/Ken_Banda_80-35_25-68_median/rgb\n",
      "Ken_Banda_80-35_25-68_2022-01-01_rgb_median\n",
      "Ken_Banda_80-35_25-68_2022-02-01_rgb_median\n",
      "Ken_Banda_80-35_25-68_2022-03-01_rgb_median\n",
      "Ken_Banda_80-35_25-68_2022-04-01_rgb_median\n",
      "Ken_Banda_80-35_25-68_2022-05-01_rgb_median\n",
      "Ken_Banda_80-35_25-68_2022-06-01_rgb_median\n",
      "Ken_Banda_80-35_25-68_2022-08-01_rgb_median\n",
      "Ken_Banda_80-35_25-68_2022-09-01_rgb_median\n",
      "Ken_Banda_80-35_25-68_2022-10-01_rgb_median\n",
      "Ken_Banda_80-35_25-68_2022-11-01_rgb_median\n",
      "Generating dataset in LabelBox\n",
      "Creating 10 data rows in dataset Ken_Banda_80-35_25-68_median\n",
      "Finished without error.\n",
      "--- Location: Narmada_Sehore_77-32_22-56_median\n",
      "--- Folder: labels/Narmada_Sehore_77-32_22-56_median/rgb\n",
      "Narmada_Sehore_77-32_22-56_2022-01-01_rgb_median\n",
      "Narmada_Sehore_77-32_22-56_2022-02-01_rgb_median\n",
      "Narmada_Sehore_77-32_22-56_2022-03-01_rgb_median\n",
      "Narmada_Sehore_77-32_22-56_2022-04-01_rgb_median\n",
      "Narmada_Sehore_77-32_22-56_2022-05-01_rgb_median\n",
      "Narmada_Sehore_77-32_22-56_2022-06-01_rgb_median\n",
      "Narmada_Sehore_77-32_22-56_2022-10-01_rgb_median\n",
      "Narmada_Sehore_77-32_22-56_2022-11-01_rgb_median\n",
      "Generating dataset in LabelBox\n",
      "Creating 8 data rows in dataset Narmada_Sehore_77-32_22-56_median\n",
      "Finished without error.\n",
      "--- Location: Tawa_Hoshangabad_77-80_22-74_median\n",
      "--- Folder: labels/Tawa_Hoshangabad_77-80_22-74_median/rgb\n",
      "Tawa_Hoshangabad_77-80_22-74_2022-01-01_rgb_median\n",
      "Tawa_Hoshangabad_77-80_22-74_2022-02-01_rgb_median\n",
      "Tawa_Hoshangabad_77-80_22-74_2022-03-01_rgb_median\n",
      "Tawa_Hoshangabad_77-80_22-74_2022-04-01_rgb_median\n",
      "Tawa_Hoshangabad_77-80_22-74_2022-05-01_rgb_median\n",
      "Tawa_Hoshangabad_77-80_22-74_2022-10-01_rgb_median\n",
      "Tawa_Hoshangabad_77-80_22-74_2022-11-01_rgb_median\n",
      "Generating dataset in LabelBox\n",
      "Creating 7 data rows in dataset Tawa_Hoshangabad_77-80_22-74_median\n",
      "Finished without error.\n",
      "--- Location: Sone_Rohtas_84-21_24-91_median\n",
      "--- Folder: labels/Sone_Rohtas_84-21_24-91_median/rgb\n",
      "Sone_Rohtas_84-21_24-91_2022-01-01_rgb_median\n",
      "Sone_Rohtas_84-21_24-91_2022-02-01_rgb_median\n",
      "Sone_Rohtas_84-21_24-91_2022-03-01_rgb_median\n",
      "Sone_Rohtas_84-21_24-91_2022-04-01_rgb_median\n",
      "Sone_Rohtas_84-21_24-91_2022-05-01_rgb_median\n",
      "Sone_Rohtas_84-21_24-91_2022-10-01_rgb_median\n",
      "Sone_Rohtas_84-21_24-91_2022-11-01_rgb_median\n",
      "Generating dataset in LabelBox\n",
      "Creating 7 data rows in dataset Sone_Rohtas_84-21_24-91_median\n",
      "Finished without error.\n",
      "--- Location: Chambal_More_77-86_26-61_median\n",
      "--- Folder: labels/Chambal_More_77-86_26-61_median/rgb\n",
      "Chambal_More_77-86_26-61_2022-01-01_rgb_median\n",
      "Chambal_More_77-86_26-61_2022-02-01_rgb_median\n",
      "Chambal_More_77-86_26-61_2022-03-01_rgb_median\n",
      "Chambal_More_77-86_26-61_2022-04-01_rgb_median\n",
      "Chambal_More_77-86_26-61_2022-05-01_rgb_median\n",
      "Chambal_More_77-86_26-61_2022-06-01_rgb_median\n",
      "Chambal_More_77-86_26-61_2022-09-01_rgb_median\n",
      "Chambal_More_77-86_26-61_2022-10-01_rgb_median\n",
      "Chambal_More_77-86_26-61_2022-11-01_rgb_median\n",
      "Generating dataset in LabelBox\n",
      "Creating 9 data rows in dataset Chambal_More_77-86_26-61_median\n",
      "Finished without error.\n",
      "--- Location: Betwa_Hamirpur_79-81_25-91_median\n",
      "--- Folder: labels/Betwa_Hamirpur_79-81_25-91_median/rgb\n",
      "Betwa_Hamirpur_79-81_25-91_2022-01-01_rgb_median\n",
      "Betwa_Hamirpur_79-81_25-91_2022-02-01_rgb_median\n",
      "Betwa_Hamirpur_79-81_25-91_2022-03-01_rgb_median\n",
      "Betwa_Hamirpur_79-81_25-91_2022-04-01_rgb_median\n",
      "Betwa_Hamirpur_79-81_25-91_2022-05-01_rgb_median\n",
      "Betwa_Hamirpur_79-81_25-91_2022-06-01_rgb_median\n",
      "Betwa_Hamirpur_79-81_25-91_2022-08-01_rgb_median\n",
      "Betwa_Hamirpur_79-81_25-91_2022-09-01_rgb_median\n",
      "Betwa_Hamirpur_79-81_25-91_2022-10-01_rgb_median\n",
      "Betwa_Hamirpur_79-81_25-91_2022-11-01_rgb_median\n",
      "Generating dataset in LabelBox\n",
      "Creating 10 data rows in dataset Betwa_Hamirpur_79-81_25-91_median\n",
      "Finished without error.\n"
     ]
    }
   ],
   "source": [
    "assert set(label_locations).issubset(set(all_label_locations))\n",
    "\n",
    "bucket = gcp_client.bucket(BUCKET_NAME)\n",
    "\n",
    "def create_labelbox_dataset_for_location(location, folder_name=None, key_postfix=\"\"):\n",
    "    if folder_name is None:\n",
    "        folder_name = f\"{location}/rgb\"\n",
    "    else:\n",
    "        folder_name = f\"{folder_name}/{location}/rgb\"\n",
    "\n",
    "    print(f\"--- Folder:\", folder_name)\n",
    "\n",
    "    rgb_image_blobs = bucket.list_blobs(prefix=folder_name)\n",
    "\n",
    "    data_rows = []\n",
    "    for rgb_image_blob in rgb_image_blobs:\n",
    "        public_image_url = gcp_utils.get_public_url(rgb_image_blob.name, bucket_name=BUCKET_NAME)\n",
    "        # print(public_image_url)\n",
    "        global_key = rgb_image_blob.name.split('/')[-1]\n",
    "        #remove the .tif from the end of global_key\n",
    "        global_key = global_key.split('.')[0] \n",
    "\n",
    "        if key_postfix != \"\":\n",
    "            global_key = global_key + \"_\" + key_postfix\n",
    "        #     global_key = global_key.replace(\".tif\", f\"_{key_postfix}.tif\")\n",
    "\n",
    "        print(global_key)\n",
    "\n",
    "        data_row = create_data_row_dict(\n",
    "            img_url=public_image_url,\n",
    "            global_key=global_key\n",
    "        )\n",
    "        data_rows.append(data_row)\n",
    "    \n",
    "    # print(data_rows)\n",
    "    print (\"Generating dataset in LabelBox\")\n",
    "\n",
    "    dataset: Dataset = create_new_dataset(labelbox_client, dataset_name=location)\n",
    "    print(f\"Creating {len(data_rows)} data rows in dataset {dataset.name}\")\n",
    "    task = dataset.create_data_rows(data_rows)\n",
    "    task.wait_till_done()\n",
    "    if task.errors:\n",
    "        print(f\"Finished with error: {task.errors}\")\n",
    "    else:\n",
    "        print(f\"Finished without error.\")\n",
    "\n",
    "for location in label_locations:\n",
    "    print(f\"--- Location: {location}\")\n",
    "    create_labelbox_dataset_for_location(location, folder_name=SUBFOLDER, key_postfix=\"median\")"
   ]
  },
  {
   "cell_type": "markdown",
   "metadata": {},
   "source": [
    "## Deleting unused datasets\n",
    "Use this section to selectively delete datasets that are no longer needed.\n",
    "\n",
    "**!USE WITH CAUTION!**"
   ]
  },
  {
   "cell_type": "code",
   "execution_count": 20,
   "metadata": {},
   "outputs": [
    {
     "name": "stdout",
     "output_type": "stream",
     "text": [
      "Deleting:  Betwa_Hamirpur_79-81_25-91_median cllbdw1gn0ad407zkgeiehuja\n",
      "Deleting:  Chambal_More_77-86_26-61_median cllbdvyba03lp07v7134o7wf9\n",
      "Deleting:  Sone_Rohtas_84-21_24-91_median cllbdvv3y0enp07wn5kwubc4v\n",
      "Deleting:  Tawa_Hoshangabad_77-80_22-74_median cllbdvr6e0enl07wn3cqxbejm\n",
      "Deleting:  Narmada_Sehore_77-32_22-56_median cllbdvo0i09yw07wb97r6e9en\n",
      "Deleting:  Ken_Banda_80-35_25-68_median cllbdviw20a0l07ux76frgapn\n",
      "Deleting:  Kathajodi_Cuttack_85-85_20-44_median cllbdveqs0a0j07uxgpda4qwo\n"
     ]
    }
   ],
   "source": [
    "# datasets = list(labelbox_client.get_datasets(where=(Dataset.name==\"Dummy dataset\")))\n",
    "datasets = list(labelbox_client.get_datasets())\n",
    "# check get_datasets for anything that has 'median' in it\n",
    "datasets = [ds for ds in datasets if 'median' in ds.name or 'test' in ds.name]\n",
    "\n",
    "for ds in datasets:\n",
    "    print(\"Deleting: \", ds.name, ds.uid)\n",
    "    #Uncomment to actually delete!\n",
    "    # ds.delete()"
   ]
  }
 ],
 "metadata": {
  "kernelspec": {
   "display_name": "raster_vision",
   "language": "python",
   "name": "python3"
  },
  "language_info": {
   "codemirror_mode": {
    "name": "ipython",
    "version": 3
   },
   "file_extension": ".py",
   "mimetype": "text/x-python",
   "name": "python",
   "nbconvert_exporter": "python",
   "pygments_lexer": "ipython3",
   "version": "3.9.16"
  }
 },
 "nbformat": 4,
 "nbformat_minor": 4
}
