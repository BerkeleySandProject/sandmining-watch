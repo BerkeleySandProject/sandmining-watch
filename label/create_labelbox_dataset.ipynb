{
 "cells": [
  {
   "cell_type": "markdown",
   "metadata": {},
   "source": [
    "### Create Labelbox Dataset\n",
    "\n",
    "This Notebook finds RGB images in the GCP storage bucket. For each geographical location where images exist, this notebooks create a Labelbox dataset. It populates this dataset with pointers to the GCP bucket."
   ]
  },
  {
   "cell_type": "code",
   "execution_count": 18,
   "metadata": {
    "tags": []
   },
   "outputs": [
    {
     "name": "stdout",
     "output_type": "stream",
     "text": [
      "The autoreload extension is already loaded. To reload it, use:\n",
      "  %reload_ext autoreload\n"
     ]
    }
   ],
   "source": [
    "import os, sys\n",
    "sys.path.insert(0, os.path.abspath('..'))\n",
    "\n",
    "%load_ext autoreload\n",
    "%autoreload 2"
   ]
  },
  {
   "cell_type": "code",
   "execution_count": 19,
   "metadata": {},
   "outputs": [],
   "source": [
    "from google.cloud import storage\n",
    "from labelbox import Client as LabelboxClient\n",
    "from labelbox import Dataset\n",
    "\n",
    "\n",
    "from utils import gcp_utils\n",
    "from utils.labelbox_utils import create_new_dataset, create_data_row_dict, check_if_dataset_exists\n"
   ]
  },
  {
   "cell_type": "code",
   "execution_count": 20,
   "metadata": {},
   "outputs": [],
   "source": [
    "# Load environment variables from .env.\n",
    "# Alternatively, manually set environment variables.\n",
    "\n",
    "# from dotenv import load_dotenv\n",
    "# load_dotenv()"
   ]
  },
  {
   "cell_type": "code",
   "execution_count": 21,
   "metadata": {},
   "outputs": [],
   "source": [
    "from project_config import GCP_PROJECT_NAME, BUCKET_NAME\n",
    "LABELBOX_API_KEY = os.getenv('LABELBOX_API_KEY')\n",
    "\n",
    "gcp_client = storage.Client(project=GCP_PROJECT_NAME)\n",
    "labelbox_client = LabelboxClient(api_key=LABELBOX_API_KEY)"
   ]
  },
  {
   "cell_type": "markdown",
   "metadata": {},
   "source": [
    "## Overload bucket name if it's different from the default"
   ]
  },
  {
   "cell_type": "code",
   "execution_count": 22,
   "metadata": {},
   "outputs": [],
   "source": [
    "BUCKET_NAME = \"sand_mining_median\"\n",
    "SUBFOLDER = \"labels\""
   ]
  },
  {
   "cell_type": "code",
   "execution_count": 23,
   "metadata": {},
   "outputs": [
    {
     "name": "stdout",
     "output_type": "stream",
     "text": [
      "['Orsang_ChhotaUdepur_73-84_22-37_median', 'test_test_77-71_13-02_median', 'Mayurakshi_Birbhum_87-66_23-61_median', 'Penna_Nellore_79-78_14-56_median', 'Kanhan_Nagpur_79-17_21-27_median', 'Kathajodi_Cuttack_85-85_20-44_median', 'Sone_Arwal_84-52_25-17_median', 'Betwa_Jalaun_79-49_25-84_median', 'Balason_Darjeeling_88-32_26-75_median', 'Waiganga_Gondiya_80-11_21-59_median', 'Teesta_Jalpaiguri_88-6_26-84_median', 'Sutlej_Rupnagar_76-41_30-98_median', 'Mahananda_UttarDinajpur_88-25_26-46_median', 'Ganges_Patna_85-23_25-62_median', 'Orsang_ChhotaUdepur_73-74_22-29_median', 'Narmada_Sehore_77-31_22-6_median', 'Waiganga_Gondiya_80-16_21-62_median', 'Betwa_Jalaun_79-79_25-89_median', 'Godavari_EastGodavari_81-84_16-66_median', 'Godavari_EastGodavari_81-78_16-9_median', 'Kanhan_Nagpur_78-91_21-53_median', 'Ganges_Patna_85-1_25-66_median', 'Godavari_EastGodavari_81-05_17-62_median', 'Mahananda_Jalpaiguri_88-4_26-68_median', 'Yamuna_Fatehpur_81-1_25-48_median', 'Mahananda_Jalpaiguri_88-27_26-82_median', 'Banas_Banaskantha_72-04_24-11_median', 'Sone_Patna_84-0_24-62_median', 'Godavari_EastGodavari_81-9_16-75_median', 'Bhargavi_Khordha_85-88_20-26_median', 'Yamuna_Fatehpur_80-8_25-66_median', 'Betwa_Hamirpur_79-81_25-91_median', 'Godavari_BhadradriKothagudem_80-79_18-04_median', 'Banas_Banaskantha_71-93_23-96_median', 'Damodar_PurbaBardhaman_87-39_23-42_median', 'Sone_Patna_84-76_25-44_median', 'Ken_Banda_80-35_25-68_median', 'Tawa_Hoshangabad_77-79_22-75_median', 'Sone_Rohtas_83-86_24-46_median', 'Waiganga_Gondiya_80-03_21-55_median', 'Palar_Ranipet_79-43_12-88_median', 'Godavari_EastGodavari_80-89_17-72_median', 'Sone_Arwal_83-15_24-4_median', 'Damodar_PurbaBardhaman_86-93_22-88_median', 'Mahanadi_Angul_84-52_20-71_median', 'Yamuna_Fatehpur_81-44_25-31_median', 'Godavari_EastGodavari_81-81_16-79_median', 'Sone_Rohtas_83-95_24-56_median', 'Sone_Rohtas_84-21_24-91_median', 'Kanhan_Nagpur_79-02_21-4_median', 'Mayurakshi_Birbhum_87-55_23-61_median', 'Tawa_Hoshangabad_77-80_22-74_median', 'Teesta_Jalpaiguri_88-64_26-85_median', 'Yamuna_Banda_80-5_25-81_median', 'Chambal_More_77-84_26-58_median', 'Chambal_More_77-92_26-66_median', 'Godavari_EastGodavari_81-71_17-09_median', 'Gangadhar_CoochBehar_89-86_26-46_median', 'Ken_Banda_80-36_25-71_median', 'Narmada_Sehore_77-32_22-56_median', 'Chambal_More_77-86_26-61_median', 'Damodar_PurbaBardhaman_87-73_23-24_median']\n",
      "\n"
     ]
    }
   ],
   "source": [
    "all_label_locations = gcp_utils.list_subfolders(client=gcp_client, folder_name=SUBFOLDER, bucket_name=BUCKET_NAME)\n",
    "print(all_label_locations, end='\\n\\n')"
   ]
  },
  {
   "cell_type": "markdown",
   "metadata": {},
   "source": [
    "## Iterate over all label locations, and keep only the ones that have not been uploaded to labelbox yet\n",
    "Use the function check_if_dataset_exists(..)"
   ]
  },
  {
   "cell_type": "code",
   "execution_count": 24,
   "metadata": {},
   "outputs": [
    {
     "name": "stdout",
     "output_type": "stream",
     "text": [
      "These locations will be uploaded to LabelBox: \n",
      " ['test_test_77-71_13-02_median', 'Sutlej_Rupnagar_76-41_30-98_median', 'Yamuna_Fatehpur_81-1_25-48_median', 'Yamuna_Fatehpur_80-8_25-66_median', 'Yamuna_Fatehpur_81-44_25-31_median', 'Yamuna_Banda_80-5_25-81_median']\n"
     ]
    }
   ],
   "source": [
    "\n",
    "label_locations_to_upload = \\\n",
    "    [label_location for label_location in all_label_locations if not check_if_dataset_exists(labelbox_client, label_location)]\n",
    "\n",
    "print(\"These locations will be uploaded to LabelBox: \\n\", label_locations_to_upload)"
   ]
  },
  {
   "cell_type": "markdown",
   "metadata": {},
   "source": [
    "Choose the locations for which to push images to Labelbox"
   ]
  },
  {
   "cell_type": "code",
   "execution_count": 25,
   "metadata": {},
   "outputs": [],
   "source": [
    "# If you want to manually override which locations get uploaded\n",
    "label_locations_to_upload = ['Sutlej_Rupnagar_76-41_30-98_median', 'Yamuna_Fatehpur_81-1_25-48_median', 'Yamuna_Fatehpur_80-8_25-66_median', 'Yamuna_Fatehpur_81-44_25-31_median', 'Yamuna_Banda_80-5_25-81_median']\n"
   ]
  },
  {
   "cell_type": "markdown",
   "metadata": {},
   "source": [
    "## Create Labelbox Datasets for each folder"
   ]
  },
  {
   "cell_type": "code",
   "execution_count": 26,
   "metadata": {},
   "outputs": [
    {
     "name": "stdout",
     "output_type": "stream",
     "text": [
      "--- Location: Sutlej_Rupnagar_76-41_30-98_median\n",
      "--- Folder: labels/Sutlej_Rupnagar_76-41_30-98_median/rgb\n",
      "Sutlej_Rupnagar_76-41_30-98_2022-11-01_rgb_median\n",
      "Generating dataset in LabelBox\n",
      "Creating 1 data rows in dataset Sutlej_Rupnagar_76-41_30-98_median\n",
      "Finished without error.\n",
      "--- Location: Yamuna_Fatehpur_81-1_25-48_median\n",
      "--- Folder: labels/Yamuna_Fatehpur_81-1_25-48_median/rgb\n",
      "Yamuna_Fatehpur_81-1_25-48_2022-05-01_rgb_median\n",
      "Generating dataset in LabelBox\n",
      "Creating 1 data rows in dataset Yamuna_Fatehpur_81-1_25-48_median\n",
      "Finished without error.\n",
      "--- Location: Yamuna_Fatehpur_80-8_25-66_median\n",
      "--- Folder: labels/Yamuna_Fatehpur_80-8_25-66_median/rgb\n",
      "Yamuna_Fatehpur_80-8_25-66_2021-04-01_rgb_median\n",
      "Yamuna_Fatehpur_80-8_25-66_2023-02-01_rgb_median\n",
      "Generating dataset in LabelBox\n",
      "Creating 2 data rows in dataset Yamuna_Fatehpur_80-8_25-66_median\n",
      "Finished without error.\n",
      "--- Location: Yamuna_Fatehpur_81-44_25-31_median\n",
      "--- Folder: labels/Yamuna_Fatehpur_81-44_25-31_median/rgb\n",
      "Yamuna_Fatehpur_81-44_25-31_2022-03-01_rgb_median\n",
      "Generating dataset in LabelBox\n",
      "Creating 1 data rows in dataset Yamuna_Fatehpur_81-44_25-31_median\n",
      "Finished without error.\n",
      "--- Location: Yamuna_Banda_80-5_25-81_median\n",
      "--- Folder: labels/Yamuna_Banda_80-5_25-81_median/rgb\n",
      "Yamuna_Banda_80-5_25-81_2023-12-01_rgb_median\n",
      "Generating dataset in LabelBox\n",
      "Creating 1 data rows in dataset Yamuna_Banda_80-5_25-81_median\n",
      "Finished without error.\n"
     ]
    }
   ],
   "source": [
    "assert set(label_locations_to_upload).issubset(set(all_label_locations))\n",
    "\n",
    "bucket = gcp_client.bucket(BUCKET_NAME)\n",
    "\n",
    "def create_labelbox_dataset_for_location(location, folder_name=None, key_postfix=\"\"):\n",
    "    if folder_name is None:\n",
    "        folder_name = f\"{location}/rgb\"\n",
    "    else:\n",
    "        folder_name = f\"{folder_name}/{location}/rgb\"\n",
    "\n",
    "    print(f\"--- Folder:\", folder_name)\n",
    "\n",
    "    rgb_image_blobs = bucket.list_blobs(prefix=folder_name)\n",
    "\n",
    "    data_rows = []\n",
    "    for rgb_image_blob in rgb_image_blobs:\n",
    "        public_image_url = gcp_utils.get_public_url(rgb_image_blob.name, bucket_name=BUCKET_NAME)\n",
    "        # print(public_image_url)\n",
    "        global_key = rgb_image_blob.name.split('/')[-1]\n",
    "        #remove the .tif from the end of global_key\n",
    "        global_key = global_key.split('.')[0] \n",
    "\n",
    "        if key_postfix != \"\":\n",
    "            global_key = global_key + \"_\" + key_postfix\n",
    "        #     global_key = global_key.replace(\".tif\", f\"_{key_postfix}.tif\")\n",
    "\n",
    "        print(global_key)\n",
    "\n",
    "        data_row = create_data_row_dict(\n",
    "            img_url=public_image_url,\n",
    "            global_key=global_key,\n",
    "            location=location\n",
    "        )\n",
    "        data_rows.append(data_row)\n",
    "    \n",
    "    # print(data_rows)\n",
    "    print (\"Generating dataset in LabelBox\")\n",
    "\n",
    "    dataset: Dataset = create_new_dataset(labelbox_client, dataset_name=location)\n",
    "    print(f\"Creating {len(data_rows)} data rows in dataset {dataset.name}\")\n",
    "    task = dataset.create_data_rows(data_rows)\n",
    "    task.wait_till_done()\n",
    "    if task.errors:\n",
    "        print(f\"Finished with error: {task.errors}\")\n",
    "    else:\n",
    "        print(f\"Finished without error.\")\n",
    "\n",
    "for location in label_locations_to_upload:\n",
    "    print(f\"--- Location: {location}\")\n",
    "    create_labelbox_dataset_for_location(location, folder_name=SUBFOLDER, key_postfix=\"median\")"
   ]
  },
  {
   "cell_type": "markdown",
   "metadata": {},
   "source": [
    "## Deleting unused datasets\n",
    "Use this section to selectively delete datasets that are no longer needed.\n",
    "\n",
    "**!USE WITH CAUTION!**"
   ]
  },
  {
   "cell_type": "code",
   "execution_count": 9,
   "metadata": {},
   "outputs": [
    {
     "name": "stdout",
     "output_type": "stream",
     "text": [
      "Deleting:  Damodar_PurbaBardhaman_86-93_22-88_median clmjimlij0fwo07ya4xpo6tsa\n"
     ]
    }
   ],
   "source": [
    "# datasets = list(labelbox_client.get_datasets(where=(Dataset.name==\"Dummy dataset\")))\n",
    "datasets = list(labelbox_client.get_datasets())\n",
    "# check get_datasets for anything that has 'median' in it\n",
    "datasets = [ds for ds in datasets if 'median' in ds.name or 'test' in ds.name]\n",
    "\n",
    "for ds in datasets:\n",
    "    print(\"Deleting: \", ds.name, ds.uid)\n",
    "    #Uncomment to actually delete!\n",
    "    # ds.delete()"
   ]
  },
  {
   "cell_type": "markdown",
   "metadata": {},
   "source": [
    "## Adding datarow to an existing dataset in Labelbox"
   ]
  },
  {
   "cell_type": "code",
   "execution_count": 44,
   "metadata": {},
   "outputs": [
    {
     "name": "stdout",
     "output_type": "stream",
     "text": [
      "--- Location: Betwa_Jalaun_79-79_25-89_median\n",
      "Found dataset:  Betwa_Jalaun_79-79_25-89_median clmgrlbej0l55073h640f6fsc\n",
      "--- Folder: labels/Betwa_Jalaun_79-79_25-89_median/rgb\n",
      "Found!:  Betwa_Jalaun_79-79_25-89_2021-12-01_rgb\n",
      "[{'row_data': {'tile_layer_url': 'https://storage.googleapis.com/sand_mining_median/labels/Betwa_Jalaun_79-79_25-89_median/rgb/Betwa_Jalaun_79-79_25-89_2021-12-01_rgb.tif', 'epsg': 'EPSG4326', 'name': 'RGB', 'min_zoom': 4, 'max_zoom': 20, 'alternative_layers': [{'tile_layer_url': 'https://api.mapbox.com/styles/v1/mapbox/satellite-v9/tiles/{z}/{x}/{y}?access_token=pk.eyJ1IjoiYW5kby1zaGFoIiwiYSI6ImNsanFmNDJiYzA1ZHYzaW5nazY4YWU3cDEifQ.mABfTStcXV1cMQyAna8_gQ', 'name': 'Hi-res Guidance'}]}, 'global_key': 'Betwa_Jalaun_79-79_25-89_2021-12-01_rgb_median', 'media_type': 'TMS_GEO', 'metadata_fields': [{'name': 'imageDateS2', 'value': datetime.datetime(2021, 12, 1, 0, 0)}]}]\n",
      "Generating dataset in LabelBox\n"
     ]
    }
   ],
   "source": [
    "bucket = gcp_client.bucket(BUCKET_NAME)\n",
    "\n",
    "def create_labelbox_datarow_for_location(location, dataset_name, key, folder_name=None):\n",
    "    \"\"\"\n",
    "    location: string, name of the GCP top level folder\n",
    "    dataset_name: LabelBox dataset object that you want to append to\n",
    "    key: string, name of the subfolder you want to insert into Labelbox\n",
    "    folder_name: string, name of the GCP subfolder\n",
    "    \"\"\"\n",
    "\n",
    "    if check_if_dataset_exists (labelbox_client, dataset_name):\n",
    "        # datasets = labelbox_client.get_datasets(\n",
    "        # where=(Dataset.name == dataset)\n",
    "        # )\n",
    "        # dataset = list(datasets)[0]\n",
    "        dataset = labelbox_client.get_datasets(where=Dataset.name == dataset_name).get_one()\n",
    "        print (\"Found dataset: \", dataset.name, dataset.uid)\n",
    "    else:\n",
    "        raise Exception(\"Dataset does not exist\")\n",
    "\n",
    "\n",
    "    if folder_name is None:\n",
    "        folder_name = f\"{location}/rgb\"\n",
    "    else:\n",
    "        folder_name = f\"{folder_name}/{location}/rgb\"\n",
    "\n",
    "    print(f\"--- Folder:\", folder_name)\n",
    "\n",
    "    rgb_image_blobs = bucket.list_blobs(prefix=folder_name)\n",
    "\n",
    "    data_rows = []\n",
    "    for rgb_image_blob in rgb_image_blobs:\n",
    "        public_image_url = gcp_utils.get_public_url(rgb_image_blob.name, bucket_name=BUCKET_NAME)\n",
    "        # print(public_image_url)\n",
    "        global_key = rgb_image_blob.name.split('/')[-1]\n",
    "        #remove the .tif from the end of global_key\n",
    "        global_key = global_key.split('.')[0] \n",
    "\n",
    "\n",
    "        if key != global_key:\n",
    "            continue\n",
    "\n",
    "        print(\"Found!: \", global_key)\n",
    "\n",
    "        data_row = create_data_row_dict(\n",
    "            img_url=public_image_url,\n",
    "            global_key=global_key + '_median'\n",
    "        )\n",
    "        data_rows.append(data_row)\n",
    "    \n",
    "        # print(data_rows)\n",
    "        print (\"Generating datarow in dataset\")\n",
    "        dataset.create_data_rows(data_rows)\n",
    "\n",
    "        return\n"
   ]
  },
  {
   "cell_type": "code",
   "execution_count": 51,
   "metadata": {},
   "outputs": [
    {
     "name": "stdout",
     "output_type": "stream",
     "text": [
      "--- Location: {'Sone_Patna_84-0_24-62_median': 'Sone_Patna_84-0_24-62_2020-04-01_rgb'}\n",
      "Sone_Patna_84-0_24-62_median Sone_Patna_84-0_24-62_2020-04-01_rgb\n",
      "Found dataset:  Sone_Patna_84-0_24-62_median clmjimu9d03mo08wygx5saddn\n",
      "--- Folder: labels/Sone_Patna_84-0_24-62_median/rgb\n",
      "Found!:  Sone_Patna_84-0_24-62_2020-04-01_rgb\n",
      "[{'row_data': {'tile_layer_url': 'https://storage.googleapis.com/sand_mining_median/labels/Sone_Patna_84-0_24-62_median/rgb/Sone_Patna_84-0_24-62_2020-04-01_rgb.tif', 'epsg': 'EPSG4326', 'name': 'RGB', 'min_zoom': 4, 'max_zoom': 20, 'alternative_layers': [{'tile_layer_url': 'https://api.mapbox.com/styles/v1/mapbox/satellite-v9/tiles/{z}/{x}/{y}?access_token=pk.eyJ1IjoiYW5kby1zaGFoIiwiYSI6ImNsanFmNDJiYzA1ZHYzaW5nazY4YWU3cDEifQ.mABfTStcXV1cMQyAna8_gQ', 'name': 'Hi-res Guidance'}]}, 'global_key': 'Sone_Patna_84-0_24-62_2020-04-01_rgb_median', 'media_type': 'TMS_GEO', 'metadata_fields': [{'name': 'imageDateS2', 'value': datetime.datetime(2020, 4, 1, 0, 0)}]}]\n",
      "Generating dataset in LabelBox\n"
     ]
    }
   ],
   "source": [
    "label_locations_to_upload =  [{\"Sone_Patna_84-0_24-62_median\":\"Sone_Patna_84-0_24-62_2020-04-01_rgb\"}]\n",
    "for location in label_locations_to_upload:\n",
    "    print(f\"--- Location: {location}\")\n",
    "    #get the key and value\n",
    "    location_name = list(location.keys())[0]\n",
    "    datarow = list(location.values())[0]\n",
    "\n",
    "    print (location_name, datarow)\n",
    "    create_labelbox_datarow_for_location(location=location_name, dataset_name=location_name, key=datarow, folder_name=SUBFOLDER)"
   ]
  }
 ],
 "metadata": {
  "kernelspec": {
   "display_name": "Python 3",
   "language": "python",
   "name": "python3"
  },
  "language_info": {
   "codemirror_mode": {
    "name": "ipython",
    "version": 3
   },
   "file_extension": ".py",
   "mimetype": "text/x-python",
   "name": "python",
   "nbconvert_exporter": "python",
   "pygments_lexer": "ipython3",
   "version": "3.9.17"
  }
 },
 "nbformat": 4,
 "nbformat_minor": 4
}
