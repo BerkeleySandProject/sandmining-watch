{
 "cells": [
  {
   "attachments": {},
   "cell_type": "markdown",
   "metadata": {},
   "source": [
    "### Create Labelbox Dataset\n",
    "\n",
    "This Notebook finds RGB images in the GCP storage bucket. For each geographical location where images exist, this notebooks create a Labelbox dataset. It populates this dataset with pointers to the GCP bucket."
   ]
  },
  {
   "cell_type": "code",
   "execution_count": 1,
   "metadata": {
    "tags": []
   },
   "outputs": [],
   "source": [
    "import os, sys\n",
    "sys.path.insert(0, os.path.abspath('..'))"
   ]
  },
  {
   "cell_type": "code",
   "execution_count": 2,
   "metadata": {},
   "outputs": [],
   "source": [
    "%load_ext autoreload\n",
    "%autoreload 2"
   ]
  },
  {
   "cell_type": "code",
   "execution_count": 3,
   "metadata": {},
   "outputs": [],
   "source": [
    "%reload_ext autoreload\n",
    "from utils import gcp_utils\n",
    "from utils.labelbox_utils import create_new_dataset, create_data_row_dict"
   ]
  },
  {
   "cell_type": "code",
   "execution_count": 4,
   "metadata": {},
   "outputs": [
    {
     "data": {
      "text/plain": [
       "True"
      ]
     },
     "execution_count": 4,
     "metadata": {},
     "output_type": "execute_result"
    }
   ],
   "source": [
    "# Load environment variables from .env.\n",
    "# Alternatively, manually set environment variables.\n",
    "\n",
    "from dotenv import load_dotenv\n",
    "load_dotenv()"
   ]
  },
  {
   "cell_type": "code",
   "execution_count": 5,
   "metadata": {},
   "outputs": [],
   "source": [
    "from google.cloud import storage\n",
    "from labelbox import Client as LabelboxClient\n",
    "from labelbox import Dataset\n",
    "\n",
    "GCP_PROJECT_NAME = \"gee-sand\"\n",
    "BUCKET_NAME = \"sand_mining\"\n",
    "LABELBOX_API_KEY = os.getenv('LABELBOX_API_KEY')\n",
    "\n",
    "gcp_client = storage.Client(project=\"gee-sand\")\n",
    "labelbox_client = LabelboxClient(api_key=LABELBOX_API_KEY)"
   ]
  },
  {
   "cell_type": "code",
   "execution_count": 6,
   "metadata": {},
   "outputs": [
    {
     "name": "stdout",
     "output_type": "stream",
     "text": [
      "['Kathajodi_Cuttack_85-85_20-44', 'Ken_Banda_80-35_25-68', 'Sone_Rohtas_84-21_24-91', 'test']\n"
     ]
    }
   ],
   "source": [
    "all_label_locations = gcp_utils.list_subfolders(gcp_client, \"labels\")\n",
    "print(all_label_locations)"
   ]
  },
  {
   "attachments": {},
   "cell_type": "markdown",
   "metadata": {},
   "source": [
    "Choose the locations for which to push images to Labelbox"
   ]
  },
  {
   "cell_type": "code",
   "execution_count": 7,
   "metadata": {},
   "outputs": [],
   "source": [
    "label_locations = ['Sone_Rohtas_84-21_24-91']"
   ]
  },
  {
   "cell_type": "code",
   "execution_count": 12,
   "metadata": {},
   "outputs": [
    {
     "name": "stdout",
     "output_type": "stream",
     "text": [
      "--- Location: Sone_Rohtas_84-21_24-91\n",
      "2022-03-01 00:00:00\n",
      "Creating 1 data rows in dataset Sone_Rohtas_84-21_24-91\n",
      "Finished without error.\n"
     ]
    }
   ],
   "source": [
    "assert set(label_locations).issubset(set(all_label_locations))\n",
    "\n",
    "bucket = gcp_client.bucket(BUCKET_NAME)\n",
    "\n",
    "def create_labelbox_dataset_for_location(location):\n",
    "    rgd_image_blobs = bucket.list_blobs(prefix=f\"labels/{location}/rgb\")\n",
    "    data_rows = []\n",
    "    for rbg_image_blob in rgd_image_blobs:\n",
    "        public_imgage_url = gcp_utils.get_public_url(rbg_image_blob.name)\n",
    "        global_key = rbg_image_blob.name.split('/')[-1]\n",
    "        data_row = create_data_row_dict(\n",
    "            img_url=public_imgage_url,\n",
    "            global_key=global_key\n",
    "        )\n",
    "        data_rows.append(data_row)\n",
    "\n",
    "    dataset: Dataset = create_new_dataset(labelbox_client, location)\n",
    "    print(f\"Creating {len(data_rows)} data rows in dataset {dataset.name}\")\n",
    "    task = dataset.create_data_rows(data_rows)\n",
    "    task.wait_till_done()\n",
    "    if task.errors:\n",
    "        print(f\"Finished with error: {task.errors}\")\n",
    "    else:\n",
    "        print(f\"Finished without error.\")\n",
    "\n",
    "for location in label_locations:\n",
    "    print(f\"--- Location: {location}\")\n",
    "    create_labelbox_dataset_for_location(location)"
   ]
  }
 ],
 "metadata": {
  "kernelspec": {
   "display_name": "rastervis",
   "language": "python",
   "name": "python3"
  },
  "language_info": {
   "codemirror_mode": {
    "name": "ipython",
    "version": 3
   },
   "file_extension": ".py",
   "mimetype": "text/x-python",
   "name": "python",
   "nbconvert_exporter": "python",
   "pygments_lexer": "ipython3",
   "version": "3.9.16"
  }
 },
 "nbformat": 4,
 "nbformat_minor": 4
}
