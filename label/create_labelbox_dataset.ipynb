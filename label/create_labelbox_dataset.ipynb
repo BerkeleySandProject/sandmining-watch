{
 "cells": [
  {
   "attachments": {},
   "cell_type": "markdown",
   "metadata": {},
   "source": [
    "### Create Labelbox Dataset\n",
    "\n",
    "This Notebook finds RGB images in the GCP storage bucket. For each geographical location where images exist, this notebooks create a Labelbox dataset. It populates this dataset with pointers to the GCP bucket."
   ]
  },
  {
   "cell_type": "code",
   "execution_count": 1,
   "metadata": {
    "tags": []
   },
   "outputs": [],
   "source": [
    "import os, sys\n",
    "sys.path.insert(0, os.path.abspath('..'))\n",
    "\n",
    "%load_ext autoreload\n",
    "%autoreload 2"
   ]
  },
  {
   "cell_type": "code",
   "execution_count": 2,
   "metadata": {},
   "outputs": [],
   "source": [
    "from google.cloud import storage\n",
    "from labelbox import Client as LabelboxClient\n",
    "from labelbox import Dataset\n",
    "\n",
    "\n",
    "from utils import gcp_utils\n",
    "from utils.labelbox_utils import create_new_dataset, create_data_row_dict, check_if_dataset_exists"
   ]
  },
  {
   "cell_type": "code",
   "execution_count": 3,
   "metadata": {},
   "outputs": [],
   "source": [
    "# Load environment variables from .env.\n",
    "# Alternatively, manually set environment variables.\n",
    "\n",
    "# from dotenv import load_dotenv\n",
    "# load_dotenv()"
   ]
  },
  {
   "cell_type": "code",
   "execution_count": 15,
   "metadata": {},
   "outputs": [],
   "source": [
    "from project_config import GCP_PROJECT_NAME, BUCKET_NAME\n",
    "LABELBOX_API_KEY = os.getenv('LABELBOX_API_KEY')\n",
    "\n",
    "gcp_client = storage.Client(project=GCP_PROJECT_NAME)\n",
    "labelbox_client = LabelboxClient(api_key=LABELBOX_API_KEY)"
   ]
  },
  {
   "cell_type": "markdown",
   "metadata": {},
   "source": [
    "## Overload bucket name if it's different from the default"
   ]
  },
  {
   "cell_type": "code",
   "execution_count": 16,
   "metadata": {},
   "outputs": [],
   "source": [
    "BUCKET_NAME = \"sand_mining_median\"\n",
    "SUBFOLDER = \"labels\""
   ]
  },
  {
   "cell_type": "code",
   "execution_count": 17,
   "metadata": {},
   "outputs": [
    {
     "name": "stdout",
     "output_type": "stream",
     "text": [
      "['Kathajodi_Cuttack_85-85_20-44_median', 'Sone_Rohtas_83-86_24-46_median', 'Betwa_Hamirpur_79-81_25-91_median', 'Bhargavi_Khordha_85-88_20-26_median', 'Chambal_More_77-86_26-61_median', 'Damodar_PurbaBardhaman_87-38_23-42_median', 'Narmada_Sehore_77-32_22-56_median', 'Ganges_Patna_85-23_25-62_median', 'Tawa_Hoshangabad_77-80_22-74_median', 'Ganges_Patna_85-1_25-66_median', 'Chambal_More_77-92_26-66_median', 'Sone_Rohtas_84-15_24-85_median', 'Mayurakshi_Birbhum_87-55_23-61_median', 'Sone_Arwal_84-52_25-17_median', 'Sone_Rohtas_83-95_24-56_median', 'Ken_Banda_80-35_25-68_median', 'Mahananda_Jalpaiguri_88-4_26-69_median', 'Damodar_PurbaBardhaman_87-73_23-24_median', 'Sone_Rohtas_84-21_24-91_median', 'Mayurakshi_Birbhum_87-66_23-61_median']\n"
     ]
    }
   ],
   "source": [
    "all_label_locations = gcp_utils.list_subfolders(client=gcp_client, folder_name=SUBFOLDER, bucket_name=BUCKET_NAME)\n",
    "print(all_label_locations)"
   ]
  },
  {
   "cell_type": "code",
   "execution_count": 18,
   "metadata": {},
   "outputs": [
    {
     "name": "stdout",
     "output_type": "stream",
     "text": [
      "These locations will be uploaded to LabelBox: \n",
      " ['Sone_Rohtas_83-86_24-46_median', 'Bhargavi_Khordha_85-88_20-26_median', 'Damodar_PurbaBardhaman_87-38_23-42_median', 'Ganges_Patna_85-23_25-62_median', 'Ganges_Patna_85-1_25-66_median', 'Chambal_More_77-92_26-66_median', 'Sone_Rohtas_84-15_24-85_median', 'Mayurakshi_Birbhum_87-55_23-61_median', 'Sone_Arwal_84-52_25-17_median', 'Sone_Rohtas_83-95_24-56_median', 'Mahananda_Jalpaiguri_88-4_26-69_median', 'Damodar_PurbaBardhaman_87-73_23-24_median', 'Mayurakshi_Birbhum_87-66_23-61_median']\n"
     ]
    }
   ],
   "source": [
    "# iterate over all label locations, and keep only the ones that have not been uploaded to labelbox yet, by using the function check_if_dataset_exists\n",
    "label_locations_to_upload = \\\n",
    "    [label_location for label_location in all_label_locations if not check_if_dataset_exists(labelbox_client, label_location)]\n",
    "\n",
    "print(\"These locations will be uploaded to LabelBox: \\n\", label_locations_to_upload)"
   ]
  },
  {
   "attachments": {},
   "cell_type": "markdown",
   "metadata": {},
   "source": [
    "Choose the locations for which to push images to Labelbox"
   ]
  },
  {
   "cell_type": "code",
   "execution_count": 20,
   "metadata": {},
   "outputs": [],
   "source": [
    "# If you want to manually override which locations get uploaded\n",
    "# label_locations_to_upload = ['Tawa_Hoshangabad_77-80_22-74_median']\n"
   ]
  },
  {
   "cell_type": "markdown",
   "metadata": {},
   "source": [
    "## Create Labelbox Datasets for each folder"
   ]
  },
  {
   "cell_type": "code",
   "execution_count": 19,
   "metadata": {},
   "outputs": [
    {
     "name": "stdout",
     "output_type": "stream",
     "text": [
      "--- Location: Sone_Rohtas_83-86_24-46_median\n",
      "--- Folder: labels/Sone_Rohtas_83-86_24-46_median/rgb\n",
      "Sone_Rohtas_83-86_24-46_2023-01-01_rgb_median\n",
      "Sone_Rohtas_83-86_24-46_2023-02-01_rgb_median\n",
      "Sone_Rohtas_83-86_24-46_2023-03-01_rgb_median\n",
      "Sone_Rohtas_83-86_24-46_2023-04-01_rgb_median\n",
      "Sone_Rohtas_83-86_24-46_2023-05-01_rgb_median\n",
      "Sone_Rohtas_83-86_24-46_2023-06-01_rgb_median\n",
      "Generating dataset in LabelBox\n",
      "Creating 6 data rows in dataset Sone_Rohtas_83-86_24-46_median\n",
      "Finished without error.\n",
      "--- Location: Bhargavi_Khordha_85-88_20-26_median\n",
      "--- Folder: labels/Bhargavi_Khordha_85-88_20-26_median/rgb\n",
      "Bhargavi_Khordha_85-88_20-26_2018-12-01_rgb_median\n",
      "Bhargavi_Khordha_85-88_20-26_2019-01-01_rgb_median\n",
      "Bhargavi_Khordha_85-88_20-26_2019-02-01_rgb_median\n",
      "Bhargavi_Khordha_85-88_20-26_2019-03-01_rgb_median\n",
      "Bhargavi_Khordha_85-88_20-26_2019-04-01_rgb_median\n",
      "Bhargavi_Khordha_85-88_20-26_2019-05-01_rgb_median\n",
      "Generating dataset in LabelBox\n",
      "Creating 6 data rows in dataset Bhargavi_Khordha_85-88_20-26_median\n",
      "Finished without error.\n",
      "--- Location: Damodar_PurbaBardhaman_87-38_23-42_median\n",
      "--- Folder: labels/Damodar_PurbaBardhaman_87-38_23-42_median/rgb\n",
      "Damodar_PurbaBardhaman_87-38_23-42_2022-10-01_rgb_median\n",
      "Damodar_PurbaBardhaman_87-38_23-42_2022-11-01_rgb_median\n",
      "Damodar_PurbaBardhaman_87-38_23-42_2022-12-01_rgb_median\n",
      "Damodar_PurbaBardhaman_87-38_23-42_2023-01-01_rgb_median\n",
      "Damodar_PurbaBardhaman_87-38_23-42_2023-02-01_rgb_median\n",
      "Damodar_PurbaBardhaman_87-38_23-42_2023-03-01_rgb_median\n",
      "Damodar_PurbaBardhaman_87-38_23-42_2023-04-01_rgb_median\n",
      "Damodar_PurbaBardhaman_87-38_23-42_2023-05-01_rgb_median\n",
      "Damodar_PurbaBardhaman_87-38_23-42_2023-06-01_rgb_median\n",
      "Generating dataset in LabelBox\n",
      "Creating 9 data rows in dataset Damodar_PurbaBardhaman_87-38_23-42_median\n",
      "Finished without error.\n",
      "--- Location: Ganges_Patna_85-23_25-62_median\n",
      "--- Folder: labels/Ganges_Patna_85-23_25-62_median/rgb\n",
      "Ganges_Patna_85-23_25-62_2022-02-01_rgb_median\n",
      "Ganges_Patna_85-23_25-62_2022-03-01_rgb_median\n",
      "Ganges_Patna_85-23_25-62_2022-04-01_rgb_median\n",
      "Ganges_Patna_85-23_25-62_2022-05-01_rgb_median\n",
      "Generating dataset in LabelBox\n",
      "Creating 4 data rows in dataset Ganges_Patna_85-23_25-62_median\n",
      "Finished without error.\n",
      "--- Location: Ganges_Patna_85-1_25-66_median\n",
      "--- Folder: labels/Ganges_Patna_85-1_25-66_median/rgb\n",
      "Ganges_Patna_85-1_25-66_2019-11-01_rgb_median\n",
      "Ganges_Patna_85-1_25-66_2019-12-01_rgb_median\n",
      "Ganges_Patna_85-1_25-66_2020-01-01_rgb_median\n",
      "Ganges_Patna_85-1_25-66_2020-02-01_rgb_median\n",
      "Ganges_Patna_85-1_25-66_2020-03-01_rgb_median\n",
      "Ganges_Patna_85-1_25-66_2020-04-01_rgb_median\n",
      "Ganges_Patna_85-1_25-66_2020-05-01_rgb_median\n",
      "Generating dataset in LabelBox\n",
      "Creating 7 data rows in dataset Ganges_Patna_85-1_25-66_median\n",
      "Finished without error.\n",
      "--- Location: Chambal_More_77-92_26-66_median\n",
      "--- Folder: labels/Chambal_More_77-92_26-66_median/rgb\n",
      "Chambal_More_77-92_26-66_2022-01-01_rgb_median\n",
      "Chambal_More_77-92_26-66_2022-02-01_rgb_median\n",
      "Chambal_More_77-92_26-66_2023-01-01_rgb_median\n",
      "Chambal_More_77-92_26-66_2023-02-01_rgb_median\n",
      "Chambal_More_77-92_26-66_2023-03-01_rgb_median\n",
      "Chambal_More_77-92_26-66_2023-04-01_rgb_median\n",
      "Chambal_More_77-92_26-66_2023-05-01_rgb_median\n",
      "Chambal_More_77-92_26-66_2023-06-01_rgb_median\n",
      "Generating dataset in LabelBox\n",
      "Creating 8 data rows in dataset Chambal_More_77-92_26-66_median\n",
      "Finished without error.\n",
      "--- Location: Sone_Rohtas_84-15_24-85_median\n",
      "--- Folder: labels/Sone_Rohtas_84-15_24-85_median/rgb\n",
      "Sone_Rohtas_84-15_24-85_2022-01-01_rgb_median\n",
      "Sone_Rohtas_84-15_24-85_2022-02-01_rgb_median\n",
      "Sone_Rohtas_84-15_24-85_2022-03-01_rgb_median\n",
      "Generating dataset in LabelBox\n",
      "Creating 3 data rows in dataset Sone_Rohtas_84-15_24-85_median\n",
      "Finished without error.\n",
      "--- Location: Mayurakshi_Birbhum_87-55_23-61_median\n",
      "--- Folder: labels/Mayurakshi_Birbhum_87-55_23-61_median/rgb\n",
      "Mayurakshi_Birbhum_87-55_23-61_2022-10-01_rgb_median\n",
      "Mayurakshi_Birbhum_87-55_23-61_2022-11-01_rgb_median\n",
      "Mayurakshi_Birbhum_87-55_23-61_2022-12-01_rgb_median\n",
      "Mayurakshi_Birbhum_87-55_23-61_2023-01-01_rgb_median\n",
      "Mayurakshi_Birbhum_87-55_23-61_2023-02-01_rgb_median\n",
      "Mayurakshi_Birbhum_87-55_23-61_2023-03-01_rgb_median\n",
      "Mayurakshi_Birbhum_87-55_23-61_2023-04-01_rgb_median\n",
      "Mayurakshi_Birbhum_87-55_23-61_2023-05-01_rgb_median\n",
      "Mayurakshi_Birbhum_87-55_23-61_2023-06-01_rgb_median\n",
      "Generating dataset in LabelBox\n",
      "Creating 9 data rows in dataset Mayurakshi_Birbhum_87-55_23-61_median\n",
      "Finished without error.\n",
      "--- Location: Sone_Arwal_84-52_25-17_median\n",
      "--- Folder: labels/Sone_Arwal_84-52_25-17_median/rgb\n",
      "Sone_Arwal_84-52_25-17_2021-10-01_rgb_median\n",
      "Sone_Arwal_84-52_25-17_2021-11-01_rgb_median\n",
      "Sone_Arwal_84-52_25-17_2021-12-01_rgb_median\n",
      "Sone_Arwal_84-52_25-17_2022-01-01_rgb_median\n",
      "Sone_Arwal_84-52_25-17_2022-02-01_rgb_median\n",
      "Sone_Arwal_84-52_25-17_2022-03-01_rgb_median\n",
      "Sone_Arwal_84-52_25-17_2022-04-01_rgb_median\n",
      "Sone_Arwal_84-52_25-17_2022-05-01_rgb_median\n",
      "Sone_Arwal_84-52_25-17_2022-06-01_rgb_median\n",
      "Sone_Arwal_84-52_25-17_2022-08-01_rgb_median\n",
      "Sone_Arwal_84-52_25-17_2022-10-01_rgb_median\n",
      "Sone_Arwal_84-52_25-17_2022-11-01_rgb_median\n",
      "Sone_Arwal_84-52_25-17_2022-12-01_rgb_median\n",
      "Sone_Arwal_84-52_25-17_2023-01-01_rgb_median\n",
      "Sone_Arwal_84-52_25-17_2023-02-01_rgb_median\n",
      "Sone_Arwal_84-52_25-17_2023-03-01_rgb_median\n",
      "Generating dataset in LabelBox\n",
      "Creating 16 data rows in dataset Sone_Arwal_84-52_25-17_median\n",
      "Finished without error.\n",
      "--- Location: Sone_Rohtas_83-95_24-56_median\n",
      "--- Folder: labels/Sone_Rohtas_83-95_24-56_median/rgb\n",
      "Sone_Rohtas_83-95_24-56_2022-01-01_rgb_median\n",
      "Sone_Rohtas_83-95_24-56_2022-02-01_rgb_median\n",
      "Sone_Rohtas_83-95_24-56_2022-03-01_rgb_median\n",
      "Generating dataset in LabelBox\n",
      "Creating 3 data rows in dataset Sone_Rohtas_83-95_24-56_median\n",
      "Finished without error.\n",
      "--- Location: Mahananda_Jalpaiguri_88-4_26-69_median\n",
      "--- Folder: labels/Mahananda_Jalpaiguri_88-4_26-69_median/rgb\n",
      "Mahananda_Jalpaiguri_88-4_26-69_2019-10-01_rgb_median\n",
      "Generating dataset in LabelBox\n",
      "Creating 1 data rows in dataset Mahananda_Jalpaiguri_88-4_26-69_median\n",
      "Finished without error.\n",
      "--- Location: Damodar_PurbaBardhaman_87-73_23-24_median\n",
      "--- Folder: labels/Damodar_PurbaBardhaman_87-73_23-24_median/rgb\n",
      "Damodar_PurbaBardhaman_87-73_23-24_2022-10-01_rgb_median\n",
      "Damodar_PurbaBardhaman_87-73_23-24_2022-11-01_rgb_median\n",
      "Damodar_PurbaBardhaman_87-73_23-24_2022-12-01_rgb_median\n",
      "Damodar_PurbaBardhaman_87-73_23-24_2023-01-01_rgb_median\n",
      "Damodar_PurbaBardhaman_87-73_23-24_2023-02-01_rgb_median\n",
      "Damodar_PurbaBardhaman_87-73_23-24_2023-03-01_rgb_median\n",
      "Damodar_PurbaBardhaman_87-73_23-24_2023-04-01_rgb_median\n",
      "Damodar_PurbaBardhaman_87-73_23-24_2023-05-01_rgb_median\n",
      "Damodar_PurbaBardhaman_87-73_23-24_2023-06-01_rgb_median\n",
      "Generating dataset in LabelBox\n",
      "Creating 9 data rows in dataset Damodar_PurbaBardhaman_87-73_23-24_median\n",
      "Finished without error.\n",
      "--- Location: Mayurakshi_Birbhum_87-66_23-61_median\n",
      "--- Folder: labels/Mayurakshi_Birbhum_87-66_23-61_median/rgb\n",
      "Mayurakshi_Birbhum_87-66_23-61_2022-10-01_rgb_median\n",
      "Mayurakshi_Birbhum_87-66_23-61_2022-11-01_rgb_median\n",
      "Mayurakshi_Birbhum_87-66_23-61_2022-12-01_rgb_median\n",
      "Mayurakshi_Birbhum_87-66_23-61_2023-01-01_rgb_median\n",
      "Mayurakshi_Birbhum_87-66_23-61_2023-02-01_rgb_median\n",
      "Mayurakshi_Birbhum_87-66_23-61_2023-03-01_rgb_median\n",
      "Mayurakshi_Birbhum_87-66_23-61_2023-04-01_rgb_median\n",
      "Mayurakshi_Birbhum_87-66_23-61_2023-05-01_rgb_median\n",
      "Mayurakshi_Birbhum_87-66_23-61_2023-06-01_rgb_median\n",
      "Generating dataset in LabelBox\n",
      "Creating 9 data rows in dataset Mayurakshi_Birbhum_87-66_23-61_median\n",
      "Finished without error.\n"
     ]
    }
   ],
   "source": [
    "assert set(label_locations_to_upload).issubset(set(all_label_locations))\n",
    "\n",
    "bucket = gcp_client.bucket(BUCKET_NAME)\n",
    "\n",
    "def create_labelbox_dataset_for_location(location, folder_name=None, key_postfix=\"\"):\n",
    "    if folder_name is None:\n",
    "        folder_name = f\"{location}/rgb\"\n",
    "    else:\n",
    "        folder_name = f\"{folder_name}/{location}/rgb\"\n",
    "\n",
    "    print(f\"--- Folder:\", folder_name)\n",
    "\n",
    "    rgb_image_blobs = bucket.list_blobs(prefix=folder_name)\n",
    "\n",
    "    data_rows = []\n",
    "    for rgb_image_blob in rgb_image_blobs:\n",
    "        public_image_url = gcp_utils.get_public_url(rgb_image_blob.name, bucket_name=BUCKET_NAME)\n",
    "        # print(public_image_url)\n",
    "        global_key = rgb_image_blob.name.split('/')[-1]\n",
    "        #remove the .tif from the end of global_key\n",
    "        global_key = global_key.split('.')[0] \n",
    "\n",
    "        if key_postfix != \"\":\n",
    "            global_key = global_key + \"_\" + key_postfix\n",
    "        #     global_key = global_key.replace(\".tif\", f\"_{key_postfix}.tif\")\n",
    "\n",
    "        print(global_key)\n",
    "\n",
    "        data_row = create_data_row_dict(\n",
    "            img_url=public_image_url,\n",
    "            global_key=global_key\n",
    "        )\n",
    "        data_rows.append(data_row)\n",
    "    \n",
    "    # print(data_rows)\n",
    "    print (\"Generating dataset in LabelBox\")\n",
    "\n",
    "    dataset: Dataset = create_new_dataset(labelbox_client, dataset_name=location)\n",
    "    print(f\"Creating {len(data_rows)} data rows in dataset {dataset.name}\")\n",
    "    task = dataset.create_data_rows(data_rows)\n",
    "    task.wait_till_done()\n",
    "    if task.errors:\n",
    "        print(f\"Finished with error: {task.errors}\")\n",
    "    else:\n",
    "        print(f\"Finished without error.\")\n",
    "\n",
    "for location in label_locations_to_upload:\n",
    "    print(f\"--- Location: {location}\")\n",
    "    create_labelbox_dataset_for_location(location, folder_name=SUBFOLDER, key_postfix=\"median\")"
   ]
  },
  {
   "cell_type": "markdown",
   "metadata": {},
   "source": [
    "## Deleting unused datasets\n",
    "Use this section to selectively delete datasets that are no longer needed.\n",
    "\n",
    "**!USE WITH CAUTION!**"
   ]
  },
  {
   "cell_type": "code",
   "execution_count": 20,
   "metadata": {},
   "outputs": [
    {
     "name": "stdout",
     "output_type": "stream",
     "text": [
      "Deleting:  Betwa_Hamirpur_79-81_25-91_median cllbdw1gn0ad407zkgeiehuja\n",
      "Deleting:  Chambal_More_77-86_26-61_median cllbdvyba03lp07v7134o7wf9\n",
      "Deleting:  Sone_Rohtas_84-21_24-91_median cllbdvv3y0enp07wn5kwubc4v\n",
      "Deleting:  Tawa_Hoshangabad_77-80_22-74_median cllbdvr6e0enl07wn3cqxbejm\n",
      "Deleting:  Narmada_Sehore_77-32_22-56_median cllbdvo0i09yw07wb97r6e9en\n",
      "Deleting:  Ken_Banda_80-35_25-68_median cllbdviw20a0l07ux76frgapn\n",
      "Deleting:  Kathajodi_Cuttack_85-85_20-44_median cllbdveqs0a0j07uxgpda4qwo\n"
     ]
    }
   ],
   "source": [
    "# datasets = list(labelbox_client.get_datasets(where=(Dataset.name==\"Dummy dataset\")))\n",
    "datasets = list(labelbox_client.get_datasets())\n",
    "# check get_datasets for anything that has 'median' in it\n",
    "datasets = [ds for ds in datasets if 'median' in ds.name or 'test' in ds.name]\n",
    "\n",
    "for ds in datasets:\n",
    "    print(\"Deleting: \", ds.name, ds.uid)\n",
    "    #Uncomment to actually delete!\n",
    "    # ds.delete()"
   ]
  }
 ],
 "metadata": {
  "kernelspec": {
   "display_name": "raster_vision",
   "language": "python",
   "name": "python3"
  },
  "language_info": {
   "codemirror_mode": {
    "name": "ipython",
    "version": 3
   },
   "file_extension": ".py",
   "mimetype": "text/x-python",
   "name": "python",
   "nbconvert_exporter": "python",
   "pygments_lexer": "ipython3",
   "version": "3.9.16"
  }
 },
 "nbformat": 4,
 "nbformat_minor": 4
}
