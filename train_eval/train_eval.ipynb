{
 "cells": [
  {
   "cell_type": "code",
   "execution_count": 1,
   "id": "827ede6a-cec2-4306-b462-430933a476f9",
   "metadata": {
    "tags": []
   },
   "outputs": [
    {
     "name": "stderr",
     "output_type": "stream",
     "text": [
      "/home/ando/.conda/envs/rv_timm0412/lib/python3.9/site-packages/geopandas/_compat.py:124: UserWarning: The Shapely GEOS version (3.11.1-CAPI-1.17.1) is incompatible with the GEOS version PyGEOS was compiled with (3.10.3-CAPI-1.16.1). Conversions between both will be slow.\n",
      "  warnings.warn(\n"
     ]
    }
   ],
   "source": [
    "import sys\n",
    "import os\n",
    "sys.path.insert(0, os.path.abspath('..'))\n",
    "from os.path import expanduser\n",
    "\n",
    "%load_ext autoreload\n",
    "%autoreload 2\n",
    "\n",
    "from dotenv import load_dotenv\n",
    "load_dotenv()\n",
    "\n",
    "from google.cloud import storage\n",
    "from project_config import GCP_PROJECT_NAME, DATASET_JSON_PATH\n",
    "\n",
    "gcp_client = storage.Client(project=GCP_PROJECT_NAME)"
   ]
  },
  {
   "cell_type": "markdown",
   "id": "184df66e",
   "metadata": {},
   "source": [
    "### Configuration"
   ]
  },
  {
   "cell_type": "code",
   "execution_count": 2,
   "id": "d76aeda4",
   "metadata": {},
   "outputs": [],
   "source": [
    "from experiment_configs.configs import *\n",
    "config = satmae_large_config"
   ]
  },
  {
   "cell_type": "markdown",
   "id": "701b9bc0",
   "metadata": {},
   "source": [
    "### Create Rastervision datasets"
   ]
  },
  {
   "cell_type": "code",
   "execution_count": 6,
   "id": "bda67a90",
   "metadata": {
    "collapsed": true,
    "jupyter": {
     "outputs_hidden": true
    },
    "tags": []
   },
   "outputs": [
    {
     "name": "stderr",
     "output_type": "stream",
     "text": [
      "2023-11-30 18:20:37:rastervision.pipeline.file_system.utils: INFO - Using cached file /data/tmp/cache/http/storage.googleapis.com/sand_mining_median/labels/Kathajodi_Cuttack_85-85_20-44_median/s2/Kathajodi_Cuttack_85-85_20-44_2022-05-01_s2.tif.\n"
     ]
    },
    {
     "name": "stderr",
     "output_type": "stream",
     "text": [
      "2023-11-30 18:20:37:rastervision.pipeline.file_system.utils: INFO - Using cached file /data/tmp/cache/http/storage.googleapis.com/sand_mining_median/labels/Kathajodi_Cuttack_85-85_20-44_median/annotations/Kathajodi_Cuttack_85-85_20-44_2022-05-01_annotations.geojson.\n",
      "2023-11-30 18:20:37:rastervision.pipeline.file_system.utils: INFO - Using cached file /data/tmp/cache/http/storage.googleapis.com/sand_mining_median/labels/Kathajodi_Cuttack_85-85_20-44_median/rivers/Kathajodi_Cuttack_85-85_20-44_rivers_1000m.geojson.\n",
      "2023-11-30 18:20:37:rastervision.core.data.vector_source.geojson_vector_source: INFO - Ignoring CRS ({'type': 'name', 'properties': {'name': 'urn:ogc:def:crs:OGC:1.3:CRS84'}}) specified in https://storage.googleapis.com/sand_mining_median/labels/Kathajodi_Cuttack_85-85_20-44_median/rivers/Kathajodi_Cuttack_85-85_20-44_rivers_1000m.geojson and assuming EPSG:4326 instead.\n",
      "2023-11-30 18:20:37:rastervision.pipeline.file_system.utils: INFO - Using cached file /data/tmp/cache/http/storage.googleapis.com/sand_mining_median/labels/Kathajodi_Cuttack_85-85_20-44_median/s2/Kathajodi_Cuttack_85-85_20-44_2022-02-01_s2.tif.\n",
      "2023-11-30 18:20:37:rastervision.pipeline.file_system.utils: INFO - Using cached file /data/tmp/cache/http/storage.googleapis.com/sand_mining_median/labels/Kathajodi_Cuttack_85-85_20-44_median/annotations/Kathajodi_Cuttack_85-85_20-44_2022-02-01_annotations.geojson.\n",
      "2023-11-30 18:20:37:rastervision.pipeline.file_system.utils: INFO - Using cached file /data/tmp/cache/http/storage.googleapis.com/sand_mining_median/labels/Kathajodi_Cuttack_85-85_20-44_median/rivers/Kathajodi_Cuttack_85-85_20-44_rivers_1000m.geojson.\n",
      "2023-11-30 18:20:37:rastervision.core.data.vector_source.geojson_vector_source: INFO - Ignoring CRS ({'type': 'name', 'properties': {'name': 'urn:ogc:def:crs:OGC:1.3:CRS84'}}) specified in https://storage.googleapis.com/sand_mining_median/labels/Kathajodi_Cuttack_85-85_20-44_median/rivers/Kathajodi_Cuttack_85-85_20-44_rivers_1000m.geojson and assuming EPSG:4326 instead.\n",
      "2023-11-30 18:20:37:rastervision.pipeline.file_system.utils: INFO - Using cached file /data/tmp/cache/http/storage.googleapis.com/sand_mining_median/labels/Ken_Banda_80-35_25-68_median/s2/Ken_Banda_80-35_25-68_2022-06-01_s2.tif.\n",
      "2023-11-30 18:20:37:rastervision.pipeline.file_system.utils: INFO - Using cached file /data/tmp/cache/http/storage.googleapis.com/sand_mining_median/labels/Ken_Banda_80-35_25-68_median/annotations/Ken_Banda_80-35_25-68_2022-06-01_annotations.geojson.\n",
      "2023-11-30 18:20:37:rastervision.pipeline.file_system.utils: INFO - Using cached file /data/tmp/cache/http/storage.googleapis.com/sand_mining_median/labels/Ken_Banda_80-35_25-68_median/rivers/Ken_Banda_80-35_25-68_rivers_1000m.geojson.\n",
      "2023-11-30 18:20:37:rastervision.core.data.vector_source.geojson_vector_source: INFO - Ignoring CRS ({'type': 'name', 'properties': {'name': 'urn:ogc:def:crs:OGC:1.3:CRS84'}}) specified in https://storage.googleapis.com/sand_mining_median/labels/Ken_Banda_80-35_25-68_median/rivers/Ken_Banda_80-35_25-68_rivers_1000m.geojson and assuming EPSG:4326 instead.\n",
      "2023-11-30 18:20:37:rastervision.pipeline.file_system.utils: INFO - Using cached file /data/tmp/cache/http/storage.googleapis.com/sand_mining_median/labels/Ken_Banda_80-35_25-68_median/s2/Ken_Banda_80-35_25-68_2022-01-01_s2.tif.\n",
      "2023-11-30 18:20:37:rastervision.pipeline.file_system.utils: INFO - Using cached file /data/tmp/cache/http/storage.googleapis.com/sand_mining_median/labels/Ken_Banda_80-35_25-68_median/annotations/Ken_Banda_80-35_25-68_2022-01-01_annotations.geojson.\n",
      "2023-11-30 18:20:37:rastervision.pipeline.file_system.utils: INFO - Using cached file /data/tmp/cache/http/storage.googleapis.com/sand_mining_median/labels/Ken_Banda_80-35_25-68_median/rivers/Ken_Banda_80-35_25-68_rivers_1000m.geojson.\n",
      "2023-11-30 18:20:37:rastervision.core.data.vector_source.geojson_vector_source: INFO - Ignoring CRS ({'type': 'name', 'properties': {'name': 'urn:ogc:def:crs:OGC:1.3:CRS84'}}) specified in https://storage.googleapis.com/sand_mining_median/labels/Ken_Banda_80-35_25-68_median/rivers/Ken_Banda_80-35_25-68_rivers_1000m.geojson and assuming EPSG:4326 instead.\n",
      "2023-11-30 18:20:37:rastervision.pipeline.file_system.utils: INFO - Using cached file /data/tmp/cache/http/storage.googleapis.com/sand_mining_median/labels/Narmada_Sehore_77-32_22-56_median/s2/Narmada_Sehore_77-32_22-56_2022-01-01_s2.tif.\n",
      "2023-11-30 18:20:37:rastervision.pipeline.file_system.utils: INFO - Using cached file /data/tmp/cache/http/storage.googleapis.com/sand_mining_median/labels/Narmada_Sehore_77-32_22-56_median/annotations/Narmada_Sehore_77-32_22-56_2022-01-01_annotations.geojson.\n",
      "2023-11-30 18:20:37:rastervision.pipeline.file_system.utils: INFO - Using cached file /data/tmp/cache/http/storage.googleapis.com/sand_mining_median/labels/Narmada_Sehore_77-32_22-56_median/rivers/Narmada_Sehore_77-32_22-56_rivers_1000m.geojson.\n",
      "2023-11-30 18:20:37:rastervision.core.data.vector_source.geojson_vector_source: INFO - Ignoring CRS ({'type': 'name', 'properties': {'name': 'urn:ogc:def:crs:OGC:1.3:CRS84'}}) specified in https://storage.googleapis.com/sand_mining_median/labels/Narmada_Sehore_77-32_22-56_median/rivers/Narmada_Sehore_77-32_22-56_rivers_1000m.geojson and assuming EPSG:4326 instead.\n",
      "2023-11-30 18:20:37:rastervision.pipeline.file_system.utils: INFO - Using cached file /data/tmp/cache/http/storage.googleapis.com/sand_mining_median/labels/Narmada_Sehore_77-32_22-56_median/s2/Narmada_Sehore_77-32_22-56_2022-10-01_s2.tif.\n",
      "2023-11-30 18:20:37:rastervision.pipeline.file_system.utils: INFO - Using cached file /data/tmp/cache/http/storage.googleapis.com/sand_mining_median/labels/Narmada_Sehore_77-32_22-56_median/annotations/Narmada_Sehore_77-32_22-56_2022-10-01_annotations.geojson.\n",
      "2023-11-30 18:20:37:rastervision.pipeline.file_system.utils: INFO - Using cached file /data/tmp/cache/http/storage.googleapis.com/sand_mining_median/labels/Narmada_Sehore_77-32_22-56_median/rivers/Narmada_Sehore_77-32_22-56_rivers_1000m.geojson.\n",
      "2023-11-30 18:20:37:rastervision.core.data.vector_source.geojson_vector_source: INFO - Ignoring CRS ({'type': 'name', 'properties': {'name': 'urn:ogc:def:crs:OGC:1.3:CRS84'}}) specified in https://storage.googleapis.com/sand_mining_median/labels/Narmada_Sehore_77-32_22-56_median/rivers/Narmada_Sehore_77-32_22-56_rivers_1000m.geojson and assuming EPSG:4326 instead.\n",
      "2023-11-30 18:20:37:rastervision.pipeline.file_system.utils: INFO - Using cached file /data/tmp/cache/http/storage.googleapis.com/sand_mining_median/labels/Tawa_Hoshangabad_77-80_22-74_median/s2/Tawa_Hoshangabad_77-80_22-74_2022-04-01_s2.tif.\n",
      "2023-11-30 18:20:37:rastervision.pipeline.file_system.utils: INFO - Using cached file /data/tmp/cache/http/storage.googleapis.com/sand_mining_median/labels/Tawa_Hoshangabad_77-80_22-74_median/annotations/Tawa_Hoshangabad_77-80_22-74_2022-04-01_annotations.geojson.\n",
      "2023-11-30 18:20:37:rastervision.pipeline.file_system.utils: INFO - Using cached file /data/tmp/cache/http/storage.googleapis.com/sand_mining_median/labels/Tawa_Hoshangabad_77-80_22-74_median/rivers/Tawa_Hoshangabad_77-80_22-74_rivers_1000m.geojson.\n",
      "2023-11-30 18:20:37:rastervision.core.data.vector_source.geojson_vector_source: INFO - Ignoring CRS ({'type': 'name', 'properties': {'name': 'urn:ogc:def:crs:OGC:1.3:CRS84'}}) specified in https://storage.googleapis.com/sand_mining_median/labels/Tawa_Hoshangabad_77-80_22-74_median/rivers/Tawa_Hoshangabad_77-80_22-74_rivers_1000m.geojson and assuming EPSG:4326 instead.\n",
      "2023-11-30 18:20:37:rastervision.pipeline.file_system.utils: INFO - Using cached file /data/tmp/cache/http/storage.googleapis.com/sand_mining_median/labels/Tawa_Hoshangabad_77-80_22-74_median/s2/Tawa_Hoshangabad_77-80_22-74_2022-01-01_s2.tif.\n",
      "2023-11-30 18:20:38:rastervision.pipeline.file_system.utils: INFO - Using cached file /data/tmp/cache/http/storage.googleapis.com/sand_mining_median/labels/Tawa_Hoshangabad_77-80_22-74_median/annotations/Tawa_Hoshangabad_77-80_22-74_2022-01-01_annotations.geojson.\n",
      "2023-11-30 18:20:38:rastervision.pipeline.file_system.utils: INFO - Using cached file /data/tmp/cache/http/storage.googleapis.com/sand_mining_median/labels/Tawa_Hoshangabad_77-80_22-74_median/rivers/Tawa_Hoshangabad_77-80_22-74_rivers_1000m.geojson.\n",
      "2023-11-30 18:20:38:rastervision.core.data.vector_source.geojson_vector_source: INFO - Ignoring CRS ({'type': 'name', 'properties': {'name': 'urn:ogc:def:crs:OGC:1.3:CRS84'}}) specified in https://storage.googleapis.com/sand_mining_median/labels/Tawa_Hoshangabad_77-80_22-74_median/rivers/Tawa_Hoshangabad_77-80_22-74_rivers_1000m.geojson and assuming EPSG:4326 instead.\n",
      "2023-11-30 18:20:38:rastervision.pipeline.file_system.utils: INFO - Using cached file /data/tmp/cache/http/storage.googleapis.com/sand_mining_median/labels/Sone_Rohtas_84-21_24-91_median/s2/Sone_Rohtas_84-21_24-91_2022-02-01_s2.tif.\n",
      "2023-11-30 18:20:38:rastervision.pipeline.file_system.utils: INFO - Using cached file /data/tmp/cache/http/storage.googleapis.com/sand_mining_median/labels/Sone_Rohtas_84-21_24-91_median/annotations/Sone_Rohtas_84-21_24-91_2022-02-01_annotations.geojson.\n",
      "2023-11-30 18:20:38:rastervision.pipeline.file_system.utils: INFO - Using cached file /data/tmp/cache/http/storage.googleapis.com/sand_mining_median/labels/Sone_Rohtas_84-21_24-91_median/rivers/Sone_Rohtas_84-21_24-91_rivers_1000m.geojson.\n",
      "2023-11-30 18:20:38:rastervision.core.data.vector_source.geojson_vector_source: INFO - Ignoring CRS ({'type': 'name', 'properties': {'name': 'urn:ogc:def:crs:OGC:1.3:CRS84'}}) specified in https://storage.googleapis.com/sand_mining_median/labels/Sone_Rohtas_84-21_24-91_median/rivers/Sone_Rohtas_84-21_24-91_rivers_1000m.geojson and assuming EPSG:4326 instead.\n",
      "2023-11-30 18:20:38:rastervision.pipeline.file_system.utils: INFO - Using cached file /data/tmp/cache/http/storage.googleapis.com/sand_mining_median/labels/Sone_Rohtas_84-21_24-91_median/s2/Sone_Rohtas_84-21_24-91_2022-05-01_s2.tif.\n",
      "2023-11-30 18:20:38:rastervision.pipeline.file_system.utils: INFO - Using cached file /data/tmp/cache/http/storage.googleapis.com/sand_mining_median/labels/Sone_Rohtas_84-21_24-91_median/annotations/Sone_Rohtas_84-21_24-91_2022-05-01_annotations.geojson.\n",
      "2023-11-30 18:20:38:rastervision.pipeline.file_system.utils: INFO - Using cached file /data/tmp/cache/http/storage.googleapis.com/sand_mining_median/labels/Sone_Rohtas_84-21_24-91_median/rivers/Sone_Rohtas_84-21_24-91_rivers_1000m.geojson.\n",
      "2023-11-30 18:20:38:rastervision.core.data.vector_source.geojson_vector_source: INFO - Ignoring CRS ({'type': 'name', 'properties': {'name': 'urn:ogc:def:crs:OGC:1.3:CRS84'}}) specified in https://storage.googleapis.com/sand_mining_median/labels/Sone_Rohtas_84-21_24-91_median/rivers/Sone_Rohtas_84-21_24-91_rivers_1000m.geojson and assuming EPSG:4326 instead.\n",
      "2023-11-30 18:20:38:rastervision.pipeline.file_system.utils: INFO - Using cached file /data/tmp/cache/http/storage.googleapis.com/sand_mining_median/labels/Sone_Rohtas_83-86_24-46_median/s2/Sone_Rohtas_83-86_24-46_2023-01-01_s2.tif.\n",
      "2023-11-30 18:20:38:rastervision.pipeline.file_system.utils: INFO - Using cached file /data/tmp/cache/http/storage.googleapis.com/sand_mining_median/labels/Sone_Rohtas_83-86_24-46_median/annotations/Sone_Rohtas_83-86_24-46_2023-01-01_annotations.geojson.\n",
      "2023-11-30 18:20:38:rastervision.pipeline.file_system.utils: INFO - Using cached file /data/tmp/cache/http/storage.googleapis.com/sand_mining_median/labels/Sone_Rohtas_83-86_24-46_median/rivers/Sone_Rohtas_83-86_24-46_rivers_1000m.geojson.\n",
      "2023-11-30 18:20:38:rastervision.core.data.vector_source.geojson_vector_source: INFO - Ignoring CRS ({'type': 'name', 'properties': {'name': 'urn:ogc:def:crs:OGC:1.3:CRS84'}}) specified in https://storage.googleapis.com/sand_mining_median/labels/Sone_Rohtas_83-86_24-46_median/rivers/Sone_Rohtas_83-86_24-46_rivers_1000m.geojson and assuming EPSG:4326 instead.\n",
      "2023-11-30 18:20:38:rastervision.pipeline.file_system.utils: INFO - Using cached file /data/tmp/cache/http/storage.googleapis.com/sand_mining_median/labels/Sone_Rohtas_83-86_24-46_median/s2/Sone_Rohtas_83-86_24-46_2023-06-01_s2.tif.\n",
      "2023-11-30 18:20:38:rastervision.pipeline.file_system.utils: INFO - Using cached file /data/tmp/cache/http/storage.googleapis.com/sand_mining_median/labels/Sone_Rohtas_83-86_24-46_median/annotations/Sone_Rohtas_83-86_24-46_2023-06-01_annotations.geojson.\n",
      "2023-11-30 18:20:38:rastervision.pipeline.file_system.utils: INFO - Using cached file /data/tmp/cache/http/storage.googleapis.com/sand_mining_median/labels/Sone_Rohtas_83-86_24-46_median/rivers/Sone_Rohtas_83-86_24-46_rivers_1000m.geojson.\n",
      "2023-11-30 18:20:38:rastervision.core.data.vector_source.geojson_vector_source: INFO - Ignoring CRS ({'type': 'name', 'properties': {'name': 'urn:ogc:def:crs:OGC:1.3:CRS84'}}) specified in https://storage.googleapis.com/sand_mining_median/labels/Sone_Rohtas_83-86_24-46_median/rivers/Sone_Rohtas_83-86_24-46_rivers_1000m.geojson and assuming EPSG:4326 instead.\n",
      "2023-11-30 18:20:38:rastervision.pipeline.file_system.utils: INFO - Using cached file /data/tmp/cache/http/storage.googleapis.com/sand_mining_median/labels/Bhargavi_Khordha_85-88_20-26_median/s2/Bhargavi_Khordha_85-88_20-26_2018-12-01_s2.tif.\n",
      "2023-11-30 18:20:38:rastervision.pipeline.file_system.utils: INFO - Using cached file /data/tmp/cache/http/storage.googleapis.com/sand_mining_median/labels/Bhargavi_Khordha_85-88_20-26_median/annotations/Bhargavi_Khordha_85-88_20-26_2018-12-01_annotations.geojson.\n",
      "2023-11-30 18:20:38:rastervision.pipeline.file_system.utils: INFO - Using cached file /data/tmp/cache/http/storage.googleapis.com/sand_mining_median/labels/Bhargavi_Khordha_85-88_20-26_median/rivers/Bhargavi_Khordha_85-88_20-26_rivers_1000m.geojson.\n",
      "2023-11-30 18:20:38:rastervision.core.data.vector_source.geojson_vector_source: INFO - Ignoring CRS ({'type': 'name', 'properties': {'name': 'urn:ogc:def:crs:OGC:1.3:CRS84'}}) specified in https://storage.googleapis.com/sand_mining_median/labels/Bhargavi_Khordha_85-88_20-26_median/rivers/Bhargavi_Khordha_85-88_20-26_rivers_1000m.geojson and assuming EPSG:4326 instead.\n",
      "2023-11-30 18:20:38:rastervision.pipeline.file_system.utils: INFO - Using cached file /data/tmp/cache/http/storage.googleapis.com/sand_mining_median/labels/Bhargavi_Khordha_85-88_20-26_median/s2/Bhargavi_Khordha_85-88_20-26_2019-05-01_s2.tif.\n",
      "2023-11-30 18:20:38:rastervision.pipeline.file_system.utils: INFO - Using cached file /data/tmp/cache/http/storage.googleapis.com/sand_mining_median/labels/Bhargavi_Khordha_85-88_20-26_median/annotations/Bhargavi_Khordha_85-88_20-26_2019-05-01_annotations.geojson.\n",
      "2023-11-30 18:20:38:rastervision.pipeline.file_system.utils: INFO - Using cached file /data/tmp/cache/http/storage.googleapis.com/sand_mining_median/labels/Bhargavi_Khordha_85-88_20-26_median/rivers/Bhargavi_Khordha_85-88_20-26_rivers_1000m.geojson.\n",
      "2023-11-30 18:20:38:rastervision.core.data.vector_source.geojson_vector_source: INFO - Ignoring CRS ({'type': 'name', 'properties': {'name': 'urn:ogc:def:crs:OGC:1.3:CRS84'}}) specified in https://storage.googleapis.com/sand_mining_median/labels/Bhargavi_Khordha_85-88_20-26_median/rivers/Bhargavi_Khordha_85-88_20-26_rivers_1000m.geojson and assuming EPSG:4326 instead.\n",
      "2023-11-30 18:20:38:rastervision.pipeline.file_system.utils: INFO - Using cached file /data/tmp/cache/http/storage.googleapis.com/sand_mining_median/labels/Ganges_Patna_85-23_25-62_median/s2/Ganges_Patna_85-23_25-62_2022-02-01_s2.tif.\n",
      "2023-11-30 18:20:38:rastervision.pipeline.file_system.utils: INFO - Using cached file /data/tmp/cache/http/storage.googleapis.com/sand_mining_median/labels/Ganges_Patna_85-23_25-62_median/annotations/Ganges_Patna_85-23_25-62_2022-02-01_annotations.geojson.\n",
      "2023-11-30 18:20:38:rastervision.pipeline.file_system.utils: INFO - Using cached file /data/tmp/cache/http/storage.googleapis.com/sand_mining_median/labels/Ganges_Patna_85-23_25-62_median/rivers/Ganges_Patna_85-23_25-62_rivers_1000m.geojson.\n",
      "2023-11-30 18:20:38:rastervision.core.data.vector_source.geojson_vector_source: INFO - Ignoring CRS ({'type': 'name', 'properties': {'name': 'urn:ogc:def:crs:OGC:1.3:CRS84'}}) specified in https://storage.googleapis.com/sand_mining_median/labels/Ganges_Patna_85-23_25-62_median/rivers/Ganges_Patna_85-23_25-62_rivers_1000m.geojson and assuming EPSG:4326 instead.\n",
      "2023-11-30 18:20:38:rastervision.pipeline.file_system.utils: INFO - Using cached file /data/tmp/cache/http/storage.googleapis.com/sand_mining_median/labels/Ganges_Patna_85-23_25-62_median/s2/Ganges_Patna_85-23_25-62_2022-05-01_s2.tif.\n",
      "2023-11-30 18:20:38:rastervision.pipeline.file_system.utils: INFO - Using cached file /data/tmp/cache/http/storage.googleapis.com/sand_mining_median/labels/Ganges_Patna_85-23_25-62_median/annotations/Ganges_Patna_85-23_25-62_2022-05-01_annotations.geojson.\n",
      "2023-11-30 18:20:38:rastervision.pipeline.file_system.utils: INFO - Using cached file /data/tmp/cache/http/storage.googleapis.com/sand_mining_median/labels/Ganges_Patna_85-23_25-62_median/rivers/Ganges_Patna_85-23_25-62_rivers_1000m.geojson.\n",
      "2023-11-30 18:20:38:rastervision.core.data.vector_source.geojson_vector_source: INFO - Ignoring CRS ({'type': 'name', 'properties': {'name': 'urn:ogc:def:crs:OGC:1.3:CRS84'}}) specified in https://storage.googleapis.com/sand_mining_median/labels/Ganges_Patna_85-23_25-62_median/rivers/Ganges_Patna_85-23_25-62_rivers_1000m.geojson and assuming EPSG:4326 instead.\n",
      "2023-11-30 18:20:38:rastervision.pipeline.file_system.utils: INFO - Using cached file /data/tmp/cache/http/storage.googleapis.com/sand_mining_median/labels/Ganges_Patna_85-1_25-66_median/s2/Ganges_Patna_85-1_25-66_2020-04-01_s2.tif.\n",
      "2023-11-30 18:20:38:rastervision.pipeline.file_system.utils: INFO - Using cached file /data/tmp/cache/http/storage.googleapis.com/sand_mining_median/labels/Ganges_Patna_85-1_25-66_median/annotations/Ganges_Patna_85-1_25-66_2020-04-01_annotations.geojson.\n",
      "2023-11-30 18:20:38:rastervision.pipeline.file_system.utils: INFO - Using cached file /data/tmp/cache/http/storage.googleapis.com/sand_mining_median/labels/Ganges_Patna_85-1_25-66_median/rivers/Ganges_Patna_85-1_25-66_rivers_1000m.geojson.\n",
      "2023-11-30 18:20:38:rastervision.core.data.vector_source.geojson_vector_source: INFO - Ignoring CRS ({'type': 'name', 'properties': {'name': 'urn:ogc:def:crs:OGC:1.3:CRS84'}}) specified in https://storage.googleapis.com/sand_mining_median/labels/Ganges_Patna_85-1_25-66_median/rivers/Ganges_Patna_85-1_25-66_rivers_1000m.geojson and assuming EPSG:4326 instead.\n",
      "2023-11-30 18:20:38:rastervision.pipeline.file_system.utils: INFO - Using cached file /data/tmp/cache/http/storage.googleapis.com/sand_mining_median/labels/Ganges_Patna_85-1_25-66_median/s2/Ganges_Patna_85-1_25-66_2019-11-01_s2.tif.\n",
      "2023-11-30 18:20:38:rastervision.pipeline.file_system.utils: INFO - Using cached file /data/tmp/cache/http/storage.googleapis.com/sand_mining_median/labels/Ganges_Patna_85-1_25-66_median/annotations/Ganges_Patna_85-1_25-66_2019-11-01_annotations.geojson.\n",
      "2023-11-30 18:20:38:rastervision.pipeline.file_system.utils: INFO - Using cached file /data/tmp/cache/http/storage.googleapis.com/sand_mining_median/labels/Ganges_Patna_85-1_25-66_median/rivers/Ganges_Patna_85-1_25-66_rivers_1000m.geojson.\n",
      "2023-11-30 18:20:38:rastervision.core.data.vector_source.geojson_vector_source: INFO - Ignoring CRS ({'type': 'name', 'properties': {'name': 'urn:ogc:def:crs:OGC:1.3:CRS84'}}) specified in https://storage.googleapis.com/sand_mining_median/labels/Ganges_Patna_85-1_25-66_median/rivers/Ganges_Patna_85-1_25-66_rivers_1000m.geojson and assuming EPSG:4326 instead.\n",
      "2023-11-30 18:20:38:rastervision.pipeline.file_system.utils: INFO - Using cached file /data/tmp/cache/http/storage.googleapis.com/sand_mining_median/labels/Chambal_More_77-92_26-66_median/s2/Chambal_More_77-92_26-66_2023-01-01_s2.tif.\n",
      "2023-11-30 18:20:38:rastervision.pipeline.file_system.utils: INFO - Using cached file /data/tmp/cache/http/storage.googleapis.com/sand_mining_median/labels/Chambal_More_77-92_26-66_median/annotations/Chambal_More_77-92_26-66_2023-01-01_annotations.geojson.\n",
      "2023-11-30 18:20:39:rastervision.pipeline.file_system.utils: INFO - Using cached file /data/tmp/cache/http/storage.googleapis.com/sand_mining_median/labels/Chambal_More_77-92_26-66_median/rivers/Chambal_More_77-92_26-66_rivers_1000m.geojson.\n",
      "2023-11-30 18:20:39:rastervision.core.data.vector_source.geojson_vector_source: INFO - Ignoring CRS ({'type': 'name', 'properties': {'name': 'urn:ogc:def:crs:OGC:1.3:CRS84'}}) specified in https://storage.googleapis.com/sand_mining_median/labels/Chambal_More_77-92_26-66_median/rivers/Chambal_More_77-92_26-66_rivers_1000m.geojson and assuming EPSG:4326 instead.\n",
      "2023-11-30 18:20:39:rastervision.pipeline.file_system.utils: INFO - Using cached file /data/tmp/cache/http/storage.googleapis.com/sand_mining_median/labels/Chambal_More_77-92_26-66_median/s2/Chambal_More_77-92_26-66_2023-06-01_s2.tif.\n",
      "2023-11-30 18:20:39:rastervision.pipeline.file_system.utils: INFO - Using cached file /data/tmp/cache/http/storage.googleapis.com/sand_mining_median/labels/Chambal_More_77-92_26-66_median/annotations/Chambal_More_77-92_26-66_2023-06-01_annotations.geojson.\n",
      "2023-11-30 18:20:39:rastervision.pipeline.file_system.utils: INFO - Using cached file /data/tmp/cache/http/storage.googleapis.com/sand_mining_median/labels/Chambal_More_77-92_26-66_median/rivers/Chambal_More_77-92_26-66_rivers_1000m.geojson.\n",
      "2023-11-30 18:20:39:rastervision.core.data.vector_source.geojson_vector_source: INFO - Ignoring CRS ({'type': 'name', 'properties': {'name': 'urn:ogc:def:crs:OGC:1.3:CRS84'}}) specified in https://storage.googleapis.com/sand_mining_median/labels/Chambal_More_77-92_26-66_median/rivers/Chambal_More_77-92_26-66_rivers_1000m.geojson and assuming EPSG:4326 instead.\n",
      "2023-11-30 18:20:39:rastervision.pipeline.file_system.utils: INFO - Using cached file /data/tmp/cache/http/storage.googleapis.com/sand_mining_median/labels/Damodar_PurbaBardhaman_87-73_23-24_median/s2/Damodar_PurbaBardhaman_87-73_23-24_2022-11-01_s2.tif.\n",
      "2023-11-30 18:20:39:rastervision.pipeline.file_system.utils: INFO - Using cached file /data/tmp/cache/http/storage.googleapis.com/sand_mining_median/labels/Damodar_PurbaBardhaman_87-73_23-24_median/annotations/Damodar_PurbaBardhaman_87-73_23-24_2022-11-01_annotations.geojson.\n",
      "2023-11-30 18:20:39:rastervision.pipeline.file_system.utils: INFO - Using cached file /data/tmp/cache/http/storage.googleapis.com/sand_mining_median/labels/Damodar_PurbaBardhaman_87-73_23-24_median/rivers/Damodar_PurbaBardhaman_87-73_23-24_rivers_1000m.geojson.\n",
      "2023-11-30 18:20:39:rastervision.core.data.vector_source.geojson_vector_source: INFO - Ignoring CRS ({'type': 'name', 'properties': {'name': 'urn:ogc:def:crs:OGC:1.3:CRS84'}}) specified in https://storage.googleapis.com/sand_mining_median/labels/Damodar_PurbaBardhaman_87-73_23-24_median/rivers/Damodar_PurbaBardhaman_87-73_23-24_rivers_1000m.geojson and assuming EPSG:4326 instead.\n",
      "2023-11-30 18:20:39:rastervision.pipeline.file_system.utils: INFO - Using cached file /data/tmp/cache/http/storage.googleapis.com/sand_mining_median/labels/Damodar_PurbaBardhaman_87-73_23-24_median/s2/Damodar_PurbaBardhaman_87-73_23-24_2023-04-01_s2.tif.\n",
      "2023-11-30 18:20:39:rastervision.pipeline.file_system.utils: INFO - Using cached file /data/tmp/cache/http/storage.googleapis.com/sand_mining_median/labels/Damodar_PurbaBardhaman_87-73_23-24_median/annotations/Damodar_PurbaBardhaman_87-73_23-24_2023-04-01_annotations.geojson.\n",
      "2023-11-30 18:20:39:rastervision.pipeline.file_system.utils: INFO - Using cached file /data/tmp/cache/http/storage.googleapis.com/sand_mining_median/labels/Damodar_PurbaBardhaman_87-73_23-24_median/rivers/Damodar_PurbaBardhaman_87-73_23-24_rivers_1000m.geojson.\n",
      "2023-11-30 18:20:39:rastervision.core.data.vector_source.geojson_vector_source: INFO - Ignoring CRS ({'type': 'name', 'properties': {'name': 'urn:ogc:def:crs:OGC:1.3:CRS84'}}) specified in https://storage.googleapis.com/sand_mining_median/labels/Damodar_PurbaBardhaman_87-73_23-24_median/rivers/Damodar_PurbaBardhaman_87-73_23-24_rivers_1000m.geojson and assuming EPSG:4326 instead.\n",
      "2023-11-30 18:20:39:rastervision.pipeline.file_system.utils: INFO - Using cached file /data/tmp/cache/http/storage.googleapis.com/sand_mining_median/labels/Mayurakshi_Birbhum_87-66_23-61_median/s2/Mayurakshi_Birbhum_87-66_23-61_2022-10-01_s2.tif.\n",
      "2023-11-30 18:20:39:rastervision.pipeline.file_system.utils: INFO - Using cached file /data/tmp/cache/http/storage.googleapis.com/sand_mining_median/labels/Mayurakshi_Birbhum_87-66_23-61_median/annotations/Mayurakshi_Birbhum_87-66_23-61_2022-10-01_annotations.geojson.\n",
      "2023-11-30 18:20:39:rastervision.pipeline.file_system.utils: INFO - Using cached file /data/tmp/cache/http/storage.googleapis.com/sand_mining_median/labels/Mayurakshi_Birbhum_87-66_23-61_median/rivers/Mayurakshi_Birbhum_87-66_23-61_rivers_1000m.geojson.\n",
      "2023-11-30 18:20:39:rastervision.core.data.vector_source.geojson_vector_source: INFO - Ignoring CRS ({'type': 'name', 'properties': {'name': 'urn:ogc:def:crs:OGC:1.3:CRS84'}}) specified in https://storage.googleapis.com/sand_mining_median/labels/Mayurakshi_Birbhum_87-66_23-61_median/rivers/Mayurakshi_Birbhum_87-66_23-61_rivers_1000m.geojson and assuming EPSG:4326 instead.\n",
      "2023-11-30 18:20:39:rastervision.pipeline.file_system.utils: INFO - Using cached file /data/tmp/cache/http/storage.googleapis.com/sand_mining_median/labels/Mayurakshi_Birbhum_87-66_23-61_median/s2/Mayurakshi_Birbhum_87-66_23-61_2023-05-01_s2.tif.\n",
      "2023-11-30 18:20:39:rastervision.pipeline.file_system.utils: INFO - Using cached file /data/tmp/cache/http/storage.googleapis.com/sand_mining_median/labels/Mayurakshi_Birbhum_87-66_23-61_median/annotations/Mayurakshi_Birbhum_87-66_23-61_2023-05-01_annotations.geojson.\n",
      "2023-11-30 18:20:39:rastervision.pipeline.file_system.utils: INFO - Using cached file /data/tmp/cache/http/storage.googleapis.com/sand_mining_median/labels/Mayurakshi_Birbhum_87-66_23-61_median/rivers/Mayurakshi_Birbhum_87-66_23-61_rivers_1000m.geojson.\n",
      "2023-11-30 18:20:39:rastervision.core.data.vector_source.geojson_vector_source: INFO - Ignoring CRS ({'type': 'name', 'properties': {'name': 'urn:ogc:def:crs:OGC:1.3:CRS84'}}) specified in https://storage.googleapis.com/sand_mining_median/labels/Mayurakshi_Birbhum_87-66_23-61_median/rivers/Mayurakshi_Birbhum_87-66_23-61_rivers_1000m.geojson and assuming EPSG:4326 instead.\n",
      "2023-11-30 18:20:39:rastervision.pipeline.file_system.utils: INFO - Using cached file /data/tmp/cache/http/storage.googleapis.com/sand_mining_median/labels/Sone_Patna_84-76_25-44_median/s2/Sone_Patna_84-76_25-44_2022-10-01_s2.tif.\n",
      "2023-11-30 18:20:39:rastervision.pipeline.file_system.utils: INFO - Using cached file /data/tmp/cache/http/storage.googleapis.com/sand_mining_median/labels/Sone_Patna_84-76_25-44_median/annotations/Sone_Patna_84-76_25-44_2022-10-01_annotations.geojson.\n",
      "2023-11-30 18:20:39:rastervision.pipeline.file_system.utils: INFO - Using cached file /data/tmp/cache/http/storage.googleapis.com/sand_mining_median/labels/Sone_Patna_84-76_25-44_median/rivers/Sone_Patna_84-76_25-44_rivers_1000m.geojson.\n",
      "2023-11-30 18:20:39:rastervision.core.data.vector_source.geojson_vector_source: INFO - Ignoring CRS ({'type': 'name', 'properties': {'name': 'urn:ogc:def:crs:OGC:1.3:CRS84'}}) specified in https://storage.googleapis.com/sand_mining_median/labels/Sone_Patna_84-76_25-44_median/rivers/Sone_Patna_84-76_25-44_rivers_1000m.geojson and assuming EPSG:4326 instead.\n",
      "2023-11-30 18:20:39:rastervision.pipeline.file_system.utils: INFO - Using cached file /data/tmp/cache/http/storage.googleapis.com/sand_mining_median/labels/Sone_Patna_84-76_25-44_median/s2/Sone_Patna_84-76_25-44_2023-06-01_s2.tif.\n",
      "2023-11-30 18:20:39:rastervision.pipeline.file_system.utils: INFO - Using cached file /data/tmp/cache/http/storage.googleapis.com/sand_mining_median/labels/Sone_Patna_84-76_25-44_median/annotations/Sone_Patna_84-76_25-44_2023-06-01_annotations.geojson.\n",
      "2023-11-30 18:20:39:rastervision.pipeline.file_system.utils: INFO - Using cached file /data/tmp/cache/http/storage.googleapis.com/sand_mining_median/labels/Sone_Patna_84-76_25-44_median/rivers/Sone_Patna_84-76_25-44_rivers_1000m.geojson.\n",
      "2023-11-30 18:20:39:rastervision.core.data.vector_source.geojson_vector_source: INFO - Ignoring CRS ({'type': 'name', 'properties': {'name': 'urn:ogc:def:crs:OGC:1.3:CRS84'}}) specified in https://storage.googleapis.com/sand_mining_median/labels/Sone_Patna_84-76_25-44_median/rivers/Sone_Patna_84-76_25-44_rivers_1000m.geojson and assuming EPSG:4326 instead.\n",
      "2023-11-30 18:20:39:rastervision.pipeline.file_system.utils: INFO - Using cached file /data/tmp/cache/http/storage.googleapis.com/sand_mining_median/labels/Mahananda_Jalpaiguri_88-4_26-68_median/s2/Mahananda_Jalpaiguri_88-4_26-68_2020-11-01_s2.tif.\n",
      "2023-11-30 18:20:39:rastervision.pipeline.file_system.utils: INFO - Using cached file /data/tmp/cache/http/storage.googleapis.com/sand_mining_median/labels/Mahananda_Jalpaiguri_88-4_26-68_median/annotations/Mahananda_Jalpaiguri_88-4_26-68_2020-11-01_annotations.geojson.\n",
      "2023-11-30 18:20:39:rastervision.pipeline.file_system.utils: INFO - Using cached file /data/tmp/cache/http/storage.googleapis.com/sand_mining_median/labels/Mahananda_Jalpaiguri_88-4_26-68_median/rivers/Mahananda_Jalpaiguri_88-4_26-68_rivers_1000m.geojson.\n",
      "2023-11-30 18:20:39:rastervision.core.data.vector_source.geojson_vector_source: INFO - Ignoring CRS ({'type': 'name', 'properties': {'name': 'urn:ogc:def:crs:OGC:1.3:CRS84'}}) specified in https://storage.googleapis.com/sand_mining_median/labels/Mahananda_Jalpaiguri_88-4_26-68_median/rivers/Mahananda_Jalpaiguri_88-4_26-68_rivers_1000m.geojson and assuming EPSG:4326 instead.\n",
      "2023-11-30 18:20:39:rastervision.pipeline.file_system.utils: INFO - Using cached file /data/tmp/cache/http/storage.googleapis.com/sand_mining_median/labels/Damodar_PurbaBardhaman_87-39_23-42_median/s2/Damodar_PurbaBardhaman_87-39_23-42_2022-10-01_s2.tif.\n",
      "2023-11-30 18:20:39:rastervision.pipeline.file_system.utils: INFO - Using cached file /data/tmp/cache/http/storage.googleapis.com/sand_mining_median/labels/Damodar_PurbaBardhaman_87-39_23-42_median/annotations/Damodar_PurbaBardhaman_87-39_23-42_2022-10-01_annotations.geojson.\n",
      "2023-11-30 18:20:39:rastervision.pipeline.file_system.utils: INFO - Using cached file /data/tmp/cache/http/storage.googleapis.com/sand_mining_median/labels/Damodar_PurbaBardhaman_87-39_23-42_median/rivers/Damodar_PurbaBardhaman_87-39_23-42_rivers_1000m.geojson.\n",
      "2023-11-30 18:20:39:rastervision.core.data.vector_source.geojson_vector_source: INFO - Ignoring CRS ({'type': 'name', 'properties': {'name': 'urn:ogc:def:crs:OGC:1.3:CRS84'}}) specified in https://storage.googleapis.com/sand_mining_median/labels/Damodar_PurbaBardhaman_87-39_23-42_median/rivers/Damodar_PurbaBardhaman_87-39_23-42_rivers_1000m.geojson and assuming EPSG:4326 instead.\n",
      "2023-11-30 18:20:39:rastervision.pipeline.file_system.utils: INFO - Using cached file /data/tmp/cache/http/storage.googleapis.com/sand_mining_median/labels/Teesta_Jalpaiguri_88-6_26-84_median/s2/Teesta_Jalpaiguri_88-6_26-84_2021-12-01_s2.tif.\n",
      "2023-11-30 18:20:39:rastervision.pipeline.file_system.utils: INFO - Using cached file /data/tmp/cache/http/storage.googleapis.com/sand_mining_median/labels/Teesta_Jalpaiguri_88-6_26-84_median/annotations/Teesta_Jalpaiguri_88-6_26-84_2021-12-01_annotations.geojson.\n",
      "2023-11-30 18:20:39:rastervision.pipeline.file_system.utils: INFO - Using cached file /data/tmp/cache/http/storage.googleapis.com/sand_mining_median/labels/Teesta_Jalpaiguri_88-6_26-84_median/rivers/Teesta_Jalpaiguri_88-6_26-84_rivers_1000m.geojson.\n",
      "2023-11-30 18:20:40:rastervision.core.data.vector_source.geojson_vector_source: INFO - Ignoring CRS ({'type': 'name', 'properties': {'name': 'urn:ogc:def:crs:OGC:1.3:CRS84'}}) specified in https://storage.googleapis.com/sand_mining_median/labels/Teesta_Jalpaiguri_88-6_26-84_median/rivers/Teesta_Jalpaiguri_88-6_26-84_rivers_1000m.geojson and assuming EPSG:4326 instead.\n",
      "2023-11-30 18:20:40:rastervision.pipeline.file_system.utils: INFO - Using cached file /data/tmp/cache/http/storage.googleapis.com/sand_mining_median/labels/Mahananda_Jalpaiguri_88-4_26-68_median/s2/Mahananda_Jalpaiguri_88-4_26-68_2021-05-01_s2.tif.\n",
      "2023-11-30 18:20:40:rastervision.pipeline.file_system.utils: INFO - Using cached file /data/tmp/cache/http/storage.googleapis.com/sand_mining_median/labels/Mahananda_Jalpaiguri_88-4_26-68_median/annotations/Mahananda_Jalpaiguri_88-4_26-68_2021-05-01_annotations.geojson.\n",
      "2023-11-30 18:20:40:rastervision.pipeline.file_system.utils: INFO - Using cached file /data/tmp/cache/http/storage.googleapis.com/sand_mining_median/labels/Mahananda_Jalpaiguri_88-4_26-68_median/rivers/Mahananda_Jalpaiguri_88-4_26-68_rivers_1000m.geojson.\n",
      "2023-11-30 18:20:40:rastervision.core.data.vector_source.geojson_vector_source: INFO - Ignoring CRS ({'type': 'name', 'properties': {'name': 'urn:ogc:def:crs:OGC:1.3:CRS84'}}) specified in https://storage.googleapis.com/sand_mining_median/labels/Mahananda_Jalpaiguri_88-4_26-68_median/rivers/Mahananda_Jalpaiguri_88-4_26-68_rivers_1000m.geojson and assuming EPSG:4326 instead.\n",
      "2023-11-30 18:20:40:rastervision.pipeline.file_system.utils: INFO - Using cached file /data/tmp/cache/http/storage.googleapis.com/sand_mining_median/labels/Betwa_Jalaun_79-49_25-84_median/s2/Betwa_Jalaun_79-49_25-84_2022-10-01_s2.tif.\n",
      "2023-11-30 18:20:40:rastervision.pipeline.file_system.utils: INFO - Using cached file /data/tmp/cache/http/storage.googleapis.com/sand_mining_median/labels/Betwa_Jalaun_79-49_25-84_median/annotations/Betwa_Jalaun_79-49_25-84_2022-10-01_annotations.geojson.\n",
      "2023-11-30 18:20:40:rastervision.pipeline.file_system.utils: INFO - Using cached file /data/tmp/cache/http/storage.googleapis.com/sand_mining_median/labels/Betwa_Jalaun_79-49_25-84_median/rivers/Betwa_Jalaun_79-49_25-84_rivers_1000m.geojson.\n",
      "2023-11-30 18:20:40:rastervision.core.data.vector_source.geojson_vector_source: INFO - Ignoring CRS ({'type': 'name', 'properties': {'name': 'urn:ogc:def:crs:OGC:1.3:CRS84'}}) specified in https://storage.googleapis.com/sand_mining_median/labels/Betwa_Jalaun_79-49_25-84_median/rivers/Betwa_Jalaun_79-49_25-84_rivers_1000m.geojson and assuming EPSG:4326 instead.\n",
      "2023-11-30 18:20:40:rastervision.pipeline.file_system.utils: INFO - Using cached file /data/tmp/cache/http/storage.googleapis.com/sand_mining_median/labels/Betwa_Jalaun_79-49_25-84_median/s2/Betwa_Jalaun_79-49_25-84_2023-05-01_s2.tif.\n",
      "2023-11-30 18:20:40:rastervision.pipeline.file_system.utils: INFO - Using cached file /data/tmp/cache/http/storage.googleapis.com/sand_mining_median/labels/Betwa_Jalaun_79-49_25-84_median/annotations/Betwa_Jalaun_79-49_25-84_2023-05-01_annotations.geojson.\n",
      "2023-11-30 18:20:40:rastervision.pipeline.file_system.utils: INFO - Using cached file /data/tmp/cache/http/storage.googleapis.com/sand_mining_median/labels/Betwa_Jalaun_79-49_25-84_median/rivers/Betwa_Jalaun_79-49_25-84_rivers_1000m.geojson.\n",
      "2023-11-30 18:20:40:rastervision.core.data.vector_source.geojson_vector_source: INFO - Ignoring CRS ({'type': 'name', 'properties': {'name': 'urn:ogc:def:crs:OGC:1.3:CRS84'}}) specified in https://storage.googleapis.com/sand_mining_median/labels/Betwa_Jalaun_79-49_25-84_median/rivers/Betwa_Jalaun_79-49_25-84_rivers_1000m.geojson and assuming EPSG:4326 instead.\n",
      "2023-11-30 18:20:40:rastervision.pipeline.file_system.utils: INFO - Using cached file /data/tmp/cache/http/storage.googleapis.com/sand_mining_median/labels/Betwa_Jalaun_79-79_25-89_median/s2/Betwa_Jalaun_79-79_25-89_2022-10-01_s2.tif.\n",
      "2023-11-30 18:20:40:rastervision.pipeline.file_system.utils: INFO - Using cached file /data/tmp/cache/http/storage.googleapis.com/sand_mining_median/labels/Betwa_Jalaun_79-79_25-89_median/annotations/Betwa_Jalaun_79-79_25-89_2022-10-01_annotations.geojson.\n",
      "2023-11-30 18:20:40:rastervision.pipeline.file_system.utils: INFO - Using cached file /data/tmp/cache/http/storage.googleapis.com/sand_mining_median/labels/Betwa_Jalaun_79-79_25-89_median/rivers/Betwa_Jalaun_79-79_25-89_rivers_1000m.geojson.\n",
      "2023-11-30 18:20:40:rastervision.core.data.vector_source.geojson_vector_source: INFO - Ignoring CRS ({'type': 'name', 'properties': {'name': 'urn:ogc:def:crs:OGC:1.3:CRS84'}}) specified in https://storage.googleapis.com/sand_mining_median/labels/Betwa_Jalaun_79-79_25-89_median/rivers/Betwa_Jalaun_79-79_25-89_rivers_1000m.geojson and assuming EPSG:4326 instead.\n",
      "2023-11-30 18:20:40:rastervision.pipeline.file_system.utils: INFO - Using cached file /data/tmp/cache/http/storage.googleapis.com/sand_mining_median/labels/Betwa_Jalaun_79-79_25-89_median/s2/Betwa_Jalaun_79-79_25-89_2023-05-01_s2.tif.\n",
      "2023-11-30 18:20:40:rastervision.pipeline.file_system.utils: INFO - Using cached file /data/tmp/cache/http/storage.googleapis.com/sand_mining_median/labels/Betwa_Jalaun_79-79_25-89_median/annotations/Betwa_Jalaun_79-79_25-89_2023-05-01_annotations.geojson.\n",
      "2023-11-30 18:20:40:rastervision.pipeline.file_system.utils: INFO - Using cached file /data/tmp/cache/http/storage.googleapis.com/sand_mining_median/labels/Betwa_Jalaun_79-79_25-89_median/rivers/Betwa_Jalaun_79-79_25-89_rivers_1000m.geojson.\n",
      "2023-11-30 18:20:40:rastervision.core.data.vector_source.geojson_vector_source: INFO - Ignoring CRS ({'type': 'name', 'properties': {'name': 'urn:ogc:def:crs:OGC:1.3:CRS84'}}) specified in https://storage.googleapis.com/sand_mining_median/labels/Betwa_Jalaun_79-79_25-89_median/rivers/Betwa_Jalaun_79-79_25-89_rivers_1000m.geojson and assuming EPSG:4326 instead.\n",
      "2023-11-30 18:20:40:rastervision.pipeline.file_system.utils: INFO - Using cached file /data/tmp/cache/http/storage.googleapis.com/sand_mining_median/labels/Mahanadi_Angul_84-52_20-71_median/s2/Mahanadi_Angul_84-52_20-71_2021-11-01_s2.tif.\n",
      "2023-11-30 18:20:40:rastervision.pipeline.file_system.utils: INFO - Using cached file /data/tmp/cache/http/storage.googleapis.com/sand_mining_median/labels/Mahanadi_Angul_84-52_20-71_median/annotations/Mahanadi_Angul_84-52_20-71_2021-11-01_annotations.geojson.\n",
      "2023-11-30 18:20:40:rastervision.pipeline.file_system.utils: INFO - Using cached file /data/tmp/cache/http/storage.googleapis.com/sand_mining_median/labels/Mahanadi_Angul_84-52_20-71_median/rivers/Mahanadi_Angul_84-52_20-71_rivers_1000m.geojson.\n",
      "2023-11-30 18:20:40:rastervision.core.data.vector_source.geojson_vector_source: INFO - Ignoring CRS ({'type': 'name', 'properties': {'name': 'urn:ogc:def:crs:OGC:1.3:CRS84'}}) specified in https://storage.googleapis.com/sand_mining_median/labels/Mahanadi_Angul_84-52_20-71_median/rivers/Mahanadi_Angul_84-52_20-71_rivers_1000m.geojson and assuming EPSG:4326 instead.\n",
      "2023-11-30 18:20:40:rastervision.pipeline.file_system.utils: INFO - Using cached file /data/tmp/cache/http/storage.googleapis.com/sand_mining_median/labels/Mahanadi_Angul_84-52_20-71_median/s2/Mahanadi_Angul_84-52_20-71_2022-04-01_s2.tif.\n",
      "2023-11-30 18:20:40:rastervision.pipeline.file_system.utils: INFO - Using cached file /data/tmp/cache/http/storage.googleapis.com/sand_mining_median/labels/Mahanadi_Angul_84-52_20-71_median/annotations/Mahanadi_Angul_84-52_20-71_2022-04-01_annotations.geojson.\n",
      "2023-11-30 18:20:40:rastervision.pipeline.file_system.utils: INFO - Using cached file /data/tmp/cache/http/storage.googleapis.com/sand_mining_median/labels/Mahanadi_Angul_84-52_20-71_median/rivers/Mahanadi_Angul_84-52_20-71_rivers_1000m.geojson.\n",
      "2023-11-30 18:20:40:rastervision.core.data.vector_source.geojson_vector_source: INFO - Ignoring CRS ({'type': 'name', 'properties': {'name': 'urn:ogc:def:crs:OGC:1.3:CRS84'}}) specified in https://storage.googleapis.com/sand_mining_median/labels/Mahanadi_Angul_84-52_20-71_median/rivers/Mahanadi_Angul_84-52_20-71_rivers_1000m.geojson and assuming EPSG:4326 instead.\n",
      "2023-11-30 18:20:40:rastervision.pipeline.file_system.utils: INFO - Using cached file /data/tmp/cache/http/storage.googleapis.com/sand_mining_median/labels/Mahananda_UttarDinajpur_88-25_26-46_median/s2/Mahananda_UttarDinajpur_88-25_26-46_2020-10-01_s2.tif.\n",
      "2023-11-30 18:20:40:rastervision.pipeline.file_system.utils: INFO - Using cached file /data/tmp/cache/http/storage.googleapis.com/sand_mining_median/labels/Mahananda_UttarDinajpur_88-25_26-46_median/annotations/Mahananda_UttarDinajpur_88-25_26-46_2020-10-01_annotations.geojson.\n",
      "2023-11-30 18:20:40:rastervision.pipeline.file_system.utils: INFO - Using cached file /data/tmp/cache/http/storage.googleapis.com/sand_mining_median/labels/Mahananda_UttarDinajpur_88-25_26-46_median/rivers/Mahananda_UttarDinajpur_88-25_26-46_rivers_1000m.geojson.\n",
      "2023-11-30 18:20:40:rastervision.core.data.vector_source.geojson_vector_source: INFO - Ignoring CRS ({'type': 'name', 'properties': {'name': 'urn:ogc:def:crs:OGC:1.3:CRS84'}}) specified in https://storage.googleapis.com/sand_mining_median/labels/Mahananda_UttarDinajpur_88-25_26-46_median/rivers/Mahananda_UttarDinajpur_88-25_26-46_rivers_1000m.geojson and assuming EPSG:4326 instead.\n",
      "2023-11-30 18:20:40:rastervision.pipeline.file_system.utils: INFO - Using cached file /data/tmp/cache/http/storage.googleapis.com/sand_mining_median/labels/Mahananda_UttarDinajpur_88-25_26-46_median/s2/Mahananda_UttarDinajpur_88-25_26-46_2021-04-01_s2.tif.\n",
      "2023-11-30 18:20:40:rastervision.pipeline.file_system.utils: INFO - Using cached file /data/tmp/cache/http/storage.googleapis.com/sand_mining_median/labels/Mahananda_UttarDinajpur_88-25_26-46_median/annotations/Mahananda_UttarDinajpur_88-25_26-46_2021-04-01_annotations.geojson.\n",
      "2023-11-30 18:20:40:rastervision.pipeline.file_system.utils: INFO - Using cached file /data/tmp/cache/http/storage.googleapis.com/sand_mining_median/labels/Mahananda_UttarDinajpur_88-25_26-46_median/rivers/Mahananda_UttarDinajpur_88-25_26-46_rivers_1000m.geojson.\n",
      "2023-11-30 18:20:40:rastervision.core.data.vector_source.geojson_vector_source: INFO - Ignoring CRS ({'type': 'name', 'properties': {'name': 'urn:ogc:def:crs:OGC:1.3:CRS84'}}) specified in https://storage.googleapis.com/sand_mining_median/labels/Mahananda_UttarDinajpur_88-25_26-46_median/rivers/Mahananda_UttarDinajpur_88-25_26-46_rivers_1000m.geojson and assuming EPSG:4326 instead.\n",
      "2023-11-30 18:20:40:rastervision.pipeline.file_system.utils: INFO - Using cached file /data/tmp/cache/http/storage.googleapis.com/sand_mining_median/labels/Teesta_Jalpaiguri_88-64_26-85_median/s2/Teesta_Jalpaiguri_88-64_26-85_2020-01-01_s2.tif.\n",
      "2023-11-30 18:20:40:rastervision.pipeline.file_system.utils: INFO - Using cached file /data/tmp/cache/http/storage.googleapis.com/sand_mining_median/labels/Teesta_Jalpaiguri_88-64_26-85_median/annotations/Teesta_Jalpaiguri_88-64_26-85_2020-01-01_annotations.geojson.\n",
      "2023-11-30 18:20:40:rastervision.pipeline.file_system.utils: INFO - Using cached file /data/tmp/cache/http/storage.googleapis.com/sand_mining_median/labels/Teesta_Jalpaiguri_88-64_26-85_median/rivers/Teesta_Jalpaiguri_88-64_26-85_rivers_1000m.geojson.\n",
      "2023-11-30 18:20:40:rastervision.core.data.vector_source.geojson_vector_source: INFO - Ignoring CRS ({'type': 'name', 'properties': {'name': 'urn:ogc:def:crs:OGC:1.3:CRS84'}}) specified in https://storage.googleapis.com/sand_mining_median/labels/Teesta_Jalpaiguri_88-64_26-85_median/rivers/Teesta_Jalpaiguri_88-64_26-85_rivers_1000m.geojson and assuming EPSG:4326 instead.\n",
      "2023-11-30 18:20:40:rastervision.pipeline.file_system.utils: INFO - Using cached file /data/tmp/cache/http/storage.googleapis.com/sand_mining_median/labels/Teesta_Jalpaiguri_88-64_26-85_median/s2/Teesta_Jalpaiguri_88-64_26-85_2021-05-01_s2.tif.\n",
      "2023-11-30 18:20:40:rastervision.pipeline.file_system.utils: INFO - Using cached file /data/tmp/cache/http/storage.googleapis.com/sand_mining_median/labels/Teesta_Jalpaiguri_88-64_26-85_median/annotations/Teesta_Jalpaiguri_88-64_26-85_2021-05-01_annotations.geojson.\n",
      "2023-11-30 18:20:40:rastervision.pipeline.file_system.utils: INFO - Using cached file /data/tmp/cache/http/storage.googleapis.com/sand_mining_median/labels/Teesta_Jalpaiguri_88-64_26-85_median/rivers/Teesta_Jalpaiguri_88-64_26-85_rivers_1000m.geojson.\n",
      "2023-11-30 18:20:40:rastervision.core.data.vector_source.geojson_vector_source: INFO - Ignoring CRS ({'type': 'name', 'properties': {'name': 'urn:ogc:def:crs:OGC:1.3:CRS84'}}) specified in https://storage.googleapis.com/sand_mining_median/labels/Teesta_Jalpaiguri_88-64_26-85_median/rivers/Teesta_Jalpaiguri_88-64_26-85_rivers_1000m.geojson and assuming EPSG:4326 instead.\n",
      "2023-11-30 18:20:40:rastervision.pipeline.file_system.utils: INFO - Using cached file /data/tmp/cache/http/storage.googleapis.com/sand_mining_median/labels/Gangadhar_CoochBehar_89-86_26-46_median/s2/Gangadhar_CoochBehar_89-86_26-46_2021-12-01_s2.tif.\n",
      "2023-11-30 18:20:40:rastervision.pipeline.file_system.utils: INFO - Using cached file /data/tmp/cache/http/storage.googleapis.com/sand_mining_median/labels/Gangadhar_CoochBehar_89-86_26-46_median/annotations/Gangadhar_CoochBehar_89-86_26-46_2021-12-01_annotations.geojson.\n",
      "2023-11-30 18:20:40:rastervision.pipeline.file_system.utils: INFO - Using cached file /data/tmp/cache/http/storage.googleapis.com/sand_mining_median/labels/Gangadhar_CoochBehar_89-86_26-46_median/rivers/Gangadhar_CoochBehar_89-86_26-46_rivers_1000m.geojson.\n",
      "2023-11-30 18:20:41:rastervision.core.data.vector_source.geojson_vector_source: INFO - Ignoring CRS ({'type': 'name', 'properties': {'name': 'urn:ogc:def:crs:OGC:1.3:CRS84'}}) specified in https://storage.googleapis.com/sand_mining_median/labels/Gangadhar_CoochBehar_89-86_26-46_median/rivers/Gangadhar_CoochBehar_89-86_26-46_rivers_1000m.geojson and assuming EPSG:4326 instead.\n",
      "2023-11-30 18:20:41:rastervision.pipeline.file_system.utils: INFO - Using cached file /data/tmp/cache/http/storage.googleapis.com/sand_mining_median/labels/Gangadhar_CoochBehar_89-86_26-46_median/s2/Gangadhar_CoochBehar_89-86_26-46_2022-03-01_s2.tif.\n",
      "2023-11-30 18:20:41:rastervision.pipeline.file_system.utils: INFO - Using cached file /data/tmp/cache/http/storage.googleapis.com/sand_mining_median/labels/Gangadhar_CoochBehar_89-86_26-46_median/annotations/Gangadhar_CoochBehar_89-86_26-46_2022-03-01_annotations.geojson.\n",
      "2023-11-30 18:20:41:rastervision.pipeline.file_system.utils: INFO - Using cached file /data/tmp/cache/http/storage.googleapis.com/sand_mining_median/labels/Gangadhar_CoochBehar_89-86_26-46_median/rivers/Gangadhar_CoochBehar_89-86_26-46_rivers_1000m.geojson.\n",
      "2023-11-30 18:20:41:rastervision.core.data.vector_source.geojson_vector_source: INFO - Ignoring CRS ({'type': 'name', 'properties': {'name': 'urn:ogc:def:crs:OGC:1.3:CRS84'}}) specified in https://storage.googleapis.com/sand_mining_median/labels/Gangadhar_CoochBehar_89-86_26-46_median/rivers/Gangadhar_CoochBehar_89-86_26-46_rivers_1000m.geojson and assuming EPSG:4326 instead.\n",
      "2023-11-30 18:20:41:rastervision.pipeline.file_system.utils: INFO - Using cached file /data/tmp/cache/http/storage.googleapis.com/sand_mining_median/labels/Damodar_PurbaBardhaman_87-39_23-42_median/s2/Damodar_PurbaBardhaman_87-39_23-42_2023-03-01_s2.tif.\n",
      "2023-11-30 18:20:41:rastervision.pipeline.file_system.utils: INFO - Using cached file /data/tmp/cache/http/storage.googleapis.com/sand_mining_median/labels/Damodar_PurbaBardhaman_87-39_23-42_median/annotations/Damodar_PurbaBardhaman_87-39_23-42_2023-03-01_annotations.geojson.\n",
      "2023-11-30 18:20:41:rastervision.pipeline.file_system.utils: INFO - Using cached file /data/tmp/cache/http/storage.googleapis.com/sand_mining_median/labels/Damodar_PurbaBardhaman_87-39_23-42_median/rivers/Damodar_PurbaBardhaman_87-39_23-42_rivers_1000m.geojson.\n",
      "2023-11-30 18:20:41:rastervision.core.data.vector_source.geojson_vector_source: INFO - Ignoring CRS ({'type': 'name', 'properties': {'name': 'urn:ogc:def:crs:OGC:1.3:CRS84'}}) specified in https://storage.googleapis.com/sand_mining_median/labels/Damodar_PurbaBardhaman_87-39_23-42_median/rivers/Damodar_PurbaBardhaman_87-39_23-42_rivers_1000m.geojson and assuming EPSG:4326 instead.\n",
      "2023-11-30 18:20:41:rastervision.pipeline.file_system.utils: INFO - Using cached file /data/tmp/cache/http/storage.googleapis.com/sand_mining_median/labels/Palar_Ranipet_79-43_12-88_median/s2/Palar_Ranipet_79-43_12-88_2019-04-01_s2.tif.\n",
      "2023-11-30 18:20:41:rastervision.pipeline.file_system.utils: INFO - Using cached file /data/tmp/cache/http/storage.googleapis.com/sand_mining_median/labels/Palar_Ranipet_79-43_12-88_median/annotations/Palar_Ranipet_79-43_12-88_2019-04-01_annotations.geojson.\n",
      "2023-11-30 18:20:41:rastervision.pipeline.file_system.utils: INFO - Using cached file /data/tmp/cache/http/storage.googleapis.com/sand_mining_median/labels/Palar_Ranipet_79-43_12-88_median/rivers/Palar_Ranipet_79-43_12-88_rivers_1000m.geojson.\n",
      "2023-11-30 18:20:41:rastervision.core.data.vector_source.geojson_vector_source: INFO - Ignoring CRS ({'type': 'name', 'properties': {'name': 'urn:ogc:def:crs:OGC:1.3:CRS84'}}) specified in https://storage.googleapis.com/sand_mining_median/labels/Palar_Ranipet_79-43_12-88_median/rivers/Palar_Ranipet_79-43_12-88_rivers_1000m.geojson and assuming EPSG:4326 instead.\n",
      "2023-11-30 18:20:41:rastervision.pipeline.file_system.utils: INFO - Using cached file /data/tmp/cache/http/storage.googleapis.com/sand_mining_median/labels/Palar_Ranipet_79-43_12-88_median/s2/Palar_Ranipet_79-43_12-88_2019-08-01_s2.tif.\n",
      "2023-11-30 18:20:41:rastervision.pipeline.file_system.utils: INFO - Using cached file /data/tmp/cache/http/storage.googleapis.com/sand_mining_median/labels/Palar_Ranipet_79-43_12-88_median/annotations/Palar_Ranipet_79-43_12-88_2019-08-01_annotations.geojson.\n",
      "2023-11-30 18:20:41:rastervision.pipeline.file_system.utils: INFO - Using cached file /data/tmp/cache/http/storage.googleapis.com/sand_mining_median/labels/Palar_Ranipet_79-43_12-88_median/rivers/Palar_Ranipet_79-43_12-88_rivers_1000m.geojson.\n",
      "2023-11-30 18:20:41:rastervision.core.data.vector_source.geojson_vector_source: INFO - Ignoring CRS ({'type': 'name', 'properties': {'name': 'urn:ogc:def:crs:OGC:1.3:CRS84'}}) specified in https://storage.googleapis.com/sand_mining_median/labels/Palar_Ranipet_79-43_12-88_median/rivers/Palar_Ranipet_79-43_12-88_rivers_1000m.geojson and assuming EPSG:4326 instead.\n",
      "2023-11-30 18:20:41:rastervision.pipeline.file_system.utils: INFO - Using cached file /data/tmp/cache/http/storage.googleapis.com/sand_mining_median/labels/Godavari_EastGodavari_81-05_17-62_median/s2/Godavari_EastGodavari_81-05_17-62_2022-05-01_s2.tif.\n",
      "2023-11-30 18:20:41:rastervision.pipeline.file_system.utils: INFO - Using cached file /data/tmp/cache/http/storage.googleapis.com/sand_mining_median/labels/Godavari_EastGodavari_81-05_17-62_median/annotations/Godavari_EastGodavari_81-05_17-62_2022-05-01_annotations.geojson.\n",
      "2023-11-30 18:20:41:rastervision.pipeline.file_system.utils: INFO - Using cached file /data/tmp/cache/http/storage.googleapis.com/sand_mining_median/labels/Godavari_EastGodavari_81-05_17-62_median/rivers/Godavari_EastGodavari_81-05_17-62_rivers_1000m.geojson.\n",
      "2023-11-30 18:20:41:rastervision.core.data.vector_source.geojson_vector_source: INFO - Ignoring CRS ({'type': 'name', 'properties': {'name': 'urn:ogc:def:crs:OGC:1.3:CRS84'}}) specified in https://storage.googleapis.com/sand_mining_median/labels/Godavari_EastGodavari_81-05_17-62_median/rivers/Godavari_EastGodavari_81-05_17-62_rivers_1000m.geojson and assuming EPSG:4326 instead.\n",
      "2023-11-30 18:20:41:rastervision.pipeline.file_system.utils: INFO - Using cached file /data/tmp/cache/http/storage.googleapis.com/sand_mining_median/labels/Godavari_EastGodavari_81-05_17-62_median/s2/Godavari_EastGodavari_81-05_17-62_2022-10-01_s2.tif.\n",
      "2023-11-30 18:20:41:rastervision.pipeline.file_system.utils: INFO - Using cached file /data/tmp/cache/http/storage.googleapis.com/sand_mining_median/labels/Godavari_EastGodavari_81-05_17-62_median/annotations/Godavari_EastGodavari_81-05_17-62_2022-10-01_annotations.geojson.\n",
      "2023-11-30 18:20:41:rastervision.pipeline.file_system.utils: INFO - Using cached file /data/tmp/cache/http/storage.googleapis.com/sand_mining_median/labels/Godavari_EastGodavari_81-05_17-62_median/rivers/Godavari_EastGodavari_81-05_17-62_rivers_1000m.geojson.\n",
      "2023-11-30 18:20:41:rastervision.core.data.vector_source.geojson_vector_source: INFO - Ignoring CRS ({'type': 'name', 'properties': {'name': 'urn:ogc:def:crs:OGC:1.3:CRS84'}}) specified in https://storage.googleapis.com/sand_mining_median/labels/Godavari_EastGodavari_81-05_17-62_median/rivers/Godavari_EastGodavari_81-05_17-62_rivers_1000m.geojson and assuming EPSG:4326 instead.\n",
      "2023-11-30 18:20:41:rastervision.pipeline.file_system.utils: INFO - Using cached file /data/tmp/cache/http/storage.googleapis.com/sand_mining_median/labels/Damodar_PurbaBardhaman_86-93_22-88_median/s2/Damodar_PurbaBardhaman_86-93_22-88_2022-10-01_s2.tif.\n",
      "2023-11-30 18:20:41:rastervision.pipeline.file_system.utils: INFO - Using cached file /data/tmp/cache/http/storage.googleapis.com/sand_mining_median/labels/Damodar_PurbaBardhaman_86-93_22-88_median/annotations/Damodar_PurbaBardhaman_86-93_22-88_2022-10-01_annotations.geojson.\n",
      "2023-11-30 18:20:41:rastervision.pipeline.file_system.utils: INFO - Using cached file /data/tmp/cache/http/storage.googleapis.com/sand_mining_median/labels/Damodar_PurbaBardhaman_86-93_22-88_median/rivers/Damodar_PurbaBardhaman_86-93_22-88_rivers_1000m.geojson.\n",
      "2023-11-30 18:20:41:rastervision.core.data.vector_source.geojson_vector_source: INFO - Ignoring CRS ({'type': 'name', 'properties': {'name': 'urn:ogc:def:crs:OGC:1.3:CRS84'}}) specified in https://storage.googleapis.com/sand_mining_median/labels/Damodar_PurbaBardhaman_86-93_22-88_median/rivers/Damodar_PurbaBardhaman_86-93_22-88_rivers_1000m.geojson and assuming EPSG:4326 instead.\n",
      "2023-11-30 18:20:41:rastervision.pipeline.file_system.utils: INFO - Using cached file /data/tmp/cache/http/storage.googleapis.com/sand_mining_median/labels/Damodar_PurbaBardhaman_86-93_22-88_median/s2/Damodar_PurbaBardhaman_86-93_22-88_2022-04-01_s2.tif.\n",
      "2023-11-30 18:20:41:rastervision.pipeline.file_system.utils: INFO - Using cached file /data/tmp/cache/http/storage.googleapis.com/sand_mining_median/labels/Damodar_PurbaBardhaman_86-93_22-88_median/annotations/Damodar_PurbaBardhaman_86-93_22-88_2022-04-01_annotations.geojson.\n",
      "2023-11-30 18:20:41:rastervision.pipeline.file_system.utils: INFO - Using cached file /data/tmp/cache/http/storage.googleapis.com/sand_mining_median/labels/Damodar_PurbaBardhaman_86-93_22-88_median/rivers/Damodar_PurbaBardhaman_86-93_22-88_rivers_1000m.geojson.\n",
      "2023-11-30 18:20:41:rastervision.core.data.vector_source.geojson_vector_source: INFO - Ignoring CRS ({'type': 'name', 'properties': {'name': 'urn:ogc:def:crs:OGC:1.3:CRS84'}}) specified in https://storage.googleapis.com/sand_mining_median/labels/Damodar_PurbaBardhaman_86-93_22-88_median/rivers/Damodar_PurbaBardhaman_86-93_22-88_rivers_1000m.geojson and assuming EPSG:4326 instead.\n",
      "2023-11-30 18:20:41:rastervision.pipeline.file_system.utils: INFO - Using cached file /data/tmp/cache/http/storage.googleapis.com/sand_mining_median/labels/Sone_Patna_84-0_24-62_median/s2/Sone_Patna_84-0_24-62_2022-02-01_s2.tif.\n",
      "2023-11-30 18:20:41:rastervision.pipeline.file_system.utils: INFO - Using cached file /data/tmp/cache/http/storage.googleapis.com/sand_mining_median/labels/Sone_Patna_84-0_24-62_median/annotations/Sone_Patna_84-0_24-62_2022-02-01_annotations.geojson.\n",
      "2023-11-30 18:20:41:rastervision.pipeline.file_system.utils: INFO - Using cached file /data/tmp/cache/http/storage.googleapis.com/sand_mining_median/labels/Sone_Patna_84-0_24-62_median/rivers/Sone_Patna_84-0_24-62_rivers_1000m.geojson.\n",
      "2023-11-30 18:20:41:rastervision.core.data.vector_source.geojson_vector_source: INFO - Ignoring CRS ({'type': 'name', 'properties': {'name': 'urn:ogc:def:crs:OGC:1.3:CRS84'}}) specified in https://storage.googleapis.com/sand_mining_median/labels/Sone_Patna_84-0_24-62_median/rivers/Sone_Patna_84-0_24-62_rivers_1000m.geojson and assuming EPSG:4326 instead.\n",
      "2023-11-30 18:20:41:rastervision.pipeline.file_system.utils: INFO - Using cached file /data/tmp/cache/http/storage.googleapis.com/sand_mining_median/labels/Sone_Patna_84-0_24-62_median/s2/Sone_Patna_84-0_24-62_2023-04-01_s2.tif.\n",
      "2023-11-30 18:20:41:rastervision.pipeline.file_system.utils: INFO - Using cached file /data/tmp/cache/http/storage.googleapis.com/sand_mining_median/labels/Sone_Patna_84-0_24-62_median/annotations/Sone_Patna_84-0_24-62_2023-04-01_annotations.geojson.\n",
      "2023-11-30 18:20:41:rastervision.pipeline.file_system.utils: INFO - Using cached file /data/tmp/cache/http/storage.googleapis.com/sand_mining_median/labels/Sone_Patna_84-0_24-62_median/rivers/Sone_Patna_84-0_24-62_rivers_1000m.geojson.\n",
      "2023-11-30 18:20:41:rastervision.core.data.vector_source.geojson_vector_source: INFO - Ignoring CRS ({'type': 'name', 'properties': {'name': 'urn:ogc:def:crs:OGC:1.3:CRS84'}}) specified in https://storage.googleapis.com/sand_mining_median/labels/Sone_Patna_84-0_24-62_median/rivers/Sone_Patna_84-0_24-62_rivers_1000m.geojson and assuming EPSG:4326 instead.\n",
      "2023-11-30 18:20:41:rastervision.pipeline.file_system.utils: INFO - Using cached file /data/tmp/cache/http/storage.googleapis.com/sand_mining_median/labels/Sone_Arwal_83-15_24-4_median/s2/Sone_Arwal_83-15_24-4_2022-05-01_s2.tif.\n",
      "2023-11-30 18:20:41:rastervision.pipeline.file_system.utils: INFO - Using cached file /data/tmp/cache/http/storage.googleapis.com/sand_mining_median/labels/Sone_Arwal_83-15_24-4_median/annotations/Sone_Arwal_83-15_24-4_2022-05-01_annotations.geojson.\n",
      "2023-11-30 18:20:41:rastervision.pipeline.file_system.utils: INFO - Using cached file /data/tmp/cache/http/storage.googleapis.com/sand_mining_median/labels/Sone_Arwal_83-15_24-4_median/rivers/Sone_Arwal_83-15_24-4_rivers_1000m.geojson.\n",
      "2023-11-30 18:20:41:rastervision.core.data.vector_source.geojson_vector_source: INFO - Ignoring CRS ({'type': 'name', 'properties': {'name': 'urn:ogc:def:crs:OGC:1.3:CRS84'}}) specified in https://storage.googleapis.com/sand_mining_median/labels/Sone_Arwal_83-15_24-4_median/rivers/Sone_Arwal_83-15_24-4_rivers_1000m.geojson and assuming EPSG:4326 instead.\n",
      "2023-11-30 18:20:41:rastervision.pipeline.file_system.utils: INFO - Using cached file /data/tmp/cache/http/storage.googleapis.com/sand_mining_median/labels/Sone_Arwal_83-15_24-4_median/s2/Sone_Arwal_83-15_24-4_2022-02-01_s2.tif.\n",
      "2023-11-30 18:20:41:rastervision.pipeline.file_system.utils: INFO - Using cached file /data/tmp/cache/http/storage.googleapis.com/sand_mining_median/labels/Sone_Arwal_83-15_24-4_median/annotations/Sone_Arwal_83-15_24-4_2022-02-01_annotations.geojson.\n",
      "2023-11-30 18:20:41:rastervision.pipeline.file_system.utils: INFO - Using cached file /data/tmp/cache/http/storage.googleapis.com/sand_mining_median/labels/Sone_Arwal_83-15_24-4_median/rivers/Sone_Arwal_83-15_24-4_rivers_1000m.geojson.\n",
      "2023-11-30 18:20:41:rastervision.core.data.vector_source.geojson_vector_source: INFO - Ignoring CRS ({'type': 'name', 'properties': {'name': 'urn:ogc:def:crs:OGC:1.3:CRS84'}}) specified in https://storage.googleapis.com/sand_mining_median/labels/Sone_Arwal_83-15_24-4_median/rivers/Sone_Arwal_83-15_24-4_rivers_1000m.geojson and assuming EPSG:4326 instead.\n",
      "2023-11-30 18:20:41:rastervision.pipeline.file_system.utils: INFO - Using cached file /data/tmp/cache/http/storage.googleapis.com/sand_mining_median/labels/Penna_Nellore_79-78_14-56_median/s2/Penna_Nellore_79-78_14-56_2019-08-01_s2.tif.\n",
      "2023-11-30 18:20:41:rastervision.pipeline.file_system.utils: INFO - Using cached file /data/tmp/cache/http/storage.googleapis.com/sand_mining_median/labels/Penna_Nellore_79-78_14-56_median/annotations/Penna_Nellore_79-78_14-56_2019-08-01_annotations.geojson.\n",
      "2023-11-30 18:20:41:rastervision.pipeline.file_system.utils: INFO - Using cached file /data/tmp/cache/http/storage.googleapis.com/sand_mining_median/labels/Penna_Nellore_79-78_14-56_median/rivers/Penna_Nellore_79-78_14-56_rivers_1000m.geojson.\n",
      "2023-11-30 18:20:41:rastervision.core.data.vector_source.geojson_vector_source: INFO - Ignoring CRS ({'type': 'name', 'properties': {'name': 'urn:ogc:def:crs:OGC:1.3:CRS84'}}) specified in https://storage.googleapis.com/sand_mining_median/labels/Penna_Nellore_79-78_14-56_median/rivers/Penna_Nellore_79-78_14-56_rivers_1000m.geojson and assuming EPSG:4326 instead.\n",
      "2023-11-30 18:20:41:rastervision.pipeline.file_system.utils: INFO - Using cached file /data/tmp/cache/http/storage.googleapis.com/sand_mining_median/labels/Penna_Nellore_79-78_14-56_median/s2/Penna_Nellore_79-78_14-56_2019-04-01_s2.tif.\n",
      "2023-11-30 18:20:41:rastervision.pipeline.file_system.utils: INFO - Using cached file /data/tmp/cache/http/storage.googleapis.com/sand_mining_median/labels/Penna_Nellore_79-78_14-56_median/annotations/Penna_Nellore_79-78_14-56_2019-04-01_annotations.geojson.\n",
      "2023-11-30 18:20:42:rastervision.pipeline.file_system.utils: INFO - Using cached file /data/tmp/cache/http/storage.googleapis.com/sand_mining_median/labels/Penna_Nellore_79-78_14-56_median/rivers/Penna_Nellore_79-78_14-56_rivers_1000m.geojson.\n",
      "2023-11-30 18:20:42:rastervision.core.data.vector_source.geojson_vector_source: INFO - Ignoring CRS ({'type': 'name', 'properties': {'name': 'urn:ogc:def:crs:OGC:1.3:CRS84'}}) specified in https://storage.googleapis.com/sand_mining_median/labels/Penna_Nellore_79-78_14-56_median/rivers/Penna_Nellore_79-78_14-56_rivers_1000m.geojson and assuming EPSG:4326 instead.\n",
      "2023-11-30 18:20:42:rastervision.pipeline.file_system.utils: INFO - Using cached file /data/tmp/cache/http/storage.googleapis.com/sand_mining_median/labels/Godavari_EastGodavari_81-81_16-79_median/s2/Godavari_EastGodavari_81-81_16-79_2022-03-01_s2.tif.\n",
      "2023-11-30 18:20:42:rastervision.pipeline.file_system.utils: INFO - Using cached file /data/tmp/cache/http/storage.googleapis.com/sand_mining_median/labels/Godavari_EastGodavari_81-81_16-79_median/annotations/Godavari_EastGodavari_81-81_16-79_2022-03-01_annotations.geojson.\n",
      "2023-11-30 18:20:42:rastervision.pipeline.file_system.utils: INFO - Using cached file /data/tmp/cache/http/storage.googleapis.com/sand_mining_median/labels/Godavari_EastGodavari_81-81_16-79_median/rivers/Godavari_EastGodavari_81-81_16-79_rivers_1000m.geojson.\n",
      "2023-11-30 18:20:42:rastervision.core.data.vector_source.geojson_vector_source: INFO - Ignoring CRS ({'type': 'name', 'properties': {'name': 'urn:ogc:def:crs:OGC:1.3:CRS84'}}) specified in https://storage.googleapis.com/sand_mining_median/labels/Godavari_EastGodavari_81-81_16-79_median/rivers/Godavari_EastGodavari_81-81_16-79_rivers_1000m.geojson and assuming EPSG:4326 instead.\n",
      "2023-11-30 18:20:42:rastervision.pipeline.file_system.utils: INFO - Using cached file /data/tmp/cache/http/storage.googleapis.com/sand_mining_median/labels/Godavari_EastGodavari_81-81_16-79_median/s2/Godavari_EastGodavari_81-81_16-79_2023-02-01_s2.tif.\n",
      "2023-11-30 18:20:42:rastervision.pipeline.file_system.utils: INFO - Using cached file /data/tmp/cache/http/storage.googleapis.com/sand_mining_median/labels/Godavari_EastGodavari_81-81_16-79_median/annotations/Godavari_EastGodavari_81-81_16-79_2023-02-01_annotations.geojson.\n",
      "2023-11-30 18:20:42:rastervision.pipeline.file_system.utils: INFO - Using cached file /data/tmp/cache/http/storage.googleapis.com/sand_mining_median/labels/Godavari_EastGodavari_81-81_16-79_median/rivers/Godavari_EastGodavari_81-81_16-79_rivers_1000m.geojson.\n",
      "2023-11-30 18:20:42:rastervision.core.data.vector_source.geojson_vector_source: INFO - Ignoring CRS ({'type': 'name', 'properties': {'name': 'urn:ogc:def:crs:OGC:1.3:CRS84'}}) specified in https://storage.googleapis.com/sand_mining_median/labels/Godavari_EastGodavari_81-81_16-79_median/rivers/Godavari_EastGodavari_81-81_16-79_rivers_1000m.geojson and assuming EPSG:4326 instead.\n",
      "2023-11-30 18:20:42:rastervision.pipeline.file_system.utils: INFO - Using cached file /data/tmp/cache/http/storage.googleapis.com/sand_mining_median/labels/Godavari_EastGodavari_81-78_16-9_median/s2/Godavari_EastGodavari_81-78_16-9_2022-03-01_s2.tif.\n",
      "2023-11-30 18:20:42:rastervision.pipeline.file_system.utils: INFO - Using cached file /data/tmp/cache/http/storage.googleapis.com/sand_mining_median/labels/Godavari_EastGodavari_81-78_16-9_median/annotations/Godavari_EastGodavari_81-78_16-9_2022-03-01_annotations.geojson.\n",
      "2023-11-30 18:20:42:rastervision.pipeline.file_system.utils: INFO - Using cached file /data/tmp/cache/http/storage.googleapis.com/sand_mining_median/labels/Godavari_EastGodavari_81-78_16-9_median/rivers/Godavari_EastGodavari_81-78_16-9_rivers_1000m.geojson.\n",
      "2023-11-30 18:20:42:rastervision.core.data.vector_source.geojson_vector_source: INFO - Ignoring CRS ({'type': 'name', 'properties': {'name': 'urn:ogc:def:crs:OGC:1.3:CRS84'}}) specified in https://storage.googleapis.com/sand_mining_median/labels/Godavari_EastGodavari_81-78_16-9_median/rivers/Godavari_EastGodavari_81-78_16-9_rivers_1000m.geojson and assuming EPSG:4326 instead.\n",
      "2023-11-30 18:20:42:rastervision.pipeline.file_system.utils: INFO - Using cached file /data/tmp/cache/http/storage.googleapis.com/sand_mining_median/labels/Godavari_EastGodavari_81-78_16-9_median/s2/Godavari_EastGodavari_81-78_16-9_2022-06-01_s2.tif.\n",
      "2023-11-30 18:20:42:rastervision.pipeline.file_system.utils: INFO - Using cached file /data/tmp/cache/http/storage.googleapis.com/sand_mining_median/labels/Godavari_EastGodavari_81-78_16-9_median/annotations/Godavari_EastGodavari_81-78_16-9_2022-06-01_annotations.geojson.\n",
      "2023-11-30 18:20:42:rastervision.pipeline.file_system.utils: INFO - Using cached file /data/tmp/cache/http/storage.googleapis.com/sand_mining_median/labels/Godavari_EastGodavari_81-78_16-9_median/rivers/Godavari_EastGodavari_81-78_16-9_rivers_1000m.geojson.\n",
      "2023-11-30 18:20:42:rastervision.core.data.vector_source.geojson_vector_source: INFO - Ignoring CRS ({'type': 'name', 'properties': {'name': 'urn:ogc:def:crs:OGC:1.3:CRS84'}}) specified in https://storage.googleapis.com/sand_mining_median/labels/Godavari_EastGodavari_81-78_16-9_median/rivers/Godavari_EastGodavari_81-78_16-9_rivers_1000m.geojson and assuming EPSG:4326 instead.\n",
      "2023-11-30 18:20:42:rastervision.pipeline.file_system.utils: INFO - Using cached file /data/tmp/cache/http/storage.googleapis.com/sand_mining_median/labels/Godavari_EastGodavari_81-71_17-09_median/s2/Godavari_EastGodavari_81-71_17-09_2021-12-01_s2.tif.\n",
      "2023-11-30 18:20:42:rastervision.pipeline.file_system.utils: INFO - Using cached file /data/tmp/cache/http/storage.googleapis.com/sand_mining_median/labels/Godavari_EastGodavari_81-71_17-09_median/annotations/Godavari_EastGodavari_81-71_17-09_2021-12-01_annotations.geojson.\n",
      "2023-11-30 18:20:42:rastervision.pipeline.file_system.utils: INFO - Using cached file /data/tmp/cache/http/storage.googleapis.com/sand_mining_median/labels/Godavari_EastGodavari_81-71_17-09_median/rivers/Godavari_EastGodavari_81-71_17-09_rivers_1000m.geojson.\n",
      "2023-11-30 18:20:42:rastervision.core.data.vector_source.geojson_vector_source: INFO - Ignoring CRS ({'type': 'name', 'properties': {'name': 'urn:ogc:def:crs:OGC:1.3:CRS84'}}) specified in https://storage.googleapis.com/sand_mining_median/labels/Godavari_EastGodavari_81-71_17-09_median/rivers/Godavari_EastGodavari_81-71_17-09_rivers_1000m.geojson and assuming EPSG:4326 instead.\n",
      "2023-11-30 18:20:42:rastervision.pipeline.file_system.utils: INFO - Using cached file /data/tmp/cache/http/storage.googleapis.com/sand_mining_median/labels/Godavari_EastGodavari_81-71_17-09_median/s2/Godavari_EastGodavari_81-71_17-09_2022-04-01_s2.tif.\n",
      "2023-11-30 18:20:42:rastervision.pipeline.file_system.utils: INFO - Using cached file /data/tmp/cache/http/storage.googleapis.com/sand_mining_median/labels/Godavari_EastGodavari_81-71_17-09_median/annotations/Godavari_EastGodavari_81-71_17-09_2022-04-01_annotations.geojson.\n",
      "2023-11-30 18:20:42:rastervision.pipeline.file_system.utils: INFO - Using cached file /data/tmp/cache/http/storage.googleapis.com/sand_mining_median/labels/Godavari_EastGodavari_81-71_17-09_median/rivers/Godavari_EastGodavari_81-71_17-09_rivers_1000m.geojson.\n",
      "2023-11-30 18:20:42:rastervision.core.data.vector_source.geojson_vector_source: INFO - Ignoring CRS ({'type': 'name', 'properties': {'name': 'urn:ogc:def:crs:OGC:1.3:CRS84'}}) specified in https://storage.googleapis.com/sand_mining_median/labels/Godavari_EastGodavari_81-71_17-09_median/rivers/Godavari_EastGodavari_81-71_17-09_rivers_1000m.geojson and assuming EPSG:4326 instead.\n",
      "2023-11-30 18:20:42:rastervision.pipeline.file_system.utils: INFO - Using cached file /data/tmp/cache/http/storage.googleapis.com/sand_mining_median/labels/Godavari_EastGodavari_81-9_16-75_median/s2/Godavari_EastGodavari_81-9_16-75_2023-02-01_s2.tif.\n",
      "2023-11-30 18:20:42:rastervision.pipeline.file_system.utils: INFO - Using cached file /data/tmp/cache/http/storage.googleapis.com/sand_mining_median/labels/Godavari_EastGodavari_81-9_16-75_median/annotations/Godavari_EastGodavari_81-9_16-75_2023-02-01_annotations.geojson.\n",
      "2023-11-30 18:20:42:rastervision.pipeline.file_system.utils: INFO - Using cached file /data/tmp/cache/http/storage.googleapis.com/sand_mining_median/labels/Godavari_EastGodavari_81-9_16-75_median/rivers/Godavari_EastGodavari_81-9_16-75_rivers_1000m.geojson.\n",
      "2023-11-30 18:20:42:rastervision.core.data.vector_source.geojson_vector_source: INFO - Ignoring CRS ({'type': 'name', 'properties': {'name': 'urn:ogc:def:crs:OGC:1.3:CRS84'}}) specified in https://storage.googleapis.com/sand_mining_median/labels/Godavari_EastGodavari_81-9_16-75_median/rivers/Godavari_EastGodavari_81-9_16-75_rivers_1000m.geojson and assuming EPSG:4326 instead.\n",
      "2023-11-30 18:20:42:rastervision.pipeline.file_system.utils: INFO - Using cached file /data/tmp/cache/http/storage.googleapis.com/sand_mining_median/labels/Godavari_EastGodavari_81-9_16-75_median/s2/Godavari_EastGodavari_81-9_16-75_2023-04-01_s2.tif.\n",
      "2023-11-30 18:20:42:rastervision.pipeline.file_system.utils: INFO - Using cached file /data/tmp/cache/http/storage.googleapis.com/sand_mining_median/labels/Godavari_EastGodavari_81-9_16-75_median/annotations/Godavari_EastGodavari_81-9_16-75_2023-04-01_annotations.geojson.\n",
      "2023-11-30 18:20:42:rastervision.pipeline.file_system.utils: INFO - Using cached file /data/tmp/cache/http/storage.googleapis.com/sand_mining_median/labels/Godavari_EastGodavari_81-9_16-75_median/rivers/Godavari_EastGodavari_81-9_16-75_rivers_1000m.geojson.\n",
      "2023-11-30 18:20:42:rastervision.core.data.vector_source.geojson_vector_source: INFO - Ignoring CRS ({'type': 'name', 'properties': {'name': 'urn:ogc:def:crs:OGC:1.3:CRS84'}}) specified in https://storage.googleapis.com/sand_mining_median/labels/Godavari_EastGodavari_81-9_16-75_median/rivers/Godavari_EastGodavari_81-9_16-75_rivers_1000m.geojson and assuming EPSG:4326 instead.\n",
      "2023-11-30 18:20:42:rastervision.pipeline.file_system.utils: INFO - Using cached file /data/tmp/cache/http/storage.googleapis.com/sand_mining_median/labels/Godavari_BhadradriKothagudem_80-79_18-04_median/s2/Godavari_BhadradriKothagudem_80-79_18-04_2022-02-01_s2.tif.\n",
      "2023-11-30 18:20:42:rastervision.pipeline.file_system.utils: INFO - Using cached file /data/tmp/cache/http/storage.googleapis.com/sand_mining_median/labels/Godavari_BhadradriKothagudem_80-79_18-04_median/annotations/Godavari_BhadradriKothagudem_80-79_18-04_2022-02-01_annotations.geojson.\n",
      "2023-11-30 18:20:42:rastervision.pipeline.file_system.utils: INFO - Using cached file /data/tmp/cache/http/storage.googleapis.com/sand_mining_median/labels/Godavari_BhadradriKothagudem_80-79_18-04_median/rivers/Godavari_BhadradriKothagudem_80-79_18-04_rivers_1000m.geojson.\n",
      "2023-11-30 18:20:42:rastervision.core.data.vector_source.geojson_vector_source: INFO - Ignoring CRS ({'type': 'name', 'properties': {'name': 'urn:ogc:def:crs:OGC:1.3:CRS84'}}) specified in https://storage.googleapis.com/sand_mining_median/labels/Godavari_BhadradriKothagudem_80-79_18-04_median/rivers/Godavari_BhadradriKothagudem_80-79_18-04_rivers_1000m.geojson and assuming EPSG:4326 instead.\n",
      "2023-11-30 18:20:42:rastervision.pipeline.file_system.utils: INFO - Using cached file /data/tmp/cache/http/storage.googleapis.com/sand_mining_median/labels/Godavari_BhadradriKothagudem_80-79_18-04_median/s2/Godavari_BhadradriKothagudem_80-79_18-04_2022-05-01_s2.tif.\n",
      "2023-11-30 18:20:42:rastervision.pipeline.file_system.utils: INFO - Using cached file /data/tmp/cache/http/storage.googleapis.com/sand_mining_median/labels/Godavari_BhadradriKothagudem_80-79_18-04_median/annotations/Godavari_BhadradriKothagudem_80-79_18-04_2022-05-01_annotations.geojson.\n",
      "2023-11-30 18:20:42:rastervision.pipeline.file_system.utils: INFO - Using cached file /data/tmp/cache/http/storage.googleapis.com/sand_mining_median/labels/Godavari_BhadradriKothagudem_80-79_18-04_median/rivers/Godavari_BhadradriKothagudem_80-79_18-04_rivers_1000m.geojson.\n",
      "2023-11-30 18:20:42:rastervision.core.data.vector_source.geojson_vector_source: INFO - Ignoring CRS ({'type': 'name', 'properties': {'name': 'urn:ogc:def:crs:OGC:1.3:CRS84'}}) specified in https://storage.googleapis.com/sand_mining_median/labels/Godavari_BhadradriKothagudem_80-79_18-04_median/rivers/Godavari_BhadradriKothagudem_80-79_18-04_rivers_1000m.geojson and assuming EPSG:4326 instead.\n",
      "2023-11-30 18:20:42:rastervision.pipeline.file_system.utils: INFO - Using cached file /data/tmp/cache/http/storage.googleapis.com/sand_mining_median/labels/Banas_Banaskantha_71-93_23-96_median/s2/Banas_Banaskantha_71-93_23-96_2022-11-01_s2.tif.\n",
      "2023-11-30 18:20:42:rastervision.pipeline.file_system.utils: INFO - Using cached file /data/tmp/cache/http/storage.googleapis.com/sand_mining_median/labels/Banas_Banaskantha_71-93_23-96_median/annotations/Banas_Banaskantha_71-93_23-96_2022-11-01_annotations.geojson.\n",
      "2023-11-30 18:20:42:rastervision.pipeline.file_system.utils: INFO - Using cached file /data/tmp/cache/http/storage.googleapis.com/sand_mining_median/labels/Banas_Banaskantha_71-93_23-96_median/rivers/Banas_Banaskantha_71-93_23-96_rivers_1000m.geojson.\n",
      "2023-11-30 18:20:42:rastervision.core.data.vector_source.geojson_vector_source: INFO - Ignoring CRS ({'type': 'name', 'properties': {'name': 'urn:ogc:def:crs:OGC:1.3:CRS84'}}) specified in https://storage.googleapis.com/sand_mining_median/labels/Banas_Banaskantha_71-93_23-96_median/rivers/Banas_Banaskantha_71-93_23-96_rivers_1000m.geojson and assuming EPSG:4326 instead.\n",
      "2023-11-30 18:20:43:rastervision.pipeline.file_system.utils: INFO - Using cached file /data/tmp/cache/http/storage.googleapis.com/sand_mining_median/labels/Banas_Banaskantha_71-93_23-96_median/s2/Banas_Banaskantha_71-93_23-96_2023-05-01_s2.tif.\n",
      "2023-11-30 18:20:43:rastervision.pipeline.file_system.utils: INFO - Using cached file /data/tmp/cache/http/storage.googleapis.com/sand_mining_median/labels/Banas_Banaskantha_71-93_23-96_median/annotations/Banas_Banaskantha_71-93_23-96_2023-05-01_annotations.geojson.\n",
      "2023-11-30 18:20:43:rastervision.pipeline.file_system.utils: INFO - Using cached file /data/tmp/cache/http/storage.googleapis.com/sand_mining_median/labels/Banas_Banaskantha_71-93_23-96_median/rivers/Banas_Banaskantha_71-93_23-96_rivers_1000m.geojson.\n",
      "2023-11-30 18:20:43:rastervision.core.data.vector_source.geojson_vector_source: INFO - Ignoring CRS ({'type': 'name', 'properties': {'name': 'urn:ogc:def:crs:OGC:1.3:CRS84'}}) specified in https://storage.googleapis.com/sand_mining_median/labels/Banas_Banaskantha_71-93_23-96_median/rivers/Banas_Banaskantha_71-93_23-96_rivers_1000m.geojson and assuming EPSG:4326 instead.\n",
      "2023-11-30 18:20:43:rastervision.pipeline.file_system.utils: INFO - Using cached file /data/tmp/cache/http/storage.googleapis.com/sand_mining_median/labels/Godavari_EastGodavari_80-89_17-72_median/s2/Godavari_EastGodavari_80-89_17-72_2021-12-01_s2.tif.\n",
      "2023-11-30 18:20:43:rastervision.pipeline.file_system.utils: INFO - Using cached file /data/tmp/cache/http/storage.googleapis.com/sand_mining_median/labels/Godavari_EastGodavari_80-89_17-72_median/annotations/Godavari_EastGodavari_80-89_17-72_2021-12-01_annotations.geojson.\n",
      "2023-11-30 18:20:43:rastervision.pipeline.file_system.utils: INFO - Using cached file /data/tmp/cache/http/storage.googleapis.com/sand_mining_median/labels/Godavari_EastGodavari_80-89_17-72_median/rivers/Godavari_EastGodavari_80-89_17-72_rivers_1000m.geojson.\n",
      "2023-11-30 18:20:43:rastervision.core.data.vector_source.geojson_vector_source: INFO - Ignoring CRS ({'type': 'name', 'properties': {'name': 'urn:ogc:def:crs:OGC:1.3:CRS84'}}) specified in https://storage.googleapis.com/sand_mining_median/labels/Godavari_EastGodavari_80-89_17-72_median/rivers/Godavari_EastGodavari_80-89_17-72_rivers_1000m.geojson and assuming EPSG:4326 instead.\n",
      "2023-11-30 18:20:43:rastervision.pipeline.file_system.utils: INFO - Using cached file /data/tmp/cache/http/storage.googleapis.com/sand_mining_median/labels/Godavari_EastGodavari_80-89_17-72_median/s2/Godavari_EastGodavari_80-89_17-72_2022-05-01_s2.tif.\n",
      "2023-11-30 18:20:43:rastervision.pipeline.file_system.utils: INFO - Using cached file /data/tmp/cache/http/storage.googleapis.com/sand_mining_median/labels/Godavari_EastGodavari_80-89_17-72_median/annotations/Godavari_EastGodavari_80-89_17-72_2022-05-01_annotations.geojson.\n",
      "2023-11-30 18:20:43:rastervision.pipeline.file_system.utils: INFO - Using cached file /data/tmp/cache/http/storage.googleapis.com/sand_mining_median/labels/Godavari_EastGodavari_80-89_17-72_median/rivers/Godavari_EastGodavari_80-89_17-72_rivers_1000m.geojson.\n",
      "2023-11-30 18:20:43:rastervision.core.data.vector_source.geojson_vector_source: INFO - Ignoring CRS ({'type': 'name', 'properties': {'name': 'urn:ogc:def:crs:OGC:1.3:CRS84'}}) specified in https://storage.googleapis.com/sand_mining_median/labels/Godavari_EastGodavari_80-89_17-72_median/rivers/Godavari_EastGodavari_80-89_17-72_rivers_1000m.geojson and assuming EPSG:4326 instead.\n",
      "2023-11-30 18:20:43:rastervision.pipeline.file_system.utils: INFO - Using cached file /data/tmp/cache/http/storage.googleapis.com/sand_mining_median/labels/Godavari_EastGodavari_80-89_17-72_median/s2/Godavari_EastGodavari_80-89_17-72_2022-04-01_s2.tif.\n",
      "2023-11-30 18:20:43:rastervision.pipeline.file_system.utils: INFO - Using cached file /data/tmp/cache/http/storage.googleapis.com/sand_mining_median/labels/Godavari_EastGodavari_80-89_17-72_median/annotations/Godavari_EastGodavari_80-89_17-72_2022-04-01_annotations.geojson.\n",
      "2023-11-30 18:20:43:rastervision.pipeline.file_system.utils: INFO - Using cached file /data/tmp/cache/http/storage.googleapis.com/sand_mining_median/labels/Godavari_EastGodavari_80-89_17-72_median/rivers/Godavari_EastGodavari_80-89_17-72_rivers_1000m.geojson.\n",
      "2023-11-30 18:20:43:rastervision.core.data.vector_source.geojson_vector_source: INFO - Ignoring CRS ({'type': 'name', 'properties': {'name': 'urn:ogc:def:crs:OGC:1.3:CRS84'}}) specified in https://storage.googleapis.com/sand_mining_median/labels/Godavari_EastGodavari_80-89_17-72_median/rivers/Godavari_EastGodavari_80-89_17-72_rivers_1000m.geojson and assuming EPSG:4326 instead.\n",
      "2023-11-30 18:20:43:rastervision.pipeline.file_system.utils: INFO - Using cached file /data/tmp/cache/http/storage.googleapis.com/sand_mining_median/labels/Banas_Banaskantha_72-04_24-11_median/s2/Banas_Banaskantha_72-04_24-11_2022-11-01_s2.tif.\n",
      "2023-11-30 18:20:43:rastervision.pipeline.file_system.utils: INFO - Using cached file /data/tmp/cache/http/storage.googleapis.com/sand_mining_median/labels/Banas_Banaskantha_72-04_24-11_median/annotations/Banas_Banaskantha_72-04_24-11_2022-11-01_annotations.geojson.\n",
      "2023-11-30 18:20:43:rastervision.pipeline.file_system.utils: INFO - Using cached file /data/tmp/cache/http/storage.googleapis.com/sand_mining_median/labels/Banas_Banaskantha_72-04_24-11_median/rivers/Banas_Banaskantha_72-04_24-11_rivers_1000m.geojson.\n",
      "2023-11-30 18:20:43:rastervision.core.data.vector_source.geojson_vector_source: INFO - Ignoring CRS ({'type': 'name', 'properties': {'name': 'urn:ogc:def:crs:OGC:1.3:CRS84'}}) specified in https://storage.googleapis.com/sand_mining_median/labels/Banas_Banaskantha_72-04_24-11_median/rivers/Banas_Banaskantha_72-04_24-11_rivers_1000m.geojson and assuming EPSG:4326 instead.\n",
      "2023-11-30 18:20:43:rastervision.pipeline.file_system.utils: INFO - Using cached file /data/tmp/cache/http/storage.googleapis.com/sand_mining_median/labels/Banas_Banaskantha_72-04_24-11_median/s2/Banas_Banaskantha_72-04_24-11_2023-05-01_s2.tif.\n",
      "2023-11-30 18:20:43:rastervision.pipeline.file_system.utils: INFO - Using cached file /data/tmp/cache/http/storage.googleapis.com/sand_mining_median/labels/Banas_Banaskantha_72-04_24-11_median/annotations/Banas_Banaskantha_72-04_24-11_2023-05-01_annotations.geojson.\n",
      "2023-11-30 18:20:43:rastervision.pipeline.file_system.utils: INFO - Using cached file /data/tmp/cache/http/storage.googleapis.com/sand_mining_median/labels/Banas_Banaskantha_72-04_24-11_median/rivers/Banas_Banaskantha_72-04_24-11_rivers_1000m.geojson.\n",
      "2023-11-30 18:20:43:rastervision.core.data.vector_source.geojson_vector_source: INFO - Ignoring CRS ({'type': 'name', 'properties': {'name': 'urn:ogc:def:crs:OGC:1.3:CRS84'}}) specified in https://storage.googleapis.com/sand_mining_median/labels/Banas_Banaskantha_72-04_24-11_median/rivers/Banas_Banaskantha_72-04_24-11_rivers_1000m.geojson and assuming EPSG:4326 instead.\n",
      "2023-11-30 18:20:43:rastervision.pipeline.file_system.utils: INFO - Using cached file /data/tmp/cache/http/storage.googleapis.com/sand_mining_median/labels/Waiganga_Gondiya_80-11_21-59_median/s2/Waiganga_Gondiya_80-11_21-59_2021-03-01_s2.tif.\n",
      "2023-11-30 18:20:43:rastervision.pipeline.file_system.utils: INFO - Using cached file /data/tmp/cache/http/storage.googleapis.com/sand_mining_median/labels/Waiganga_Gondiya_80-11_21-59_median/annotations/Waiganga_Gondiya_80-11_21-59_2021-03-01_annotations.geojson.\n",
      "2023-11-30 18:20:43:rastervision.pipeline.file_system.utils: INFO - Using cached file /data/tmp/cache/http/storage.googleapis.com/sand_mining_median/labels/Waiganga_Gondiya_80-11_21-59_median/rivers/Waiganga_Gondiya_80-11_21-59_rivers_1000m.geojson.\n",
      "2023-11-30 18:20:43:rastervision.core.data.vector_source.geojson_vector_source: INFO - Ignoring CRS ({'type': 'name', 'properties': {'name': 'urn:ogc:def:crs:OGC:1.3:CRS84'}}) specified in https://storage.googleapis.com/sand_mining_median/labels/Waiganga_Gondiya_80-11_21-59_median/rivers/Waiganga_Gondiya_80-11_21-59_rivers_1000m.geojson and assuming EPSG:4326 instead.\n",
      "2023-11-30 18:20:43:rastervision.pipeline.file_system.utils: INFO - Using cached file /data/tmp/cache/http/storage.googleapis.com/sand_mining_median/labels/Waiganga_Gondiya_80-11_21-59_median/s2/Waiganga_Gondiya_80-11_21-59_2022-10-01_s2.tif.\n",
      "2023-11-30 18:20:43:rastervision.pipeline.file_system.utils: INFO - Using cached file /data/tmp/cache/http/storage.googleapis.com/sand_mining_median/labels/Waiganga_Gondiya_80-11_21-59_median/annotations/Waiganga_Gondiya_80-11_21-59_2022-10-01_annotations.geojson.\n",
      "2023-11-30 18:20:43:rastervision.pipeline.file_system.utils: INFO - Using cached file /data/tmp/cache/http/storage.googleapis.com/sand_mining_median/labels/Waiganga_Gondiya_80-11_21-59_median/rivers/Waiganga_Gondiya_80-11_21-59_rivers_1000m.geojson.\n",
      "2023-11-30 18:20:43:rastervision.core.data.vector_source.geojson_vector_source: INFO - Ignoring CRS ({'type': 'name', 'properties': {'name': 'urn:ogc:def:crs:OGC:1.3:CRS84'}}) specified in https://storage.googleapis.com/sand_mining_median/labels/Waiganga_Gondiya_80-11_21-59_median/rivers/Waiganga_Gondiya_80-11_21-59_rivers_1000m.geojson and assuming EPSG:4326 instead.\n",
      "2023-11-30 18:20:43:rastervision.pipeline.file_system.utils: INFO - Using cached file /data/tmp/cache/http/storage.googleapis.com/sand_mining_median/labels/Waiganga_Gondiya_80-16_21-62_median/s2/Waiganga_Gondiya_80-16_21-62_2019-01-01_s2.tif.\n",
      "2023-11-30 18:20:43:rastervision.pipeline.file_system.utils: INFO - Using cached file /data/tmp/cache/http/storage.googleapis.com/sand_mining_median/labels/Waiganga_Gondiya_80-16_21-62_median/annotations/Waiganga_Gondiya_80-16_21-62_2019-01-01_annotations.geojson.\n",
      "2023-11-30 18:20:43:rastervision.pipeline.file_system.utils: INFO - Using cached file /data/tmp/cache/http/storage.googleapis.com/sand_mining_median/labels/Waiganga_Gondiya_80-16_21-62_median/rivers/Waiganga_Gondiya_80-16_21-62_rivers_1000m.geojson.\n",
      "2023-11-30 18:20:43:rastervision.core.data.vector_source.geojson_vector_source: INFO - Ignoring CRS ({'type': 'name', 'properties': {'name': 'urn:ogc:def:crs:OGC:1.3:CRS84'}}) specified in https://storage.googleapis.com/sand_mining_median/labels/Waiganga_Gondiya_80-16_21-62_median/rivers/Waiganga_Gondiya_80-16_21-62_rivers_1000m.geojson and assuming EPSG:4326 instead.\n",
      "2023-11-30 18:20:43:rastervision.pipeline.file_system.utils: INFO - Using cached file /data/tmp/cache/http/storage.googleapis.com/sand_mining_median/labels/Waiganga_Gondiya_80-16_21-62_median/s2/Waiganga_Gondiya_80-16_21-62_2022-02-01_s2.tif.\n",
      "2023-11-30 18:20:43:rastervision.pipeline.file_system.utils: INFO - Using cached file /data/tmp/cache/http/storage.googleapis.com/sand_mining_median/labels/Waiganga_Gondiya_80-16_21-62_median/annotations/Waiganga_Gondiya_80-16_21-62_2022-02-01_annotations.geojson.\n",
      "2023-11-30 18:20:43:rastervision.pipeline.file_system.utils: INFO - Using cached file /data/tmp/cache/http/storage.googleapis.com/sand_mining_median/labels/Waiganga_Gondiya_80-16_21-62_median/rivers/Waiganga_Gondiya_80-16_21-62_rivers_1000m.geojson.\n",
      "2023-11-30 18:20:43:rastervision.core.data.vector_source.geojson_vector_source: INFO - Ignoring CRS ({'type': 'name', 'properties': {'name': 'urn:ogc:def:crs:OGC:1.3:CRS84'}}) specified in https://storage.googleapis.com/sand_mining_median/labels/Waiganga_Gondiya_80-16_21-62_median/rivers/Waiganga_Gondiya_80-16_21-62_rivers_1000m.geojson and assuming EPSG:4326 instead.\n",
      "2023-11-30 18:20:43:rastervision.pipeline.file_system.utils: INFO - Using cached file /data/tmp/cache/http/storage.googleapis.com/sand_mining_median/labels/Waiganga_Gondiya_80-03_21-55_median/s2/Waiganga_Gondiya_80-03_21-55_2023-05-01_s2.tif.\n",
      "2023-11-30 18:20:43:rastervision.pipeline.file_system.utils: INFO - Using cached file /data/tmp/cache/http/storage.googleapis.com/sand_mining_median/labels/Waiganga_Gondiya_80-03_21-55_median/annotations/Waiganga_Gondiya_80-03_21-55_2023-05-01_annotations.geojson.\n",
      "2023-11-30 18:20:43:rastervision.pipeline.file_system.utils: INFO - Using cached file /data/tmp/cache/http/storage.googleapis.com/sand_mining_median/labels/Waiganga_Gondiya_80-03_21-55_median/rivers/Waiganga_Gondiya_80-03_21-55_rivers_1000m.geojson.\n",
      "2023-11-30 18:20:43:rastervision.core.data.vector_source.geojson_vector_source: INFO - Ignoring CRS ({'type': 'name', 'properties': {'name': 'urn:ogc:def:crs:OGC:1.3:CRS84'}}) specified in https://storage.googleapis.com/sand_mining_median/labels/Waiganga_Gondiya_80-03_21-55_median/rivers/Waiganga_Gondiya_80-03_21-55_rivers_1000m.geojson and assuming EPSG:4326 instead.\n",
      "2023-11-30 18:20:43:rastervision.pipeline.file_system.utils: INFO - Using cached file /data/tmp/cache/http/storage.googleapis.com/sand_mining_median/labels/Waiganga_Gondiya_80-03_21-55_median/s2/Waiganga_Gondiya_80-03_21-55_2023-01-01_s2.tif.\n",
      "2023-11-30 18:20:43:rastervision.pipeline.file_system.utils: INFO - Using cached file /data/tmp/cache/http/storage.googleapis.com/sand_mining_median/labels/Waiganga_Gondiya_80-03_21-55_median/annotations/Waiganga_Gondiya_80-03_21-55_2023-01-01_annotations.geojson.\n",
      "2023-11-30 18:20:43:rastervision.pipeline.file_system.utils: INFO - Using cached file /data/tmp/cache/http/storage.googleapis.com/sand_mining_median/labels/Waiganga_Gondiya_80-03_21-55_median/rivers/Waiganga_Gondiya_80-03_21-55_rivers_1000m.geojson.\n",
      "2023-11-30 18:20:43:rastervision.core.data.vector_source.geojson_vector_source: INFO - Ignoring CRS ({'type': 'name', 'properties': {'name': 'urn:ogc:def:crs:OGC:1.3:CRS84'}}) specified in https://storage.googleapis.com/sand_mining_median/labels/Waiganga_Gondiya_80-03_21-55_median/rivers/Waiganga_Gondiya_80-03_21-55_rivers_1000m.geojson and assuming EPSG:4326 instead.\n",
      "2023-11-30 18:20:43:rastervision.pipeline.file_system.utils: INFO - Using cached file /data/tmp/cache/http/storage.googleapis.com/sand_mining_median/labels/Kanhan_Nagpur_79-17_21-27_median/s2/Kanhan_Nagpur_79-17_21-27_2022-06-01_s2.tif.\n",
      "2023-11-30 18:20:43:rastervision.pipeline.file_system.utils: INFO - Using cached file /data/tmp/cache/http/storage.googleapis.com/sand_mining_median/labels/Kanhan_Nagpur_79-17_21-27_median/annotations/Kanhan_Nagpur_79-17_21-27_2022-06-01_annotations.geojson.\n",
      "2023-11-30 18:20:44:rastervision.pipeline.file_system.utils: INFO - Using cached file /data/tmp/cache/http/storage.googleapis.com/sand_mining_median/labels/Kanhan_Nagpur_79-17_21-27_median/rivers/Kanhan_Nagpur_79-17_21-27_rivers_1000m.geojson.\n",
      "2023-11-30 18:20:44:rastervision.core.data.vector_source.geojson_vector_source: INFO - Ignoring CRS ({'type': 'name', 'properties': {'name': 'urn:ogc:def:crs:OGC:1.3:CRS84'}}) specified in https://storage.googleapis.com/sand_mining_median/labels/Kanhan_Nagpur_79-17_21-27_median/rivers/Kanhan_Nagpur_79-17_21-27_rivers_1000m.geojson and assuming EPSG:4326 instead.\n",
      "2023-11-30 18:20:44:rastervision.pipeline.file_system.utils: INFO - Using cached file /data/tmp/cache/http/storage.googleapis.com/sand_mining_median/labels/Kanhan_Nagpur_79-17_21-27_median/s2/Kanhan_Nagpur_79-17_21-27_2021-12-01_s2.tif.\n",
      "2023-11-30 18:20:44:rastervision.pipeline.file_system.utils: INFO - Using cached file /data/tmp/cache/http/storage.googleapis.com/sand_mining_median/labels/Kanhan_Nagpur_79-17_21-27_median/annotations/Kanhan_Nagpur_79-17_21-27_2021-12-01_annotations.geojson.\n",
      "2023-11-30 18:20:44:rastervision.pipeline.file_system.utils: INFO - Using cached file /data/tmp/cache/http/storage.googleapis.com/sand_mining_median/labels/Kanhan_Nagpur_79-17_21-27_median/rivers/Kanhan_Nagpur_79-17_21-27_rivers_1000m.geojson.\n",
      "2023-11-30 18:20:44:rastervision.core.data.vector_source.geojson_vector_source: INFO - Ignoring CRS ({'type': 'name', 'properties': {'name': 'urn:ogc:def:crs:OGC:1.3:CRS84'}}) specified in https://storage.googleapis.com/sand_mining_median/labels/Kanhan_Nagpur_79-17_21-27_median/rivers/Kanhan_Nagpur_79-17_21-27_rivers_1000m.geojson and assuming EPSG:4326 instead.\n"
     ]
    },
    {
     "name": "stdout",
     "output_type": "stream",
     "text": [
      "Validation split cluster_id: 4\n",
      "Training dataset size: 3088 images | Number of observations: 72\n",
      "Testing dataset size:  378  images | Number of observations: 8\n",
      "Total dataset has 2.93%  mining area.\n",
      "Training dataset has 3.05%  mining area.\n",
      "Validation dataset has 2.15%  mining area.\n",
      "Within AOIs, total dataset has 6.72%  mining area.\n",
      "Outside AOIs, total dataset has 0.06%  mining area.\n",
      "\n",
      "The median percentage of mine in an observation is 3.26%\n",
      "The median number of mine pixels in an observation is 38059\n",
      "\n",
      "The median number pixels in an observation is 1301008\n"
     ]
    }
   ],
   "source": [
    "from torch.utils.data import ConcatDataset\n",
    "import json\n",
    "from utils.rastervision_pipeline import observation_to_scene, scene_to_training_ds, scene_to_validation_ds, warn_if_nan_in_raw_raster\n",
    "from utils.data_management import observation_factory, characterize_dataset\n",
    "import random\n",
    "\n",
    "#set the seed\n",
    "random.seed(13)\n",
    "\n",
    "# get the current working directory\n",
    "root_dir = os.getcwd()\n",
    "\n",
    "# define the relative path to the dataset JSON file\n",
    "json_rel_path = '../' + DATASET_JSON_PATH\n",
    "\n",
    "# combine the root directory with the relative path\n",
    "json_abs_path = os.path.join(root_dir, json_rel_path)\n",
    "\n",
    "dataset_json = json.load(open(json_abs_path, 'r'))\n",
    "all_observations = observation_factory(dataset_json)\n",
    "\n",
    "#find the highest cluster id\n",
    "max_cluster_id = max([observation['cluster_id'] for observation in dataset_json])\n",
    "\n",
    "\n",
    "# Randomly split the data into training and validation\n",
    "val_split = random.randint(0, max_cluster_id+1)\n",
    "\n",
    "training_scenes = []\n",
    "validation_scenes = []\n",
    "\n",
    "for observation in all_observations:\n",
    "    if observation.cluster_id == val_split: \n",
    "        validation_scenes.append(observation_to_scene(config, observation))\n",
    "    else:\n",
    "        training_scenes.append(observation_to_scene(config, observation))\n",
    "\n",
    "\n",
    "training_datasets = [\n",
    "    scene_to_training_ds(config, scene) for scene in training_scenes #random window sampling happens here\n",
    "]\n",
    "validation_datasets = [\n",
    "    scene_to_validation_ds(config, scene) for scene in validation_scenes\n",
    "]\n",
    "\n",
    "train_dataset_merged = ConcatDataset(training_datasets)\n",
    "val_dataset_merged = ConcatDataset(validation_datasets)\n",
    "\n",
    "print('Validation split cluster_id:', val_split)\n",
    "print ('Training dataset size: {:4d} images | Number of observations: {:}'.format(len(train_dataset_merged), len(training_scenes)))\n",
    "print ('Testing dataset size: {:4d}  images | Number of observations: {:}'.format(len(val_dataset_merged), len(validation_scenes)))\n",
    "\n",
    "mine_percentage_aoi = characterize_dataset(training_scenes, validation_scenes)"
   ]
  },
  {
   "cell_type": "markdown",
   "metadata": {},
   "source": [
    "## Update the loss weights"
   ]
  },
  {
   "cell_type": "code",
   "execution_count": 8,
   "metadata": {},
   "outputs": [
    {
     "data": {
      "text/plain": [
       "SupervisedFinetuningCofig(model_type=<ModelChoice.SatmaeLargeDoubleUpsampling: 'satmae-large-double-upsampling'>, optimizer=<OptimizerChoice.AdamW: 'adamw'>, tile_size=160, s2_channels=[1, 2, 3, 4, 5, 6, 7, 8, 10, 11], s2_normalization=<NormalizationS2Choice.ChannelWise: 'channelwise'>, loss_fn=<BackpropLossChoice.BCE: 'BCE'>, batch_size=128, learning_rate=0.001, datasets=<DatasetChoice.S2: 's2'>, mine_class_loss_weight=13.880675775871904, finetuning_strategy=<FinetuningStratagyChoice.LinearProbing: 'linear-probing'>, encoder_weights_path='/data/sand_mining/checkpoints/satmae_orig/pretrain-vit-large-e199.pth')"
      ]
     },
     "execution_count": 8,
     "metadata": {},
     "output_type": "execute_result"
    }
   ],
   "source": [
    "config.mine_class_loss_weight = (100 - mine_percentage_aoi) / mine_percentage_aoi\n",
    "config"
   ]
  },
  {
   "cell_type": "markdown",
   "id": "aadd6fec",
   "metadata": {},
   "source": [
    "## Visualize the datasets"
   ]
  },
  {
   "cell_type": "code",
   "execution_count": 4,
   "id": "63fb28db",
   "metadata": {},
   "outputs": [
    {
     "name": "stdout",
     "output_type": "stream",
     "text": [
      "Training Dataset\n"
     ]
    }
   ],
   "source": [
    "from utils.visualizing import visualize_dataset\n",
    "\n",
    "print ('Training Dataset')\n",
    "for ds in training_datasets:\n",
    "    visualize_dataset(ds)\n",
    "\n",
    "print(\"\\n\\n\\n Test Dataset\")\n",
    "\n",
    "for ds in validation_datasets:\n",
    "    visualize_dataset(ds)"
   ]
  },
  {
   "cell_type": "markdown",
   "id": "3f17bdfc-7fe5-49d4-a98d-79ad2a47f1a3",
   "metadata": {
    "tags": []
   },
   "source": [
    "# Train"
   ]
  },
  {
   "cell_type": "code",
   "execution_count": 11,
   "id": "d3a94b65-7753-4ee8-abb9-7d62f3d272e8",
   "metadata": {
    "tags": []
   },
   "outputs": [
    {
     "name": "stdout",
     "output_type": "stream",
     "text": [
      "SatMae: Loading encoder weights from /data/sand_mining/checkpoints/satmae_orig/pretrain-vit-large-e199.pth\n",
      "Position interpolate from 12x12 to 20x20\n",
      "_IncompatibleKeys(missing_keys=['channel_cls_embed', 'head.weight', 'head.bias'], unexpected_keys=['mask_token', 'decoder_pos_embed', 'decoder_channel_embed', 'decoder_embed.weight', 'decoder_embed.bias', 'decoder_blocks.0.norm1.weight', 'decoder_blocks.0.norm1.bias', 'decoder_blocks.0.attn.qkv.weight', 'decoder_blocks.0.attn.qkv.bias', 'decoder_blocks.0.attn.proj.weight', 'decoder_blocks.0.attn.proj.bias', 'decoder_blocks.0.norm2.weight', 'decoder_blocks.0.norm2.bias', 'decoder_blocks.0.mlp.fc1.weight', 'decoder_blocks.0.mlp.fc1.bias', 'decoder_blocks.0.mlp.fc2.weight', 'decoder_blocks.0.mlp.fc2.bias', 'decoder_blocks.1.norm1.weight', 'decoder_blocks.1.norm1.bias', 'decoder_blocks.1.attn.qkv.weight', 'decoder_blocks.1.attn.qkv.bias', 'decoder_blocks.1.attn.proj.weight', 'decoder_blocks.1.attn.proj.bias', 'decoder_blocks.1.norm2.weight', 'decoder_blocks.1.norm2.bias', 'decoder_blocks.1.mlp.fc1.weight', 'decoder_blocks.1.mlp.fc1.bias', 'decoder_blocks.1.mlp.fc2.weight', 'decoder_blocks.1.mlp.fc2.bias', 'decoder_blocks.2.norm1.weight', 'decoder_blocks.2.norm1.bias', 'decoder_blocks.2.attn.qkv.weight', 'decoder_blocks.2.attn.qkv.bias', 'decoder_blocks.2.attn.proj.weight', 'decoder_blocks.2.attn.proj.bias', 'decoder_blocks.2.norm2.weight', 'decoder_blocks.2.norm2.bias', 'decoder_blocks.2.mlp.fc1.weight', 'decoder_blocks.2.mlp.fc1.bias', 'decoder_blocks.2.mlp.fc2.weight', 'decoder_blocks.2.mlp.fc2.bias', 'decoder_blocks.3.norm1.weight', 'decoder_blocks.3.norm1.bias', 'decoder_blocks.3.attn.qkv.weight', 'decoder_blocks.3.attn.qkv.bias', 'decoder_blocks.3.attn.proj.weight', 'decoder_blocks.3.attn.proj.bias', 'decoder_blocks.3.norm2.weight', 'decoder_blocks.3.norm2.bias', 'decoder_blocks.3.mlp.fc1.weight', 'decoder_blocks.3.mlp.fc1.bias', 'decoder_blocks.3.mlp.fc2.weight', 'decoder_blocks.3.mlp.fc2.bias', 'decoder_blocks.4.norm1.weight', 'decoder_blocks.4.norm1.bias', 'decoder_blocks.4.attn.qkv.weight', 'decoder_blocks.4.attn.qkv.bias', 'decoder_blocks.4.attn.proj.weight', 'decoder_blocks.4.attn.proj.bias', 'decoder_blocks.4.norm2.weight', 'decoder_blocks.4.norm2.bias', 'decoder_blocks.4.mlp.fc1.weight', 'decoder_blocks.4.mlp.fc1.bias', 'decoder_blocks.4.mlp.fc2.weight', 'decoder_blocks.4.mlp.fc2.bias', 'decoder_blocks.5.norm1.weight', 'decoder_blocks.5.norm1.bias', 'decoder_blocks.5.attn.qkv.weight', 'decoder_blocks.5.attn.qkv.bias', 'decoder_blocks.5.attn.proj.weight', 'decoder_blocks.5.attn.proj.bias', 'decoder_blocks.5.norm2.weight', 'decoder_blocks.5.norm2.bias', 'decoder_blocks.5.mlp.fc1.weight', 'decoder_blocks.5.mlp.fc1.bias', 'decoder_blocks.5.mlp.fc2.weight', 'decoder_blocks.5.mlp.fc2.bias', 'decoder_blocks.6.norm1.weight', 'decoder_blocks.6.norm1.bias', 'decoder_blocks.6.attn.qkv.weight', 'decoder_blocks.6.attn.qkv.bias', 'decoder_blocks.6.attn.proj.weight', 'decoder_blocks.6.attn.proj.bias', 'decoder_blocks.6.norm2.weight', 'decoder_blocks.6.norm2.bias', 'decoder_blocks.6.mlp.fc1.weight', 'decoder_blocks.6.mlp.fc1.bias', 'decoder_blocks.6.mlp.fc2.weight', 'decoder_blocks.6.mlp.fc2.bias', 'decoder_blocks.7.norm1.weight', 'decoder_blocks.7.norm1.bias', 'decoder_blocks.7.attn.qkv.weight', 'decoder_blocks.7.attn.qkv.bias', 'decoder_blocks.7.attn.proj.weight', 'decoder_blocks.7.attn.proj.bias', 'decoder_blocks.7.norm2.weight', 'decoder_blocks.7.norm2.bias', 'decoder_blocks.7.mlp.fc1.weight', 'decoder_blocks.7.mlp.fc1.bias', 'decoder_blocks.7.mlp.fc2.weight', 'decoder_blocks.7.mlp.fc2.bias', 'decoder_norm.weight', 'decoder_norm.bias', 'decoder_pred.0.weight', 'decoder_pred.0.bias', 'decoder_pred.1.weight', 'decoder_pred.1.bias', 'decoder_pred.2.weight', 'decoder_pred.2.bias'])\n",
      "SatMaePretrained: Freezing encoder weights\n"
     ]
    },
    {
     "name": "stderr",
     "output_type": "stream",
     "text": [
      "2023-11-30 18:29:40:rastervision: INFO - train_ds: 3088 items\n",
      "2023-11-30 18:29:40:rastervision: INFO - valid_ds: 378 items\n"
     ]
    }
   ],
   "source": [
    "from models.model_factory import model_factory\n",
    "from ml.optimizer_factory import optimizer_factory\n",
    "from ml.learner import BinarySegmentationLearner\n",
    "\n",
    "_, _, n_channels = training_datasets[0].scene.raster_source.shape\n",
    "model = model_factory(\n",
    "    config,\n",
    "    n_channels=n_channels,\n",
    ")\n",
    "\n",
    "optimizer = optimizer_factory(config, model)\n",
    "\n",
    "learner = BinarySegmentationLearner(\n",
    "    config=config,\n",
    "    model=model,\n",
    "    optimizer=optimizer,\n",
    "    train_ds=train_dataset_merged,  # for development and debugging, use training_datasets[0] or similar to speed up\n",
    "    valid_ds=val_dataset_merged,  # for development and debugging, use training_datasets[1] or similar to speed up\n",
    "    output_dir=expanduser(\"~/sandmining-watch/out/OUTPUT_DIR\"),\n",
    ")\n",
    "\n",
    "learner.log_data_stats()"
   ]
  },
  {
   "cell_type": "markdown",
   "id": "25f30020",
   "metadata": {},
   "source": [
    "#### Check GPU Activity\n",
    "\n",
    "You can continuously monitor your GPU activity by using the command in the terminal\n",
    "\n",
    "\n",
    "`watch -d -n 0.5 nvidia-smi`"
   ]
  },
  {
   "cell_type": "code",
   "execution_count": 12,
   "id": "ad755047",
   "metadata": {},
   "outputs": [
    {
     "name": "stderr",
     "output_type": "stream",
     "text": [
      "Failed to detect the name of this notebook, you can set it manually with the WANDB_NOTEBOOK_NAME environment variable to enable code saving.\n",
      "\u001b[34m\u001b[1mwandb\u001b[0m: Currently logged in as: \u001b[33mandoshah\u001b[0m (\u001b[33msandmining-watch\u001b[0m). Use \u001b[1m`wandb login --relogin`\u001b[0m to force relogin\n"
     ]
    },
    {
     "data": {
      "text/html": [
       "wandb version 0.16.0 is available!  To upgrade, please run:\n",
       " $ pip install wandb --upgrade"
      ],
      "text/plain": [
       "<IPython.core.display.HTML object>"
      ]
     },
     "metadata": {},
     "output_type": "display_data"
    },
    {
     "data": {
      "text/html": [
       "Tracking run with wandb version 0.15.8"
      ],
      "text/plain": [
       "<IPython.core.display.HTML object>"
      ]
     },
     "metadata": {},
     "output_type": "display_data"
    },
    {
     "data": {
      "text/html": [
       "Run data is saved locally in <code>/home/ando/sandmining-watch/train_eval/wandb/run-20231130_182952-8ekej4xl</code>"
      ],
      "text/plain": [
       "<IPython.core.display.HTML object>"
      ]
     },
     "metadata": {},
     "output_type": "display_data"
    },
    {
     "data": {
      "text/html": [
       "Syncing run <strong><a href='https://wandb.ai/sandmining-watch/sandmine_detector/runs/8ekej4xl' target=\"_blank\">effortless-sun-8</a></strong> to <a href='https://wandb.ai/sandmining-watch/sandmine_detector' target=\"_blank\">Weights & Biases</a> (<a href='https://wandb.me/run' target=\"_blank\">docs</a>)<br/>"
      ],
      "text/plain": [
       "<IPython.core.display.HTML object>"
      ]
     },
     "metadata": {},
     "output_type": "display_data"
    },
    {
     "data": {
      "text/html": [
       " View project at <a href='https://wandb.ai/sandmining-watch/sandmine_detector' target=\"_blank\">https://wandb.ai/sandmining-watch/sandmine_detector</a>"
      ],
      "text/plain": [
       "<IPython.core.display.HTML object>"
      ]
     },
     "metadata": {},
     "output_type": "display_data"
    },
    {
     "data": {
      "text/html": [
       " View run at <a href='https://wandb.ai/sandmining-watch/sandmine_detector/runs/8ekej4xl' target=\"_blank\">https://wandb.ai/sandmining-watch/sandmine_detector/runs/8ekej4xl</a>"
      ],
      "text/plain": [
       "<IPython.core.display.HTML object>"
      ]
     },
     "metadata": {},
     "output_type": "display_data"
    },
    {
     "name": "stderr",
     "output_type": "stream",
     "text": [
      "\u001b[34m\u001b[1mwandb\u001b[0m: logging graph, to disable use `wandb.watch(log_graph=False)`\n"
     ]
    }
   ],
   "source": [
    "# Run this cell if you want to log the run to W&B. You might need to authenticate to W&B.\n",
    "learner.initialize_wandb_run()"
   ]
  },
  {
   "cell_type": "code",
   "execution_count": 7,
   "id": "144a710a-38ad-4d7b-9b4c-b19253b97dfb",
   "metadata": {
    "tags": []
   },
   "outputs": [
    {
     "name": "stderr",
     "output_type": "stream",
     "text": [
      "2023-11-30 07:25:29:rastervision: INFO - epoch: 0\n"
     ]
    },
    {
     "data": {
      "application/vnd.jupyter.widget-view+json": {
       "model_id": "7f850e9615d24f8ababa1f3250e489b8",
       "version_major": 2,
       "version_minor": 0
      },
      "text/plain": [
       "Training:   0%|          | 0/25 [00:00<?, ?it/s]"
      ]
     },
     "metadata": {},
     "output_type": "display_data"
    },
    {
     "data": {
      "application/vnd.jupyter.widget-view+json": {
       "model_id": "288cadde84514b61a43a4f8ea8bc87e7",
       "version_major": 2,
       "version_minor": 0
      },
      "text/plain": [
       "Validating:   0%|          | 0/3 [00:00<?, ?it/s]"
      ]
     },
     "metadata": {},
     "output_type": "display_data"
    },
    {
     "name": "stderr",
     "output_type": "stream",
     "text": [
      "2023-11-30 07:31:16:rastervision: INFO - metrics:\n",
      "{'avg_f1': 0.902629554271698,\n",
      " 'avg_precision': 0.971852719783783,\n",
      " 'avg_recall': 0.8426119685173035,\n",
      " 'epoch': 0,\n",
      " 'other_f1': 0.9115577936172485,\n",
      " 'other_precision': 0.9988391399383545,\n",
      " 'other_recall': 0.8383044004440308,\n",
      " 'sandmine_average_precision': tensor(0.6282, device='cuda:0'),\n",
      " 'sandmine_f1': 0.28603678941726685,\n",
      " 'sandmine_precision': 0.16772311925888062,\n",
      " 'sandmine_recall': 0.9709680676460266,\n",
      " 'train_bce_loss': 0.0035413133048022966,\n",
      " 'train_dice_loss': 0.006418412213498446,\n",
      " 'train_time': datetime.timedelta(seconds=304, microseconds=6428),\n",
      " 'val_bce_loss': tensor(0.0033, device='cuda:0'),\n",
      " 'val_dice_loss': tensor(0.0070, device='cuda:0'),\n",
      " 'valid_time': datetime.timedelta(seconds=43, microseconds=549796)}\n",
      "2023-11-30 07:31:18:rastervision: INFO - epoch: 1\n"
     ]
    },
    {
     "data": {
      "application/vnd.jupyter.widget-view+json": {
       "model_id": "78465f1164234e4893421901e9f3f4dc",
       "version_major": 2,
       "version_minor": 0
      },
      "text/plain": [
       "Training:   0%|          | 0/25 [00:00<?, ?it/s]"
      ]
     },
     "metadata": {},
     "output_type": "display_data"
    },
    {
     "data": {
      "application/vnd.jupyter.widget-view+json": {
       "model_id": "4e63499867204561adaae7d3e3264652",
       "version_major": 2,
       "version_minor": 0
      },
      "text/plain": [
       "Validating:   0%|          | 0/3 [00:00<?, ?it/s]"
      ]
     },
     "metadata": {},
     "output_type": "display_data"
    },
    {
     "name": "stderr",
     "output_type": "stream",
     "text": [
      "2023-11-30 07:36:54:rastervision: INFO - metrics:\n",
      "{'avg_f1': 0.9301215410232544,\n",
      " 'avg_precision': 0.9726501703262329,\n",
      " 'avg_recall': 0.8911561965942383,\n",
      " 'epoch': 1,\n",
      " 'other_f1': 0.9405212998390198,\n",
      " 'other_precision': 0.99782794713974,\n",
      " 'other_recall': 0.8894395232200623,\n",
      " 'sandmine_average_precision': tensor(0.6519, device='cuda:0'),\n",
      " 'sandmine_f1': 0.35988304018974304,\n",
      " 'sandmine_precision': 0.2224131077528,\n",
      " 'sandmine_recall': 0.9423085451126099,\n",
      " 'train_bce_loss': 0.003252634112699044,\n",
      " 'train_dice_loss': 0.006419925492044558,\n",
      " 'train_time': datetime.timedelta(seconds=292, microseconds=765892),\n",
      " 'val_bce_loss': tensor(0.0027, device='cuda:0'),\n",
      " 'val_dice_loss': tensor(0.0069, device='cuda:0'),\n",
      " 'valid_time': datetime.timedelta(seconds=43, microseconds=556207)}\n",
      "2023-11-30 07:36:56:rastervision: INFO - epoch: 2\n"
     ]
    },
    {
     "data": {
      "application/vnd.jupyter.widget-view+json": {
       "model_id": "2590eb424e7a4e5d90d976e9b2b21177",
       "version_major": 2,
       "version_minor": 0
      },
      "text/plain": [
       "Training:   0%|          | 0/25 [00:00<?, ?it/s]"
      ]
     },
     "metadata": {},
     "output_type": "display_data"
    },
    {
     "data": {
      "application/vnd.jupyter.widget-view+json": {
       "model_id": "1b7d5e8de3dc4e2095b4ab981c7ba36b",
       "version_major": 2,
       "version_minor": 0
      },
      "text/plain": [
       "Validating:   0%|          | 0/3 [00:00<?, ?it/s]"
      ]
     },
     "metadata": {},
     "output_type": "display_data"
    },
    {
     "name": "stderr",
     "output_type": "stream",
     "text": [
      "2023-11-30 07:42:33:rastervision: INFO - metrics:\n",
      "{'avg_f1': 0.9383898377418518,\n",
      " 'avg_precision': 0.9737926721572876,\n",
      " 'avg_recall': 0.9054709076881409,\n",
      " 'epoch': 2,\n",
      " 'other_f1': 0.9487325549125671,\n",
      " 'other_precision': 0.9981120228767395,\n",
      " 'other_recall': 0.9040085673332214,\n",
      " 'sandmine_average_precision': tensor(0.6633, device='cuda:0'),\n",
      " 'sandmine_f1': 0.39466598629951477,\n",
      " 'sandmine_precision': 0.2491350769996643,\n",
      " 'sandmine_recall': 0.9490461945533752,\n",
      " 'train_bce_loss': 0.003279897524285193,\n",
      " 'train_dice_loss': 0.006372903912796258,\n",
      " 'train_time': datetime.timedelta(seconds=293, microseconds=242233),\n",
      " 'val_bce_loss': tensor(0.0025, device='cuda:0'),\n",
      " 'val_dice_loss': tensor(0.0068, device='cuda:0'),\n",
      " 'valid_time': datetime.timedelta(seconds=43, microseconds=433517)}\n",
      "2023-11-30 07:42:35:rastervision: INFO - epoch: 3\n"
     ]
    },
    {
     "data": {
      "application/vnd.jupyter.widget-view+json": {
       "model_id": "4feafc2d60ed46d79b6202ccfb7a359c",
       "version_major": 2,
       "version_minor": 0
      },
      "text/plain": [
       "Training:   0%|          | 0/25 [00:00<?, ?it/s]"
      ]
     },
     "metadata": {},
     "output_type": "display_data"
    },
    {
     "data": {
      "application/vnd.jupyter.widget-view+json": {
       "model_id": "25ad7be1316a48ec9812ce01a7e09443",
       "version_major": 2,
       "version_minor": 0
      },
      "text/plain": [
       "Validating:   0%|          | 0/3 [00:00<?, ?it/s]"
      ]
     },
     "metadata": {},
     "output_type": "display_data"
    },
    {
     "name": "stderr",
     "output_type": "stream",
     "text": [
      "2023-11-30 07:48:12:rastervision: INFO - metrics:\n",
      "{'avg_f1': 0.9046080708503723,\n",
      " 'avg_precision': 0.9719427824020386,\n",
      " 'avg_recall': 0.8459985852241516,\n",
      " 'epoch': 3,\n",
      " 'other_f1': 0.9136262536048889,\n",
      " 'other_precision': 0.998830258846283,\n",
      " 'other_recall': 0.8418161869049072,\n",
      " 'sandmine_average_precision': tensor(0.6489, device='cuda:0'),\n",
      " 'sandmine_f1': 0.290426641702652,\n",
      " 'sandmine_precision': 0.17076048254966736,\n",
      " 'sandmine_recall': 0.9706243872642517,\n",
      " 'train_bce_loss': 0.003548857152770838,\n",
      " 'train_dice_loss': 0.006371684642653391,\n",
      " 'train_time': datetime.timedelta(seconds=293, microseconds=885203),\n",
      " 'val_bce_loss': tensor(0.0033, device='cuda:0'),\n",
      " 'val_dice_loss': tensor(0.0069, device='cuda:0'),\n",
      " 'valid_time': datetime.timedelta(seconds=43, microseconds=257483)}\n",
      "2023-11-30 07:48:13:rastervision: INFO - epoch: 4\n"
     ]
    },
    {
     "data": {
      "application/vnd.jupyter.widget-view+json": {
       "model_id": "94a8f8bee2de49a194763280167dab81",
       "version_major": 2,
       "version_minor": 0
      },
      "text/plain": [
       "Training:   0%|          | 0/25 [00:00<?, ?it/s]"
      ]
     },
     "metadata": {},
     "output_type": "display_data"
    },
    {
     "data": {
      "application/vnd.jupyter.widget-view+json": {
       "model_id": "d4ca578146f14997812f3b61c64865f8",
       "version_major": 2,
       "version_minor": 0
      },
      "text/plain": [
       "Validating:   0%|          | 0/3 [00:00<?, ?it/s]"
      ]
     },
     "metadata": {},
     "output_type": "display_data"
    },
    {
     "name": "stderr",
     "output_type": "stream",
     "text": [
      "2023-11-30 07:53:51:rastervision: INFO - metrics:\n",
      "{'avg_f1': 0.9316933751106262,\n",
      " 'avg_precision': 0.9724385738372803,\n",
      " 'avg_recall': 0.8942252993583679,\n",
      " 'epoch': 4,\n",
      " 'other_f1': 0.942314624786377,\n",
      " 'other_precision': 0.9974810481071472,\n",
      " 'other_recall': 0.8929304480552673,\n",
      " 'sandmine_average_precision': tensor(0.6419, device='cuda:0'),\n",
      " 'sandmine_f1': 0.36414870619773865,\n",
      " 'sandmine_precision': 0.22623255848884583,\n",
      " 'sandmine_recall': 0.9328083992004395,\n",
      " 'train_bce_loss': 0.00326537746221908,\n",
      " 'train_dice_loss': 0.0064581626437488614,\n",
      " 'train_time': datetime.timedelta(seconds=293, microseconds=350634),\n",
      " 'val_bce_loss': tensor(0.0026, device='cuda:0'),\n",
      " 'val_dice_loss': tensor(0.0069, device='cuda:0'),\n",
      " 'valid_time': datetime.timedelta(seconds=43, microseconds=791997)}\n",
      "2023-11-30 07:53:52:rastervision: INFO - epoch: 5\n"
     ]
    },
    {
     "data": {
      "application/vnd.jupyter.widget-view+json": {
       "model_id": "f19eafec7f5b4700a9bbc59bb57caade",
       "version_major": 2,
       "version_minor": 0
      },
      "text/plain": [
       "Training:   0%|          | 0/25 [00:00<?, ?it/s]"
      ]
     },
     "metadata": {},
     "output_type": "display_data"
    },
    {
     "data": {
      "application/vnd.jupyter.widget-view+json": {
       "model_id": "b312a7821c544bbc9e6fdeb282460f16",
       "version_major": 2,
       "version_minor": 0
      },
      "text/plain": [
       "Validating:   0%|          | 0/3 [00:00<?, ?it/s]"
      ]
     },
     "metadata": {},
     "output_type": "display_data"
    },
    {
     "name": "stderr",
     "output_type": "stream",
     "text": [
      "2023-11-30 07:59:29:rastervision: INFO - metrics:\n",
      "{'avg_f1': 0.9202529191970825,\n",
      " 'avg_precision': 0.9729779958724976,\n",
      " 'avg_recall': 0.8729484677314758,\n",
      " 'epoch': 5,\n",
      " 'other_f1': 0.9297994375228882,\n",
      " 'other_precision': 0.9989151954650879,\n",
      " 'other_recall': 0.8696290850639343,\n",
      " 'sandmine_average_precision': tensor(0.6540, device='cuda:0'),\n",
      " 'sandmine_f1': 0.3318849205970764,\n",
      " 'sandmine_precision': 0.20011088252067566,\n",
      " 'sandmine_recall': 0.9718592166900635,\n",
      " 'train_bce_loss': 0.0032760948714814653,\n",
      " 'train_dice_loss': 0.006367186808215522,\n",
      " 'train_time': datetime.timedelta(seconds=293, microseconds=249040),\n",
      " 'val_bce_loss': tensor(0.0028, device='cuda:0'),\n",
      " 'val_dice_loss': tensor(0.0069, device='cuda:0'),\n",
      " 'valid_time': datetime.timedelta(seconds=43, microseconds=277926)}\n",
      "2023-11-30 07:59:31:rastervision: INFO - epoch: 6\n"
     ]
    },
    {
     "data": {
      "application/vnd.jupyter.widget-view+json": {
       "model_id": "3a6787313fa548f48364a16fe1226910",
       "version_major": 2,
       "version_minor": 0
      },
      "text/plain": [
       "Training:   0%|          | 0/25 [00:00<?, ?it/s]"
      ]
     },
     "metadata": {},
     "output_type": "display_data"
    },
    {
     "data": {
      "application/vnd.jupyter.widget-view+json": {
       "model_id": "9c2b4e4c26cc4080aac957ad5947281f",
       "version_major": 2,
       "version_minor": 0
      },
      "text/plain": [
       "Validating:   0%|          | 0/3 [00:00<?, ?it/s]"
      ]
     },
     "metadata": {},
     "output_type": "display_data"
    },
    {
     "name": "stderr",
     "output_type": "stream",
     "text": [
      "2023-11-30 08:05:08:rastervision: INFO - metrics:\n",
      "{'avg_f1': 0.9358887076377869,\n",
      " 'avg_precision': 0.9729173183441162,\n",
      " 'avg_recall': 0.9015753269195557,\n",
      " 'epoch': 6,\n",
      " 'other_f1': 0.9465358257293701,\n",
      " 'other_precision': 0.9975312948226929,\n",
      " 'other_recall': 0.9005007743835449,\n",
      " 'sandmine_average_precision': tensor(0.6127, device='cuda:0'),\n",
      " 'sandmine_f1': 0.38118064403533936,\n",
      " 'sandmine_precision': 0.23947924375534058,\n",
      " 'sandmine_recall': 0.9335945248603821,\n",
      " 'train_bce_loss': 0.003343521622178468,\n",
      " 'train_dice_loss': 0.006475090362865072,\n",
      " 'train_time': datetime.timedelta(seconds=294, microseconds=144992),\n",
      " 'val_bce_loss': tensor(0.0026, device='cuda:0'),\n",
      " 'val_dice_loss': tensor(0.0068, device='cuda:0'),\n",
      " 'valid_time': datetime.timedelta(seconds=43, microseconds=315386)}\n",
      "2023-11-30 08:05:10:rastervision: INFO - epoch: 7\n"
     ]
    },
    {
     "data": {
      "application/vnd.jupyter.widget-view+json": {
       "model_id": "72151708c7a3419a9d787e010755e861",
       "version_major": 2,
       "version_minor": 0
      },
      "text/plain": [
       "Training:   0%|          | 0/25 [00:00<?, ?it/s]"
      ]
     },
     "metadata": {},
     "output_type": "display_data"
    },
    {
     "data": {
      "application/vnd.jupyter.widget-view+json": {
       "model_id": "97ec541810a1418dbd74bb0b66b1a8ac",
       "version_major": 2,
       "version_minor": 0
      },
      "text/plain": [
       "Validating:   0%|          | 0/3 [00:00<?, ?it/s]"
      ]
     },
     "metadata": {},
     "output_type": "display_data"
    },
    {
     "name": "stderr",
     "output_type": "stream",
     "text": [
      "2023-11-30 08:10:47:rastervision: INFO - metrics:\n",
      "{'avg_f1': 0.9250031113624573,\n",
      " 'avg_precision': 0.9730350971221924,\n",
      " 'avg_recall': 0.8814901113510132,\n",
      " 'epoch': 7,\n",
      " 'other_f1': 0.9348450303077698,\n",
      " 'other_precision': 0.9986233115196228,\n",
      " 'other_recall': 0.8787243366241455,\n",
      " 'sandmine_average_precision': tensor(0.6325, device='cuda:0'),\n",
      " 'sandmine_f1': 0.34563156962394714,\n",
      " 'sandmine_precision': 0.21056802570819855,\n",
      " 'sandmine_recall': 0.9639026522636414,\n",
      " 'train_bce_loss': 0.0033008888595462463,\n",
      " 'train_dice_loss': 0.006348453655144094,\n",
      " 'train_time': datetime.timedelta(seconds=293, microseconds=835639),\n",
      " 'val_bce_loss': tensor(0.0028, device='cuda:0'),\n",
      " 'val_dice_loss': tensor(0.0069, device='cuda:0'),\n",
      " 'valid_time': datetime.timedelta(seconds=43, microseconds=663490)}\n",
      "2023-11-30 08:10:49:rastervision: INFO - epoch: 8\n"
     ]
    },
    {
     "data": {
      "application/vnd.jupyter.widget-view+json": {
       "model_id": "dfb2567189ac4556947abd2cdd065474",
       "version_major": 2,
       "version_minor": 0
      },
      "text/plain": [
       "Training:   0%|          | 0/25 [00:00<?, ?it/s]"
      ]
     },
     "metadata": {},
     "output_type": "display_data"
    },
    {
     "data": {
      "application/vnd.jupyter.widget-view+json": {
       "model_id": "154596e60ce848cba6c46040ab2e5cdf",
       "version_major": 2,
       "version_minor": 0
      },
      "text/plain": [
       "Validating:   0%|          | 0/3 [00:00<?, ?it/s]"
      ]
     },
     "metadata": {},
     "output_type": "display_data"
    },
    {
     "name": "stderr",
     "output_type": "stream",
     "text": [
      "2023-11-30 08:16:26:rastervision: INFO - metrics:\n",
      "{'avg_f1': 0.9451583623886108,\n",
      " 'avg_precision': 0.9726808071136475,\n",
      " 'avg_recall': 0.9191505312919617,\n",
      " 'epoch': 8,\n",
      " 'other_f1': 0.9565572738647461,\n",
      " 'other_precision': 0.9961683750152588,\n",
      " 'other_recall': 0.9199758172035217,\n",
      " 'sandmine_average_precision': tensor(0.6200, device='cuda:0'),\n",
      " 'sandmine_f1': 0.4181073307991028,\n",
      " 'sandmine_precision': 0.27280721068382263,\n",
      " 'sandmine_recall': 0.8945596218109131,\n",
      " 'train_bce_loss': 0.0031392240771357877,\n",
      " 'train_dice_loss': 0.006447636401715057,\n",
      " 'train_time': datetime.timedelta(seconds=294, microseconds=20867),\n",
      " 'val_bce_loss': tensor(0.0025, device='cuda:0'),\n",
      " 'val_dice_loss': tensor(0.0068, device='cuda:0'),\n",
      " 'valid_time': datetime.timedelta(seconds=43, microseconds=286159)}\n",
      "2023-11-30 08:16:28:rastervision: INFO - epoch: 9\n"
     ]
    },
    {
     "data": {
      "application/vnd.jupyter.widget-view+json": {
       "model_id": "600f8bb13b8840d7949866350ab0c4be",
       "version_major": 2,
       "version_minor": 0
      },
      "text/plain": [
       "Training:   0%|          | 0/25 [00:00<?, ?it/s]"
      ]
     },
     "metadata": {},
     "output_type": "display_data"
    },
    {
     "data": {
      "application/vnd.jupyter.widget-view+json": {
       "model_id": "5e7af771d5a0447fa4c71b59311cbf07",
       "version_major": 2,
       "version_minor": 0
      },
      "text/plain": [
       "Validating:   0%|          | 0/3 [00:00<?, ?it/s]"
      ]
     },
     "metadata": {},
     "output_type": "display_data"
    },
    {
     "name": "stderr",
     "output_type": "stream",
     "text": [
      "2023-11-30 08:22:05:rastervision: INFO - metrics:\n",
      "{'avg_f1': 0.925705075263977,\n",
      " 'avg_precision': 0.9720682501792908,\n",
      " 'avg_recall': 0.8835631608963013,\n",
      " 'epoch': 9,\n",
      " 'other_f1': 0.9361172914505005,\n",
      " 'other_precision': 0.9976367354393005,\n",
      " 'other_recall': 0.8817443251609802,\n",
      " 'sandmine_average_precision': tensor(0.6265, device='cuda:0'),\n",
      " 'sandmine_f1': 0.34340769052505493,\n",
      " 'sandmine_precision': 0.21018953621387482,\n",
      " 'sandmine_recall': 0.937760591506958,\n",
      " 'train_bce_loss': 0.0032780439124823852,\n",
      " 'train_dice_loss': 0.006442899531033373,\n",
      " 'train_time': datetime.timedelta(seconds=293, microseconds=470351),\n",
      " 'val_bce_loss': tensor(0.0028, device='cuda:0'),\n",
      " 'val_dice_loss': tensor(0.0069, device='cuda:0'),\n",
      " 'valid_time': datetime.timedelta(seconds=43, microseconds=868133)}\n",
      "2023-11-30 08:22:07:rastervision: INFO - epoch: 10\n"
     ]
    },
    {
     "data": {
      "application/vnd.jupyter.widget-view+json": {
       "model_id": "bfb28023de52447f8a5be9e03ae7816e",
       "version_major": 2,
       "version_minor": 0
      },
      "text/plain": [
       "Training:   0%|          | 0/25 [00:00<?, ?it/s]"
      ]
     },
     "metadata": {},
     "output_type": "display_data"
    },
    {
     "data": {
      "application/vnd.jupyter.widget-view+json": {
       "model_id": "8780e78fff6c475e84cdee7e6f0d8e6c",
       "version_major": 2,
       "version_minor": 0
      },
      "text/plain": [
       "Validating:   0%|          | 0/3 [00:00<?, ?it/s]"
      ]
     },
     "metadata": {},
     "output_type": "display_data"
    },
    {
     "name": "stderr",
     "output_type": "stream",
     "text": [
      "2023-11-30 08:27:44:rastervision: INFO - metrics:\n",
      "{'avg_f1': 0.9283274412155151,\n",
      " 'avg_precision': 0.9729678630828857,\n",
      " 'avg_recall': 0.8876035809516907,\n",
      " 'epoch': 10,\n",
      " 'other_f1': 0.9384331703186035,\n",
      " 'other_precision': 0.9982898235321045,\n",
      " 'other_recall': 0.8853483200073242,\n",
      " 'sandmine_average_precision': tensor(0.6526, device='cuda:0'),\n",
      " 'sandmine_f1': 0.3555312752723694,\n",
      " 'sandmine_precision': 0.21843352913856506,\n",
      " 'sandmine_recall': 0.9548067450523376,\n",
      " 'train_bce_loss': 0.0033403990182234214,\n",
      " 'train_dice_loss': 0.006411716728012796,\n",
      " 'train_time': datetime.timedelta(seconds=293, microseconds=656829),\n",
      " 'val_bce_loss': tensor(0.0026, device='cuda:0'),\n",
      " 'val_dice_loss': tensor(0.0069, device='cuda:0'),\n",
      " 'valid_time': datetime.timedelta(seconds=43, microseconds=640234)}\n",
      "2023-11-30 08:27:46:rastervision: INFO - epoch: 11\n"
     ]
    },
    {
     "data": {
      "application/vnd.jupyter.widget-view+json": {
       "model_id": "3d63e14cd5cd44b486c37e6c64b33f64",
       "version_major": 2,
       "version_minor": 0
      },
      "text/plain": [
       "Training:   0%|          | 0/25 [00:00<?, ?it/s]"
      ]
     },
     "metadata": {},
     "output_type": "display_data"
    },
    {
     "data": {
      "application/vnd.jupyter.widget-view+json": {
       "model_id": "d259da6bd7b94c54af809eb966bfb87b",
       "version_major": 2,
       "version_minor": 0
      },
      "text/plain": [
       "Validating:   0%|          | 0/3 [00:00<?, ?it/s]"
      ]
     },
     "metadata": {},
     "output_type": "display_data"
    },
    {
     "name": "stderr",
     "output_type": "stream",
     "text": [
      "2023-11-30 08:33:24:rastervision: INFO - metrics:\n",
      "{'avg_f1': 0.9509456753730774,\n",
      " 'avg_precision': 0.9738165140151978,\n",
      " 'avg_recall': 0.9291244745254517,\n",
      " 'epoch': 11,\n",
      " 'other_f1': 0.9621134996414185,\n",
      " 'other_precision': 0.9963752031326294,\n",
      " 'other_recall': 0.9301297068595886,\n",
      " 'sandmine_average_precision': tensor(0.6254, device='cuda:0'),\n",
      " 'sandmine_f1': 0.45171549916267395,\n",
      " 'sandmine_precision': 0.3016199469566345,\n",
      " 'sandmine_recall': 0.8991712331771851,\n",
      " 'train_bce_loss': 0.0031471388327643044,\n",
      " 'train_dice_loss': 0.006386734661042999,\n",
      " 'train_time': datetime.timedelta(seconds=294, microseconds=8704),\n",
      " 'val_bce_loss': tensor(0.0023, device='cuda:0'),\n",
      " 'val_dice_loss': tensor(0.0068, device='cuda:0'),\n",
      " 'valid_time': datetime.timedelta(seconds=44, microseconds=73892)}\n",
      "2023-11-30 08:33:26:rastervision: INFO - epoch: 12\n"
     ]
    },
    {
     "data": {
      "application/vnd.jupyter.widget-view+json": {
       "model_id": "7631ba2a7fb540249ccdf592d60d3a2a",
       "version_major": 2,
       "version_minor": 0
      },
      "text/plain": [
       "Training:   0%|          | 0/25 [00:00<?, ?it/s]"
      ]
     },
     "metadata": {},
     "output_type": "display_data"
    },
    {
     "data": {
      "application/vnd.jupyter.widget-view+json": {
       "model_id": "d9a23af9140a46948f273d1e10a3e338",
       "version_major": 2,
       "version_minor": 0
      },
      "text/plain": [
       "Validating:   0%|          | 0/3 [00:00<?, ?it/s]"
      ]
     },
     "metadata": {},
     "output_type": "display_data"
    },
    {
     "name": "stderr",
     "output_type": "stream",
     "text": [
      "2023-11-30 08:39:02:rastervision: INFO - metrics:\n",
      "{'avg_f1': 0.9372101426124573,\n",
      " 'avg_precision': 0.973580002784729,\n",
      " 'avg_recall': 0.9034597873687744,\n",
      " 'epoch': 12,\n",
      " 'other_f1': 0.9475882053375244,\n",
      " 'other_precision': 0.998034656047821,\n",
      " 'other_recall': 0.9019961953163147,\n",
      " 'sandmine_average_precision': tensor(0.6406, device='cuda:0'),\n",
      " 'sandmine_f1': 0.38915306329727173,\n",
      " 'sandmine_precision': 0.24488909542560577,\n",
      " 'sandmine_recall': 0.9470729231834412,\n",
      " 'train_bce_loss': 0.0032116607063174866,\n",
      " 'train_dice_loss': 0.006421818016724265,\n",
      " 'train_time': datetime.timedelta(seconds=293, microseconds=195005),\n",
      " 'val_bce_loss': tensor(0.0025, device='cuda:0'),\n",
      " 'val_dice_loss': tensor(0.0068, device='cuda:0'),\n",
      " 'valid_time': datetime.timedelta(seconds=43, microseconds=198021)}\n",
      "2023-11-30 08:39:04:rastervision: INFO - epoch: 13\n"
     ]
    },
    {
     "data": {
      "application/vnd.jupyter.widget-view+json": {
       "model_id": "2b81af54d665492c99ae5bf45bf0a3f9",
       "version_major": 2,
       "version_minor": 0
      },
      "text/plain": [
       "Training:   0%|          | 0/25 [00:00<?, ?it/s]"
      ]
     },
     "metadata": {},
     "output_type": "display_data"
    },
    {
     "data": {
      "application/vnd.jupyter.widget-view+json": {
       "model_id": "2bcfc3b656eb4eed9546f74b21795c5d",
       "version_major": 2,
       "version_minor": 0
      },
      "text/plain": [
       "Validating:   0%|          | 0/3 [00:00<?, ?it/s]"
      ]
     },
     "metadata": {},
     "output_type": "display_data"
    },
    {
     "name": "stderr",
     "output_type": "stream",
     "text": [
      "2023-11-30 08:44:41:rastervision: INFO - metrics:\n",
      "{'avg_f1': 0.9321161508560181,\n",
      " 'avg_precision': 0.9727174639701843,\n",
      " 'avg_recall': 0.8947683572769165,\n",
      " 'epoch': 13,\n",
      " 'other_f1': 0.9426153898239136,\n",
      " 'other_precision': 0.9977111220359802,\n",
      " 'other_recall': 0.8932861685752869,\n",
      " 'sandmine_average_precision': tensor(0.6517, device='cuda:0'),\n",
      " 'sandmine_f1': 0.3668608069419861,\n",
      " 'sandmine_precision': 0.2279658168554306,\n",
      " 'sandmine_recall': 0.9389349818229675,\n",
      " 'train_bce_loss': 0.003165143450307105,\n",
      " 'train_dice_loss': 0.006491621541235731,\n",
      " 'train_time': datetime.timedelta(seconds=293, microseconds=224928),\n",
      " 'val_bce_loss': tensor(0.0026, device='cuda:0'),\n",
      " 'val_dice_loss': tensor(0.0069, device='cuda:0'),\n",
      " 'valid_time': datetime.timedelta(seconds=43, microseconds=740777)}\n",
      "2023-11-30 08:44:42:rastervision: INFO - epoch: 14\n"
     ]
    },
    {
     "data": {
      "application/vnd.jupyter.widget-view+json": {
       "model_id": "2066edac9f0448e4a150289e808a4918",
       "version_major": 2,
       "version_minor": 0
      },
      "text/plain": [
       "Training:   0%|          | 0/25 [00:00<?, ?it/s]"
      ]
     },
     "metadata": {},
     "output_type": "display_data"
    },
    {
     "data": {
      "application/vnd.jupyter.widget-view+json": {
       "model_id": "f89070c1319240368c3fdce0d88c2a7f",
       "version_major": 2,
       "version_minor": 0
      },
      "text/plain": [
       "Validating:   0%|          | 0/3 [00:00<?, ?it/s]"
      ]
     },
     "metadata": {},
     "output_type": "display_data"
    },
    {
     "name": "stderr",
     "output_type": "stream",
     "text": [
      "2023-11-30 08:50:20:rastervision: INFO - metrics:\n",
      "{'avg_f1': 0.9420161843299866,\n",
      " 'avg_precision': 0.9731568098068237,\n",
      " 'avg_recall': 0.9128066897392273,\n",
      " 'epoch': 14,\n",
      " 'other_f1': 0.9529467225074768,\n",
      " 'other_precision': 0.9970586895942688,\n",
      " 'other_recall': 0.9125726222991943,\n",
      " 'sandmine_average_precision': tensor(0.6420, device='cuda:0'),\n",
      " 'sandmine_f1': 0.40654146671295166,\n",
      " 'sandmine_precision': 0.2609376609325409,\n",
      " 'sandmine_recall': 0.9197819232940674,\n",
      " 'train_bce_loss': 0.003207698387185527,\n",
      " 'train_dice_loss': 0.006405515991962017,\n",
      " 'train_time': datetime.timedelta(seconds=294, microseconds=243663),\n",
      " 'val_bce_loss': tensor(0.0024, device='cuda:0'),\n",
      " 'val_dice_loss': tensor(0.0068, device='cuda:0'),\n",
      " 'valid_time': datetime.timedelta(seconds=43, microseconds=693902)}\n",
      "2023-11-30 08:50:22:rastervision: INFO - epoch: 15\n"
     ]
    },
    {
     "data": {
      "application/vnd.jupyter.widget-view+json": {
       "model_id": "da123073083f44729cb410a22eeefb85",
       "version_major": 2,
       "version_minor": 0
      },
      "text/plain": [
       "Training:   0%|          | 0/25 [00:00<?, ?it/s]"
      ]
     },
     "metadata": {},
     "output_type": "display_data"
    },
    {
     "data": {
      "application/vnd.jupyter.widget-view+json": {
       "model_id": "dc8f030daec74aeba952231c8d3ff6d9",
       "version_major": 2,
       "version_minor": 0
      },
      "text/plain": [
       "Validating:   0%|          | 0/3 [00:00<?, ?it/s]"
      ]
     },
     "metadata": {},
     "output_type": "display_data"
    },
    {
     "name": "stderr",
     "output_type": "stream",
     "text": [
      "2023-11-30 08:56:00:rastervision: INFO - metrics:\n",
      "{'avg_f1': 0.9322409629821777,\n",
      " 'avg_precision': 0.9733299612998962,\n",
      " 'avg_recall': 0.8944805264472961,\n",
      " 'epoch': 15,\n",
      " 'other_f1': 0.942417562007904,\n",
      " 'other_precision': 0.9982921481132507,\n",
      " 'other_recall': 0.892466127872467,\n",
      " 'sandmine_average_precision': tensor(0.6633, device='cuda:0'),\n",
      " 'sandmine_f1': 0.37005195021629333,\n",
      " 'sandmine_precision': 0.2295166403055191,\n",
      " 'sandmine_recall': 0.9545043706893921,\n",
      " 'train_bce_loss': 0.003118120944561736,\n",
      " 'train_dice_loss': 0.00643309039773101,\n",
      " 'train_time': datetime.timedelta(seconds=293, microseconds=718531),\n",
      " 'val_bce_loss': tensor(0.0025, device='cuda:0'),\n",
      " 'val_dice_loss': tensor(0.0069, device='cuda:0'),\n",
      " 'valid_time': datetime.timedelta(seconds=44, microseconds=93877)}\n",
      "2023-11-30 08:56:01:rastervision: INFO - epoch: 16\n"
     ]
    },
    {
     "data": {
      "application/vnd.jupyter.widget-view+json": {
       "model_id": "22f42f7fe1994d53b68d48d2ea738dc3",
       "version_major": 2,
       "version_minor": 0
      },
      "text/plain": [
       "Training:   0%|          | 0/25 [00:00<?, ?it/s]"
      ]
     },
     "metadata": {},
     "output_type": "display_data"
    },
    {
     "data": {
      "application/vnd.jupyter.widget-view+json": {
       "model_id": "8dada05c8ce24ecb9ef6443ff45fa34d",
       "version_major": 2,
       "version_minor": 0
      },
      "text/plain": [
       "Validating:   0%|          | 0/3 [00:00<?, ?it/s]"
      ]
     },
     "metadata": {},
     "output_type": "display_data"
    },
    {
     "name": "stderr",
     "output_type": "stream",
     "text": [
      "2023-11-30 09:01:39:rastervision: INFO - metrics:\n",
      "{'avg_f1': 0.9301341772079468,\n",
      " 'avg_precision': 0.9732560515403748,\n",
      " 'avg_recall': 0.8906714916229248,\n",
      " 'epoch': 16,\n",
      " 'other_f1': 0.9402074813842773,\n",
      " 'other_precision': 0.9984123110771179,\n",
      " 'other_recall': 0.8884152173995972,\n",
      " 'sandmine_average_precision': tensor(0.6396, device='cuda:0'),\n",
      " 'sandmine_f1': 0.36264535784721375,\n",
      " 'sandmine_precision': 0.2236594706773758,\n",
      " 'sandmine_recall': 0.9579033851623535,\n",
      " 'train_bce_loss': 0.003273982458164037,\n",
      " 'train_dice_loss': 0.006372220157959301,\n",
      " 'train_time': datetime.timedelta(seconds=294, microseconds=40499),\n",
      " 'val_bce_loss': tensor(0.0026, device='cuda:0'),\n",
      " 'val_dice_loss': tensor(0.0069, device='cuda:0'),\n",
      " 'valid_time': datetime.timedelta(seconds=43, microseconds=902830)}\n",
      "2023-11-30 09:01:41:rastervision: INFO - epoch: 17\n"
     ]
    },
    {
     "data": {
      "application/vnd.jupyter.widget-view+json": {
       "model_id": "8d2c78f2db3b4bfe87b5a214f8d00ce2",
       "version_major": 2,
       "version_minor": 0
      },
      "text/plain": [
       "Training:   0%|          | 0/25 [00:00<?, ?it/s]"
      ]
     },
     "metadata": {},
     "output_type": "display_data"
    },
    {
     "data": {
      "application/vnd.jupyter.widget-view+json": {
       "model_id": "6ccf31f4318447d8b5eae6acb929609c",
       "version_major": 2,
       "version_minor": 0
      },
      "text/plain": [
       "Validating:   0%|          | 0/3 [00:00<?, ?it/s]"
      ]
     },
     "metadata": {},
     "output_type": "display_data"
    },
    {
     "name": "stderr",
     "output_type": "stream",
     "text": [
      "2023-11-30 09:07:19:rastervision: INFO - metrics:\n",
      "{'avg_f1': 0.9206599593162537,\n",
      " 'avg_precision': 0.9723639488220215,\n",
      " 'avg_recall': 0.8741768598556519,\n",
      " 'epoch': 17,\n",
      " 'other_f1': 0.9305656552314758,\n",
      " 'other_precision': 0.9982956051826477,\n",
      " 'other_recall': 0.8714421391487122,\n",
      " 'sandmine_average_precision': tensor(0.6109, device='cuda:0'),\n",
      " 'sandmine_f1': 0.33031538128852844,\n",
      " 'sandmine_precision': 0.1996634155511856,\n",
      " 'sandmine_recall': 0.9556660056114197,\n",
      " 'train_bce_loss': 0.003126473006806843,\n",
      " 'train_dice_loss': 0.00637609538636677,\n",
      " 'train_time': datetime.timedelta(seconds=293, microseconds=857288),\n",
      " 'val_bce_loss': tensor(0.0029, device='cuda:0'),\n",
      " 'val_dice_loss': tensor(0.0069, device='cuda:0'),\n",
      " 'valid_time': datetime.timedelta(seconds=43, microseconds=824546)}\n",
      "2023-11-30 09:07:20:rastervision: INFO - epoch: 18\n"
     ]
    },
    {
     "data": {
      "application/vnd.jupyter.widget-view+json": {
       "model_id": "1af94c8ac0164d518bcfdc2f158dc2d9",
       "version_major": 2,
       "version_minor": 0
      },
      "text/plain": [
       "Training:   0%|          | 0/25 [00:00<?, ?it/s]"
      ]
     },
     "metadata": {},
     "output_type": "display_data"
    },
    {
     "data": {
      "application/vnd.jupyter.widget-view+json": {
       "model_id": "301f366a191c4d598377874cacf4f769",
       "version_major": 2,
       "version_minor": 0
      },
      "text/plain": [
       "Validating:   0%|          | 0/3 [00:00<?, ?it/s]"
      ]
     },
     "metadata": {},
     "output_type": "display_data"
    },
    {
     "name": "stderr",
     "output_type": "stream",
     "text": [
      "2023-11-30 09:12:58:rastervision: INFO - metrics:\n",
      "{'avg_f1': 0.9307929873466492,\n",
      " 'avg_precision': 0.972937285900116,\n",
      " 'avg_recall': 0.8921481966972351,\n",
      " 'epoch': 18,\n",
      " 'other_f1': 0.9410833716392517,\n",
      " 'other_precision': 0.9980452656745911,\n",
      " 'other_recall': 0.8902723789215088,\n",
      " 'sandmine_average_precision': tensor(0.6387, device='cuda:0'),\n",
      " 'sandmine_f1': 0.36339759826660156,\n",
      " 'sandmine_precision': 0.22477920353412628,\n",
      " 'sandmine_recall': 0.9480436444282532,\n",
      " 'train_bce_loss': 0.0031256558363919433,\n",
      " 'train_dice_loss': 0.006405734027605601,\n",
      " 'train_time': datetime.timedelta(seconds=294, microseconds=97215),\n",
      " 'val_bce_loss': tensor(0.0026, device='cuda:0'),\n",
      " 'val_dice_loss': tensor(0.0069, device='cuda:0'),\n",
      " 'valid_time': datetime.timedelta(seconds=43, microseconds=449964)}\n",
      "2023-11-30 09:13:00:rastervision: INFO - epoch: 19\n"
     ]
    },
    {
     "data": {
      "application/vnd.jupyter.widget-view+json": {
       "model_id": "f515c2519ce742e1a81f1dfcca9d87e8",
       "version_major": 2,
       "version_minor": 0
      },
      "text/plain": [
       "Training:   0%|          | 0/25 [00:00<?, ?it/s]"
      ]
     },
     "metadata": {},
     "output_type": "display_data"
    },
    {
     "data": {
      "application/vnd.jupyter.widget-view+json": {
       "model_id": "ce64c48745d14e188ca3d56097a36572",
       "version_major": 2,
       "version_minor": 0
      },
      "text/plain": [
       "Validating:   0%|          | 0/3 [00:00<?, ?it/s]"
      ]
     },
     "metadata": {},
     "output_type": "display_data"
    },
    {
     "name": "stderr",
     "output_type": "stream",
     "text": [
      "2023-11-30 09:18:37:rastervision: INFO - metrics:\n",
      "{'avg_f1': 0.9428982138633728,\n",
      " 'avg_precision': 0.9737053513526917,\n",
      " 'avg_recall': 0.9139807820320129,\n",
      " 'epoch': 19,\n",
      " 'other_f1': 0.9535909295082092,\n",
      " 'other_precision': 0.9974827766418457,\n",
      " 'other_recall': 0.9133989810943604,\n",
      " 'sandmine_average_precision': tensor(0.6285, device='cuda:0'),\n",
      " 'sandmine_f1': 0.41283372044563293,\n",
      " 'sandmine_precision': 0.2651945948600769,\n",
      " 'sandmine_recall': 0.9313157796859741,\n",
      " 'train_bce_loss': 0.0031257676337049416,\n",
      " 'train_dice_loss': 0.006446888409747978,\n",
      " 'train_time': datetime.timedelta(seconds=293, microseconds=668967),\n",
      " 'val_bce_loss': tensor(0.0024, device='cuda:0'),\n",
      " 'val_dice_loss': tensor(0.0068, device='cuda:0'),\n",
      " 'valid_time': datetime.timedelta(seconds=43, microseconds=343775)}\n"
     ]
    }
   ],
   "source": [
    "learner.train(epochs=1)"
   ]
  },
  {
   "cell_type": "markdown",
   "id": "3b6846be",
   "metadata": {},
   "source": [
    "## Evaluate "
   ]
  },
  {
   "cell_type": "markdown",
   "metadata": {},
   "source": [
    "Initialize evaluation_datasets and predictor.\n",
    "evaluation_datasets and validation_datasets are based on identical scenes, but have different sliding window configurations."
   ]
  },
  {
   "cell_type": "code",
   "execution_count": 13,
   "id": "19ba54a6",
   "metadata": {},
   "outputs": [
    {
     "name": "stdout",
     "output_type": "stream",
     "text": [
      "Loading weights from /home/ando/sandmining-watch/out/OUTPUT_DIR/SatMAE-L_w15.47_b128.pth\n"
     ]
    }
   ],
   "source": [
    "from ml.learner import BinarySegmentationPredictor\n",
    "from utils.rastervision_pipeline import scene_to_inference_ds\n",
    "\n",
    "evaluation_datasets =  [\n",
    "    scene_to_inference_ds(\n",
    "        config, scene, full_image=True\n",
    "    ) for scene in validation_scenes\n",
    "]\n",
    "\n",
    "predictor = BinarySegmentationPredictor(\n",
    "    config,\n",
    "    model,\n",
    ")\n",
    "\n",
    "## Alternatively: specify path to trained weights\n",
    "# path_to_weights = expanduser(\"~/sandmining-watch/out/OUTPUT_DIR/SatMAE-L_w15.47_b128.pth\")\n",
    "# predictor = BinarySegmentationPredictor(\n",
    "#     config,\n",
    "#     model,\n",
    "#     path_to_weights,\n",
    "# )"
   ]
  },
  {
   "cell_type": "code",
   "execution_count": 13,
   "metadata": {},
   "outputs": [],
   "source": [
    "from ml.eval_utils import evaluate_predicitions, make_wandb_segmentation_masks, make_wandb_predicted_probs_images\n",
    "from utils.visualizing import raster_source_to_rgb\n",
    "\n",
    "prediction_results_list = []\n",
    "\n",
    "for ds in evaluation_datasets:\n",
    "    predictions = predictor.predict_mine_probability_for_site(ds)\n",
    "\n",
    "    rgb_img = raster_source_to_rgb(ds.scene.raster_source)\n",
    "    prediction_results_list.append({\n",
    "        \"predictions\": predictions,\n",
    "        \"ground_truth\": ds.scene.label_source.get_label_arr(),\n",
    "        \"rgb_img\": rgb_img,\n",
    "        \"name\": ds.scene.id\n",
    "    })\n",
    "\n",
    "evaluation_results_dict = evaluate_predicitions(prediction_results_list)"
   ]
  },
  {
   "cell_type": "markdown",
   "metadata": {},
   "source": [
    "Log results to Weights & Biases"
   ]
  },
  {
   "cell_type": "code",
   "execution_count": 10,
   "metadata": {},
   "outputs": [
    {
     "name": "stderr",
     "output_type": "stream",
     "text": [
      "WARNING:root:Images sizes do not match. This will causes images to be display incorrectly in the UI.\n",
      "WARNING:root:Images sizes do not match. This will causes images to be display incorrectly in the UI.\n"
     ]
    }
   ],
   "source": [
    "import wandb\n",
    "\n",
    "assert wandb.run is not None\n",
    "\n",
    "# Add lists of W&B images to dict\n",
    "evaluation_results_dict.update({\n",
    "    'Segmenation masks': make_wandb_segmentation_masks(prediction_results_list),\n",
    "    'Predicted probabilites': make_wandb_predicted_probs_images(prediction_results_list),\n",
    "})\n",
    "\n",
    "# Log to W&B\n",
    "wandb.log(evaluation_results_dict)"
   ]
  },
  {
   "cell_type": "code",
   "execution_count": 11,
   "metadata": {},
   "outputs": [
    {
     "data": {
      "text/html": [
       "Waiting for W&B process to finish... <strong style=\"color:green\">(success).</strong>"
      ],
      "text/plain": [
       "<IPython.core.display.HTML object>"
      ]
     },
     "metadata": {},
     "output_type": "display_data"
    },
    {
     "name": "stderr",
     "output_type": "stream",
     "text": [
      "wandb: WARNING Source type is set to 'repo' but some required information is missing from the environment. A job will not be created from this run. See https://docs.wandb.ai/guides/launch/create-job\n"
     ]
    },
    {
     "data": {
      "text/html": [
       "<style>\n",
       "    table.wandb td:nth-child(1) { padding: 0 10px; text-align: left ; width: auto;} td:nth-child(2) {text-align: left ; width: 100%}\n",
       "    .wandb-row { display: flex; flex-direction: row; flex-wrap: wrap; justify-content: flex-start; width: 100% }\n",
       "    .wandb-col { display: flex; flex-direction: column; flex-basis: 100%; flex: 1; padding: 10px; }\n",
       "    </style>\n",
       "<div class=\"wandb-row\"><div class=\"wandb-col\"><h3>Run history:</h3><br/><table class=\"wandb\"><tr><td>eval/Betwa_Jalaun_79-49_25-84_2022-10-01/average_precision</td><td>▁</td></tr><tr><td>eval/Betwa_Jalaun_79-49_25-84_2022-10-01/f1_score</td><td>▁</td></tr><tr><td>eval/Betwa_Jalaun_79-49_25-84_2022-10-01/precision</td><td>▁</td></tr><tr><td>eval/Betwa_Jalaun_79-49_25-84_2022-10-01/recall</td><td>▁</td></tr><tr><td>eval/Betwa_Jalaun_79-49_25-84_2023-05-01/average_precision</td><td>▁</td></tr><tr><td>eval/Betwa_Jalaun_79-49_25-84_2023-05-01/f1_score</td><td>▁</td></tr><tr><td>eval/Betwa_Jalaun_79-49_25-84_2023-05-01/precision</td><td>▁</td></tr><tr><td>eval/Betwa_Jalaun_79-49_25-84_2023-05-01/recall</td><td>▁</td></tr><tr><td>eval/Betwa_Jalaun_79-79_25-89_2022-10-01/average_precision</td><td>▁</td></tr><tr><td>eval/Betwa_Jalaun_79-79_25-89_2022-10-01/f1_score</td><td>▁</td></tr><tr><td>eval/Betwa_Jalaun_79-79_25-89_2022-10-01/precision</td><td>▁</td></tr><tr><td>eval/Betwa_Jalaun_79-79_25-89_2022-10-01/recall</td><td>▁</td></tr><tr><td>eval/Betwa_Jalaun_79-79_25-89_2023-05-01/average_precision</td><td>▁</td></tr><tr><td>eval/Betwa_Jalaun_79-79_25-89_2023-05-01/f1_score</td><td>▁</td></tr><tr><td>eval/Betwa_Jalaun_79-79_25-89_2023-05-01/precision</td><td>▁</td></tr><tr><td>eval/Betwa_Jalaun_79-79_25-89_2023-05-01/recall</td><td>▁</td></tr><tr><td>eval/Chambal_More_77-92_26-66_2023-01-01/average_precision</td><td>▁</td></tr><tr><td>eval/Chambal_More_77-92_26-66_2023-01-01/f1_score</td><td>▁</td></tr><tr><td>eval/Chambal_More_77-92_26-66_2023-01-01/precision</td><td>▁</td></tr><tr><td>eval/Chambal_More_77-92_26-66_2023-01-01/recall</td><td>▁</td></tr><tr><td>eval/Chambal_More_77-92_26-66_2023-06-01/average_precision</td><td>▁</td></tr><tr><td>eval/Chambal_More_77-92_26-66_2023-06-01/f1_score</td><td>▁</td></tr><tr><td>eval/Chambal_More_77-92_26-66_2023-06-01/precision</td><td>▁</td></tr><tr><td>eval/Chambal_More_77-92_26-66_2023-06-01/recall</td><td>▁</td></tr><tr><td>eval/Ken_Banda_80-35_25-68_2022-01-01/average_precision</td><td>▁</td></tr><tr><td>eval/Ken_Banda_80-35_25-68_2022-01-01/f1_score</td><td>▁</td></tr><tr><td>eval/Ken_Banda_80-35_25-68_2022-01-01/precision</td><td>▁</td></tr><tr><td>eval/Ken_Banda_80-35_25-68_2022-01-01/recall</td><td>▁</td></tr><tr><td>eval/Ken_Banda_80-35_25-68_2022-06-01/average_precision</td><td>▁</td></tr><tr><td>eval/Ken_Banda_80-35_25-68_2022-06-01/f1_score</td><td>▁</td></tr><tr><td>eval/Ken_Banda_80-35_25-68_2022-06-01/precision</td><td>▁</td></tr><tr><td>eval/Ken_Banda_80-35_25-68_2022-06-01/recall</td><td>▁</td></tr><tr><td>eval/total/average_precision</td><td>▁</td></tr><tr><td>eval/total/f1_score</td><td>▁</td></tr><tr><td>eval/total/precision</td><td>▁</td></tr><tr><td>eval/total/recall</td><td>▁</td></tr><tr><td>sandmine_average_precision</td><td>▆█▄▁▁▆▇▄▂▆▄▅▃▆▃▂▄▃▄▃</td></tr><tr><td>sandmine_f1</td><td>▂▄▁▅▃▂▃▄▃▇▆▁▃▅▂▂▂▆█▃</td></tr><tr><td>sandmine_precision</td><td>▂▃▁▅▃▂▃▃▂▇▆▁▃▅▂▂▁▆█▃</td></tr><tr><td>sandmine_recall</td><td>▇▆█▅▆▇▇▅▇▂▃▆▇▅▇▆█▂▁▇</td></tr><tr><td>train_bce_loss</td><td>█▄▃▇▆▄▄▂▄▄▄▆▃▃▁▂▃▃▂▁</td></tr><tr><td>train_dice_loss</td><td>▇▅▅▂▅▂▃█▆▅▅▅▄▄▅▂▄█▄▁</td></tr><tr><td>train_time_seconds</td><td>█▂▇▁▇▂▆▂▆▁▆▁▆▁▇▂▆▁▆▁</td></tr><tr><td>val_bce_loss</td><td>▆▃█▂▄▆▄▃▅▁▁▇▅▂▇▅▆▂▁▄</td></tr><tr><td>val_dice_loss</td><td>▆▅█▃▅▇▆▅▆▄▃▇▅▄▆▅█▄▁▆</td></tr><tr><td>valid_time_seconds</td><td>▂▆▂▃▃█▃▁▄▁▄▁▂▅▅▁▂▅▂▆</td></tr></table><br/></div><div class=\"wandb-col\"><h3>Run summary:</h3><br/><table class=\"wandb\"><tr><td>eval/Betwa_Jalaun_79-49_25-84_2022-10-01/average_precision</td><td>0.75794</td></tr><tr><td>eval/Betwa_Jalaun_79-49_25-84_2022-10-01/f1_score</td><td>0.36516</td></tr><tr><td>eval/Betwa_Jalaun_79-49_25-84_2022-10-01/precision</td><td>0.22577</td></tr><tr><td>eval/Betwa_Jalaun_79-49_25-84_2022-10-01/recall</td><td>0.9544</td></tr><tr><td>eval/Betwa_Jalaun_79-49_25-84_2023-05-01/average_precision</td><td>0.63346</td></tr><tr><td>eval/Betwa_Jalaun_79-49_25-84_2023-05-01/f1_score</td><td>0.19286</td></tr><tr><td>eval/Betwa_Jalaun_79-49_25-84_2023-05-01/precision</td><td>0.10674</td></tr><tr><td>eval/Betwa_Jalaun_79-49_25-84_2023-05-01/recall</td><td>0.9987</td></tr><tr><td>eval/Betwa_Jalaun_79-79_25-89_2022-10-01/average_precision</td><td>0.77294</td></tr><tr><td>eval/Betwa_Jalaun_79-79_25-89_2022-10-01/f1_score</td><td>0.46233</td></tr><tr><td>eval/Betwa_Jalaun_79-79_25-89_2022-10-01/precision</td><td>0.30229</td></tr><tr><td>eval/Betwa_Jalaun_79-79_25-89_2022-10-01/recall</td><td>0.98252</td></tr><tr><td>eval/Betwa_Jalaun_79-79_25-89_2023-05-01/average_precision</td><td>0.62657</td></tr><tr><td>eval/Betwa_Jalaun_79-79_25-89_2023-05-01/f1_score</td><td>0.3116</td></tr><tr><td>eval/Betwa_Jalaun_79-79_25-89_2023-05-01/precision</td><td>0.18543</td></tr><tr><td>eval/Betwa_Jalaun_79-79_25-89_2023-05-01/recall</td><td>0.97506</td></tr><tr><td>eval/Chambal_More_77-92_26-66_2023-01-01/average_precision</td><td>0.66142</td></tr><tr><td>eval/Chambal_More_77-92_26-66_2023-01-01/f1_score</td><td>0.39701</td></tr><tr><td>eval/Chambal_More_77-92_26-66_2023-01-01/precision</td><td>0.24824</td></tr><tr><td>eval/Chambal_More_77-92_26-66_2023-01-01/recall</td><td>0.99077</td></tr><tr><td>eval/Chambal_More_77-92_26-66_2023-06-01/average_precision</td><td>0.281</td></tr><tr><td>eval/Chambal_More_77-92_26-66_2023-06-01/f1_score</td><td>0.34297</td></tr><tr><td>eval/Chambal_More_77-92_26-66_2023-06-01/precision</td><td>0.20803</td></tr><tr><td>eval/Chambal_More_77-92_26-66_2023-06-01/recall</td><td>0.97609</td></tr><tr><td>eval/Ken_Banda_80-35_25-68_2022-01-01/average_precision</td><td>0.73046</td></tr><tr><td>eval/Ken_Banda_80-35_25-68_2022-01-01/f1_score</td><td>0.47908</td></tr><tr><td>eval/Ken_Banda_80-35_25-68_2022-01-01/precision</td><td>0.32752</td></tr><tr><td>eval/Ken_Banda_80-35_25-68_2022-01-01/recall</td><td>0.89169</td></tr><tr><td>eval/Ken_Banda_80-35_25-68_2022-06-01/average_precision</td><td>0.62792</td></tr><tr><td>eval/Ken_Banda_80-35_25-68_2022-06-01/f1_score</td><td>0.27135</td></tr><tr><td>eval/Ken_Banda_80-35_25-68_2022-06-01/precision</td><td>0.15861</td></tr><tr><td>eval/Ken_Banda_80-35_25-68_2022-06-01/recall</td><td>0.9382</td></tr><tr><td>eval/total/average_precision</td><td>0.61749</td></tr><tr><td>eval/total/f1_score</td><td>0.29197</td></tr><tr><td>eval/total/precision</td><td>0.17164</td></tr><tr><td>eval/total/recall</td><td>0.97664</td></tr><tr><td>sandmine_precision</td><td>0.18578</td></tr><tr><td>sandmine_recall</td><td>0.97195</td></tr><tr><td>train_bce_loss</td><td>0.00743</td></tr><tr><td>train_dice_loss</td><td>0.01259</td></tr><tr><td>train_time_seconds</td><td>289.39594</td></tr><tr><td>valid_time_seconds</td><td>39.36623</td></tr></table><br/></div></div>"
      ],
      "text/plain": [
       "<IPython.core.display.HTML object>"
      ]
     },
     "metadata": {},
     "output_type": "display_data"
    },
    {
     "data": {
      "text/html": [
       " View run <strong style=\"color:#cdcd00\">cosmic-frog-6</strong> at: <a href='https://wandb.ai/sandmining-watch/sandmine_detector/runs/6th7vqpx' target=\"_blank\">https://wandb.ai/sandmining-watch/sandmine_detector/runs/6th7vqpx</a><br/>Synced 5 W&B file(s), 34 media file(s), 1 artifact file(s) and 0 other file(s)"
      ],
      "text/plain": [
       "<IPython.core.display.HTML object>"
      ]
     },
     "metadata": {},
     "output_type": "display_data"
    },
    {
     "data": {
      "text/html": [
       "Find logs at: <code>./wandb/run-20231129_210336-6th7vqpx/logs</code>"
      ],
      "text/plain": [
       "<IPython.core.display.HTML object>"
      ]
     },
     "metadata": {},
     "output_type": "display_data"
    }
   ],
   "source": [
    "wandb.finish()"
   ]
  }
 ],
 "metadata": {
  "kernelspec": {
   "display_name": "rv_timm0412",
   "language": "python",
   "name": "python3"
  },
  "language_info": {
   "codemirror_mode": {
    "name": "ipython",
    "version": 3
   },
   "file_extension": ".py",
   "mimetype": "text/x-python",
   "name": "python",
   "nbconvert_exporter": "python",
   "pygments_lexer": "ipython3",
   "version": "3.9.17"
  }
 },
 "nbformat": 4,
 "nbformat_minor": 5
}
