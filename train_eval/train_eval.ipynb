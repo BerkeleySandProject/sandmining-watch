{
 "cells": [
  {
   "cell_type": "code",
   "execution_count": 1,
   "id": "827ede6a-cec2-4306-b462-430933a476f9",
   "metadata": {
    "tags": []
   },
   "outputs": [
    {
     "name": "stderr",
     "output_type": "stream",
     "text": [
      "/home/ando/.conda/envs/rv_timm0412/lib/python3.9/site-packages/geopandas/_compat.py:124: UserWarning: The Shapely GEOS version (3.11.1-CAPI-1.17.1) is incompatible with the GEOS version PyGEOS was compiled with (3.10.3-CAPI-1.16.1). Conversions between both will be slow.\n",
      "  warnings.warn(\n"
     ]
    }
   ],
   "source": [
    "import sys\n",
    "import os\n",
    "sys.path.insert(0, os.path.abspath('..'))\n",
    "from os.path import expanduser\n",
    "\n",
    "%load_ext autoreload\n",
    "%autoreload 2\n",
    "\n",
    "from dotenv import load_dotenv\n",
    "load_dotenv()\n",
    "\n",
    "from google.cloud import storage\n",
    "from project_config import GCP_PROJECT_NAME, DATASET_JSON_PATH\n",
    "\n",
    "gcp_client = storage.Client(project=GCP_PROJECT_NAME)"
   ]
  },
  {
   "cell_type": "markdown",
   "id": "184df66e",
   "metadata": {},
   "source": [
    "### Configuration"
   ]
  },
  {
   "cell_type": "code",
   "execution_count": 2,
   "id": "d76aeda4",
   "metadata": {},
   "outputs": [],
   "source": [
    "from experiment_configs.configs import *\n",
    "config = satmae_large_config"
   ]
  },
  {
   "cell_type": "markdown",
   "id": "701b9bc0",
   "metadata": {},
   "source": [
    "### Create Rastervision datasets"
   ]
  },
  {
   "cell_type": "code",
   "execution_count": 3,
   "id": "bda67a90",
   "metadata": {
    "collapsed": true,
    "jupyter": {
     "outputs_hidden": true
    },
    "tags": []
   },
   "outputs": [
    {
     "name": "stderr",
     "output_type": "stream",
     "text": [
      "2023-12-14 19:31:14:rastervision.pipeline.file_system.utils: INFO - Using cached file /data/tmp/cache/http/storage.googleapis.com/sand_mining_median/labels/Kathajodi_Cuttack_85-85_20-44_median/s2/Kathajodi_Cuttack_85-85_20-44_2022-05-01_s2.tif.\n",
      "2023-12-14 19:31:14:rastervision.pipeline.file_system.utils: INFO - Using cached file /data/tmp/cache/http/storage.googleapis.com/sand_mining_median/labels/Kathajodi_Cuttack_85-85_20-44_median/annotations/Kathajodi_Cuttack_85-85_20-44_2022-05-01_annotations.geojson.\n"
     ]
    },
    {
     "name": "stderr",
     "output_type": "stream",
     "text": [
      "2023-12-14 19:31:14:rastervision.pipeline.file_system.utils: INFO - Using cached file /data/tmp/cache/http/storage.googleapis.com/sand_mining_median/labels/Kathajodi_Cuttack_85-85_20-44_median/rivers/Kathajodi_Cuttack_85-85_20-44_rivers_1000m.geojson.\n",
      "2023-12-14 19:31:14:rastervision.core.data.vector_source.geojson_vector_source: INFO - Ignoring CRS ({'type': 'name', 'properties': {'name': 'urn:ogc:def:crs:OGC:1.3:CRS84'}}) specified in https://storage.googleapis.com/sand_mining_median/labels/Kathajodi_Cuttack_85-85_20-44_median/rivers/Kathajodi_Cuttack_85-85_20-44_rivers_1000m.geojson and assuming EPSG:4326 instead.\n",
      "2023-12-14 19:31:14:rastervision.pipeline.file_system.utils: INFO - Using cached file /data/tmp/cache/http/storage.googleapis.com/sand_mining_median/labels/Kathajodi_Cuttack_85-85_20-44_median/s2/Kathajodi_Cuttack_85-85_20-44_2022-02-01_s2.tif.\n",
      "2023-12-14 19:31:14:rastervision.pipeline.file_system.utils: INFO - Using cached file /data/tmp/cache/http/storage.googleapis.com/sand_mining_median/labels/Kathajodi_Cuttack_85-85_20-44_median/annotations/Kathajodi_Cuttack_85-85_20-44_2022-02-01_annotations.geojson.\n",
      "2023-12-14 19:31:14:rastervision.pipeline.file_system.utils: INFO - Using cached file /data/tmp/cache/http/storage.googleapis.com/sand_mining_median/labels/Kathajodi_Cuttack_85-85_20-44_median/rivers/Kathajodi_Cuttack_85-85_20-44_rivers_1000m.geojson.\n",
      "2023-12-14 19:31:14:rastervision.core.data.vector_source.geojson_vector_source: INFO - Ignoring CRS ({'type': 'name', 'properties': {'name': 'urn:ogc:def:crs:OGC:1.3:CRS84'}}) specified in https://storage.googleapis.com/sand_mining_median/labels/Kathajodi_Cuttack_85-85_20-44_median/rivers/Kathajodi_Cuttack_85-85_20-44_rivers_1000m.geojson and assuming EPSG:4326 instead.\n",
      "2023-12-14 19:31:14:rastervision.pipeline.file_system.utils: INFO - Using cached file /data/tmp/cache/http/storage.googleapis.com/sand_mining_median/labels/Ken_Banda_80-35_25-68_median/s2/Ken_Banda_80-35_25-68_2022-06-01_s2.tif.\n",
      "2023-12-14 19:31:14:rastervision.pipeline.file_system.utils: INFO - Using cached file /data/tmp/cache/http/storage.googleapis.com/sand_mining_median/labels/Ken_Banda_80-35_25-68_median/annotations/Ken_Banda_80-35_25-68_2022-06-01_annotations.geojson.\n",
      "2023-12-14 19:31:14:rastervision.pipeline.file_system.utils: INFO - Using cached file /data/tmp/cache/http/storage.googleapis.com/sand_mining_median/labels/Ken_Banda_80-35_25-68_median/rivers/Ken_Banda_80-35_25-68_rivers_1000m.geojson.\n",
      "2023-12-14 19:31:14:rastervision.core.data.vector_source.geojson_vector_source: INFO - Ignoring CRS ({'type': 'name', 'properties': {'name': 'urn:ogc:def:crs:OGC:1.3:CRS84'}}) specified in https://storage.googleapis.com/sand_mining_median/labels/Ken_Banda_80-35_25-68_median/rivers/Ken_Banda_80-35_25-68_rivers_1000m.geojson and assuming EPSG:4326 instead.\n",
      "2023-12-14 19:31:14:rastervision.pipeline.file_system.utils: INFO - Using cached file /data/tmp/cache/http/storage.googleapis.com/sand_mining_median/labels/Ken_Banda_80-35_25-68_median/s2/Ken_Banda_80-35_25-68_2022-01-01_s2.tif.\n",
      "2023-12-14 19:31:14:rastervision.pipeline.file_system.utils: INFO - Using cached file /data/tmp/cache/http/storage.googleapis.com/sand_mining_median/labels/Ken_Banda_80-35_25-68_median/annotations/Ken_Banda_80-35_25-68_2022-01-01_annotations.geojson.\n",
      "2023-12-14 19:31:14:rastervision.pipeline.file_system.utils: INFO - Using cached file /data/tmp/cache/http/storage.googleapis.com/sand_mining_median/labels/Ken_Banda_80-35_25-68_median/rivers/Ken_Banda_80-35_25-68_rivers_1000m.geojson.\n",
      "2023-12-14 19:31:14:rastervision.core.data.vector_source.geojson_vector_source: INFO - Ignoring CRS ({'type': 'name', 'properties': {'name': 'urn:ogc:def:crs:OGC:1.3:CRS84'}}) specified in https://storage.googleapis.com/sand_mining_median/labels/Ken_Banda_80-35_25-68_median/rivers/Ken_Banda_80-35_25-68_rivers_1000m.geojson and assuming EPSG:4326 instead.\n",
      "2023-12-14 19:31:14:rastervision.pipeline.file_system.utils: INFO - Using cached file /data/tmp/cache/http/storage.googleapis.com/sand_mining_median/labels/Narmada_Sehore_77-32_22-56_median/s2/Narmada_Sehore_77-32_22-56_2022-01-01_s2.tif.\n",
      "2023-12-14 19:31:14:rastervision.pipeline.file_system.utils: INFO - Using cached file /data/tmp/cache/http/storage.googleapis.com/sand_mining_median/labels/Narmada_Sehore_77-32_22-56_median/annotations/Narmada_Sehore_77-32_22-56_2022-01-01_annotations.geojson.\n",
      "2023-12-14 19:31:14:rastervision.pipeline.file_system.utils: INFO - Using cached file /data/tmp/cache/http/storage.googleapis.com/sand_mining_median/labels/Narmada_Sehore_77-32_22-56_median/rivers/Narmada_Sehore_77-32_22-56_rivers_1000m.geojson.\n",
      "2023-12-14 19:31:14:rastervision.core.data.vector_source.geojson_vector_source: INFO - Ignoring CRS ({'type': 'name', 'properties': {'name': 'urn:ogc:def:crs:OGC:1.3:CRS84'}}) specified in https://storage.googleapis.com/sand_mining_median/labels/Narmada_Sehore_77-32_22-56_median/rivers/Narmada_Sehore_77-32_22-56_rivers_1000m.geojson and assuming EPSG:4326 instead.\n",
      "2023-12-14 19:31:14:rastervision.pipeline.file_system.utils: INFO - Using cached file /data/tmp/cache/http/storage.googleapis.com/sand_mining_median/labels/Narmada_Sehore_77-32_22-56_median/s2/Narmada_Sehore_77-32_22-56_2022-10-01_s2.tif.\n",
      "2023-12-14 19:31:14:rastervision.pipeline.file_system.utils: INFO - Using cached file /data/tmp/cache/http/storage.googleapis.com/sand_mining_median/labels/Narmada_Sehore_77-32_22-56_median/annotations/Narmada_Sehore_77-32_22-56_2022-10-01_annotations.geojson.\n",
      "2023-12-14 19:31:14:rastervision.pipeline.file_system.utils: INFO - Using cached file /data/tmp/cache/http/storage.googleapis.com/sand_mining_median/labels/Narmada_Sehore_77-32_22-56_median/rivers/Narmada_Sehore_77-32_22-56_rivers_1000m.geojson.\n",
      "2023-12-14 19:31:14:rastervision.core.data.vector_source.geojson_vector_source: INFO - Ignoring CRS ({'type': 'name', 'properties': {'name': 'urn:ogc:def:crs:OGC:1.3:CRS84'}}) specified in https://storage.googleapis.com/sand_mining_median/labels/Narmada_Sehore_77-32_22-56_median/rivers/Narmada_Sehore_77-32_22-56_rivers_1000m.geojson and assuming EPSG:4326 instead.\n",
      "2023-12-14 19:31:14:rastervision.pipeline.file_system.utils: INFO - Using cached file /data/tmp/cache/http/storage.googleapis.com/sand_mining_median/labels/Tawa_Hoshangabad_77-80_22-74_median/s2/Tawa_Hoshangabad_77-80_22-74_2022-04-01_s2.tif.\n",
      "2023-12-14 19:31:14:rastervision.pipeline.file_system.utils: INFO - Using cached file /data/tmp/cache/http/storage.googleapis.com/sand_mining_median/labels/Tawa_Hoshangabad_77-80_22-74_median/annotations/Tawa_Hoshangabad_77-80_22-74_2022-04-01_annotations.geojson.\n",
      "2023-12-14 19:31:14:rastervision.pipeline.file_system.utils: INFO - Using cached file /data/tmp/cache/http/storage.googleapis.com/sand_mining_median/labels/Tawa_Hoshangabad_77-80_22-74_median/rivers/Tawa_Hoshangabad_77-80_22-74_rivers_1000m.geojson.\n",
      "2023-12-14 19:31:14:rastervision.core.data.vector_source.geojson_vector_source: INFO - Ignoring CRS ({'type': 'name', 'properties': {'name': 'urn:ogc:def:crs:OGC:1.3:CRS84'}}) specified in https://storage.googleapis.com/sand_mining_median/labels/Tawa_Hoshangabad_77-80_22-74_median/rivers/Tawa_Hoshangabad_77-80_22-74_rivers_1000m.geojson and assuming EPSG:4326 instead.\n",
      "2023-12-14 19:31:14:rastervision.pipeline.file_system.utils: INFO - Using cached file /data/tmp/cache/http/storage.googleapis.com/sand_mining_median/labels/Tawa_Hoshangabad_77-80_22-74_median/s2/Tawa_Hoshangabad_77-80_22-74_2022-01-01_s2.tif.\n",
      "2023-12-14 19:31:14:rastervision.pipeline.file_system.utils: INFO - Using cached file /data/tmp/cache/http/storage.googleapis.com/sand_mining_median/labels/Tawa_Hoshangabad_77-80_22-74_median/annotations/Tawa_Hoshangabad_77-80_22-74_2022-01-01_annotations.geojson.\n",
      "2023-12-14 19:31:14:rastervision.pipeline.file_system.utils: INFO - Using cached file /data/tmp/cache/http/storage.googleapis.com/sand_mining_median/labels/Tawa_Hoshangabad_77-80_22-74_median/rivers/Tawa_Hoshangabad_77-80_22-74_rivers_1000m.geojson.\n",
      "2023-12-14 19:31:14:rastervision.core.data.vector_source.geojson_vector_source: INFO - Ignoring CRS ({'type': 'name', 'properties': {'name': 'urn:ogc:def:crs:OGC:1.3:CRS84'}}) specified in https://storage.googleapis.com/sand_mining_median/labels/Tawa_Hoshangabad_77-80_22-74_median/rivers/Tawa_Hoshangabad_77-80_22-74_rivers_1000m.geojson and assuming EPSG:4326 instead.\n",
      "2023-12-14 19:31:14:rastervision.pipeline.file_system.utils: INFO - Using cached file /data/tmp/cache/http/storage.googleapis.com/sand_mining_median/labels/Sone_Rohtas_84-21_24-91_median/s2/Sone_Rohtas_84-21_24-91_2022-02-01_s2.tif.\n",
      "2023-12-14 19:31:14:rastervision.pipeline.file_system.utils: INFO - Using cached file /data/tmp/cache/http/storage.googleapis.com/sand_mining_median/labels/Sone_Rohtas_84-21_24-91_median/annotations/Sone_Rohtas_84-21_24-91_2022-02-01_annotations.geojson.\n",
      "2023-12-14 19:31:14:rastervision.pipeline.file_system.utils: INFO - Using cached file /data/tmp/cache/http/storage.googleapis.com/sand_mining_median/labels/Sone_Rohtas_84-21_24-91_median/rivers/Sone_Rohtas_84-21_24-91_rivers_1000m.geojson.\n",
      "2023-12-14 19:31:14:rastervision.core.data.vector_source.geojson_vector_source: INFO - Ignoring CRS ({'type': 'name', 'properties': {'name': 'urn:ogc:def:crs:OGC:1.3:CRS84'}}) specified in https://storage.googleapis.com/sand_mining_median/labels/Sone_Rohtas_84-21_24-91_median/rivers/Sone_Rohtas_84-21_24-91_rivers_1000m.geojson and assuming EPSG:4326 instead.\n",
      "2023-12-14 19:31:14:rastervision.pipeline.file_system.utils: INFO - Using cached file /data/tmp/cache/http/storage.googleapis.com/sand_mining_median/labels/Sone_Rohtas_84-21_24-91_median/s2/Sone_Rohtas_84-21_24-91_2022-05-01_s2.tif.\n",
      "2023-12-14 19:31:14:rastervision.pipeline.file_system.utils: INFO - Using cached file /data/tmp/cache/http/storage.googleapis.com/sand_mining_median/labels/Sone_Rohtas_84-21_24-91_median/annotations/Sone_Rohtas_84-21_24-91_2022-05-01_annotations.geojson.\n",
      "2023-12-14 19:31:14:rastervision.pipeline.file_system.utils: INFO - Using cached file /data/tmp/cache/http/storage.googleapis.com/sand_mining_median/labels/Sone_Rohtas_84-21_24-91_median/rivers/Sone_Rohtas_84-21_24-91_rivers_1000m.geojson.\n",
      "2023-12-14 19:31:14:rastervision.core.data.vector_source.geojson_vector_source: INFO - Ignoring CRS ({'type': 'name', 'properties': {'name': 'urn:ogc:def:crs:OGC:1.3:CRS84'}}) specified in https://storage.googleapis.com/sand_mining_median/labels/Sone_Rohtas_84-21_24-91_median/rivers/Sone_Rohtas_84-21_24-91_rivers_1000m.geojson and assuming EPSG:4326 instead.\n",
      "2023-12-14 19:31:14:rastervision.pipeline.file_system.utils: INFO - Using cached file /data/tmp/cache/http/storage.googleapis.com/sand_mining_median/labels/Sone_Rohtas_83-86_24-46_median/s2/Sone_Rohtas_83-86_24-46_2023-01-01_s2.tif.\n",
      "2023-12-14 19:31:14:rastervision.pipeline.file_system.utils: INFO - Using cached file /data/tmp/cache/http/storage.googleapis.com/sand_mining_median/labels/Sone_Rohtas_83-86_24-46_median/annotations/Sone_Rohtas_83-86_24-46_2023-01-01_annotations.geojson.\n",
      "2023-12-14 19:31:14:rastervision.pipeline.file_system.utils: INFO - Using cached file /data/tmp/cache/http/storage.googleapis.com/sand_mining_median/labels/Sone_Rohtas_83-86_24-46_median/rivers/Sone_Rohtas_83-86_24-46_rivers_1000m.geojson.\n",
      "2023-12-14 19:31:14:rastervision.core.data.vector_source.geojson_vector_source: INFO - Ignoring CRS ({'type': 'name', 'properties': {'name': 'urn:ogc:def:crs:OGC:1.3:CRS84'}}) specified in https://storage.googleapis.com/sand_mining_median/labels/Sone_Rohtas_83-86_24-46_median/rivers/Sone_Rohtas_83-86_24-46_rivers_1000m.geojson and assuming EPSG:4326 instead.\n",
      "2023-12-14 19:31:14:rastervision.pipeline.file_system.utils: INFO - Using cached file /data/tmp/cache/http/storage.googleapis.com/sand_mining_median/labels/Sone_Rohtas_83-86_24-46_median/s2/Sone_Rohtas_83-86_24-46_2023-06-01_s2.tif.\n",
      "2023-12-14 19:31:14:rastervision.pipeline.file_system.utils: INFO - Using cached file /data/tmp/cache/http/storage.googleapis.com/sand_mining_median/labels/Sone_Rohtas_83-86_24-46_median/annotations/Sone_Rohtas_83-86_24-46_2023-06-01_annotations.geojson.\n",
      "2023-12-14 19:31:15:rastervision.pipeline.file_system.utils: INFO - Using cached file /data/tmp/cache/http/storage.googleapis.com/sand_mining_median/labels/Sone_Rohtas_83-86_24-46_median/rivers/Sone_Rohtas_83-86_24-46_rivers_1000m.geojson.\n",
      "2023-12-14 19:31:15:rastervision.core.data.vector_source.geojson_vector_source: INFO - Ignoring CRS ({'type': 'name', 'properties': {'name': 'urn:ogc:def:crs:OGC:1.3:CRS84'}}) specified in https://storage.googleapis.com/sand_mining_median/labels/Sone_Rohtas_83-86_24-46_median/rivers/Sone_Rohtas_83-86_24-46_rivers_1000m.geojson and assuming EPSG:4326 instead.\n",
      "2023-12-14 19:31:15:rastervision.pipeline.file_system.utils: INFO - Using cached file /data/tmp/cache/http/storage.googleapis.com/sand_mining_median/labels/Bhargavi_Khordha_85-88_20-26_median/s2/Bhargavi_Khordha_85-88_20-26_2018-12-01_s2.tif.\n",
      "2023-12-14 19:31:15:rastervision.pipeline.file_system.utils: INFO - Using cached file /data/tmp/cache/http/storage.googleapis.com/sand_mining_median/labels/Bhargavi_Khordha_85-88_20-26_median/annotations/Bhargavi_Khordha_85-88_20-26_2018-12-01_annotations.geojson.\n",
      "2023-12-14 19:31:15:rastervision.pipeline.file_system.utils: INFO - Using cached file /data/tmp/cache/http/storage.googleapis.com/sand_mining_median/labels/Bhargavi_Khordha_85-88_20-26_median/rivers/Bhargavi_Khordha_85-88_20-26_rivers_1000m.geojson.\n",
      "2023-12-14 19:31:15:rastervision.core.data.vector_source.geojson_vector_source: INFO - Ignoring CRS ({'type': 'name', 'properties': {'name': 'urn:ogc:def:crs:OGC:1.3:CRS84'}}) specified in https://storage.googleapis.com/sand_mining_median/labels/Bhargavi_Khordha_85-88_20-26_median/rivers/Bhargavi_Khordha_85-88_20-26_rivers_1000m.geojson and assuming EPSG:4326 instead.\n",
      "2023-12-14 19:31:15:rastervision.pipeline.file_system.utils: INFO - Using cached file /data/tmp/cache/http/storage.googleapis.com/sand_mining_median/labels/Bhargavi_Khordha_85-88_20-26_median/s2/Bhargavi_Khordha_85-88_20-26_2019-05-01_s2.tif.\n",
      "2023-12-14 19:31:15:rastervision.pipeline.file_system.utils: INFO - Using cached file /data/tmp/cache/http/storage.googleapis.com/sand_mining_median/labels/Bhargavi_Khordha_85-88_20-26_median/annotations/Bhargavi_Khordha_85-88_20-26_2019-05-01_annotations.geojson.\n",
      "2023-12-14 19:31:15:rastervision.pipeline.file_system.utils: INFO - Using cached file /data/tmp/cache/http/storage.googleapis.com/sand_mining_median/labels/Bhargavi_Khordha_85-88_20-26_median/rivers/Bhargavi_Khordha_85-88_20-26_rivers_1000m.geojson.\n",
      "2023-12-14 19:31:15:rastervision.core.data.vector_source.geojson_vector_source: INFO - Ignoring CRS ({'type': 'name', 'properties': {'name': 'urn:ogc:def:crs:OGC:1.3:CRS84'}}) specified in https://storage.googleapis.com/sand_mining_median/labels/Bhargavi_Khordha_85-88_20-26_median/rivers/Bhargavi_Khordha_85-88_20-26_rivers_1000m.geojson and assuming EPSG:4326 instead.\n",
      "2023-12-14 19:31:15:rastervision.pipeline.file_system.utils: INFO - Using cached file /data/tmp/cache/http/storage.googleapis.com/sand_mining_median/labels/Ganges_Patna_85-23_25-62_median/s2/Ganges_Patna_85-23_25-62_2022-02-01_s2.tif.\n",
      "2023-12-14 19:31:15:rastervision.pipeline.file_system.utils: INFO - Using cached file /data/tmp/cache/http/storage.googleapis.com/sand_mining_median/labels/Ganges_Patna_85-23_25-62_median/annotations/Ganges_Patna_85-23_25-62_2022-02-01_annotations.geojson.\n",
      "2023-12-14 19:31:15:rastervision.pipeline.file_system.utils: INFO - Using cached file /data/tmp/cache/http/storage.googleapis.com/sand_mining_median/labels/Ganges_Patna_85-23_25-62_median/rivers/Ganges_Patna_85-23_25-62_rivers_1000m.geojson.\n",
      "2023-12-14 19:31:15:rastervision.core.data.vector_source.geojson_vector_source: INFO - Ignoring CRS ({'type': 'name', 'properties': {'name': 'urn:ogc:def:crs:OGC:1.3:CRS84'}}) specified in https://storage.googleapis.com/sand_mining_median/labels/Ganges_Patna_85-23_25-62_median/rivers/Ganges_Patna_85-23_25-62_rivers_1000m.geojson and assuming EPSG:4326 instead.\n",
      "2023-12-14 19:31:15:rastervision.pipeline.file_system.utils: INFO - Using cached file /data/tmp/cache/http/storage.googleapis.com/sand_mining_median/labels/Ganges_Patna_85-23_25-62_median/s2/Ganges_Patna_85-23_25-62_2022-05-01_s2.tif.\n",
      "2023-12-14 19:31:15:rastervision.pipeline.file_system.utils: INFO - Using cached file /data/tmp/cache/http/storage.googleapis.com/sand_mining_median/labels/Ganges_Patna_85-23_25-62_median/annotations/Ganges_Patna_85-23_25-62_2022-05-01_annotations.geojson.\n",
      "2023-12-14 19:31:15:rastervision.pipeline.file_system.utils: INFO - Using cached file /data/tmp/cache/http/storage.googleapis.com/sand_mining_median/labels/Ganges_Patna_85-23_25-62_median/rivers/Ganges_Patna_85-23_25-62_rivers_1000m.geojson.\n",
      "2023-12-14 19:31:15:rastervision.core.data.vector_source.geojson_vector_source: INFO - Ignoring CRS ({'type': 'name', 'properties': {'name': 'urn:ogc:def:crs:OGC:1.3:CRS84'}}) specified in https://storage.googleapis.com/sand_mining_median/labels/Ganges_Patna_85-23_25-62_median/rivers/Ganges_Patna_85-23_25-62_rivers_1000m.geojson and assuming EPSG:4326 instead.\n",
      "2023-12-14 19:31:15:rastervision.pipeline.file_system.utils: INFO - Using cached file /data/tmp/cache/http/storage.googleapis.com/sand_mining_median/labels/Ganges_Patna_85-1_25-66_median/s2/Ganges_Patna_85-1_25-66_2020-04-01_s2.tif.\n",
      "2023-12-14 19:31:15:rastervision.pipeline.file_system.utils: INFO - Using cached file /data/tmp/cache/http/storage.googleapis.com/sand_mining_median/labels/Ganges_Patna_85-1_25-66_median/annotations/Ganges_Patna_85-1_25-66_2020-04-01_annotations.geojson.\n",
      "2023-12-14 19:31:15:rastervision.pipeline.file_system.utils: INFO - Using cached file /data/tmp/cache/http/storage.googleapis.com/sand_mining_median/labels/Ganges_Patna_85-1_25-66_median/rivers/Ganges_Patna_85-1_25-66_rivers_1000m.geojson.\n",
      "2023-12-14 19:31:15:rastervision.core.data.vector_source.geojson_vector_source: INFO - Ignoring CRS ({'type': 'name', 'properties': {'name': 'urn:ogc:def:crs:OGC:1.3:CRS84'}}) specified in https://storage.googleapis.com/sand_mining_median/labels/Ganges_Patna_85-1_25-66_median/rivers/Ganges_Patna_85-1_25-66_rivers_1000m.geojson and assuming EPSG:4326 instead.\n",
      "2023-12-14 19:31:15:rastervision.pipeline.file_system.utils: INFO - Using cached file /data/tmp/cache/http/storage.googleapis.com/sand_mining_median/labels/Ganges_Patna_85-1_25-66_median/s2/Ganges_Patna_85-1_25-66_2019-11-01_s2.tif.\n",
      "2023-12-14 19:31:15:rastervision.pipeline.file_system.utils: INFO - Using cached file /data/tmp/cache/http/storage.googleapis.com/sand_mining_median/labels/Ganges_Patna_85-1_25-66_median/annotations/Ganges_Patna_85-1_25-66_2019-11-01_annotations.geojson.\n",
      "2023-12-14 19:31:15:rastervision.pipeline.file_system.utils: INFO - Using cached file /data/tmp/cache/http/storage.googleapis.com/sand_mining_median/labels/Ganges_Patna_85-1_25-66_median/rivers/Ganges_Patna_85-1_25-66_rivers_1000m.geojson.\n",
      "2023-12-14 19:31:15:rastervision.core.data.vector_source.geojson_vector_source: INFO - Ignoring CRS ({'type': 'name', 'properties': {'name': 'urn:ogc:def:crs:OGC:1.3:CRS84'}}) specified in https://storage.googleapis.com/sand_mining_median/labels/Ganges_Patna_85-1_25-66_median/rivers/Ganges_Patna_85-1_25-66_rivers_1000m.geojson and assuming EPSG:4326 instead.\n",
      "2023-12-14 19:31:15:rastervision.pipeline.file_system.utils: INFO - Using cached file /data/tmp/cache/http/storage.googleapis.com/sand_mining_median/labels/Chambal_More_77-92_26-66_median/s2/Chambal_More_77-92_26-66_2023-01-01_s2.tif.\n",
      "2023-12-14 19:31:15:rastervision.pipeline.file_system.utils: INFO - Using cached file /data/tmp/cache/http/storage.googleapis.com/sand_mining_median/labels/Chambal_More_77-92_26-66_median/annotations/Chambal_More_77-92_26-66_2023-01-01_annotations.geojson.\n",
      "2023-12-14 19:31:15:rastervision.pipeline.file_system.utils: INFO - Using cached file /data/tmp/cache/http/storage.googleapis.com/sand_mining_median/labels/Chambal_More_77-92_26-66_median/rivers/Chambal_More_77-92_26-66_rivers_1000m.geojson.\n",
      "2023-12-14 19:31:15:rastervision.core.data.vector_source.geojson_vector_source: INFO - Ignoring CRS ({'type': 'name', 'properties': {'name': 'urn:ogc:def:crs:OGC:1.3:CRS84'}}) specified in https://storage.googleapis.com/sand_mining_median/labels/Chambal_More_77-92_26-66_median/rivers/Chambal_More_77-92_26-66_rivers_1000m.geojson and assuming EPSG:4326 instead.\n",
      "2023-12-14 19:31:15:rastervision.pipeline.file_system.utils: INFO - Using cached file /data/tmp/cache/http/storage.googleapis.com/sand_mining_median/labels/Chambal_More_77-92_26-66_median/s2/Chambal_More_77-92_26-66_2023-06-01_s2.tif.\n",
      "2023-12-14 19:31:15:rastervision.pipeline.file_system.utils: INFO - Using cached file /data/tmp/cache/http/storage.googleapis.com/sand_mining_median/labels/Chambal_More_77-92_26-66_median/annotations/Chambal_More_77-92_26-66_2023-06-01_annotations.geojson.\n",
      "2023-12-14 19:31:15:rastervision.pipeline.file_system.utils: INFO - Using cached file /data/tmp/cache/http/storage.googleapis.com/sand_mining_median/labels/Chambal_More_77-92_26-66_median/rivers/Chambal_More_77-92_26-66_rivers_1000m.geojson.\n",
      "2023-12-14 19:31:15:rastervision.core.data.vector_source.geojson_vector_source: INFO - Ignoring CRS ({'type': 'name', 'properties': {'name': 'urn:ogc:def:crs:OGC:1.3:CRS84'}}) specified in https://storage.googleapis.com/sand_mining_median/labels/Chambal_More_77-92_26-66_median/rivers/Chambal_More_77-92_26-66_rivers_1000m.geojson and assuming EPSG:4326 instead.\n",
      "2023-12-14 19:31:15:rastervision.pipeline.file_system.utils: INFO - Using cached file /data/tmp/cache/http/storage.googleapis.com/sand_mining_median/labels/Damodar_PurbaBardhaman_87-73_23-24_median/s2/Damodar_PurbaBardhaman_87-73_23-24_2022-11-01_s2.tif.\n",
      "2023-12-14 19:31:15:rastervision.pipeline.file_system.utils: INFO - Using cached file /data/tmp/cache/http/storage.googleapis.com/sand_mining_median/labels/Damodar_PurbaBardhaman_87-73_23-24_median/annotations/Damodar_PurbaBardhaman_87-73_23-24_2022-11-01_annotations.geojson.\n",
      "2023-12-14 19:31:15:rastervision.pipeline.file_system.utils: INFO - Using cached file /data/tmp/cache/http/storage.googleapis.com/sand_mining_median/labels/Damodar_PurbaBardhaman_87-73_23-24_median/rivers/Damodar_PurbaBardhaman_87-73_23-24_rivers_1000m.geojson.\n",
      "2023-12-14 19:31:15:rastervision.core.data.vector_source.geojson_vector_source: INFO - Ignoring CRS ({'type': 'name', 'properties': {'name': 'urn:ogc:def:crs:OGC:1.3:CRS84'}}) specified in https://storage.googleapis.com/sand_mining_median/labels/Damodar_PurbaBardhaman_87-73_23-24_median/rivers/Damodar_PurbaBardhaman_87-73_23-24_rivers_1000m.geojson and assuming EPSG:4326 instead.\n",
      "2023-12-14 19:31:15:rastervision.pipeline.file_system.utils: INFO - Using cached file /data/tmp/cache/http/storage.googleapis.com/sand_mining_median/labels/Damodar_PurbaBardhaman_87-73_23-24_median/s2/Damodar_PurbaBardhaman_87-73_23-24_2023-04-01_s2.tif.\n",
      "2023-12-14 19:31:15:rastervision.pipeline.file_system.utils: INFO - Using cached file /data/tmp/cache/http/storage.googleapis.com/sand_mining_median/labels/Damodar_PurbaBardhaman_87-73_23-24_median/annotations/Damodar_PurbaBardhaman_87-73_23-24_2023-04-01_annotations.geojson.\n",
      "2023-12-14 19:31:15:rastervision.pipeline.file_system.utils: INFO - Using cached file /data/tmp/cache/http/storage.googleapis.com/sand_mining_median/labels/Damodar_PurbaBardhaman_87-73_23-24_median/rivers/Damodar_PurbaBardhaman_87-73_23-24_rivers_1000m.geojson.\n",
      "2023-12-14 19:31:15:rastervision.core.data.vector_source.geojson_vector_source: INFO - Ignoring CRS ({'type': 'name', 'properties': {'name': 'urn:ogc:def:crs:OGC:1.3:CRS84'}}) specified in https://storage.googleapis.com/sand_mining_median/labels/Damodar_PurbaBardhaman_87-73_23-24_median/rivers/Damodar_PurbaBardhaman_87-73_23-24_rivers_1000m.geojson and assuming EPSG:4326 instead.\n",
      "2023-12-14 19:31:15:rastervision.pipeline.file_system.utils: INFO - Using cached file /data/tmp/cache/http/storage.googleapis.com/sand_mining_median/labels/Mayurakshi_Birbhum_87-66_23-61_median/s2/Mayurakshi_Birbhum_87-66_23-61_2022-10-01_s2.tif.\n",
      "2023-12-14 19:31:15:rastervision.pipeline.file_system.utils: INFO - Using cached file /data/tmp/cache/http/storage.googleapis.com/sand_mining_median/labels/Mayurakshi_Birbhum_87-66_23-61_median/annotations/Mayurakshi_Birbhum_87-66_23-61_2022-10-01_annotations.geojson.\n",
      "2023-12-14 19:31:15:rastervision.pipeline.file_system.utils: INFO - Using cached file /data/tmp/cache/http/storage.googleapis.com/sand_mining_median/labels/Mayurakshi_Birbhum_87-66_23-61_median/rivers/Mayurakshi_Birbhum_87-66_23-61_rivers_1000m.geojson.\n",
      "2023-12-14 19:31:15:rastervision.core.data.vector_source.geojson_vector_source: INFO - Ignoring CRS ({'type': 'name', 'properties': {'name': 'urn:ogc:def:crs:OGC:1.3:CRS84'}}) specified in https://storage.googleapis.com/sand_mining_median/labels/Mayurakshi_Birbhum_87-66_23-61_median/rivers/Mayurakshi_Birbhum_87-66_23-61_rivers_1000m.geojson and assuming EPSG:4326 instead.\n",
      "2023-12-14 19:31:15:rastervision.pipeline.file_system.utils: INFO - Using cached file /data/tmp/cache/http/storage.googleapis.com/sand_mining_median/labels/Mayurakshi_Birbhum_87-66_23-61_median/s2/Mayurakshi_Birbhum_87-66_23-61_2023-05-01_s2.tif.\n",
      "2023-12-14 19:31:15:rastervision.pipeline.file_system.utils: INFO - Using cached file /data/tmp/cache/http/storage.googleapis.com/sand_mining_median/labels/Mayurakshi_Birbhum_87-66_23-61_median/annotations/Mayurakshi_Birbhum_87-66_23-61_2023-05-01_annotations.geojson.\n",
      "2023-12-14 19:31:15:rastervision.pipeline.file_system.utils: INFO - Using cached file /data/tmp/cache/http/storage.googleapis.com/sand_mining_median/labels/Mayurakshi_Birbhum_87-66_23-61_median/rivers/Mayurakshi_Birbhum_87-66_23-61_rivers_1000m.geojson.\n",
      "2023-12-14 19:31:15:rastervision.core.data.vector_source.geojson_vector_source: INFO - Ignoring CRS ({'type': 'name', 'properties': {'name': 'urn:ogc:def:crs:OGC:1.3:CRS84'}}) specified in https://storage.googleapis.com/sand_mining_median/labels/Mayurakshi_Birbhum_87-66_23-61_median/rivers/Mayurakshi_Birbhum_87-66_23-61_rivers_1000m.geojson and assuming EPSG:4326 instead.\n",
      "2023-12-14 19:31:15:rastervision.pipeline.file_system.utils: INFO - Using cached file /data/tmp/cache/http/storage.googleapis.com/sand_mining_median/labels/Sone_Patna_84-76_25-44_median/s2/Sone_Patna_84-76_25-44_2022-10-01_s2.tif.\n",
      "2023-12-14 19:31:16:rastervision.pipeline.file_system.utils: INFO - Using cached file /data/tmp/cache/http/storage.googleapis.com/sand_mining_median/labels/Sone_Patna_84-76_25-44_median/annotations/Sone_Patna_84-76_25-44_2022-10-01_annotations.geojson.\n",
      "2023-12-14 19:31:16:rastervision.pipeline.file_system.utils: INFO - Using cached file /data/tmp/cache/http/storage.googleapis.com/sand_mining_median/labels/Sone_Patna_84-76_25-44_median/rivers/Sone_Patna_84-76_25-44_rivers_1000m.geojson.\n",
      "2023-12-14 19:31:16:rastervision.core.data.vector_source.geojson_vector_source: INFO - Ignoring CRS ({'type': 'name', 'properties': {'name': 'urn:ogc:def:crs:OGC:1.3:CRS84'}}) specified in https://storage.googleapis.com/sand_mining_median/labels/Sone_Patna_84-76_25-44_median/rivers/Sone_Patna_84-76_25-44_rivers_1000m.geojson and assuming EPSG:4326 instead.\n",
      "2023-12-14 19:31:16:rastervision.pipeline.file_system.utils: INFO - Using cached file /data/tmp/cache/http/storage.googleapis.com/sand_mining_median/labels/Sone_Patna_84-76_25-44_median/s2/Sone_Patna_84-76_25-44_2023-06-01_s2.tif.\n",
      "2023-12-14 19:31:16:rastervision.pipeline.file_system.utils: INFO - Using cached file /data/tmp/cache/http/storage.googleapis.com/sand_mining_median/labels/Sone_Patna_84-76_25-44_median/annotations/Sone_Patna_84-76_25-44_2023-06-01_annotations.geojson.\n",
      "2023-12-14 19:31:16:rastervision.pipeline.file_system.utils: INFO - Using cached file /data/tmp/cache/http/storage.googleapis.com/sand_mining_median/labels/Sone_Patna_84-76_25-44_median/rivers/Sone_Patna_84-76_25-44_rivers_1000m.geojson.\n",
      "2023-12-14 19:31:16:rastervision.core.data.vector_source.geojson_vector_source: INFO - Ignoring CRS ({'type': 'name', 'properties': {'name': 'urn:ogc:def:crs:OGC:1.3:CRS84'}}) specified in https://storage.googleapis.com/sand_mining_median/labels/Sone_Patna_84-76_25-44_median/rivers/Sone_Patna_84-76_25-44_rivers_1000m.geojson and assuming EPSG:4326 instead.\n",
      "2023-12-14 19:31:16:rastervision.pipeline.file_system.utils: INFO - Using cached file /data/tmp/cache/http/storage.googleapis.com/sand_mining_median/labels/Mahananda_Jalpaiguri_88-4_26-68_median/s2/Mahananda_Jalpaiguri_88-4_26-68_2020-11-01_s2.tif.\n",
      "2023-12-14 19:31:16:rastervision.pipeline.file_system.utils: INFO - Using cached file /data/tmp/cache/http/storage.googleapis.com/sand_mining_median/labels/Mahananda_Jalpaiguri_88-4_26-68_median/annotations/Mahananda_Jalpaiguri_88-4_26-68_2020-11-01_annotations.geojson.\n",
      "2023-12-14 19:31:16:rastervision.pipeline.file_system.utils: INFO - Using cached file /data/tmp/cache/http/storage.googleapis.com/sand_mining_median/labels/Mahananda_Jalpaiguri_88-4_26-68_median/rivers/Mahananda_Jalpaiguri_88-4_26-68_rivers_1000m.geojson.\n",
      "2023-12-14 19:31:16:rastervision.core.data.vector_source.geojson_vector_source: INFO - Ignoring CRS ({'type': 'name', 'properties': {'name': 'urn:ogc:def:crs:OGC:1.3:CRS84'}}) specified in https://storage.googleapis.com/sand_mining_median/labels/Mahananda_Jalpaiguri_88-4_26-68_median/rivers/Mahananda_Jalpaiguri_88-4_26-68_rivers_1000m.geojson and assuming EPSG:4326 instead.\n",
      "2023-12-14 19:31:16:rastervision.pipeline.file_system.utils: INFO - Using cached file /data/tmp/cache/http/storage.googleapis.com/sand_mining_median/labels/Damodar_PurbaBardhaman_87-39_23-42_median/s2/Damodar_PurbaBardhaman_87-39_23-42_2022-10-01_s2.tif.\n",
      "2023-12-14 19:31:16:rastervision.pipeline.file_system.utils: INFO - Using cached file /data/tmp/cache/http/storage.googleapis.com/sand_mining_median/labels/Damodar_PurbaBardhaman_87-39_23-42_median/annotations/Damodar_PurbaBardhaman_87-39_23-42_2022-10-01_annotations.geojson.\n",
      "2023-12-14 19:31:16:rastervision.pipeline.file_system.utils: INFO - Using cached file /data/tmp/cache/http/storage.googleapis.com/sand_mining_median/labels/Damodar_PurbaBardhaman_87-39_23-42_median/rivers/Damodar_PurbaBardhaman_87-39_23-42_rivers_1000m.geojson.\n",
      "2023-12-14 19:31:16:rastervision.core.data.vector_source.geojson_vector_source: INFO - Ignoring CRS ({'type': 'name', 'properties': {'name': 'urn:ogc:def:crs:OGC:1.3:CRS84'}}) specified in https://storage.googleapis.com/sand_mining_median/labels/Damodar_PurbaBardhaman_87-39_23-42_median/rivers/Damodar_PurbaBardhaman_87-39_23-42_rivers_1000m.geojson and assuming EPSG:4326 instead.\n",
      "2023-12-14 19:31:16:rastervision.pipeline.file_system.utils: INFO - Using cached file /data/tmp/cache/http/storage.googleapis.com/sand_mining_median/labels/Teesta_Jalpaiguri_88-6_26-84_median/s2/Teesta_Jalpaiguri_88-6_26-84_2021-12-01_s2.tif.\n",
      "2023-12-14 19:31:16:rastervision.pipeline.file_system.utils: INFO - Using cached file /data/tmp/cache/http/storage.googleapis.com/sand_mining_median/labels/Teesta_Jalpaiguri_88-6_26-84_median/annotations/Teesta_Jalpaiguri_88-6_26-84_2021-12-01_annotations.geojson.\n",
      "2023-12-14 19:31:16:rastervision.pipeline.file_system.utils: INFO - Using cached file /data/tmp/cache/http/storage.googleapis.com/sand_mining_median/labels/Teesta_Jalpaiguri_88-6_26-84_median/rivers/Teesta_Jalpaiguri_88-6_26-84_rivers_1000m.geojson.\n",
      "2023-12-14 19:31:16:rastervision.core.data.vector_source.geojson_vector_source: INFO - Ignoring CRS ({'type': 'name', 'properties': {'name': 'urn:ogc:def:crs:OGC:1.3:CRS84'}}) specified in https://storage.googleapis.com/sand_mining_median/labels/Teesta_Jalpaiguri_88-6_26-84_median/rivers/Teesta_Jalpaiguri_88-6_26-84_rivers_1000m.geojson and assuming EPSG:4326 instead.\n",
      "2023-12-14 19:31:16:rastervision.pipeline.file_system.utils: INFO - Using cached file /data/tmp/cache/http/storage.googleapis.com/sand_mining_median/labels/Mahananda_Jalpaiguri_88-4_26-68_median/s2/Mahananda_Jalpaiguri_88-4_26-68_2021-05-01_s2.tif.\n",
      "2023-12-14 19:31:16:rastervision.pipeline.file_system.utils: INFO - Using cached file /data/tmp/cache/http/storage.googleapis.com/sand_mining_median/labels/Mahananda_Jalpaiguri_88-4_26-68_median/annotations/Mahananda_Jalpaiguri_88-4_26-68_2021-05-01_annotations.geojson.\n",
      "2023-12-14 19:31:16:rastervision.pipeline.file_system.utils: INFO - Using cached file /data/tmp/cache/http/storage.googleapis.com/sand_mining_median/labels/Mahananda_Jalpaiguri_88-4_26-68_median/rivers/Mahananda_Jalpaiguri_88-4_26-68_rivers_1000m.geojson.\n",
      "2023-12-14 19:31:16:rastervision.core.data.vector_source.geojson_vector_source: INFO - Ignoring CRS ({'type': 'name', 'properties': {'name': 'urn:ogc:def:crs:OGC:1.3:CRS84'}}) specified in https://storage.googleapis.com/sand_mining_median/labels/Mahananda_Jalpaiguri_88-4_26-68_median/rivers/Mahananda_Jalpaiguri_88-4_26-68_rivers_1000m.geojson and assuming EPSG:4326 instead.\n",
      "2023-12-14 19:31:16:rastervision.pipeline.file_system.utils: INFO - Using cached file /data/tmp/cache/http/storage.googleapis.com/sand_mining_median/labels/Betwa_Jalaun_79-49_25-84_median/s2/Betwa_Jalaun_79-49_25-84_2022-10-01_s2.tif.\n",
      "2023-12-14 19:31:16:rastervision.pipeline.file_system.utils: INFO - Using cached file /data/tmp/cache/http/storage.googleapis.com/sand_mining_median/labels/Betwa_Jalaun_79-49_25-84_median/annotations/Betwa_Jalaun_79-49_25-84_2022-10-01_annotations.geojson.\n",
      "2023-12-14 19:31:16:rastervision.pipeline.file_system.utils: INFO - Using cached file /data/tmp/cache/http/storage.googleapis.com/sand_mining_median/labels/Betwa_Jalaun_79-49_25-84_median/rivers/Betwa_Jalaun_79-49_25-84_rivers_1000m.geojson.\n",
      "2023-12-14 19:31:16:rastervision.core.data.vector_source.geojson_vector_source: INFO - Ignoring CRS ({'type': 'name', 'properties': {'name': 'urn:ogc:def:crs:OGC:1.3:CRS84'}}) specified in https://storage.googleapis.com/sand_mining_median/labels/Betwa_Jalaun_79-49_25-84_median/rivers/Betwa_Jalaun_79-49_25-84_rivers_1000m.geojson and assuming EPSG:4326 instead.\n",
      "2023-12-14 19:31:16:rastervision.pipeline.file_system.utils: INFO - Using cached file /data/tmp/cache/http/storage.googleapis.com/sand_mining_median/labels/Betwa_Jalaun_79-49_25-84_median/s2/Betwa_Jalaun_79-49_25-84_2023-05-01_s2.tif.\n",
      "2023-12-14 19:31:16:rastervision.pipeline.file_system.utils: INFO - Using cached file /data/tmp/cache/http/storage.googleapis.com/sand_mining_median/labels/Betwa_Jalaun_79-49_25-84_median/annotations/Betwa_Jalaun_79-49_25-84_2023-05-01_annotations.geojson.\n",
      "2023-12-14 19:31:16:rastervision.pipeline.file_system.utils: INFO - Using cached file /data/tmp/cache/http/storage.googleapis.com/sand_mining_median/labels/Betwa_Jalaun_79-49_25-84_median/rivers/Betwa_Jalaun_79-49_25-84_rivers_1000m.geojson.\n",
      "2023-12-14 19:31:16:rastervision.core.data.vector_source.geojson_vector_source: INFO - Ignoring CRS ({'type': 'name', 'properties': {'name': 'urn:ogc:def:crs:OGC:1.3:CRS84'}}) specified in https://storage.googleapis.com/sand_mining_median/labels/Betwa_Jalaun_79-49_25-84_median/rivers/Betwa_Jalaun_79-49_25-84_rivers_1000m.geojson and assuming EPSG:4326 instead.\n",
      "2023-12-14 19:31:16:rastervision.pipeline.file_system.utils: INFO - Using cached file /data/tmp/cache/http/storage.googleapis.com/sand_mining_median/labels/Betwa_Jalaun_79-79_25-89_median/s2/Betwa_Jalaun_79-79_25-89_2022-10-01_s2.tif.\n",
      "2023-12-14 19:31:16:rastervision.pipeline.file_system.utils: INFO - Using cached file /data/tmp/cache/http/storage.googleapis.com/sand_mining_median/labels/Betwa_Jalaun_79-79_25-89_median/annotations/Betwa_Jalaun_79-79_25-89_2022-10-01_annotations.geojson.\n",
      "2023-12-14 19:31:16:rastervision.pipeline.file_system.utils: INFO - Using cached file /data/tmp/cache/http/storage.googleapis.com/sand_mining_median/labels/Betwa_Jalaun_79-79_25-89_median/rivers/Betwa_Jalaun_79-79_25-89_rivers_1000m.geojson.\n",
      "2023-12-14 19:31:16:rastervision.core.data.vector_source.geojson_vector_source: INFO - Ignoring CRS ({'type': 'name', 'properties': {'name': 'urn:ogc:def:crs:OGC:1.3:CRS84'}}) specified in https://storage.googleapis.com/sand_mining_median/labels/Betwa_Jalaun_79-79_25-89_median/rivers/Betwa_Jalaun_79-79_25-89_rivers_1000m.geojson and assuming EPSG:4326 instead.\n",
      "2023-12-14 19:31:16:rastervision.pipeline.file_system.utils: INFO - Using cached file /data/tmp/cache/http/storage.googleapis.com/sand_mining_median/labels/Betwa_Jalaun_79-79_25-89_median/s2/Betwa_Jalaun_79-79_25-89_2023-05-01_s2.tif.\n",
      "2023-12-14 19:31:16:rastervision.pipeline.file_system.utils: INFO - Using cached file /data/tmp/cache/http/storage.googleapis.com/sand_mining_median/labels/Betwa_Jalaun_79-79_25-89_median/annotations/Betwa_Jalaun_79-79_25-89_2023-05-01_annotations.geojson.\n",
      "2023-12-14 19:31:16:rastervision.pipeline.file_system.utils: INFO - Using cached file /data/tmp/cache/http/storage.googleapis.com/sand_mining_median/labels/Betwa_Jalaun_79-79_25-89_median/rivers/Betwa_Jalaun_79-79_25-89_rivers_1000m.geojson.\n",
      "2023-12-14 19:31:16:rastervision.core.data.vector_source.geojson_vector_source: INFO - Ignoring CRS ({'type': 'name', 'properties': {'name': 'urn:ogc:def:crs:OGC:1.3:CRS84'}}) specified in https://storage.googleapis.com/sand_mining_median/labels/Betwa_Jalaun_79-79_25-89_median/rivers/Betwa_Jalaun_79-79_25-89_rivers_1000m.geojson and assuming EPSG:4326 instead.\n",
      "2023-12-14 19:31:16:rastervision.pipeline.file_system.utils: INFO - Using cached file /data/tmp/cache/http/storage.googleapis.com/sand_mining_median/labels/Mahanadi_Angul_84-52_20-71_median/s2/Mahanadi_Angul_84-52_20-71_2021-11-01_s2.tif.\n",
      "2023-12-14 19:31:16:rastervision.pipeline.file_system.utils: INFO - Using cached file /data/tmp/cache/http/storage.googleapis.com/sand_mining_median/labels/Mahanadi_Angul_84-52_20-71_median/annotations/Mahanadi_Angul_84-52_20-71_2021-11-01_annotations.geojson.\n",
      "2023-12-14 19:31:16:rastervision.pipeline.file_system.utils: INFO - Using cached file /data/tmp/cache/http/storage.googleapis.com/sand_mining_median/labels/Mahanadi_Angul_84-52_20-71_median/rivers/Mahanadi_Angul_84-52_20-71_rivers_1000m.geojson.\n",
      "2023-12-14 19:31:16:rastervision.core.data.vector_source.geojson_vector_source: INFO - Ignoring CRS ({'type': 'name', 'properties': {'name': 'urn:ogc:def:crs:OGC:1.3:CRS84'}}) specified in https://storage.googleapis.com/sand_mining_median/labels/Mahanadi_Angul_84-52_20-71_median/rivers/Mahanadi_Angul_84-52_20-71_rivers_1000m.geojson and assuming EPSG:4326 instead.\n",
      "2023-12-14 19:31:16:rastervision.pipeline.file_system.utils: INFO - Using cached file /data/tmp/cache/http/storage.googleapis.com/sand_mining_median/labels/Mahanadi_Angul_84-52_20-71_median/s2/Mahanadi_Angul_84-52_20-71_2022-04-01_s2.tif.\n",
      "2023-12-14 19:31:16:rastervision.pipeline.file_system.utils: INFO - Using cached file /data/tmp/cache/http/storage.googleapis.com/sand_mining_median/labels/Mahanadi_Angul_84-52_20-71_median/annotations/Mahanadi_Angul_84-52_20-71_2022-04-01_annotations.geojson.\n",
      "2023-12-14 19:31:16:rastervision.pipeline.file_system.utils: INFO - Using cached file /data/tmp/cache/http/storage.googleapis.com/sand_mining_median/labels/Mahanadi_Angul_84-52_20-71_median/rivers/Mahanadi_Angul_84-52_20-71_rivers_1000m.geojson.\n",
      "2023-12-14 19:31:16:rastervision.core.data.vector_source.geojson_vector_source: INFO - Ignoring CRS ({'type': 'name', 'properties': {'name': 'urn:ogc:def:crs:OGC:1.3:CRS84'}}) specified in https://storage.googleapis.com/sand_mining_median/labels/Mahanadi_Angul_84-52_20-71_median/rivers/Mahanadi_Angul_84-52_20-71_rivers_1000m.geojson and assuming EPSG:4326 instead.\n",
      "2023-12-14 19:31:17:rastervision.pipeline.file_system.utils: INFO - Using cached file /data/tmp/cache/http/storage.googleapis.com/sand_mining_median/labels/Mahananda_UttarDinajpur_88-25_26-46_median/s2/Mahananda_UttarDinajpur_88-25_26-46_2020-10-01_s2.tif.\n",
      "2023-12-14 19:31:17:rastervision.pipeline.file_system.utils: INFO - Using cached file /data/tmp/cache/http/storage.googleapis.com/sand_mining_median/labels/Mahananda_UttarDinajpur_88-25_26-46_median/annotations/Mahananda_UttarDinajpur_88-25_26-46_2020-10-01_annotations.geojson.\n",
      "2023-12-14 19:31:17:rastervision.pipeline.file_system.utils: INFO - Using cached file /data/tmp/cache/http/storage.googleapis.com/sand_mining_median/labels/Mahananda_UttarDinajpur_88-25_26-46_median/rivers/Mahananda_UttarDinajpur_88-25_26-46_rivers_1000m.geojson.\n",
      "2023-12-14 19:31:17:rastervision.core.data.vector_source.geojson_vector_source: INFO - Ignoring CRS ({'type': 'name', 'properties': {'name': 'urn:ogc:def:crs:OGC:1.3:CRS84'}}) specified in https://storage.googleapis.com/sand_mining_median/labels/Mahananda_UttarDinajpur_88-25_26-46_median/rivers/Mahananda_UttarDinajpur_88-25_26-46_rivers_1000m.geojson and assuming EPSG:4326 instead.\n",
      "2023-12-14 19:31:17:rastervision.pipeline.file_system.utils: INFO - Using cached file /data/tmp/cache/http/storage.googleapis.com/sand_mining_median/labels/Mahananda_UttarDinajpur_88-25_26-46_median/s2/Mahananda_UttarDinajpur_88-25_26-46_2021-04-01_s2.tif.\n",
      "2023-12-14 19:31:17:rastervision.pipeline.file_system.utils: INFO - Using cached file /data/tmp/cache/http/storage.googleapis.com/sand_mining_median/labels/Mahananda_UttarDinajpur_88-25_26-46_median/annotations/Mahananda_UttarDinajpur_88-25_26-46_2021-04-01_annotations.geojson.\n",
      "2023-12-14 19:31:17:rastervision.pipeline.file_system.utils: INFO - Using cached file /data/tmp/cache/http/storage.googleapis.com/sand_mining_median/labels/Mahananda_UttarDinajpur_88-25_26-46_median/rivers/Mahananda_UttarDinajpur_88-25_26-46_rivers_1000m.geojson.\n",
      "2023-12-14 19:31:17:rastervision.core.data.vector_source.geojson_vector_source: INFO - Ignoring CRS ({'type': 'name', 'properties': {'name': 'urn:ogc:def:crs:OGC:1.3:CRS84'}}) specified in https://storage.googleapis.com/sand_mining_median/labels/Mahananda_UttarDinajpur_88-25_26-46_median/rivers/Mahananda_UttarDinajpur_88-25_26-46_rivers_1000m.geojson and assuming EPSG:4326 instead.\n",
      "2023-12-14 19:31:17:rastervision.pipeline.file_system.utils: INFO - Using cached file /data/tmp/cache/http/storage.googleapis.com/sand_mining_median/labels/Teesta_Jalpaiguri_88-64_26-85_median/s2/Teesta_Jalpaiguri_88-64_26-85_2020-01-01_s2.tif.\n",
      "2023-12-14 19:31:17:rastervision.pipeline.file_system.utils: INFO - Using cached file /data/tmp/cache/http/storage.googleapis.com/sand_mining_median/labels/Teesta_Jalpaiguri_88-64_26-85_median/annotations/Teesta_Jalpaiguri_88-64_26-85_2020-01-01_annotations.geojson.\n",
      "2023-12-14 19:31:17:rastervision.pipeline.file_system.utils: INFO - Using cached file /data/tmp/cache/http/storage.googleapis.com/sand_mining_median/labels/Teesta_Jalpaiguri_88-64_26-85_median/rivers/Teesta_Jalpaiguri_88-64_26-85_rivers_1000m.geojson.\n",
      "2023-12-14 19:31:17:rastervision.core.data.vector_source.geojson_vector_source: INFO - Ignoring CRS ({'type': 'name', 'properties': {'name': 'urn:ogc:def:crs:OGC:1.3:CRS84'}}) specified in https://storage.googleapis.com/sand_mining_median/labels/Teesta_Jalpaiguri_88-64_26-85_median/rivers/Teesta_Jalpaiguri_88-64_26-85_rivers_1000m.geojson and assuming EPSG:4326 instead.\n",
      "2023-12-14 19:31:17:rastervision.pipeline.file_system.utils: INFO - Using cached file /data/tmp/cache/http/storage.googleapis.com/sand_mining_median/labels/Teesta_Jalpaiguri_88-64_26-85_median/s2/Teesta_Jalpaiguri_88-64_26-85_2021-05-01_s2.tif.\n",
      "2023-12-14 19:31:17:rastervision.pipeline.file_system.utils: INFO - Using cached file /data/tmp/cache/http/storage.googleapis.com/sand_mining_median/labels/Teesta_Jalpaiguri_88-64_26-85_median/annotations/Teesta_Jalpaiguri_88-64_26-85_2021-05-01_annotations.geojson.\n",
      "2023-12-14 19:31:17:rastervision.pipeline.file_system.utils: INFO - Using cached file /data/tmp/cache/http/storage.googleapis.com/sand_mining_median/labels/Teesta_Jalpaiguri_88-64_26-85_median/rivers/Teesta_Jalpaiguri_88-64_26-85_rivers_1000m.geojson.\n",
      "2023-12-14 19:31:17:rastervision.core.data.vector_source.geojson_vector_source: INFO - Ignoring CRS ({'type': 'name', 'properties': {'name': 'urn:ogc:def:crs:OGC:1.3:CRS84'}}) specified in https://storage.googleapis.com/sand_mining_median/labels/Teesta_Jalpaiguri_88-64_26-85_median/rivers/Teesta_Jalpaiguri_88-64_26-85_rivers_1000m.geojson and assuming EPSG:4326 instead.\n",
      "2023-12-14 19:31:17:rastervision.pipeline.file_system.utils: INFO - Using cached file /data/tmp/cache/http/storage.googleapis.com/sand_mining_median/labels/Gangadhar_CoochBehar_89-86_26-46_median/s2/Gangadhar_CoochBehar_89-86_26-46_2021-12-01_s2.tif.\n",
      "2023-12-14 19:31:17:rastervision.pipeline.file_system.utils: INFO - Using cached file /data/tmp/cache/http/storage.googleapis.com/sand_mining_median/labels/Gangadhar_CoochBehar_89-86_26-46_median/annotations/Gangadhar_CoochBehar_89-86_26-46_2021-12-01_annotations.geojson.\n",
      "2023-12-14 19:31:17:rastervision.pipeline.file_system.utils: INFO - Using cached file /data/tmp/cache/http/storage.googleapis.com/sand_mining_median/labels/Gangadhar_CoochBehar_89-86_26-46_median/rivers/Gangadhar_CoochBehar_89-86_26-46_rivers_1000m.geojson.\n",
      "2023-12-14 19:31:17:rastervision.core.data.vector_source.geojson_vector_source: INFO - Ignoring CRS ({'type': 'name', 'properties': {'name': 'urn:ogc:def:crs:OGC:1.3:CRS84'}}) specified in https://storage.googleapis.com/sand_mining_median/labels/Gangadhar_CoochBehar_89-86_26-46_median/rivers/Gangadhar_CoochBehar_89-86_26-46_rivers_1000m.geojson and assuming EPSG:4326 instead.\n",
      "2023-12-14 19:31:17:rastervision.pipeline.file_system.utils: INFO - Using cached file /data/tmp/cache/http/storage.googleapis.com/sand_mining_median/labels/Gangadhar_CoochBehar_89-86_26-46_median/s2/Gangadhar_CoochBehar_89-86_26-46_2022-03-01_s2.tif.\n",
      "2023-12-14 19:31:17:rastervision.pipeline.file_system.utils: INFO - Using cached file /data/tmp/cache/http/storage.googleapis.com/sand_mining_median/labels/Gangadhar_CoochBehar_89-86_26-46_median/annotations/Gangadhar_CoochBehar_89-86_26-46_2022-03-01_annotations.geojson.\n",
      "2023-12-14 19:31:17:rastervision.pipeline.file_system.utils: INFO - Using cached file /data/tmp/cache/http/storage.googleapis.com/sand_mining_median/labels/Gangadhar_CoochBehar_89-86_26-46_median/rivers/Gangadhar_CoochBehar_89-86_26-46_rivers_1000m.geojson.\n",
      "2023-12-14 19:31:17:rastervision.core.data.vector_source.geojson_vector_source: INFO - Ignoring CRS ({'type': 'name', 'properties': {'name': 'urn:ogc:def:crs:OGC:1.3:CRS84'}}) specified in https://storage.googleapis.com/sand_mining_median/labels/Gangadhar_CoochBehar_89-86_26-46_median/rivers/Gangadhar_CoochBehar_89-86_26-46_rivers_1000m.geojson and assuming EPSG:4326 instead.\n",
      "2023-12-14 19:31:17:rastervision.pipeline.file_system.utils: INFO - Using cached file /data/tmp/cache/http/storage.googleapis.com/sand_mining_median/labels/Damodar_PurbaBardhaman_87-39_23-42_median/s2/Damodar_PurbaBardhaman_87-39_23-42_2023-03-01_s2.tif.\n",
      "2023-12-14 19:31:17:rastervision.pipeline.file_system.utils: INFO - Using cached file /data/tmp/cache/http/storage.googleapis.com/sand_mining_median/labels/Damodar_PurbaBardhaman_87-39_23-42_median/annotations/Damodar_PurbaBardhaman_87-39_23-42_2023-03-01_annotations.geojson.\n",
      "2023-12-14 19:31:17:rastervision.pipeline.file_system.utils: INFO - Using cached file /data/tmp/cache/http/storage.googleapis.com/sand_mining_median/labels/Damodar_PurbaBardhaman_87-39_23-42_median/rivers/Damodar_PurbaBardhaman_87-39_23-42_rivers_1000m.geojson.\n",
      "2023-12-14 19:31:17:rastervision.core.data.vector_source.geojson_vector_source: INFO - Ignoring CRS ({'type': 'name', 'properties': {'name': 'urn:ogc:def:crs:OGC:1.3:CRS84'}}) specified in https://storage.googleapis.com/sand_mining_median/labels/Damodar_PurbaBardhaman_87-39_23-42_median/rivers/Damodar_PurbaBardhaman_87-39_23-42_rivers_1000m.geojson and assuming EPSG:4326 instead.\n",
      "2023-12-14 19:31:17:rastervision.pipeline.file_system.utils: INFO - Using cached file /data/tmp/cache/http/storage.googleapis.com/sand_mining_median/labels/Palar_Ranipet_79-43_12-88_median/s2/Palar_Ranipet_79-43_12-88_2019-04-01_s2.tif.\n",
      "2023-12-14 19:31:17:rastervision.pipeline.file_system.utils: INFO - Using cached file /data/tmp/cache/http/storage.googleapis.com/sand_mining_median/labels/Palar_Ranipet_79-43_12-88_median/annotations/Palar_Ranipet_79-43_12-88_2019-04-01_annotations.geojson.\n",
      "2023-12-14 19:31:17:rastervision.pipeline.file_system.utils: INFO - Using cached file /data/tmp/cache/http/storage.googleapis.com/sand_mining_median/labels/Palar_Ranipet_79-43_12-88_median/rivers/Palar_Ranipet_79-43_12-88_rivers_1000m.geojson.\n",
      "2023-12-14 19:31:17:rastervision.core.data.vector_source.geojson_vector_source: INFO - Ignoring CRS ({'type': 'name', 'properties': {'name': 'urn:ogc:def:crs:OGC:1.3:CRS84'}}) specified in https://storage.googleapis.com/sand_mining_median/labels/Palar_Ranipet_79-43_12-88_median/rivers/Palar_Ranipet_79-43_12-88_rivers_1000m.geojson and assuming EPSG:4326 instead.\n",
      "2023-12-14 19:31:17:rastervision.pipeline.file_system.utils: INFO - Using cached file /data/tmp/cache/http/storage.googleapis.com/sand_mining_median/labels/Palar_Ranipet_79-43_12-88_median/s2/Palar_Ranipet_79-43_12-88_2019-08-01_s2.tif.\n",
      "2023-12-14 19:31:17:rastervision.pipeline.file_system.utils: INFO - Using cached file /data/tmp/cache/http/storage.googleapis.com/sand_mining_median/labels/Palar_Ranipet_79-43_12-88_median/annotations/Palar_Ranipet_79-43_12-88_2019-08-01_annotations.geojson.\n",
      "2023-12-14 19:31:17:rastervision.pipeline.file_system.utils: INFO - Using cached file /data/tmp/cache/http/storage.googleapis.com/sand_mining_median/labels/Palar_Ranipet_79-43_12-88_median/rivers/Palar_Ranipet_79-43_12-88_rivers_1000m.geojson.\n",
      "2023-12-14 19:31:17:rastervision.core.data.vector_source.geojson_vector_source: INFO - Ignoring CRS ({'type': 'name', 'properties': {'name': 'urn:ogc:def:crs:OGC:1.3:CRS84'}}) specified in https://storage.googleapis.com/sand_mining_median/labels/Palar_Ranipet_79-43_12-88_median/rivers/Palar_Ranipet_79-43_12-88_rivers_1000m.geojson and assuming EPSG:4326 instead.\n",
      "2023-12-14 19:31:18:rastervision.pipeline.file_system.utils: INFO - Using cached file /data/tmp/cache/http/storage.googleapis.com/sand_mining_median/labels/Godavari_EastGodavari_81-05_17-62_median/s2/Godavari_EastGodavari_81-05_17-62_2022-05-01_s2.tif.\n",
      "2023-12-14 19:31:18:rastervision.pipeline.file_system.utils: INFO - Using cached file /data/tmp/cache/http/storage.googleapis.com/sand_mining_median/labels/Godavari_EastGodavari_81-05_17-62_median/annotations/Godavari_EastGodavari_81-05_17-62_2022-05-01_annotations.geojson.\n",
      "2023-12-14 19:31:18:rastervision.pipeline.file_system.utils: INFO - Using cached file /data/tmp/cache/http/storage.googleapis.com/sand_mining_median/labels/Godavari_EastGodavari_81-05_17-62_median/rivers/Godavari_EastGodavari_81-05_17-62_rivers_1000m.geojson.\n",
      "2023-12-14 19:31:18:rastervision.core.data.vector_source.geojson_vector_source: INFO - Ignoring CRS ({'type': 'name', 'properties': {'name': 'urn:ogc:def:crs:OGC:1.3:CRS84'}}) specified in https://storage.googleapis.com/sand_mining_median/labels/Godavari_EastGodavari_81-05_17-62_median/rivers/Godavari_EastGodavari_81-05_17-62_rivers_1000m.geojson and assuming EPSG:4326 instead.\n",
      "2023-12-14 19:31:18:rastervision.pipeline.file_system.utils: INFO - Using cached file /data/tmp/cache/http/storage.googleapis.com/sand_mining_median/labels/Godavari_EastGodavari_81-05_17-62_median/s2/Godavari_EastGodavari_81-05_17-62_2022-10-01_s2.tif.\n",
      "2023-12-14 19:31:18:rastervision.pipeline.file_system.utils: INFO - Using cached file /data/tmp/cache/http/storage.googleapis.com/sand_mining_median/labels/Godavari_EastGodavari_81-05_17-62_median/annotations/Godavari_EastGodavari_81-05_17-62_2022-10-01_annotations.geojson.\n",
      "2023-12-14 19:31:18:rastervision.pipeline.file_system.utils: INFO - Using cached file /data/tmp/cache/http/storage.googleapis.com/sand_mining_median/labels/Godavari_EastGodavari_81-05_17-62_median/rivers/Godavari_EastGodavari_81-05_17-62_rivers_1000m.geojson.\n",
      "2023-12-14 19:31:18:rastervision.core.data.vector_source.geojson_vector_source: INFO - Ignoring CRS ({'type': 'name', 'properties': {'name': 'urn:ogc:def:crs:OGC:1.3:CRS84'}}) specified in https://storage.googleapis.com/sand_mining_median/labels/Godavari_EastGodavari_81-05_17-62_median/rivers/Godavari_EastGodavari_81-05_17-62_rivers_1000m.geojson and assuming EPSG:4326 instead.\n",
      "2023-12-14 19:31:18:rastervision.pipeline.file_system.utils: INFO - Using cached file /data/tmp/cache/http/storage.googleapis.com/sand_mining_median/labels/Damodar_PurbaBardhaman_86-93_22-88_median/s2/Damodar_PurbaBardhaman_86-93_22-88_2022-10-01_s2.tif.\n",
      "2023-12-14 19:31:18:rastervision.pipeline.file_system.utils: INFO - Using cached file /data/tmp/cache/http/storage.googleapis.com/sand_mining_median/labels/Damodar_PurbaBardhaman_86-93_22-88_median/annotations/Damodar_PurbaBardhaman_86-93_22-88_2022-10-01_annotations.geojson.\n",
      "2023-12-14 19:31:18:rastervision.pipeline.file_system.utils: INFO - Using cached file /data/tmp/cache/http/storage.googleapis.com/sand_mining_median/labels/Damodar_PurbaBardhaman_86-93_22-88_median/rivers/Damodar_PurbaBardhaman_86-93_22-88_rivers_1000m.geojson.\n",
      "2023-12-14 19:31:18:rastervision.core.data.vector_source.geojson_vector_source: INFO - Ignoring CRS ({'type': 'name', 'properties': {'name': 'urn:ogc:def:crs:OGC:1.3:CRS84'}}) specified in https://storage.googleapis.com/sand_mining_median/labels/Damodar_PurbaBardhaman_86-93_22-88_median/rivers/Damodar_PurbaBardhaman_86-93_22-88_rivers_1000m.geojson and assuming EPSG:4326 instead.\n",
      "2023-12-14 19:31:18:rastervision.pipeline.file_system.utils: INFO - Using cached file /data/tmp/cache/http/storage.googleapis.com/sand_mining_median/labels/Damodar_PurbaBardhaman_86-93_22-88_median/s2/Damodar_PurbaBardhaman_86-93_22-88_2022-04-01_s2.tif.\n",
      "2023-12-14 19:31:18:rastervision.pipeline.file_system.utils: INFO - Using cached file /data/tmp/cache/http/storage.googleapis.com/sand_mining_median/labels/Damodar_PurbaBardhaman_86-93_22-88_median/annotations/Damodar_PurbaBardhaman_86-93_22-88_2022-04-01_annotations.geojson.\n",
      "2023-12-14 19:31:18:rastervision.pipeline.file_system.utils: INFO - Using cached file /data/tmp/cache/http/storage.googleapis.com/sand_mining_median/labels/Damodar_PurbaBardhaman_86-93_22-88_median/rivers/Damodar_PurbaBardhaman_86-93_22-88_rivers_1000m.geojson.\n",
      "2023-12-14 19:31:18:rastervision.core.data.vector_source.geojson_vector_source: INFO - Ignoring CRS ({'type': 'name', 'properties': {'name': 'urn:ogc:def:crs:OGC:1.3:CRS84'}}) specified in https://storage.googleapis.com/sand_mining_median/labels/Damodar_PurbaBardhaman_86-93_22-88_median/rivers/Damodar_PurbaBardhaman_86-93_22-88_rivers_1000m.geojson and assuming EPSG:4326 instead.\n",
      "2023-12-14 19:31:18:rastervision.pipeline.file_system.utils: INFO - Using cached file /data/tmp/cache/http/storage.googleapis.com/sand_mining_median/labels/Sone_Patna_84-0_24-62_median/s2/Sone_Patna_84-0_24-62_2022-02-01_s2.tif.\n",
      "2023-12-14 19:31:18:rastervision.pipeline.file_system.utils: INFO - Using cached file /data/tmp/cache/http/storage.googleapis.com/sand_mining_median/labels/Sone_Patna_84-0_24-62_median/annotations/Sone_Patna_84-0_24-62_2022-02-01_annotations.geojson.\n",
      "2023-12-14 19:31:18:rastervision.pipeline.file_system.utils: INFO - Using cached file /data/tmp/cache/http/storage.googleapis.com/sand_mining_median/labels/Sone_Patna_84-0_24-62_median/rivers/Sone_Patna_84-0_24-62_rivers_1000m.geojson.\n",
      "2023-12-14 19:31:18:rastervision.core.data.vector_source.geojson_vector_source: INFO - Ignoring CRS ({'type': 'name', 'properties': {'name': 'urn:ogc:def:crs:OGC:1.3:CRS84'}}) specified in https://storage.googleapis.com/sand_mining_median/labels/Sone_Patna_84-0_24-62_median/rivers/Sone_Patna_84-0_24-62_rivers_1000m.geojson and assuming EPSG:4326 instead.\n",
      "2023-12-14 19:31:18:rastervision.pipeline.file_system.utils: INFO - Using cached file /data/tmp/cache/http/storage.googleapis.com/sand_mining_median/labels/Sone_Patna_84-0_24-62_median/s2/Sone_Patna_84-0_24-62_2023-04-01_s2.tif.\n",
      "2023-12-14 19:31:18:rastervision.pipeline.file_system.utils: INFO - Using cached file /data/tmp/cache/http/storage.googleapis.com/sand_mining_median/labels/Sone_Patna_84-0_24-62_median/annotations/Sone_Patna_84-0_24-62_2023-04-01_annotations.geojson.\n",
      "2023-12-14 19:31:18:rastervision.pipeline.file_system.utils: INFO - Using cached file /data/tmp/cache/http/storage.googleapis.com/sand_mining_median/labels/Sone_Patna_84-0_24-62_median/rivers/Sone_Patna_84-0_24-62_rivers_1000m.geojson.\n",
      "2023-12-14 19:31:18:rastervision.core.data.vector_source.geojson_vector_source: INFO - Ignoring CRS ({'type': 'name', 'properties': {'name': 'urn:ogc:def:crs:OGC:1.3:CRS84'}}) specified in https://storage.googleapis.com/sand_mining_median/labels/Sone_Patna_84-0_24-62_median/rivers/Sone_Patna_84-0_24-62_rivers_1000m.geojson and assuming EPSG:4326 instead.\n",
      "2023-12-14 19:31:18:rastervision.pipeline.file_system.utils: INFO - Using cached file /data/tmp/cache/http/storage.googleapis.com/sand_mining_median/labels/Sone_Arwal_83-15_24-4_median/s2/Sone_Arwal_83-15_24-4_2022-05-01_s2.tif.\n",
      "2023-12-14 19:31:18:rastervision.pipeline.file_system.utils: INFO - Using cached file /data/tmp/cache/http/storage.googleapis.com/sand_mining_median/labels/Sone_Arwal_83-15_24-4_median/annotations/Sone_Arwal_83-15_24-4_2022-05-01_annotations.geojson.\n",
      "2023-12-14 19:31:18:rastervision.pipeline.file_system.utils: INFO - Using cached file /data/tmp/cache/http/storage.googleapis.com/sand_mining_median/labels/Sone_Arwal_83-15_24-4_median/rivers/Sone_Arwal_83-15_24-4_rivers_1000m.geojson.\n",
      "2023-12-14 19:31:18:rastervision.core.data.vector_source.geojson_vector_source: INFO - Ignoring CRS ({'type': 'name', 'properties': {'name': 'urn:ogc:def:crs:OGC:1.3:CRS84'}}) specified in https://storage.googleapis.com/sand_mining_median/labels/Sone_Arwal_83-15_24-4_median/rivers/Sone_Arwal_83-15_24-4_rivers_1000m.geojson and assuming EPSG:4326 instead.\n",
      "2023-12-14 19:31:18:rastervision.pipeline.file_system.utils: INFO - Using cached file /data/tmp/cache/http/storage.googleapis.com/sand_mining_median/labels/Sone_Arwal_83-15_24-4_median/s2/Sone_Arwal_83-15_24-4_2022-02-01_s2.tif.\n",
      "2023-12-14 19:31:18:rastervision.pipeline.file_system.utils: INFO - Using cached file /data/tmp/cache/http/storage.googleapis.com/sand_mining_median/labels/Sone_Arwal_83-15_24-4_median/annotations/Sone_Arwal_83-15_24-4_2022-02-01_annotations.geojson.\n",
      "2023-12-14 19:31:18:rastervision.pipeline.file_system.utils: INFO - Using cached file /data/tmp/cache/http/storage.googleapis.com/sand_mining_median/labels/Sone_Arwal_83-15_24-4_median/rivers/Sone_Arwal_83-15_24-4_rivers_1000m.geojson.\n",
      "2023-12-14 19:31:18:rastervision.core.data.vector_source.geojson_vector_source: INFO - Ignoring CRS ({'type': 'name', 'properties': {'name': 'urn:ogc:def:crs:OGC:1.3:CRS84'}}) specified in https://storage.googleapis.com/sand_mining_median/labels/Sone_Arwal_83-15_24-4_median/rivers/Sone_Arwal_83-15_24-4_rivers_1000m.geojson and assuming EPSG:4326 instead.\n",
      "2023-12-14 19:31:18:rastervision.pipeline.file_system.utils: INFO - Using cached file /data/tmp/cache/http/storage.googleapis.com/sand_mining_median/labels/Penna_Nellore_79-78_14-56_median/s2/Penna_Nellore_79-78_14-56_2019-08-01_s2.tif.\n",
      "2023-12-14 19:31:18:rastervision.pipeline.file_system.utils: INFO - Using cached file /data/tmp/cache/http/storage.googleapis.com/sand_mining_median/labels/Penna_Nellore_79-78_14-56_median/annotations/Penna_Nellore_79-78_14-56_2019-08-01_annotations.geojson.\n",
      "2023-12-14 19:31:18:rastervision.pipeline.file_system.utils: INFO - Using cached file /data/tmp/cache/http/storage.googleapis.com/sand_mining_median/labels/Penna_Nellore_79-78_14-56_median/rivers/Penna_Nellore_79-78_14-56_rivers_1000m.geojson.\n",
      "2023-12-14 19:31:18:rastervision.core.data.vector_source.geojson_vector_source: INFO - Ignoring CRS ({'type': 'name', 'properties': {'name': 'urn:ogc:def:crs:OGC:1.3:CRS84'}}) specified in https://storage.googleapis.com/sand_mining_median/labels/Penna_Nellore_79-78_14-56_median/rivers/Penna_Nellore_79-78_14-56_rivers_1000m.geojson and assuming EPSG:4326 instead.\n",
      "2023-12-14 19:31:18:rastervision.pipeline.file_system.utils: INFO - Using cached file /data/tmp/cache/http/storage.googleapis.com/sand_mining_median/labels/Penna_Nellore_79-78_14-56_median/s2/Penna_Nellore_79-78_14-56_2019-04-01_s2.tif.\n",
      "2023-12-14 19:31:18:rastervision.pipeline.file_system.utils: INFO - Using cached file /data/tmp/cache/http/storage.googleapis.com/sand_mining_median/labels/Penna_Nellore_79-78_14-56_median/annotations/Penna_Nellore_79-78_14-56_2019-04-01_annotations.geojson.\n",
      "2023-12-14 19:31:18:rastervision.pipeline.file_system.utils: INFO - Using cached file /data/tmp/cache/http/storage.googleapis.com/sand_mining_median/labels/Penna_Nellore_79-78_14-56_median/rivers/Penna_Nellore_79-78_14-56_rivers_1000m.geojson.\n",
      "2023-12-14 19:31:18:rastervision.core.data.vector_source.geojson_vector_source: INFO - Ignoring CRS ({'type': 'name', 'properties': {'name': 'urn:ogc:def:crs:OGC:1.3:CRS84'}}) specified in https://storage.googleapis.com/sand_mining_median/labels/Penna_Nellore_79-78_14-56_median/rivers/Penna_Nellore_79-78_14-56_rivers_1000m.geojson and assuming EPSG:4326 instead.\n",
      "2023-12-14 19:31:18:rastervision.pipeline.file_system.utils: INFO - Using cached file /data/tmp/cache/http/storage.googleapis.com/sand_mining_median/labels/Godavari_EastGodavari_81-81_16-79_median/s2/Godavari_EastGodavari_81-81_16-79_2022-03-01_s2.tif.\n",
      "2023-12-14 19:31:18:rastervision.pipeline.file_system.utils: INFO - Using cached file /data/tmp/cache/http/storage.googleapis.com/sand_mining_median/labels/Godavari_EastGodavari_81-81_16-79_median/annotations/Godavari_EastGodavari_81-81_16-79_2022-03-01_annotations.geojson.\n",
      "2023-12-14 19:31:19:rastervision.pipeline.file_system.utils: INFO - Using cached file /data/tmp/cache/http/storage.googleapis.com/sand_mining_median/labels/Godavari_EastGodavari_81-81_16-79_median/rivers/Godavari_EastGodavari_81-81_16-79_rivers_1000m.geojson.\n",
      "2023-12-14 19:31:19:rastervision.core.data.vector_source.geojson_vector_source: INFO - Ignoring CRS ({'type': 'name', 'properties': {'name': 'urn:ogc:def:crs:OGC:1.3:CRS84'}}) specified in https://storage.googleapis.com/sand_mining_median/labels/Godavari_EastGodavari_81-81_16-79_median/rivers/Godavari_EastGodavari_81-81_16-79_rivers_1000m.geojson and assuming EPSG:4326 instead.\n",
      "2023-12-14 19:31:19:rastervision.pipeline.file_system.utils: INFO - Using cached file /data/tmp/cache/http/storage.googleapis.com/sand_mining_median/labels/Godavari_EastGodavari_81-81_16-79_median/s2/Godavari_EastGodavari_81-81_16-79_2023-02-01_s2.tif.\n",
      "2023-12-14 19:31:19:rastervision.pipeline.file_system.utils: INFO - Using cached file /data/tmp/cache/http/storage.googleapis.com/sand_mining_median/labels/Godavari_EastGodavari_81-81_16-79_median/annotations/Godavari_EastGodavari_81-81_16-79_2023-02-01_annotations.geojson.\n",
      "2023-12-14 19:31:19:rastervision.pipeline.file_system.utils: INFO - Using cached file /data/tmp/cache/http/storage.googleapis.com/sand_mining_median/labels/Godavari_EastGodavari_81-81_16-79_median/rivers/Godavari_EastGodavari_81-81_16-79_rivers_1000m.geojson.\n",
      "2023-12-14 19:31:19:rastervision.core.data.vector_source.geojson_vector_source: INFO - Ignoring CRS ({'type': 'name', 'properties': {'name': 'urn:ogc:def:crs:OGC:1.3:CRS84'}}) specified in https://storage.googleapis.com/sand_mining_median/labels/Godavari_EastGodavari_81-81_16-79_median/rivers/Godavari_EastGodavari_81-81_16-79_rivers_1000m.geojson and assuming EPSG:4326 instead.\n",
      "2023-12-14 19:31:19:rastervision.pipeline.file_system.utils: INFO - Using cached file /data/tmp/cache/http/storage.googleapis.com/sand_mining_median/labels/Godavari_EastGodavari_81-78_16-9_median/s2/Godavari_EastGodavari_81-78_16-9_2022-03-01_s2.tif.\n",
      "2023-12-14 19:31:19:rastervision.pipeline.file_system.utils: INFO - Using cached file /data/tmp/cache/http/storage.googleapis.com/sand_mining_median/labels/Godavari_EastGodavari_81-78_16-9_median/annotations/Godavari_EastGodavari_81-78_16-9_2022-03-01_annotations.geojson.\n",
      "2023-12-14 19:31:19:rastervision.pipeline.file_system.utils: INFO - Using cached file /data/tmp/cache/http/storage.googleapis.com/sand_mining_median/labels/Godavari_EastGodavari_81-78_16-9_median/rivers/Godavari_EastGodavari_81-78_16-9_rivers_1000m.geojson.\n",
      "2023-12-14 19:31:19:rastervision.core.data.vector_source.geojson_vector_source: INFO - Ignoring CRS ({'type': 'name', 'properties': {'name': 'urn:ogc:def:crs:OGC:1.3:CRS84'}}) specified in https://storage.googleapis.com/sand_mining_median/labels/Godavari_EastGodavari_81-78_16-9_median/rivers/Godavari_EastGodavari_81-78_16-9_rivers_1000m.geojson and assuming EPSG:4326 instead.\n",
      "2023-12-14 19:31:19:rastervision.pipeline.file_system.utils: INFO - Using cached file /data/tmp/cache/http/storage.googleapis.com/sand_mining_median/labels/Godavari_EastGodavari_81-78_16-9_median/s2/Godavari_EastGodavari_81-78_16-9_2022-06-01_s2.tif.\n",
      "2023-12-14 19:31:19:rastervision.pipeline.file_system.utils: INFO - Using cached file /data/tmp/cache/http/storage.googleapis.com/sand_mining_median/labels/Godavari_EastGodavari_81-78_16-9_median/annotations/Godavari_EastGodavari_81-78_16-9_2022-06-01_annotations.geojson.\n",
      "2023-12-14 19:31:19:rastervision.pipeline.file_system.utils: INFO - Using cached file /data/tmp/cache/http/storage.googleapis.com/sand_mining_median/labels/Godavari_EastGodavari_81-78_16-9_median/rivers/Godavari_EastGodavari_81-78_16-9_rivers_1000m.geojson.\n",
      "2023-12-14 19:31:19:rastervision.core.data.vector_source.geojson_vector_source: INFO - Ignoring CRS ({'type': 'name', 'properties': {'name': 'urn:ogc:def:crs:OGC:1.3:CRS84'}}) specified in https://storage.googleapis.com/sand_mining_median/labels/Godavari_EastGodavari_81-78_16-9_median/rivers/Godavari_EastGodavari_81-78_16-9_rivers_1000m.geojson and assuming EPSG:4326 instead.\n",
      "2023-12-14 19:31:19:rastervision.pipeline.file_system.utils: INFO - Using cached file /data/tmp/cache/http/storage.googleapis.com/sand_mining_median/labels/Godavari_EastGodavari_81-71_17-09_median/s2/Godavari_EastGodavari_81-71_17-09_2021-12-01_s2.tif.\n",
      "2023-12-14 19:31:19:rastervision.pipeline.file_system.utils: INFO - Using cached file /data/tmp/cache/http/storage.googleapis.com/sand_mining_median/labels/Godavari_EastGodavari_81-71_17-09_median/annotations/Godavari_EastGodavari_81-71_17-09_2021-12-01_annotations.geojson.\n",
      "2023-12-14 19:31:19:rastervision.pipeline.file_system.utils: INFO - Using cached file /data/tmp/cache/http/storage.googleapis.com/sand_mining_median/labels/Godavari_EastGodavari_81-71_17-09_median/rivers/Godavari_EastGodavari_81-71_17-09_rivers_1000m.geojson.\n",
      "2023-12-14 19:31:19:rastervision.core.data.vector_source.geojson_vector_source: INFO - Ignoring CRS ({'type': 'name', 'properties': {'name': 'urn:ogc:def:crs:OGC:1.3:CRS84'}}) specified in https://storage.googleapis.com/sand_mining_median/labels/Godavari_EastGodavari_81-71_17-09_median/rivers/Godavari_EastGodavari_81-71_17-09_rivers_1000m.geojson and assuming EPSG:4326 instead.\n",
      "2023-12-14 19:31:19:rastervision.pipeline.file_system.utils: INFO - Using cached file /data/tmp/cache/http/storage.googleapis.com/sand_mining_median/labels/Godavari_EastGodavari_81-71_17-09_median/s2/Godavari_EastGodavari_81-71_17-09_2022-04-01_s2.tif.\n",
      "2023-12-14 19:31:19:rastervision.pipeline.file_system.utils: INFO - Using cached file /data/tmp/cache/http/storage.googleapis.com/sand_mining_median/labels/Godavari_EastGodavari_81-71_17-09_median/annotations/Godavari_EastGodavari_81-71_17-09_2022-04-01_annotations.geojson.\n",
      "2023-12-14 19:31:19:rastervision.pipeline.file_system.utils: INFO - Using cached file /data/tmp/cache/http/storage.googleapis.com/sand_mining_median/labels/Godavari_EastGodavari_81-71_17-09_median/rivers/Godavari_EastGodavari_81-71_17-09_rivers_1000m.geojson.\n",
      "2023-12-14 19:31:19:rastervision.core.data.vector_source.geojson_vector_source: INFO - Ignoring CRS ({'type': 'name', 'properties': {'name': 'urn:ogc:def:crs:OGC:1.3:CRS84'}}) specified in https://storage.googleapis.com/sand_mining_median/labels/Godavari_EastGodavari_81-71_17-09_median/rivers/Godavari_EastGodavari_81-71_17-09_rivers_1000m.geojson and assuming EPSG:4326 instead.\n",
      "2023-12-14 19:31:19:rastervision.pipeline.file_system.utils: INFO - Using cached file /data/tmp/cache/http/storage.googleapis.com/sand_mining_median/labels/Godavari_EastGodavari_81-9_16-75_median/s2/Godavari_EastGodavari_81-9_16-75_2023-02-01_s2.tif.\n",
      "2023-12-14 19:31:19:rastervision.pipeline.file_system.utils: INFO - Using cached file /data/tmp/cache/http/storage.googleapis.com/sand_mining_median/labels/Godavari_EastGodavari_81-9_16-75_median/annotations/Godavari_EastGodavari_81-9_16-75_2023-02-01_annotations.geojson.\n",
      "2023-12-14 19:31:19:rastervision.pipeline.file_system.utils: INFO - Using cached file /data/tmp/cache/http/storage.googleapis.com/sand_mining_median/labels/Godavari_EastGodavari_81-9_16-75_median/rivers/Godavari_EastGodavari_81-9_16-75_rivers_1000m.geojson.\n",
      "2023-12-14 19:31:19:rastervision.core.data.vector_source.geojson_vector_source: INFO - Ignoring CRS ({'type': 'name', 'properties': {'name': 'urn:ogc:def:crs:OGC:1.3:CRS84'}}) specified in https://storage.googleapis.com/sand_mining_median/labels/Godavari_EastGodavari_81-9_16-75_median/rivers/Godavari_EastGodavari_81-9_16-75_rivers_1000m.geojson and assuming EPSG:4326 instead.\n",
      "2023-12-14 19:31:19:rastervision.pipeline.file_system.utils: INFO - Using cached file /data/tmp/cache/http/storage.googleapis.com/sand_mining_median/labels/Godavari_EastGodavari_81-9_16-75_median/s2/Godavari_EastGodavari_81-9_16-75_2023-04-01_s2.tif.\n",
      "2023-12-14 19:31:19:rastervision.pipeline.file_system.utils: INFO - Using cached file /data/tmp/cache/http/storage.googleapis.com/sand_mining_median/labels/Godavari_EastGodavari_81-9_16-75_median/annotations/Godavari_EastGodavari_81-9_16-75_2023-04-01_annotations.geojson.\n",
      "2023-12-14 19:31:19:rastervision.pipeline.file_system.utils: INFO - Using cached file /data/tmp/cache/http/storage.googleapis.com/sand_mining_median/labels/Godavari_EastGodavari_81-9_16-75_median/rivers/Godavari_EastGodavari_81-9_16-75_rivers_1000m.geojson.\n",
      "2023-12-14 19:31:19:rastervision.core.data.vector_source.geojson_vector_source: INFO - Ignoring CRS ({'type': 'name', 'properties': {'name': 'urn:ogc:def:crs:OGC:1.3:CRS84'}}) specified in https://storage.googleapis.com/sand_mining_median/labels/Godavari_EastGodavari_81-9_16-75_median/rivers/Godavari_EastGodavari_81-9_16-75_rivers_1000m.geojson and assuming EPSG:4326 instead.\n",
      "2023-12-14 19:31:19:rastervision.pipeline.file_system.utils: INFO - Using cached file /data/tmp/cache/http/storage.googleapis.com/sand_mining_median/labels/Godavari_BhadradriKothagudem_80-79_18-04_median/s2/Godavari_BhadradriKothagudem_80-79_18-04_2022-02-01_s2.tif.\n",
      "2023-12-14 19:31:19:rastervision.pipeline.file_system.utils: INFO - Using cached file /data/tmp/cache/http/storage.googleapis.com/sand_mining_median/labels/Godavari_BhadradriKothagudem_80-79_18-04_median/annotations/Godavari_BhadradriKothagudem_80-79_18-04_2022-02-01_annotations.geojson.\n",
      "2023-12-14 19:31:19:rastervision.pipeline.file_system.utils: INFO - Using cached file /data/tmp/cache/http/storage.googleapis.com/sand_mining_median/labels/Godavari_BhadradriKothagudem_80-79_18-04_median/rivers/Godavari_BhadradriKothagudem_80-79_18-04_rivers_1000m.geojson.\n",
      "2023-12-14 19:31:19:rastervision.core.data.vector_source.geojson_vector_source: INFO - Ignoring CRS ({'type': 'name', 'properties': {'name': 'urn:ogc:def:crs:OGC:1.3:CRS84'}}) specified in https://storage.googleapis.com/sand_mining_median/labels/Godavari_BhadradriKothagudem_80-79_18-04_median/rivers/Godavari_BhadradriKothagudem_80-79_18-04_rivers_1000m.geojson and assuming EPSG:4326 instead.\n",
      "2023-12-14 19:31:19:rastervision.pipeline.file_system.utils: INFO - Using cached file /data/tmp/cache/http/storage.googleapis.com/sand_mining_median/labels/Godavari_BhadradriKothagudem_80-79_18-04_median/s2/Godavari_BhadradriKothagudem_80-79_18-04_2022-05-01_s2.tif.\n",
      "2023-12-14 19:31:19:rastervision.pipeline.file_system.utils: INFO - Using cached file /data/tmp/cache/http/storage.googleapis.com/sand_mining_median/labels/Godavari_BhadradriKothagudem_80-79_18-04_median/annotations/Godavari_BhadradriKothagudem_80-79_18-04_2022-05-01_annotations.geojson.\n",
      "2023-12-14 19:31:19:rastervision.pipeline.file_system.utils: INFO - Using cached file /data/tmp/cache/http/storage.googleapis.com/sand_mining_median/labels/Godavari_BhadradriKothagudem_80-79_18-04_median/rivers/Godavari_BhadradriKothagudem_80-79_18-04_rivers_1000m.geojson.\n",
      "2023-12-14 19:31:19:rastervision.core.data.vector_source.geojson_vector_source: INFO - Ignoring CRS ({'type': 'name', 'properties': {'name': 'urn:ogc:def:crs:OGC:1.3:CRS84'}}) specified in https://storage.googleapis.com/sand_mining_median/labels/Godavari_BhadradriKothagudem_80-79_18-04_median/rivers/Godavari_BhadradriKothagudem_80-79_18-04_rivers_1000m.geojson and assuming EPSG:4326 instead.\n",
      "2023-12-14 19:31:19:rastervision.pipeline.file_system.utils: INFO - Using cached file /data/tmp/cache/http/storage.googleapis.com/sand_mining_median/labels/Banas_Banaskantha_71-93_23-96_median/s2/Banas_Banaskantha_71-93_23-96_2022-11-01_s2.tif.\n",
      "2023-12-14 19:31:19:rastervision.pipeline.file_system.utils: INFO - Using cached file /data/tmp/cache/http/storage.googleapis.com/sand_mining_median/labels/Banas_Banaskantha_71-93_23-96_median/annotations/Banas_Banaskantha_71-93_23-96_2022-11-01_annotations.geojson.\n",
      "2023-12-14 19:31:19:rastervision.pipeline.file_system.utils: INFO - Using cached file /data/tmp/cache/http/storage.googleapis.com/sand_mining_median/labels/Banas_Banaskantha_71-93_23-96_median/rivers/Banas_Banaskantha_71-93_23-96_rivers_1000m.geojson.\n",
      "2023-12-14 19:31:19:rastervision.core.data.vector_source.geojson_vector_source: INFO - Ignoring CRS ({'type': 'name', 'properties': {'name': 'urn:ogc:def:crs:OGC:1.3:CRS84'}}) specified in https://storage.googleapis.com/sand_mining_median/labels/Banas_Banaskantha_71-93_23-96_median/rivers/Banas_Banaskantha_71-93_23-96_rivers_1000m.geojson and assuming EPSG:4326 instead.\n",
      "2023-12-14 19:31:19:rastervision.pipeline.file_system.utils: INFO - Using cached file /data/tmp/cache/http/storage.googleapis.com/sand_mining_median/labels/Banas_Banaskantha_71-93_23-96_median/s2/Banas_Banaskantha_71-93_23-96_2023-05-01_s2.tif.\n",
      "2023-12-14 19:31:19:rastervision.pipeline.file_system.utils: INFO - Using cached file /data/tmp/cache/http/storage.googleapis.com/sand_mining_median/labels/Banas_Banaskantha_71-93_23-96_median/annotations/Banas_Banaskantha_71-93_23-96_2023-05-01_annotations.geojson.\n",
      "2023-12-14 19:31:19:rastervision.pipeline.file_system.utils: INFO - Using cached file /data/tmp/cache/http/storage.googleapis.com/sand_mining_median/labels/Banas_Banaskantha_71-93_23-96_median/rivers/Banas_Banaskantha_71-93_23-96_rivers_1000m.geojson.\n",
      "2023-12-14 19:31:19:rastervision.core.data.vector_source.geojson_vector_source: INFO - Ignoring CRS ({'type': 'name', 'properties': {'name': 'urn:ogc:def:crs:OGC:1.3:CRS84'}}) specified in https://storage.googleapis.com/sand_mining_median/labels/Banas_Banaskantha_71-93_23-96_median/rivers/Banas_Banaskantha_71-93_23-96_rivers_1000m.geojson and assuming EPSG:4326 instead.\n",
      "2023-12-14 19:31:20:rastervision.pipeline.file_system.utils: INFO - Using cached file /data/tmp/cache/http/storage.googleapis.com/sand_mining_median/labels/Godavari_EastGodavari_80-89_17-72_median/s2/Godavari_EastGodavari_80-89_17-72_2021-12-01_s2.tif.\n",
      "2023-12-14 19:31:20:rastervision.pipeline.file_system.utils: INFO - Using cached file /data/tmp/cache/http/storage.googleapis.com/sand_mining_median/labels/Godavari_EastGodavari_80-89_17-72_median/annotations/Godavari_EastGodavari_80-89_17-72_2021-12-01_annotations.geojson.\n",
      "2023-12-14 19:31:20:rastervision.pipeline.file_system.utils: INFO - Using cached file /data/tmp/cache/http/storage.googleapis.com/sand_mining_median/labels/Godavari_EastGodavari_80-89_17-72_median/rivers/Godavari_EastGodavari_80-89_17-72_rivers_1000m.geojson.\n",
      "2023-12-14 19:31:20:rastervision.core.data.vector_source.geojson_vector_source: INFO - Ignoring CRS ({'type': 'name', 'properties': {'name': 'urn:ogc:def:crs:OGC:1.3:CRS84'}}) specified in https://storage.googleapis.com/sand_mining_median/labels/Godavari_EastGodavari_80-89_17-72_median/rivers/Godavari_EastGodavari_80-89_17-72_rivers_1000m.geojson and assuming EPSG:4326 instead.\n",
      "2023-12-14 19:31:20:rastervision.pipeline.file_system.utils: INFO - Using cached file /data/tmp/cache/http/storage.googleapis.com/sand_mining_median/labels/Godavari_EastGodavari_80-89_17-72_median/s2/Godavari_EastGodavari_80-89_17-72_2022-05-01_s2.tif.\n",
      "2023-12-14 19:31:20:rastervision.pipeline.file_system.utils: INFO - Using cached file /data/tmp/cache/http/storage.googleapis.com/sand_mining_median/labels/Godavari_EastGodavari_80-89_17-72_median/annotations/Godavari_EastGodavari_80-89_17-72_2022-05-01_annotations.geojson.\n",
      "2023-12-14 19:31:20:rastervision.pipeline.file_system.utils: INFO - Using cached file /data/tmp/cache/http/storage.googleapis.com/sand_mining_median/labels/Godavari_EastGodavari_80-89_17-72_median/rivers/Godavari_EastGodavari_80-89_17-72_rivers_1000m.geojson.\n",
      "2023-12-14 19:31:20:rastervision.core.data.vector_source.geojson_vector_source: INFO - Ignoring CRS ({'type': 'name', 'properties': {'name': 'urn:ogc:def:crs:OGC:1.3:CRS84'}}) specified in https://storage.googleapis.com/sand_mining_median/labels/Godavari_EastGodavari_80-89_17-72_median/rivers/Godavari_EastGodavari_80-89_17-72_rivers_1000m.geojson and assuming EPSG:4326 instead.\n",
      "2023-12-14 19:31:20:rastervision.pipeline.file_system.utils: INFO - Using cached file /data/tmp/cache/http/storage.googleapis.com/sand_mining_median/labels/Godavari_EastGodavari_80-89_17-72_median/s2/Godavari_EastGodavari_80-89_17-72_2022-04-01_s2.tif.\n",
      "2023-12-14 19:31:20:rastervision.pipeline.file_system.utils: INFO - Using cached file /data/tmp/cache/http/storage.googleapis.com/sand_mining_median/labels/Godavari_EastGodavari_80-89_17-72_median/annotations/Godavari_EastGodavari_80-89_17-72_2022-04-01_annotations.geojson.\n",
      "2023-12-14 19:31:20:rastervision.pipeline.file_system.utils: INFO - Using cached file /data/tmp/cache/http/storage.googleapis.com/sand_mining_median/labels/Godavari_EastGodavari_80-89_17-72_median/rivers/Godavari_EastGodavari_80-89_17-72_rivers_1000m.geojson.\n",
      "2023-12-14 19:31:20:rastervision.core.data.vector_source.geojson_vector_source: INFO - Ignoring CRS ({'type': 'name', 'properties': {'name': 'urn:ogc:def:crs:OGC:1.3:CRS84'}}) specified in https://storage.googleapis.com/sand_mining_median/labels/Godavari_EastGodavari_80-89_17-72_median/rivers/Godavari_EastGodavari_80-89_17-72_rivers_1000m.geojson and assuming EPSG:4326 instead.\n",
      "2023-12-14 19:31:20:rastervision.pipeline.file_system.utils: INFO - Using cached file /data/tmp/cache/http/storage.googleapis.com/sand_mining_median/labels/Banas_Banaskantha_72-04_24-11_median/s2/Banas_Banaskantha_72-04_24-11_2022-11-01_s2.tif.\n",
      "2023-12-14 19:31:20:rastervision.pipeline.file_system.utils: INFO - Using cached file /data/tmp/cache/http/storage.googleapis.com/sand_mining_median/labels/Banas_Banaskantha_72-04_24-11_median/annotations/Banas_Banaskantha_72-04_24-11_2022-11-01_annotations.geojson.\n",
      "2023-12-14 19:31:20:rastervision.pipeline.file_system.utils: INFO - Using cached file /data/tmp/cache/http/storage.googleapis.com/sand_mining_median/labels/Banas_Banaskantha_72-04_24-11_median/rivers/Banas_Banaskantha_72-04_24-11_rivers_1000m.geojson.\n",
      "2023-12-14 19:31:20:rastervision.core.data.vector_source.geojson_vector_source: INFO - Ignoring CRS ({'type': 'name', 'properties': {'name': 'urn:ogc:def:crs:OGC:1.3:CRS84'}}) specified in https://storage.googleapis.com/sand_mining_median/labels/Banas_Banaskantha_72-04_24-11_median/rivers/Banas_Banaskantha_72-04_24-11_rivers_1000m.geojson and assuming EPSG:4326 instead.\n",
      "2023-12-14 19:31:20:rastervision.pipeline.file_system.utils: INFO - Using cached file /data/tmp/cache/http/storage.googleapis.com/sand_mining_median/labels/Banas_Banaskantha_72-04_24-11_median/s2/Banas_Banaskantha_72-04_24-11_2023-05-01_s2.tif.\n",
      "2023-12-14 19:31:20:rastervision.pipeline.file_system.utils: INFO - Using cached file /data/tmp/cache/http/storage.googleapis.com/sand_mining_median/labels/Banas_Banaskantha_72-04_24-11_median/annotations/Banas_Banaskantha_72-04_24-11_2023-05-01_annotations.geojson.\n",
      "2023-12-14 19:31:20:rastervision.pipeline.file_system.utils: INFO - Using cached file /data/tmp/cache/http/storage.googleapis.com/sand_mining_median/labels/Banas_Banaskantha_72-04_24-11_median/rivers/Banas_Banaskantha_72-04_24-11_rivers_1000m.geojson.\n",
      "2023-12-14 19:31:20:rastervision.core.data.vector_source.geojson_vector_source: INFO - Ignoring CRS ({'type': 'name', 'properties': {'name': 'urn:ogc:def:crs:OGC:1.3:CRS84'}}) specified in https://storage.googleapis.com/sand_mining_median/labels/Banas_Banaskantha_72-04_24-11_median/rivers/Banas_Banaskantha_72-04_24-11_rivers_1000m.geojson and assuming EPSG:4326 instead.\n",
      "2023-12-14 19:31:20:rastervision.pipeline.file_system.utils: INFO - Using cached file /data/tmp/cache/http/storage.googleapis.com/sand_mining_median/labels/Waiganga_Gondiya_80-11_21-59_median/s2/Waiganga_Gondiya_80-11_21-59_2021-03-01_s2.tif.\n",
      "2023-12-14 19:31:20:rastervision.pipeline.file_system.utils: INFO - Using cached file /data/tmp/cache/http/storage.googleapis.com/sand_mining_median/labels/Waiganga_Gondiya_80-11_21-59_median/annotations/Waiganga_Gondiya_80-11_21-59_2021-03-01_annotations.geojson.\n",
      "2023-12-14 19:31:20:rastervision.pipeline.file_system.utils: INFO - Using cached file /data/tmp/cache/http/storage.googleapis.com/sand_mining_median/labels/Waiganga_Gondiya_80-11_21-59_median/rivers/Waiganga_Gondiya_80-11_21-59_rivers_1000m.geojson.\n",
      "2023-12-14 19:31:20:rastervision.core.data.vector_source.geojson_vector_source: INFO - Ignoring CRS ({'type': 'name', 'properties': {'name': 'urn:ogc:def:crs:OGC:1.3:CRS84'}}) specified in https://storage.googleapis.com/sand_mining_median/labels/Waiganga_Gondiya_80-11_21-59_median/rivers/Waiganga_Gondiya_80-11_21-59_rivers_1000m.geojson and assuming EPSG:4326 instead.\n",
      "2023-12-14 19:31:20:rastervision.pipeline.file_system.utils: INFO - Using cached file /data/tmp/cache/http/storage.googleapis.com/sand_mining_median/labels/Waiganga_Gondiya_80-11_21-59_median/s2/Waiganga_Gondiya_80-11_21-59_2022-10-01_s2.tif.\n",
      "2023-12-14 19:31:20:rastervision.pipeline.file_system.utils: INFO - Using cached file /data/tmp/cache/http/storage.googleapis.com/sand_mining_median/labels/Waiganga_Gondiya_80-11_21-59_median/annotations/Waiganga_Gondiya_80-11_21-59_2022-10-01_annotations.geojson.\n",
      "2023-12-14 19:31:20:rastervision.pipeline.file_system.utils: INFO - Using cached file /data/tmp/cache/http/storage.googleapis.com/sand_mining_median/labels/Waiganga_Gondiya_80-11_21-59_median/rivers/Waiganga_Gondiya_80-11_21-59_rivers_1000m.geojson.\n",
      "2023-12-14 19:31:20:rastervision.core.data.vector_source.geojson_vector_source: INFO - Ignoring CRS ({'type': 'name', 'properties': {'name': 'urn:ogc:def:crs:OGC:1.3:CRS84'}}) specified in https://storage.googleapis.com/sand_mining_median/labels/Waiganga_Gondiya_80-11_21-59_median/rivers/Waiganga_Gondiya_80-11_21-59_rivers_1000m.geojson and assuming EPSG:4326 instead.\n",
      "2023-12-14 19:31:20:rastervision.pipeline.file_system.utils: INFO - Using cached file /data/tmp/cache/http/storage.googleapis.com/sand_mining_median/labels/Waiganga_Gondiya_80-16_21-62_median/s2/Waiganga_Gondiya_80-16_21-62_2019-01-01_s2.tif.\n",
      "2023-12-14 19:31:20:rastervision.pipeline.file_system.utils: INFO - Using cached file /data/tmp/cache/http/storage.googleapis.com/sand_mining_median/labels/Waiganga_Gondiya_80-16_21-62_median/annotations/Waiganga_Gondiya_80-16_21-62_2019-01-01_annotations.geojson.\n",
      "2023-12-14 19:31:20:rastervision.pipeline.file_system.utils: INFO - Using cached file /data/tmp/cache/http/storage.googleapis.com/sand_mining_median/labels/Waiganga_Gondiya_80-16_21-62_median/rivers/Waiganga_Gondiya_80-16_21-62_rivers_1000m.geojson.\n",
      "2023-12-14 19:31:20:rastervision.core.data.vector_source.geojson_vector_source: INFO - Ignoring CRS ({'type': 'name', 'properties': {'name': 'urn:ogc:def:crs:OGC:1.3:CRS84'}}) specified in https://storage.googleapis.com/sand_mining_median/labels/Waiganga_Gondiya_80-16_21-62_median/rivers/Waiganga_Gondiya_80-16_21-62_rivers_1000m.geojson and assuming EPSG:4326 instead.\n",
      "2023-12-14 19:31:20:rastervision.pipeline.file_system.utils: INFO - Using cached file /data/tmp/cache/http/storage.googleapis.com/sand_mining_median/labels/Waiganga_Gondiya_80-16_21-62_median/s2/Waiganga_Gondiya_80-16_21-62_2022-02-01_s2.tif.\n",
      "2023-12-14 19:31:20:rastervision.pipeline.file_system.utils: INFO - Using cached file /data/tmp/cache/http/storage.googleapis.com/sand_mining_median/labels/Waiganga_Gondiya_80-16_21-62_median/annotations/Waiganga_Gondiya_80-16_21-62_2022-02-01_annotations.geojson.\n",
      "2023-12-14 19:31:20:rastervision.pipeline.file_system.utils: INFO - Using cached file /data/tmp/cache/http/storage.googleapis.com/sand_mining_median/labels/Waiganga_Gondiya_80-16_21-62_median/rivers/Waiganga_Gondiya_80-16_21-62_rivers_1000m.geojson.\n",
      "2023-12-14 19:31:20:rastervision.core.data.vector_source.geojson_vector_source: INFO - Ignoring CRS ({'type': 'name', 'properties': {'name': 'urn:ogc:def:crs:OGC:1.3:CRS84'}}) specified in https://storage.googleapis.com/sand_mining_median/labels/Waiganga_Gondiya_80-16_21-62_median/rivers/Waiganga_Gondiya_80-16_21-62_rivers_1000m.geojson and assuming EPSG:4326 instead.\n",
      "2023-12-14 19:31:20:rastervision.pipeline.file_system.utils: INFO - Using cached file /data/tmp/cache/http/storage.googleapis.com/sand_mining_median/labels/Waiganga_Gondiya_80-03_21-55_median/s2/Waiganga_Gondiya_80-03_21-55_2023-05-01_s2.tif.\n",
      "2023-12-14 19:31:20:rastervision.pipeline.file_system.utils: INFO - Using cached file /data/tmp/cache/http/storage.googleapis.com/sand_mining_median/labels/Waiganga_Gondiya_80-03_21-55_median/annotations/Waiganga_Gondiya_80-03_21-55_2023-05-01_annotations.geojson.\n",
      "2023-12-14 19:31:20:rastervision.pipeline.file_system.utils: INFO - Using cached file /data/tmp/cache/http/storage.googleapis.com/sand_mining_median/labels/Waiganga_Gondiya_80-03_21-55_median/rivers/Waiganga_Gondiya_80-03_21-55_rivers_1000m.geojson.\n",
      "2023-12-14 19:31:20:rastervision.core.data.vector_source.geojson_vector_source: INFO - Ignoring CRS ({'type': 'name', 'properties': {'name': 'urn:ogc:def:crs:OGC:1.3:CRS84'}}) specified in https://storage.googleapis.com/sand_mining_median/labels/Waiganga_Gondiya_80-03_21-55_median/rivers/Waiganga_Gondiya_80-03_21-55_rivers_1000m.geojson and assuming EPSG:4326 instead.\n",
      "2023-12-14 19:31:20:rastervision.pipeline.file_system.utils: INFO - Using cached file /data/tmp/cache/http/storage.googleapis.com/sand_mining_median/labels/Waiganga_Gondiya_80-03_21-55_median/s2/Waiganga_Gondiya_80-03_21-55_2023-01-01_s2.tif.\n",
      "2023-12-14 19:31:20:rastervision.pipeline.file_system.utils: INFO - Using cached file /data/tmp/cache/http/storage.googleapis.com/sand_mining_median/labels/Waiganga_Gondiya_80-03_21-55_median/annotations/Waiganga_Gondiya_80-03_21-55_2023-01-01_annotations.geojson.\n",
      "2023-12-14 19:31:20:rastervision.pipeline.file_system.utils: INFO - Using cached file /data/tmp/cache/http/storage.googleapis.com/sand_mining_median/labels/Waiganga_Gondiya_80-03_21-55_median/rivers/Waiganga_Gondiya_80-03_21-55_rivers_1000m.geojson.\n",
      "2023-12-14 19:31:20:rastervision.core.data.vector_source.geojson_vector_source: INFO - Ignoring CRS ({'type': 'name', 'properties': {'name': 'urn:ogc:def:crs:OGC:1.3:CRS84'}}) specified in https://storage.googleapis.com/sand_mining_median/labels/Waiganga_Gondiya_80-03_21-55_median/rivers/Waiganga_Gondiya_80-03_21-55_rivers_1000m.geojson and assuming EPSG:4326 instead.\n",
      "2023-12-14 19:31:20:rastervision.pipeline.file_system.utils: INFO - Using cached file /data/tmp/cache/http/storage.googleapis.com/sand_mining_median/labels/Kanhan_Nagpur_79-17_21-27_median/s2/Kanhan_Nagpur_79-17_21-27_2022-06-01_s2.tif.\n",
      "2023-12-14 19:31:20:rastervision.pipeline.file_system.utils: INFO - Using cached file /data/tmp/cache/http/storage.googleapis.com/sand_mining_median/labels/Kanhan_Nagpur_79-17_21-27_median/annotations/Kanhan_Nagpur_79-17_21-27_2022-06-01_annotations.geojson.\n",
      "2023-12-14 19:31:20:rastervision.pipeline.file_system.utils: INFO - Using cached file /data/tmp/cache/http/storage.googleapis.com/sand_mining_median/labels/Kanhan_Nagpur_79-17_21-27_median/rivers/Kanhan_Nagpur_79-17_21-27_rivers_1000m.geojson.\n",
      "2023-12-14 19:31:20:rastervision.core.data.vector_source.geojson_vector_source: INFO - Ignoring CRS ({'type': 'name', 'properties': {'name': 'urn:ogc:def:crs:OGC:1.3:CRS84'}}) specified in https://storage.googleapis.com/sand_mining_median/labels/Kanhan_Nagpur_79-17_21-27_median/rivers/Kanhan_Nagpur_79-17_21-27_rivers_1000m.geojson and assuming EPSG:4326 instead.\n",
      "2023-12-14 19:31:20:rastervision.pipeline.file_system.utils: INFO - Using cached file /data/tmp/cache/http/storage.googleapis.com/sand_mining_median/labels/Kanhan_Nagpur_79-17_21-27_median/s2/Kanhan_Nagpur_79-17_21-27_2021-12-01_s2.tif.\n",
      "2023-12-14 19:31:20:rastervision.pipeline.file_system.utils: INFO - Using cached file /data/tmp/cache/http/storage.googleapis.com/sand_mining_median/labels/Kanhan_Nagpur_79-17_21-27_median/annotations/Kanhan_Nagpur_79-17_21-27_2021-12-01_annotations.geojson.\n",
      "2023-12-14 19:31:20:rastervision.pipeline.file_system.utils: INFO - Using cached file /data/tmp/cache/http/storage.googleapis.com/sand_mining_median/labels/Kanhan_Nagpur_79-17_21-27_median/rivers/Kanhan_Nagpur_79-17_21-27_rivers_1000m.geojson.\n",
      "2023-12-14 19:31:21:rastervision.core.data.vector_source.geojson_vector_source: INFO - Ignoring CRS ({'type': 'name', 'properties': {'name': 'urn:ogc:def:crs:OGC:1.3:CRS84'}}) specified in https://storage.googleapis.com/sand_mining_median/labels/Kanhan_Nagpur_79-17_21-27_median/rivers/Kanhan_Nagpur_79-17_21-27_rivers_1000m.geojson and assuming EPSG:4326 instead.\n"
     ]
    },
    {
     "name": "stdout",
     "output_type": "stream",
     "text": [
      "Validation split cluster_id: 4\n",
      "Training dataset size: 3088 images | Number of observations: 72\n",
      "Testing dataset size:  378  images | Number of observations: 8\n",
      "Total dataset has 2.93%  mining area.\n",
      "Training dataset has 3.05%  mining area.\n",
      "Validation dataset has 2.15%  mining area.\n",
      "Within AOIs, total dataset has 6.72%  mining area.\n",
      "Outside AOIs, total dataset has 0.06%  mining area.\n",
      "\n",
      "The median percentage of mine in an observation is 3.26%\n",
      "The median number of mine pixels in an observation is 38059\n",
      "\n",
      "The median number pixels in an observation is 1301008\n"
     ]
    }
   ],
   "source": [
    "from torch.utils.data import ConcatDataset\n",
    "import json\n",
    "from utils.rastervision_pipeline import observation_to_scene, scene_to_training_ds, scene_to_validation_ds, warn_if_nan_in_raw_raster\n",
    "from utils.data_management import observation_factory, characterize_dataset\n",
    "import random\n",
    "\n",
    "#set the seed\n",
    "random.seed(13)\n",
    "\n",
    "# get the current working directory\n",
    "root_dir = os.getcwd()\n",
    "\n",
    "# define the relative path to the dataset JSON file\n",
    "json_rel_path = '../' + DATASET_JSON_PATH\n",
    "\n",
    "# combine the root directory with the relative path\n",
    "json_abs_path = os.path.join(root_dir, json_rel_path)\n",
    "\n",
    "dataset_json = json.load(open(json_abs_path, 'r'))\n",
    "all_observations = observation_factory(dataset_json)\n",
    "\n",
    "#find the highest cluster id\n",
    "max_cluster_id = max([observation['cluster_id'] for observation in dataset_json])\n",
    "\n",
    "\n",
    "# Randomly split the data into training and validation\n",
    "val_split = random.randint(0, max_cluster_id+1)\n",
    "\n",
    "training_scenes = []\n",
    "validation_scenes = []\n",
    "\n",
    "for observation in all_observations:\n",
    "    if observation.cluster_id == val_split: \n",
    "        validation_scenes.append(observation_to_scene(config, observation))\n",
    "    else:\n",
    "        training_scenes.append(observation_to_scene(config, observation))\n",
    "\n",
    "\n",
    "training_datasets = [\n",
    "    scene_to_training_ds(config, scene) for scene in training_scenes #random window sampling happens here\n",
    "]\n",
    "validation_datasets = [\n",
    "    scene_to_validation_ds(config, scene) for scene in validation_scenes\n",
    "]\n",
    "\n",
    "train_dataset_merged = ConcatDataset(training_datasets)\n",
    "val_dataset_merged = ConcatDataset(validation_datasets)\n",
    "\n",
    "print('Validation split cluster_id:', val_split)\n",
    "print ('Training dataset size: {:4d} images | Number of observations: {:}'.format(len(train_dataset_merged), len(training_scenes)))\n",
    "print ('Testing dataset size: {:4d}  images | Number of observations: {:}'.format(len(val_dataset_merged), len(validation_scenes)))\n",
    "\n",
    "mine_percentage_aoi = characterize_dataset(training_scenes, validation_scenes)"
   ]
  },
  {
   "cell_type": "markdown",
   "metadata": {},
   "source": [
    "## Update the loss weights to account for the imbalanced dataset"
   ]
  },
  {
   "cell_type": "code",
   "execution_count": 4,
   "metadata": {},
   "outputs": [
    {
     "data": {
      "text/plain": [
       "13.880675775871904"
      ]
     },
     "execution_count": 4,
     "metadata": {},
     "output_type": "execute_result"
    }
   ],
   "source": [
    "config.mine_class_loss_weight = (100 - mine_percentage_aoi) / mine_percentage_aoi\n",
    "config.mine_class_loss_weight"
   ]
  },
  {
   "cell_type": "markdown",
   "id": "aadd6fec",
   "metadata": {},
   "source": [
    "## Visualize the datasets"
   ]
  },
  {
   "cell_type": "code",
   "execution_count": 5,
   "id": "63fb28db",
   "metadata": {},
   "outputs": [],
   "source": [
    "from utils.visualizing import visualize_dataset\n",
    "\n",
    "# print ('Training Dataset')\n",
    "# for ds in training_datasets:\n",
    "#     visualize_dataset(ds)\n",
    "\n",
    "# print(\"\\n\\n\\n Val Dataset\")\n",
    "\n",
    "# for ds in validation_datasets:\n",
    "#     visualize_dataset(ds)"
   ]
  },
  {
   "cell_type": "markdown",
   "id": "3f17bdfc-7fe5-49d4-a98d-79ad2a47f1a3",
   "metadata": {
    "tags": []
   },
   "source": [
    "# Train"
   ]
  },
  {
   "cell_type": "code",
   "execution_count": 6,
   "id": "d3a94b65-7753-4ee8-abb9-7d62f3d272e8",
   "metadata": {
    "tags": []
   },
   "outputs": [
    {
     "name": "stdout",
     "output_type": "stream",
     "text": [
      "SatMae: Loading encoder weights from /data/sand_mining/checkpoints/satmae_orig/pretrain-vit-large-e199.pth\n",
      "Position interpolate from 12x12 to 20x20\n",
      "Warning! Missing keys:\n",
      "['channel_cls_embed', 'head.weight', 'head.bias']\n",
      "SatMaePretrained: Freezing encoder weights\n",
      "Number of parameters loaded: 298\n"
     ]
    },
    {
     "name": "stderr",
     "output_type": "stream",
     "text": [
      "2023-12-14 19:31:32:rastervision: INFO - train_ds: 3088 items\n",
      "2023-12-14 19:31:32:rastervision: INFO - valid_ds: 378 items\n"
     ]
    }
   ],
   "source": [
    "from models.model_factory import model_factory\n",
    "from ml.optimizer_factory import optimizer_factory\n",
    "from ml.learner import BinarySegmentationLearner\n",
    "\n",
    "_, _, n_channels = training_datasets[0].scene.raster_source.shape\n",
    "model = model_factory(\n",
    "    config,\n",
    "    n_channels=n_channels,\n",
    ")\n",
    "\n",
    "optimizer = optimizer_factory(config, model)\n",
    "\n",
    "learner = BinarySegmentationLearner(\n",
    "    config=config,\n",
    "    model=model,\n",
    "    optimizer=optimizer,\n",
    "    train_ds=train_dataset_merged,  # for development and debugging, use training_datasets[0] or similar to speed up\n",
    "    valid_ds=val_dataset_merged,  # for development and debugging, use training_datasets[1] or similar to speed up\n",
    "    output_dir=expanduser(\"~/sandmining-watch/out/OUTPUT_DIR\"),\n",
    ")\n",
    "\n",
    "learner.log_data_stats()"
   ]
  },
  {
   "cell_type": "markdown",
   "id": "25f30020",
   "metadata": {},
   "source": [
    "#### Check GPU Activity\n",
    "\n",
    "You can continuously monitor your GPU activity by using the command in the terminal\n",
    "\n",
    "\n",
    "`watch -d -n 0.5 nvidia-smi`"
   ]
  },
  {
   "cell_type": "code",
   "execution_count": 7,
   "id": "ad755047",
   "metadata": {},
   "outputs": [
    {
     "name": "stderr",
     "output_type": "stream",
     "text": [
      "Failed to detect the name of this notebook, you can set it manually with the WANDB_NOTEBOOK_NAME environment variable to enable code saving.\n",
      "\u001b[34m\u001b[1mwandb\u001b[0m: Currently logged in as: \u001b[33mandoshah\u001b[0m (\u001b[33msandmining-watch\u001b[0m). Use \u001b[1m`wandb login --relogin`\u001b[0m to force relogin\n"
     ]
    },
    {
     "data": {
      "text/html": [
       "wandb version 0.16.1 is available!  To upgrade, please run:\n",
       " $ pip install wandb --upgrade"
      ],
      "text/plain": [
       "<IPython.core.display.HTML object>"
      ]
     },
     "metadata": {},
     "output_type": "display_data"
    },
    {
     "data": {
      "text/html": [
       "Tracking run with wandb version 0.15.8"
      ],
      "text/plain": [
       "<IPython.core.display.HTML object>"
      ]
     },
     "metadata": {},
     "output_type": "display_data"
    },
    {
     "data": {
      "text/html": [
       "Run data is saved locally in <code>/home/ando/sandmining-watch/train_eval/wandb/run-20231214_193134-8g1rg1h3</code>"
      ],
      "text/plain": [
       "<IPython.core.display.HTML object>"
      ]
     },
     "metadata": {},
     "output_type": "display_data"
    },
    {
     "data": {
      "text/html": [
       "Syncing run <strong><a href='https://wandb.ai/sandmining-watch/sandmine_detector/runs/8g1rg1h3' target=\"_blank\">copper-totem-18</a></strong> to <a href='https://wandb.ai/sandmining-watch/sandmine_detector' target=\"_blank\">Weights & Biases</a> (<a href='https://wandb.me/run' target=\"_blank\">docs</a>)<br/>"
      ],
      "text/plain": [
       "<IPython.core.display.HTML object>"
      ]
     },
     "metadata": {},
     "output_type": "display_data"
    },
    {
     "data": {
      "text/html": [
       " View project at <a href='https://wandb.ai/sandmining-watch/sandmine_detector' target=\"_blank\">https://wandb.ai/sandmining-watch/sandmine_detector</a>"
      ],
      "text/plain": [
       "<IPython.core.display.HTML object>"
      ]
     },
     "metadata": {},
     "output_type": "display_data"
    },
    {
     "data": {
      "text/html": [
       " View run at <a href='https://wandb.ai/sandmining-watch/sandmine_detector/runs/8g1rg1h3' target=\"_blank\">https://wandb.ai/sandmining-watch/sandmine_detector/runs/8g1rg1h3</a>"
      ],
      "text/plain": [
       "<IPython.core.display.HTML object>"
      ]
     },
     "metadata": {},
     "output_type": "display_data"
    },
    {
     "name": "stderr",
     "output_type": "stream",
     "text": [
      "\u001b[34m\u001b[1mwandb\u001b[0m: logging graph, to disable use `wandb.watch(log_graph=False)`\n"
     ]
    }
   ],
   "source": [
    "# Run this cell if you want to log the run to W&B. You might need to authenticate to W&B.\n",
    "learner.initialize_wandb_run()"
   ]
  },
  {
   "cell_type": "code",
   "execution_count": 8,
   "id": "144a710a-38ad-4d7b-9b4c-b19253b97dfb",
   "metadata": {
    "tags": []
   },
   "outputs": [
    {
     "name": "stderr",
     "output_type": "stream",
     "text": [
      "2023-12-14 19:32:09:rastervision: INFO - epoch: 0\n"
     ]
    },
    {
     "data": {
      "application/vnd.jupyter.widget-view+json": {
       "model_id": "fadfa23bdae84b739ba94e5aae575f7c",
       "version_major": 2,
       "version_minor": 0
      },
      "text/plain": [
       "Training:   0%|          | 0/25 [00:00<?, ?it/s]"
      ]
     },
     "metadata": {},
     "output_type": "display_data"
    },
    {
     "data": {
      "application/vnd.jupyter.widget-view+json": {
       "model_id": "47530c23150e4c0aa47b6333a51f2e8b",
       "version_major": 2,
       "version_minor": 0
      },
      "text/plain": [
       "Validating:   0%|          | 0/3 [00:00<?, ?it/s]"
      ]
     },
     "metadata": {},
     "output_type": "display_data"
    },
    {
     "name": "stderr",
     "output_type": "stream",
     "text": [
      "2023-12-14 19:38:04:rastervision: INFO - metrics:\n",
      "{'avg_f1': 0.8204631805419922,\n",
      " 'avg_precision': 0.9686272144317627,\n",
      " 'avg_recall': 0.7116127610206604,\n",
      " 'epoch': 0,\n",
      " 'other_f1': 0.825176477432251,\n",
      " 'other_precision': 0.9978607892990112,\n",
      " 'other_recall': 0.7034425735473633,\n",
      " 'sandmine_average_precision': 0.5013793910147574,\n",
      " 'sandmine_best_f1_score': 0.4771922480407363,\n",
      " 'sandmine_best_threshold': 0.9330304,\n",
      " 'sandmine_f1': 0.17699861526489258,\n",
      " 'sandmine_precision': 0.09753743559122086,\n",
      " 'sandmine_recall': 0.9550645351409912,\n",
      " 'train_bce_loss': 0.00655955107100887,\n",
      " 'train_dice_loss': 0.006987795928599303,\n",
      " 'train_time': datetime.timedelta(seconds=304, microseconds=745808),\n",
      " 'val_bce_loss': 0.004798379840043486,\n",
      " 'val_dice_loss': 0.007163987588630152,\n",
      " 'valid_time': datetime.timedelta(seconds=49, microseconds=747396)}\n"
     ]
    },
    {
     "name": "stdout",
     "output_type": "stream",
     "text": [
      "Best Threshold=0.933030, Best F1 Score=0.477\n"
     ]
    },
    {
     "name": "stderr",
     "output_type": "stream",
     "text": [
      "2023-12-14 19:38:05:rastervision: INFO - epoch: 1\n"
     ]
    },
    {
     "data": {
      "application/vnd.jupyter.widget-view+json": {
       "model_id": "6ccb1c3535bc4d02857c9a0087b24ad0",
       "version_major": 2,
       "version_minor": 0
      },
      "text/plain": [
       "Training:   0%|          | 0/25 [00:00<?, ?it/s]"
      ]
     },
     "metadata": {},
     "output_type": "display_data"
    },
    {
     "data": {
      "application/vnd.jupyter.widget-view+json": {
       "model_id": "8d8344ea20e844a98794084d1bd6bf3c",
       "version_major": 2,
       "version_minor": 0
      },
      "text/plain": [
       "Validating:   0%|          | 0/3 [00:00<?, ?it/s]"
      ]
     },
     "metadata": {},
     "output_type": "display_data"
    },
    {
     "name": "stderr",
     "output_type": "stream",
     "text": [
      "2023-12-14 19:43:50:rastervision: INFO - metrics:\n",
      "{'avg_f1': 0.8901330232620239,\n",
      " 'avg_precision': 0.9666154384613037,\n",
      " 'avg_recall': 0.8248664736747742,\n",
      " 'epoch': 1,\n",
      " 'other_f1': 0.9009990692138672,\n",
      " 'other_precision': 0.9943335056304932,\n",
      " 'other_recall': 0.8236830234527588,\n",
      " 'sandmine_average_precision': 0.49041431421221543,\n",
      " 'sandmine_best_f1_score': 0.46826988012831333,\n",
      " 'sandmine_best_threshold': 0.8784014,\n",
      " 'sandmine_f1': 0.2418147772550583,\n",
      " 'sandmine_precision': 0.14068302512168884,\n",
      " 'sandmine_recall': 0.8601299524307251,\n",
      " 'train_bce_loss': 0.005111728925161411,\n",
      " 'train_dice_loss': 0.006790382256779646,\n",
      " 'train_time': datetime.timedelta(seconds=293, microseconds=861089),\n",
      " 'val_bce_loss': 0.003786371183143091,\n",
      " 'val_dice_loss': 0.007133331248369166,\n",
      " 'valid_time': datetime.timedelta(seconds=50, microseconds=329964)}\n"
     ]
    },
    {
     "name": "stdout",
     "output_type": "stream",
     "text": [
      "Best Threshold=0.878401, Best F1 Score=0.468\n"
     ]
    },
    {
     "name": "stderr",
     "output_type": "stream",
     "text": [
      "2023-12-14 19:43:51:rastervision: INFO - epoch: 2\n"
     ]
    },
    {
     "data": {
      "application/vnd.jupyter.widget-view+json": {
       "model_id": "0ac4dac9c25e49cf8cb0c8d07d7e091d",
       "version_major": 2,
       "version_minor": 0
      },
      "text/plain": [
       "Training:   0%|          | 0/25 [00:00<?, ?it/s]"
      ]
     },
     "metadata": {},
     "output_type": "display_data"
    },
    {
     "data": {
      "application/vnd.jupyter.widget-view+json": {
       "model_id": "b844915cd7f44cd6af3603c0cc79ec8d",
       "version_major": 2,
       "version_minor": 0
      },
      "text/plain": [
       "Validating:   0%|          | 0/3 [00:00<?, ?it/s]"
      ]
     },
     "metadata": {},
     "output_type": "display_data"
    },
    {
     "name": "stderr",
     "output_type": "stream",
     "text": [
      "2023-12-14 19:49:35:rastervision: INFO - metrics:\n",
      "{'avg_f1': 0.8795775175094604,\n",
      " 'avg_precision': 0.9698816537857056,\n",
      " 'avg_recall': 0.8046572208404541,\n",
      " 'epoch': 2,\n",
      " 'other_f1': 0.8879328370094299,\n",
      " 'other_precision': 0.9978275299072266,\n",
      " 'other_recall': 0.7998429536819458,\n",
      " 'sandmine_average_precision': 0.5768421980573013,\n",
      " 'sandmine_best_f1_score': 0.5506183812246884,\n",
      " 'sandmine_best_threshold': 0.9315165,\n",
      " 'sandmine_f1': 0.23965436220169067,\n",
      " 'sandmine_precision': 0.13716250658035278,\n",
      " 'sandmine_recall': 0.9481104612350464,\n",
      " 'train_bce_loss': 0.0047512233566126055,\n",
      " 'train_dice_loss': 0.006697689313345005,\n",
      " 'train_time': datetime.timedelta(seconds=293, microseconds=628280),\n",
      " 'val_bce_loss': 0.003648998876097341,\n",
      " 'val_dice_loss': 0.007114226225191954,\n",
      " 'valid_time': datetime.timedelta(seconds=49, microseconds=936960)}\n"
     ]
    },
    {
     "name": "stdout",
     "output_type": "stream",
     "text": [
      "Best Threshold=0.931517, Best F1 Score=0.551\n"
     ]
    },
    {
     "name": "stderr",
     "output_type": "stream",
     "text": [
      "2023-12-14 19:49:37:rastervision: INFO - epoch: 3\n"
     ]
    },
    {
     "data": {
      "application/vnd.jupyter.widget-view+json": {
       "model_id": "5f41e2c9976b4d0aa5ad0d15b2a0daed",
       "version_major": 2,
       "version_minor": 0
      },
      "text/plain": [
       "Training:   0%|          | 0/25 [00:00<?, ?it/s]"
      ]
     },
     "metadata": {},
     "output_type": "display_data"
    },
    {
     "data": {
      "application/vnd.jupyter.widget-view+json": {
       "model_id": "84fb42c6839443f2afc5591b6ef2d448",
       "version_major": 2,
       "version_minor": 0
      },
      "text/plain": [
       "Validating:   0%|          | 0/3 [00:00<?, ?it/s]"
      ]
     },
     "metadata": {},
     "output_type": "display_data"
    },
    {
     "name": "stderr",
     "output_type": "stream",
     "text": [
      "2023-12-14 19:55:21:rastervision: INFO - metrics:\n",
      "{'avg_f1': 0.9125639200210571,\n",
      " 'avg_precision': 0.969670832157135,\n",
      " 'avg_recall': 0.8618093729019165,\n",
      " 'epoch': 3,\n",
      " 'other_f1': 0.923362672328949,\n",
      " 'other_precision': 0.9962264895439148,\n",
      " 'other_recall': 0.860430896282196,\n",
      " 'sandmine_average_precision': 0.5583078623673707,\n",
      " 'sandmine_best_f1_score': 0.5308701884193752,\n",
      " 'sandmine_best_threshold': 0.890999,\n",
      " 'sandmine_f1': 0.29789769649505615,\n",
      " 'sandmine_precision': 0.17837540805339813,\n",
      " 'sandmine_recall': 0.902885377407074,\n",
      " 'train_bce_loss': 0.00458484486594719,\n",
      " 'train_dice_loss': 0.00664906427650254,\n",
      " 'train_time': datetime.timedelta(seconds=293, microseconds=708071),\n",
      " 'val_bce_loss': 0.0031500821391110697,\n",
      " 'val_dice_loss': 0.007060004920555801,\n",
      " 'valid_time': datetime.timedelta(seconds=50, microseconds=460261)}\n"
     ]
    },
    {
     "name": "stdout",
     "output_type": "stream",
     "text": [
      "Best Threshold=0.890999, Best F1 Score=0.531\n"
     ]
    },
    {
     "name": "stderr",
     "output_type": "stream",
     "text": [
      "2023-12-14 19:55:23:rastervision: INFO - epoch: 4\n"
     ]
    },
    {
     "data": {
      "application/vnd.jupyter.widget-view+json": {
       "model_id": "dab86de2d99e4930a768102c26a83515",
       "version_major": 2,
       "version_minor": 0
      },
      "text/plain": [
       "Training:   0%|          | 0/25 [00:00<?, ?it/s]"
      ]
     },
     "metadata": {},
     "output_type": "display_data"
    },
    {
     "data": {
      "application/vnd.jupyter.widget-view+json": {
       "model_id": "677487e922d74023bb040ca7a46db24e",
       "version_major": 2,
       "version_minor": 0
      },
      "text/plain": [
       "Validating:   0%|          | 0/3 [00:00<?, ?it/s]"
      ]
     },
     "metadata": {},
     "output_type": "display_data"
    },
    {
     "name": "stderr",
     "output_type": "stream",
     "text": [
      "2023-12-14 20:01:05:rastervision: INFO - metrics:\n",
      "{'avg_f1': 0.9438287019729614,\n",
      " 'avg_precision': 0.9721353054046631,\n",
      " 'avg_recall': 0.9171238541603088,\n",
      " 'epoch': 4,\n",
      " 'other_f1': 0.9554343223571777,\n",
      " 'other_precision': 0.9958197474479675,\n",
      " 'other_recall': 0.9181969165802002,\n",
      " 'sandmine_average_precision': 0.6108049292307441,\n",
      " 'sandmine_best_f1_score': 0.5666904970500573,\n",
      " 'sandmine_best_threshold': 0.85362077,\n",
      " 'sandmine_f1': 0.40953636169433594,\n",
      " 'sandmine_precision': 0.2663954794406891,\n",
      " 'sandmine_recall': 0.8851485848426819,\n",
      " 'train_bce_loss': 0.004192925487775259,\n",
      " 'train_dice_loss': 0.006677180374224569,\n",
      " 'train_time': datetime.timedelta(seconds=292, microseconds=977485),\n",
      " 'val_bce_loss': 0.0024718200718915023,\n",
      " 'val_dice_loss': 0.006932584066239614,\n",
      " 'valid_time': datetime.timedelta(seconds=49, microseconds=745515)}\n"
     ]
    },
    {
     "name": "stdout",
     "output_type": "stream",
     "text": [
      "Best Threshold=0.853621, Best F1 Score=0.567\n"
     ]
    },
    {
     "name": "stderr",
     "output_type": "stream",
     "text": [
      "2023-12-14 20:01:07:rastervision: INFO - epoch: 5\n"
     ]
    },
    {
     "data": {
      "application/vnd.jupyter.widget-view+json": {
       "model_id": "eb7c56bb333144b3b4045490533caa4d",
       "version_major": 2,
       "version_minor": 0
      },
      "text/plain": [
       "Training:   0%|          | 0/25 [00:00<?, ?it/s]"
      ]
     },
     "metadata": {},
     "output_type": "display_data"
    },
    {
     "data": {
      "application/vnd.jupyter.widget-view+json": {
       "model_id": "cf51d4cf77bd4bc7b6663df6d50eca68",
       "version_major": 2,
       "version_minor": 0
      },
      "text/plain": [
       "Validating:   0%|          | 0/3 [00:00<?, ?it/s]"
      ]
     },
     "metadata": {},
     "output_type": "display_data"
    },
    {
     "name": "stderr",
     "output_type": "stream",
     "text": [
      "2023-12-14 20:06:50:rastervision: INFO - metrics:\n",
      "{'avg_f1': 0.9401051998138428,\n",
      " 'avg_precision': 0.9718375205993652,\n",
      " 'avg_recall': 0.9103795289993286,\n",
      " 'epoch': 5,\n",
      " 'other_f1': 0.951621949672699,\n",
      " 'other_precision': 0.9960092306137085,\n",
      " 'other_recall': 0.9110221862792969,\n",
      " 'sandmine_average_precision': 0.6168142004742855,\n",
      " 'sandmine_best_f1_score': 0.5714325333300464,\n",
      " 'sandmine_best_threshold': 0.8663077,\n",
      " 'sandmine_f1': 0.39239150285720825,\n",
      " 'sandmine_precision': 0.25157827138900757,\n",
      " 'sandmine_recall': 0.891230583190918,\n",
      " 'train_bce_loss': 0.004220556101033107,\n",
      " 'train_dice_loss': 0.006653916032820785,\n",
      " 'train_time': datetime.timedelta(seconds=293, microseconds=354188),\n",
      " 'val_bce_loss': 0.0025109021121231968,\n",
      " 'val_dice_loss': 0.006919324082672281,\n",
      " 'valid_time': datetime.timedelta(seconds=49, microseconds=954813)}\n"
     ]
    },
    {
     "name": "stdout",
     "output_type": "stream",
     "text": [
      "Best Threshold=0.866308, Best F1 Score=0.571\n"
     ]
    },
    {
     "name": "stderr",
     "output_type": "stream",
     "text": [
      "2023-12-14 20:06:52:rastervision: INFO - epoch: 6\n"
     ]
    },
    {
     "data": {
      "application/vnd.jupyter.widget-view+json": {
       "model_id": "84bf9acdf63a43acad29396a9c6b8e7c",
       "version_major": 2,
       "version_minor": 0
      },
      "text/plain": [
       "Training:   0%|          | 0/25 [00:00<?, ?it/s]"
      ]
     },
     "metadata": {},
     "output_type": "display_data"
    },
    {
     "data": {
      "application/vnd.jupyter.widget-view+json": {
       "model_id": "1109d7e5d7774dcb8fba3de478865dc5",
       "version_major": 2,
       "version_minor": 0
      },
      "text/plain": [
       "Validating:   0%|          | 0/3 [00:00<?, ?it/s]"
      ]
     },
     "metadata": {},
     "output_type": "display_data"
    },
    {
     "name": "stderr",
     "output_type": "stream",
     "text": [
      "2023-12-14 20:12:35:rastervision: INFO - metrics:\n",
      "{'avg_f1': 0.9143691658973694,\n",
      " 'avg_precision': 0.9710730314254761,\n",
      " 'avg_recall': 0.8639222383499146,\n",
      " 'epoch': 6,\n",
      " 'other_f1': 0.9245363473892212,\n",
      " 'other_precision': 0.997463047504425,\n",
      " 'other_recall': 0.8615468144416809,\n",
      " 'sandmine_average_precision': 0.6035579457022268,\n",
      " 'sandmine_best_f1_score': 0.5621503125213769,\n",
      " 'sandmine_best_threshold': 0.91928077,\n",
      " 'sandmine_f1': 0.3084692358970642,\n",
      " 'sandmine_precision': 0.18471406400203705,\n",
      " 'sandmine_recall': 0.9347052574157715,\n",
      " 'train_bce_loss': 0.003980059080173314,\n",
      " 'train_dice_loss': 0.006663857346371665,\n",
      " 'train_time': datetime.timedelta(seconds=293, microseconds=375008),\n",
      " 'val_bce_loss': 0.002944075872027685,\n",
      " 'val_dice_loss': 0.006986698776325851,\n",
      " 'valid_time': datetime.timedelta(seconds=49, microseconds=889271)}\n"
     ]
    },
    {
     "name": "stdout",
     "output_type": "stream",
     "text": [
      "Best Threshold=0.919281, Best F1 Score=0.562\n"
     ]
    },
    {
     "name": "stderr",
     "output_type": "stream",
     "text": [
      "2023-12-14 20:12:37:rastervision: INFO - epoch: 7\n"
     ]
    },
    {
     "data": {
      "application/vnd.jupyter.widget-view+json": {
       "model_id": "48bfed3076a8472faa53a6cfe5bf0a6a",
       "version_major": 2,
       "version_minor": 0
      },
      "text/plain": [
       "Training:   0%|          | 0/25 [00:00<?, ?it/s]"
      ]
     },
     "metadata": {},
     "output_type": "display_data"
    },
    {
     "data": {
      "application/vnd.jupyter.widget-view+json": {
       "model_id": "53b49f562db844349b5a9d6386018540",
       "version_major": 2,
       "version_minor": 0
      },
      "text/plain": [
       "Validating:   0%|          | 0/3 [00:00<?, ?it/s]"
      ]
     },
     "metadata": {},
     "output_type": "display_data"
    },
    {
     "name": "stderr",
     "output_type": "stream",
     "text": [
      "2023-12-14 20:18:20:rastervision: INFO - metrics:\n",
      "{'avg_f1': 0.9276116490364075,\n",
      " 'avg_precision': 0.9718775153160095,\n",
      " 'avg_recall': 0.8872023820877075,\n",
      " 'epoch': 7,\n",
      " 'other_f1': 0.9382575154304504,\n",
      " 'other_precision': 0.9972985982894897,\n",
      " 'other_recall': 0.8858163952827454,\n",
      " 'sandmine_average_precision': 0.5689367492751395,\n",
      " 'sandmine_best_f1_score': 0.5353372460724328,\n",
      " 'sandmine_best_threshold': 0.91164637,\n",
      " 'sandmine_f1': 0.3483470678329468,\n",
      " 'sandmine_precision': 0.21438996493816376,\n",
      " 'sandmine_recall': 0.9285023212432861,\n",
      " 'train_bce_loss': 0.00425520153243307,\n",
      " 'train_dice_loss': 0.006613963626209318,\n",
      " 'train_time': datetime.timedelta(seconds=293, microseconds=281918),\n",
      " 'val_bce_loss': 0.0028171236552889385,\n",
      " 'val_dice_loss': 0.006951462654840378,\n",
      " 'valid_time': datetime.timedelta(seconds=50, microseconds=21296)}\n"
     ]
    },
    {
     "name": "stdout",
     "output_type": "stream",
     "text": [
      "Best Threshold=0.911646, Best F1 Score=0.535\n"
     ]
    },
    {
     "name": "stderr",
     "output_type": "stream",
     "text": [
      "2023-12-14 20:18:22:rastervision: INFO - epoch: 8\n"
     ]
    },
    {
     "data": {
      "application/vnd.jupyter.widget-view+json": {
       "model_id": "9be3cbc986044d2da1455159bf33a2a0",
       "version_major": 2,
       "version_minor": 0
      },
      "text/plain": [
       "Training:   0%|          | 0/25 [00:00<?, ?it/s]"
      ]
     },
     "metadata": {},
     "output_type": "display_data"
    },
    {
     "data": {
      "application/vnd.jupyter.widget-view+json": {
       "model_id": "c61556db946442a39804556ad4f6a4e1",
       "version_major": 2,
       "version_minor": 0
      },
      "text/plain": [
       "Validating:   0%|          | 0/3 [00:00<?, ?it/s]"
      ]
     },
     "metadata": {},
     "output_type": "display_data"
    },
    {
     "name": "stderr",
     "output_type": "stream",
     "text": [
      "2023-12-14 20:24:06:rastervision: INFO - metrics:\n",
      "{'avg_f1': 0.9115787744522095,\n",
      " 'avg_precision': 0.9709085822105408,\n",
      " 'avg_recall': 0.8590824604034424,\n",
      " 'epoch': 8,\n",
      " 'other_f1': 0.9216405749320984,\n",
      " 'other_precision': 0.9974682927131653,\n",
      " 'other_recall': 0.8565272688865662,\n",
      " 'sandmine_average_precision': 0.6131489023839866,\n",
      " 'sandmine_best_f1_score': 0.5675310512550787,\n",
      " 'sandmine_best_threshold': 0.9126908,\n",
      " 'sandmine_f1': 0.30118048191070557,\n",
      " 'sandmine_precision': 0.1794922649860382,\n",
      " 'sandmine_recall': 0.9352208375930786,\n",
      " 'train_bce_loss': 0.00411987984118684,\n",
      " 'train_dice_loss': 0.0065781668677848855,\n",
      " 'train_time': datetime.timedelta(seconds=293, microseconds=485475),\n",
      " 'val_bce_loss': 0.0029460929688953216,\n",
      " 'val_dice_loss': 0.006983007703508649,\n",
      " 'valid_time': datetime.timedelta(seconds=50, microseconds=212464)}\n"
     ]
    },
    {
     "name": "stdout",
     "output_type": "stream",
     "text": [
      "Best Threshold=0.912691, Best F1 Score=0.568\n"
     ]
    },
    {
     "name": "stderr",
     "output_type": "stream",
     "text": [
      "2023-12-14 20:24:07:rastervision: INFO - epoch: 9\n"
     ]
    },
    {
     "data": {
      "application/vnd.jupyter.widget-view+json": {
       "model_id": "a91c27727122418594c3cc812f7807e5",
       "version_major": 2,
       "version_minor": 0
      },
      "text/plain": [
       "Training:   0%|          | 0/25 [00:00<?, ?it/s]"
      ]
     },
     "metadata": {},
     "output_type": "display_data"
    },
    {
     "data": {
      "application/vnd.jupyter.widget-view+json": {
       "model_id": "c91bcc3d29d6437fbee47772f191e715",
       "version_major": 2,
       "version_minor": 0
      },
      "text/plain": [
       "Validating:   0%|          | 0/3 [00:00<?, ?it/s]"
      ]
     },
     "metadata": {},
     "output_type": "display_data"
    },
    {
     "name": "stderr",
     "output_type": "stream",
     "text": [
      "2023-12-14 20:29:51:rastervision: INFO - metrics:\n",
      "{'avg_f1': 0.9395949840545654,\n",
      " 'avg_precision': 0.9726794958114624,\n",
      " 'avg_recall': 0.908687174320221,\n",
      " 'epoch': 9,\n",
      " 'other_f1': 0.9506212472915649,\n",
      " 'other_precision': 0.996889054775238,\n",
      " 'other_recall': 0.9084577560424805,\n",
      " 'sandmine_average_precision': 0.6183990547284889,\n",
      " 'sandmine_best_f1_score': 0.5779651771720689,\n",
      " 'sandmine_best_threshold': 0.88496035,\n",
      " 'sandmine_f1': 0.394344687461853,\n",
      " 'sandmine_precision': 0.25129199028015137,\n",
      " 'sandmine_recall': 0.9155235886573792,\n",
      " 'train_bce_loss': 0.004012223970087081,\n",
      " 'train_dice_loss': 0.006631786959158942,\n",
      " 'train_time': datetime.timedelta(seconds=293, microseconds=525002),\n",
      " 'val_bce_loss': 0.002477180074762415,\n",
      " 'val_dice_loss': 0.006892104628224852,\n",
      " 'valid_time': datetime.timedelta(seconds=50, microseconds=483990)}\n"
     ]
    },
    {
     "name": "stdout",
     "output_type": "stream",
     "text": [
      "Best Threshold=0.884960, Best F1 Score=0.578\n"
     ]
    },
    {
     "name": "stderr",
     "output_type": "stream",
     "text": [
      "2023-12-14 20:29:53:rastervision: INFO - epoch: 10\n"
     ]
    },
    {
     "data": {
      "application/vnd.jupyter.widget-view+json": {
       "model_id": "fe6d3e7a69b74df08e257cc558a25b4e",
       "version_major": 2,
       "version_minor": 0
      },
      "text/plain": [
       "Training:   0%|          | 0/25 [00:00<?, ?it/s]"
      ]
     },
     "metadata": {},
     "output_type": "display_data"
    },
    {
     "data": {
      "application/vnd.jupyter.widget-view+json": {
       "model_id": "a77e23a6b0e2464b8ef7b9eefc82df2c",
       "version_major": 2,
       "version_minor": 0
      },
      "text/plain": [
       "Validating:   0%|          | 0/3 [00:00<?, ?it/s]"
      ]
     },
     "metadata": {},
     "output_type": "display_data"
    },
    {
     "name": "stderr",
     "output_type": "stream",
     "text": [
      "2023-12-14 20:35:37:rastervision: INFO - metrics:\n",
      "{'avg_f1': 0.9174433350563049,\n",
      " 'avg_precision': 0.9715360999107361,\n",
      " 'avg_recall': 0.8690564632415771,\n",
      " 'epoch': 10,\n",
      " 'other_f1': 0.9275737404823303,\n",
      " 'other_precision': 0.9977156519889832,\n",
      " 'other_recall': 0.8666463494300842,\n",
      " 'sandmine_average_precision': 0.6008066789183105,\n",
      " 'sandmine_best_f1_score': 0.5631610085755762,\n",
      " 'sandmine_best_threshold': 0.91787267,\n",
      " 'sandmine_f1': 0.318158358335495,\n",
      " 'sandmine_precision': 0.19144856929779053,\n",
      " 'sandmine_recall': 0.9408732056617737,\n",
      " 'train_bce_loss': 0.003996704835348179,\n",
      " 'train_dice_loss': 0.006540946392197683,\n",
      " 'train_time': datetime.timedelta(seconds=293, microseconds=579205),\n",
      " 'val_bce_loss': 0.0028461372410809554,\n",
      " 'val_dice_loss': 0.006954897017706008,\n",
      " 'valid_time': datetime.timedelta(seconds=49, microseconds=958092)}\n"
     ]
    },
    {
     "name": "stdout",
     "output_type": "stream",
     "text": [
      "Best Threshold=0.917873, Best F1 Score=0.563\n"
     ]
    },
    {
     "name": "stderr",
     "output_type": "stream",
     "text": [
      "2023-12-14 20:35:38:rastervision: INFO - epoch: 11\n"
     ]
    },
    {
     "data": {
      "application/vnd.jupyter.widget-view+json": {
       "model_id": "7c4fad19404243c4a609709b4ad94e4a",
       "version_major": 2,
       "version_minor": 0
      },
      "text/plain": [
       "Training:   0%|          | 0/25 [00:00<?, ?it/s]"
      ]
     },
     "metadata": {},
     "output_type": "display_data"
    },
    {
     "data": {
      "application/vnd.jupyter.widget-view+json": {
       "model_id": "01c67f7eaedf4b5ca128a1bf70412cc8",
       "version_major": 2,
       "version_minor": 0
      },
      "text/plain": [
       "Validating:   0%|          | 0/3 [00:00<?, ?it/s]"
      ]
     },
     "metadata": {},
     "output_type": "display_data"
    },
    {
     "name": "stderr",
     "output_type": "stream",
     "text": [
      "2023-12-14 20:41:22:rastervision: INFO - metrics:\n",
      "{'avg_f1': 0.9335530400276184,\n",
      " 'avg_precision': 0.9721680283546448,\n",
      " 'avg_recall': 0.8978884220123291,\n",
      " 'epoch': 11,\n",
      " 'other_f1': 0.9444471597671509,\n",
      " 'other_precision': 0.9970423579216003,\n",
      " 'other_recall': 0.897122859954834,\n",
      " 'sandmine_average_precision': 0.6280864466066552,\n",
      " 'sandmine_best_f1_score': 0.5818343900984557,\n",
      " 'sandmine_best_threshold': 0.8981952,\n",
      " 'sandmine_f1': 0.36930015683174133,\n",
      " 'sandmine_precision': 0.23097245395183563,\n",
      " 'sandmine_recall': 0.9207016825675964,\n",
      " 'train_bce_loss': 0.003956531922434278,\n",
      " 'train_dice_loss': 0.006492580156869839,\n",
      " 'train_time': datetime.timedelta(seconds=293, microseconds=527433),\n",
      " 'val_bce_loss': 0.0025300229037249528,\n",
      " 'val_dice_loss': 0.006881375792165282,\n",
      " 'valid_time': datetime.timedelta(seconds=50, microseconds=590446)}\n"
     ]
    },
    {
     "name": "stdout",
     "output_type": "stream",
     "text": [
      "Best Threshold=0.898195, Best F1 Score=0.582\n"
     ]
    },
    {
     "name": "stderr",
     "output_type": "stream",
     "text": [
      "2023-12-14 20:41:24:rastervision: INFO - epoch: 12\n"
     ]
    },
    {
     "data": {
      "application/vnd.jupyter.widget-view+json": {
       "model_id": "e049420d157f44daabbb8404fc755275",
       "version_major": 2,
       "version_minor": 0
      },
      "text/plain": [
       "Training:   0%|          | 0/25 [00:00<?, ?it/s]"
      ]
     },
     "metadata": {},
     "output_type": "display_data"
    },
    {
     "data": {
      "application/vnd.jupyter.widget-view+json": {
       "model_id": "6f31bdfd565e4c4abcae735d09c2a58c",
       "version_major": 2,
       "version_minor": 0
      },
      "text/plain": [
       "Validating:   0%|          | 0/3 [00:00<?, ?it/s]"
      ]
     },
     "metadata": {},
     "output_type": "display_data"
    },
    {
     "name": "stderr",
     "output_type": "stream",
     "text": [
      "2023-12-14 20:47:08:rastervision: INFO - metrics:\n",
      "{'avg_f1': 0.9216501712799072,\n",
      " 'avg_precision': 0.9708381295204163,\n",
      " 'avg_recall': 0.8772062063217163,\n",
      " 'epoch': 12,\n",
      " 'other_f1': 0.9324482679367065,\n",
      " 'other_precision': 0.9967600703239441,\n",
      " 'other_recall': 0.8759324550628662,\n",
      " 'sandmine_average_precision': 0.6195584930633994,\n",
      " 'sandmine_best_f1_score': 0.5767933923180469,\n",
      " 'sandmine_best_threshold': 0.9077087,\n",
      " 'sandmine_f1': 0.3261396288871765,\n",
      " 'sandmine_precision': 0.19842693209648132,\n",
      " 'sandmine_recall': 0.9151607751846313,\n",
      " 'train_bce_loss': 0.0037483350600603332,\n",
      " 'train_dice_loss': 0.006535762949928719,\n",
      " 'train_time': datetime.timedelta(seconds=293, microseconds=572920),\n",
      " 'val_bce_loss': 0.0027855149021855105,\n",
      " 'val_dice_loss': 0.006956023513955414,\n",
      " 'valid_time': datetime.timedelta(seconds=50, microseconds=596624)}\n"
     ]
    },
    {
     "name": "stdout",
     "output_type": "stream",
     "text": [
      "Best Threshold=0.907709, Best F1 Score=0.577\n"
     ]
    },
    {
     "name": "stderr",
     "output_type": "stream",
     "text": [
      "2023-12-14 20:47:10:rastervision: INFO - epoch: 13\n"
     ]
    },
    {
     "data": {
      "application/vnd.jupyter.widget-view+json": {
       "model_id": "a3e7a9768ced4738b03b67256318de14",
       "version_major": 2,
       "version_minor": 0
      },
      "text/plain": [
       "Training:   0%|          | 0/25 [00:00<?, ?it/s]"
      ]
     },
     "metadata": {},
     "output_type": "display_data"
    },
    {
     "data": {
      "application/vnd.jupyter.widget-view+json": {
       "model_id": "d1f5d2338bd142e187bc38a4627e4791",
       "version_major": 2,
       "version_minor": 0
      },
      "text/plain": [
       "Validating:   0%|          | 0/3 [00:00<?, ?it/s]"
      ]
     },
     "metadata": {},
     "output_type": "display_data"
    },
    {
     "name": "stderr",
     "output_type": "stream",
     "text": [
      "2023-12-14 20:52:54:rastervision: INFO - metrics:\n",
      "{'avg_f1': 0.884556770324707,\n",
      " 'avg_precision': 0.9702017903327942,\n",
      " 'avg_recall': 0.8128058910369873,\n",
      " 'epoch': 13,\n",
      " 'other_f1': 0.8930954933166504,\n",
      " 'other_precision': 0.9979740977287292,\n",
      " 'other_recall': 0.8081642985343933,\n",
      " 'sandmine_average_precision': 0.5979614438027717,\n",
      " 'sandmine_best_f1_score': 0.5656297826813561,\n",
      " 'sandmine_best_threshold': 0.9347731,\n",
      " 'sandmine_f1': 0.2480943202972412,\n",
      " 'sandmine_precision': 0.14265228807926178,\n",
      " 'sandmine_recall': 0.9511148929595947,\n",
      " 'train_bce_loss': 0.0038410332536450323,\n",
      " 'train_dice_loss': 0.006522008174441639,\n",
      " 'train_time': datetime.timedelta(seconds=293, microseconds=851129),\n",
      " 'val_bce_loss': 0.0034860807751852367,\n",
      " 'val_dice_loss': 0.0070646193923142855,\n",
      " 'valid_time': datetime.timedelta(seconds=49, microseconds=822399)}\n"
     ]
    },
    {
     "name": "stdout",
     "output_type": "stream",
     "text": [
      "Best Threshold=0.934773, Best F1 Score=0.566\n"
     ]
    },
    {
     "name": "stderr",
     "output_type": "stream",
     "text": [
      "2023-12-14 20:52:55:rastervision: INFO - epoch: 14\n"
     ]
    },
    {
     "data": {
      "application/vnd.jupyter.widget-view+json": {
       "model_id": "8cc434f9407d49ce8b7daa4277e28e14",
       "version_major": 2,
       "version_minor": 0
      },
      "text/plain": [
       "Training:   0%|          | 0/25 [00:00<?, ?it/s]"
      ]
     },
     "metadata": {},
     "output_type": "display_data"
    },
    {
     "data": {
      "application/vnd.jupyter.widget-view+json": {
       "model_id": "48179c42fc224a7d8340861c388a165d",
       "version_major": 2,
       "version_minor": 0
      },
      "text/plain": [
       "Validating:   0%|          | 0/3 [00:00<?, ?it/s]"
      ]
     },
     "metadata": {},
     "output_type": "display_data"
    },
    {
     "name": "stderr",
     "output_type": "stream",
     "text": [
      "2023-12-14 20:58:39:rastervision: INFO - metrics:\n",
      "{'avg_f1': 0.9283521175384521,\n",
      " 'avg_precision': 0.9721496105194092,\n",
      " 'avg_recall': 0.8883308172225952,\n",
      " 'epoch': 14,\n",
      " 'other_f1': 0.9389016032218933,\n",
      " 'other_precision': 0.9974984526634216,\n",
      " 'other_recall': 0.8868072032928467,\n",
      " 'sandmine_average_precision': 0.6132211509306543,\n",
      " 'sandmine_best_f1_score': 0.5754629063911043,\n",
      " 'sandmine_best_threshold': 0.89754266,\n",
      " 'sandmine_f1': 0.3519127368927002,\n",
      " 'sandmine_precision': 0.21681365370750427,\n",
      " 'sandmine_recall': 0.9337313771247864,\n",
      " 'train_bce_loss': 0.0035913049248216065,\n",
      " 'train_dice_loss': 0.00656010511625616,\n",
      " 'train_time': datetime.timedelta(seconds=293, microseconds=152947),\n",
      " 'val_bce_loss': 0.002635369540522338,\n",
      " 'val_dice_loss': 0.0069332753539716125,\n",
      " 'valid_time': datetime.timedelta(seconds=50, microseconds=286480)}\n"
     ]
    },
    {
     "name": "stdout",
     "output_type": "stream",
     "text": [
      "Best Threshold=0.897543, Best F1 Score=0.575\n"
     ]
    },
    {
     "name": "stderr",
     "output_type": "stream",
     "text": [
      "2023-12-14 20:58:40:rastervision: INFO - epoch: 15\n"
     ]
    },
    {
     "data": {
      "application/vnd.jupyter.widget-view+json": {
       "model_id": "0761332f76684015ba609a1397b7ba97",
       "version_major": 2,
       "version_minor": 0
      },
      "text/plain": [
       "Training:   0%|          | 0/25 [00:00<?, ?it/s]"
      ]
     },
     "metadata": {},
     "output_type": "display_data"
    },
    {
     "data": {
      "application/vnd.jupyter.widget-view+json": {
       "model_id": "81cc98fa771b4b1fbf6024480a06b224",
       "version_major": 2,
       "version_minor": 0
      },
      "text/plain": [
       "Validating:   0%|          | 0/3 [00:00<?, ?it/s]"
      ]
     },
     "metadata": {},
     "output_type": "display_data"
    },
    {
     "name": "stderr",
     "output_type": "stream",
     "text": [
      "2023-12-14 21:04:25:rastervision: INFO - metrics:\n",
      "{'avg_f1': 0.8549500703811646,\n",
      " 'avg_precision': 0.9704095125198364,\n",
      " 'avg_recall': 0.7640440464019775,\n",
      " 'epoch': 15,\n",
      " 'other_f1': 0.8612504005432129,\n",
      " 'other_precision': 0.9989873766899109,\n",
      " 'other_recall': 0.7568926811218262,\n",
      " 'sandmine_average_precision': 0.5955841093884667,\n",
      " 'sandmine_best_f1_score': 0.5655978292673162,\n",
      " 'sandmine_best_threshold': 0.9678439,\n",
      " 'sandmine_f1': 0.21193410456180573,\n",
      " 'sandmine_precision': 0.11885660141706467,\n",
      " 'sandmine_recall': 0.9771391749382019,\n",
      " 'train_bce_loss': 0.0038382392473171414,\n",
      " 'train_dice_loss': 0.006488047733208059,\n",
      " 'train_time': datetime.timedelta(seconds=294, microseconds=289811),\n",
      " 'val_bce_loss': 0.004161866884382945,\n",
      " 'val_dice_loss': 0.007046774581626609,\n",
      " 'valid_time': datetime.timedelta(seconds=50, microseconds=39823)}\n"
     ]
    },
    {
     "name": "stdout",
     "output_type": "stream",
     "text": [
      "Best Threshold=0.967844, Best F1 Score=0.566\n"
     ]
    },
    {
     "name": "stderr",
     "output_type": "stream",
     "text": [
      "2023-12-14 21:04:26:rastervision: INFO - epoch: 16\n"
     ]
    },
    {
     "data": {
      "application/vnd.jupyter.widget-view+json": {
       "model_id": "097e524a4eea403181c19842c2acd423",
       "version_major": 2,
       "version_minor": 0
      },
      "text/plain": [
       "Training:   0%|          | 0/25 [00:00<?, ?it/s]"
      ]
     },
     "metadata": {},
     "output_type": "display_data"
    },
    {
     "data": {
      "application/vnd.jupyter.widget-view+json": {
       "model_id": "231977e8cac84be483eb514738e2c2dc",
       "version_major": 2,
       "version_minor": 0
      },
      "text/plain": [
       "Validating:   0%|          | 0/3 [00:00<?, ?it/s]"
      ]
     },
     "metadata": {},
     "output_type": "display_data"
    },
    {
     "name": "stderr",
     "output_type": "stream",
     "text": [
      "2023-12-14 21:10:10:rastervision: INFO - metrics:\n",
      "{'avg_f1': 0.9390910267829895,\n",
      " 'avg_precision': 0.9716988205909729,\n",
      " 'avg_recall': 0.9086006283760071,\n",
      " 'epoch': 16,\n",
      " 'other_f1': 0.9506145119667053,\n",
      " 'other_precision': 0.9959952235221863,\n",
      " 'other_recall': 0.9091890454292297,\n",
      " 'sandmine_average_precision': 0.6225316245978976,\n",
      " 'sandmine_best_f1_score': 0.5832174838750078,\n",
      " 'sandmine_best_threshold': 0.89688486,\n",
      " 'sandmine_f1': 0.38767221570014954,\n",
      " 'sandmine_precision': 0.24772408604621887,\n",
      " 'sandmine_recall': 0.8910682797431946,\n",
      " 'train_bce_loss': 0.0036337900655874934,\n",
      " 'train_dice_loss': 0.006540571469717075,\n",
      " 'train_time': datetime.timedelta(seconds=293, microseconds=411930),\n",
      " 'val_bce_loss': 0.0025026681561949394,\n",
      " 'val_dice_loss': 0.0068555811725596275,\n",
      " 'valid_time': datetime.timedelta(seconds=49, microseconds=882238)}\n"
     ]
    },
    {
     "name": "stdout",
     "output_type": "stream",
     "text": [
      "Best Threshold=0.896885, Best F1 Score=0.583\n"
     ]
    },
    {
     "name": "stderr",
     "output_type": "stream",
     "text": [
      "2023-12-14 21:10:11:rastervision: INFO - epoch: 17\n"
     ]
    },
    {
     "data": {
      "application/vnd.jupyter.widget-view+json": {
       "model_id": "b10a7e47042f466f955bdfd8bf72d6c8",
       "version_major": 2,
       "version_minor": 0
      },
      "text/plain": [
       "Training:   0%|          | 0/25 [00:00<?, ?it/s]"
      ]
     },
     "metadata": {},
     "output_type": "display_data"
    },
    {
     "data": {
      "application/vnd.jupyter.widget-view+json": {
       "model_id": "ff7d32e3233349b6bd7eba5f44509d0f",
       "version_major": 2,
       "version_minor": 0
      },
      "text/plain": [
       "Validating:   0%|          | 0/3 [00:00<?, ?it/s]"
      ]
     },
     "metadata": {},
     "output_type": "display_data"
    },
    {
     "name": "stderr",
     "output_type": "stream",
     "text": [
      "2023-12-14 21:15:55:rastervision: INFO - metrics:\n",
      "{'avg_f1': 0.9441933035850525,\n",
      " 'avg_precision': 0.9731392860412598,\n",
      " 'avg_recall': 0.9169196486473083,\n",
      " 'epoch': 17,\n",
      " 'other_f1': 0.9552792906761169,\n",
      " 'other_precision': 0.9967541098594666,\n",
      " 'other_recall': 0.9171181321144104,\n",
      " 'sandmine_average_precision': 0.6346706240851474,\n",
      " 'sandmine_best_f1_score': 0.5915720841104319,\n",
      " 'sandmine_best_threshold': 0.8831307,\n",
      " 'sandmine_f1': 0.41591963171958923,\n",
      " 'sandmine_precision': 0.2694738209247589,\n",
      " 'sandmine_recall': 0.9110074043273926,\n",
      " 'train_bce_loss': 0.003598354641019989,\n",
      " 'train_dice_loss': 0.006538135400090193,\n",
      " 'train_time': datetime.timedelta(seconds=293, microseconds=950664),\n",
      " 'val_bce_loss': 0.0023321780578169243,\n",
      " 'val_dice_loss': 0.006888791997596701,\n",
      " 'valid_time': datetime.timedelta(seconds=50, microseconds=169405)}\n"
     ]
    },
    {
     "name": "stdout",
     "output_type": "stream",
     "text": [
      "Best Threshold=0.883131, Best F1 Score=0.592\n"
     ]
    },
    {
     "name": "stderr",
     "output_type": "stream",
     "text": [
      "2023-12-14 21:15:57:rastervision: INFO - epoch: 18\n"
     ]
    },
    {
     "data": {
      "application/vnd.jupyter.widget-view+json": {
       "model_id": "887408957678414596a708b7b584ccb3",
       "version_major": 2,
       "version_minor": 0
      },
      "text/plain": [
       "Training:   0%|          | 0/25 [00:00<?, ?it/s]"
      ]
     },
     "metadata": {},
     "output_type": "display_data"
    },
    {
     "data": {
      "application/vnd.jupyter.widget-view+json": {
       "model_id": "562a7efb3c9b49cbb74631a5bda839b4",
       "version_major": 2,
       "version_minor": 0
      },
      "text/plain": [
       "Validating:   0%|          | 0/3 [00:00<?, ?it/s]"
      ]
     },
     "metadata": {},
     "output_type": "display_data"
    },
    {
     "name": "stderr",
     "output_type": "stream",
     "text": [
      "2023-12-14 21:21:40:rastervision: INFO - metrics:\n",
      "{'avg_f1': 0.9090604782104492,\n",
      " 'avg_precision': 0.9710719585418701,\n",
      " 'avg_recall': 0.8544935584068298,\n",
      " 'epoch': 18,\n",
      " 'other_f1': 0.9188586473464966,\n",
      " 'other_precision': 0.9977640509605408,\n",
      " 'other_recall': 0.8515186905860901,\n",
      " 'sandmine_average_precision': 0.6224692788593161,\n",
      " 'sandmine_best_f1_score': 0.5807385029472051,\n",
      " 'sandmine_best_threshold': 0.92819864,\n",
      " 'sandmine_f1': 0.2962339520454407,\n",
      " 'sandmine_precision': 0.1757119745016098,\n",
      " 'sandmine_recall': 0.9431391954421997,\n",
      " 'train_bce_loss': 0.003574699317853068,\n",
      " 'train_dice_loss': 0.006507170015048486,\n",
      " 'train_time': datetime.timedelta(seconds=293, microseconds=336879),\n",
      " 'val_bce_loss': 0.0029779133342561267,\n",
      " 'val_dice_loss': 0.006977829352888481,\n",
      " 'valid_time': datetime.timedelta(seconds=50, microseconds=57016)}\n"
     ]
    },
    {
     "name": "stdout",
     "output_type": "stream",
     "text": [
      "Best Threshold=0.928199, Best F1 Score=0.581\n"
     ]
    },
    {
     "name": "stderr",
     "output_type": "stream",
     "text": [
      "2023-12-14 21:21:42:rastervision: INFO - epoch: 19\n"
     ]
    },
    {
     "data": {
      "application/vnd.jupyter.widget-view+json": {
       "model_id": "9f7c051c29a844dbafcc6556ce8d8195",
       "version_major": 2,
       "version_minor": 0
      },
      "text/plain": [
       "Training:   0%|          | 0/25 [00:00<?, ?it/s]"
      ]
     },
     "metadata": {},
     "output_type": "display_data"
    },
    {
     "data": {
      "application/vnd.jupyter.widget-view+json": {
       "model_id": "688f8205e07b4d58b9d6e1e68ae1d437",
       "version_major": 2,
       "version_minor": 0
      },
      "text/plain": [
       "Validating:   0%|          | 0/3 [00:00<?, ?it/s]"
      ]
     },
     "metadata": {},
     "output_type": "display_data"
    },
    {
     "name": "stderr",
     "output_type": "stream",
     "text": [
      "2023-12-14 21:27:26:rastervision: INFO - metrics:\n",
      "{'avg_f1': 0.9155716300010681,\n",
      " 'avg_precision': 0.972156822681427,\n",
      " 'avg_recall': 0.8652113080024719,\n",
      " 'epoch': 19,\n",
      " 'other_f1': 0.9252375960350037,\n",
      " 'other_precision': 0.9984306693077087,\n",
      " 'other_recall': 0.8620428442955017,\n",
      " 'sandmine_average_precision': 0.6256295950341388,\n",
      " 'sandmine_best_f1_score': 0.5801980109722039,\n",
      " 'sandmine_best_threshold': 0.94440186,\n",
      " 'sandmine_f1': 0.3161642551422119,\n",
      " 'sandmine_precision': 0.18925943970680237,\n",
      " 'sandmine_recall': 0.9596251845359802,\n",
      " 'train_bce_loss': 0.003696306999483257,\n",
      " 'train_dice_loss': 0.006444944618897117,\n",
      " 'train_time': datetime.timedelta(seconds=293, microseconds=838684),\n",
      " 'val_bce_loss': 0.002832757417487089,\n",
      " 'val_dice_loss': 0.006922916760520329,\n",
      " 'valid_time': datetime.timedelta(seconds=49, microseconds=647871)}\n"
     ]
    },
    {
     "name": "stdout",
     "output_type": "stream",
     "text": [
      "Best Threshold=0.944402, Best F1 Score=0.580\n"
     ]
    },
    {
     "name": "stderr",
     "output_type": "stream",
     "text": [
      "2023-12-14 21:27:27:rastervision: INFO - epoch: 20\n"
     ]
    },
    {
     "data": {
      "application/vnd.jupyter.widget-view+json": {
       "model_id": "2465ccbcb36d441d8cdf2e363e3ef146",
       "version_major": 2,
       "version_minor": 0
      },
      "text/plain": [
       "Training:   0%|          | 0/25 [00:00<?, ?it/s]"
      ]
     },
     "metadata": {},
     "output_type": "display_data"
    },
    {
     "data": {
      "application/vnd.jupyter.widget-view+json": {
       "model_id": "71575e37aa824661aabf08ae6c69d9aa",
       "version_major": 2,
       "version_minor": 0
      },
      "text/plain": [
       "Validating:   0%|          | 0/3 [00:00<?, ?it/s]"
      ]
     },
     "metadata": {},
     "output_type": "display_data"
    },
    {
     "name": "stderr",
     "output_type": "stream",
     "text": [
      "2023-12-14 21:33:10:rastervision: INFO - metrics:\n",
      "{'avg_f1': 0.9384427070617676,\n",
      " 'avg_precision': 0.9725290536880493,\n",
      " 'avg_recall': 0.9066649079322815,\n",
      " 'epoch': 20,\n",
      " 'other_f1': 0.9494727253913879,\n",
      " 'other_precision': 0.996876060962677,\n",
      " 'other_recall': 0.9063729643821716,\n",
      " 'sandmine_average_precision': 0.6391006614992277,\n",
      " 'sandmine_best_f1_score': 0.5947089190743369,\n",
      " 'sandmine_best_threshold': 0.9189419,\n",
      " 'sandmine_f1': 0.38908395171165466,\n",
      " 'sandmine_precision': 0.24704669415950775,\n",
      " 'sandmine_recall': 0.9153644442558289,\n",
      " 'train_bce_loss': 0.003658541743619454,\n",
      " 'train_dice_loss': 0.006478307160688805,\n",
      " 'train_time': datetime.timedelta(seconds=293, microseconds=222627),\n",
      " 'val_bce_loss': 0.0024161969543134093,\n",
      " 'val_dice_loss': 0.006869729864534247,\n",
      " 'valid_time': datetime.timedelta(seconds=49, microseconds=925028)}\n"
     ]
    },
    {
     "name": "stdout",
     "output_type": "stream",
     "text": [
      "Best Threshold=0.918942, Best F1 Score=0.595\n"
     ]
    },
    {
     "name": "stderr",
     "output_type": "stream",
     "text": [
      "2023-12-14 21:33:12:rastervision: INFO - epoch: 21\n"
     ]
    },
    {
     "data": {
      "application/vnd.jupyter.widget-view+json": {
       "model_id": "8e2059c7befe4125b86fc3ce0c94ab28",
       "version_major": 2,
       "version_minor": 0
      },
      "text/plain": [
       "Training:   0%|          | 0/25 [00:00<?, ?it/s]"
      ]
     },
     "metadata": {},
     "output_type": "display_data"
    },
    {
     "data": {
      "application/vnd.jupyter.widget-view+json": {
       "model_id": "5dd9de890b434b6f80cc8fa284b09728",
       "version_major": 2,
       "version_minor": 0
      },
      "text/plain": [
       "Validating:   0%|          | 0/3 [00:00<?, ?it/s]"
      ]
     },
     "metadata": {},
     "output_type": "display_data"
    },
    {
     "name": "stderr",
     "output_type": "stream",
     "text": [
      "2023-12-14 21:38:56:rastervision: INFO - metrics:\n",
      "{'avg_f1': 0.9295475482940674,\n",
      " 'avg_precision': 0.9719825983047485,\n",
      " 'avg_recall': 0.8906627893447876,\n",
      " 'epoch': 21,\n",
      " 'other_f1': 0.9402691125869751,\n",
      " 'other_precision': 0.9972346425056458,\n",
      " 'other_recall': 0.889460027217865,\n",
      " 'sandmine_average_precision': 0.6434375951375395,\n",
      " 'sandmine_best_f1_score': 0.5991389958989938,\n",
      " 'sandmine_best_threshold': 0.91550666,\n",
      " 'sandmine_f1': 0.3549595773220062,\n",
      " 'sandmine_precision': 0.2195332944393158,\n",
      " 'sandmine_recall': 0.9265036582946777,\n",
      " 'train_bce_loss': 0.0035216610666383734,\n",
      " 'train_dice_loss': 0.006588100769359213,\n",
      " 'train_time': datetime.timedelta(seconds=293, microseconds=200553),\n",
      " 'val_bce_loss': 0.0025731624749602464,\n",
      " 'val_dice_loss': 0.0069072990821152135,\n",
      " 'valid_time': datetime.timedelta(seconds=50, microseconds=431617)}\n"
     ]
    },
    {
     "name": "stdout",
     "output_type": "stream",
     "text": [
      "Best Threshold=0.915507, Best F1 Score=0.599\n"
     ]
    },
    {
     "name": "stderr",
     "output_type": "stream",
     "text": [
      "2023-12-14 21:38:57:rastervision: INFO - epoch: 22\n"
     ]
    },
    {
     "data": {
      "application/vnd.jupyter.widget-view+json": {
       "model_id": "aa5b9b4777cb46c881bf079e1e941442",
       "version_major": 2,
       "version_minor": 0
      },
      "text/plain": [
       "Training:   0%|          | 0/25 [00:00<?, ?it/s]"
      ]
     },
     "metadata": {},
     "output_type": "display_data"
    },
    {
     "data": {
      "application/vnd.jupyter.widget-view+json": {
       "model_id": "e622fe0eb86a4922a401d8079dedc1c6",
       "version_major": 2,
       "version_minor": 0
      },
      "text/plain": [
       "Validating:   0%|          | 0/3 [00:00<?, ?it/s]"
      ]
     },
     "metadata": {},
     "output_type": "display_data"
    },
    {
     "name": "stderr",
     "output_type": "stream",
     "text": [
      "2023-12-14 21:44:42:rastervision: INFO - metrics:\n",
      "{'avg_f1': 0.9442263245582581,\n",
      " 'avg_precision': 0.9727100133895874,\n",
      " 'avg_recall': 0.9173634052276611,\n",
      " 'epoch': 22,\n",
      " 'other_f1': 0.955547034740448,\n",
      " 'other_precision': 0.9963281750679016,\n",
      " 'other_recall': 0.9179731607437134,\n",
      " 'sandmine_average_precision': 0.6082347476165937,\n",
      " 'sandmine_best_f1_score': 0.5788365294447593,\n",
      " 'sandmine_best_threshold': 0.86696595,\n",
      " 'sandmine_f1': 0.4140506386756897,\n",
      " 'sandmine_precision': 0.26894593238830566,\n",
      " 'sandmine_recall': 0.899193525314331,\n",
      " 'train_bce_loss': 0.0034363581726588118,\n",
      " 'train_dice_loss': 0.006590566486892305,\n",
      " 'train_time': datetime.timedelta(seconds=293, microseconds=816664),\n",
      " 'val_bce_loss': 0.0024003861127076327,\n",
      " 'val_dice_loss': 0.006879324004763649,\n",
      " 'valid_time': datetime.timedelta(seconds=50, microseconds=456152)}\n"
     ]
    },
    {
     "name": "stdout",
     "output_type": "stream",
     "text": [
      "Best Threshold=0.866966, Best F1 Score=0.579\n"
     ]
    },
    {
     "name": "stderr",
     "output_type": "stream",
     "text": [
      "2023-12-14 21:44:43:rastervision: INFO - epoch: 23\n"
     ]
    },
    {
     "data": {
      "application/vnd.jupyter.widget-view+json": {
       "model_id": "e28013741cfe4711a309efe23f6ce788",
       "version_major": 2,
       "version_minor": 0
      },
      "text/plain": [
       "Training:   0%|          | 0/25 [00:00<?, ?it/s]"
      ]
     },
     "metadata": {},
     "output_type": "display_data"
    },
    {
     "data": {
      "application/vnd.jupyter.widget-view+json": {
       "model_id": "ef854f0bdb8443df93a09c388f60c1b9",
       "version_major": 2,
       "version_minor": 0
      },
      "text/plain": [
       "Validating:   0%|          | 0/3 [00:00<?, ?it/s]"
      ]
     },
     "metadata": {},
     "output_type": "display_data"
    },
    {
     "name": "stderr",
     "output_type": "stream",
     "text": [
      "2023-12-14 21:50:27:rastervision: INFO - metrics:\n",
      "{'avg_f1': 0.9454640746116638,\n",
      " 'avg_precision': 0.9737347960472107,\n",
      " 'avg_recall': 0.9187886118888855,\n",
      " 'epoch': 23,\n",
      " 'other_f1': 0.9563122391700745,\n",
      " 'other_precision': 0.9971626400947571,\n",
      " 'other_recall': 0.9186772108078003,\n",
      " 'sandmine_average_precision': 0.6557611336056561,\n",
      " 'sandmine_best_f1_score': 0.6077953213968822,\n",
      " 'sandmine_best_threshold': 0.88450384,\n",
      " 'sandmine_f1': 0.42441314458847046,\n",
      " 'sandmine_precision': 0.2756401598453522,\n",
      " 'sandmine_recall': 0.9221084117889404,\n",
      " 'train_bce_loss': 0.0034614680962241377,\n",
      " 'train_dice_loss': 0.0064421330091249136,\n",
      " 'train_time': datetime.timedelta(seconds=293, microseconds=497217),\n",
      " 'val_bce_loss': 0.0022380875531958526,\n",
      " 'val_dice_loss': 0.006844162310242022,\n",
      " 'valid_time': datetime.timedelta(seconds=49, microseconds=920283)}\n"
     ]
    },
    {
     "name": "stdout",
     "output_type": "stream",
     "text": [
      "Best Threshold=0.884504, Best F1 Score=0.608\n"
     ]
    },
    {
     "name": "stderr",
     "output_type": "stream",
     "text": [
      "2023-12-14 21:50:29:rastervision: INFO - epoch: 24\n"
     ]
    },
    {
     "data": {
      "application/vnd.jupyter.widget-view+json": {
       "model_id": "c02a73f4c445421ea044b76e702e7d42",
       "version_major": 2,
       "version_minor": 0
      },
      "text/plain": [
       "Training:   0%|          | 0/25 [00:00<?, ?it/s]"
      ]
     },
     "metadata": {},
     "output_type": "display_data"
    },
    {
     "data": {
      "application/vnd.jupyter.widget-view+json": {
       "model_id": "5c2463234ef248c89bd9064f629a3b55",
       "version_major": 2,
       "version_minor": 0
      },
      "text/plain": [
       "Validating:   0%|          | 0/3 [00:00<?, ?it/s]"
      ]
     },
     "metadata": {},
     "output_type": "display_data"
    },
    {
     "name": "stderr",
     "output_type": "stream",
     "text": [
      "2023-12-14 21:56:12:rastervision: INFO - metrics:\n",
      "{'avg_f1': 0.9038359522819519,\n",
      " 'avg_precision': 0.9711977243423462,\n",
      " 'avg_recall': 0.845212459564209,\n",
      " 'epoch': 24,\n",
      " 'other_f1': 0.9132010340690613,\n",
      " 'other_precision': 0.9981511235237122,\n",
      " 'other_recall': 0.8415766954421997,\n",
      " 'sandmine_average_precision': 0.6267106598058589,\n",
      " 'sandmine_best_f1_score': 0.5864898691730034,\n",
      " 'sandmine_best_threshold': 0.9278361,\n",
      " 'sandmine_f1': 0.28574249148368835,\n",
      " 'sandmine_precision': 0.1680503934621811,\n",
      " 'sandmine_recall': 0.9535495638847351,\n",
      " 'train_bce_loss': 0.00344617101194945,\n",
      " 'train_dice_loss': 0.006473715441214606,\n",
      " 'train_time': datetime.timedelta(seconds=293, microseconds=130303),\n",
      " 'val_bce_loss': 0.0030433393660045807,\n",
      " 'val_dice_loss': 0.006969274667205003,\n",
      " 'valid_time': datetime.timedelta(seconds=50, microseconds=315456)}\n"
     ]
    },
    {
     "name": "stdout",
     "output_type": "stream",
     "text": [
      "Best Threshold=0.927836, Best F1 Score=0.586\n"
     ]
    },
    {
     "name": "stderr",
     "output_type": "stream",
     "text": [
      "2023-12-14 21:56:14:rastervision: INFO - epoch: 25\n"
     ]
    },
    {
     "data": {
      "application/vnd.jupyter.widget-view+json": {
       "model_id": "559630146c5344c7a89957fa1897adfb",
       "version_major": 2,
       "version_minor": 0
      },
      "text/plain": [
       "Training:   0%|          | 0/25 [00:00<?, ?it/s]"
      ]
     },
     "metadata": {},
     "output_type": "display_data"
    },
    {
     "data": {
      "application/vnd.jupyter.widget-view+json": {
       "model_id": "1a8a1a2ea75b41868119105976a80a85",
       "version_major": 2,
       "version_minor": 0
      },
      "text/plain": [
       "Validating:   0%|          | 0/3 [00:00<?, ?it/s]"
      ]
     },
     "metadata": {},
     "output_type": "display_data"
    },
    {
     "name": "stderr",
     "output_type": "stream",
     "text": [
      "2023-12-14 22:01:58:rastervision: INFO - metrics:\n",
      "{'avg_f1': 0.9384586215019226,\n",
      " 'avg_precision': 0.9728397130966187,\n",
      " 'avg_recall': 0.9064246416091919,\n",
      " 'epoch': 25,\n",
      " 'other_f1': 0.949321448802948,\n",
      " 'other_precision': 0.9971762895584106,\n",
      " 'other_recall': 0.9058493971824646,\n",
      " 'sandmine_average_precision': 0.6517737650916486,\n",
      " 'sandmine_best_f1_score': 0.6011983990499178,\n",
      " 'sandmine_best_threshold': 0.9072152,\n",
      " 'sandmine_f1': 0.3905941843986511,\n",
      " 'sandmine_precision': 0.24766916036605835,\n",
      " 'sandmine_recall': 0.9235660433769226,\n",
      " 'train_bce_loss': 0.0033766000382023154,\n",
      " 'train_dice_loss': 0.00649809466742481,\n",
      " 'train_time': datetime.timedelta(seconds=293, microseconds=587867),\n",
      " 'val_bce_loss': 0.002365175693754166,\n",
      " 'val_dice_loss': 0.006888239472000687,\n",
      " 'valid_time': datetime.timedelta(seconds=50, microseconds=498357)}\n"
     ]
    },
    {
     "name": "stdout",
     "output_type": "stream",
     "text": [
      "Best Threshold=0.907215, Best F1 Score=0.601\n"
     ]
    },
    {
     "name": "stderr",
     "output_type": "stream",
     "text": [
      "2023-12-14 22:01:59:rastervision: INFO - epoch: 26\n"
     ]
    },
    {
     "data": {
      "application/vnd.jupyter.widget-view+json": {
       "model_id": "3a6f408abb304dae8a4a68ed795b3a0d",
       "version_major": 2,
       "version_minor": 0
      },
      "text/plain": [
       "Training:   0%|          | 0/25 [00:00<?, ?it/s]"
      ]
     },
     "metadata": {},
     "output_type": "display_data"
    },
    {
     "data": {
      "application/vnd.jupyter.widget-view+json": {
       "model_id": "7a1b90936b4d44b685e9c8fcb1851577",
       "version_major": 2,
       "version_minor": 0
      },
      "text/plain": [
       "Validating:   0%|          | 0/3 [00:00<?, ?it/s]"
      ]
     },
     "metadata": {},
     "output_type": "display_data"
    },
    {
     "name": "stderr",
     "output_type": "stream",
     "text": [
      "2023-12-14 22:07:43:rastervision: INFO - metrics:\n",
      "{'avg_f1': 0.933214545249939,\n",
      " 'avg_precision': 0.973015308380127,\n",
      " 'avg_recall': 0.8965420126914978,\n",
      " 'epoch': 26,\n",
      " 'other_f1': 0.9436275362968445,\n",
      " 'other_precision': 0.997894823551178,\n",
      " 'other_recall': 0.8949580788612366,\n",
      " 'sandmine_average_precision': 0.63868221497521,\n",
      " 'sandmine_best_f1_score': 0.5875201467038201,\n",
      " 'sandmine_best_threshold': 0.9169478,\n",
      " 'sandmine_f1': 0.3720097839832306,\n",
      " 'sandmine_precision': 0.23166437447071075,\n",
      " 'sandmine_recall': 0.943740725517273,\n",
      " 'train_bce_loss': 0.003362609314794985,\n",
      " 'train_dice_loss': 0.006485074295281129,\n",
      " 'train_time': datetime.timedelta(seconds=293, microseconds=97268),\n",
      " 'val_bce_loss': 0.0024897054074302554,\n",
      " 'val_dice_loss': 0.006899204203691432,\n",
      " 'valid_time': datetime.timedelta(seconds=50, microseconds=484173)}\n"
     ]
    },
    {
     "name": "stdout",
     "output_type": "stream",
     "text": [
      "Best Threshold=0.916948, Best F1 Score=0.588\n"
     ]
    },
    {
     "name": "stderr",
     "output_type": "stream",
     "text": [
      "2023-12-14 22:07:45:rastervision: INFO - epoch: 27\n"
     ]
    },
    {
     "data": {
      "application/vnd.jupyter.widget-view+json": {
       "model_id": "a0f437140e6d45cf900a63fd2bb46997",
       "version_major": 2,
       "version_minor": 0
      },
      "text/plain": [
       "Training:   0%|          | 0/25 [00:00<?, ?it/s]"
      ]
     },
     "metadata": {},
     "output_type": "display_data"
    },
    {
     "data": {
      "application/vnd.jupyter.widget-view+json": {
       "model_id": "4f90d089661548fc83d1cf586e7a62dc",
       "version_major": 2,
       "version_minor": 0
      },
      "text/plain": [
       "Validating:   0%|          | 0/3 [00:00<?, ?it/s]"
      ]
     },
     "metadata": {},
     "output_type": "display_data"
    },
    {
     "name": "stderr",
     "output_type": "stream",
     "text": [
      "2023-12-14 22:13:28:rastervision: INFO - metrics:\n",
      "{'avg_f1': 0.9303890466690063,\n",
      " 'avg_precision': 0.97242671251297,\n",
      " 'avg_recall': 0.8918353915214539,\n",
      " 'epoch': 27,\n",
      " 'other_f1': 0.9409279227256775,\n",
      " 'other_precision': 0.9975883960723877,\n",
      " 'other_recall': 0.8903578519821167,\n",
      " 'sandmine_average_precision': 0.6507417655110137,\n",
      " 'sandmine_best_f1_score': 0.6015419811131947,\n",
      " 'sandmine_best_threshold': 0.91021353,\n",
      " 'sandmine_f1': 0.3597441613674164,\n",
      " 'sandmine_precision': 0.2226688265800476,\n",
      " 'sandmine_recall': 0.935863733291626,\n",
      " 'train_bce_loss': 0.003472268581390381,\n",
      " 'train_dice_loss': 0.006452622191275958,\n",
      " 'train_time': datetime.timedelta(seconds=293, microseconds=334305),\n",
      " 'val_bce_loss': 0.0025230493179704775,\n",
      " 'val_dice_loss': 0.006939739146560589,\n",
      " 'valid_time': datetime.timedelta(seconds=50, microseconds=68438)}\n"
     ]
    },
    {
     "name": "stdout",
     "output_type": "stream",
     "text": [
      "Best Threshold=0.910214, Best F1 Score=0.602\n"
     ]
    },
    {
     "name": "stderr",
     "output_type": "stream",
     "text": [
      "2023-12-14 22:13:30:rastervision: INFO - epoch: 28\n"
     ]
    },
    {
     "data": {
      "application/vnd.jupyter.widget-view+json": {
       "model_id": "7318a3fc4a5045749fabc5c4fec3c433",
       "version_major": 2,
       "version_minor": 0
      },
      "text/plain": [
       "Training:   0%|          | 0/25 [00:00<?, ?it/s]"
      ]
     },
     "metadata": {},
     "output_type": "display_data"
    },
    {
     "data": {
      "application/vnd.jupyter.widget-view+json": {
       "model_id": "d231671c9ccb4f9e8abd77f8a22df5d6",
       "version_major": 2,
       "version_minor": 0
      },
      "text/plain": [
       "Validating:   0%|          | 0/3 [00:00<?, ?it/s]"
      ]
     },
     "metadata": {},
     "output_type": "display_data"
    },
    {
     "name": "stderr",
     "output_type": "stream",
     "text": [
      "2023-12-14 22:19:13:rastervision: INFO - metrics:\n",
      "{'avg_f1': 0.9177604913711548,\n",
      " 'avg_precision': 0.9718500375747681,\n",
      " 'avg_recall': 0.8693743348121643,\n",
      " 'epoch': 28,\n",
      " 'other_f1': 0.9277433156967163,\n",
      " 'other_precision': 0.9979966878890991,\n",
      " 'other_recall': 0.8667303323745728,\n",
      " 'sandmine_average_precision': 0.6531711261239759,\n",
      " 'sandmine_best_f1_score': 0.6041095291953265,\n",
      " 'sandmine_best_threshold': 0.92841715,\n",
      " 'sandmine_f1': 0.32036271691322327,\n",
      " 'sandmine_precision': 0.19274333119392395,\n",
      " 'sandmine_recall': 0.9481582045555115,\n",
      " 'train_bce_loss': 0.003351917538618177,\n",
      " 'train_dice_loss': 0.006475724704525013,\n",
      " 'train_time': datetime.timedelta(seconds=293, microseconds=346721),\n",
      " 'val_bce_loss': 0.002697864222148108,\n",
      " 'val_dice_loss': 0.006947234824851707,\n",
      " 'valid_time': datetime.timedelta(seconds=50, microseconds=186290)}\n"
     ]
    },
    {
     "name": "stdout",
     "output_type": "stream",
     "text": [
      "Best Threshold=0.928417, Best F1 Score=0.604\n"
     ]
    },
    {
     "name": "stderr",
     "output_type": "stream",
     "text": [
      "2023-12-14 22:19:15:rastervision: INFO - epoch: 29\n"
     ]
    },
    {
     "data": {
      "application/vnd.jupyter.widget-view+json": {
       "model_id": "764ae1d3c8354374b65f02c90bf21b15",
       "version_major": 2,
       "version_minor": 0
      },
      "text/plain": [
       "Training:   0%|          | 0/25 [00:00<?, ?it/s]"
      ]
     },
     "metadata": {},
     "output_type": "display_data"
    },
    {
     "data": {
      "application/vnd.jupyter.widget-view+json": {
       "model_id": "e2a98c6c1e644464b9c76dac52c33ce4",
       "version_major": 2,
       "version_minor": 0
      },
      "text/plain": [
       "Validating:   0%|          | 0/3 [00:00<?, ?it/s]"
      ]
     },
     "metadata": {},
     "output_type": "display_data"
    },
    {
     "name": "stderr",
     "output_type": "stream",
     "text": [
      "2023-12-14 22:24:58:rastervision: INFO - metrics:\n",
      "{'avg_f1': 0.9489553570747375,\n",
      " 'avg_precision': 0.9738127589225769,\n",
      " 'avg_recall': 0.9253353476524353,\n",
      " 'epoch': 29,\n",
      " 'other_f1': 0.9599934220314026,\n",
      " 'other_precision': 0.9967087507247925,\n",
      " 'other_recall': 0.9258869886398315,\n",
      " 'sandmine_average_precision': 0.6447475158460355,\n",
      " 'sandmine_best_f1_score': 0.5994268703383291,\n",
      " 'sandmine_best_threshold': 0.85584223,\n",
      " 'sandmine_f1': 0.44150280952453613,\n",
      " 'sandmine_precision': 0.2915665805339813,\n",
      " 'sandmine_recall': 0.908897340297699,\n",
      " 'train_bce_loss': 0.003385991012494181,\n",
      " 'train_dice_loss': 0.0065230390568471325,\n",
      " 'train_time': datetime.timedelta(seconds=293, microseconds=68733),\n",
      " 'val_bce_loss': 0.002190888874114506,\n",
      " 'val_dice_loss': 0.006826096741610734,\n",
      " 'valid_time': datetime.timedelta(seconds=49, microseconds=899683)}\n"
     ]
    },
    {
     "name": "stdout",
     "output_type": "stream",
     "text": [
      "Best Threshold=0.855842, Best F1 Score=0.599\n"
     ]
    },
    {
     "name": "stderr",
     "output_type": "stream",
     "text": [
      "2023-12-14 22:25:00:rastervision: INFO - epoch: 30\n"
     ]
    },
    {
     "data": {
      "application/vnd.jupyter.widget-view+json": {
       "model_id": "b745263bc0db49b7b32b91b32295c146",
       "version_major": 2,
       "version_minor": 0
      },
      "text/plain": [
       "Training:   0%|          | 0/25 [00:00<?, ?it/s]"
      ]
     },
     "metadata": {},
     "output_type": "display_data"
    },
    {
     "data": {
      "application/vnd.jupyter.widget-view+json": {
       "model_id": "9faa4d2364784591824d5bb3e67bbed3",
       "version_major": 2,
       "version_minor": 0
      },
      "text/plain": [
       "Validating:   0%|          | 0/3 [00:00<?, ?it/s]"
      ]
     },
     "metadata": {},
     "output_type": "display_data"
    },
    {
     "name": "stderr",
     "output_type": "stream",
     "text": [
      "2023-12-14 22:30:43:rastervision: INFO - metrics:\n",
      "{'avg_f1': 0.9448009729385376,\n",
      " 'avg_precision': 0.973017156124115,\n",
      " 'avg_recall': 0.918175220489502,\n",
      " 'epoch': 30,\n",
      " 'other_f1': 0.9559937119483948,\n",
      " 'other_precision': 0.9965497255325317,\n",
      " 'other_recall': 0.918609619140625,\n",
      " 'sandmine_average_precision': 0.6557936100682875,\n",
      " 'sandmine_best_f1_score': 0.6053659743208799,\n",
      " 'sandmine_best_threshold': 0.88160115,\n",
      " 'sandmine_f1': 0.41807499527931213,\n",
      " 'sandmine_precision': 0.2718026638031006,\n",
      " 'sandmine_recall': 0.9052309393882751,\n",
      " 'train_bce_loss': 0.003399946529012888,\n",
      " 'train_dice_loss': 0.006497985958435375,\n",
      " 'train_time': datetime.timedelta(seconds=293, microseconds=197330),\n",
      " 'val_bce_loss': 0.002268530073620024,\n",
      " 'val_dice_loss': 0.006840181098413215,\n",
      " 'valid_time': datetime.timedelta(seconds=49, microseconds=713884)}\n"
     ]
    },
    {
     "name": "stdout",
     "output_type": "stream",
     "text": [
      "Best Threshold=0.881601, Best F1 Score=0.605\n"
     ]
    },
    {
     "name": "stderr",
     "output_type": "stream",
     "text": [
      "2023-12-14 22:30:44:rastervision: INFO - epoch: 31\n"
     ]
    },
    {
     "data": {
      "application/vnd.jupyter.widget-view+json": {
       "model_id": "d06c74affda14186a2650ea2b18eb393",
       "version_major": 2,
       "version_minor": 0
      },
      "text/plain": [
       "Training:   0%|          | 0/25 [00:00<?, ?it/s]"
      ]
     },
     "metadata": {},
     "output_type": "display_data"
    },
    {
     "data": {
      "application/vnd.jupyter.widget-view+json": {
       "model_id": "50161b09bda4471fa0e62ef8c3045508",
       "version_major": 2,
       "version_minor": 0
      },
      "text/plain": [
       "Validating:   0%|          | 0/3 [00:00<?, ?it/s]"
      ]
     },
     "metadata": {},
     "output_type": "display_data"
    },
    {
     "name": "stderr",
     "output_type": "stream",
     "text": [
      "2023-12-14 22:36:28:rastervision: INFO - metrics:\n",
      "{'avg_f1': 0.8328354358673096,\n",
      " 'avg_precision': 0.9696255326271057,\n",
      " 'avg_recall': 0.7298689484596252,\n",
      " 'epoch': 31,\n",
      " 'other_f1': 0.8379363417625427,\n",
      " 'other_precision': 0.9986476898193359,\n",
      " 'other_recall': 0.7217808365821838,\n",
      " 'sandmine_average_precision': 0.5980764250603381,\n",
      " 'sandmine_best_f1_score': 0.5685886748873947,\n",
      " 'sandmine_best_threshold': 0.9727653,\n",
      " 'sandmine_f1': 0.18923339247703552,\n",
      " 'sandmine_precision': 0.1048332080245018,\n",
      " 'sandmine_recall': 0.9708757996559143,\n",
      " 'train_bce_loss': 0.0034450755835814797,\n",
      " 'train_dice_loss': 0.00641605520495479,\n",
      " 'train_time': datetime.timedelta(seconds=293, microseconds=377179),\n",
      " 'val_bce_loss': 0.004753727130788974,\n",
      " 'val_dice_loss': 0.0071359557449502285,\n",
      " 'valid_time': datetime.timedelta(seconds=50, microseconds=503727)}\n"
     ]
    },
    {
     "name": "stdout",
     "output_type": "stream",
     "text": [
      "Best Threshold=0.972765, Best F1 Score=0.569\n"
     ]
    },
    {
     "name": "stderr",
     "output_type": "stream",
     "text": [
      "2023-12-14 22:36:30:rastervision: INFO - epoch: 32\n"
     ]
    },
    {
     "data": {
      "application/vnd.jupyter.widget-view+json": {
       "model_id": "4353a2eee31f4e4497edc7354009a21a",
       "version_major": 2,
       "version_minor": 0
      },
      "text/plain": [
       "Training:   0%|          | 0/25 [00:00<?, ?it/s]"
      ]
     },
     "metadata": {},
     "output_type": "display_data"
    },
    {
     "data": {
      "application/vnd.jupyter.widget-view+json": {
       "model_id": "2992346994b74878852507f39e4e76ba",
       "version_major": 2,
       "version_minor": 0
      },
      "text/plain": [
       "Validating:   0%|          | 0/3 [00:00<?, ?it/s]"
      ]
     },
     "metadata": {},
     "output_type": "display_data"
    },
    {
     "name": "stderr",
     "output_type": "stream",
     "text": [
      "2023-12-14 22:42:13:rastervision: INFO - metrics:\n",
      "{'avg_f1': 0.9270741939544678,\n",
      " 'avg_precision': 0.97291100025177,\n",
      " 'avg_recall': 0.8853622078895569,\n",
      " 'epoch': 32,\n",
      " 'other_f1': 0.937125027179718,\n",
      " 'other_precision': 0.9983389377593994,\n",
      " 'other_recall': 0.8829841613769531,\n",
      " 'sandmine_average_precision': 0.6183576988541639,\n",
      " 'sandmine_best_f1_score': 0.5764468144063042,\n",
      " 'sandmine_best_threshold': 0.93326026,\n",
      " 'sandmine_f1': 0.3513576090335846,\n",
      " 'sandmine_precision': 0.21521922945976257,\n",
      " 'sandmine_recall': 0.9562230110168457,\n",
      " 'train_bce_loss': 0.003237101080504106,\n",
      " 'train_dice_loss': 0.006494296029441715,\n",
      " 'train_time': datetime.timedelta(seconds=293, microseconds=38663),\n",
      " 'val_bce_loss': 0.002665784623887804,\n",
      " 'val_dice_loss': 0.006861786993723067,\n",
      " 'valid_time': datetime.timedelta(seconds=50, microseconds=111685)}\n"
     ]
    },
    {
     "name": "stdout",
     "output_type": "stream",
     "text": [
      "Best Threshold=0.933260, Best F1 Score=0.576\n"
     ]
    },
    {
     "name": "stderr",
     "output_type": "stream",
     "text": [
      "2023-12-14 22:42:15:rastervision: INFO - epoch: 33\n"
     ]
    },
    {
     "data": {
      "application/vnd.jupyter.widget-view+json": {
       "model_id": "e8bf00ee1556473890c3b8288648a1b1",
       "version_major": 2,
       "version_minor": 0
      },
      "text/plain": [
       "Training:   0%|          | 0/25 [00:00<?, ?it/s]"
      ]
     },
     "metadata": {},
     "output_type": "display_data"
    },
    {
     "data": {
      "application/vnd.jupyter.widget-view+json": {
       "model_id": "ec77c7dbea3a497aa2d62cf782bddfb3",
       "version_major": 2,
       "version_minor": 0
      },
      "text/plain": [
       "Validating:   0%|          | 0/3 [00:00<?, ?it/s]"
      ]
     },
     "metadata": {},
     "output_type": "display_data"
    },
    {
     "name": "stderr",
     "output_type": "stream",
     "text": [
      "2023-12-14 22:47:58:rastervision: INFO - metrics:\n",
      "{'avg_f1': 0.8847355246543884,\n",
      " 'avg_precision': 0.9706798791885376,\n",
      " 'avg_recall': 0.8127723932266235,\n",
      " 'epoch': 33,\n",
      " 'other_f1': 0.89303058385849,\n",
      " 'other_precision': 0.9984294772148132,\n",
      " 'other_recall': 0.807759702205658,\n",
      " 'sandmine_average_precision': 0.6414478911201331,\n",
      " 'sandmine_best_f1_score': 0.5913760694840549,\n",
      " 'sandmine_best_threshold': 0.9559984,\n",
      " 'sandmine_f1': 0.25021684169769287,\n",
      " 'sandmine_precision': 0.14380799233913422,\n",
      " 'sandmine_recall': 0.9621394872665405,\n",
      " 'train_bce_loss': 0.0033498548473101207,\n",
      " 'train_dice_loss': 0.006474388695751447,\n",
      " 'train_time': datetime.timedelta(seconds=293, microseconds=140630),\n",
      " 'val_bce_loss': 0.003510207726211144,\n",
      " 'val_dice_loss': 0.007050888878958566,\n",
      " 'valid_time': datetime.timedelta(seconds=49, microseconds=917513)}\n"
     ]
    },
    {
     "name": "stdout",
     "output_type": "stream",
     "text": [
      "Best Threshold=0.955998, Best F1 Score=0.591\n"
     ]
    },
    {
     "name": "stderr",
     "output_type": "stream",
     "text": [
      "2023-12-14 22:47:59:rastervision: INFO - epoch: 34\n"
     ]
    },
    {
     "data": {
      "application/vnd.jupyter.widget-view+json": {
       "model_id": "9c69a76902714ea18a6fcc9fdb0e8318",
       "version_major": 2,
       "version_minor": 0
      },
      "text/plain": [
       "Training:   0%|          | 0/25 [00:00<?, ?it/s]"
      ]
     },
     "metadata": {},
     "output_type": "display_data"
    },
    {
     "data": {
      "application/vnd.jupyter.widget-view+json": {
       "model_id": "53d327f3957347b482788dc7bddc8c00",
       "version_major": 2,
       "version_minor": 0
      },
      "text/plain": [
       "Validating:   0%|          | 0/3 [00:00<?, ?it/s]"
      ]
     },
     "metadata": {},
     "output_type": "display_data"
    },
    {
     "name": "stderr",
     "output_type": "stream",
     "text": [
      "2023-12-14 22:53:43:rastervision: INFO - metrics:\n",
      "{'avg_f1': 0.9138397574424744,\n",
      " 'avg_precision': 0.9724422693252563,\n",
      " 'avg_recall': 0.8618988394737244,\n",
      " 'epoch': 34,\n",
      " 'other_f1': 0.9232317209243774,\n",
      " 'other_precision': 0.9988105893135071,\n",
      " 'other_recall': 0.8582862615585327,\n",
      " 'sandmine_average_precision': 0.6110798650931324,\n",
      " 'sandmine_best_f1_score': 0.5734677787460062,\n",
      " 'sandmine_best_threshold': 0.9501308,\n",
      " 'sandmine_f1': 0.31314659118652344,\n",
      " 'sandmine_precision': 0.1867283284664154,\n",
      " 'sandmine_recall': 0.9695454835891724,\n",
      " 'train_bce_loss': 0.00346623214415318,\n",
      " 'train_dice_loss': 0.0064346753253837945,\n",
      " 'train_time': datetime.timedelta(seconds=293, microseconds=468638),\n",
      " 'val_bce_loss': 0.002944487112539786,\n",
      " 'val_dice_loss': 0.006931147247395187,\n",
      " 'valid_time': datetime.timedelta(seconds=50, microseconds=416319)}\n"
     ]
    },
    {
     "name": "stdout",
     "output_type": "stream",
     "text": [
      "Best Threshold=0.950131, Best F1 Score=0.573\n"
     ]
    },
    {
     "name": "stderr",
     "output_type": "stream",
     "text": [
      "2023-12-14 22:53:45:rastervision: INFO - epoch: 35\n"
     ]
    },
    {
     "data": {
      "application/vnd.jupyter.widget-view+json": {
       "model_id": "b5a6eabe6c5b4395ba310724faed7f73",
       "version_major": 2,
       "version_minor": 0
      },
      "text/plain": [
       "Training:   0%|          | 0/25 [00:00<?, ?it/s]"
      ]
     },
     "metadata": {},
     "output_type": "display_data"
    },
    {
     "data": {
      "application/vnd.jupyter.widget-view+json": {
       "model_id": "c087fc0997d04b0e8028b1a450db8c3d",
       "version_major": 2,
       "version_minor": 0
      },
      "text/plain": [
       "Validating:   0%|          | 0/3 [00:00<?, ?it/s]"
      ]
     },
     "metadata": {},
     "output_type": "display_data"
    },
    {
     "name": "stderr",
     "output_type": "stream",
     "text": [
      "2023-12-14 22:59:29:rastervision: INFO - metrics:\n",
      "{'avg_f1': 0.9038635492324829,\n",
      " 'avg_precision': 0.9709161520004272,\n",
      " 'avg_recall': 0.845474123954773,\n",
      " 'epoch': 35,\n",
      " 'other_f1': 0.9133821725845337,\n",
      " 'other_precision': 0.9978792071342468,\n",
      " 'other_recall': 0.8420779705047607,\n",
      " 'sandmine_average_precision': 0.6302708158439363,\n",
      " 'sandmine_best_f1_score': 0.595373529317986,\n",
      " 'sandmine_best_threshold': 0.94019026,\n",
      " 'sandmine_f1': 0.2846117317676544,\n",
      " 'sandmine_precision': 0.1674821674823761,\n",
      " 'sandmine_recall': 0.9466719031333923,\n",
      " 'train_bce_loss': 0.003260616193781245,\n",
      " 'train_dice_loss': 0.0064523738900614525,\n",
      " 'train_time': datetime.timedelta(seconds=293, microseconds=548779),\n",
      " 'val_bce_loss': 0.003040795603757182,\n",
      " 'val_dice_loss': 0.006951771085224454,\n",
      " 'valid_time': datetime.timedelta(seconds=50, microseconds=145000)}\n"
     ]
    },
    {
     "name": "stdout",
     "output_type": "stream",
     "text": [
      "Best Threshold=0.940190, Best F1 Score=0.595\n"
     ]
    },
    {
     "name": "stderr",
     "output_type": "stream",
     "text": [
      "2023-12-14 22:59:30:rastervision: INFO - epoch: 36\n"
     ]
    },
    {
     "data": {
      "application/vnd.jupyter.widget-view+json": {
       "model_id": "0f8fce4b5cc4491bb94021775d79baf3",
       "version_major": 2,
       "version_minor": 0
      },
      "text/plain": [
       "Training:   0%|          | 0/25 [00:00<?, ?it/s]"
      ]
     },
     "metadata": {},
     "output_type": "display_data"
    },
    {
     "data": {
      "application/vnd.jupyter.widget-view+json": {
       "model_id": "781593307f1446e4a6b9dce232146601",
       "version_major": 2,
       "version_minor": 0
      },
      "text/plain": [
       "Validating:   0%|          | 0/3 [00:00<?, ?it/s]"
      ]
     },
     "metadata": {},
     "output_type": "display_data"
    },
    {
     "name": "stderr",
     "output_type": "stream",
     "text": [
      "2023-12-14 23:05:14:rastervision: INFO - metrics:\n",
      "{'avg_f1': 0.9147464036941528,\n",
      " 'avg_precision': 0.9717427492141724,\n",
      " 'avg_recall': 0.8640657663345337,\n",
      " 'epoch': 36,\n",
      " 'other_f1': 0.9245784282684326,\n",
      " 'other_precision': 0.998083233833313,\n",
      " 'other_recall': 0.8611577153205872,\n",
      " 'sandmine_average_precision': 0.6192496748423013,\n",
      " 'sandmine_best_f1_score': 0.5855036664911687,\n",
      " 'sandmine_best_threshold': 0.92134565,\n",
      " 'sandmine_f1': 0.31233152747154236,\n",
      " 'sandmine_precision': 0.1868593841791153,\n",
      " 'sandmine_recall': 0.9507202506065369,\n",
      " 'train_bce_loss': 0.0033320040282807818,\n",
      " 'train_dice_loss': 0.006472355961181957,\n",
      " 'train_time': datetime.timedelta(seconds=293, microseconds=552681),\n",
      " 'val_bce_loss': 0.002870470127731404,\n",
      " 'val_dice_loss': 0.006973862648010254,\n",
      " 'valid_time': datetime.timedelta(seconds=49, microseconds=997231)}\n"
     ]
    },
    {
     "name": "stdout",
     "output_type": "stream",
     "text": [
      "Best Threshold=0.921346, Best F1 Score=0.586\n"
     ]
    },
    {
     "name": "stderr",
     "output_type": "stream",
     "text": [
      "2023-12-14 23:05:15:rastervision: INFO - epoch: 37\n"
     ]
    },
    {
     "data": {
      "application/vnd.jupyter.widget-view+json": {
       "model_id": "7d6398b34d3d49f49d2fb3767881ae85",
       "version_major": 2,
       "version_minor": 0
      },
      "text/plain": [
       "Training:   0%|          | 0/25 [00:00<?, ?it/s]"
      ]
     },
     "metadata": {},
     "output_type": "display_data"
    },
    {
     "data": {
      "application/vnd.jupyter.widget-view+json": {
       "model_id": "e894da9d94cf4fffafa94af2acd9ac73",
       "version_major": 2,
       "version_minor": 0
      },
      "text/plain": [
       "Validating:   0%|          | 0/3 [00:00<?, ?it/s]"
      ]
     },
     "metadata": {},
     "output_type": "display_data"
    },
    {
     "name": "stderr",
     "output_type": "stream",
     "text": [
      "2023-12-14 23:11:00:rastervision: INFO - metrics:\n",
      "{'avg_f1': 0.9495264887809753,\n",
      " 'avg_precision': 0.9739805459976196,\n",
      " 'avg_recall': 0.9262702465057373,\n",
      " 'epoch': 37,\n",
      " 'other_f1': 0.9605115056037903,\n",
      " 'other_precision': 0.9967822432518005,\n",
      " 'other_recall': 0.9267877340316772,\n",
      " 'sandmine_average_precision': 0.6321666877455575,\n",
      " 'sandmine_best_f1_score': 0.593954052852894,\n",
      " 'sandmine_best_threshold': 0.8806135,\n",
      " 'sandmine_f1': 0.4451424777507782,\n",
      " 'sandmine_precision': 0.2945447564125061,\n",
      " 'sandmine_recall': 0.9108514785766602,\n",
      " 'train_bce_loss': 0.003153988116763416,\n",
      " 'train_dice_loss': 0.006496729010745034,\n",
      " 'train_time': datetime.timedelta(seconds=294, microseconds=573607),\n",
      " 'val_bce_loss': 0.002180951928335523,\n",
      " 'val_dice_loss': 0.006788769727030759,\n",
      " 'valid_time': datetime.timedelta(seconds=50, microseconds=230169)}\n"
     ]
    },
    {
     "name": "stdout",
     "output_type": "stream",
     "text": [
      "Best Threshold=0.880614, Best F1 Score=0.594\n"
     ]
    },
    {
     "name": "stderr",
     "output_type": "stream",
     "text": [
      "2023-12-14 23:11:02:rastervision: INFO - epoch: 38\n"
     ]
    },
    {
     "data": {
      "application/vnd.jupyter.widget-view+json": {
       "model_id": "5b6d32ce74d94911b76d53fd4012c30d",
       "version_major": 2,
       "version_minor": 0
      },
      "text/plain": [
       "Training:   0%|          | 0/25 [00:00<?, ?it/s]"
      ]
     },
     "metadata": {},
     "output_type": "display_data"
    },
    {
     "data": {
      "application/vnd.jupyter.widget-view+json": {
       "model_id": "4b178bb6395b460c913e20e06010b9d6",
       "version_major": 2,
       "version_minor": 0
      },
      "text/plain": [
       "Validating:   0%|          | 0/3 [00:00<?, ?it/s]"
      ]
     },
     "metadata": {},
     "output_type": "display_data"
    },
    {
     "name": "stderr",
     "output_type": "stream",
     "text": [
      "2023-12-14 23:16:46:rastervision: INFO - metrics:\n",
      "{'avg_f1': 0.9290692806243896,\n",
      " 'avg_precision': 0.9716447591781616,\n",
      " 'avg_recall': 0.8900683522224426,\n",
      " 'epoch': 38,\n",
      " 'other_f1': 0.939940869808197,\n",
      " 'other_precision': 0.9969509243965149,\n",
      " 'other_recall': 0.8890983462333679,\n",
      " 'sandmine_average_precision': 0.6103631806178643,\n",
      " 'sandmine_best_f1_score': 0.5845909162096287,\n",
      " 'sandmine_best_threshold': 0.9083965,\n",
      " 'sandmine_f1': 0.35185590386390686,\n",
      " 'sandmine_precision': 0.21758168935775757,\n",
      " 'sandmine_recall': 0.9189735651016235,\n",
      " 'train_bce_loss': 0.0033844681601450234,\n",
      " 'train_dice_loss': 0.006415010116260904,\n",
      " 'train_time': datetime.timedelta(seconds=293, microseconds=602351),\n",
      " 'val_bce_loss': 0.0026286108783943945,\n",
      " 'val_dice_loss': 0.006920000863453698,\n",
      " 'valid_time': datetime.timedelta(seconds=50, microseconds=11871)}\n"
     ]
    },
    {
     "name": "stdout",
     "output_type": "stream",
     "text": [
      "Best Threshold=0.908396, Best F1 Score=0.585\n"
     ]
    },
    {
     "name": "stderr",
     "output_type": "stream",
     "text": [
      "2023-12-14 23:16:47:rastervision: INFO - epoch: 39\n"
     ]
    },
    {
     "data": {
      "application/vnd.jupyter.widget-view+json": {
       "model_id": "9dfca40e1e9948a49f3a56ea655befc5",
       "version_major": 2,
       "version_minor": 0
      },
      "text/plain": [
       "Training:   0%|          | 0/25 [00:00<?, ?it/s]"
      ]
     },
     "metadata": {},
     "output_type": "display_data"
    },
    {
     "data": {
      "application/vnd.jupyter.widget-view+json": {
       "model_id": "ff6660cb28e542fa9aaae9ace5658f7f",
       "version_major": 2,
       "version_minor": 0
      },
      "text/plain": [
       "Validating:   0%|          | 0/3 [00:00<?, ?it/s]"
      ]
     },
     "metadata": {},
     "output_type": "display_data"
    },
    {
     "name": "stderr",
     "output_type": "stream",
     "text": [
      "2023-12-14 23:22:31:rastervision: INFO - metrics:\n",
      "{'avg_f1': 0.9246941804885864,\n",
      " 'avg_precision': 0.9726691246032715,\n",
      " 'avg_recall': 0.8812293410301208,\n",
      " 'epoch': 39,\n",
      " 'other_f1': 0.9347124695777893,\n",
      " 'other_precision': 0.9982942342758179,\n",
      " 'other_recall': 0.878744900226593,\n",
      " 'sandmine_average_precision': 0.62445156772763,\n",
      " 'sandmine_best_f1_score': 0.5844970487799361,\n",
      " 'sandmine_best_threshold': 0.933953,\n",
      " 'sandmine_f1': 0.3431015908718109,\n",
      " 'sandmine_precision': 0.20910263061523438,\n",
      " 'sandmine_recall': 0.9552586674690247,\n",
      " 'train_bce_loss': 0.003355823650261281,\n",
      " 'train_dice_loss': 0.006453631455416506,\n",
      " 'train_time': datetime.timedelta(seconds=293, microseconds=551307),\n",
      " 'val_bce_loss': 0.0026469423026634904,\n",
      " 'val_dice_loss': 0.006895326432727632,\n",
      " 'valid_time': datetime.timedelta(seconds=50, microseconds=86748)}\n"
     ]
    },
    {
     "name": "stdout",
     "output_type": "stream",
     "text": [
      "Best Threshold=0.933953, Best F1 Score=0.584\n"
     ]
    }
   ],
   "source": [
    "learner.train(epochs=40)"
   ]
  },
  {
   "cell_type": "markdown",
   "id": "3b6846be",
   "metadata": {},
   "source": [
    "## Evaluate "
   ]
  },
  {
   "cell_type": "markdown",
   "metadata": {},
   "source": [
    "Initialize evaluation_datasets and predictor.\n",
    "evaluation_datasets and validation_datasets are based on identical scenes, but have different sliding window configurations."
   ]
  },
  {
   "cell_type": "code",
   "execution_count": 11,
   "id": "fdd1a9b0",
   "metadata": {},
   "outputs": [],
   "source": [
    "config = satmae_large_inf_config\n",
    "config.tile_size = 160 #force to the same size as fine-tuning"
   ]
  },
  {
   "cell_type": "code",
   "execution_count": 12,
   "id": "19ba54a6",
   "metadata": {},
   "outputs": [],
   "source": [
    "from ml.learner import BinarySegmentationPredictor\n",
    "from utils.rastervision_pipeline import scene_to_inference_ds\n",
    "\n",
    "evaluation_datasets =  [\n",
    "    scene_to_inference_ds(\n",
    "        config, scene, full_image=True\n",
    "    ) for scene in validation_scenes\n",
    "]\n",
    "\n",
    "predictor = BinarySegmentationPredictor(\n",
    "    config,\n",
    "    model\n",
    "    )\n",
    "\n",
    "## Alternatively: specify path to trained weights\n",
    "# path_to_weights = '../out/OUTPUT_DIR/last-model.pth'\n",
    "# # path_to_weights = '/data/sand_mining/checkpoints/finetuned/SatMAE-L_w15.47_b128.pth'\n",
    "# predictor = BinarySegmentationPredictor(\n",
    "#     config,\n",
    "#     model,\n",
    "#     path_to_weights,\n",
    "# )"
   ]
  },
  {
   "cell_type": "code",
   "execution_count": 13,
   "metadata": {},
   "outputs": [
    {
     "data": {
      "application/vnd.jupyter.widget-view+json": {
       "model_id": "d98b16eec18b4ac6944903f088343cc3",
       "version_major": 2,
       "version_minor": 0
      },
      "text/plain": [
       "  0%|          | 0/8 [00:00<?, ?it/s]"
      ]
     },
     "metadata": {},
     "output_type": "display_data"
    },
    {
     "name": "stdout",
     "output_type": "stream",
     "text": [
      "Best Threshold=0.877441, Best F1 Score=0.501\n",
      "Best Threshold=0.602539, Best F1 Score=0.661\n",
      "Best Threshold=0.969727, Best F1 Score=nan\n",
      "Best Threshold=0.843262, Best F1 Score=0.401\n",
      "Best Threshold=0.788574, Best F1 Score=0.630\n",
      "Best Threshold=0.972168, Best F1 Score=0.620\n",
      "Best Threshold=0.761719, Best F1 Score=0.672\n",
      "Best Threshold=0.934570, Best F1 Score=0.618\n",
      "Best Threshold=0.947754, Best F1 Score=0.565\n"
     ]
    }
   ],
   "source": [
    "from utils.visualizing import raster_source_to_rgb\n",
    "from tqdm.notebook import tqdm\n",
    "from ml.eval_utils import evaluate_predictions\n",
    "\n",
    "prediction_results_list = []\n",
    "crop_sz = int(config.tile_size // 5) #20% of the tiles at the edges are discarded\n",
    "\n",
    "for ds in tqdm(evaluation_datasets):\n",
    "    predictions = predictor.predict_mine_probability_for_site(ds)\n",
    "\n",
    "    rgb_img = raster_source_to_rgb(ds.scene.raster_source)\n",
    "    prediction_results_list.append({\n",
    "        \"predictions\": predictions,\n",
    "        \"ground_truth\": ds.scene.label_source.get_label_arr(),\n",
    "        \"rgb_img\": rgb_img,\n",
    "        \"name\": ds.scene.id,\n",
    "        \"crop_sz\": crop_sz,\n",
    "    })\n",
    "\n",
    "evaluation_results_dict = evaluate_predictions(prediction_results_list)"
   ]
  },
  {
   "cell_type": "markdown",
   "id": "984a4aca",
   "metadata": {},
   "source": [
    "## Pick the threshold that maximizes F1 score"
   ]
  },
  {
   "cell_type": "code",
   "execution_count": 14,
   "id": "bd35029f",
   "metadata": {},
   "outputs": [
    {
     "data": {
      "text/plain": [
       "0.9478"
      ]
     },
     "execution_count": 14,
     "metadata": {},
     "output_type": "execute_result"
    }
   ],
   "source": [
    "threshold = evaluation_results_dict['eval/total/best_threshold']\n",
    "threshold"
   ]
  },
  {
   "cell_type": "markdown",
   "metadata": {},
   "source": [
    "Log results to Weights & Biases"
   ]
  },
  {
   "cell_type": "code",
   "execution_count": 15,
   "metadata": {},
   "outputs": [
    {
     "name": "stderr",
     "output_type": "stream",
     "text": [
      "WARNING:root:Images sizes do not match. This will causes images to be display incorrectly in the UI.\n",
      "WARNING:root:Images sizes do not match. This will causes images to be display incorrectly in the UI.\n"
     ]
    }
   ],
   "source": [
    "import wandb\n",
    "from ml.eval_utils import make_wandb_segmentation_masks, make_wandb_predicted_probs_images\n",
    "\n",
    "assert wandb.run is not None\n",
    "\n",
    "# Add lists of W&B images to dict\n",
    "evaluation_results_dict.update({\n",
    "    'Segmentation masks': make_wandb_segmentation_masks(prediction_results_list, threshold),\n",
    "    'Predicted probabilites': make_wandb_predicted_probs_images(prediction_results_list),\n",
    "})\n",
    "\n",
    "# Log to W&B\n",
    "wandb.log(evaluation_results_dict)"
   ]
  },
  {
   "cell_type": "code",
   "execution_count": 10,
   "metadata": {},
   "outputs": [
    {
     "data": {
      "text/html": [
       "Waiting for W&B process to finish... <strong style=\"color:green\">(success).</strong>"
      ],
      "text/plain": [
       "<IPython.core.display.HTML object>"
      ]
     },
     "metadata": {},
     "output_type": "display_data"
    },
    {
     "name": "stderr",
     "output_type": "stream",
     "text": [
      "wandb: WARNING Source type is set to 'repo' but some required information is missing from the environment. A job will not be created from this run. See https://docs.wandb.ai/guides/launch/create-job\n"
     ]
    },
    {
     "data": {
      "text/html": [
       "<style>\n",
       "    table.wandb td:nth-child(1) { padding: 0 10px; text-align: left ; width: auto;} td:nth-child(2) {text-align: left ; width: 100%}\n",
       "    .wandb-row { display: flex; flex-direction: row; flex-wrap: wrap; justify-content: flex-start; width: 100% }\n",
       "    .wandb-col { display: flex; flex-direction: column; flex-basis: 100%; flex: 1; padding: 10px; }\n",
       "    </style>\n",
       "<div class=\"wandb-row\"><div class=\"wandb-col\"><h3>Run history:</h3><br/><table class=\"wandb\"><tr><td>sandmine_average_precision</td><td>▁▁▅▄▆▆▆▄▆▆▆▇▆▆▆▅▇▇▇▇▇▇▆█▇█▇████▆▆▇▆▇▆▇▆▇</td></tr><tr><td>sandmine_best_f1_score</td><td>▁▁▅▄▆▆▆▄▆▇▆▇▆▆▆▆▇▇▇▇▇█▇█▇█▇████▆▆▇▆▇▇▇▇▇</td></tr><tr><td>sandmine_best_threshold</td><td>▆▂▆▃▁▂▅▄▄▃▅▄▄▆▄█▄▃▅▆▅▅▂▃▅▄▅▄▅▁▃█▆▇▇▆▅▃▄▆</td></tr><tr><td>sandmine_f1</td><td>▁▃▃▄▇▇▄▅▄▇▅▆▅▃▆▂▆▇▄▅▇▆▇▇▄▇▆▆▅█▇▁▆▃▅▄▅█▆▅</td></tr><tr><td>sandmine_precision</td><td>▁▃▂▄▇▆▄▅▄▆▄▆▅▃▅▂▆▇▄▄▆▅▇▇▄▆▆▅▄█▇▁▅▃▄▃▄█▅▅</td></tr><tr><td>sandmine_recall</td><td>▇▁▆▄▂▃▅▅▅▄▆▅▄▆▅█▃▄▆▇▄▅▃▅▇▅▆▆▆▄▄█▇▇█▆▆▄▅▇</td></tr><tr><td>train_bce_loss</td><td>█▅▄▄▃▃▃▃▃▃▃▃▂▂▂▂▂▂▂▂▂▂▂▂▂▁▁▂▁▁▂▂▁▁▂▁▁▁▁▁</td></tr><tr><td>train_dice_loss</td><td>█▆▄▄▄▄▄▃▃▄▃▂▂▂▃▂▃▃▂▁▂▃▃▁▂▂▂▁▂▂▂▁▂▂▁▁▂▂▁▁</td></tr><tr><td>train_time_seconds</td><td>█▂▁▁▁▁▁▁▁▁▁▁▁▂▁▂▁▂▁▂▁▁▁▁▁▁▁▁▁▁▁▁▁▁▁▁▁▂▁▁</td></tr><tr><td>val_bce_loss</td><td>█▅▅▄▂▂▃▃▃▂▃▂▃▄▂▆▂▁▃▃▂▂▂▁▃▁▂▂▂▁▁█▂▅▃▃▃▁▂▂</td></tr><tr><td>val_dice_loss</td><td>█▇▇▆▄▃▅▄▅▃▄▃▄▆▄▆▂▃▅▄▃▃▃▂▄▃▃▄▄▂▂▇▂▆▄▄▄▁▃▃</td></tr><tr><td>valid_time_seconds</td><td>▂▆▃▇▂▃▃▄▅▇▃██▂▆▄▃▅▄▁▃▇▇▃▆▇▇▄▅▃▁▇▄▃▇▅▄▅▄▄</td></tr></table><br/></div><div class=\"wandb-col\"><h3>Run summary:</h3><br/><table class=\"wandb\"><tr><td>sandmine_best_f1_score</td><td>0.5845</td></tr><tr><td>sandmine_best_threshold</td><td>0.93395</td></tr><tr><td>sandmine_precision</td><td>0.2091</td></tr><tr><td>sandmine_recall</td><td>0.95526</td></tr><tr><td>train_bce_loss</td><td>0.00336</td></tr><tr><td>train_dice_loss</td><td>0.00645</td></tr><tr><td>train_time_seconds</td><td>293.55131</td></tr><tr><td>valid_time_seconds</td><td>50.08675</td></tr></table><br/></div></div>"
      ],
      "text/plain": [
       "<IPython.core.display.HTML object>"
      ]
     },
     "metadata": {},
     "output_type": "display_data"
    },
    {
     "data": {
      "text/html": [
       " View run <strong style=\"color:#cdcd00\">copper-totem-18</strong> at: <a href='https://wandb.ai/sandmining-watch/sandmine_detector/runs/8g1rg1h3' target=\"_blank\">https://wandb.ai/sandmining-watch/sandmine_detector/runs/8g1rg1h3</a><br/>Synced 5 W&B file(s), 1 media file(s), 0 artifact file(s) and 0 other file(s)"
      ],
      "text/plain": [
       "<IPython.core.display.HTML object>"
      ]
     },
     "metadata": {},
     "output_type": "display_data"
    },
    {
     "data": {
      "text/html": [
       "Find logs at: <code>./wandb/run-20231214_193134-8g1rg1h3/logs</code>"
      ],
      "text/plain": [
       "<IPython.core.display.HTML object>"
      ]
     },
     "metadata": {},
     "output_type": "display_data"
    }
   ],
   "source": [
    "wandb.finish()"
   ]
  }
 ],
 "metadata": {
  "kernelspec": {
   "display_name": "rv_timm0412",
   "language": "python",
   "name": "python3"
  },
  "language_info": {
   "codemirror_mode": {
    "name": "ipython",
    "version": 3
   },
   "file_extension": ".py",
   "mimetype": "text/x-python",
   "name": "python",
   "nbconvert_exporter": "python",
   "pygments_lexer": "ipython3",
   "version": "3.9.17"
  }
 },
 "nbformat": 4,
 "nbformat_minor": 5
}
