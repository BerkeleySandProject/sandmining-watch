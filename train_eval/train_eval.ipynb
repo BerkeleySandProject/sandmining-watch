{
 "cells": [
  {
   "cell_type": "code",
   "execution_count": 1,
   "id": "0",
   "metadata": {
    "tags": []
   },
   "outputs": [
    {
     "name": "stderr",
     "output_type": "stream",
     "text": [
      "/home/sushant.h.vema/.conda/envs/sandmining/lib/python3.9/site-packages/geopandas/_compat.py:124: UserWarning: The Shapely GEOS version (3.11.1-CAPI-1.17.1) is incompatible with the GEOS version PyGEOS was compiled with (3.10.3-CAPI-1.16.1). Conversions between both will be slow.\n",
      "  warnings.warn(\n"
     ]
    }
   ],
   "source": [
    "import sys\n",
    "import os\n",
    "sys.path.insert(0, os.path.abspath('..'))\n",
    "from os.path import expanduser\n",
    "\n",
    "%load_ext autoreload\n",
    "%autoreload 2\n",
    "\n",
    "from dotenv import load_dotenv\n",
    "load_dotenv()\n",
    "\n",
    "from google.cloud import storage\n",
    "from project_config import GCP_PROJECT_NAME, DATASET_JSON_PATH\n",
    "\n",
    "gcp_client = storage.Client(project=GCP_PROJECT_NAME)"
   ]
  },
  {
   "cell_type": "code",
   "execution_count": 2,
   "id": "1",
   "metadata": {},
   "outputs": [
    {
     "data": {
      "text/plain": [
       "<torch._C.Generator at 0x7ff187aa42b0>"
      ]
     },
     "execution_count": 2,
     "metadata": {},
     "output_type": "execute_result"
    }
   ],
   "source": [
    "import os, torch\n",
    "# os.environ[\"PYTORCH_CUDA_ALLOC_CONF\"] = \"max_split_size_mb:32\" #to prevent cuda out of memory error\n",
    "torch.cuda.empty_cache()\n",
    "\n",
    "\n",
    "#For reproducibility\n",
    "torch.manual_seed(13)"
   ]
  },
  {
   "cell_type": "markdown",
   "id": "2",
   "metadata": {},
   "source": [
    "### Configuration"
   ]
  },
  {
   "cell_type": "code",
   "execution_count": 3,
   "id": "3",
   "metadata": {},
   "outputs": [],
   "source": [
    "from experiment_configs.configs import satlas_swin_base_si_ms_linear_decoder_config\n",
    "config = satlas_swin_base_si_ms_linear_decoder_config"
   ]
  },
  {
   "cell_type": "markdown",
   "id": "4",
   "metadata": {},
   "source": [
    "### Create Rastervision datasets"
   ]
  },
  {
   "cell_type": "code",
   "execution_count": 4,
   "id": "5",
   "metadata": {
    "scrolled": true,
    "tags": []
   },
   "outputs": [
    {
     "name": "stderr",
     "output_type": "stream",
     "text": [
      "2024-05-22 23:48:11:rastervision.pipeline.file_system.utils: INFO - Using cached file /data/tmp/cache/http/storage.googleapis.com/sand_mining_median/labels/Tawa_Hoshangabad_77-80_22-74_median/s2/Tawa_Hoshangabad_77-80_22-74_2022-04-01_s2.tif.\n",
      "2024-05-22 23:48:11:rastervision.pipeline.file_system.utils: INFO - Using cached file /data/tmp/cache/http/storage.googleapis.com/sand_mining_median/labels/Tawa_Hoshangabad_77-80_22-74_median/annotations/Tawa_Hoshangabad_77-80_22-74_2022-04-01_annotations_3class.geojson.\n",
      "2024-05-22 23:48:11:rastervision.pipeline.file_system.utils: INFO - Using cached file /data/tmp/cache/http/storage.googleapis.com/sand_mining_median/labels/Tawa_Hoshangabad_77-80_22-74_median/rivers/Tawa_Hoshangabad_77-80_22-74_rivers_1000m.geojson.\n",
      "2024-05-22 23:48:11:rastervision.core.data.vector_source.geojson_vector_source: INFO - Ignoring CRS ({'type': 'name', 'properties': {'name': 'urn:ogc:def:crs:OGC:1.3:CRS84'}}) specified in https://storage.googleapis.com/sand_mining_median/labels/Tawa_Hoshangabad_77-80_22-74_median/rivers/Tawa_Hoshangabad_77-80_22-74_rivers_1000m.geojson and assuming EPSG:4326 instead.\n",
      "2024-05-22 23:48:11:rastervision.pipeline.file_system.utils: INFO - Using cached file /data/tmp/cache/http/storage.googleapis.com/sand_mining_median/labels/Sone_Rohtas_84-21_24-91_median/s2/Sone_Rohtas_84-21_24-91_2022-02-01_s2.tif.\n",
      "2024-05-22 23:48:11:rastervision.pipeline.file_system.utils: INFO - Using cached file /data/tmp/cache/http/storage.googleapis.com/sand_mining_median/labels/Sone_Rohtas_84-21_24-91_median/annotations/Sone_Rohtas_84-21_24-91_2022-02-01_annotations_3class.geojson.\n",
      "2024-05-22 23:48:12:rastervision.pipeline.file_system.utils: INFO - Using cached file /data/tmp/cache/http/storage.googleapis.com/sand_mining_median/labels/Sone_Rohtas_84-21_24-91_median/rivers/Sone_Rohtas_84-21_24-91_rivers_1000m.geojson.\n",
      "2024-05-22 23:48:12:rastervision.core.data.vector_source.geojson_vector_source: INFO - Ignoring CRS ({'type': 'name', 'properties': {'name': 'urn:ogc:def:crs:OGC:1.3:CRS84'}}) specified in https://storage.googleapis.com/sand_mining_median/labels/Sone_Rohtas_84-21_24-91_median/rivers/Sone_Rohtas_84-21_24-91_rivers_1000m.geojson and assuming EPSG:4326 instead.\n",
      "2024-05-22 23:48:12:rastervision.pipeline.file_system.utils: INFO - Using cached file /data/tmp/cache/http/storage.googleapis.com/sand_mining_median/labels/Sone_Rohtas_84-21_24-91_median/s2/Sone_Rohtas_84-21_24-91_2022-05-01_s2.tif.\n",
      "2024-05-22 23:48:12:rastervision.pipeline.file_system.utils: INFO - Using cached file /data/tmp/cache/http/storage.googleapis.com/sand_mining_median/labels/Sone_Rohtas_84-21_24-91_median/annotations/Sone_Rohtas_84-21_24-91_2022-05-01_annotations_3class.geojson.\n",
      "2024-05-22 23:48:12:rastervision.pipeline.file_system.utils: INFO - Using cached file /data/tmp/cache/http/storage.googleapis.com/sand_mining_median/labels/Sone_Rohtas_84-21_24-91_median/rivers/Sone_Rohtas_84-21_24-91_rivers_1000m.geojson.\n",
      "2024-05-22 23:48:12:rastervision.core.data.vector_source.geojson_vector_source: INFO - Ignoring CRS ({'type': 'name', 'properties': {'name': 'urn:ogc:def:crs:OGC:1.3:CRS84'}}) specified in https://storage.googleapis.com/sand_mining_median/labels/Sone_Rohtas_84-21_24-91_median/rivers/Sone_Rohtas_84-21_24-91_rivers_1000m.geojson and assuming EPSG:4326 instead.\n",
      "2024-05-22 23:48:12:rastervision.pipeline.file_system.utils: INFO - Using cached file /data/tmp/cache/http/storage.googleapis.com/sand_mining_median/labels/Bhargavi_Khordha_85-88_20-26_median/s2/Bhargavi_Khordha_85-88_20-26_2018-12-01_s2.tif.\n",
      "2024-05-22 23:48:12:rastervision.pipeline.file_system.utils: INFO - Using cached file /data/tmp/cache/http/storage.googleapis.com/sand_mining_median/labels/Bhargavi_Khordha_85-88_20-26_median/annotations/Bhargavi_Khordha_85-88_20-26_2018-12-01_annotations_3class.geojson.\n",
      "2024-05-22 23:48:12:rastervision.pipeline.file_system.utils: INFO - Using cached file /data/tmp/cache/http/storage.googleapis.com/sand_mining_median/labels/Bhargavi_Khordha_85-88_20-26_median/rivers/Bhargavi_Khordha_85-88_20-26_rivers_1000m.geojson.\n",
      "2024-05-22 23:48:12:rastervision.core.data.vector_source.geojson_vector_source: INFO - Ignoring CRS ({'type': 'name', 'properties': {'name': 'urn:ogc:def:crs:OGC:1.3:CRS84'}}) specified in https://storage.googleapis.com/sand_mining_median/labels/Bhargavi_Khordha_85-88_20-26_median/rivers/Bhargavi_Khordha_85-88_20-26_rivers_1000m.geojson and assuming EPSG:4326 instead.\n",
      "2024-05-22 23:48:12:rastervision.pipeline.file_system.utils: INFO - Using cached file /data/tmp/cache/http/storage.googleapis.com/sand_mining_median/labels/Bhargavi_Khordha_85-88_20-26_median/s2/Bhargavi_Khordha_85-88_20-26_2019-05-01_s2.tif.\n",
      "2024-05-22 23:48:12:rastervision.pipeline.file_system.utils: INFO - Using cached file /data/tmp/cache/http/storage.googleapis.com/sand_mining_median/labels/Bhargavi_Khordha_85-88_20-26_median/annotations/Bhargavi_Khordha_85-88_20-26_2019-05-01_annotations_3class.geojson.\n",
      "2024-05-22 23:48:12:rastervision.pipeline.file_system.utils: INFO - Using cached file /data/tmp/cache/http/storage.googleapis.com/sand_mining_median/labels/Bhargavi_Khordha_85-88_20-26_median/rivers/Bhargavi_Khordha_85-88_20-26_rivers_1000m.geojson.\n",
      "2024-05-22 23:48:12:rastervision.core.data.vector_source.geojson_vector_source: INFO - Ignoring CRS ({'type': 'name', 'properties': {'name': 'urn:ogc:def:crs:OGC:1.3:CRS84'}}) specified in https://storage.googleapis.com/sand_mining_median/labels/Bhargavi_Khordha_85-88_20-26_median/rivers/Bhargavi_Khordha_85-88_20-26_rivers_1000m.geojson and assuming EPSG:4326 instead.\n",
      "2024-05-22 23:48:12:rastervision.pipeline.file_system.utils: INFO - Using cached file /data/tmp/cache/http/storage.googleapis.com/sand_mining_median/labels/Ganges_Patna_85-23_25-62_median/s2/Ganges_Patna_85-23_25-62_2022-05-01_s2.tif.\n",
      "2024-05-22 23:48:12:rastervision.pipeline.file_system.utils: INFO - Using cached file /data/tmp/cache/http/storage.googleapis.com/sand_mining_median/labels/Ganges_Patna_85-23_25-62_median/annotations/Ganges_Patna_85-23_25-62_2022-05-01_annotations_3class.geojson.\n",
      "2024-05-22 23:48:12:rastervision.pipeline.file_system.utils: INFO - Using cached file /data/tmp/cache/http/storage.googleapis.com/sand_mining_median/labels/Ganges_Patna_85-23_25-62_median/rivers/Ganges_Patna_85-23_25-62_rivers_1000m.geojson.\n",
      "2024-05-22 23:48:12:rastervision.core.data.vector_source.geojson_vector_source: INFO - Ignoring CRS ({'type': 'name', 'properties': {'name': 'urn:ogc:def:crs:OGC:1.3:CRS84'}}) specified in https://storage.googleapis.com/sand_mining_median/labels/Ganges_Patna_85-23_25-62_median/rivers/Ganges_Patna_85-23_25-62_rivers_1000m.geojson and assuming EPSG:4326 instead.\n",
      "2024-05-22 23:48:12:rastervision.pipeline.file_system.utils: INFO - Using cached file /data/tmp/cache/http/storage.googleapis.com/sand_mining_median/labels/Ganges_Patna_85-1_25-66_median/s2/Ganges_Patna_85-1_25-66_2020-04-01_s2.tif.\n",
      "2024-05-22 23:48:12:rastervision.pipeline.file_system.utils: INFO - Using cached file /data/tmp/cache/http/storage.googleapis.com/sand_mining_median/labels/Ganges_Patna_85-1_25-66_median/annotations/Ganges_Patna_85-1_25-66_2020-04-01_annotations_3class.geojson.\n",
      "2024-05-22 23:48:12:rastervision.pipeline.file_system.utils: INFO - Using cached file /data/tmp/cache/http/storage.googleapis.com/sand_mining_median/labels/Ganges_Patna_85-1_25-66_median/rivers/Ganges_Patna_85-1_25-66_rivers_1000m.geojson.\n",
      "2024-05-22 23:48:12:rastervision.core.data.vector_source.geojson_vector_source: INFO - Ignoring CRS ({'type': 'name', 'properties': {'name': 'urn:ogc:def:crs:OGC:1.3:CRS84'}}) specified in https://storage.googleapis.com/sand_mining_median/labels/Ganges_Patna_85-1_25-66_median/rivers/Ganges_Patna_85-1_25-66_rivers_1000m.geojson and assuming EPSG:4326 instead.\n",
      "2024-05-22 23:48:12:rastervision.pipeline.file_system.utils: INFO - Using cached file /data/tmp/cache/http/storage.googleapis.com/sand_mining_median/labels/Ganges_Patna_85-1_25-66_median/s2/Ganges_Patna_85-1_25-66_2019-11-01_s2.tif.\n",
      "2024-05-22 23:48:12:rastervision.pipeline.file_system.utils: INFO - Using cached file /data/tmp/cache/http/storage.googleapis.com/sand_mining_median/labels/Ganges_Patna_85-1_25-66_median/annotations/Ganges_Patna_85-1_25-66_2019-11-01_annotations_3class.geojson.\n",
      "2024-05-22 23:48:12:rastervision.pipeline.file_system.utils: INFO - Using cached file /data/tmp/cache/http/storage.googleapis.com/sand_mining_median/labels/Ganges_Patna_85-1_25-66_median/rivers/Ganges_Patna_85-1_25-66_rivers_1000m.geojson.\n",
      "2024-05-22 23:48:12:rastervision.core.data.vector_source.geojson_vector_source: INFO - Ignoring CRS ({'type': 'name', 'properties': {'name': 'urn:ogc:def:crs:OGC:1.3:CRS84'}}) specified in https://storage.googleapis.com/sand_mining_median/labels/Ganges_Patna_85-1_25-66_median/rivers/Ganges_Patna_85-1_25-66_rivers_1000m.geojson and assuming EPSG:4326 instead.\n",
      "2024-05-22 23:48:12:rastervision.pipeline.file_system.utils: INFO - Using cached file /data/tmp/cache/http/storage.googleapis.com/sand_mining_median/labels/Damodar_PurbaBardhaman_87-73_23-24_median/s2/Damodar_PurbaBardhaman_87-73_23-24_2022-11-01_s2.tif.\n",
      "2024-05-22 23:48:12:rastervision.pipeline.file_system.utils: INFO - Using cached file /data/tmp/cache/http/storage.googleapis.com/sand_mining_median/labels/Damodar_PurbaBardhaman_87-73_23-24_median/annotations/Damodar_PurbaBardhaman_87-73_23-24_2022-11-01_annotations_3class.geojson.\n",
      "2024-05-22 23:48:12:rastervision.pipeline.file_system.utils: INFO - Using cached file /data/tmp/cache/http/storage.googleapis.com/sand_mining_median/labels/Damodar_PurbaBardhaman_87-73_23-24_median/rivers/Damodar_PurbaBardhaman_87-73_23-24_rivers_1000m.geojson.\n",
      "2024-05-22 23:48:12:rastervision.core.data.vector_source.geojson_vector_source: INFO - Ignoring CRS ({'type': 'name', 'properties': {'name': 'urn:ogc:def:crs:OGC:1.3:CRS84'}}) specified in https://storage.googleapis.com/sand_mining_median/labels/Damodar_PurbaBardhaman_87-73_23-24_median/rivers/Damodar_PurbaBardhaman_87-73_23-24_rivers_1000m.geojson and assuming EPSG:4326 instead.\n",
      "2024-05-22 23:48:12:rastervision.pipeline.file_system.utils: INFO - Using cached file /data/tmp/cache/http/storage.googleapis.com/sand_mining_median/labels/Damodar_PurbaBardhaman_87-73_23-24_median/s2/Damodar_PurbaBardhaman_87-73_23-24_2023-04-01_s2.tif.\n",
      "2024-05-22 23:48:12:rastervision.pipeline.file_system.utils: INFO - Using cached file /data/tmp/cache/http/storage.googleapis.com/sand_mining_median/labels/Damodar_PurbaBardhaman_87-73_23-24_median/annotations/Damodar_PurbaBardhaman_87-73_23-24_2023-04-01_annotations_3class.geojson.\n",
      "2024-05-22 23:48:13:rastervision.pipeline.file_system.utils: INFO - Using cached file /data/tmp/cache/http/storage.googleapis.com/sand_mining_median/labels/Damodar_PurbaBardhaman_87-73_23-24_median/rivers/Damodar_PurbaBardhaman_87-73_23-24_rivers_1000m.geojson.\n",
      "2024-05-22 23:48:13:rastervision.core.data.vector_source.geojson_vector_source: INFO - Ignoring CRS ({'type': 'name', 'properties': {'name': 'urn:ogc:def:crs:OGC:1.3:CRS84'}}) specified in https://storage.googleapis.com/sand_mining_median/labels/Damodar_PurbaBardhaman_87-73_23-24_median/rivers/Damodar_PurbaBardhaman_87-73_23-24_rivers_1000m.geojson and assuming EPSG:4326 instead.\n",
      "2024-05-22 23:48:13:rastervision.pipeline.file_system.utils: INFO - Using cached file /data/tmp/cache/http/storage.googleapis.com/sand_mining_median/labels/Balason_Darjeeling_88-32_26-75_median/s2/Balason_Darjeeling_88-32_26-75_2022-01-01_s2.tif.\n",
      "2024-05-22 23:48:13:rastervision.pipeline.file_system.utils: INFO - Using cached file /data/tmp/cache/http/storage.googleapis.com/sand_mining_median/labels/Balason_Darjeeling_88-32_26-75_median/annotations/Balason_Darjeeling_88-32_26-75_2022-01-01_annotations_3class.geojson.\n",
      "2024-05-22 23:48:13:rastervision.pipeline.file_system.utils: INFO - Using cached file /data/tmp/cache/http/storage.googleapis.com/sand_mining_median/labels/Balason_Darjeeling_88-32_26-75_median/rivers/Balason_Darjeeling_88-32_26-75_rivers_1000m.geojson.\n",
      "2024-05-22 23:48:13:rastervision.core.data.vector_source.geojson_vector_source: INFO - Ignoring CRS ({'type': 'name', 'properties': {'name': 'urn:ogc:def:crs:OGC:1.3:CRS84'}}) specified in https://storage.googleapis.com/sand_mining_median/labels/Balason_Darjeeling_88-32_26-75_median/rivers/Balason_Darjeeling_88-32_26-75_rivers_1000m.geojson and assuming EPSG:4326 instead.\n",
      "2024-05-22 23:48:13:rastervision.pipeline.file_system.utils: INFO - Using cached file /data/tmp/cache/http/storage.googleapis.com/sand_mining_median/labels/Sone_Patna_84-76_25-44_median/s2/Sone_Patna_84-76_25-44_2023-06-01_s2.tif.\n",
      "2024-05-22 23:48:13:rastervision.pipeline.file_system.utils: INFO - Using cached file /data/tmp/cache/http/storage.googleapis.com/sand_mining_median/labels/Sone_Patna_84-76_25-44_median/annotations/Sone_Patna_84-76_25-44_2023-06-01_annotations_3class.geojson.\n",
      "2024-05-22 23:48:13:rastervision.pipeline.file_system.utils: INFO - Using cached file /data/tmp/cache/http/storage.googleapis.com/sand_mining_median/labels/Sone_Patna_84-76_25-44_median/rivers/Sone_Patna_84-76_25-44_rivers_1000m.geojson.\n",
      "2024-05-22 23:48:13:rastervision.core.data.vector_source.geojson_vector_source: INFO - Ignoring CRS ({'type': 'name', 'properties': {'name': 'urn:ogc:def:crs:OGC:1.3:CRS84'}}) specified in https://storage.googleapis.com/sand_mining_median/labels/Sone_Patna_84-76_25-44_median/rivers/Sone_Patna_84-76_25-44_rivers_1000m.geojson and assuming EPSG:4326 instead.\n",
      "2024-05-22 23:48:13:rastervision.pipeline.file_system.utils: INFO - Using cached file /data/tmp/cache/http/storage.googleapis.com/sand_mining_median/labels/Mahananda_Jalpaiguri_88-4_26-68_median/s2/Mahananda_Jalpaiguri_88-4_26-68_2020-11-01_s2.tif.\n",
      "2024-05-22 23:48:13:rastervision.pipeline.file_system.utils: INFO - Using cached file /data/tmp/cache/http/storage.googleapis.com/sand_mining_median/labels/Mahananda_Jalpaiguri_88-4_26-68_median/annotations/Mahananda_Jalpaiguri_88-4_26-68_2020-11-01_annotations_3class.geojson.\n",
      "2024-05-22 23:48:13:rastervision.pipeline.file_system.utils: INFO - Using cached file /data/tmp/cache/http/storage.googleapis.com/sand_mining_median/labels/Mahananda_Jalpaiguri_88-4_26-68_median/rivers/Mahananda_Jalpaiguri_88-4_26-68_rivers_1000m.geojson.\n",
      "2024-05-22 23:48:13:rastervision.core.data.vector_source.geojson_vector_source: INFO - Ignoring CRS ({'type': 'name', 'properties': {'name': 'urn:ogc:def:crs:OGC:1.3:CRS84'}}) specified in https://storage.googleapis.com/sand_mining_median/labels/Mahananda_Jalpaiguri_88-4_26-68_median/rivers/Mahananda_Jalpaiguri_88-4_26-68_rivers_1000m.geojson and assuming EPSG:4326 instead.\n",
      "2024-05-22 23:48:13:rastervision.pipeline.file_system.utils: INFO - Using cached file /data/tmp/cache/http/storage.googleapis.com/sand_mining_median/labels/Mahananda_Jalpaiguri_88-4_26-68_median/s2/Mahananda_Jalpaiguri_88-4_26-68_2021-05-01_s2.tif.\n",
      "2024-05-22 23:48:13:rastervision.pipeline.file_system.utils: INFO - Using cached file /data/tmp/cache/http/storage.googleapis.com/sand_mining_median/labels/Mahananda_Jalpaiguri_88-4_26-68_median/annotations/Mahananda_Jalpaiguri_88-4_26-68_2021-05-01_annotations_3class.geojson.\n",
      "2024-05-22 23:48:13:rastervision.pipeline.file_system.utils: INFO - Using cached file /data/tmp/cache/http/storage.googleapis.com/sand_mining_median/labels/Mahananda_Jalpaiguri_88-4_26-68_median/rivers/Mahananda_Jalpaiguri_88-4_26-68_rivers_1000m.geojson.\n",
      "2024-05-22 23:48:13:rastervision.core.data.vector_source.geojson_vector_source: INFO - Ignoring CRS ({'type': 'name', 'properties': {'name': 'urn:ogc:def:crs:OGC:1.3:CRS84'}}) specified in https://storage.googleapis.com/sand_mining_median/labels/Mahananda_Jalpaiguri_88-4_26-68_median/rivers/Mahananda_Jalpaiguri_88-4_26-68_rivers_1000m.geojson and assuming EPSG:4326 instead.\n",
      "2024-05-22 23:48:13:rastervision.pipeline.file_system.utils: INFO - Using cached file /data/tmp/cache/http/storage.googleapis.com/sand_mining_median/labels/Betwa_Jalaun_79-49_25-84_median/s2/Betwa_Jalaun_79-49_25-84_2022-10-01_s2.tif.\n",
      "2024-05-22 23:48:13:rastervision.pipeline.file_system.utils: INFO - Using cached file /data/tmp/cache/http/storage.googleapis.com/sand_mining_median/labels/Betwa_Jalaun_79-49_25-84_median/annotations/Betwa_Jalaun_79-49_25-84_2022-10-01_annotations_3class.geojson.\n",
      "2024-05-22 23:48:13:rastervision.pipeline.file_system.utils: INFO - Using cached file /data/tmp/cache/http/storage.googleapis.com/sand_mining_median/labels/Betwa_Jalaun_79-49_25-84_median/rivers/Betwa_Jalaun_79-49_25-84_rivers_1000m.geojson.\n",
      "2024-05-22 23:48:13:rastervision.core.data.vector_source.geojson_vector_source: INFO - Ignoring CRS ({'type': 'name', 'properties': {'name': 'urn:ogc:def:crs:OGC:1.3:CRS84'}}) specified in https://storage.googleapis.com/sand_mining_median/labels/Betwa_Jalaun_79-49_25-84_median/rivers/Betwa_Jalaun_79-49_25-84_rivers_1000m.geojson and assuming EPSG:4326 instead.\n",
      "2024-05-22 23:48:13:rastervision.pipeline.file_system.utils: INFO - Using cached file /data/tmp/cache/http/storage.googleapis.com/sand_mining_median/labels/Betwa_Jalaun_79-49_25-84_median/s2/Betwa_Jalaun_79-49_25-84_2023-05-01_s2.tif.\n",
      "2024-05-22 23:48:13:rastervision.pipeline.file_system.utils: INFO - Using cached file /data/tmp/cache/http/storage.googleapis.com/sand_mining_median/labels/Betwa_Jalaun_79-49_25-84_median/annotations/Betwa_Jalaun_79-49_25-84_2023-05-01_annotations_3class.geojson.\n",
      "2024-05-22 23:48:13:rastervision.pipeline.file_system.utils: INFO - Using cached file /data/tmp/cache/http/storage.googleapis.com/sand_mining_median/labels/Betwa_Jalaun_79-49_25-84_median/rivers/Betwa_Jalaun_79-49_25-84_rivers_1000m.geojson.\n",
      "2024-05-22 23:48:13:rastervision.core.data.vector_source.geojson_vector_source: INFO - Ignoring CRS ({'type': 'name', 'properties': {'name': 'urn:ogc:def:crs:OGC:1.3:CRS84'}}) specified in https://storage.googleapis.com/sand_mining_median/labels/Betwa_Jalaun_79-49_25-84_median/rivers/Betwa_Jalaun_79-49_25-84_rivers_1000m.geojson and assuming EPSG:4326 instead.\n",
      "2024-05-22 23:48:13:rastervision.pipeline.file_system.utils: INFO - Using cached file /data/tmp/cache/http/storage.googleapis.com/sand_mining_median/labels/Betwa_Jalaun_79-79_25-89_median/s2/Betwa_Jalaun_79-79_25-89_2022-10-01_s2.tif.\n",
      "2024-05-22 23:48:13:rastervision.pipeline.file_system.utils: INFO - Using cached file /data/tmp/cache/http/storage.googleapis.com/sand_mining_median/labels/Betwa_Jalaun_79-79_25-89_median/annotations/Betwa_Jalaun_79-79_25-89_2022-10-01_annotations_3class.geojson.\n",
      "2024-05-22 23:48:13:rastervision.pipeline.file_system.utils: INFO - Using cached file /data/tmp/cache/http/storage.googleapis.com/sand_mining_median/labels/Betwa_Jalaun_79-79_25-89_median/rivers/Betwa_Jalaun_79-79_25-89_rivers_1000m.geojson.\n",
      "2024-05-22 23:48:13:rastervision.core.data.vector_source.geojson_vector_source: INFO - Ignoring CRS ({'type': 'name', 'properties': {'name': 'urn:ogc:def:crs:OGC:1.3:CRS84'}}) specified in https://storage.googleapis.com/sand_mining_median/labels/Betwa_Jalaun_79-79_25-89_median/rivers/Betwa_Jalaun_79-79_25-89_rivers_1000m.geojson and assuming EPSG:4326 instead.\n",
      "2024-05-22 23:48:13:rastervision.pipeline.file_system.utils: INFO - Using cached file /data/tmp/cache/http/storage.googleapis.com/sand_mining_median/labels/Mahanadi_Angul_84-52_20-71_median/s2/Mahanadi_Angul_84-52_20-71_2021-11-01_s2.tif.\n",
      "2024-05-22 23:48:13:rastervision.pipeline.file_system.utils: INFO - Using cached file /data/tmp/cache/http/storage.googleapis.com/sand_mining_median/labels/Mahanadi_Angul_84-52_20-71_median/annotations/Mahanadi_Angul_84-52_20-71_2021-11-01_annotations_3class.geojson.\n",
      "2024-05-22 23:48:13:rastervision.pipeline.file_system.utils: INFO - Using cached file /data/tmp/cache/http/storage.googleapis.com/sand_mining_median/labels/Mahanadi_Angul_84-52_20-71_median/rivers/Mahanadi_Angul_84-52_20-71_rivers_1000m.geojson.\n",
      "2024-05-22 23:48:13:rastervision.core.data.vector_source.geojson_vector_source: INFO - Ignoring CRS ({'type': 'name', 'properties': {'name': 'urn:ogc:def:crs:OGC:1.3:CRS84'}}) specified in https://storage.googleapis.com/sand_mining_median/labels/Mahanadi_Angul_84-52_20-71_median/rivers/Mahanadi_Angul_84-52_20-71_rivers_1000m.geojson and assuming EPSG:4326 instead.\n",
      "2024-05-22 23:48:13:rastervision.pipeline.file_system.utils: INFO - Using cached file /data/tmp/cache/http/storage.googleapis.com/sand_mining_median/labels/Mahanadi_Angul_84-52_20-71_median/s2/Mahanadi_Angul_84-52_20-71_2022-04-01_s2.tif.\n",
      "2024-05-22 23:48:13:rastervision.pipeline.file_system.utils: INFO - Using cached file /data/tmp/cache/http/storage.googleapis.com/sand_mining_median/labels/Mahanadi_Angul_84-52_20-71_median/annotations/Mahanadi_Angul_84-52_20-71_2022-04-01_annotations_3class.geojson.\n",
      "2024-05-22 23:48:13:rastervision.pipeline.file_system.utils: INFO - Using cached file /data/tmp/cache/http/storage.googleapis.com/sand_mining_median/labels/Mahanadi_Angul_84-52_20-71_median/rivers/Mahanadi_Angul_84-52_20-71_rivers_1000m.geojson.\n",
      "2024-05-22 23:48:13:rastervision.core.data.vector_source.geojson_vector_source: INFO - Ignoring CRS ({'type': 'name', 'properties': {'name': 'urn:ogc:def:crs:OGC:1.3:CRS84'}}) specified in https://storage.googleapis.com/sand_mining_median/labels/Mahanadi_Angul_84-52_20-71_median/rivers/Mahanadi_Angul_84-52_20-71_rivers_1000m.geojson and assuming EPSG:4326 instead.\n",
      "2024-05-22 23:48:13:rastervision.pipeline.file_system.utils: INFO - Using cached file /data/tmp/cache/http/storage.googleapis.com/sand_mining_median/labels/Mahananda_UttarDinajpur_88-25_26-46_median/s2/Mahananda_UttarDinajpur_88-25_26-46_2020-10-01_s2.tif.\n",
      "2024-05-22 23:48:13:rastervision.pipeline.file_system.utils: INFO - Using cached file /data/tmp/cache/http/storage.googleapis.com/sand_mining_median/labels/Mahananda_UttarDinajpur_88-25_26-46_median/annotations/Mahananda_UttarDinajpur_88-25_26-46_2020-10-01_annotations_3class.geojson.\n",
      "2024-05-22 23:48:13:rastervision.pipeline.file_system.utils: INFO - Using cached file /data/tmp/cache/http/storage.googleapis.com/sand_mining_median/labels/Mahananda_UttarDinajpur_88-25_26-46_median/rivers/Mahananda_UttarDinajpur_88-25_26-46_rivers_1000m.geojson.\n",
      "2024-05-22 23:48:13:rastervision.core.data.vector_source.geojson_vector_source: INFO - Ignoring CRS ({'type': 'name', 'properties': {'name': 'urn:ogc:def:crs:OGC:1.3:CRS84'}}) specified in https://storage.googleapis.com/sand_mining_median/labels/Mahananda_UttarDinajpur_88-25_26-46_median/rivers/Mahananda_UttarDinajpur_88-25_26-46_rivers_1000m.geojson and assuming EPSG:4326 instead.\n",
      "2024-05-22 23:48:13:rastervision.pipeline.file_system.utils: INFO - Using cached file /data/tmp/cache/http/storage.googleapis.com/sand_mining_median/labels/Mahananda_UttarDinajpur_88-25_26-46_median/s2/Mahananda_UttarDinajpur_88-25_26-46_2021-04-01_s2.tif.\n",
      "2024-05-22 23:48:13:rastervision.pipeline.file_system.utils: INFO - Using cached file /data/tmp/cache/http/storage.googleapis.com/sand_mining_median/labels/Mahananda_UttarDinajpur_88-25_26-46_median/annotations/Mahananda_UttarDinajpur_88-25_26-46_2021-04-01_annotations_3class.geojson.\n",
      "2024-05-22 23:48:14:rastervision.pipeline.file_system.utils: INFO - Using cached file /data/tmp/cache/http/storage.googleapis.com/sand_mining_median/labels/Mahananda_UttarDinajpur_88-25_26-46_median/rivers/Mahananda_UttarDinajpur_88-25_26-46_rivers_1000m.geojson.\n",
      "2024-05-22 23:48:14:rastervision.core.data.vector_source.geojson_vector_source: INFO - Ignoring CRS ({'type': 'name', 'properties': {'name': 'urn:ogc:def:crs:OGC:1.3:CRS84'}}) specified in https://storage.googleapis.com/sand_mining_median/labels/Mahananda_UttarDinajpur_88-25_26-46_median/rivers/Mahananda_UttarDinajpur_88-25_26-46_rivers_1000m.geojson and assuming EPSG:4326 instead.\n",
      "2024-05-22 23:48:14:rastervision.pipeline.file_system.utils: INFO - Using cached file /data/tmp/cache/http/storage.googleapis.com/sand_mining_median/labels/Gangadhar_CoochBehar_89-86_26-46_median/s2/Gangadhar_CoochBehar_89-86_26-46_2021-12-01_s2.tif.\n",
      "2024-05-22 23:48:14:rastervision.pipeline.file_system.utils: INFO - Using cached file /data/tmp/cache/http/storage.googleapis.com/sand_mining_median/labels/Gangadhar_CoochBehar_89-86_26-46_median/annotations/Gangadhar_CoochBehar_89-86_26-46_2021-12-01_annotations_3class.geojson.\n",
      "2024-05-22 23:48:14:rastervision.pipeline.file_system.utils: INFO - Using cached file /data/tmp/cache/http/storage.googleapis.com/sand_mining_median/labels/Gangadhar_CoochBehar_89-86_26-46_median/rivers/Gangadhar_CoochBehar_89-86_26-46_rivers_1000m.geojson.\n",
      "2024-05-22 23:48:14:rastervision.core.data.vector_source.geojson_vector_source: INFO - Ignoring CRS ({'type': 'name', 'properties': {'name': 'urn:ogc:def:crs:OGC:1.3:CRS84'}}) specified in https://storage.googleapis.com/sand_mining_median/labels/Gangadhar_CoochBehar_89-86_26-46_median/rivers/Gangadhar_CoochBehar_89-86_26-46_rivers_1000m.geojson and assuming EPSG:4326 instead.\n",
      "2024-05-22 23:48:14:rastervision.pipeline.file_system.utils: INFO - Using cached file /data/tmp/cache/http/storage.googleapis.com/sand_mining_median/labels/Damodar_PurbaBardhaman_87-39_23-42_median/s2/Damodar_PurbaBardhaman_87-39_23-42_2022-10-01_s2.tif.\n",
      "2024-05-22 23:48:14:rastervision.pipeline.file_system.utils: INFO - Using cached file /data/tmp/cache/http/storage.googleapis.com/sand_mining_median/labels/Damodar_PurbaBardhaman_87-39_23-42_median/annotations/Damodar_PurbaBardhaman_87-39_23-42_2022-10-01_annotations_3class.geojson.\n",
      "2024-05-22 23:48:14:rastervision.pipeline.file_system.utils: INFO - Using cached file /data/tmp/cache/http/storage.googleapis.com/sand_mining_median/labels/Damodar_PurbaBardhaman_87-39_23-42_median/rivers/Damodar_PurbaBardhaman_87-39_23-42_rivers_1000m.geojson.\n",
      "2024-05-22 23:48:14:rastervision.core.data.vector_source.geojson_vector_source: INFO - Ignoring CRS ({'type': 'name', 'properties': {'name': 'urn:ogc:def:crs:OGC:1.3:CRS84'}}) specified in https://storage.googleapis.com/sand_mining_median/labels/Damodar_PurbaBardhaman_87-39_23-42_median/rivers/Damodar_PurbaBardhaman_87-39_23-42_rivers_1000m.geojson and assuming EPSG:4326 instead.\n",
      "2024-05-22 23:48:14:rastervision.pipeline.file_system.utils: INFO - Using cached file /data/tmp/cache/http/storage.googleapis.com/sand_mining_median/labels/Damodar_PurbaBardhaman_87-39_23-42_median/s2/Damodar_PurbaBardhaman_87-39_23-42_2023-03-01_s2.tif.\n",
      "2024-05-22 23:48:14:rastervision.pipeline.file_system.utils: INFO - Using cached file /data/tmp/cache/http/storage.googleapis.com/sand_mining_median/labels/Damodar_PurbaBardhaman_87-39_23-42_median/annotations/Damodar_PurbaBardhaman_87-39_23-42_2023-03-01_annotations_3class.geojson.\n",
      "2024-05-22 23:48:14:rastervision.pipeline.file_system.utils: INFO - Using cached file /data/tmp/cache/http/storage.googleapis.com/sand_mining_median/labels/Damodar_PurbaBardhaman_87-39_23-42_median/rivers/Damodar_PurbaBardhaman_87-39_23-42_rivers_1000m.geojson.\n",
      "2024-05-22 23:48:14:rastervision.core.data.vector_source.geojson_vector_source: INFO - Ignoring CRS ({'type': 'name', 'properties': {'name': 'urn:ogc:def:crs:OGC:1.3:CRS84'}}) specified in https://storage.googleapis.com/sand_mining_median/labels/Damodar_PurbaBardhaman_87-39_23-42_median/rivers/Damodar_PurbaBardhaman_87-39_23-42_rivers_1000m.geojson and assuming EPSG:4326 instead.\n",
      "2024-05-22 23:48:14:rastervision.pipeline.file_system.utils: INFO - Using cached file /data/tmp/cache/http/storage.googleapis.com/sand_mining_median/labels/Teesta_Jalpaiguri_88-6_26-84_median/s2/Teesta_Jalpaiguri_88-6_26-84_2021-12-01_s2.tif.\n",
      "2024-05-22 23:48:14:rastervision.pipeline.file_system.utils: INFO - Using cached file /data/tmp/cache/http/storage.googleapis.com/sand_mining_median/labels/Teesta_Jalpaiguri_88-6_26-84_median/annotations/Teesta_Jalpaiguri_88-6_26-84_2021-12-01_annotations_3class.geojson.\n",
      "2024-05-22 23:48:14:rastervision.pipeline.file_system.utils: INFO - Using cached file /data/tmp/cache/http/storage.googleapis.com/sand_mining_median/labels/Teesta_Jalpaiguri_88-6_26-84_median/rivers/Teesta_Jalpaiguri_88-6_26-84_rivers_1000m.geojson.\n",
      "2024-05-22 23:48:14:rastervision.core.data.vector_source.geojson_vector_source: INFO - Ignoring CRS ({'type': 'name', 'properties': {'name': 'urn:ogc:def:crs:OGC:1.3:CRS84'}}) specified in https://storage.googleapis.com/sand_mining_median/labels/Teesta_Jalpaiguri_88-6_26-84_median/rivers/Teesta_Jalpaiguri_88-6_26-84_rivers_1000m.geojson and assuming EPSG:4326 instead.\n",
      "2024-05-22 23:48:14:rastervision.pipeline.file_system.utils: INFO - Using cached file /data/tmp/cache/http/storage.googleapis.com/sand_mining_median/labels/Palar_Ranipet_79-43_12-88_median/s2/Palar_Ranipet_79-43_12-88_2019-04-01_s2.tif.\n",
      "2024-05-22 23:48:14:rastervision.pipeline.file_system.utils: INFO - Using cached file /data/tmp/cache/http/storage.googleapis.com/sand_mining_median/labels/Palar_Ranipet_79-43_12-88_median/annotations/Palar_Ranipet_79-43_12-88_2019-04-01_annotations_3class.geojson.\n",
      "2024-05-22 23:48:14:rastervision.pipeline.file_system.utils: INFO - Using cached file /data/tmp/cache/http/storage.googleapis.com/sand_mining_median/labels/Palar_Ranipet_79-43_12-88_median/rivers/Palar_Ranipet_79-43_12-88_rivers_1000m.geojson.\n",
      "2024-05-22 23:48:14:rastervision.core.data.vector_source.geojson_vector_source: INFO - Ignoring CRS ({'type': 'name', 'properties': {'name': 'urn:ogc:def:crs:OGC:1.3:CRS84'}}) specified in https://storage.googleapis.com/sand_mining_median/labels/Palar_Ranipet_79-43_12-88_median/rivers/Palar_Ranipet_79-43_12-88_rivers_1000m.geojson and assuming EPSG:4326 instead.\n",
      "2024-05-22 23:48:14:rastervision.pipeline.file_system.utils: INFO - Using cached file /data/tmp/cache/http/storage.googleapis.com/sand_mining_median/labels/Godavari_EastGodavari_81-05_17-62_median/s2/Godavari_EastGodavari_81-05_17-62_2022-05-01_s2.tif.\n",
      "2024-05-22 23:48:14:rastervision.pipeline.file_system.utils: INFO - Using cached file /data/tmp/cache/http/storage.googleapis.com/sand_mining_median/labels/Godavari_EastGodavari_81-05_17-62_median/annotations/Godavari_EastGodavari_81-05_17-62_2022-05-01_annotations_3class.geojson.\n",
      "2024-05-22 23:48:14:rastervision.pipeline.file_system.utils: INFO - Using cached file /data/tmp/cache/http/storage.googleapis.com/sand_mining_median/labels/Godavari_EastGodavari_81-05_17-62_median/rivers/Godavari_EastGodavari_81-05_17-62_rivers_1000m.geojson.\n",
      "2024-05-22 23:48:14:rastervision.core.data.vector_source.geojson_vector_source: INFO - Ignoring CRS ({'type': 'name', 'properties': {'name': 'urn:ogc:def:crs:OGC:1.3:CRS84'}}) specified in https://storage.googleapis.com/sand_mining_median/labels/Godavari_EastGodavari_81-05_17-62_median/rivers/Godavari_EastGodavari_81-05_17-62_rivers_1000m.geojson and assuming EPSG:4326 instead.\n",
      "2024-05-22 23:48:14:rastervision.pipeline.file_system.utils: INFO - Using cached file /data/tmp/cache/http/storage.googleapis.com/sand_mining_median/labels/Godavari_EastGodavari_81-05_17-62_median/s2/Godavari_EastGodavari_81-05_17-62_2022-10-01_s2.tif.\n",
      "2024-05-22 23:48:14:rastervision.pipeline.file_system.utils: INFO - Using cached file /data/tmp/cache/http/storage.googleapis.com/sand_mining_median/labels/Godavari_EastGodavari_81-05_17-62_median/annotations/Godavari_EastGodavari_81-05_17-62_2022-10-01_annotations_3class.geojson.\n",
      "2024-05-22 23:48:14:rastervision.pipeline.file_system.utils: INFO - Using cached file /data/tmp/cache/http/storage.googleapis.com/sand_mining_median/labels/Godavari_EastGodavari_81-05_17-62_median/rivers/Godavari_EastGodavari_81-05_17-62_rivers_1000m.geojson.\n",
      "2024-05-22 23:48:14:rastervision.core.data.vector_source.geojson_vector_source: INFO - Ignoring CRS ({'type': 'name', 'properties': {'name': 'urn:ogc:def:crs:OGC:1.3:CRS84'}}) specified in https://storage.googleapis.com/sand_mining_median/labels/Godavari_EastGodavari_81-05_17-62_median/rivers/Godavari_EastGodavari_81-05_17-62_rivers_1000m.geojson and assuming EPSG:4326 instead.\n",
      "2024-05-22 23:48:14:rastervision.pipeline.file_system.utils: INFO - Using cached file /data/tmp/cache/http/storage.googleapis.com/sand_mining_median/labels/Sone_Arwal_83-15_24-4_median/s2/Sone_Arwal_83-15_24-4_2022-05-01_s2.tif.\n",
      "2024-05-22 23:48:14:rastervision.pipeline.file_system.utils: INFO - Using cached file /data/tmp/cache/http/storage.googleapis.com/sand_mining_median/labels/Sone_Arwal_83-15_24-4_median/annotations/Sone_Arwal_83-15_24-4_2022-05-01_annotations_3class.geojson.\n",
      "2024-05-22 23:48:14:rastervision.pipeline.file_system.utils: INFO - Using cached file /data/tmp/cache/http/storage.googleapis.com/sand_mining_median/labels/Sone_Arwal_83-15_24-4_median/rivers/Sone_Arwal_83-15_24-4_rivers_1000m.geojson.\n",
      "2024-05-22 23:48:14:rastervision.core.data.vector_source.geojson_vector_source: INFO - Ignoring CRS ({'type': 'name', 'properties': {'name': 'urn:ogc:def:crs:OGC:1.3:CRS84'}}) specified in https://storage.googleapis.com/sand_mining_median/labels/Sone_Arwal_83-15_24-4_median/rivers/Sone_Arwal_83-15_24-4_rivers_1000m.geojson and assuming EPSG:4326 instead.\n",
      "2024-05-22 23:48:14:rastervision.pipeline.file_system.utils: INFO - Using cached file /data/tmp/cache/http/storage.googleapis.com/sand_mining_median/labels/Penna_Nellore_79-78_14-56_median/s2/Penna_Nellore_79-78_14-56_2019-08-01_s2.tif.\n",
      "2024-05-22 23:48:14:rastervision.pipeline.file_system.utils: INFO - Using cached file /data/tmp/cache/http/storage.googleapis.com/sand_mining_median/labels/Penna_Nellore_79-78_14-56_median/annotations/Penna_Nellore_79-78_14-56_2019-08-01_annotations_3class.geojson.\n",
      "2024-05-22 23:48:14:rastervision.pipeline.file_system.utils: INFO - Using cached file /data/tmp/cache/http/storage.googleapis.com/sand_mining_median/labels/Penna_Nellore_79-78_14-56_median/rivers/Penna_Nellore_79-78_14-56_rivers_1000m.geojson.\n",
      "2024-05-22 23:48:14:rastervision.core.data.vector_source.geojson_vector_source: INFO - Ignoring CRS ({'type': 'name', 'properties': {'name': 'urn:ogc:def:crs:OGC:1.3:CRS84'}}) specified in https://storage.googleapis.com/sand_mining_median/labels/Penna_Nellore_79-78_14-56_median/rivers/Penna_Nellore_79-78_14-56_rivers_1000m.geojson and assuming EPSG:4326 instead.\n",
      "2024-05-22 23:48:14:rastervision.pipeline.file_system.utils: INFO - Using cached file /data/tmp/cache/http/storage.googleapis.com/sand_mining_median/labels/Penna_Nellore_79-78_14-56_median/s2/Penna_Nellore_79-78_14-56_2019-04-01_s2.tif.\n",
      "2024-05-22 23:48:14:rastervision.pipeline.file_system.utils: INFO - Using cached file /data/tmp/cache/http/storage.googleapis.com/sand_mining_median/labels/Penna_Nellore_79-78_14-56_median/annotations/Penna_Nellore_79-78_14-56_2019-04-01_annotations_3class.geojson.\n",
      "2024-05-22 23:48:14:rastervision.pipeline.file_system.utils: INFO - Using cached file /data/tmp/cache/http/storage.googleapis.com/sand_mining_median/labels/Penna_Nellore_79-78_14-56_median/rivers/Penna_Nellore_79-78_14-56_rivers_1000m.geojson.\n",
      "2024-05-22 23:48:14:rastervision.core.data.vector_source.geojson_vector_source: INFO - Ignoring CRS ({'type': 'name', 'properties': {'name': 'urn:ogc:def:crs:OGC:1.3:CRS84'}}) specified in https://storage.googleapis.com/sand_mining_median/labels/Penna_Nellore_79-78_14-56_median/rivers/Penna_Nellore_79-78_14-56_rivers_1000m.geojson and assuming EPSG:4326 instead.\n",
      "2024-05-22 23:48:14:rastervision.pipeline.file_system.utils: INFO - Using cached file /data/tmp/cache/http/storage.googleapis.com/sand_mining_median/labels/Godavari_EastGodavari_81-81_16-79_median/s2/Godavari_EastGodavari_81-81_16-79_2022-03-01_s2.tif.\n",
      "2024-05-22 23:48:14:rastervision.pipeline.file_system.utils: INFO - Using cached file /data/tmp/cache/http/storage.googleapis.com/sand_mining_median/labels/Godavari_EastGodavari_81-81_16-79_median/annotations/Godavari_EastGodavari_81-81_16-79_2022-03-01_annotations_3class.geojson.\n",
      "2024-05-22 23:48:14:rastervision.pipeline.file_system.utils: INFO - Using cached file /data/tmp/cache/http/storage.googleapis.com/sand_mining_median/labels/Godavari_EastGodavari_81-81_16-79_median/rivers/Godavari_EastGodavari_81-81_16-79_rivers_1000m.geojson.\n",
      "2024-05-22 23:48:14:rastervision.core.data.vector_source.geojson_vector_source: INFO - Ignoring CRS ({'type': 'name', 'properties': {'name': 'urn:ogc:def:crs:OGC:1.3:CRS84'}}) specified in https://storage.googleapis.com/sand_mining_median/labels/Godavari_EastGodavari_81-81_16-79_median/rivers/Godavari_EastGodavari_81-81_16-79_rivers_1000m.geojson and assuming EPSG:4326 instead.\n",
      "2024-05-22 23:48:14:rastervision.pipeline.file_system.utils: INFO - Using cached file /data/tmp/cache/http/storage.googleapis.com/sand_mining_median/labels/Godavari_EastGodavari_81-81_16-79_median/s2/Godavari_EastGodavari_81-81_16-79_2023-02-01_s2.tif.\n",
      "2024-05-22 23:48:14:rastervision.pipeline.file_system.utils: INFO - Using cached file /data/tmp/cache/http/storage.googleapis.com/sand_mining_median/labels/Godavari_EastGodavari_81-81_16-79_median/annotations/Godavari_EastGodavari_81-81_16-79_2023-02-01_annotations_3class.geojson.\n",
      "2024-05-22 23:48:14:rastervision.pipeline.file_system.utils: INFO - Using cached file /data/tmp/cache/http/storage.googleapis.com/sand_mining_median/labels/Godavari_EastGodavari_81-81_16-79_median/rivers/Godavari_EastGodavari_81-81_16-79_rivers_1000m.geojson.\n",
      "2024-05-22 23:48:14:rastervision.core.data.vector_source.geojson_vector_source: INFO - Ignoring CRS ({'type': 'name', 'properties': {'name': 'urn:ogc:def:crs:OGC:1.3:CRS84'}}) specified in https://storage.googleapis.com/sand_mining_median/labels/Godavari_EastGodavari_81-81_16-79_median/rivers/Godavari_EastGodavari_81-81_16-79_rivers_1000m.geojson and assuming EPSG:4326 instead.\n",
      "2024-05-22 23:48:15:rastervision.pipeline.file_system.utils: INFO - Using cached file /data/tmp/cache/http/storage.googleapis.com/sand_mining_median/labels/Godavari_EastGodavari_81-78_16-9_median/s2/Godavari_EastGodavari_81-78_16-9_2022-03-01_s2.tif.\n",
      "2024-05-22 23:48:15:rastervision.pipeline.file_system.utils: INFO - Using cached file /data/tmp/cache/http/storage.googleapis.com/sand_mining_median/labels/Godavari_EastGodavari_81-78_16-9_median/annotations/Godavari_EastGodavari_81-78_16-9_2022-03-01_annotations_3class.geojson.\n",
      "2024-05-22 23:48:15:rastervision.pipeline.file_system.utils: INFO - Using cached file /data/tmp/cache/http/storage.googleapis.com/sand_mining_median/labels/Godavari_EastGodavari_81-78_16-9_median/rivers/Godavari_EastGodavari_81-78_16-9_rivers_1000m.geojson.\n",
      "2024-05-22 23:48:15:rastervision.core.data.vector_source.geojson_vector_source: INFO - Ignoring CRS ({'type': 'name', 'properties': {'name': 'urn:ogc:def:crs:OGC:1.3:CRS84'}}) specified in https://storage.googleapis.com/sand_mining_median/labels/Godavari_EastGodavari_81-78_16-9_median/rivers/Godavari_EastGodavari_81-78_16-9_rivers_1000m.geojson and assuming EPSG:4326 instead.\n",
      "2024-05-22 23:48:15:rastervision.pipeline.file_system.utils: INFO - Using cached file /data/tmp/cache/http/storage.googleapis.com/sand_mining_median/labels/Godavari_EastGodavari_81-78_16-9_median/s2/Godavari_EastGodavari_81-78_16-9_2022-06-01_s2.tif.\n",
      "2024-05-22 23:48:15:rastervision.pipeline.file_system.utils: INFO - Using cached file /data/tmp/cache/http/storage.googleapis.com/sand_mining_median/labels/Godavari_EastGodavari_81-78_16-9_median/annotations/Godavari_EastGodavari_81-78_16-9_2022-06-01_annotations_3class.geojson.\n",
      "2024-05-22 23:48:15:rastervision.pipeline.file_system.utils: INFO - Using cached file /data/tmp/cache/http/storage.googleapis.com/sand_mining_median/labels/Godavari_EastGodavari_81-78_16-9_median/rivers/Godavari_EastGodavari_81-78_16-9_rivers_1000m.geojson.\n",
      "2024-05-22 23:48:15:rastervision.core.data.vector_source.geojson_vector_source: INFO - Ignoring CRS ({'type': 'name', 'properties': {'name': 'urn:ogc:def:crs:OGC:1.3:CRS84'}}) specified in https://storage.googleapis.com/sand_mining_median/labels/Godavari_EastGodavari_81-78_16-9_median/rivers/Godavari_EastGodavari_81-78_16-9_rivers_1000m.geojson and assuming EPSG:4326 instead.\n",
      "2024-05-22 23:48:15:rastervision.pipeline.file_system.utils: INFO - Using cached file /data/tmp/cache/http/storage.googleapis.com/sand_mining_median/labels/Godavari_EastGodavari_81-71_17-09_median/s2/Godavari_EastGodavari_81-71_17-09_2021-12-01_s2.tif.\n",
      "2024-05-22 23:48:15:rastervision.pipeline.file_system.utils: INFO - Using cached file /data/tmp/cache/http/storage.googleapis.com/sand_mining_median/labels/Godavari_EastGodavari_81-71_17-09_median/annotations/Godavari_EastGodavari_81-71_17-09_2021-12-01_annotations_3class.geojson.\n",
      "2024-05-22 23:48:15:rastervision.pipeline.file_system.utils: INFO - Using cached file /data/tmp/cache/http/storage.googleapis.com/sand_mining_median/labels/Godavari_EastGodavari_81-71_17-09_median/rivers/Godavari_EastGodavari_81-71_17-09_rivers_1000m.geojson.\n",
      "2024-05-22 23:48:15:rastervision.core.data.vector_source.geojson_vector_source: INFO - Ignoring CRS ({'type': 'name', 'properties': {'name': 'urn:ogc:def:crs:OGC:1.3:CRS84'}}) specified in https://storage.googleapis.com/sand_mining_median/labels/Godavari_EastGodavari_81-71_17-09_median/rivers/Godavari_EastGodavari_81-71_17-09_rivers_1000m.geojson and assuming EPSG:4326 instead.\n",
      "2024-05-22 23:48:15:rastervision.pipeline.file_system.utils: INFO - Using cached file /data/tmp/cache/http/storage.googleapis.com/sand_mining_median/labels/Godavari_EastGodavari_81-71_17-09_median/s2/Godavari_EastGodavari_81-71_17-09_2022-04-01_s2.tif.\n",
      "2024-05-22 23:48:15:rastervision.pipeline.file_system.utils: INFO - Using cached file /data/tmp/cache/http/storage.googleapis.com/sand_mining_median/labels/Godavari_EastGodavari_81-71_17-09_median/annotations/Godavari_EastGodavari_81-71_17-09_2022-04-01_annotations_3class.geojson.\n",
      "2024-05-22 23:48:15:rastervision.pipeline.file_system.utils: INFO - Using cached file /data/tmp/cache/http/storage.googleapis.com/sand_mining_median/labels/Godavari_EastGodavari_81-71_17-09_median/rivers/Godavari_EastGodavari_81-71_17-09_rivers_1000m.geojson.\n",
      "2024-05-22 23:48:15:rastervision.core.data.vector_source.geojson_vector_source: INFO - Ignoring CRS ({'type': 'name', 'properties': {'name': 'urn:ogc:def:crs:OGC:1.3:CRS84'}}) specified in https://storage.googleapis.com/sand_mining_median/labels/Godavari_EastGodavari_81-71_17-09_median/rivers/Godavari_EastGodavari_81-71_17-09_rivers_1000m.geojson and assuming EPSG:4326 instead.\n",
      "2024-05-22 23:48:15:rastervision.pipeline.file_system.utils: INFO - Using cached file /data/tmp/cache/http/storage.googleapis.com/sand_mining_median/labels/Godavari_EastGodavari_81-9_16-75_median/s2/Godavari_EastGodavari_81-9_16-75_2023-02-01_s2.tif.\n",
      "2024-05-22 23:48:15:rastervision.pipeline.file_system.utils: INFO - Using cached file /data/tmp/cache/http/storage.googleapis.com/sand_mining_median/labels/Godavari_EastGodavari_81-9_16-75_median/annotations/Godavari_EastGodavari_81-9_16-75_2023-02-01_annotations_3class.geojson.\n",
      "2024-05-22 23:48:15:rastervision.pipeline.file_system.utils: INFO - Using cached file /data/tmp/cache/http/storage.googleapis.com/sand_mining_median/labels/Godavari_EastGodavari_81-9_16-75_median/rivers/Godavari_EastGodavari_81-9_16-75_rivers_1000m.geojson.\n",
      "2024-05-22 23:48:15:rastervision.core.data.vector_source.geojson_vector_source: INFO - Ignoring CRS ({'type': 'name', 'properties': {'name': 'urn:ogc:def:crs:OGC:1.3:CRS84'}}) specified in https://storage.googleapis.com/sand_mining_median/labels/Godavari_EastGodavari_81-9_16-75_median/rivers/Godavari_EastGodavari_81-9_16-75_rivers_1000m.geojson and assuming EPSG:4326 instead.\n",
      "2024-05-22 23:48:15:rastervision.pipeline.file_system.utils: INFO - Using cached file /data/tmp/cache/http/storage.googleapis.com/sand_mining_median/labels/Godavari_EastGodavari_81-9_16-75_median/s2/Godavari_EastGodavari_81-9_16-75_2023-04-01_s2.tif.\n",
      "2024-05-22 23:48:15:rastervision.pipeline.file_system.utils: INFO - Using cached file /data/tmp/cache/http/storage.googleapis.com/sand_mining_median/labels/Godavari_EastGodavari_81-9_16-75_median/annotations/Godavari_EastGodavari_81-9_16-75_2023-04-01_annotations_3class.geojson.\n",
      "2024-05-22 23:48:15:rastervision.pipeline.file_system.utils: INFO - Using cached file /data/tmp/cache/http/storage.googleapis.com/sand_mining_median/labels/Godavari_EastGodavari_81-9_16-75_median/rivers/Godavari_EastGodavari_81-9_16-75_rivers_1000m.geojson.\n",
      "2024-05-22 23:48:15:rastervision.core.data.vector_source.geojson_vector_source: INFO - Ignoring CRS ({'type': 'name', 'properties': {'name': 'urn:ogc:def:crs:OGC:1.3:CRS84'}}) specified in https://storage.googleapis.com/sand_mining_median/labels/Godavari_EastGodavari_81-9_16-75_median/rivers/Godavari_EastGodavari_81-9_16-75_rivers_1000m.geojson and assuming EPSG:4326 instead.\n",
      "2024-05-22 23:48:15:rastervision.pipeline.file_system.utils: INFO - Using cached file /data/tmp/cache/http/storage.googleapis.com/sand_mining_median/labels/Godavari_BhadradriKothagudem_80-79_18-04_median/s2/Godavari_BhadradriKothagudem_80-79_18-04_2022-02-01_s2.tif.\n",
      "2024-05-22 23:48:15:rastervision.pipeline.file_system.utils: INFO - Using cached file /data/tmp/cache/http/storage.googleapis.com/sand_mining_median/labels/Godavari_BhadradriKothagudem_80-79_18-04_median/annotations/Godavari_BhadradriKothagudem_80-79_18-04_2022-02-01_annotations_3class.geojson.\n",
      "2024-05-22 23:48:15:rastervision.pipeline.file_system.utils: INFO - Using cached file /data/tmp/cache/http/storage.googleapis.com/sand_mining_median/labels/Godavari_BhadradriKothagudem_80-79_18-04_median/rivers/Godavari_BhadradriKothagudem_80-79_18-04_rivers_1000m.geojson.\n",
      "2024-05-22 23:48:15:rastervision.core.data.vector_source.geojson_vector_source: INFO - Ignoring CRS ({'type': 'name', 'properties': {'name': 'urn:ogc:def:crs:OGC:1.3:CRS84'}}) specified in https://storage.googleapis.com/sand_mining_median/labels/Godavari_BhadradriKothagudem_80-79_18-04_median/rivers/Godavari_BhadradriKothagudem_80-79_18-04_rivers_1000m.geojson and assuming EPSG:4326 instead.\n",
      "2024-05-22 23:48:15:rastervision.pipeline.file_system.utils: INFO - Using cached file /data/tmp/cache/http/storage.googleapis.com/sand_mining_median/labels/Godavari_BhadradriKothagudem_80-79_18-04_median/s2/Godavari_BhadradriKothagudem_80-79_18-04_2022-05-01_s2.tif.\n",
      "2024-05-22 23:48:15:rastervision.pipeline.file_system.utils: INFO - Using cached file /data/tmp/cache/http/storage.googleapis.com/sand_mining_median/labels/Godavari_BhadradriKothagudem_80-79_18-04_median/annotations/Godavari_BhadradriKothagudem_80-79_18-04_2022-05-01_annotations_3class.geojson.\n",
      "2024-05-22 23:48:15:rastervision.pipeline.file_system.utils: INFO - Using cached file /data/tmp/cache/http/storage.googleapis.com/sand_mining_median/labels/Godavari_BhadradriKothagudem_80-79_18-04_median/rivers/Godavari_BhadradriKothagudem_80-79_18-04_rivers_1000m.geojson.\n",
      "2024-05-22 23:48:15:rastervision.core.data.vector_source.geojson_vector_source: INFO - Ignoring CRS ({'type': 'name', 'properties': {'name': 'urn:ogc:def:crs:OGC:1.3:CRS84'}}) specified in https://storage.googleapis.com/sand_mining_median/labels/Godavari_BhadradriKothagudem_80-79_18-04_median/rivers/Godavari_BhadradriKothagudem_80-79_18-04_rivers_1000m.geojson and assuming EPSG:4326 instead.\n",
      "2024-05-22 23:48:15:rastervision.pipeline.file_system.utils: INFO - Using cached file /data/tmp/cache/http/storage.googleapis.com/sand_mining_median/labels/Banas_Banaskantha_71-93_23-96_median/s2/Banas_Banaskantha_71-93_23-96_2022-11-01_s2.tif.\n",
      "2024-05-22 23:48:15:rastervision.pipeline.file_system.utils: INFO - Using cached file /data/tmp/cache/http/storage.googleapis.com/sand_mining_median/labels/Banas_Banaskantha_71-93_23-96_median/annotations/Banas_Banaskantha_71-93_23-96_2022-11-01_annotations_3class.geojson.\n",
      "2024-05-22 23:48:15:rastervision.pipeline.file_system.utils: INFO - Using cached file /data/tmp/cache/http/storage.googleapis.com/sand_mining_median/labels/Banas_Banaskantha_71-93_23-96_median/rivers/Banas_Banaskantha_71-93_23-96_rivers_1000m.geojson.\n",
      "2024-05-22 23:48:15:rastervision.core.data.vector_source.geojson_vector_source: INFO - Ignoring CRS ({'type': 'name', 'properties': {'name': 'urn:ogc:def:crs:OGC:1.3:CRS84'}}) specified in https://storage.googleapis.com/sand_mining_median/labels/Banas_Banaskantha_71-93_23-96_median/rivers/Banas_Banaskantha_71-93_23-96_rivers_1000m.geojson and assuming EPSG:4326 instead.\n",
      "2024-05-22 23:48:15:rastervision.pipeline.file_system.utils: INFO - Using cached file /data/tmp/cache/http/storage.googleapis.com/sand_mining_median/labels/Banas_Banaskantha_71-93_23-96_median/s2/Banas_Banaskantha_71-93_23-96_2023-05-01_s2.tif.\n",
      "2024-05-22 23:48:15:rastervision.pipeline.file_system.utils: INFO - Using cached file /data/tmp/cache/http/storage.googleapis.com/sand_mining_median/labels/Banas_Banaskantha_71-93_23-96_median/annotations/Banas_Banaskantha_71-93_23-96_2023-05-01_annotations_3class.geojson.\n",
      "2024-05-22 23:48:15:rastervision.pipeline.file_system.utils: INFO - Using cached file /data/tmp/cache/http/storage.googleapis.com/sand_mining_median/labels/Banas_Banaskantha_71-93_23-96_median/rivers/Banas_Banaskantha_71-93_23-96_rivers_1000m.geojson.\n",
      "2024-05-22 23:48:15:rastervision.core.data.vector_source.geojson_vector_source: INFO - Ignoring CRS ({'type': 'name', 'properties': {'name': 'urn:ogc:def:crs:OGC:1.3:CRS84'}}) specified in https://storage.googleapis.com/sand_mining_median/labels/Banas_Banaskantha_71-93_23-96_median/rivers/Banas_Banaskantha_71-93_23-96_rivers_1000m.geojson and assuming EPSG:4326 instead.\n",
      "2024-05-22 23:48:15:rastervision.pipeline.file_system.utils: INFO - Using cached file /data/tmp/cache/http/storage.googleapis.com/sand_mining_median/labels/Godavari_EastGodavari_80-89_17-72_median/s2/Godavari_EastGodavari_80-89_17-72_2021-12-01_s2.tif.\n",
      "2024-05-22 23:48:15:rastervision.pipeline.file_system.utils: INFO - Using cached file /data/tmp/cache/http/storage.googleapis.com/sand_mining_median/labels/Godavari_EastGodavari_80-89_17-72_median/annotations/Godavari_EastGodavari_80-89_17-72_2021-12-01_annotations_3class.geojson.\n",
      "2024-05-22 23:48:15:rastervision.pipeline.file_system.utils: INFO - Using cached file /data/tmp/cache/http/storage.googleapis.com/sand_mining_median/labels/Godavari_EastGodavari_80-89_17-72_median/rivers/Godavari_EastGodavari_80-89_17-72_rivers_1000m.geojson.\n",
      "2024-05-22 23:48:15:rastervision.core.data.vector_source.geojson_vector_source: INFO - Ignoring CRS ({'type': 'name', 'properties': {'name': 'urn:ogc:def:crs:OGC:1.3:CRS84'}}) specified in https://storage.googleapis.com/sand_mining_median/labels/Godavari_EastGodavari_80-89_17-72_median/rivers/Godavari_EastGodavari_80-89_17-72_rivers_1000m.geojson and assuming EPSG:4326 instead.\n",
      "2024-05-22 23:48:15:rastervision.pipeline.file_system.utils: INFO - Using cached file /data/tmp/cache/http/storage.googleapis.com/sand_mining_median/labels/Godavari_EastGodavari_80-89_17-72_median/s2/Godavari_EastGodavari_80-89_17-72_2022-05-01_s2.tif.\n",
      "2024-05-22 23:48:15:rastervision.pipeline.file_system.utils: INFO - Using cached file /data/tmp/cache/http/storage.googleapis.com/sand_mining_median/labels/Godavari_EastGodavari_80-89_17-72_median/annotations/Godavari_EastGodavari_80-89_17-72_2022-05-01_annotations_3class.geojson.\n",
      "2024-05-22 23:48:16:rastervision.pipeline.file_system.utils: INFO - Using cached file /data/tmp/cache/http/storage.googleapis.com/sand_mining_median/labels/Godavari_EastGodavari_80-89_17-72_median/rivers/Godavari_EastGodavari_80-89_17-72_rivers_1000m.geojson.\n",
      "2024-05-22 23:48:16:rastervision.core.data.vector_source.geojson_vector_source: INFO - Ignoring CRS ({'type': 'name', 'properties': {'name': 'urn:ogc:def:crs:OGC:1.3:CRS84'}}) specified in https://storage.googleapis.com/sand_mining_median/labels/Godavari_EastGodavari_80-89_17-72_median/rivers/Godavari_EastGodavari_80-89_17-72_rivers_1000m.geojson and assuming EPSG:4326 instead.\n",
      "2024-05-22 23:48:16:rastervision.pipeline.file_system.utils: INFO - Using cached file /data/tmp/cache/http/storage.googleapis.com/sand_mining_median/labels/Godavari_EastGodavari_80-89_17-72_median/s2/Godavari_EastGodavari_80-89_17-72_2022-04-01_s2.tif.\n",
      "2024-05-22 23:48:16:rastervision.pipeline.file_system.utils: INFO - Using cached file /data/tmp/cache/http/storage.googleapis.com/sand_mining_median/labels/Godavari_EastGodavari_80-89_17-72_median/annotations/Godavari_EastGodavari_80-89_17-72_2022-04-01_annotations_3class.geojson.\n",
      "2024-05-22 23:48:16:rastervision.pipeline.file_system.utils: INFO - Using cached file /data/tmp/cache/http/storage.googleapis.com/sand_mining_median/labels/Godavari_EastGodavari_80-89_17-72_median/rivers/Godavari_EastGodavari_80-89_17-72_rivers_1000m.geojson.\n",
      "2024-05-22 23:48:16:rastervision.core.data.vector_source.geojson_vector_source: INFO - Ignoring CRS ({'type': 'name', 'properties': {'name': 'urn:ogc:def:crs:OGC:1.3:CRS84'}}) specified in https://storage.googleapis.com/sand_mining_median/labels/Godavari_EastGodavari_80-89_17-72_median/rivers/Godavari_EastGodavari_80-89_17-72_rivers_1000m.geojson and assuming EPSG:4326 instead.\n",
      "2024-05-22 23:48:16:rastervision.pipeline.file_system.utils: INFO - Using cached file /data/tmp/cache/http/storage.googleapis.com/sand_mining_median/labels/Waiganga_Gondiya_80-03_21-55_median/s2/Waiganga_Gondiya_80-03_21-55_2023-05-01_s2.tif.\n",
      "2024-05-22 23:48:16:rastervision.pipeline.file_system.utils: INFO - Using cached file /data/tmp/cache/http/storage.googleapis.com/sand_mining_median/labels/Waiganga_Gondiya_80-03_21-55_median/annotations/Waiganga_Gondiya_80-03_21-55_2023-05-01_annotations_3class.geojson.\n",
      "2024-05-22 23:48:16:rastervision.pipeline.file_system.utils: INFO - Using cached file /data/tmp/cache/http/storage.googleapis.com/sand_mining_median/labels/Waiganga_Gondiya_80-03_21-55_median/rivers/Waiganga_Gondiya_80-03_21-55_rivers_1000m.geojson.\n",
      "2024-05-22 23:48:16:rastervision.core.data.vector_source.geojson_vector_source: INFO - Ignoring CRS ({'type': 'name', 'properties': {'name': 'urn:ogc:def:crs:OGC:1.3:CRS84'}}) specified in https://storage.googleapis.com/sand_mining_median/labels/Waiganga_Gondiya_80-03_21-55_median/rivers/Waiganga_Gondiya_80-03_21-55_rivers_1000m.geojson and assuming EPSG:4326 instead.\n",
      "2024-05-22 23:48:16:rastervision.pipeline.file_system.utils: INFO - Using cached file /data/tmp/cache/http/storage.googleapis.com/sand_mining_median/labels/Waiganga_Gondiya_80-03_21-55_median/s2/Waiganga_Gondiya_80-03_21-55_2023-01-01_s2.tif.\n",
      "2024-05-22 23:48:16:rastervision.pipeline.file_system.utils: INFO - Using cached file /data/tmp/cache/http/storage.googleapis.com/sand_mining_median/labels/Waiganga_Gondiya_80-03_21-55_median/annotations/Waiganga_Gondiya_80-03_21-55_2023-01-01_annotations_3class.geojson.\n",
      "2024-05-22 23:48:16:rastervision.pipeline.file_system.utils: INFO - Using cached file /data/tmp/cache/http/storage.googleapis.com/sand_mining_median/labels/Waiganga_Gondiya_80-03_21-55_median/rivers/Waiganga_Gondiya_80-03_21-55_rivers_1000m.geojson.\n",
      "2024-05-22 23:48:16:rastervision.core.data.vector_source.geojson_vector_source: INFO - Ignoring CRS ({'type': 'name', 'properties': {'name': 'urn:ogc:def:crs:OGC:1.3:CRS84'}}) specified in https://storage.googleapis.com/sand_mining_median/labels/Waiganga_Gondiya_80-03_21-55_median/rivers/Waiganga_Gondiya_80-03_21-55_rivers_1000m.geojson and assuming EPSG:4326 instead.\n",
      "2024-05-22 23:48:16:rastervision.pipeline.file_system.utils: INFO - Using cached file /data/tmp/cache/http/storage.googleapis.com/sand_mining_median/labels/Kanhan_Nagpur_79-17_21-27_median/s2/Kanhan_Nagpur_79-17_21-27_2022-06-01_s2.tif.\n",
      "2024-05-22 23:48:16:rastervision.pipeline.file_system.utils: INFO - Using cached file /data/tmp/cache/http/storage.googleapis.com/sand_mining_median/labels/Kanhan_Nagpur_79-17_21-27_median/annotations/Kanhan_Nagpur_79-17_21-27_2022-06-01_annotations_3class.geojson.\n",
      "2024-05-22 23:48:16:rastervision.pipeline.file_system.utils: INFO - Using cached file /data/tmp/cache/http/storage.googleapis.com/sand_mining_median/labels/Kanhan_Nagpur_79-17_21-27_median/rivers/Kanhan_Nagpur_79-17_21-27_rivers_1000m.geojson.\n",
      "2024-05-22 23:48:16:rastervision.core.data.vector_source.geojson_vector_source: INFO - Ignoring CRS ({'type': 'name', 'properties': {'name': 'urn:ogc:def:crs:OGC:1.3:CRS84'}}) specified in https://storage.googleapis.com/sand_mining_median/labels/Kanhan_Nagpur_79-17_21-27_median/rivers/Kanhan_Nagpur_79-17_21-27_rivers_1000m.geojson and assuming EPSG:4326 instead.\n",
      "2024-05-22 23:48:16:rastervision.pipeline.file_system.utils: INFO - Using cached file /data/tmp/cache/http/storage.googleapis.com/sand_mining_median/labels/Kanhan_Nagpur_79-17_21-27_median/s2/Kanhan_Nagpur_79-17_21-27_2021-12-01_s2.tif.\n",
      "2024-05-22 23:48:16:rastervision.pipeline.file_system.utils: INFO - Using cached file /data/tmp/cache/http/storage.googleapis.com/sand_mining_median/labels/Kanhan_Nagpur_79-17_21-27_median/annotations/Kanhan_Nagpur_79-17_21-27_2021-12-01_annotations_3class.geojson.\n",
      "2024-05-22 23:48:16:rastervision.pipeline.file_system.utils: INFO - Using cached file /data/tmp/cache/http/storage.googleapis.com/sand_mining_median/labels/Kanhan_Nagpur_79-17_21-27_median/rivers/Kanhan_Nagpur_79-17_21-27_rivers_1000m.geojson.\n",
      "2024-05-22 23:48:16:rastervision.core.data.vector_source.geojson_vector_source: INFO - Ignoring CRS ({'type': 'name', 'properties': {'name': 'urn:ogc:def:crs:OGC:1.3:CRS84'}}) specified in https://storage.googleapis.com/sand_mining_median/labels/Kanhan_Nagpur_79-17_21-27_median/rivers/Kanhan_Nagpur_79-17_21-27_rivers_1000m.geojson and assuming EPSG:4326 instead.\n",
      "2024-05-22 23:48:16:rastervision.pipeline.file_system.utils: INFO - Using cached file /data/tmp/cache/http/storage.googleapis.com/sand_mining_median/labels/Narmada_Sehore_77-31_22-6_median/s2/Narmada_Sehore_77-31_22-6_2021-11-01_s2.tif.\n",
      "2024-05-22 23:48:16:rastervision.pipeline.file_system.utils: INFO - Using cached file /data/tmp/cache/http/storage.googleapis.com/sand_mining_median/labels/Narmada_Sehore_77-31_22-6_median/annotations/Narmada_Sehore_77-31_22-6_2021-11-01_annotations_3class.geojson.\n",
      "2024-05-22 23:48:16:rastervision.pipeline.file_system.utils: INFO - Using cached file /data/tmp/cache/http/storage.googleapis.com/sand_mining_median/labels/Narmada_Sehore_77-31_22-6_median/rivers/Narmada_Sehore_77-31_22-6_rivers_1000m.geojson.\n",
      "2024-05-22 23:48:16:rastervision.core.data.vector_source.geojson_vector_source: INFO - Ignoring CRS ({'type': 'name', 'properties': {'name': 'urn:ogc:def:crs:OGC:1.3:CRS84'}}) specified in https://storage.googleapis.com/sand_mining_median/labels/Narmada_Sehore_77-31_22-6_median/rivers/Narmada_Sehore_77-31_22-6_rivers_1000m.geojson and assuming EPSG:4326 instead.\n",
      "2024-05-22 23:48:16:rastervision.pipeline.file_system.utils: INFO - Using cached file /data/tmp/cache/http/storage.googleapis.com/sand_mining_median/labels/Narmada_Sehore_77-31_22-6_median/s2/Narmada_Sehore_77-31_22-6_2019-03-01_s2.tif.\n",
      "2024-05-22 23:48:16:rastervision.pipeline.file_system.utils: INFO - Using cached file /data/tmp/cache/http/storage.googleapis.com/sand_mining_median/labels/Narmada_Sehore_77-31_22-6_median/annotations/Narmada_Sehore_77-31_22-6_2019-03-01_annotations_3class.geojson.\n",
      "2024-05-22 23:48:16:rastervision.pipeline.file_system.utils: INFO - Using cached file /data/tmp/cache/http/storage.googleapis.com/sand_mining_median/labels/Narmada_Sehore_77-31_22-6_median/rivers/Narmada_Sehore_77-31_22-6_rivers_1000m.geojson.\n",
      "2024-05-22 23:48:16:rastervision.core.data.vector_source.geojson_vector_source: INFO - Ignoring CRS ({'type': 'name', 'properties': {'name': 'urn:ogc:def:crs:OGC:1.3:CRS84'}}) specified in https://storage.googleapis.com/sand_mining_median/labels/Narmada_Sehore_77-31_22-6_median/rivers/Narmada_Sehore_77-31_22-6_rivers_1000m.geojson and assuming EPSG:4326 instead.\n",
      "2024-05-22 23:48:16:rastervision.pipeline.file_system.utils: INFO - Using cached file /data/tmp/cache/http/storage.googleapis.com/sand_mining_median/labels/Ken_Banda_80-36_25-71_median/s2/Ken_Banda_80-36_25-71_2022-03-01_s2.tif.\n",
      "2024-05-22 23:48:16:rastervision.pipeline.file_system.utils: INFO - Using cached file /data/tmp/cache/http/storage.googleapis.com/sand_mining_median/labels/Ken_Banda_80-36_25-71_median/annotations/Ken_Banda_80-36_25-71_2022-03-01_annotations_3class.geojson.\n",
      "2024-05-22 23:48:16:rastervision.pipeline.file_system.utils: INFO - Using cached file /data/tmp/cache/http/storage.googleapis.com/sand_mining_median/labels/Ken_Banda_80-36_25-71_median/rivers/Ken_Banda_80-36_25-71_rivers_1000m.geojson.\n",
      "2024-05-22 23:48:16:rastervision.core.data.vector_source.geojson_vector_source: INFO - Ignoring CRS ({'type': 'name', 'properties': {'name': 'urn:ogc:def:crs:OGC:1.3:CRS84'}}) specified in https://storage.googleapis.com/sand_mining_median/labels/Ken_Banda_80-36_25-71_median/rivers/Ken_Banda_80-36_25-71_rivers_1000m.geojson and assuming EPSG:4326 instead.\n",
      "2024-05-22 23:48:16:rastervision.pipeline.file_system.utils: INFO - Using cached file /data/tmp/cache/http/storage.googleapis.com/sand_mining_median/labels/Ken_Banda_80-36_25-71_median/s2/Ken_Banda_80-36_25-71_2021-04-01_s2.tif.\n",
      "2024-05-22 23:48:16:rastervision.pipeline.file_system.utils: INFO - Using cached file /data/tmp/cache/http/storage.googleapis.com/sand_mining_median/labels/Ken_Banda_80-36_25-71_median/annotations/Ken_Banda_80-36_25-71_2021-04-01_annotations_3class.geojson.\n",
      "2024-05-22 23:48:16:rastervision.pipeline.file_system.utils: INFO - Using cached file /data/tmp/cache/http/storage.googleapis.com/sand_mining_median/labels/Ken_Banda_80-36_25-71_median/rivers/Ken_Banda_80-36_25-71_rivers_1000m.geojson.\n",
      "2024-05-22 23:48:16:rastervision.core.data.vector_source.geojson_vector_source: INFO - Ignoring CRS ({'type': 'name', 'properties': {'name': 'urn:ogc:def:crs:OGC:1.3:CRS84'}}) specified in https://storage.googleapis.com/sand_mining_median/labels/Ken_Banda_80-36_25-71_median/rivers/Ken_Banda_80-36_25-71_rivers_1000m.geojson and assuming EPSG:4326 instead.\n",
      "2024-05-22 23:48:16:rastervision.pipeline.file_system.utils: INFO - Using cached file /data/tmp/cache/http/storage.googleapis.com/sand_mining_median/labels/Chambal_More_77-84_26-58_median/s2/Chambal_More_77-84_26-58_2018-12-01_s2.tif.\n",
      "2024-05-22 23:48:16:rastervision.pipeline.file_system.utils: INFO - Using cached file /data/tmp/cache/http/storage.googleapis.com/sand_mining_median/labels/Chambal_More_77-84_26-58_median/annotations/Chambal_More_77-84_26-58_2018-12-01_annotations_3class.geojson.\n",
      "2024-05-22 23:48:16:rastervision.pipeline.file_system.utils: INFO - Using cached file /data/tmp/cache/http/storage.googleapis.com/sand_mining_median/labels/Chambal_More_77-84_26-58_median/rivers/Chambal_More_77-84_26-58_rivers_1000m.geojson.\n",
      "2024-05-22 23:48:16:rastervision.core.data.vector_source.geojson_vector_source: INFO - Ignoring CRS ({'type': 'name', 'properties': {'name': 'urn:ogc:def:crs:OGC:1.3:CRS84'}}) specified in https://storage.googleapis.com/sand_mining_median/labels/Chambal_More_77-84_26-58_median/rivers/Chambal_More_77-84_26-58_rivers_1000m.geojson and assuming EPSG:4326 instead.\n",
      "2024-05-22 23:48:16:rastervision.pipeline.file_system.utils: INFO - Using cached file /data/tmp/cache/http/storage.googleapis.com/sand_mining_median/labels/Chambal_More_77-84_26-58_median/s2/Chambal_More_77-84_26-58_2022-02-01_s2.tif.\n",
      "2024-05-22 23:48:16:rastervision.pipeline.file_system.utils: INFO - Using cached file /data/tmp/cache/http/storage.googleapis.com/sand_mining_median/labels/Chambal_More_77-84_26-58_median/annotations/Chambal_More_77-84_26-58_2022-02-01_annotations_3class.geojson.\n",
      "2024-05-22 23:48:17:rastervision.pipeline.file_system.utils: INFO - Using cached file /data/tmp/cache/http/storage.googleapis.com/sand_mining_median/labels/Chambal_More_77-84_26-58_median/rivers/Chambal_More_77-84_26-58_rivers_1000m.geojson.\n",
      "2024-05-22 23:48:17:rastervision.core.data.vector_source.geojson_vector_source: INFO - Ignoring CRS ({'type': 'name', 'properties': {'name': 'urn:ogc:def:crs:OGC:1.3:CRS84'}}) specified in https://storage.googleapis.com/sand_mining_median/labels/Chambal_More_77-84_26-58_median/rivers/Chambal_More_77-84_26-58_rivers_1000m.geojson and assuming EPSG:4326 instead.\n",
      "2024-05-22 23:48:17:rastervision.pipeline.file_system.utils: INFO - Using cached file /data/tmp/cache/http/storage.googleapis.com/sand_mining_median/labels/Tawa_Hoshangabad_77-79_22-75_median/s2/Tawa_Hoshangabad_77-79_22-75_2022-10-01_s2.tif.\n",
      "2024-05-22 23:48:17:rastervision.pipeline.file_system.utils: INFO - Using cached file /data/tmp/cache/http/storage.googleapis.com/sand_mining_median/labels/Tawa_Hoshangabad_77-79_22-75_median/annotations/Tawa_Hoshangabad_77-79_22-75_2022-10-01_annotations_3class.geojson.\n",
      "2024-05-22 23:48:17:rastervision.pipeline.file_system.utils: INFO - Using cached file /data/tmp/cache/http/storage.googleapis.com/sand_mining_median/labels/Tawa_Hoshangabad_77-79_22-75_median/rivers/Tawa_Hoshangabad_77-79_22-75_rivers_1000m.geojson.\n",
      "2024-05-22 23:48:17:rastervision.core.data.vector_source.geojson_vector_source: INFO - Ignoring CRS ({'type': 'name', 'properties': {'name': 'urn:ogc:def:crs:OGC:1.3:CRS84'}}) specified in https://storage.googleapis.com/sand_mining_median/labels/Tawa_Hoshangabad_77-79_22-75_median/rivers/Tawa_Hoshangabad_77-79_22-75_rivers_1000m.geojson and assuming EPSG:4326 instead.\n",
      "2024-05-22 23:48:17:rastervision.pipeline.file_system.utils: INFO - Using cached file /data/tmp/cache/http/storage.googleapis.com/sand_mining_median/labels/Chambal_More_77-94_26-62_median/s2/Chambal_More_77-94_26-62_2024-03-01_s2.tif.\n",
      "2024-05-22 23:48:17:rastervision.pipeline.file_system.utils: INFO - Using cached file /data/tmp/cache/http/storage.googleapis.com/sand_mining_median/labels/Chambal_More_77-94_26-62_median/annotations/Chambal_More_77-94_26-62_2024-03-01_annotations_3class.geojson.\n",
      "2024-05-22 23:48:17:rastervision.pipeline.file_system.utils: INFO - Using cached file /data/tmp/cache/http/storage.googleapis.com/sand_mining_median/labels/Chambal_More_77-94_26-62_median/rivers/Chambal_More_77-94_26-62_rivers_1000m.geojson.\n",
      "2024-05-22 23:48:17:rastervision.core.data.vector_source.geojson_vector_source: INFO - Ignoring CRS ({'type': 'name', 'properties': {'name': 'urn:ogc:def:crs:OGC:1.3:CRS84'}}) specified in https://storage.googleapis.com/sand_mining_median/labels/Chambal_More_77-94_26-62_median/rivers/Chambal_More_77-94_26-62_rivers_1000m.geojson and assuming EPSG:4326 instead.\n",
      "2024-05-22 23:48:17:rastervision.pipeline.file_system.utils: INFO - Using cached file /data/tmp/cache/http/storage.googleapis.com/sand_mining_median/labels/Chambal_More_78-1_26-71_median/s2/Chambal_More_78-1_26-71_2024-03-01_s2.tif.\n",
      "2024-05-22 23:48:17:rastervision.pipeline.file_system.utils: INFO - Using cached file /data/tmp/cache/http/storage.googleapis.com/sand_mining_median/labels/Chambal_More_78-1_26-71_median/annotations/Chambal_More_78-1_26-71_2024-03-01_annotations_3class.geojson.\n",
      "2024-05-22 23:48:17:rastervision.pipeline.file_system.utils: INFO - Using cached file /data/tmp/cache/http/storage.googleapis.com/sand_mining_median/labels/Chambal_More_78-1_26-71_median/rivers/Chambal_More_78-1_26-71_rivers_1000m.geojson.\n",
      "2024-05-22 23:48:17:rastervision.core.data.vector_source.geojson_vector_source: INFO - Ignoring CRS ({'type': 'name', 'properties': {'name': 'urn:ogc:def:crs:OGC:1.3:CRS84'}}) specified in https://storage.googleapis.com/sand_mining_median/labels/Chambal_More_78-1_26-71_median/rivers/Chambal_More_78-1_26-71_rivers_1000m.geojson and assuming EPSG:4326 instead.\n"
     ]
    },
    {
     "name": "stdout",
     "output_type": "stream",
     "text": [
      "Validation split cluster_id: 4\n",
      "Training dataset size:  560 images | Number of observations: 56\n",
      "Testing dataset size:  476  images | Number of observations: 3\n",
      "Total dataset has 1.79%  mining area.\n",
      "Training dataset has 1.80%  mining area.\n",
      "Validation dataset has 1.34%  mining area.\n",
      "Within AOIs, total dataset has 4.78%  mining area.\n",
      "Outside AOIs, total dataset has 0.03%  mining area.\n",
      "\n",
      "The median percentage of mine in an observation is 2.01%\n",
      "The median number of mine pixels in an observation is 34934\n",
      "\n",
      "The median number pixels in an observation is 1951732\n"
     ]
    }
   ],
   "source": [
    "from torch.utils.data import ConcatDataset\n",
    "import json\n",
    "from utils.rastervision_pipeline import observation_to_scene, scene_to_training_ds, scene_to_validation_ds, scene_to_inference_ds\n",
    "from utils.data_management import observation_factory, characterize_dataset\n",
    "import random\n",
    "\n",
    "#set the seed\n",
    "random.seed(13)\n",
    "\n",
    "# get the current working directory\n",
    "root_dir = os.getcwd()\n",
    "\n",
    "# define the relative path to the dataset JSON file\n",
    "json_rel_path = '../' + DATASET_JSON_PATH\n",
    "\n",
    "# combine the root directory with the relative path\n",
    "json_abs_path = os.path.join(root_dir, json_rel_path)\n",
    "\n",
    "dataset_json = json.load(open(json_abs_path, 'r'))\n",
    "all_observations = observation_factory(dataset_json)\n",
    "\n",
    "#find the highest cluster id\n",
    "max_cluster_id = max([observation['cluster_id'] for observation in dataset_json])\n",
    "\n",
    "\n",
    "# Randomly split the data into training and validation\n",
    "val_split = random.randint(0, max_cluster_id+1)\n",
    "\n",
    "training_scenes = []\n",
    "validation_scenes = []\n",
    "\n",
    "for observation in all_observations:\n",
    "    if observation.cluster_id == val_split: \n",
    "        validation_scenes.append(observation_to_scene(config, observation))\n",
    "    else:\n",
    "        training_scenes.append(observation_to_scene(config, observation))\n",
    "\n",
    "\n",
    "training_datasets = [\n",
    "    scene_to_training_ds(config, scene) for scene in training_scenes #random window sampling happens here\n",
    "]\n",
    "validation_datasets = [\n",
    "    # scene_to_validation_ds(config, scene) for scene in validation_scenes\n",
    "    scene_to_inference_ds(config, scene, full_image=False, stride=int(config.tile_size/2)) for scene in validation_scenes # better performance with this\n",
    "]\n",
    "\n",
    "train_dataset_merged = ConcatDataset(training_datasets)\n",
    "val_dataset_merged = ConcatDataset(validation_datasets)\n",
    "\n",
    "print('Validation split cluster_id:', val_split)\n",
    "print ('Training dataset size: {:4d} images | Number of observations: {:}'.format(len(train_dataset_merged), len(training_scenes)))\n",
    "print ('Testing dataset size: {:4d}  images | Number of observations: {:}'.format(len(val_dataset_merged), len(validation_scenes)))\n",
    "\n",
    "mine_percentage_aoi = characterize_dataset(training_scenes, validation_scenes)"
   ]
  },
  {
   "cell_type": "markdown",
   "id": "6",
   "metadata": {},
   "source": [
    "## Update the loss weights to account for the imbalanced dataset"
   ]
  },
  {
   "cell_type": "code",
   "execution_count": 14,
   "id": "7",
   "metadata": {},
   "outputs": [
    {
     "data": {
      "text/plain": [
       "6.0"
      ]
     },
     "execution_count": 14,
     "metadata": {},
     "output_type": "execute_result"
    }
   ],
   "source": [
    "# config.mine_class_loss_weight = (100 - mine_percentage_aoi) / mine_percentage_aoi\n",
    "# config.mine_class_loss_weight = 1\n",
    "config.mine_class_loss_weight"
   ]
  },
  {
   "cell_type": "markdown",
   "id": "8",
   "metadata": {},
   "source": [
    "## Visualize the datasets"
   ]
  },
  {
   "cell_type": "code",
   "execution_count": 9,
   "id": "57d4c2d2-1a1a-4eb2-a6a0-d8d2d0714715",
   "metadata": {},
   "outputs": [
    {
     "data": {
      "text/plain": [
       "<rastervision.core.data.scene.Scene at 0x7ff17941e610>"
      ]
     },
     "execution_count": 9,
     "metadata": {},
     "output_type": "execute_result"
    }
   ],
   "source": [
    "training_datasets[0].scene"
   ]
  },
  {
   "cell_type": "code",
   "execution_count": 5,
   "id": "9",
   "metadata": {},
   "outputs": [
    {
     "name": "stdout",
     "output_type": "stream",
     "text": [
      "Training Dataset\n"
     ]
    },
    {
     "ename": "AttributeError",
     "evalue": "'tuple' object has no attribute 'scene'",
     "output_type": "error",
     "traceback": [
      "\u001b[0;31m---------------------------------------------------------------------------\u001b[0m",
      "\u001b[0;31mAttributeError\u001b[0m                            Traceback (most recent call last)",
      "Cell \u001b[0;32mIn[5], line 5\u001b[0m\n\u001b[1;32m      3\u001b[0m \u001b[38;5;28mprint\u001b[39m (\u001b[38;5;124m'\u001b[39m\u001b[38;5;124mTraining Dataset\u001b[39m\u001b[38;5;124m'\u001b[39m)\n\u001b[1;32m      4\u001b[0m \u001b[38;5;28;01mfor\u001b[39;00m ds \u001b[38;5;129;01min\u001b[39;00m training_datasets:\n\u001b[0;32m----> 5\u001b[0m     \u001b[43mvisualize_dataset\u001b[49m\u001b[43m(\u001b[49m\u001b[43mds\u001b[49m\u001b[43m)\u001b[49m\n\u001b[1;32m      7\u001b[0m \u001b[38;5;28mprint\u001b[39m(\u001b[38;5;124m\"\u001b[39m\u001b[38;5;130;01m\\n\u001b[39;00m\u001b[38;5;130;01m\\n\u001b[39;00m\u001b[38;5;130;01m\\n\u001b[39;00m\u001b[38;5;124m Val Dataset\u001b[39m\u001b[38;5;124m\"\u001b[39m)\n\u001b[1;32m      9\u001b[0m \u001b[38;5;28;01mfor\u001b[39;00m ds \u001b[38;5;129;01min\u001b[39;00m validation_datasets:\n",
      "File \u001b[0;32m~/sandmining/sandmining-watch/utils/visualizing.py:255\u001b[0m, in \u001b[0;36mvisualize_dataset\u001b[0;34m(ds_list)\u001b[0m\n\u001b[1;32m    253\u001b[0m \u001b[38;5;28;01mfor\u001b[39;00m ds \u001b[38;5;129;01min\u001b[39;00m ds_list:\n\u001b[1;32m    254\u001b[0m     rgb_band_idx \u001b[38;5;241m=\u001b[39m [e\u001b[38;5;241m.\u001b[39mvalue \u001b[38;5;28;01mfor\u001b[39;00m e \u001b[38;5;129;01min\u001b[39;00m RGB_BANDS]\n\u001b[0;32m--> 255\u001b[0m     img_rgb \u001b[38;5;241m=\u001b[39m raster_source_to_rgb(\u001b[43mds\u001b[49m\u001b[38;5;241;43m.\u001b[39;49m\u001b[43mscene\u001b[49m\u001b[38;5;241m.\u001b[39mraster_source)\n\u001b[1;32m    257\u001b[0m     \u001b[38;5;28;01mif\u001b[39;00m \u001b[38;5;28misinstance\u001b[39m(ds, SemanticSegmentationRandomWindowGeoDataset):\n\u001b[1;32m    258\u001b[0m         title \u001b[38;5;241m=\u001b[39m \u001b[38;5;124mf\u001b[39m\u001b[38;5;124m\"\u001b[39m\u001b[38;5;132;01m{\u001b[39;00mds\u001b[38;5;241m.\u001b[39mscene\u001b[38;5;241m.\u001b[39mid\u001b[38;5;132;01m}\u001b[39;00m\u001b[38;5;124m, N=\u001b[39m\u001b[38;5;132;01m{\u001b[39;00mds\u001b[38;5;241m.\u001b[39mmax_windows\u001b[38;5;132;01m}\u001b[39;00m\u001b[38;5;124m\"\u001b[39m\n",
      "\u001b[0;31mAttributeError\u001b[0m: 'tuple' object has no attribute 'scene'"
     ]
    }
   ],
   "source": [
    "from utils.visualizing import visualize_dataset\n",
    "\n",
    "print ('Training Dataset')\n",
    "for ds in training_datasets:\n",
    "    visualize_dataset(ds)\n",
    "\n",
    "print(\"\\n\\n\\n Val Dataset\")\n",
    "\n",
    "for ds in validation_datasets:\n",
    "    visualize_dataset(ds)"
   ]
  },
  {
   "cell_type": "markdown",
   "id": "10",
   "metadata": {
    "tags": []
   },
   "source": [
    "# Train"
   ]
  },
  {
   "cell_type": "code",
   "execution_count": 15,
   "id": "11",
   "metadata": {
    "tags": []
   },
   "outputs": [
    {
     "name": "stdout",
     "output_type": "stream",
     "text": [
      "SatMae: Loading encoder weights from /data/sand_mining/checkpoints/satmae_orig/pretrain-vit-large-e199.pth\n",
      "Position interpolate from 12x12 to 20x20\n",
      "Warning! Missing keys:\n",
      "['channel_cls_embed', 'head.weight', 'head.bias']\n",
      "SatMaePretrained: Freezing encoder weights\n",
      "Number of parameters loaded: 298\n"
     ]
    },
    {
     "name": "stderr",
     "output_type": "stream",
     "text": [
      "2024-05-03 15:29:35:rastervision: INFO - train_ds: 560 items\n",
      "2024-05-03 15:29:35:rastervision: INFO - valid_ds: 316 items\n"
     ]
    },
    {
     "name": "stdout",
     "output_type": "stream",
     "text": [
      "Will save weights after every epoch to /data/sand_mining/training_checkpoints/OUTPUT_DIR\n",
      "trainable params: 0.991745M || all params: 304.273667M || trainable%: 0.33\n"
     ]
    }
   ],
   "source": [
    "from models.model_factory import model_factory, print_trainable_parameters\n",
    "from ml.optimizer_factory import optimizer_factory\n",
    "from ml.learner import BinarySegmentationLearner\n",
    "\n",
    "_, _, n_channels = training_datasets[0].scene.raster_source.shape\n",
    "model = model_factory(\n",
    "    config,\n",
    "    n_channels=n_channels,\n",
    ")\n",
    "\n",
    "optimizer = optimizer_factory(config, model)\n",
    "\n",
    "learner = BinarySegmentationLearner(\n",
    "    config=config,\n",
    "    model=model,\n",
    "    optimizer=optimizer,\n",
    "    train_ds=train_dataset_merged,  # for development and debugging, use training_datasets[0] or similar to speed up\n",
    "    valid_ds=val_dataset_merged,  # for development and debugging, use training_datasets[1] or similar to speed up\n",
    "    output_dir=expanduser(\"~/sandmining-watch/out/OUTPUT_DIR\"),\n",
    "    save_model_checkpoints=True,\n",
    ")\n",
    "print_trainable_parameters(learner.model)"
   ]
  },
  {
   "cell_type": "markdown",
   "id": "12",
   "metadata": {},
   "source": [
    "#### Check GPU Activity\n",
    "\n",
    "You can continuously monitor your GPU activity by using the command in the terminal\n",
    "\n",
    "\n",
    "`watch -d -n 0.5 nvidia-smi`"
   ]
  },
  {
   "cell_type": "code",
   "execution_count": null,
   "id": "13",
   "metadata": {},
   "outputs": [],
   "source": [
    "# Run this cell if you want to log the run to W&B. You might need to authenticate to W&B.\n",
    "learner.initialize_wandb_run()"
   ]
  },
  {
   "cell_type": "code",
   "execution_count": null,
   "id": "14",
   "metadata": {
    "tags": []
   },
   "outputs": [],
   "source": [
    "learner.train(epochs=20)"
   ]
  },
  {
   "cell_type": "markdown",
   "id": "15",
   "metadata": {},
   "source": [
    "## Evaluate "
   ]
  },
  {
   "cell_type": "markdown",
   "id": "16",
   "metadata": {},
   "source": [
    "Initialize evaluation_datasets and predictor.\n",
    "evaluation_datasets and validation_datasets are based on identical scenes, but have different sliding window configurations."
   ]
  },
  {
   "cell_type": "code",
   "execution_count": null,
   "id": "17",
   "metadata": {},
   "outputs": [],
   "source": [
    "config = satmae_large_inf_config"
   ]
  },
  {
   "cell_type": "code",
   "execution_count": null,
   "id": "18",
   "metadata": {},
   "outputs": [],
   "source": [
    "from ml.learner import BinarySegmentationPredictor\n",
    "from utils.rastervision_pipeline import scene_to_inference_ds\n",
    "\n",
    "evaluation_datasets =  [\n",
    "    scene_to_inference_ds(\n",
    "        config, scene, full_image=True\n",
    "    ) for scene in validation_scenes\n",
    "]\n",
    "\n",
    "predictor = BinarySegmentationPredictor(\n",
    "    config,\n",
    "    model\n",
    "    )\n"
   ]
  },
  {
   "cell_type": "code",
   "execution_count": null,
   "id": "19",
   "metadata": {},
   "outputs": [],
   "source": [
    "from utils.visualizing import raster_source_to_rgb\n",
    "from tqdm.notebook import tqdm\n",
    "from ml.eval_utils import evaluate_predictions\n",
    "\n",
    "prediction_results_list = []\n",
    "# crop_sz = int(config.tile_size // 5) #20% of the tiles at the edges are discarded\n",
    "crop_sz = config.crop_sz\n",
    "\n",
    "for ds in tqdm(evaluation_datasets):\n",
    "    predictions = predictor.predict_mine_probability_for_site(ds, crop_sz)\n",
    "\n",
    "    rgb_img = raster_source_to_rgb(ds.scene.raster_source)\n",
    "    prediction_results_list.append({\n",
    "        \"predictions\": predictions,\n",
    "        \"ground_truth\": ds.scene.label_source.get_label_arr(),\n",
    "        \"rgb_img\": rgb_img,\n",
    "        \"name\": ds.scene.id,\n",
    "        \"crop_sz\": crop_sz,\n",
    "    })\n",
    "\n",
    "evaluation_results_dict = evaluate_predictions(prediction_results_list)"
   ]
  },
  {
   "cell_type": "markdown",
   "id": "20",
   "metadata": {},
   "source": [
    "## Pick the threshold that maximizes F1 score"
   ]
  },
  {
   "cell_type": "code",
   "execution_count": null,
   "id": "21",
   "metadata": {},
   "outputs": [],
   "source": [
    "threshold = evaluation_results_dict['eval/total/best_threshold']\n",
    "threshold"
   ]
  },
  {
   "cell_type": "code",
   "execution_count": null,
   "id": "22",
   "metadata": {},
   "outputs": [],
   "source": [
    "evaluation_results_dict\n"
   ]
  },
  {
   "cell_type": "markdown",
   "id": "23",
   "metadata": {},
   "source": [
    "Log results to Weights & Biases"
   ]
  },
  {
   "cell_type": "code",
   "execution_count": null,
   "id": "24",
   "metadata": {},
   "outputs": [],
   "source": [
    "import wandb\n",
    "from ml.eval_utils import make_wandb_segmentation_masks, make_wandb_predicted_probs_images\n",
    "\n",
    "assert wandb.run is not None\n",
    "\n",
    "# Add lists of W&B images to dict\n",
    "evaluation_results_dict.update({\n",
    "    'Segmentation masks': make_wandb_segmentation_masks(prediction_results_list, threshold),\n",
    "    'Predicted probabilites': make_wandb_predicted_probs_images(prediction_results_list),\n",
    "})\n",
    "\n",
    "# Log to W&B\n",
    "wandb.log(evaluation_results_dict)"
   ]
  },
  {
   "cell_type": "code",
   "execution_count": null,
   "id": "25",
   "metadata": {},
   "outputs": [],
   "source": [
    "wandb.finish()"
   ]
  }
 ],
 "metadata": {
  "kernelspec": {
   "display_name": "sandmining",
   "language": "python",
   "name": "sandmining"
  },
  "language_info": {
   "codemirror_mode": {
    "name": "ipython",
    "version": 3
   },
   "file_extension": ".py",
   "mimetype": "text/x-python",
   "name": "python",
   "nbconvert_exporter": "python",
   "pygments_lexer": "ipython3",
   "version": "3.9.17"
  }
 },
 "nbformat": 4,
 "nbformat_minor": 5
}
