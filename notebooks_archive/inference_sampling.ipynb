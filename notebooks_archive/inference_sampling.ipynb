{
    "cells": [
        {
            "cell_type": "code",
            "execution_count": 1,
            "id": "1ebe5d29",
            "metadata": {},
            "outputs": [],
            "source": [
                "import os\n",
                "import ee\n",
                "import geemap\n",
                "import numpy as np"
            ]
        },
        {
            "cell_type": "code",
            "execution_count": 2,
            "id": "fee4314c",
            "metadata": {},
            "outputs": [],
            "source": [
                "try:\n",
                "    ee.Initialize()\n",
                "except Exception as e:\n",
                "    ee.Authenticate()\n",
                "    ee.Initialize()"
            ]
        },
        {
            "cell_type": "code",
            "execution_count": 5,
            "id": "21863367",
            "metadata": {},
            "outputs": [
                {
                    "name": "stdout",
                    "output_type": "stream",
                    "text": [
                        "The autoreload extension is already loaded. To reload it, use:\n",
                        "  %reload_ext autoreload\n"
                    ]
                }
            ],
            "source": [
                "%load_ext autoreload\n",
                "%autoreload 2\n",
                "import sys  \n",
                "sys.path.insert(0, '../tools/')\n"
            ]
        },
        {
            "cell_type": "code",
            "execution_count": 36,
            "id": "9c33d11e",
            "metadata": {},
            "outputs": [],
            "source": [
                "%reload_ext autoreload\n",
                "# import sand_classification as sc\n",
                "import quality_mosaic as qm\n",
                "# import train_val as tv"
            ]
        },
        {
            "attachments": {},
            "cell_type": "markdown",
            "metadata": {},
            "source": [
                "# Download image by tile"
            ]
        },
        {
            "cell_type": "code",
            "execution_count": 16,
            "id": "32b90a27",
            "metadata": {},
            "outputs": [
                {
                    "data": {
                        "text/html": [
                            "<div>\n",
                            "<style scoped>\n",
                            "    .dataframe tbody tr th:only-of-type {\n",
                            "        vertical-align: middle;\n",
                            "    }\n",
                            "\n",
                            "    .dataframe tbody tr th {\n",
                            "        vertical-align: top;\n",
                            "    }\n",
                            "\n",
                            "    .dataframe thead th {\n",
                            "        text-align: right;\n",
                            "    }\n",
                            "</style>\n",
                            "<table border=\"1\" class=\"dataframe\">\n",
                            "  <thead>\n",
                            "    <tr style=\"text-align: right;\">\n",
                            "      <th></th>\n",
                            "      <th>Name</th>\n",
                            "      <th>geometry</th>\n",
                            "    </tr>\n",
                            "  </thead>\n",
                            "  <tbody>\n",
                            "    <tr>\n",
                            "      <th>0</th>\n",
                            "      <td>betwa-test-poly</td>\n",
                            "      <td>POLYGON ((79.78787 25.86981, 79.80159 25.87578...</td>\n",
                            "    </tr>\n",
                            "  </tbody>\n",
                            "</table>\n",
                            "</div>"
                        ],
                        "text/plain": [
                            "              Name                                           geometry\n",
                            "0  betwa-test-poly  POLYGON ((79.78787 25.86981, 79.80159 25.87578..."
                        ]
                    },
                    "execution_count": 16,
                    "metadata": {},
                    "output_type": "execute_result"
                }
            ],
            "source": [
                "# read a shapefile into a geopandas dataframe\n",
                "import geopandas as gpd\n",
                "\n",
                "test_roi = '../data/betwa-test-poly-polygon.shp'\n",
                "test_kml = '../data/betwa-test-poly.kml'\n",
                "gdf = gpd.read_file(test_roi)\n",
                "\n",
                "gdf"
            ]
        },
        {
            "cell_type": "code",
            "execution_count": 19,
            "id": "d4ad5b64",
            "metadata": {},
            "outputs": [
                {
                    "data": {
                        "text/plain": [
                            "{'type': 'FeatureCollection',\n",
                            " 'columns': {'Name': 'String', 'system:index': 'String'},\n",
                            " 'features': [{'type': 'Feature',\n",
                            "   'geometry': {'type': 'Polygon',\n",
                            "    'coordinates': [[[79.7878656712008, 25.8698057494276],\n",
                            "      [79.7865664306152, 25.8611442683894],\n",
                            "      [79.7939189671744, 25.8609942413027],\n",
                            "      [79.7957159919335, 25.8587917043692],\n",
                            "      [79.8001974852475, 25.8594975302394],\n",
                            "      [79.8045558619593, 25.8622467867835],\n",
                            "      [79.8098113182621, 25.8647280973938],\n",
                            "      [79.8153582342182, 25.8718347987767],\n",
                            "      [79.8187516892406, 25.8803907029506],\n",
                            "      [79.8190886026307, 25.8906248414734],\n",
                            "      [79.8274575552957, 25.8920194681292],\n",
                            "      [79.8367029884974, 25.8830054583251],\n",
                            "      [79.8532044490541, 25.8766566096896],\n",
                            "      [79.8705191819733, 25.8771483229725],\n",
                            "      [79.8804617361309, 25.8817768497765],\n",
                            "      [79.8910458910375, 25.8869824180478],\n",
                            "      [79.9000377450384, 25.8797718428418],\n",
                            "      [79.9069326308557, 25.884540368319],\n",
                            "      [79.8998634663856, 25.8947841594351],\n",
                            "      [79.8852600166704, 25.8962160628992],\n",
                            "      [79.8682885624644, 25.8890345743416],\n",
                            "      [79.8474146255543, 25.8920029948322],\n",
                            "      [79.8350434366112, 25.9017057740724],\n",
                            "      [79.8289302847657, 25.9114891494415],\n",
                            "      [79.8225120774518, 25.9178011055436],\n",
                            "      [79.8144806381888, 25.9185555990993],\n",
                            "      [79.8087727730145, 25.9151456225018],\n",
                            "      [79.8050846144342, 25.905349018045],\n",
                            "      [79.8070288699606, 25.8976436397812],\n",
                            "      [79.8060436707839, 25.8870183486508],\n",
                            "      [79.8015856652381, 25.8757801080314],\n",
                            "      [79.7878656712008, 25.8698057494276]]]},\n",
                            "   'id': '0',\n",
                            "   'properties': {'Name': 'betwa-test-poly'}}]}"
                        ]
                    },
                    "execution_count": 19,
                    "metadata": {},
                    "output_type": "execute_result"
                }
            ],
            "source": [
                "roi = geemap.vector_to_ee(test_roi)\n",
                "roi.getInfo()"
            ]
        },
        {
            "cell_type": "code",
            "execution_count": 37,
            "id": "d821ab84",
            "metadata": {},
            "outputs": [],
            "source": [
                "S2_BANDS = [\"B1\",\"B2\",\"B3\",\"B4\",\"B5\", \"B6\",\"B7\",\"B8\",\"B8A\", \"B9\",\"B11\",\"B12\"]"
            ]
        },
        {
            "cell_type": "code",
            "execution_count": 41,
            "id": "87beee47",
            "metadata": {},
            "outputs": [
                {
                    "name": "stdout",
                    "output_type": "stream",
                    "text": [
                        "Search window from 2022-04-07 to 2022-06-07\n"
                    ]
                },
                {
                    "data": {
                        "text/html": [
                            "<div><style>:root {\n",
                            "  --font-color-primary: var(--jp-content-font-color0, rgba(0, 0, 0, 1));\n",
                            "  --font-color-secondary: var(--jp-content-font-color2, rgba(0, 0, 0, 0.6));\n",
                            "  --font-color-accent: rgba(123, 31, 162, 1);\n",
                            "  --border-color: var(--jp-border-color2, #e0e0e0);\n",
                            "  --background-color: var(--jp-layout-color0, white);\n",
                            "  --background-color-row-even: var(--jp-layout-color1, white);\n",
                            "  --background-color-row-odd: var(--jp-layout-color2, #eeeeee);\n",
                            "}\n",
                            "\n",
                            "html[theme=\"dark\"],\n",
                            "body[data-theme=\"dark\"],\n",
                            "body.vscode-dark {\n",
                            "  --font-color-primary: rgba(255, 255, 255, 1);\n",
                            "  --font-color-secondary: rgba(255, 255, 255, 0.6);\n",
                            "  --font-color-accent: rgb(173, 132, 190);\n",
                            "  --border-color: #2e2e2e;\n",
                            "  --background-color: #111111;\n",
                            "  --background-color-row-even: #111111;\n",
                            "  --background-color-row-odd: #313131;\n",
                            "}\n",
                            "\n",
                            ".ee {\n",
                            "  padding: 1em;\n",
                            "  line-height: 1.5em;\n",
                            "  min-width: 300px;\n",
                            "  max-width: 1200px;\n",
                            "  overflow-y: scroll;\n",
                            "  max-height: 600px;\n",
                            "  border: 1px solid var(--border-color);\n",
                            "  font-family: monospace;\n",
                            "}\n",
                            "\n",
                            ".ee li {\n",
                            "  list-style-type: none;\n",
                            "}\n",
                            "\n",
                            ".ee ul {\n",
                            "  padding-left: 1.5em !important;\n",
                            "  margin: 0;\n",
                            "}\n",
                            "\n",
                            ".ee > ul {\n",
                            "  padding-left: 0 !important;\n",
                            "}\n",
                            "\n",
                            ".ee-open,\n",
                            ".ee-shut {\n",
                            "  color: var(--font-color-secondary);\n",
                            "  cursor: pointer;\n",
                            "  margin: 0;\n",
                            "}\n",
                            "\n",
                            ".ee-open:hover,\n",
                            ".ee-shut:hover {\n",
                            "  color: var(--font-color-primary);\n",
                            "}\n",
                            "\n",
                            ".ee-k {\n",
                            "  color: var(--font-color-accent);\n",
                            "  margin-right: 6px;\n",
                            "}\n",
                            "\n",
                            ".ee-v {\n",
                            "  color: var(--font-color-primary);\n",
                            "}\n",
                            "\n",
                            ".ee-toggle {\n",
                            "  display: none;\n",
                            "}\n",
                            "\n",
                            ".ee-shut + ul {\n",
                            "  display: none;\n",
                            "}\n",
                            "\n",
                            ".ee-open + ul {\n",
                            "  display: block;\n",
                            "}\n",
                            "\n",
                            ".ee-shut::before {\n",
                            "  display: inline-block;\n",
                            "  content: \"▼\";\n",
                            "  margin-right: 6px;\n",
                            "  transform: rotate(-90deg);\n",
                            "  transition: transform 0.2s;\n",
                            "}\n",
                            "\n",
                            ".ee-open::before {\n",
                            "  transform: rotate(0deg);\n",
                            "  display: inline-block;\n",
                            "  content: \"▼\";\n",
                            "  margin-right: 6px;\n",
                            "  transition: transform 0.2s;\n",
                            "}\n",
                            "</style><div class='ee'><ul><li><label class='ee-shut'>List (12 elements)<input type='checkbox' class='ee-toggle'></label><ul><li><span class='ee-k'>0:</span><span class='ee-v'>B1</span></li><li><span class='ee-k'>1:</span><span class='ee-v'>B2</span></li><li><span class='ee-k'>2:</span><span class='ee-v'>B3</span></li><li><span class='ee-k'>3:</span><span class='ee-v'>B4</span></li><li><span class='ee-k'>4:</span><span class='ee-v'>B5</span></li><li><span class='ee-k'>5:</span><span class='ee-v'>B6</span></li><li><span class='ee-k'>6:</span><span class='ee-v'>B7</span></li><li><span class='ee-k'>7:</span><span class='ee-v'>B8</span></li><li><span class='ee-k'>8:</span><span class='ee-v'>B8A</span></li><li><span class='ee-k'>9:</span><span class='ee-v'>B9</span></li><li><span class='ee-k'>10:</span><span class='ee-v'>B11</span></li><li><span class='ee-k'>11:</span><span class='ee-v'>B12</span></li></ul></li></ul></div><script>function toggleHeader() {\n",
                            "    const parent = this.parentElement;\n",
                            "    parent.className = parent.className === \"ee-open\" ? \"ee-shut\" : \"ee-open\";\n",
                            "}\n",
                            "\n",
                            "for (let c of document.getElementsByClassName(\"ee-toggle\")) {\n",
                            "    c.onclick = toggleHeader;\n",
                            "}</script></div>"
                        ],
                        "text/plain": [
                            "<ee.ee_list.List at 0x28cae6610>"
                        ]
                    },
                    "execution_count": 41,
                    "metadata": {},
                    "output_type": "execute_result"
                }
            ],
            "source": [
                "date = '2022-05-07' #from analysis in river_sand_flooding_gst_ganga GEE \n",
                "max_search_window_months = 1\n",
                "median_samples = 5\n",
                "mosaic_method = 'median'\n",
                "\n",
                "\n",
                "# mining_centroids = ee.FeatureCollection('projects/gee-sand/assets/bihar_sand_banks_centroids')\n",
                "\n",
                "s1_s2 = qm.get_s1_s2(roi=roi, date=date, max_search_window_months=max_search_window_months,median_samples=median_samples, mosaic_method=mosaic_method, clip=False, bands=S2_BANDS)\n",
                "s1_s2.bandNames()\n",
                "# roi"
            ]
        },
        {
            "cell_type": "code",
            "execution_count": 42,
            "id": "897f524d",
            "metadata": {},
            "outputs": [
                {
                    "data": {
                        "application/vnd.jupyter.widget-view+json": {
                            "model_id": "696a83a63a9743c3a671d975b0eaa28d",
                            "version_major": 2,
                            "version_minor": 0
                        },
                        "text/plain": [
                            "Map(center=[25.888620679819024, 79.83629344744737], controls=(WidgetControl(options=['position', 'transparent_…"
                        ]
                    },
                    "metadata": {},
                    "output_type": "display_data"
                }
            ],
            "source": [
                "Map = geemap.Map()\n",
                "Map.centerObject(roi, 13)\n",
                "Map.add_basemap('SATELLITE')\n",
                "# Map.add_basemap('Stamen.Toner')\n",
                "# Map.addLayer(s1_s2, qm.visParamsVV, 'S1', False)\n",
                "# Map.addLayer(s1_s2, qm.visParamsMTGSI , 'mTGSI', False)\n",
                "Map.addLayer(s1_s2, qm.visParamsRGB, 'S2')\n",
                "Map.addLayer(roi, {'opacity':0.5}, 'roi')\n",
                "\n",
                "Map"
            ]
        },
        {
            "attachments": {},
            "cell_type": "markdown",
            "id": "d07a91c6",
            "metadata": {},
            "source": [
                "## Override the library's fishnet(..) function with a custom one"
            ]
        },
        {
            "cell_type": "code",
            "execution_count": 43,
            "id": "9559f85d",
            "metadata": {},
            "outputs": [],
            "source": [
                "def fishnet(\n",
                "    data,\n",
                "    h_interval=1.0,\n",
                "    v_interval=1.0,\n",
                "    rows=None,\n",
                "    cols=None,\n",
                "    delta=1.0,\n",
                "    intersect=True,\n",
                "    output=None,\n",
                "    lat_offset=0.,\n",
                "    lon_offset=0.,\n",
                "    **kwargs,\n",
                "):\n",
                "    \"\"\"Create a fishnet (i.e., rectangular grid) based on an input vector dataset.\n",
                "\n",
                "    Args:\n",
                "        data (str | ee.Geometry | ee.Feature | ee.FeatureCollection): The input vector dataset. It can be a file path, HTTP URL, ee.Geometry, ee.Feature, or ee.FeatureCollection.\n",
                "        h_interval (float, optional): The horizontal interval in degrees. It will be ignored if rows and cols are specified. Defaults to 1.0.\n",
                "        v_interval (float, optional): The vertical interval in degrees. It will be ignored if rows and cols are specified. Defaults to 1.0.\n",
                "        rows (int, optional): The number of rows. Defaults to None.\n",
                "        cols (int, optional): The number of columns. Defaults to None.\n",
                "        delta (float, optional): The buffer distance in degrees. Defaults to 1.0.\n",
                "        intersect (bool, optional): If True, the output will be a feature collection of intersecting polygons. Defaults to True.\n",
                "        output (str, optional): The output file path. Defaults to None.\n",
                "        lat_offset (float, optional): The latitude offset in degrees. Defaults to 0.\n",
                "        lon_offset (float, optional): The longitude offset in degrees. Defaults to 0.\n",
                "\n",
                "    Returns:\n",
                "        ee.FeatureCollection: The fishnet as an ee.FeatureCollection.\n",
                "    \"\"\"\n",
                "    if isinstance(data, str):\n",
                "        data = geemap.vector_to_ee(data, **kwargs)\n",
                "\n",
                "    if isinstance(data, ee.FeatureCollection) or isinstance(data, ee.Feature):\n",
                "        data = data.geometry()\n",
                "    elif isinstance(data, ee.Geometry):\n",
                "        pass\n",
                "    else:\n",
                "        raise ValueError(\n",
                "            \"data must be a string, ee.FeatureCollection, ee.Feature, or ee.Geometry.\"\n",
                "        )\n",
                "\n",
                "    # print(\"HOTDAMN\")\n",
                "    coords = data.bounds().coordinates().getInfo()\n",
                "\n",
                "    west = coords[0][0][0] + lon_offset\n",
                "    east = coords[0][1][0] + lon_offset\n",
                "    south = coords[0][0][1] + lat_offset\n",
                "    north = coords[0][2][1] + lat_offset\n",
                "\n",
                "    if rows is not None and cols is not None:\n",
                "        v_interval = (north - south) / rows\n",
                "        h_interval = (east - west) / cols\n",
                "\n",
                "    # west = west - delta * h_interval\n",
                "    east = east + delta * h_interval\n",
                "    # south = south - delta * v_interval\n",
                "    north = north + delta * v_interval\n",
                "\n",
                "    grids = geemap.latlon_grid(v_interval, h_interval, west, east, south, north)\n",
                "\n",
                "    if intersect:\n",
                "        grids = grids.filterBounds(data)\n",
                "\n",
                "    if output is not None:\n",
                "        geemap.ee_export_vector(grids, output)\n",
                "\n",
                "    else:\n",
                "        return grids"
            ]
        },
        {
            "cell_type": "code",
            "execution_count": 26,
            "id": "76092496",
            "metadata": {},
            "outputs": [],
            "source": [
                "tile_side_m = 440\n",
                "tile_stride_m = 220\n"
            ]
        },
        {
            "cell_type": "code",
            "execution_count": 27,
            "id": "5415c2f5",
            "metadata": {},
            "outputs": [
                {
                    "data": {
                        "text/plain": [
                            "(0.0045613873030399855,\n",
                            " 0.0039603960396039604,\n",
                            " 0.0022806936515199928,\n",
                            " 0.0019801980198019802)"
                        ]
                    },
                    "execution_count": 27,
                    "metadata": {},
                    "output_type": "execute_result"
                }
            ],
            "source": [
                "#1111m = 0.01deg lat, 440m  = 0.01deg * 440/1111\n",
                "v_grid = 0.01 * tile_side_m/1111\n",
                "h_grid = v_grid / np.cos(np.deg2rad(lat)) #higher latitudes have larger values for degrees to get the same size in km\n",
                "v_stride = 0.01 * tile_stride_m/1111\n",
                "h_stride = v_stride / np.cos(np.deg2rad(lat))\n",
                "\n",
                "h_grid, v_grid, h_stride, v_stride"
            ]
        },
        {
            "cell_type": "code",
            "execution_count": 44,
            "id": "25b7c9e4",
            "metadata": {},
            "outputs": [],
            "source": [
                "grid1 = fishnet(roi, h_interval=h_grid, v_interval=v_grid, delta=0.1, intersect=True)\n",
                "Map.addLayer(grid1, {'color':'red', 'opacity':0.3}, 'Grid1')\n",
                "\n",
                "# grid2 = fishnet(roi, h_interval=h_grid, v_interval=v_grid, delta=0.1, intersect=True, lat_offset=0., lon_offset=h_stride)\n",
                "# Map.addLayer(grid2, {'color':'yellow', 'opacity':0.3}, 'Grid2')\n",
                "\n",
                "# grid3 = fishnet(roi, h_interval=h_grid, v_interval=v_grid, delta=0.1, intersect=True, lat_offset=v_stride, lon_offset=0.)\n",
                "# Map.addLayer(grid3, {'color':'blue', 'opacity':0.3}, 'Grid3')\n",
                "\n",
                "grid4 = fishnet(roi, h_interval=h_grid, v_interval=v_grid, delta=0.1, intersect=True, lat_offset=v_stride, lon_offset=h_stride)\n",
                "Map.addLayer(grid4, {'color':'white', 'opacity':0.3}, 'Grid4')"
            ]
        },
        {
            "cell_type": "code",
            "execution_count": 45,
            "id": "6a4b55b4",
            "metadata": {},
            "outputs": [
                {
                    "data": {
                        "text/plain": [
                            "{'type': 'Image',\n",
                            " 'bands': [{'id': 'B1',\n",
                            "   'data_type': {'type': 'PixelType',\n",
                            "    'precision': 'double',\n",
                            "    'min': 0,\n",
                            "    'max': 65535},\n",
                            "   'crs': 'EPSG:4326',\n",
                            "   'crs_transform': [8.983152841195215e-05,\n",
                            "    0,\n",
                            "    0,\n",
                            "    0,\n",
                            "    -8.983152841195215e-05,\n",
                            "    0]},\n",
                            "  {'id': 'B2',\n",
                            "   'data_type': {'type': 'PixelType',\n",
                            "    'precision': 'double',\n",
                            "    'min': 0,\n",
                            "    'max': 65535},\n",
                            "   'crs': 'EPSG:4326',\n",
                            "   'crs_transform': [8.983152841195215e-05,\n",
                            "    0,\n",
                            "    0,\n",
                            "    0,\n",
                            "    -8.983152841195215e-05,\n",
                            "    0]},\n",
                            "  {'id': 'B3',\n",
                            "   'data_type': {'type': 'PixelType',\n",
                            "    'precision': 'double',\n",
                            "    'min': 0,\n",
                            "    'max': 65535},\n",
                            "   'crs': 'EPSG:4326',\n",
                            "   'crs_transform': [8.983152841195215e-05,\n",
                            "    0,\n",
                            "    0,\n",
                            "    0,\n",
                            "    -8.983152841195215e-05,\n",
                            "    0]},\n",
                            "  {'id': 'B4',\n",
                            "   'data_type': {'type': 'PixelType',\n",
                            "    'precision': 'double',\n",
                            "    'min': 0,\n",
                            "    'max': 65535},\n",
                            "   'crs': 'EPSG:4326',\n",
                            "   'crs_transform': [8.983152841195215e-05,\n",
                            "    0,\n",
                            "    0,\n",
                            "    0,\n",
                            "    -8.983152841195215e-05,\n",
                            "    0]},\n",
                            "  {'id': 'B5',\n",
                            "   'data_type': {'type': 'PixelType',\n",
                            "    'precision': 'double',\n",
                            "    'min': 0,\n",
                            "    'max': 65535},\n",
                            "   'crs': 'EPSG:4326',\n",
                            "   'crs_transform': [8.983152841195215e-05,\n",
                            "    0,\n",
                            "    0,\n",
                            "    0,\n",
                            "    -8.983152841195215e-05,\n",
                            "    0]},\n",
                            "  {'id': 'B6',\n",
                            "   'data_type': {'type': 'PixelType',\n",
                            "    'precision': 'double',\n",
                            "    'min': 0,\n",
                            "    'max': 65535},\n",
                            "   'crs': 'EPSG:4326',\n",
                            "   'crs_transform': [8.983152841195215e-05,\n",
                            "    0,\n",
                            "    0,\n",
                            "    0,\n",
                            "    -8.983152841195215e-05,\n",
                            "    0]},\n",
                            "  {'id': 'B7',\n",
                            "   'data_type': {'type': 'PixelType',\n",
                            "    'precision': 'double',\n",
                            "    'min': 0,\n",
                            "    'max': 65535},\n",
                            "   'crs': 'EPSG:4326',\n",
                            "   'crs_transform': [8.983152841195215e-05,\n",
                            "    0,\n",
                            "    0,\n",
                            "    0,\n",
                            "    -8.983152841195215e-05,\n",
                            "    0]},\n",
                            "  {'id': 'B8',\n",
                            "   'data_type': {'type': 'PixelType',\n",
                            "    'precision': 'double',\n",
                            "    'min': 0,\n",
                            "    'max': 65535},\n",
                            "   'crs': 'EPSG:4326',\n",
                            "   'crs_transform': [8.983152841195215e-05,\n",
                            "    0,\n",
                            "    0,\n",
                            "    0,\n",
                            "    -8.983152841195215e-05,\n",
                            "    0]},\n",
                            "  {'id': 'B8A',\n",
                            "   'data_type': {'type': 'PixelType',\n",
                            "    'precision': 'double',\n",
                            "    'min': 0,\n",
                            "    'max': 65535},\n",
                            "   'crs': 'EPSG:4326',\n",
                            "   'crs_transform': [8.983152841195215e-05,\n",
                            "    0,\n",
                            "    0,\n",
                            "    0,\n",
                            "    -8.983152841195215e-05,\n",
                            "    0]},\n",
                            "  {'id': 'B9',\n",
                            "   'data_type': {'type': 'PixelType',\n",
                            "    'precision': 'double',\n",
                            "    'min': 0,\n",
                            "    'max': 65535},\n",
                            "   'crs': 'EPSG:4326',\n",
                            "   'crs_transform': [8.983152841195215e-05,\n",
                            "    0,\n",
                            "    0,\n",
                            "    0,\n",
                            "    -8.983152841195215e-05,\n",
                            "    0]},\n",
                            "  {'id': 'B11',\n",
                            "   'data_type': {'type': 'PixelType',\n",
                            "    'precision': 'double',\n",
                            "    'min': 0,\n",
                            "    'max': 65535},\n",
                            "   'crs': 'EPSG:4326',\n",
                            "   'crs_transform': [8.983152841195215e-05,\n",
                            "    0,\n",
                            "    0,\n",
                            "    0,\n",
                            "    -8.983152841195215e-05,\n",
                            "    0]},\n",
                            "  {'id': 'B12',\n",
                            "   'data_type': {'type': 'PixelType',\n",
                            "    'precision': 'double',\n",
                            "    'min': 0,\n",
                            "    'max': 65535},\n",
                            "   'crs': 'EPSG:4326',\n",
                            "   'crs_transform': [8.983152841195215e-05,\n",
                            "    0,\n",
                            "    0,\n",
                            "    0,\n",
                            "    -8.983152841195215e-05,\n",
                            "    0]}]}"
                        ]
                    },
                    "execution_count": 45,
                    "metadata": {},
                    "output_type": "execute_result"
                }
            ],
            "source": [
                "\n",
                "# visParams = {\"bands\": [\"B1\",\"B2\",\"B3\",\"B4\",\"B5\", \"B6\",\"B7\",\"B8\",\"B8A\", \"B9\",\"B11\",\"B12\"]}\n",
                "\n",
                "baseM = s1_s2.reproject(crs = s1_s2.projection(), scale = 10)#.visualize(**visParams)\n",
                "\n",
                "baseM.getInfo()"
            ]
        },
        {
            "cell_type": "code",
            "execution_count": 46,
            "id": "397a9f52",
            "metadata": {},
            "outputs": [
                {
                    "name": "stdout",
                    "output_type": "stream",
                    "text": [
                        "Downloading 1/157: ../data/patches/s2_001.tif\n"
                    ]
                },
                {
                    "data": {
                        "application/vnd.jupyter.widget-view+json": {
                            "model_id": "49d8c4863706441b98377f2000ccff23",
                            "version_major": 2,
                            "version_minor": 0
                        },
                        "text/plain": [
                            "s2_001.tif: |          | 0.00/225k (raw) [  0.0%] in 00:00 (eta:     ?)"
                        ]
                    },
                    "metadata": {},
                    "output_type": "display_data"
                },
                {
                    "name": "stdout",
                    "output_type": "stream",
                    "text": [
                        "Downloading 2/157: ../data/patches/s2_002.tif\n"
                    ]
                },
                {
                    "data": {
                        "application/vnd.jupyter.widget-view+json": {
                            "model_id": "0055fb185472458099751f9a40a28950",
                            "version_major": 2,
                            "version_minor": 0
                        },
                        "text/plain": [
                            "s2_002.tif: |          | 0.00/220k (raw) [  0.0%] in 00:00 (eta:     ?)"
                        ]
                    },
                    "metadata": {},
                    "output_type": "display_data"
                },
                {
                    "name": "stdout",
                    "output_type": "stream",
                    "text": [
                        "Downloading 3/157: ../data/patches/s2_003.tif\n"
                    ]
                },
                {
                    "data": {
                        "application/vnd.jupyter.widget-view+json": {
                            "model_id": "51f695c7e89a43909680831b115046f9",
                            "version_major": 2,
                            "version_minor": 0
                        },
                        "text/plain": [
                            "s2_003.tif: |          | 0.00/225k (raw) [  0.0%] in 00:00 (eta:     ?)"
                        ]
                    },
                    "metadata": {},
                    "output_type": "display_data"
                },
                {
                    "name": "stdout",
                    "output_type": "stream",
                    "text": [
                        "Downloading 4/157: ../data/patches/s2_004.tif\n"
                    ]
                },
                {
                    "data": {
                        "application/vnd.jupyter.widget-view+json": {
                            "model_id": "9158d487de674eea80f4d5ee3c4763ee",
                            "version_major": 2,
                            "version_minor": 0
                        },
                        "text/plain": [
                            "s2_004.tif: |          | 0.00/225k (raw) [  0.0%] in 00:00 (eta:     ?)"
                        ]
                    },
                    "metadata": {},
                    "output_type": "display_data"
                },
                {
                    "name": "stdout",
                    "output_type": "stream",
                    "text": [
                        "Downloading 5/157: ../data/patches/s2_005.tif\n"
                    ]
                },
                {
                    "data": {
                        "application/vnd.jupyter.widget-view+json": {
                            "model_id": "da563701d15447a5844d0375870bee4e",
                            "version_major": 2,
                            "version_minor": 0
                        },
                        "text/plain": [
                            "s2_005.tif: |          | 0.00/225k (raw) [  0.0%] in 00:00 (eta:     ?)"
                        ]
                    },
                    "metadata": {},
                    "output_type": "display_data"
                },
                {
                    "name": "stdout",
                    "output_type": "stream",
                    "text": [
                        "Downloading 6/157: ../data/patches/s2_006.tif\n"
                    ]
                },
                {
                    "data": {
                        "application/vnd.jupyter.widget-view+json": {
                            "model_id": "5b6c6e0ed2ea49c7842093d34cba72c5",
                            "version_major": 2,
                            "version_minor": 0
                        },
                        "text/plain": [
                            "s2_006.tif: |          | 0.00/225k (raw) [  0.0%] in 00:00 (eta:     ?)"
                        ]
                    },
                    "metadata": {},
                    "output_type": "display_data"
                },
                {
                    "name": "stdout",
                    "output_type": "stream",
                    "text": [
                        "Downloading 7/157: ../data/patches/s2_007.tif\n"
                    ]
                },
                {
                    "data": {
                        "application/vnd.jupyter.widget-view+json": {
                            "model_id": "b6e5c1cde5364a28a5a195d22e820a37",
                            "version_major": 2,
                            "version_minor": 0
                        },
                        "text/plain": [
                            "s2_007.tif: |          | 0.00/220k (raw) [  0.0%] in 00:00 (eta:     ?)"
                        ]
                    },
                    "metadata": {},
                    "output_type": "display_data"
                },
                {
                    "name": "stdout",
                    "output_type": "stream",
                    "text": [
                        "Downloading 8/157: ../data/patches/s2_008.tif\n"
                    ]
                },
                {
                    "data": {
                        "application/vnd.jupyter.widget-view+json": {
                            "model_id": "2d7194662e5845c7bca704b30c475f71",
                            "version_major": 2,
                            "version_minor": 0
                        },
                        "text/plain": [
                            "s2_008.tif: |          | 0.00/225k (raw) [  0.0%] in 00:00 (eta:     ?)"
                        ]
                    },
                    "metadata": {},
                    "output_type": "display_data"
                },
                {
                    "name": "stdout",
                    "output_type": "stream",
                    "text": [
                        "Downloading 9/157: ../data/patches/s2_009.tif\n"
                    ]
                },
                {
                    "data": {
                        "application/vnd.jupyter.widget-view+json": {
                            "model_id": "3ddf4770444e40e6a965e7b91c06e3a2",
                            "version_major": 2,
                            "version_minor": 0
                        },
                        "text/plain": [
                            "s2_009.tif: |          | 0.00/225k (raw) [  0.0%] in 00:00 (eta:     ?)"
                        ]
                    },
                    "metadata": {},
                    "output_type": "display_data"
                },
                {
                    "name": "stdout",
                    "output_type": "stream",
                    "text": [
                        "Downloading 10/157: ../data/patches/s2_010.tif\n"
                    ]
                },
                {
                    "data": {
                        "application/vnd.jupyter.widget-view+json": {
                            "model_id": "404d4e92ef9b4ea1a761234ac220ceb1",
                            "version_major": 2,
                            "version_minor": 0
                        },
                        "text/plain": [
                            "s2_010.tif: |          | 0.00/225k (raw) [  0.0%] in 00:00 (eta:     ?)"
                        ]
                    },
                    "metadata": {},
                    "output_type": "display_data"
                },
                {
                    "name": "stdout",
                    "output_type": "stream",
                    "text": [
                        "Downloading 11/157: ../data/patches/s2_011.tif\n"
                    ]
                },
                {
                    "data": {
                        "application/vnd.jupyter.widget-view+json": {
                            "model_id": "7b44c74ab6474fca8ae90267bd78de58",
                            "version_major": 2,
                            "version_minor": 0
                        },
                        "text/plain": [
                            "s2_011.tif: |          | 0.00/225k (raw) [  0.0%] in 00:00 (eta:     ?)"
                        ]
                    },
                    "metadata": {},
                    "output_type": "display_data"
                },
                {
                    "name": "stdout",
                    "output_type": "stream",
                    "text": [
                        "Downloading 12/157: ../data/patches/s2_012.tif\n"
                    ]
                },
                {
                    "data": {
                        "application/vnd.jupyter.widget-view+json": {
                            "model_id": "e1bedeb5e81f49f689a0315e93e9d3a3",
                            "version_major": 2,
                            "version_minor": 0
                        },
                        "text/plain": [
                            "s2_012.tif: |          | 0.00/230k (raw) [  0.0%] in 00:00 (eta:     ?)"
                        ]
                    },
                    "metadata": {},
                    "output_type": "display_data"
                },
                {
                    "name": "stdout",
                    "output_type": "stream",
                    "text": [
                        "Downloading 13/157: ../data/patches/s2_013.tif\n"
                    ]
                },
                {
                    "data": {
                        "application/vnd.jupyter.widget-view+json": {
                            "model_id": "405a054067a74bffb729e136b041d205",
                            "version_major": 2,
                            "version_minor": 0
                        },
                        "text/plain": [
                            "s2_013.tif: |          | 0.00/225k (raw) [  0.0%] in 00:00 (eta:     ?)"
                        ]
                    },
                    "metadata": {},
                    "output_type": "display_data"
                },
                {
                    "name": "stdout",
                    "output_type": "stream",
                    "text": [
                        "Downloading 14/157: ../data/patches/s2_014.tif\n"
                    ]
                },
                {
                    "data": {
                        "application/vnd.jupyter.widget-view+json": {
                            "model_id": "ca0fcbf6ac1a4af78a7df19a661a7e6f",
                            "version_major": 2,
                            "version_minor": 0
                        },
                        "text/plain": [
                            "s2_014.tif: |          | 0.00/230k (raw) [  0.0%] in 00:00 (eta:     ?)"
                        ]
                    },
                    "metadata": {},
                    "output_type": "display_data"
                },
                {
                    "name": "stdout",
                    "output_type": "stream",
                    "text": [
                        "Downloading 15/157: ../data/patches/s2_015.tif\n"
                    ]
                },
                {
                    "data": {
                        "application/vnd.jupyter.widget-view+json": {
                            "model_id": "e65261e8aca84b7092ca9ad31c1c7856",
                            "version_major": 2,
                            "version_minor": 0
                        },
                        "text/plain": [
                            "s2_015.tif: |          | 0.00/230k (raw) [  0.0%] in 00:00 (eta:     ?)"
                        ]
                    },
                    "metadata": {},
                    "output_type": "display_data"
                },
                {
                    "name": "stdout",
                    "output_type": "stream",
                    "text": [
                        "Downloading 16/157: ../data/patches/s2_016.tif\n"
                    ]
                },
                {
                    "data": {
                        "application/vnd.jupyter.widget-view+json": {
                            "model_id": "c1da79325b2b4fdea2aa881c3ceb0543",
                            "version_major": 2,
                            "version_minor": 0
                        },
                        "text/plain": [
                            "s2_016.tif: |          | 0.00/230k (raw) [  0.0%] in 00:00 (eta:     ?)"
                        ]
                    },
                    "metadata": {},
                    "output_type": "display_data"
                },
                {
                    "name": "stdout",
                    "output_type": "stream",
                    "text": [
                        "Downloading 17/157: ../data/patches/s2_017.tif\n"
                    ]
                },
                {
                    "data": {
                        "application/vnd.jupyter.widget-view+json": {
                            "model_id": "280f5b7f9027479c96271192b2992fe1",
                            "version_major": 2,
                            "version_minor": 0
                        },
                        "text/plain": [
                            "s2_017.tif: |          | 0.00/230k (raw) [  0.0%] in 00:00 (eta:     ?)"
                        ]
                    },
                    "metadata": {},
                    "output_type": "display_data"
                },
                {
                    "name": "stdout",
                    "output_type": "stream",
                    "text": [
                        "Downloading 18/157: ../data/patches/s2_018.tif\n"
                    ]
                },
                {
                    "data": {
                        "application/vnd.jupyter.widget-view+json": {
                            "model_id": "e4a61e964d2842bd8d40c1eafef4773f",
                            "version_major": 2,
                            "version_minor": 0
                        },
                        "text/plain": [
                            "s2_018.tif: |          | 0.00/220k (raw) [  0.0%] in 00:00 (eta:     ?)"
                        ]
                    },
                    "metadata": {},
                    "output_type": "display_data"
                },
                {
                    "name": "stdout",
                    "output_type": "stream",
                    "text": [
                        "Downloading 19/157: ../data/patches/s2_019.tif\n"
                    ]
                },
                {
                    "data": {
                        "application/vnd.jupyter.widget-view+json": {
                            "model_id": "53523af3d8de4515aca12f647dc532c4",
                            "version_major": 2,
                            "version_minor": 0
                        },
                        "text/plain": [
                            "s2_019.tif: |          | 0.00/225k (raw) [  0.0%] in 00:00 (eta:     ?)"
                        ]
                    },
                    "metadata": {},
                    "output_type": "display_data"
                },
                {
                    "name": "stdout",
                    "output_type": "stream",
                    "text": [
                        "Downloading 20/157: ../data/patches/s2_020.tif\n"
                    ]
                },
                {
                    "data": {
                        "application/vnd.jupyter.widget-view+json": {
                            "model_id": "dce631a4876b4f76bc25dfc57bf9c84a",
                            "version_major": 2,
                            "version_minor": 0
                        },
                        "text/plain": [
                            "s2_020.tif: |          | 0.00/225k (raw) [  0.0%] in 00:00 (eta:     ?)"
                        ]
                    },
                    "metadata": {},
                    "output_type": "display_data"
                },
                {
                    "name": "stdout",
                    "output_type": "stream",
                    "text": [
                        "Downloading 21/157: ../data/patches/s2_021.tif\n"
                    ]
                },
                {
                    "data": {
                        "application/vnd.jupyter.widget-view+json": {
                            "model_id": "dcb07a72cc0349e7b8ae37452f004355",
                            "version_major": 2,
                            "version_minor": 0
                        },
                        "text/plain": [
                            "s2_021.tif: |          | 0.00/225k (raw) [  0.0%] in 00:00 (eta:     ?)"
                        ]
                    },
                    "metadata": {},
                    "output_type": "display_data"
                },
                {
                    "name": "stdout",
                    "output_type": "stream",
                    "text": [
                        "Downloading 22/157: ../data/patches/s2_022.tif\n"
                    ]
                },
                {
                    "data": {
                        "application/vnd.jupyter.widget-view+json": {
                            "model_id": "3a5263cf468b458eb7f161868572ba54",
                            "version_major": 2,
                            "version_minor": 0
                        },
                        "text/plain": [
                            "s2_022.tif: |          | 0.00/225k (raw) [  0.0%] in 00:00 (eta:     ?)"
                        ]
                    },
                    "metadata": {},
                    "output_type": "display_data"
                },
                {
                    "name": "stdout",
                    "output_type": "stream",
                    "text": [
                        "Downloading 23/157: ../data/patches/s2_023.tif\n"
                    ]
                },
                {
                    "data": {
                        "application/vnd.jupyter.widget-view+json": {
                            "model_id": "6b4e26fffa6640a2b7fbe26381e492cf",
                            "version_major": 2,
                            "version_minor": 0
                        },
                        "text/plain": [
                            "s2_023.tif: |          | 0.00/220k (raw) [  0.0%] in 00:00 (eta:     ?)"
                        ]
                    },
                    "metadata": {},
                    "output_type": "display_data"
                },
                {
                    "name": "stdout",
                    "output_type": "stream",
                    "text": [
                        "Downloading 24/157: ../data/patches/s2_024.tif\n"
                    ]
                },
                {
                    "data": {
                        "application/vnd.jupyter.widget-view+json": {
                            "model_id": "6eb2aa2df62146a0ae0770d2d1f2ced3",
                            "version_major": 2,
                            "version_minor": 0
                        },
                        "text/plain": [
                            "s2_024.tif: |          | 0.00/225k (raw) [  0.0%] in 00:00 (eta:     ?)"
                        ]
                    },
                    "metadata": {},
                    "output_type": "display_data"
                },
                {
                    "name": "stdout",
                    "output_type": "stream",
                    "text": [
                        "Downloading 25/157: ../data/patches/s2_025.tif\n"
                    ]
                },
                {
                    "data": {
                        "application/vnd.jupyter.widget-view+json": {
                            "model_id": "674f5a5829ef4ecc9c2020d5ce705593",
                            "version_major": 2,
                            "version_minor": 0
                        },
                        "text/plain": [
                            "s2_025.tif: |          | 0.00/225k (raw) [  0.0%] in 00:00 (eta:     ?)"
                        ]
                    },
                    "metadata": {},
                    "output_type": "display_data"
                },
                {
                    "name": "stdout",
                    "output_type": "stream",
                    "text": [
                        "Downloading 26/157: ../data/patches/s2_026.tif\n"
                    ]
                },
                {
                    "data": {
                        "application/vnd.jupyter.widget-view+json": {
                            "model_id": "021e9e0609914a1ab03aea94137c0367",
                            "version_major": 2,
                            "version_minor": 0
                        },
                        "text/plain": [
                            "s2_026.tif: |          | 0.00/225k (raw) [  0.0%] in 00:00 (eta:     ?)"
                        ]
                    },
                    "metadata": {},
                    "output_type": "display_data"
                },
                {
                    "name": "stdout",
                    "output_type": "stream",
                    "text": [
                        "Downloading 27/157: ../data/patches/s2_027.tif\n"
                    ]
                },
                {
                    "data": {
                        "application/vnd.jupyter.widget-view+json": {
                            "model_id": "359b40fe4fcb4192acfbc7e6fd6b4dbb",
                            "version_major": 2,
                            "version_minor": 0
                        },
                        "text/plain": [
                            "s2_027.tif: |          | 0.00/225k (raw) [  0.0%] in 00:00 (eta:     ?)"
                        ]
                    },
                    "metadata": {},
                    "output_type": "display_data"
                },
                {
                    "name": "stdout",
                    "output_type": "stream",
                    "text": [
                        "Downloading 28/157: ../data/patches/s2_028.tif\n"
                    ]
                },
                {
                    "data": {
                        "application/vnd.jupyter.widget-view+json": {
                            "model_id": "a4d973f19d4b42908685c3c46c356716",
                            "version_major": 2,
                            "version_minor": 0
                        },
                        "text/plain": [
                            "s2_028.tif: |          | 0.00/220k (raw) [  0.0%] in 00:00 (eta:     ?)"
                        ]
                    },
                    "metadata": {},
                    "output_type": "display_data"
                },
                {
                    "name": "stdout",
                    "output_type": "stream",
                    "text": [
                        "Downloading 29/157: ../data/patches/s2_029.tif\n"
                    ]
                },
                {
                    "data": {
                        "application/vnd.jupyter.widget-view+json": {
                            "model_id": "77cb40a3bd0e46d1836a007424afadcd",
                            "version_major": 2,
                            "version_minor": 0
                        },
                        "text/plain": [
                            "s2_029.tif: |          | 0.00/225k (raw) [  0.0%] in 00:00 (eta:     ?)"
                        ]
                    },
                    "metadata": {},
                    "output_type": "display_data"
                },
                {
                    "name": "stdout",
                    "output_type": "stream",
                    "text": [
                        "Downloading 30/157: ../data/patches/s2_030.tif\n"
                    ]
                },
                {
                    "data": {
                        "application/vnd.jupyter.widget-view+json": {
                            "model_id": "381f115a5e5946129a99bcb04c27a538",
                            "version_major": 2,
                            "version_minor": 0
                        },
                        "text/plain": [
                            "s2_030.tif: |          | 0.00/225k (raw) [  0.0%] in 00:00 (eta:     ?)"
                        ]
                    },
                    "metadata": {},
                    "output_type": "display_data"
                },
                {
                    "name": "stdout",
                    "output_type": "stream",
                    "text": [
                        "Downloading 31/157: ../data/patches/s2_031.tif\n"
                    ]
                },
                {
                    "data": {
                        "application/vnd.jupyter.widget-view+json": {
                            "model_id": "f9b2efccd74649a9b48c4f1cde49fcd4",
                            "version_major": 2,
                            "version_minor": 0
                        },
                        "text/plain": [
                            "s2_031.tif: |          | 0.00/225k (raw) [  0.0%] in 00:00 (eta:     ?)"
                        ]
                    },
                    "metadata": {},
                    "output_type": "display_data"
                },
                {
                    "name": "stdout",
                    "output_type": "stream",
                    "text": [
                        "Downloading 32/157: ../data/patches/s2_032.tif\n"
                    ]
                },
                {
                    "data": {
                        "application/vnd.jupyter.widget-view+json": {
                            "model_id": "ab26680e68524d84a21a60ea4da0f757",
                            "version_major": 2,
                            "version_minor": 0
                        },
                        "text/plain": [
                            "s2_032.tif: |          | 0.00/225k (raw) [  0.0%] in 00:00 (eta:     ?)"
                        ]
                    },
                    "metadata": {},
                    "output_type": "display_data"
                },
                {
                    "name": "stdout",
                    "output_type": "stream",
                    "text": [
                        "Downloading 33/157: ../data/patches/s2_033.tif\n"
                    ]
                },
                {
                    "data": {
                        "application/vnd.jupyter.widget-view+json": {
                            "model_id": "b9d80f19c2e542b4b11dbea1f2e01615",
                            "version_major": 2,
                            "version_minor": 0
                        },
                        "text/plain": [
                            "s2_033.tif: |          | 0.00/220k (raw) [  0.0%] in 00:00 (eta:     ?)"
                        ]
                    },
                    "metadata": {},
                    "output_type": "display_data"
                },
                {
                    "name": "stdout",
                    "output_type": "stream",
                    "text": [
                        "Downloading 34/157: ../data/patches/s2_034.tif\n"
                    ]
                },
                {
                    "data": {
                        "application/vnd.jupyter.widget-view+json": {
                            "model_id": "37ee182fc16b4ede9cbc18141aa6d12c",
                            "version_major": 2,
                            "version_minor": 0
                        },
                        "text/plain": [
                            "s2_034.tif: |          | 0.00/225k (raw) [  0.0%] in 00:00 (eta:     ?)"
                        ]
                    },
                    "metadata": {},
                    "output_type": "display_data"
                },
                {
                    "name": "stdout",
                    "output_type": "stream",
                    "text": [
                        "Downloading 35/157: ../data/patches/s2_035.tif\n"
                    ]
                },
                {
                    "data": {
                        "application/vnd.jupyter.widget-view+json": {
                            "model_id": "83c7dee2284e441383777220465c8db7",
                            "version_major": 2,
                            "version_minor": 0
                        },
                        "text/plain": [
                            "s2_035.tif: |          | 0.00/225k (raw) [  0.0%] in 00:00 (eta:     ?)"
                        ]
                    },
                    "metadata": {},
                    "output_type": "display_data"
                },
                {
                    "name": "stdout",
                    "output_type": "stream",
                    "text": [
                        "Downloading 36/157: ../data/patches/s2_036.tif\n"
                    ]
                },
                {
                    "data": {
                        "application/vnd.jupyter.widget-view+json": {
                            "model_id": "d140d02ad6a6446e9892577421275414",
                            "version_major": 2,
                            "version_minor": 0
                        },
                        "text/plain": [
                            "s2_036.tif: |          | 0.00/225k (raw) [  0.0%] in 00:00 (eta:     ?)"
                        ]
                    },
                    "metadata": {},
                    "output_type": "display_data"
                },
                {
                    "name": "stdout",
                    "output_type": "stream",
                    "text": [
                        "Downloading 37/157: ../data/patches/s2_037.tif\n"
                    ]
                },
                {
                    "data": {
                        "application/vnd.jupyter.widget-view+json": {
                            "model_id": "f0c34378ac224fbe883d4a27c06a8ee7",
                            "version_major": 2,
                            "version_minor": 0
                        },
                        "text/plain": [
                            "s2_037.tif: |          | 0.00/220k (raw) [  0.0%] in 00:00 (eta:     ?)"
                        ]
                    },
                    "metadata": {},
                    "output_type": "display_data"
                },
                {
                    "name": "stdout",
                    "output_type": "stream",
                    "text": [
                        "Downloading 38/157: ../data/patches/s2_038.tif\n"
                    ]
                },
                {
                    "data": {
                        "application/vnd.jupyter.widget-view+json": {
                            "model_id": "2c75f230e5454e21a2acf01c0a209bbe",
                            "version_major": 2,
                            "version_minor": 0
                        },
                        "text/plain": [
                            "s2_038.tif: |          | 0.00/220k (raw) [  0.0%] in 00:00 (eta:     ?)"
                        ]
                    },
                    "metadata": {},
                    "output_type": "display_data"
                },
                {
                    "name": "stdout",
                    "output_type": "stream",
                    "text": [
                        "Downloading 39/157: ../data/patches/s2_039.tif\n"
                    ]
                },
                {
                    "data": {
                        "application/vnd.jupyter.widget-view+json": {
                            "model_id": "9228841cae7b48f8bd5e83b6f7b393da",
                            "version_major": 2,
                            "version_minor": 0
                        },
                        "text/plain": [
                            "s2_039.tif: |          | 0.00/225k (raw) [  0.0%] in 00:00 (eta:     ?)"
                        ]
                    },
                    "metadata": {},
                    "output_type": "display_data"
                },
                {
                    "name": "stdout",
                    "output_type": "stream",
                    "text": [
                        "Downloading 40/157: ../data/patches/s2_040.tif\n"
                    ]
                },
                {
                    "data": {
                        "application/vnd.jupyter.widget-view+json": {
                            "model_id": "b7259d974c3947dd824c7564b6b9ab58",
                            "version_major": 2,
                            "version_minor": 0
                        },
                        "text/plain": [
                            "s2_040.tif: |          | 0.00/225k (raw) [  0.0%] in 00:00 (eta:     ?)"
                        ]
                    },
                    "metadata": {},
                    "output_type": "display_data"
                },
                {
                    "name": "stdout",
                    "output_type": "stream",
                    "text": [
                        "Downloading 41/157: ../data/patches/s2_041.tif\n"
                    ]
                },
                {
                    "data": {
                        "application/vnd.jupyter.widget-view+json": {
                            "model_id": "81a5783a77884b5ebc49a5c8bf5b5b48",
                            "version_major": 2,
                            "version_minor": 0
                        },
                        "text/plain": [
                            "s2_041.tif: |          | 0.00/225k (raw) [  0.0%] in 00:00 (eta:     ?)"
                        ]
                    },
                    "metadata": {},
                    "output_type": "display_data"
                },
                {
                    "name": "stdout",
                    "output_type": "stream",
                    "text": [
                        "Downloading 42/157: ../data/patches/s2_042.tif\n"
                    ]
                },
                {
                    "data": {
                        "application/vnd.jupyter.widget-view+json": {
                            "model_id": "7ccbe2520a9d405fa23457bc0f83de89",
                            "version_major": 2,
                            "version_minor": 0
                        },
                        "text/plain": [
                            "s2_042.tif: |          | 0.00/220k (raw) [  0.0%] in 00:00 (eta:     ?)"
                        ]
                    },
                    "metadata": {},
                    "output_type": "display_data"
                },
                {
                    "name": "stdout",
                    "output_type": "stream",
                    "text": [
                        "Downloading 43/157: ../data/patches/s2_043.tif\n"
                    ]
                },
                {
                    "data": {
                        "application/vnd.jupyter.widget-view+json": {
                            "model_id": "2baa9facef4f455bb77157bbf85efd61",
                            "version_major": 2,
                            "version_minor": 0
                        },
                        "text/plain": [
                            "s2_043.tif: |          | 0.00/220k (raw) [  0.0%] in 00:00 (eta:     ?)"
                        ]
                    },
                    "metadata": {},
                    "output_type": "display_data"
                },
                {
                    "name": "stdout",
                    "output_type": "stream",
                    "text": [
                        "Downloading 44/157: ../data/patches/s2_044.tif\n"
                    ]
                },
                {
                    "data": {
                        "application/vnd.jupyter.widget-view+json": {
                            "model_id": "f08d7e92b52446f990992b9074a93209",
                            "version_major": 2,
                            "version_minor": 0
                        },
                        "text/plain": [
                            "s2_044.tif: |          | 0.00/225k (raw) [  0.0%] in 00:00 (eta:     ?)"
                        ]
                    },
                    "metadata": {},
                    "output_type": "display_data"
                },
                {
                    "name": "stdout",
                    "output_type": "stream",
                    "text": [
                        "Downloading 45/157: ../data/patches/s2_045.tif\n"
                    ]
                },
                {
                    "data": {
                        "application/vnd.jupyter.widget-view+json": {
                            "model_id": "99bc9f6af7424ba1a506745e2fdb20a9",
                            "version_major": 2,
                            "version_minor": 0
                        },
                        "text/plain": [
                            "s2_045.tif: |          | 0.00/225k (raw) [  0.0%] in 00:00 (eta:     ?)"
                        ]
                    },
                    "metadata": {},
                    "output_type": "display_data"
                },
                {
                    "name": "stdout",
                    "output_type": "stream",
                    "text": [
                        "Downloading 46/157: ../data/patches/s2_046.tif\n"
                    ]
                },
                {
                    "data": {
                        "application/vnd.jupyter.widget-view+json": {
                            "model_id": "80b2e9839b75473ba23dfa9dbca2e32e",
                            "version_major": 2,
                            "version_minor": 0
                        },
                        "text/plain": [
                            "s2_046.tif: |          | 0.00/225k (raw) [  0.0%] in 00:00 (eta:     ?)"
                        ]
                    },
                    "metadata": {},
                    "output_type": "display_data"
                },
                {
                    "name": "stdout",
                    "output_type": "stream",
                    "text": [
                        "Downloading 47/157: ../data/patches/s2_047.tif\n"
                    ]
                },
                {
                    "data": {
                        "application/vnd.jupyter.widget-view+json": {
                            "model_id": "9797ff69c86147a9a15c59a5d94511ad",
                            "version_major": 2,
                            "version_minor": 0
                        },
                        "text/plain": [
                            "s2_047.tif: |          | 0.00/225k (raw) [  0.0%] in 00:00 (eta:     ?)"
                        ]
                    },
                    "metadata": {},
                    "output_type": "display_data"
                },
                {
                    "name": "stdout",
                    "output_type": "stream",
                    "text": [
                        "Downloading 48/157: ../data/patches/s2_048.tif\n"
                    ]
                },
                {
                    "data": {
                        "application/vnd.jupyter.widget-view+json": {
                            "model_id": "f660edce9c0f416996b1242af0414d1b",
                            "version_major": 2,
                            "version_minor": 0
                        },
                        "text/plain": [
                            "s2_048.tif: |          | 0.00/220k (raw) [  0.0%] in 00:00 (eta:     ?)"
                        ]
                    },
                    "metadata": {},
                    "output_type": "display_data"
                },
                {
                    "name": "stdout",
                    "output_type": "stream",
                    "text": [
                        "Downloading 49/157: ../data/patches/s2_049.tif\n"
                    ]
                },
                {
                    "data": {
                        "application/vnd.jupyter.widget-view+json": {
                            "model_id": "7e4099887b0a48e0b1735645718cf797",
                            "version_major": 2,
                            "version_minor": 0
                        },
                        "text/plain": [
                            "s2_049.tif: |          | 0.00/225k (raw) [  0.0%] in 00:00 (eta:     ?)"
                        ]
                    },
                    "metadata": {},
                    "output_type": "display_data"
                },
                {
                    "name": "stdout",
                    "output_type": "stream",
                    "text": [
                        "Downloading 50/157: ../data/patches/s2_050.tif\n"
                    ]
                },
                {
                    "data": {
                        "application/vnd.jupyter.widget-view+json": {
                            "model_id": "eca0ff8dd8e14d8991e5d520068a6a74",
                            "version_major": 2,
                            "version_minor": 0
                        },
                        "text/plain": [
                            "s2_050.tif: |          | 0.00/225k (raw) [  0.0%] in 00:00 (eta:     ?)"
                        ]
                    },
                    "metadata": {},
                    "output_type": "display_data"
                },
                {
                    "name": "stdout",
                    "output_type": "stream",
                    "text": [
                        "Downloading 51/157: ../data/patches/s2_051.tif\n"
                    ]
                },
                {
                    "data": {
                        "application/vnd.jupyter.widget-view+json": {
                            "model_id": "9b82a23344254958a1f084ad451dd876",
                            "version_major": 2,
                            "version_minor": 0
                        },
                        "text/plain": [
                            "s2_051.tif: |          | 0.00/225k (raw) [  0.0%] in 00:00 (eta:     ?)"
                        ]
                    },
                    "metadata": {},
                    "output_type": "display_data"
                },
                {
                    "name": "stdout",
                    "output_type": "stream",
                    "text": [
                        "Downloading 52/157: ../data/patches/s2_052.tif\n"
                    ]
                },
                {
                    "data": {
                        "application/vnd.jupyter.widget-view+json": {
                            "model_id": "23917a73e23b4dab9df883b78ff983e2",
                            "version_major": 2,
                            "version_minor": 0
                        },
                        "text/plain": [
                            "s2_052.tif: |          | 0.00/220k (raw) [  0.0%] in 00:00 (eta:     ?)"
                        ]
                    },
                    "metadata": {},
                    "output_type": "display_data"
                },
                {
                    "name": "stdout",
                    "output_type": "stream",
                    "text": [
                        "Downloading 53/157: ../data/patches/s2_053.tif\n"
                    ]
                },
                {
                    "data": {
                        "application/vnd.jupyter.widget-view+json": {
                            "model_id": "e5a8cde5be31446d87a1e4d2b50d7393",
                            "version_major": 2,
                            "version_minor": 0
                        },
                        "text/plain": [
                            "s2_053.tif: |          | 0.00/225k (raw) [  0.0%] in 00:00 (eta:     ?)"
                        ]
                    },
                    "metadata": {},
                    "output_type": "display_data"
                },
                {
                    "name": "stdout",
                    "output_type": "stream",
                    "text": [
                        "Downloading 54/157: ../data/patches/s2_054.tif\n"
                    ]
                },
                {
                    "data": {
                        "application/vnd.jupyter.widget-view+json": {
                            "model_id": "82638238a7ee46dea44dd773ae376b9c",
                            "version_major": 2,
                            "version_minor": 0
                        },
                        "text/plain": [
                            "s2_054.tif: |          | 0.00/225k (raw) [  0.0%] in 00:00 (eta:     ?)"
                        ]
                    },
                    "metadata": {},
                    "output_type": "display_data"
                },
                {
                    "name": "stdout",
                    "output_type": "stream",
                    "text": [
                        "Downloading 55/157: ../data/patches/s2_055.tif\n"
                    ]
                },
                {
                    "data": {
                        "application/vnd.jupyter.widget-view+json": {
                            "model_id": "fd22d421cf834476913cca5ce680801d",
                            "version_major": 2,
                            "version_minor": 0
                        },
                        "text/plain": [
                            "s2_055.tif: |          | 0.00/225k (raw) [  0.0%] in 00:00 (eta:     ?)"
                        ]
                    },
                    "metadata": {},
                    "output_type": "display_data"
                },
                {
                    "name": "stdout",
                    "output_type": "stream",
                    "text": [
                        "Downloading 56/157: ../data/patches/s2_056.tif\n"
                    ]
                },
                {
                    "data": {
                        "application/vnd.jupyter.widget-view+json": {
                            "model_id": "5b44307d21d346e49402715dd5828adf",
                            "version_major": 2,
                            "version_minor": 0
                        },
                        "text/plain": [
                            "s2_056.tif: |          | 0.00/220k (raw) [  0.0%] in 00:00 (eta:     ?)"
                        ]
                    },
                    "metadata": {},
                    "output_type": "display_data"
                },
                {
                    "name": "stdout",
                    "output_type": "stream",
                    "text": [
                        "Downloading 57/157: ../data/patches/s2_057.tif\n"
                    ]
                },
                {
                    "data": {
                        "application/vnd.jupyter.widget-view+json": {
                            "model_id": "25681947421f49f5b3d67343e31960ae",
                            "version_major": 2,
                            "version_minor": 0
                        },
                        "text/plain": [
                            "s2_057.tif: |          | 0.00/225k (raw) [  0.0%] in 00:00 (eta:     ?)"
                        ]
                    },
                    "metadata": {},
                    "output_type": "display_data"
                },
                {
                    "name": "stdout",
                    "output_type": "stream",
                    "text": [
                        "Downloading 58/157: ../data/patches/s2_058.tif\n"
                    ]
                },
                {
                    "data": {
                        "application/vnd.jupyter.widget-view+json": {
                            "model_id": "62bee60b6c6847ce962cec5862164be4",
                            "version_major": 2,
                            "version_minor": 0
                        },
                        "text/plain": [
                            "s2_058.tif: |          | 0.00/225k (raw) [  0.0%] in 00:00 (eta:     ?)"
                        ]
                    },
                    "metadata": {},
                    "output_type": "display_data"
                },
                {
                    "name": "stdout",
                    "output_type": "stream",
                    "text": [
                        "Downloading 59/157: ../data/patches/s2_059.tif\n"
                    ]
                },
                {
                    "data": {
                        "application/vnd.jupyter.widget-view+json": {
                            "model_id": "2b5ffe83d29c457781a7afc3029db4bf",
                            "version_major": 2,
                            "version_minor": 0
                        },
                        "text/plain": [
                            "s2_059.tif: |          | 0.00/225k (raw) [  0.0%] in 00:00 (eta:     ?)"
                        ]
                    },
                    "metadata": {},
                    "output_type": "display_data"
                },
                {
                    "name": "stdout",
                    "output_type": "stream",
                    "text": [
                        "Downloading 60/157: ../data/patches/s2_060.tif\n"
                    ]
                },
                {
                    "data": {
                        "application/vnd.jupyter.widget-view+json": {
                            "model_id": "c1c2db0c099a47c3b62f70133418e805",
                            "version_major": 2,
                            "version_minor": 0
                        },
                        "text/plain": [
                            "s2_060.tif: |          | 0.00/225k (raw) [  0.0%] in 00:00 (eta:     ?)"
                        ]
                    },
                    "metadata": {},
                    "output_type": "display_data"
                },
                {
                    "name": "stdout",
                    "output_type": "stream",
                    "text": [
                        "Downloading 61/157: ../data/patches/s2_061.tif\n"
                    ]
                },
                {
                    "data": {
                        "application/vnd.jupyter.widget-view+json": {
                            "model_id": "3ecc515d94764e68916b47d9fb45b760",
                            "version_major": 2,
                            "version_minor": 0
                        },
                        "text/plain": [
                            "s2_061.tif: |          | 0.00/220k (raw) [  0.0%] in 00:00 (eta:     ?)"
                        ]
                    },
                    "metadata": {},
                    "output_type": "display_data"
                },
                {
                    "name": "stdout",
                    "output_type": "stream",
                    "text": [
                        "Downloading 62/157: ../data/patches/s2_062.tif\n"
                    ]
                },
                {
                    "data": {
                        "application/vnd.jupyter.widget-view+json": {
                            "model_id": "3e5ad0bc827b43bbb6a8ab12e91d2bfa",
                            "version_major": 2,
                            "version_minor": 0
                        },
                        "text/plain": [
                            "s2_062.tif: |          | 0.00/225k (raw) [  0.0%] in 00:00 (eta:     ?)"
                        ]
                    },
                    "metadata": {},
                    "output_type": "display_data"
                },
                {
                    "name": "stdout",
                    "output_type": "stream",
                    "text": [
                        "Downloading 63/157: ../data/patches/s2_063.tif\n"
                    ]
                },
                {
                    "data": {
                        "application/vnd.jupyter.widget-view+json": {
                            "model_id": "1d8ccd5200964255b880a3768fd1bae2",
                            "version_major": 2,
                            "version_minor": 0
                        },
                        "text/plain": [
                            "s2_063.tif: |          | 0.00/220k (raw) [  0.0%] in 00:00 (eta:     ?)"
                        ]
                    },
                    "metadata": {},
                    "output_type": "display_data"
                },
                {
                    "name": "stdout",
                    "output_type": "stream",
                    "text": [
                        "Downloading 64/157: ../data/patches/s2_064.tif\n"
                    ]
                },
                {
                    "data": {
                        "application/vnd.jupyter.widget-view+json": {
                            "model_id": "33732b5ad12b4f71a52d6fd7355d0cd8",
                            "version_major": 2,
                            "version_minor": 0
                        },
                        "text/plain": [
                            "s2_064.tif: |          | 0.00/225k (raw) [  0.0%] in 00:00 (eta:     ?)"
                        ]
                    },
                    "metadata": {},
                    "output_type": "display_data"
                },
                {
                    "name": "stdout",
                    "output_type": "stream",
                    "text": [
                        "Downloading 65/157: ../data/patches/s2_065.tif\n"
                    ]
                },
                {
                    "data": {
                        "application/vnd.jupyter.widget-view+json": {
                            "model_id": "3fd3f8226cc9436d9eaf4c8121ec157b",
                            "version_major": 2,
                            "version_minor": 0
                        },
                        "text/plain": [
                            "s2_065.tif: |          | 0.00/225k (raw) [  0.0%] in 00:00 (eta:     ?)"
                        ]
                    },
                    "metadata": {},
                    "output_type": "display_data"
                },
                {
                    "name": "stdout",
                    "output_type": "stream",
                    "text": [
                        "Downloading 66/157: ../data/patches/s2_066.tif\n"
                    ]
                },
                {
                    "data": {
                        "application/vnd.jupyter.widget-view+json": {
                            "model_id": "0dfeddedb7bf42089232389751e759a5",
                            "version_major": 2,
                            "version_minor": 0
                        },
                        "text/plain": [
                            "s2_066.tif: |          | 0.00/225k (raw) [  0.0%] in 00:00 (eta:     ?)"
                        ]
                    },
                    "metadata": {},
                    "output_type": "display_data"
                },
                {
                    "name": "stdout",
                    "output_type": "stream",
                    "text": [
                        "Downloading 67/157: ../data/patches/s2_067.tif\n"
                    ]
                },
                {
                    "ename": "ConnectionError",
                    "evalue": "('Connection aborted.', ConnectionResetError(54, 'Connection reset by peer'))",
                    "output_type": "error",
                    "traceback": [
                        "\u001b[0;31m---------------------------------------------------------------------------\u001b[0m",
                        "\u001b[0;31mConnectionResetError\u001b[0m                      Traceback (most recent call last)",
                        "File \u001b[0;32m~/miniforge3/envs/spatial/lib/python3.9/site-packages/urllib3/connectionpool.py:703\u001b[0m, in \u001b[0;36mHTTPConnectionPool.urlopen\u001b[0;34m(self, method, url, body, headers, retries, redirect, assert_same_host, timeout, pool_timeout, release_conn, chunked, body_pos, **response_kw)\u001b[0m\n\u001b[1;32m    702\u001b[0m \u001b[39m# Make the request on the httplib connection object.\u001b[39;00m\n\u001b[0;32m--> 703\u001b[0m httplib_response \u001b[39m=\u001b[39m \u001b[39mself\u001b[39;49m\u001b[39m.\u001b[39;49m_make_request(\n\u001b[1;32m    704\u001b[0m     conn,\n\u001b[1;32m    705\u001b[0m     method,\n\u001b[1;32m    706\u001b[0m     url,\n\u001b[1;32m    707\u001b[0m     timeout\u001b[39m=\u001b[39;49mtimeout_obj,\n\u001b[1;32m    708\u001b[0m     body\u001b[39m=\u001b[39;49mbody,\n\u001b[1;32m    709\u001b[0m     headers\u001b[39m=\u001b[39;49mheaders,\n\u001b[1;32m    710\u001b[0m     chunked\u001b[39m=\u001b[39;49mchunked,\n\u001b[1;32m    711\u001b[0m )\n\u001b[1;32m    713\u001b[0m \u001b[39m# If we're going to release the connection in ``finally:``, then\u001b[39;00m\n\u001b[1;32m    714\u001b[0m \u001b[39m# the response doesn't need to know about the connection. Otherwise\u001b[39;00m\n\u001b[1;32m    715\u001b[0m \u001b[39m# it will also try to release it and we'll have a double-release\u001b[39;00m\n\u001b[1;32m    716\u001b[0m \u001b[39m# mess.\u001b[39;00m\n",
                        "File \u001b[0;32m~/miniforge3/envs/spatial/lib/python3.9/site-packages/urllib3/connectionpool.py:386\u001b[0m, in \u001b[0;36mHTTPConnectionPool._make_request\u001b[0;34m(self, conn, method, url, timeout, chunked, **httplib_request_kw)\u001b[0m\n\u001b[1;32m    385\u001b[0m \u001b[39mtry\u001b[39;00m:\n\u001b[0;32m--> 386\u001b[0m     \u001b[39mself\u001b[39;49m\u001b[39m.\u001b[39;49m_validate_conn(conn)\n\u001b[1;32m    387\u001b[0m \u001b[39mexcept\u001b[39;00m (SocketTimeout, BaseSSLError) \u001b[39mas\u001b[39;00m e:\n\u001b[1;32m    388\u001b[0m     \u001b[39m# Py2 raises this as a BaseSSLError, Py3 raises it as socket timeout.\u001b[39;00m\n",
                        "File \u001b[0;32m~/miniforge3/envs/spatial/lib/python3.9/site-packages/urllib3/connectionpool.py:1042\u001b[0m, in \u001b[0;36mHTTPSConnectionPool._validate_conn\u001b[0;34m(self, conn)\u001b[0m\n\u001b[1;32m   1041\u001b[0m \u001b[39mif\u001b[39;00m \u001b[39mnot\u001b[39;00m \u001b[39mgetattr\u001b[39m(conn, \u001b[39m\"\u001b[39m\u001b[39msock\u001b[39m\u001b[39m\"\u001b[39m, \u001b[39mNone\u001b[39;00m):  \u001b[39m# AppEngine might not have  `.sock`\u001b[39;00m\n\u001b[0;32m-> 1042\u001b[0m     conn\u001b[39m.\u001b[39;49mconnect()\n\u001b[1;32m   1044\u001b[0m \u001b[39mif\u001b[39;00m \u001b[39mnot\u001b[39;00m conn\u001b[39m.\u001b[39mis_verified:\n",
                        "File \u001b[0;32m~/miniforge3/envs/spatial/lib/python3.9/site-packages/urllib3/connection.py:414\u001b[0m, in \u001b[0;36mHTTPSConnection.connect\u001b[0;34m(self)\u001b[0m\n\u001b[1;32m    412\u001b[0m     context\u001b[39m.\u001b[39mload_default_certs()\n\u001b[0;32m--> 414\u001b[0m \u001b[39mself\u001b[39m\u001b[39m.\u001b[39msock \u001b[39m=\u001b[39m ssl_wrap_socket(\n\u001b[1;32m    415\u001b[0m     sock\u001b[39m=\u001b[39;49mconn,\n\u001b[1;32m    416\u001b[0m     keyfile\u001b[39m=\u001b[39;49m\u001b[39mself\u001b[39;49m\u001b[39m.\u001b[39;49mkey_file,\n\u001b[1;32m    417\u001b[0m     certfile\u001b[39m=\u001b[39;49m\u001b[39mself\u001b[39;49m\u001b[39m.\u001b[39;49mcert_file,\n\u001b[1;32m    418\u001b[0m     key_password\u001b[39m=\u001b[39;49m\u001b[39mself\u001b[39;49m\u001b[39m.\u001b[39;49mkey_password,\n\u001b[1;32m    419\u001b[0m     ca_certs\u001b[39m=\u001b[39;49m\u001b[39mself\u001b[39;49m\u001b[39m.\u001b[39;49mca_certs,\n\u001b[1;32m    420\u001b[0m     ca_cert_dir\u001b[39m=\u001b[39;49m\u001b[39mself\u001b[39;49m\u001b[39m.\u001b[39;49mca_cert_dir,\n\u001b[1;32m    421\u001b[0m     ca_cert_data\u001b[39m=\u001b[39;49m\u001b[39mself\u001b[39;49m\u001b[39m.\u001b[39;49mca_cert_data,\n\u001b[1;32m    422\u001b[0m     server_hostname\u001b[39m=\u001b[39;49mserver_hostname,\n\u001b[1;32m    423\u001b[0m     ssl_context\u001b[39m=\u001b[39;49mcontext,\n\u001b[1;32m    424\u001b[0m     tls_in_tls\u001b[39m=\u001b[39;49mtls_in_tls,\n\u001b[1;32m    425\u001b[0m )\n\u001b[1;32m    427\u001b[0m \u001b[39m# If we're using all defaults and the connection\u001b[39;00m\n\u001b[1;32m    428\u001b[0m \u001b[39m# is TLSv1 or TLSv1.1 we throw a DeprecationWarning\u001b[39;00m\n\u001b[1;32m    429\u001b[0m \u001b[39m# for the host.\u001b[39;00m\n",
                        "File \u001b[0;32m~/miniforge3/envs/spatial/lib/python3.9/site-packages/urllib3/util/ssl_.py:449\u001b[0m, in \u001b[0;36mssl_wrap_socket\u001b[0;34m(sock, keyfile, certfile, cert_reqs, ca_certs, server_hostname, ssl_version, ciphers, ssl_context, ca_cert_dir, key_password, ca_cert_data, tls_in_tls)\u001b[0m\n\u001b[1;32m    448\u001b[0m \u001b[39mif\u001b[39;00m send_sni:\n\u001b[0;32m--> 449\u001b[0m     ssl_sock \u001b[39m=\u001b[39m _ssl_wrap_socket_impl(\n\u001b[1;32m    450\u001b[0m         sock, context, tls_in_tls, server_hostname\u001b[39m=\u001b[39;49mserver_hostname\n\u001b[1;32m    451\u001b[0m     )\n\u001b[1;32m    452\u001b[0m \u001b[39melse\u001b[39;00m:\n",
                        "File \u001b[0;32m~/miniforge3/envs/spatial/lib/python3.9/site-packages/urllib3/util/ssl_.py:493\u001b[0m, in \u001b[0;36m_ssl_wrap_socket_impl\u001b[0;34m(sock, ssl_context, tls_in_tls, server_hostname)\u001b[0m\n\u001b[1;32m    492\u001b[0m \u001b[39mif\u001b[39;00m server_hostname:\n\u001b[0;32m--> 493\u001b[0m     \u001b[39mreturn\u001b[39;00m ssl_context\u001b[39m.\u001b[39;49mwrap_socket(sock, server_hostname\u001b[39m=\u001b[39;49mserver_hostname)\n\u001b[1;32m    494\u001b[0m \u001b[39melse\u001b[39;00m:\n",
                        "File \u001b[0;32m~/miniforge3/envs/spatial/lib/python3.9/ssl.py:501\u001b[0m, in \u001b[0;36mSSLContext.wrap_socket\u001b[0;34m(self, sock, server_side, do_handshake_on_connect, suppress_ragged_eofs, server_hostname, session)\u001b[0m\n\u001b[1;32m    495\u001b[0m \u001b[39mdef\u001b[39;00m \u001b[39mwrap_socket\u001b[39m(\u001b[39mself\u001b[39m, sock, server_side\u001b[39m=\u001b[39m\u001b[39mFalse\u001b[39;00m,\n\u001b[1;32m    496\u001b[0m                 do_handshake_on_connect\u001b[39m=\u001b[39m\u001b[39mTrue\u001b[39;00m,\n\u001b[1;32m    497\u001b[0m                 suppress_ragged_eofs\u001b[39m=\u001b[39m\u001b[39mTrue\u001b[39;00m,\n\u001b[1;32m    498\u001b[0m                 server_hostname\u001b[39m=\u001b[39m\u001b[39mNone\u001b[39;00m, session\u001b[39m=\u001b[39m\u001b[39mNone\u001b[39;00m):\n\u001b[1;32m    499\u001b[0m     \u001b[39m# SSLSocket class handles server_hostname encoding before it calls\u001b[39;00m\n\u001b[1;32m    500\u001b[0m     \u001b[39m# ctx._wrap_socket()\u001b[39;00m\n\u001b[0;32m--> 501\u001b[0m     \u001b[39mreturn\u001b[39;00m \u001b[39mself\u001b[39;49m\u001b[39m.\u001b[39;49msslsocket_class\u001b[39m.\u001b[39;49m_create(\n\u001b[1;32m    502\u001b[0m         sock\u001b[39m=\u001b[39;49msock,\n\u001b[1;32m    503\u001b[0m         server_side\u001b[39m=\u001b[39;49mserver_side,\n\u001b[1;32m    504\u001b[0m         do_handshake_on_connect\u001b[39m=\u001b[39;49mdo_handshake_on_connect,\n\u001b[1;32m    505\u001b[0m         suppress_ragged_eofs\u001b[39m=\u001b[39;49msuppress_ragged_eofs,\n\u001b[1;32m    506\u001b[0m         server_hostname\u001b[39m=\u001b[39;49mserver_hostname,\n\u001b[1;32m    507\u001b[0m         context\u001b[39m=\u001b[39;49m\u001b[39mself\u001b[39;49m,\n\u001b[1;32m    508\u001b[0m         session\u001b[39m=\u001b[39;49msession\n\u001b[1;32m    509\u001b[0m     )\n",
                        "File \u001b[0;32m~/miniforge3/envs/spatial/lib/python3.9/ssl.py:1041\u001b[0m, in \u001b[0;36mSSLSocket._create\u001b[0;34m(cls, sock, server_side, do_handshake_on_connect, suppress_ragged_eofs, server_hostname, context, session)\u001b[0m\n\u001b[1;32m   1040\u001b[0m             \u001b[39mraise\u001b[39;00m \u001b[39mValueError\u001b[39;00m(\u001b[39m\"\u001b[39m\u001b[39mdo_handshake_on_connect should not be specified for non-blocking sockets\u001b[39m\u001b[39m\"\u001b[39m)\n\u001b[0;32m-> 1041\u001b[0m         \u001b[39mself\u001b[39;49m\u001b[39m.\u001b[39;49mdo_handshake()\n\u001b[1;32m   1042\u001b[0m \u001b[39mexcept\u001b[39;00m (\u001b[39mOSError\u001b[39;00m, \u001b[39mValueError\u001b[39;00m):\n",
                        "File \u001b[0;32m~/miniforge3/envs/spatial/lib/python3.9/ssl.py:1310\u001b[0m, in \u001b[0;36mSSLSocket.do_handshake\u001b[0;34m(self, block)\u001b[0m\n\u001b[1;32m   1309\u001b[0m         \u001b[39mself\u001b[39m\u001b[39m.\u001b[39msettimeout(\u001b[39mNone\u001b[39;00m)\n\u001b[0;32m-> 1310\u001b[0m     \u001b[39mself\u001b[39;49m\u001b[39m.\u001b[39;49m_sslobj\u001b[39m.\u001b[39;49mdo_handshake()\n\u001b[1;32m   1311\u001b[0m \u001b[39mfinally\u001b[39;00m:\n",
                        "\u001b[0;31mConnectionResetError\u001b[0m: [Errno 54] Connection reset by peer",
                        "\nDuring handling of the above exception, another exception occurred:\n",
                        "\u001b[0;31mProtocolError\u001b[0m                             Traceback (most recent call last)",
                        "File \u001b[0;32m~/miniforge3/envs/spatial/lib/python3.9/site-packages/requests/adapters.py:489\u001b[0m, in \u001b[0;36mHTTPAdapter.send\u001b[0;34m(self, request, stream, timeout, verify, cert, proxies)\u001b[0m\n\u001b[1;32m    488\u001b[0m \u001b[39mif\u001b[39;00m \u001b[39mnot\u001b[39;00m chunked:\n\u001b[0;32m--> 489\u001b[0m     resp \u001b[39m=\u001b[39m conn\u001b[39m.\u001b[39;49murlopen(\n\u001b[1;32m    490\u001b[0m         method\u001b[39m=\u001b[39;49mrequest\u001b[39m.\u001b[39;49mmethod,\n\u001b[1;32m    491\u001b[0m         url\u001b[39m=\u001b[39;49murl,\n\u001b[1;32m    492\u001b[0m         body\u001b[39m=\u001b[39;49mrequest\u001b[39m.\u001b[39;49mbody,\n\u001b[1;32m    493\u001b[0m         headers\u001b[39m=\u001b[39;49mrequest\u001b[39m.\u001b[39;49mheaders,\n\u001b[1;32m    494\u001b[0m         redirect\u001b[39m=\u001b[39;49m\u001b[39mFalse\u001b[39;49;00m,\n\u001b[1;32m    495\u001b[0m         assert_same_host\u001b[39m=\u001b[39;49m\u001b[39mFalse\u001b[39;49;00m,\n\u001b[1;32m    496\u001b[0m         preload_content\u001b[39m=\u001b[39;49m\u001b[39mFalse\u001b[39;49;00m,\n\u001b[1;32m    497\u001b[0m         decode_content\u001b[39m=\u001b[39;49m\u001b[39mFalse\u001b[39;49;00m,\n\u001b[1;32m    498\u001b[0m         retries\u001b[39m=\u001b[39;49m\u001b[39mself\u001b[39;49m\u001b[39m.\u001b[39;49mmax_retries,\n\u001b[1;32m    499\u001b[0m         timeout\u001b[39m=\u001b[39;49mtimeout,\n\u001b[1;32m    500\u001b[0m     )\n\u001b[1;32m    502\u001b[0m \u001b[39m# Send the request.\u001b[39;00m\n\u001b[1;32m    503\u001b[0m \u001b[39melse\u001b[39;00m:\n",
                        "File \u001b[0;32m~/miniforge3/envs/spatial/lib/python3.9/site-packages/urllib3/connectionpool.py:787\u001b[0m, in \u001b[0;36mHTTPConnectionPool.urlopen\u001b[0;34m(self, method, url, body, headers, retries, redirect, assert_same_host, timeout, pool_timeout, release_conn, chunked, body_pos, **response_kw)\u001b[0m\n\u001b[1;32m    785\u001b[0m     e \u001b[39m=\u001b[39m ProtocolError(\u001b[39m\"\u001b[39m\u001b[39mConnection aborted.\u001b[39m\u001b[39m\"\u001b[39m, e)\n\u001b[0;32m--> 787\u001b[0m retries \u001b[39m=\u001b[39m retries\u001b[39m.\u001b[39;49mincrement(\n\u001b[1;32m    788\u001b[0m     method, url, error\u001b[39m=\u001b[39;49me, _pool\u001b[39m=\u001b[39;49m\u001b[39mself\u001b[39;49m, _stacktrace\u001b[39m=\u001b[39;49msys\u001b[39m.\u001b[39;49mexc_info()[\u001b[39m2\u001b[39;49m]\n\u001b[1;32m    789\u001b[0m )\n\u001b[1;32m    790\u001b[0m retries\u001b[39m.\u001b[39msleep()\n",
                        "File \u001b[0;32m~/miniforge3/envs/spatial/lib/python3.9/site-packages/urllib3/util/retry.py:550\u001b[0m, in \u001b[0;36mRetry.increment\u001b[0;34m(self, method, url, response, error, _pool, _stacktrace)\u001b[0m\n\u001b[1;32m    549\u001b[0m \u001b[39mif\u001b[39;00m read \u001b[39mis\u001b[39;00m \u001b[39mFalse\u001b[39;00m \u001b[39mor\u001b[39;00m \u001b[39mnot\u001b[39;00m \u001b[39mself\u001b[39m\u001b[39m.\u001b[39m_is_method_retryable(method):\n\u001b[0;32m--> 550\u001b[0m     \u001b[39mraise\u001b[39;00m six\u001b[39m.\u001b[39;49mreraise(\u001b[39mtype\u001b[39;49m(error), error, _stacktrace)\n\u001b[1;32m    551\u001b[0m \u001b[39melif\u001b[39;00m read \u001b[39mis\u001b[39;00m \u001b[39mnot\u001b[39;00m \u001b[39mNone\u001b[39;00m:\n",
                        "File \u001b[0;32m~/miniforge3/envs/spatial/lib/python3.9/site-packages/urllib3/packages/six.py:769\u001b[0m, in \u001b[0;36mreraise\u001b[0;34m(tp, value, tb)\u001b[0m\n\u001b[1;32m    768\u001b[0m \u001b[39mif\u001b[39;00m value\u001b[39m.\u001b[39m__traceback__ \u001b[39mis\u001b[39;00m \u001b[39mnot\u001b[39;00m tb:\n\u001b[0;32m--> 769\u001b[0m     \u001b[39mraise\u001b[39;00m value\u001b[39m.\u001b[39mwith_traceback(tb)\n\u001b[1;32m    770\u001b[0m \u001b[39mraise\u001b[39;00m value\n",
                        "File \u001b[0;32m~/miniforge3/envs/spatial/lib/python3.9/site-packages/urllib3/connectionpool.py:703\u001b[0m, in \u001b[0;36mHTTPConnectionPool.urlopen\u001b[0;34m(self, method, url, body, headers, retries, redirect, assert_same_host, timeout, pool_timeout, release_conn, chunked, body_pos, **response_kw)\u001b[0m\n\u001b[1;32m    702\u001b[0m \u001b[39m# Make the request on the httplib connection object.\u001b[39;00m\n\u001b[0;32m--> 703\u001b[0m httplib_response \u001b[39m=\u001b[39m \u001b[39mself\u001b[39;49m\u001b[39m.\u001b[39;49m_make_request(\n\u001b[1;32m    704\u001b[0m     conn,\n\u001b[1;32m    705\u001b[0m     method,\n\u001b[1;32m    706\u001b[0m     url,\n\u001b[1;32m    707\u001b[0m     timeout\u001b[39m=\u001b[39;49mtimeout_obj,\n\u001b[1;32m    708\u001b[0m     body\u001b[39m=\u001b[39;49mbody,\n\u001b[1;32m    709\u001b[0m     headers\u001b[39m=\u001b[39;49mheaders,\n\u001b[1;32m    710\u001b[0m     chunked\u001b[39m=\u001b[39;49mchunked,\n\u001b[1;32m    711\u001b[0m )\n\u001b[1;32m    713\u001b[0m \u001b[39m# If we're going to release the connection in ``finally:``, then\u001b[39;00m\n\u001b[1;32m    714\u001b[0m \u001b[39m# the response doesn't need to know about the connection. Otherwise\u001b[39;00m\n\u001b[1;32m    715\u001b[0m \u001b[39m# it will also try to release it and we'll have a double-release\u001b[39;00m\n\u001b[1;32m    716\u001b[0m \u001b[39m# mess.\u001b[39;00m\n",
                        "File \u001b[0;32m~/miniforge3/envs/spatial/lib/python3.9/site-packages/urllib3/connectionpool.py:386\u001b[0m, in \u001b[0;36mHTTPConnectionPool._make_request\u001b[0;34m(self, conn, method, url, timeout, chunked, **httplib_request_kw)\u001b[0m\n\u001b[1;32m    385\u001b[0m \u001b[39mtry\u001b[39;00m:\n\u001b[0;32m--> 386\u001b[0m     \u001b[39mself\u001b[39;49m\u001b[39m.\u001b[39;49m_validate_conn(conn)\n\u001b[1;32m    387\u001b[0m \u001b[39mexcept\u001b[39;00m (SocketTimeout, BaseSSLError) \u001b[39mas\u001b[39;00m e:\n\u001b[1;32m    388\u001b[0m     \u001b[39m# Py2 raises this as a BaseSSLError, Py3 raises it as socket timeout.\u001b[39;00m\n",
                        "File \u001b[0;32m~/miniforge3/envs/spatial/lib/python3.9/site-packages/urllib3/connectionpool.py:1042\u001b[0m, in \u001b[0;36mHTTPSConnectionPool._validate_conn\u001b[0;34m(self, conn)\u001b[0m\n\u001b[1;32m   1041\u001b[0m \u001b[39mif\u001b[39;00m \u001b[39mnot\u001b[39;00m \u001b[39mgetattr\u001b[39m(conn, \u001b[39m\"\u001b[39m\u001b[39msock\u001b[39m\u001b[39m\"\u001b[39m, \u001b[39mNone\u001b[39;00m):  \u001b[39m# AppEngine might not have  `.sock`\u001b[39;00m\n\u001b[0;32m-> 1042\u001b[0m     conn\u001b[39m.\u001b[39;49mconnect()\n\u001b[1;32m   1044\u001b[0m \u001b[39mif\u001b[39;00m \u001b[39mnot\u001b[39;00m conn\u001b[39m.\u001b[39mis_verified:\n",
                        "File \u001b[0;32m~/miniforge3/envs/spatial/lib/python3.9/site-packages/urllib3/connection.py:414\u001b[0m, in \u001b[0;36mHTTPSConnection.connect\u001b[0;34m(self)\u001b[0m\n\u001b[1;32m    412\u001b[0m     context\u001b[39m.\u001b[39mload_default_certs()\n\u001b[0;32m--> 414\u001b[0m \u001b[39mself\u001b[39m\u001b[39m.\u001b[39msock \u001b[39m=\u001b[39m ssl_wrap_socket(\n\u001b[1;32m    415\u001b[0m     sock\u001b[39m=\u001b[39;49mconn,\n\u001b[1;32m    416\u001b[0m     keyfile\u001b[39m=\u001b[39;49m\u001b[39mself\u001b[39;49m\u001b[39m.\u001b[39;49mkey_file,\n\u001b[1;32m    417\u001b[0m     certfile\u001b[39m=\u001b[39;49m\u001b[39mself\u001b[39;49m\u001b[39m.\u001b[39;49mcert_file,\n\u001b[1;32m    418\u001b[0m     key_password\u001b[39m=\u001b[39;49m\u001b[39mself\u001b[39;49m\u001b[39m.\u001b[39;49mkey_password,\n\u001b[1;32m    419\u001b[0m     ca_certs\u001b[39m=\u001b[39;49m\u001b[39mself\u001b[39;49m\u001b[39m.\u001b[39;49mca_certs,\n\u001b[1;32m    420\u001b[0m     ca_cert_dir\u001b[39m=\u001b[39;49m\u001b[39mself\u001b[39;49m\u001b[39m.\u001b[39;49mca_cert_dir,\n\u001b[1;32m    421\u001b[0m     ca_cert_data\u001b[39m=\u001b[39;49m\u001b[39mself\u001b[39;49m\u001b[39m.\u001b[39;49mca_cert_data,\n\u001b[1;32m    422\u001b[0m     server_hostname\u001b[39m=\u001b[39;49mserver_hostname,\n\u001b[1;32m    423\u001b[0m     ssl_context\u001b[39m=\u001b[39;49mcontext,\n\u001b[1;32m    424\u001b[0m     tls_in_tls\u001b[39m=\u001b[39;49mtls_in_tls,\n\u001b[1;32m    425\u001b[0m )\n\u001b[1;32m    427\u001b[0m \u001b[39m# If we're using all defaults and the connection\u001b[39;00m\n\u001b[1;32m    428\u001b[0m \u001b[39m# is TLSv1 or TLSv1.1 we throw a DeprecationWarning\u001b[39;00m\n\u001b[1;32m    429\u001b[0m \u001b[39m# for the host.\u001b[39;00m\n",
                        "File \u001b[0;32m~/miniforge3/envs/spatial/lib/python3.9/site-packages/urllib3/util/ssl_.py:449\u001b[0m, in \u001b[0;36mssl_wrap_socket\u001b[0;34m(sock, keyfile, certfile, cert_reqs, ca_certs, server_hostname, ssl_version, ciphers, ssl_context, ca_cert_dir, key_password, ca_cert_data, tls_in_tls)\u001b[0m\n\u001b[1;32m    448\u001b[0m \u001b[39mif\u001b[39;00m send_sni:\n\u001b[0;32m--> 449\u001b[0m     ssl_sock \u001b[39m=\u001b[39m _ssl_wrap_socket_impl(\n\u001b[1;32m    450\u001b[0m         sock, context, tls_in_tls, server_hostname\u001b[39m=\u001b[39;49mserver_hostname\n\u001b[1;32m    451\u001b[0m     )\n\u001b[1;32m    452\u001b[0m \u001b[39melse\u001b[39;00m:\n",
                        "File \u001b[0;32m~/miniforge3/envs/spatial/lib/python3.9/site-packages/urllib3/util/ssl_.py:493\u001b[0m, in \u001b[0;36m_ssl_wrap_socket_impl\u001b[0;34m(sock, ssl_context, tls_in_tls, server_hostname)\u001b[0m\n\u001b[1;32m    492\u001b[0m \u001b[39mif\u001b[39;00m server_hostname:\n\u001b[0;32m--> 493\u001b[0m     \u001b[39mreturn\u001b[39;00m ssl_context\u001b[39m.\u001b[39;49mwrap_socket(sock, server_hostname\u001b[39m=\u001b[39;49mserver_hostname)\n\u001b[1;32m    494\u001b[0m \u001b[39melse\u001b[39;00m:\n",
                        "File \u001b[0;32m~/miniforge3/envs/spatial/lib/python3.9/ssl.py:501\u001b[0m, in \u001b[0;36mSSLContext.wrap_socket\u001b[0;34m(self, sock, server_side, do_handshake_on_connect, suppress_ragged_eofs, server_hostname, session)\u001b[0m\n\u001b[1;32m    495\u001b[0m \u001b[39mdef\u001b[39;00m \u001b[39mwrap_socket\u001b[39m(\u001b[39mself\u001b[39m, sock, server_side\u001b[39m=\u001b[39m\u001b[39mFalse\u001b[39;00m,\n\u001b[1;32m    496\u001b[0m                 do_handshake_on_connect\u001b[39m=\u001b[39m\u001b[39mTrue\u001b[39;00m,\n\u001b[1;32m    497\u001b[0m                 suppress_ragged_eofs\u001b[39m=\u001b[39m\u001b[39mTrue\u001b[39;00m,\n\u001b[1;32m    498\u001b[0m                 server_hostname\u001b[39m=\u001b[39m\u001b[39mNone\u001b[39;00m, session\u001b[39m=\u001b[39m\u001b[39mNone\u001b[39;00m):\n\u001b[1;32m    499\u001b[0m     \u001b[39m# SSLSocket class handles server_hostname encoding before it calls\u001b[39;00m\n\u001b[1;32m    500\u001b[0m     \u001b[39m# ctx._wrap_socket()\u001b[39;00m\n\u001b[0;32m--> 501\u001b[0m     \u001b[39mreturn\u001b[39;00m \u001b[39mself\u001b[39;49m\u001b[39m.\u001b[39;49msslsocket_class\u001b[39m.\u001b[39;49m_create(\n\u001b[1;32m    502\u001b[0m         sock\u001b[39m=\u001b[39;49msock,\n\u001b[1;32m    503\u001b[0m         server_side\u001b[39m=\u001b[39;49mserver_side,\n\u001b[1;32m    504\u001b[0m         do_handshake_on_connect\u001b[39m=\u001b[39;49mdo_handshake_on_connect,\n\u001b[1;32m    505\u001b[0m         suppress_ragged_eofs\u001b[39m=\u001b[39;49msuppress_ragged_eofs,\n\u001b[1;32m    506\u001b[0m         server_hostname\u001b[39m=\u001b[39;49mserver_hostname,\n\u001b[1;32m    507\u001b[0m         context\u001b[39m=\u001b[39;49m\u001b[39mself\u001b[39;49m,\n\u001b[1;32m    508\u001b[0m         session\u001b[39m=\u001b[39;49msession\n\u001b[1;32m    509\u001b[0m     )\n",
                        "File \u001b[0;32m~/miniforge3/envs/spatial/lib/python3.9/ssl.py:1041\u001b[0m, in \u001b[0;36mSSLSocket._create\u001b[0;34m(cls, sock, server_side, do_handshake_on_connect, suppress_ragged_eofs, server_hostname, context, session)\u001b[0m\n\u001b[1;32m   1040\u001b[0m             \u001b[39mraise\u001b[39;00m \u001b[39mValueError\u001b[39;00m(\u001b[39m\"\u001b[39m\u001b[39mdo_handshake_on_connect should not be specified for non-blocking sockets\u001b[39m\u001b[39m\"\u001b[39m)\n\u001b[0;32m-> 1041\u001b[0m         \u001b[39mself\u001b[39;49m\u001b[39m.\u001b[39;49mdo_handshake()\n\u001b[1;32m   1042\u001b[0m \u001b[39mexcept\u001b[39;00m (\u001b[39mOSError\u001b[39;00m, \u001b[39mValueError\u001b[39;00m):\n",
                        "File \u001b[0;32m~/miniforge3/envs/spatial/lib/python3.9/ssl.py:1310\u001b[0m, in \u001b[0;36mSSLSocket.do_handshake\u001b[0;34m(self, block)\u001b[0m\n\u001b[1;32m   1309\u001b[0m         \u001b[39mself\u001b[39m\u001b[39m.\u001b[39msettimeout(\u001b[39mNone\u001b[39;00m)\n\u001b[0;32m-> 1310\u001b[0m     \u001b[39mself\u001b[39;49m\u001b[39m.\u001b[39;49m_sslobj\u001b[39m.\u001b[39;49mdo_handshake()\n\u001b[1;32m   1311\u001b[0m \u001b[39mfinally\u001b[39;00m:\n",
                        "\u001b[0;31mProtocolError\u001b[0m: ('Connection aborted.', ConnectionResetError(54, 'Connection reset by peer'))",
                        "\nDuring handling of the above exception, another exception occurred:\n",
                        "\u001b[0;31mConnectionError\u001b[0m                           Traceback (most recent call last)",
                        "\u001b[1;32m/Users/ando/Projects/sand/sandmining-watch/image-sampling/inference_sampling.ipynb Cell 17\u001b[0m in \u001b[0;36m<cell line: 1>\u001b[0;34m()\u001b[0m\n\u001b[0;32m----> <a href='vscode-notebook-cell:/Users/ando/Projects/sand/sandmining-watch/image-sampling/inference_sampling.ipynb#X22sZmlsZQ%3D%3D?line=0'>1</a>\u001b[0m geemap\u001b[39m.\u001b[39;49mdownload_ee_image_tiles(\n\u001b[1;32m      <a href='vscode-notebook-cell:/Users/ando/Projects/sand/sandmining-watch/image-sampling/inference_sampling.ipynb#X22sZmlsZQ%3D%3D?line=1'>2</a>\u001b[0m     baseM, grid4, \u001b[39m'\u001b[39;49m\u001b[39m../data/patches/\u001b[39;49m\u001b[39m'\u001b[39;49m, prefix\u001b[39m=\u001b[39;49m\u001b[39m\"\u001b[39;49m\u001b[39ms2_\u001b[39;49m\u001b[39m\"\u001b[39;49m, scale\u001b[39m=\u001b[39;49m\u001b[39m10\u001b[39;49m\n\u001b[1;32m      <a href='vscode-notebook-cell:/Users/ando/Projects/sand/sandmining-watch/image-sampling/inference_sampling.ipynb#X22sZmlsZQ%3D%3D?line=2'>3</a>\u001b[0m )\n",
                        "File \u001b[0;32m~/miniforge3/envs/spatial/lib/python3.9/site-packages/geemap/common.py:12701\u001b[0m, in \u001b[0;36mdownload_ee_image_tiles\u001b[0;34m(image, features, out_dir, prefix, crs, crs_transform, scale, resampling, dtype, overwrite, num_threads, max_tile_size, max_tile_dim, shape, scale_offset, unmask_value, column, **kwargs)\u001b[0m\n\u001b[1;32m  12697\u001b[0m     filename \u001b[39m=\u001b[39m os\u001b[39m.\u001b[39mpath\u001b[39m.\u001b[39mjoin(\n\u001b[1;32m  12698\u001b[0m         out_dir, \u001b[39m\"\u001b[39m\u001b[39m{}\u001b[39;00m\u001b[39m{}\u001b[39;00m\u001b[39m.tif\u001b[39m\u001b[39m\"\u001b[39m\u001b[39m.\u001b[39mformat(prefix, names[i]\u001b[39m.\u001b[39mreplace(\u001b[39m\"\u001b[39m\u001b[39m/\u001b[39m\u001b[39m\"\u001b[39m, \u001b[39m\"\u001b[39m\u001b[39m_\u001b[39m\u001b[39m\"\u001b[39m))\n\u001b[1;32m  12699\u001b[0m     )\n\u001b[1;32m  12700\u001b[0m     \u001b[39mprint\u001b[39m(\u001b[39mf\u001b[39m\u001b[39m\"\u001b[39m\u001b[39mDownloading \u001b[39m\u001b[39m{\u001b[39;00mi \u001b[39m+\u001b[39m \u001b[39m1\u001b[39m\u001b[39m}\u001b[39;00m\u001b[39m/\u001b[39m\u001b[39m{\u001b[39;00mcount\u001b[39m}\u001b[39;00m\u001b[39m: \u001b[39m\u001b[39m{\u001b[39;00mfilename\u001b[39m}\u001b[39;00m\u001b[39m\"\u001b[39m)\n\u001b[0;32m> 12701\u001b[0m     download_ee_image(\n\u001b[1;32m  12702\u001b[0m         image,\n\u001b[1;32m  12703\u001b[0m         filename,\n\u001b[1;32m  12704\u001b[0m         region,\n\u001b[1;32m  12705\u001b[0m         crs,\n\u001b[1;32m  12706\u001b[0m         crs_transform,\n\u001b[1;32m  12707\u001b[0m         scale,\n\u001b[1;32m  12708\u001b[0m         resampling,\n\u001b[1;32m  12709\u001b[0m         dtype,\n\u001b[1;32m  12710\u001b[0m         overwrite,\n\u001b[1;32m  12711\u001b[0m         num_threads,\n\u001b[1;32m  12712\u001b[0m         max_tile_size,\n\u001b[1;32m  12713\u001b[0m         max_tile_dim,\n\u001b[1;32m  12714\u001b[0m         shape,\n\u001b[1;32m  12715\u001b[0m         scale_offset,\n\u001b[1;32m  12716\u001b[0m         unmask_value,\n\u001b[1;32m  12717\u001b[0m         \u001b[39m*\u001b[39;49m\u001b[39m*\u001b[39;49mkwargs,\n\u001b[1;32m  12718\u001b[0m     )\n\u001b[1;32m  12720\u001b[0m \u001b[39mprint\u001b[39m(\u001b[39mf\u001b[39m\u001b[39m\"\u001b[39m\u001b[39mDownloaded \u001b[39m\u001b[39m{\u001b[39;00mcount\u001b[39m}\u001b[39;00m\u001b[39m tiles in \u001b[39m\u001b[39m{\u001b[39;00mtime\u001b[39m.\u001b[39mtime() \u001b[39m-\u001b[39m start\u001b[39m}\u001b[39;00m\u001b[39m seconds.\u001b[39m\u001b[39m\"\u001b[39m)\n",
                        "File \u001b[0;32m~/miniforge3/envs/spatial/lib/python3.9/site-packages/geemap/common.py:12611\u001b[0m, in \u001b[0;36mdownload_ee_image\u001b[0;34m(image, filename, region, crs, crs_transform, scale, resampling, dtype, overwrite, num_threads, max_tile_size, max_tile_dim, shape, scale_offset, unmask_value, **kwargs)\u001b[0m\n\u001b[1;32m  12608\u001b[0m     kwargs[\u001b[39m\"\u001b[39m\u001b[39mscale_offset\u001b[39m\u001b[39m\"\u001b[39m] \u001b[39m=\u001b[39m scale_offset\n\u001b[1;32m  12610\u001b[0m img \u001b[39m=\u001b[39m gd\u001b[39m.\u001b[39mdownload\u001b[39m.\u001b[39mBaseImage(image)\n\u001b[0;32m> 12611\u001b[0m img\u001b[39m.\u001b[39;49mdownload(filename, overwrite\u001b[39m=\u001b[39;49moverwrite, num_threads\u001b[39m=\u001b[39;49mnum_threads, \u001b[39m*\u001b[39;49m\u001b[39m*\u001b[39;49mkwargs)\n",
                        "File \u001b[0;32m~/miniforge3/envs/spatial/lib/python3.9/site-packages/geedim/download.py:880\u001b[0m, in \u001b[0;36mBaseImage.download\u001b[0;34m(self, filename, overwrite, num_threads, max_tile_size, max_tile_dim, **kwargs)\u001b[0m\n\u001b[1;32m    877\u001b[0m         \u001b[39mraise\u001b[39;00m \u001b[39mFileExistsError\u001b[39;00m(\u001b[39mf\u001b[39m\u001b[39m'\u001b[39m\u001b[39m{\u001b[39;00mfilename\u001b[39m}\u001b[39;00m\u001b[39m exists\u001b[39m\u001b[39m'\u001b[39m)\n\u001b[1;32m    879\u001b[0m \u001b[39m# prepare (resample, convert, reproject) the image for download\u001b[39;00m\n\u001b[0;32m--> 880\u001b[0m exp_image, profile \u001b[39m=\u001b[39m \u001b[39mself\u001b[39;49m\u001b[39m.\u001b[39;49m_prepare_for_download(\u001b[39m*\u001b[39;49m\u001b[39m*\u001b[39;49mkwargs)\n\u001b[1;32m    882\u001b[0m \u001b[39m# get the dimensions of an image tile that will satisfy GEE download limits\u001b[39;00m\n\u001b[1;32m    883\u001b[0m tile_shape, num_tiles \u001b[39m=\u001b[39m \u001b[39mself\u001b[39m\u001b[39m.\u001b[39m_get_tile_shape(exp_image, max_tile_size\u001b[39m=\u001b[39mmax_tile_size, max_tile_dim\u001b[39m=\u001b[39mmax_tile_dim)\n",
                        "File \u001b[0;32m~/miniforge3/envs/spatial/lib/python3.9/site-packages/geedim/download.py:536\u001b[0m, in \u001b[0;36mBaseImage._prepare_for_download\u001b[0;34m(self, set_nodata, **kwargs)\u001b[0m\n\u001b[1;32m    529\u001b[0m \u001b[39m\"\"\"\u001b[39;00m\n\u001b[1;32m    530\u001b[0m \u001b[39mPrepare the encapsulated image for tiled GeoTIFF download. Will reproject, resample, clip and convert the image\u001b[39;00m\n\u001b[1;32m    531\u001b[0m \u001b[39maccording to the provided parameters.\u001b[39;00m\n\u001b[1;32m    532\u001b[0m \n\u001b[1;32m    533\u001b[0m \u001b[39mReturns the prepared image and a rasterio profile for the downloaded GeoTIFF.\u001b[39;00m\n\u001b[1;32m    534\u001b[0m \u001b[39m\"\"\"\u001b[39;00m\n\u001b[1;32m    535\u001b[0m \u001b[39m# resample, convert, clip and reproject image according to download params\u001b[39;00m\n\u001b[0;32m--> 536\u001b[0m exp_image \u001b[39m=\u001b[39m \u001b[39mself\u001b[39;49m\u001b[39m.\u001b[39;49m_prepare_for_export(\u001b[39m*\u001b[39;49m\u001b[39m*\u001b[39;49mkwargs)\n\u001b[1;32m    537\u001b[0m \u001b[39m# see float nodata workaround note in Tile.download(...)\u001b[39;00m\n\u001b[1;32m    538\u001b[0m nodata_dict \u001b[39m=\u001b[39m \u001b[39mdict\u001b[39m(\n\u001b[1;32m    539\u001b[0m     float32\u001b[39m=\u001b[39m\u001b[39mself\u001b[39m\u001b[39m.\u001b[39m_float_nodata,\n\u001b[1;32m    540\u001b[0m     float64\u001b[39m=\u001b[39m\u001b[39mself\u001b[39m\u001b[39m.\u001b[39m_float_nodata,\n\u001b[0;32m   (...)\u001b[0m\n\u001b[1;32m    546\u001b[0m     int32\u001b[39m=\u001b[39mnp\u001b[39m.\u001b[39miinfo(\u001b[39m'\u001b[39m\u001b[39mint32\u001b[39m\u001b[39m'\u001b[39m)\u001b[39m.\u001b[39mmin,\n\u001b[1;32m    547\u001b[0m )  \u001b[39m# yapf: disable\u001b[39;00m\n",
                        "File \u001b[0;32m~/miniforge3/envs/spatial/lib/python3.9/site-packages/geedim/download.py:442\u001b[0m, in \u001b[0;36mBaseImage._prepare_for_export\u001b[0;34m(self, crs, crs_transform, shape, region, scale, resampling, dtype, scale_offset)\u001b[0m\n\u001b[1;32m    438\u001b[0m \u001b[39m# Check for parameter combination errors.\u001b[39;00m\n\u001b[1;32m    439\u001b[0m \u001b[39m# This necessarily duplicates some of what is done in ee.Image.getDownloadURL, so that errors are raised\u001b[39;00m\n\u001b[1;32m    440\u001b[0m \u001b[39m# before tile creation & download.\u001b[39;00m\n\u001b[1;32m    441\u001b[0m \u001b[39mif\u001b[39;00m (\u001b[39mnot\u001b[39;00m crs \u001b[39mor\u001b[39;00m \u001b[39mnot\u001b[39;00m region \u001b[39mor\u001b[39;00m \u001b[39mnot\u001b[39;00m scale) \u001b[39mand\u001b[39;00m (\u001b[39mnot\u001b[39;00m crs \u001b[39mor\u001b[39;00m \u001b[39mnot\u001b[39;00m crs_transform \u001b[39mor\u001b[39;00m \u001b[39mnot\u001b[39;00m shape):\n\u001b[0;32m--> 442\u001b[0m     \u001b[39mif\u001b[39;00m \u001b[39mnot\u001b[39;00m \u001b[39mself\u001b[39;49m\u001b[39m.\u001b[39;49mhas_fixed_projection:\n\u001b[1;32m    443\u001b[0m         \u001b[39m# if the image has no fixed projection, either crs, region, & scale; or crs, crs_transform and shape\u001b[39;00m\n\u001b[1;32m    444\u001b[0m         \u001b[39m# must be specified\u001b[39;00m\n\u001b[1;32m    445\u001b[0m         \u001b[39mraise\u001b[39;00m \u001b[39mValueError\u001b[39;00m(\n\u001b[1;32m    446\u001b[0m             \u001b[39mf\u001b[39m\u001b[39m'\u001b[39m\u001b[39mThis image does not have a fixed projection, you need to specify a crs, region & scale; or a \u001b[39m\u001b[39m'\u001b[39m\n\u001b[1;32m    447\u001b[0m             \u001b[39mf\u001b[39m\u001b[39m'\u001b[39m\u001b[39mcrs, crs_transform & shape.\u001b[39m\u001b[39m'\u001b[39m\n\u001b[1;32m    448\u001b[0m         )\n\u001b[1;32m    450\u001b[0m \u001b[39mif\u001b[39;00m (\u001b[39mnot\u001b[39;00m region \u001b[39mand\u001b[39;00m (\u001b[39mnot\u001b[39;00m crs \u001b[39mor\u001b[39;00m \u001b[39mnot\u001b[39;00m crs_transform \u001b[39mor\u001b[39;00m \u001b[39mnot\u001b[39;00m shape)) \u001b[39mand\u001b[39;00m (\u001b[39mnot\u001b[39;00m \u001b[39mself\u001b[39m\u001b[39m.\u001b[39mbounded):\n\u001b[1;32m    451\u001b[0m     \u001b[39m# if the image has no footprint (i.e. it is 'unbounded'), either region; or crs, crs_transform and shape\u001b[39;00m\n\u001b[1;32m    452\u001b[0m     \u001b[39m# must be specified\u001b[39;00m\n",
                        "File \u001b[0;32m~/miniforge3/envs/spatial/lib/python3.9/site-packages/geedim/download.py:215\u001b[0m, in \u001b[0;36mBaseImage.has_fixed_projection\u001b[0;34m(self)\u001b[0m\n\u001b[1;32m    212\u001b[0m \u001b[39m@property\u001b[39m\n\u001b[1;32m    213\u001b[0m \u001b[39mdef\u001b[39;00m \u001b[39mhas_fixed_projection\u001b[39m(\u001b[39mself\u001b[39m) \u001b[39m-\u001b[39m\u001b[39m>\u001b[39m \u001b[39mbool\u001b[39m:\n\u001b[1;32m    214\u001b[0m     \u001b[39m\"\"\" True if the image has a fixed projection, otherwise False. \"\"\"\u001b[39;00m\n\u001b[0;32m--> 215\u001b[0m     \u001b[39mreturn\u001b[39;00m \u001b[39mself\u001b[39;49m\u001b[39m.\u001b[39;49mscale \u001b[39mis\u001b[39;00m \u001b[39mnot\u001b[39;00m \u001b[39mNone\u001b[39;00m\n",
                        "File \u001b[0;32m~/miniforge3/envs/spatial/lib/python3.9/site-packages/geedim/download.py:164\u001b[0m, in \u001b[0;36mBaseImage.scale\u001b[0;34m(self)\u001b[0m\n\u001b[1;32m    161\u001b[0m \u001b[39m@property\u001b[39m\n\u001b[1;32m    162\u001b[0m \u001b[39mdef\u001b[39;00m \u001b[39mscale\u001b[39m(\u001b[39mself\u001b[39m) \u001b[39m-\u001b[39m\u001b[39m>\u001b[39m Optional[\u001b[39mfloat\u001b[39m]:\n\u001b[1;32m    163\u001b[0m     \u001b[39m\"\"\" Minimum scale (m) of image bands. None if the image has no fixed projection. \"\"\"\u001b[39;00m\n\u001b[0;32m--> 164\u001b[0m     \u001b[39mreturn\u001b[39;00m \u001b[39mself\u001b[39;49m\u001b[39m.\u001b[39;49m_min_projection[\u001b[39m'\u001b[39m\u001b[39mscale\u001b[39m\u001b[39m'\u001b[39m]\n",
                        "File \u001b[0;32m~/miniforge3/envs/spatial/lib/python3.9/site-packages/geedim/download.py:113\u001b[0m, in \u001b[0;36mBaseImage._min_projection\u001b[0;34m(self)\u001b[0m\n\u001b[1;32m    111\u001b[0m \u001b[39m\"\"\" Projection information corresponding to the minimum scale band. \"\"\"\u001b[39;00m\n\u001b[1;32m    112\u001b[0m \u001b[39mif\u001b[39;00m \u001b[39mnot\u001b[39;00m \u001b[39mself\u001b[39m\u001b[39m.\u001b[39m__min_projection:\n\u001b[0;32m--> 113\u001b[0m     \u001b[39mself\u001b[39m\u001b[39m.\u001b[39m__min_projection \u001b[39m=\u001b[39m \u001b[39mself\u001b[39m\u001b[39m.\u001b[39m_get_projection(\u001b[39mself\u001b[39;49m\u001b[39m.\u001b[39;49m_ee_info, min_scale\u001b[39m=\u001b[39m\u001b[39mTrue\u001b[39;00m)\n\u001b[1;32m    114\u001b[0m \u001b[39mreturn\u001b[39;00m \u001b[39mself\u001b[39m\u001b[39m.\u001b[39m__min_projection\n",
                        "File \u001b[0;32m~/miniforge3/envs/spatial/lib/python3.9/site-packages/geedim/download.py:106\u001b[0m, in \u001b[0;36mBaseImage._ee_info\u001b[0;34m(self)\u001b[0m\n\u001b[1;32m    104\u001b[0m \u001b[39m\"\"\" Earth Engine image metadata. \"\"\"\u001b[39;00m\n\u001b[1;32m    105\u001b[0m \u001b[39mif\u001b[39;00m \u001b[39mself\u001b[39m\u001b[39m.\u001b[39m__ee_info \u001b[39mis\u001b[39;00m \u001b[39mNone\u001b[39;00m:\n\u001b[0;32m--> 106\u001b[0m     \u001b[39mself\u001b[39m\u001b[39m.\u001b[39m__ee_info \u001b[39m=\u001b[39m \u001b[39mself\u001b[39;49m\u001b[39m.\u001b[39;49m_ee_image\u001b[39m.\u001b[39;49mgetInfo()\n\u001b[1;32m    107\u001b[0m \u001b[39mreturn\u001b[39;00m \u001b[39mself\u001b[39m\u001b[39m.\u001b[39m__ee_info\n",
                        "File \u001b[0;32m~/miniforge3/envs/spatial/lib/python3.9/site-packages/ee/image.py:117\u001b[0m, in \u001b[0;36mImage.getInfo\u001b[0;34m(self)\u001b[0m\n\u001b[1;32m    109\u001b[0m \u001b[39mdef\u001b[39;00m \u001b[39mgetInfo\u001b[39m(\u001b[39mself\u001b[39m):\n\u001b[1;32m    110\u001b[0m   \u001b[39m\"\"\"Fetch and return information about this image.\u001b[39;00m\n\u001b[1;32m    111\u001b[0m \n\u001b[1;32m    112\u001b[0m \u001b[39m  Returns:\u001b[39;00m\n\u001b[0;32m   (...)\u001b[0m\n\u001b[1;32m    115\u001b[0m \u001b[39m        properties - Dictionary containing the image's metadata properties.\u001b[39;00m\n\u001b[1;32m    116\u001b[0m \u001b[39m  \"\"\"\u001b[39;00m\n\u001b[0;32m--> 117\u001b[0m   \u001b[39mreturn\u001b[39;00m \u001b[39msuper\u001b[39;49m(Image, \u001b[39mself\u001b[39;49m)\u001b[39m.\u001b[39;49mgetInfo()\n",
                        "File \u001b[0;32m~/miniforge3/envs/spatial/lib/python3.9/site-packages/ee/computedobject.py:96\u001b[0m, in \u001b[0;36mComputedObject.getInfo\u001b[0;34m(self)\u001b[0m\n\u001b[1;32m     90\u001b[0m \u001b[39mdef\u001b[39;00m \u001b[39mgetInfo\u001b[39m(\u001b[39mself\u001b[39m):\n\u001b[1;32m     91\u001b[0m   \u001b[39m\"\"\"Fetch and return information about this object.\u001b[39;00m\n\u001b[1;32m     92\u001b[0m \n\u001b[1;32m     93\u001b[0m \u001b[39m  Returns:\u001b[39;00m\n\u001b[1;32m     94\u001b[0m \u001b[39m    The object can evaluate to anything.\u001b[39;00m\n\u001b[1;32m     95\u001b[0m \u001b[39m  \"\"\"\u001b[39;00m\n\u001b[0;32m---> 96\u001b[0m   \u001b[39mreturn\u001b[39;00m data\u001b[39m.\u001b[39;49mcomputeValue(\u001b[39mself\u001b[39;49m)\n",
                        "File \u001b[0;32m~/miniforge3/envs/spatial/lib/python3.9/site-packages/ee/data.py:916\u001b[0m, in \u001b[0;36mcomputeValue\u001b[0;34m(obj)\u001b[0m\n\u001b[1;32m    913\u001b[0m body \u001b[39m=\u001b[39m {\u001b[39m'\u001b[39m\u001b[39mexpression\u001b[39m\u001b[39m'\u001b[39m: serializer\u001b[39m.\u001b[39mencode(obj, for_cloud_api\u001b[39m=\u001b[39m\u001b[39mTrue\u001b[39;00m)}\n\u001b[1;32m    914\u001b[0m _maybe_populate_workload_tag(body)\n\u001b[0;32m--> 916\u001b[0m \u001b[39mreturn\u001b[39;00m _execute_cloud_call(\n\u001b[1;32m    917\u001b[0m     _get_cloud_api_resource()\u001b[39m.\u001b[39;49mprojects()\u001b[39m.\u001b[39;49mvalue()\u001b[39m.\u001b[39;49mcompute(\n\u001b[1;32m    918\u001b[0m         body\u001b[39m=\u001b[39;49mbody,\n\u001b[1;32m    919\u001b[0m         project\u001b[39m=\u001b[39;49m_get_projects_path(),\n\u001b[1;32m    920\u001b[0m         prettyPrint\u001b[39m=\u001b[39;49m\u001b[39mFalse\u001b[39;49;00m))[\u001b[39m'\u001b[39m\u001b[39mresult\u001b[39m\u001b[39m'\u001b[39m]\n",
                        "File \u001b[0;32m~/miniforge3/envs/spatial/lib/python3.9/site-packages/ee/data.py:337\u001b[0m, in \u001b[0;36m_execute_cloud_call\u001b[0;34m(call, num_retries)\u001b[0m\n\u001b[1;32m    323\u001b[0m \u001b[39m\"\"\"Executes a Cloud API call and translates errors to EEExceptions.\u001b[39;00m\n\u001b[1;32m    324\u001b[0m \n\u001b[1;32m    325\u001b[0m \u001b[39mArgs:\u001b[39;00m\n\u001b[0;32m   (...)\u001b[0m\n\u001b[1;32m    334\u001b[0m \u001b[39m  EEException if the call fails.\u001b[39;00m\n\u001b[1;32m    335\u001b[0m \u001b[39m\"\"\"\u001b[39;00m\n\u001b[1;32m    336\u001b[0m \u001b[39mtry\u001b[39;00m:\n\u001b[0;32m--> 337\u001b[0m   \u001b[39mreturn\u001b[39;00m call\u001b[39m.\u001b[39;49mexecute(num_retries\u001b[39m=\u001b[39;49mnum_retries)\n\u001b[1;32m    338\u001b[0m \u001b[39mexcept\u001b[39;00m googleapiclient\u001b[39m.\u001b[39merrors\u001b[39m.\u001b[39mHttpError \u001b[39mas\u001b[39;00m e:\n\u001b[1;32m    339\u001b[0m   \u001b[39mraise\u001b[39;00m _translate_cloud_exception(e)\n",
                        "File \u001b[0;32m~/miniforge3/envs/spatial/lib/python3.9/site-packages/googleapiclient/_helpers.py:130\u001b[0m, in \u001b[0;36mpositional.<locals>.positional_decorator.<locals>.positional_wrapper\u001b[0;34m(*args, **kwargs)\u001b[0m\n\u001b[1;32m    128\u001b[0m     \u001b[39melif\u001b[39;00m positional_parameters_enforcement \u001b[39m==\u001b[39m POSITIONAL_WARNING:\n\u001b[1;32m    129\u001b[0m         logger\u001b[39m.\u001b[39mwarning(message)\n\u001b[0;32m--> 130\u001b[0m \u001b[39mreturn\u001b[39;00m wrapped(\u001b[39m*\u001b[39;49margs, \u001b[39m*\u001b[39;49m\u001b[39m*\u001b[39;49mkwargs)\n",
                        "File \u001b[0;32m~/miniforge3/envs/spatial/lib/python3.9/site-packages/googleapiclient/http.py:923\u001b[0m, in \u001b[0;36mHttpRequest.execute\u001b[0;34m(self, http, num_retries)\u001b[0m\n\u001b[1;32m    920\u001b[0m     \u001b[39mself\u001b[39m\u001b[39m.\u001b[39mheaders[\u001b[39m\"\u001b[39m\u001b[39mcontent-length\u001b[39m\u001b[39m\"\u001b[39m] \u001b[39m=\u001b[39m \u001b[39mstr\u001b[39m(\u001b[39mlen\u001b[39m(\u001b[39mself\u001b[39m\u001b[39m.\u001b[39mbody))\n\u001b[1;32m    922\u001b[0m \u001b[39m# Handle retries for server-side errors.\u001b[39;00m\n\u001b[0;32m--> 923\u001b[0m resp, content \u001b[39m=\u001b[39m _retry_request(\n\u001b[1;32m    924\u001b[0m     http,\n\u001b[1;32m    925\u001b[0m     num_retries,\n\u001b[1;32m    926\u001b[0m     \u001b[39m\"\u001b[39;49m\u001b[39mrequest\u001b[39;49m\u001b[39m\"\u001b[39;49m,\n\u001b[1;32m    927\u001b[0m     \u001b[39mself\u001b[39;49m\u001b[39m.\u001b[39;49m_sleep,\n\u001b[1;32m    928\u001b[0m     \u001b[39mself\u001b[39;49m\u001b[39m.\u001b[39;49m_rand,\n\u001b[1;32m    929\u001b[0m     \u001b[39mstr\u001b[39;49m(\u001b[39mself\u001b[39;49m\u001b[39m.\u001b[39;49muri),\n\u001b[1;32m    930\u001b[0m     method\u001b[39m=\u001b[39;49m\u001b[39mstr\u001b[39;49m(\u001b[39mself\u001b[39;49m\u001b[39m.\u001b[39;49mmethod),\n\u001b[1;32m    931\u001b[0m     body\u001b[39m=\u001b[39;49m\u001b[39mself\u001b[39;49m\u001b[39m.\u001b[39;49mbody,\n\u001b[1;32m    932\u001b[0m     headers\u001b[39m=\u001b[39;49m\u001b[39mself\u001b[39;49m\u001b[39m.\u001b[39;49mheaders,\n\u001b[1;32m    933\u001b[0m )\n\u001b[1;32m    935\u001b[0m \u001b[39mfor\u001b[39;00m callback \u001b[39min\u001b[39;00m \u001b[39mself\u001b[39m\u001b[39m.\u001b[39mresponse_callbacks:\n\u001b[1;32m    936\u001b[0m     callback(resp)\n",
                        "File \u001b[0;32m~/miniforge3/envs/spatial/lib/python3.9/site-packages/googleapiclient/http.py:191\u001b[0m, in \u001b[0;36m_retry_request\u001b[0;34m(http, num_retries, req_type, sleep, rand, uri, method, *args, **kwargs)\u001b[0m\n\u001b[1;32m    189\u001b[0m \u001b[39mtry\u001b[39;00m:\n\u001b[1;32m    190\u001b[0m     exception \u001b[39m=\u001b[39m \u001b[39mNone\u001b[39;00m\n\u001b[0;32m--> 191\u001b[0m     resp, content \u001b[39m=\u001b[39m http\u001b[39m.\u001b[39;49mrequest(uri, method, \u001b[39m*\u001b[39;49margs, \u001b[39m*\u001b[39;49m\u001b[39m*\u001b[39;49mkwargs)\n\u001b[1;32m    192\u001b[0m \u001b[39m# Retry on SSL errors and socket timeout errors.\u001b[39;00m\n\u001b[1;32m    193\u001b[0m \u001b[39mexcept\u001b[39;00m _ssl_SSLError \u001b[39mas\u001b[39;00m ssl_error:\n",
                        "File \u001b[0;32m~/miniforge3/envs/spatial/lib/python3.9/site-packages/google_auth_httplib2.py:218\u001b[0m, in \u001b[0;36mAuthorizedHttp.request\u001b[0;34m(self, uri, method, body, headers, redirections, connection_type, **kwargs)\u001b[0m\n\u001b[1;32m    215\u001b[0m     body_stream_position \u001b[39m=\u001b[39m body\u001b[39m.\u001b[39mtell()\n\u001b[1;32m    217\u001b[0m \u001b[39m# Make the request.\u001b[39;00m\n\u001b[0;32m--> 218\u001b[0m response, content \u001b[39m=\u001b[39m \u001b[39mself\u001b[39;49m\u001b[39m.\u001b[39;49mhttp\u001b[39m.\u001b[39;49mrequest(\n\u001b[1;32m    219\u001b[0m     uri,\n\u001b[1;32m    220\u001b[0m     method,\n\u001b[1;32m    221\u001b[0m     body\u001b[39m=\u001b[39;49mbody,\n\u001b[1;32m    222\u001b[0m     headers\u001b[39m=\u001b[39;49mrequest_headers,\n\u001b[1;32m    223\u001b[0m     redirections\u001b[39m=\u001b[39;49mredirections,\n\u001b[1;32m    224\u001b[0m     connection_type\u001b[39m=\u001b[39;49mconnection_type,\n\u001b[1;32m    225\u001b[0m     \u001b[39m*\u001b[39;49m\u001b[39m*\u001b[39;49mkwargs\n\u001b[1;32m    226\u001b[0m )\n\u001b[1;32m    228\u001b[0m \u001b[39m# If the response indicated that the credentials needed to be\u001b[39;00m\n\u001b[1;32m    229\u001b[0m \u001b[39m# refreshed, then refresh the credentials and re-attempt the\u001b[39;00m\n\u001b[1;32m    230\u001b[0m \u001b[39m# request.\u001b[39;00m\n\u001b[1;32m    231\u001b[0m \u001b[39m# A stored token may expire between the time it is retrieved and\u001b[39;00m\n\u001b[1;32m    232\u001b[0m \u001b[39m# the time the request is made, so we may need to try twice.\u001b[39;00m\n\u001b[1;32m    233\u001b[0m \u001b[39mif\u001b[39;00m (\n\u001b[1;32m    234\u001b[0m     response\u001b[39m.\u001b[39mstatus \u001b[39min\u001b[39;00m \u001b[39mself\u001b[39m\u001b[39m.\u001b[39m_refresh_status_codes\n\u001b[1;32m    235\u001b[0m     \u001b[39mand\u001b[39;00m _credential_refresh_attempt \u001b[39m<\u001b[39m \u001b[39mself\u001b[39m\u001b[39m.\u001b[39m_max_refresh_attempts\n\u001b[1;32m    236\u001b[0m ):\n",
                        "File \u001b[0;32m~/miniforge3/envs/spatial/lib/python3.9/site-packages/ee/_cloud_api_utils.py:62\u001b[0m, in \u001b[0;36m_Http.request\u001b[0;34m(***failed resolving arguments***)\u001b[0m\n\u001b[1;32m     60\u001b[0m \u001b[39mwith\u001b[39;00m requests\u001b[39m.\u001b[39mSession() \u001b[39mas\u001b[39;00m session:\n\u001b[1;32m     61\u001b[0m   session\u001b[39m.\u001b[39mmax_redirects \u001b[39m=\u001b[39m redirections\n\u001b[0;32m---> 62\u001b[0m   response \u001b[39m=\u001b[39m session\u001b[39m.\u001b[39;49mrequest(\n\u001b[1;32m     63\u001b[0m       method, uri, data\u001b[39m=\u001b[39;49mbody, headers\u001b[39m=\u001b[39;49mheaders, timeout\u001b[39m=\u001b[39;49m\u001b[39mself\u001b[39;49m\u001b[39m.\u001b[39;49m_timeout)\n\u001b[1;32m     64\u001b[0m   headers \u001b[39m=\u001b[39m \u001b[39mdict\u001b[39m(response\u001b[39m.\u001b[39mheaders)\n\u001b[1;32m     65\u001b[0m   headers[\u001b[39m'\u001b[39m\u001b[39mstatus\u001b[39m\u001b[39m'\u001b[39m] \u001b[39m=\u001b[39m response\u001b[39m.\u001b[39mstatus_code\n",
                        "File \u001b[0;32m~/miniforge3/envs/spatial/lib/python3.9/site-packages/requests/sessions.py:587\u001b[0m, in \u001b[0;36mSession.request\u001b[0;34m(self, method, url, params, data, headers, cookies, files, auth, timeout, allow_redirects, proxies, hooks, stream, verify, cert, json)\u001b[0m\n\u001b[1;32m    582\u001b[0m send_kwargs \u001b[39m=\u001b[39m {\n\u001b[1;32m    583\u001b[0m     \u001b[39m\"\u001b[39m\u001b[39mtimeout\u001b[39m\u001b[39m\"\u001b[39m: timeout,\n\u001b[1;32m    584\u001b[0m     \u001b[39m\"\u001b[39m\u001b[39mallow_redirects\u001b[39m\u001b[39m\"\u001b[39m: allow_redirects,\n\u001b[1;32m    585\u001b[0m }\n\u001b[1;32m    586\u001b[0m send_kwargs\u001b[39m.\u001b[39mupdate(settings)\n\u001b[0;32m--> 587\u001b[0m resp \u001b[39m=\u001b[39m \u001b[39mself\u001b[39;49m\u001b[39m.\u001b[39;49msend(prep, \u001b[39m*\u001b[39;49m\u001b[39m*\u001b[39;49msend_kwargs)\n\u001b[1;32m    589\u001b[0m \u001b[39mreturn\u001b[39;00m resp\n",
                        "File \u001b[0;32m~/miniforge3/envs/spatial/lib/python3.9/site-packages/requests/sessions.py:701\u001b[0m, in \u001b[0;36mSession.send\u001b[0;34m(self, request, **kwargs)\u001b[0m\n\u001b[1;32m    698\u001b[0m start \u001b[39m=\u001b[39m preferred_clock()\n\u001b[1;32m    700\u001b[0m \u001b[39m# Send the request\u001b[39;00m\n\u001b[0;32m--> 701\u001b[0m r \u001b[39m=\u001b[39m adapter\u001b[39m.\u001b[39;49msend(request, \u001b[39m*\u001b[39;49m\u001b[39m*\u001b[39;49mkwargs)\n\u001b[1;32m    703\u001b[0m \u001b[39m# Total elapsed time of the request (approximately)\u001b[39;00m\n\u001b[1;32m    704\u001b[0m elapsed \u001b[39m=\u001b[39m preferred_clock() \u001b[39m-\u001b[39m start\n",
                        "File \u001b[0;32m~/miniforge3/envs/spatial/lib/python3.9/site-packages/requests/adapters.py:547\u001b[0m, in \u001b[0;36mHTTPAdapter.send\u001b[0;34m(self, request, stream, timeout, verify, cert, proxies)\u001b[0m\n\u001b[1;32m    544\u001b[0m             \u001b[39mraise\u001b[39;00m\n\u001b[1;32m    546\u001b[0m \u001b[39mexcept\u001b[39;00m (ProtocolError, \u001b[39mOSError\u001b[39;00m) \u001b[39mas\u001b[39;00m err:\n\u001b[0;32m--> 547\u001b[0m     \u001b[39mraise\u001b[39;00m \u001b[39mConnectionError\u001b[39;00m(err, request\u001b[39m=\u001b[39mrequest)\n\u001b[1;32m    549\u001b[0m \u001b[39mexcept\u001b[39;00m MaxRetryError \u001b[39mas\u001b[39;00m e:\n\u001b[1;32m    550\u001b[0m     \u001b[39mif\u001b[39;00m \u001b[39misinstance\u001b[39m(e\u001b[39m.\u001b[39mreason, ConnectTimeoutError):\n\u001b[1;32m    551\u001b[0m         \u001b[39m# TODO: Remove this in 3.0.0: see #2811\u001b[39;00m\n",
                        "\u001b[0;31mConnectionError\u001b[0m: ('Connection aborted.', ConnectionResetError(54, 'Connection reset by peer'))"
                    ]
                }
            ],
            "source": [
                "geemap.download_ee_image_tiles(\n",
                "    baseM, grid4, '../data/patches/', prefix=\"s2_\", scale=10\n",
                ")"
            ]
        }
    ],
    "metadata": {
        "kernelspec": {
            "display_name": "Python 3",
            "language": "python",
            "name": "python3"
        },
        "language_info": {
            "codemirror_mode": {
                "name": "ipython",
                "version": 3
            },
            "file_extension": ".py",
            "mimetype": "text/x-python",
            "name": "python",
            "nbconvert_exporter": "python",
            "pygments_lexer": "ipython3",
            "version": "3.9.13"
        }
    },
    "nbformat": 4,
    "nbformat_minor": 5
}
