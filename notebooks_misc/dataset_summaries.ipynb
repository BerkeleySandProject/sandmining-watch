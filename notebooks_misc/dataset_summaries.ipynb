{
 "cells": [
  {
   "cell_type": "code",
   "execution_count": 1,
   "id": "827ede6a-cec2-4306-b462-430933a476f9",
   "metadata": {
    "tags": []
   },
   "outputs": [],
   "source": [
    "import sys\n",
    "import os\n",
    "from typing import List\n",
    "from pprint import pprint\n",
    "sys.path.insert(0, os.path.abspath('..'))\n",
    "\n",
    "%load_ext autoreload\n",
    "%autoreload 2"
   ]
  },
  {
   "cell_type": "code",
   "execution_count": null,
   "id": "1509766c",
   "metadata": {},
   "outputs": [],
   "source": [
    "from google.cloud import storage\n",
    "from project_config import GCP_PROJECT_NAME\n",
    "\n",
    "gcp_client = storage.Client(project=GCP_PROJECT_NAME)"
   ]
  },
  {
   "cell_type": "code",
   "execution_count": 3,
   "id": "16b2eae2",
   "metadata": {},
   "outputs": [],
   "source": [
    "from utils.schemas import ObservationPointer\n",
    "from rastervision.core.data import RasterioSource\n",
    "from utils.data_management import observation_factory"
   ]
  },
  {
   "cell_type": "markdown",
   "id": "6b2c68ac",
   "metadata": {},
   "source": [
    "## Mean and Std of S1 images"
   ]
  },
  {
   "cell_type": "code",
   "execution_count": null,
   "id": "b147e3da",
   "metadata": {},
   "outputs": [],
   "source": [
    "import numpy as np\n",
    "from rastervision.core.data.raster_transformer.nan_transformer import NanTransformer\n",
    "\n",
    "all_observations: List[ObservationPointer] = list(observation_factory(gcp_client))\n",
    "\n",
    "all_vv_raveled = []\n",
    "all_vh_raveled = []\n",
    "for observation in all_observations:\n",
    "    raster_source = RasterioSource(\n",
    "        observation.uri_to_s1,\n",
    "        raster_transformers=[NanTransformer()]  # replaces NaNs with 0\n",
    "    )\n",
    "\n",
    "    vv_img = raster_source.get_image_array()[:,:,0]\n",
    "    vh_img = raster_source.get_image_array()[:,:,1]\n",
    "    all_vv_raveled.append(vv_img.ravel())\n",
    "    all_vh_raveled.append(vh_img.ravel())\n",
    "    \n",
    "all_vv = np.hstack(all_vv_raveled)\n",
    "all_vh = np.hstack(all_vh_raveled)\n"
   ]
  },
  {
   "cell_type": "code",
   "execution_count": 5,
   "id": "144af347",
   "metadata": {},
   "outputs": [
    {
     "name": "stdout",
     "output_type": "stream",
     "text": [
      "VV: Mean = -11.950798465937643, Std = 3.319216134000598\n",
      "VH: Mean = -18.939975061395252, Std = 3.840950717746793\n"
     ]
    }
   ],
   "source": [
    "print(f\"VV: Mean = {np.mean(all_vv)}, Std = {np.std(all_vv)}\")\n",
    "print(f\"VH: Mean = {np.mean(all_vh)}, Std = {np.std(all_vh)}\")"
   ]
  },
  {
   "cell_type": "markdown",
   "id": "19f2555d",
   "metadata": {},
   "source": [
    "## Area of observations"
   ]
  },
  {
   "cell_type": "code",
   "execution_count": null,
   "id": "e74764e7",
   "metadata": {},
   "outputs": [],
   "source": [
    "from utils.data_management import get_location_from_key\n",
    "\n",
    "dataset_summary = {}\n",
    "\n",
    "all_observations: List[ObservationPointer] = list(observation_factory(gcp_client))\n",
    "observations_per_locations = {}\n",
    "for observation in all_observations:\n",
    "    location = get_location_from_key(observation.name)\n",
    "    if location in observations_per_locations:\n",
    "        observations_per_locations[location].append(observation)\n",
    "    else:\n",
    "        observations_per_locations[location] = [observation]\n",
    "\n",
    "for location, observation_list in observations_per_locations.items():\n",
    "    # To determine the patch size, we only look into the first observations.\n",
    "    # We expect that all observations cover the same geographical extent.\n",
    "    raster_source = RasterioSource(observation_list[0].uri_to_s2, allow_streaming=False)\n",
    "    coverage_area_km2 = raster_source.shape[0] * raster_source.shape[1] / 1e4  # Each pixel covers 100m^2\n",
    "    summary_of_location = {\n",
    "        \"Number of observations\": len(observation_list),\n",
    "        \"Patch size\": raster_source.shape[:2],\n",
    "        \"Coverage area [km^2]\": round(coverage_area_km2, 2)\n",
    "    }\n",
    "    dataset_summary[location] = summary_of_location\n",
    "\n",
    "pprint(dataset_summary)\n",
    "print(f\"Total of {len(observations_per_locations)} locations\")\n"
   ]
  }
 ],
 "metadata": {
  "kernelspec": {
   "display_name": "rastervision",
   "language": "python",
   "name": "python3"
  },
  "language_info": {
   "codemirror_mode": {
    "name": "ipython",
    "version": 3
   },
   "file_extension": ".py",
   "mimetype": "text/x-python",
   "name": "python",
   "nbconvert_exporter": "python",
   "pygments_lexer": "ipython3",
   "version": "3.9.17"
  }
 },
 "nbformat": 4,
 "nbformat_minor": 5
}
