{
 "cells": [
  {
   "cell_type": "code",
   "execution_count": 1,
   "id": "827ede6a-cec2-4306-b462-430933a476f9",
   "metadata": {
    "tags": []
   },
   "outputs": [],
   "source": [
    "import sys\n",
    "import os\n",
    "from typing import List\n",
    "from pprint import pprint\n",
    "sys.path.insert(0, os.path.abspath('..'))\n",
    "\n",
    "%load_ext autoreload\n",
    "%autoreload 2"
   ]
  },
  {
   "cell_type": "code",
   "execution_count": null,
   "id": "1509766c",
   "metadata": {},
   "outputs": [],
   "source": [
    "from google.cloud import storage\n",
    "from project_config import GCP_PROJECT_NAME\n",
    "\n",
    "gcp_client = storage.Client(project=GCP_PROJECT_NAME)"
   ]
  },
  {
   "cell_type": "code",
   "execution_count": 3,
   "id": "16b2eae2",
   "metadata": {},
   "outputs": [],
   "source": [
    "import numpy as np\n",
    "from rastervision.core.data import RasterioSource\n",
    "\n",
    "from project_config import is_training, is_validation\n",
    "from utils.schemas import ObservationPointer\n",
    "from utils.data_management import observation_factory"
   ]
  },
  {
   "cell_type": "markdown",
   "id": "3f4697a4",
   "metadata": {},
   "source": [
    "## Proportion between mine and non-mine areas"
   ]
  },
  {
   "cell_type": "code",
   "execution_count": 4,
   "id": "fbd778c1",
   "metadata": {},
   "outputs": [],
   "source": [
    "from shapely.geometry import Polygon\n",
    "import rasterio.features"
   ]
  },
  {
   "cell_type": "code",
   "execution_count": null,
   "id": "c52e4ab6",
   "metadata": {},
   "outputs": [],
   "source": [
    "\n",
    "from utils.rastervision_pipeline import observation_to_scene\n",
    "from experiment_configs.unet_fs_config import unet_orig_config as config\n",
    "\n",
    "labels_train_raveled = []\n",
    "labels_val_raveled = []\n",
    "label_in_aoi_raveled = []\n",
    "label_outside_aoi_raveled = []\n",
    "\n",
    "for observation in observation_factory(gcp_client):\n",
    "    is_train = is_training(observation.name)\n",
    "    is_val = is_validation(observation.name)\n",
    "    if not is_train and not is_val:\n",
    "        print(f\"Ignoring {observation.name}\")\n",
    "        continue\n",
    "\n",
    "    scene = observation_to_scene(config, observation)\n",
    "    label_arr = scene.label_source.get_label_arr()\n",
    "    label_arr_raveled = label_arr.ravel()\n",
    "    mask = rasterio.features.rasterize(scene.aoi_polygons, label_arr.shape)\n",
    "    mask_raveled = mask.ravel()\n",
    "\n",
    "    label_in_aoi_raveled.append(\n",
    "        label_arr_raveled[mask_raveled != 0]\n",
    "    )\n",
    "    label_outside_aoi_raveled.append(\n",
    "        label_arr_raveled[mask_raveled == 0]\n",
    "    )\n",
    "    \n",
    "    if is_train:\n",
    "        labels_train_raveled.append(label_arr_raveled)\n",
    "    else:\n",
    "        labels_val_raveled.append(label_arr_raveled)\n",
    "\n",
    "all_labels_outside_aoi = np.hstack(label_outside_aoi_raveled)\n",
    "all_labels_aoi = np.hstack(label_in_aoi_raveled)\n",
    "all_labels_train = np.hstack(labels_train_raveled)\n",
    "all_labels_val = np.hstack(labels_val_raveled)\n"
   ]
  },
  {
   "cell_type": "code",
   "execution_count": 17,
   "id": "46e7c999",
   "metadata": {},
   "outputs": [
    {
     "name": "stdout",
     "output_type": "stream",
     "text": [
      "Total dataset has 2.69%  mining area.\n",
      "Training dataset has 2.57%  mining area.\n",
      "Validation dataset has 3.41%  mining area.\n",
      "Within AOIs, total dataset has 6.07%  mining area.\n",
      "Outside AOIs, total dataset has 0.07%  mining area.\n",
      "\n",
      "The median percentage of mine in an observation is 3.19%\n",
      "The median number of mine pixels in an observation is 33214\n",
      "\n",
      "The median number pixels in an observation is 1236117\n"
     ]
    }
   ],
   "source": [
    "from project_config import CLASS_CONFIG\n",
    "\n",
    "class_mine_id = CLASS_CONFIG.get_class_id('sandmine')\n",
    "class_nonmine_id = CLASS_CONFIG.get_class_id('other')\n",
    "\n",
    "def calc_class_proportion(labels):\n",
    "    mask_mine = (labels == class_mine_id)\n",
    "    mask_nonmine = (labels == class_nonmine_id)\n",
    "\n",
    "    count_mine = np.sum(mask_mine)\n",
    "    count_nonemine = np.sum(mask_nonmine)\n",
    "    count_total = len(labels)\n",
    "\n",
    "    assert count_total == count_mine + count_nonemine\n",
    "    mine_percentage = count_mine/count_total * 100\n",
    "    nonmine_percentage = count_nonemine/count_total * 100\n",
    "    return mine_percentage, count_mine\n",
    "\n",
    "mine_percentage, _ = calc_class_proportion(np.hstack([all_labels_train, all_labels_val]))\n",
    "print(f\"Total dataset has {mine_percentage:.2f}%  mining area.\")\n",
    "\n",
    "mine_percentage, _ = calc_class_proportion(all_labels_train)\n",
    "print(f\"Training dataset has {mine_percentage:.2f}%  mining area.\")\n",
    "\n",
    "mine_percentage, _ = calc_class_proportion(all_labels_val)\n",
    "print(f\"Validation dataset has {mine_percentage:.2f}%  mining area.\")\n",
    "\n",
    "mine_percentage, _ = calc_class_proportion(all_labels_aoi)\n",
    "print(f\"Within AOIs, total dataset has {mine_percentage:.2f}%  mining area.\")\n",
    "\n",
    "mine_percentage, _ = calc_class_proportion(all_labels_outside_aoi)\n",
    "print(f\"Outside AOIs, total dataset has {mine_percentage:.2f}%  mining area.\")\n",
    "\n",
    "mine_percentage_per_observation = []\n",
    "n_mine_pixels_per_observation = []\n",
    "labels_full_dataset_raveled = [*labels_train_raveled, *labels_val_raveled]\n",
    "for labels_of_observation in labels_full_dataset_raveled:\n",
    "    mine_percentage_this_observation, n_mine_pixels_this_observation = calc_class_proportion(labels_of_observation)\n",
    "    mine_percentage_per_observation.append(mine_percentage_this_observation)\n",
    "    n_mine_pixels_per_observation.append(n_mine_pixels_this_observation)\n",
    "\n",
    "print()\n",
    "print(f\"The median percentage of mine in an observation is {np.mean(mine_percentage_per_observation):.2f}%\")\n",
    "print(f\"The median number of mine pixels in an observation is {np.mean(n_mine_pixels_per_observation):.0f}\")\n",
    "\n",
    "print()\n",
    "n_total_pixels_per_observations = [len(labels_single_observation) for labels_single_observation in labels_full_dataset_raveled]\n",
    "print(f\"The median number pixels in an observation is {np.mean(n_total_pixels_per_observations):.0f}\")\n"
   ]
  },
  {
   "cell_type": "markdown",
   "id": "6b2c68ac",
   "metadata": {},
   "source": [
    "## Mean and Std of S1 images"
   ]
  },
  {
   "cell_type": "code",
   "execution_count": null,
   "id": "b147e3da",
   "metadata": {},
   "outputs": [],
   "source": [
    "from rastervision.core.data.raster_transformer.nan_transformer import NanTransformer\n",
    "\n",
    "all_observations: List[ObservationPointer] = list(observation_factory(gcp_client))\n",
    "\n",
    "all_vv_raveled = []\n",
    "all_vh_raveled = []\n",
    "for observation in all_observations:\n",
    "    raster_source = RasterioSource(\n",
    "        observation.uri_to_s1,\n",
    "        raster_transformers=[NanTransformer()]  # replaces NaNs with 0\n",
    "    )\n",
    "\n",
    "    vv_img = raster_source.get_image_array()[:,:,0]\n",
    "    vh_img = raster_source.get_image_array()[:,:,1]\n",
    "    all_vv_raveled.append(vv_img.ravel())\n",
    "    all_vh_raveled.append(vh_img.ravel())\n",
    "    \n",
    "all_vv = np.hstack(all_vv_raveled)\n",
    "all_vh = np.hstack(all_vh_raveled)\n"
   ]
  },
  {
   "cell_type": "code",
   "execution_count": null,
   "id": "144af347",
   "metadata": {},
   "outputs": [],
   "source": [
    "print(f\"VV: Mean = {np.mean(all_vv)}, Std = {np.std(all_vv)}\")\n",
    "print(f\"VH: Mean = {np.mean(all_vh)}, Std = {np.std(all_vh)}\")"
   ]
  },
  {
   "cell_type": "markdown",
   "id": "19f2555d",
   "metadata": {},
   "source": [
    "## Area of observations"
   ]
  },
  {
   "cell_type": "code",
   "execution_count": null,
   "id": "e74764e7",
   "metadata": {},
   "outputs": [],
   "source": [
    "from utils.data_management import get_location_from_key\n",
    "from project_config import is_training, is_validation\n",
    "\n",
    "dataset_summary = {}\n",
    "\n",
    "observations_per_locations = {}\n",
    "for observation in observation_factory(gcp_client):\n",
    "    is_train = is_training(observation.name)\n",
    "    is_val = is_validation(observation.name)\n",
    "    if not is_train and not is_val:\n",
    "        print(f\"Ignoring {observation.name}\")\n",
    "        continue\n",
    "\n",
    "    location = get_location_from_key(observation.name)\n",
    "    if location in observations_per_locations:\n",
    "        observations_per_locations[location].append(observation)\n",
    "    else:\n",
    "        observations_per_locations[location] = [observation]\n",
    "\n",
    "total_area_km2 = 0\n",
    "training_area_km = 0\n",
    "validation_area_km = 0\n",
    "smallest_area = 9999999\n",
    "largest_area = 0\n",
    "for location, observation_list in observations_per_locations.items():\n",
    "    is_train = is_training(observation_list[0].name)\n",
    "    is_val = is_validation(observation_list[0].name)\n",
    "\n",
    "    # To determine the patch size, we only look into the first observations.\n",
    "    # We expect that all observations cover the same geographical extent.\n",
    "    raster_source = RasterioSource(observation_list[0].uri_to_s2, allow_streaming=False)\n",
    "    coverage_area_km2 = raster_source.shape[0] * raster_source.shape[1] / 1e4  # Each pixel covers 100m^2\n",
    "    summary_of_location = {\n",
    "        \"Number of observations\": len(observation_list),\n",
    "        \"Patch size\": raster_source.shape[:2],\n",
    "        \"Coverage area [km^2]\": round(coverage_area_km2, 2),\n",
    "        \"Split\": \"TRAIN\" if is_train else \"VAL\"\n",
    "    }\n",
    "    dataset_summary[location] = summary_of_location\n",
    "    \n",
    "    total_area_km2 += coverage_area_km2\n",
    "    if is_train:\n",
    "        training_area_km += coverage_area_km2\n",
    "    if is_val:\n",
    "        validation_area_km += coverage_area_km2\n",
    "\n",
    "    smallest_area = min(smallest_area, coverage_area_km2)\n",
    "    largest_area = max(largest_area, coverage_area_km2)\n",
    "\n",
    "\n",
    "pprint(dataset_summary)\n",
    "print(f\"Total of {len(observations_per_locations)} locations\")\n",
    "print(f\"Total area is {total_area_km2} km2\")\n",
    "print(f\"Training area is {training_area_km} km2\")\n",
    "print(f\"Validation area is {validation_area_km} km2\")\n",
    "print(f\"Smallest location is {smallest_area} km2\")\n",
    "print(f\"Largest location is {largest_area} km2\")\n"
   ]
  },
  {
   "cell_type": "code",
   "execution_count": null,
   "id": "5d97ceb7",
   "metadata": {},
   "outputs": [],
   "source": []
  }
 ],
 "metadata": {
  "kernelspec": {
   "display_name": "rastervision",
   "language": "python",
   "name": "python3"
  },
  "language_info": {
   "codemirror_mode": {
    "name": "ipython",
    "version": 3
   },
   "file_extension": ".py",
   "mimetype": "text/x-python",
   "name": "python",
   "nbconvert_exporter": "python",
   "pygments_lexer": "ipython3",
   "version": "3.9.17"
  }
 },
 "nbformat": 4,
 "nbformat_minor": 5
}
