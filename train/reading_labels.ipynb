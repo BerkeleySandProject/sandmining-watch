{
 "cells": [
  {
   "cell_type": "code",
   "execution_count": 1,
   "id": "30713e09",
   "metadata": {},
   "outputs": [],
   "source": [
    "import sys\n",
    "import os\n",
    "sys.path.insert(0, os.path.abspath('..'))\n",
    "\n",
    "%load_ext autoreload\n",
    "%autoreload 2"
   ]
  },
  {
   "cell_type": "markdown",
   "id": "338c4680-c0d0-4bbe-a6aa-3d487350e62c",
   "metadata": {
    "nbsphinx": "hidden",
    "tags": []
   },
   "source": [
    "> 🚨 **WARNING** 🚨\n",
    ">\n",
    "> Many cells in this notebook will not show up when viewed on GitHub. Please view the HTML version of this notebook in the [docs](https://docs.rastervision.io/en/latest/usage/tutorials/index.html)."
   ]
  },
  {
   "cell_type": "markdown",
   "id": "74f31db2",
   "metadata": {},
   "source": [
    "# Reading labels"
   ]
  },
  {
   "cell_type": "markdown",
   "id": "4431879d-e81d-4994-b55a-e35392d3387b",
   "metadata": {
    "tags": []
   },
   "source": [
    "## `ClassConfig`"
   ]
  },
  {
   "cell_type": "markdown",
   "id": "c9bb2d1e-bda0-4f3d-b7a6-e9362ba43878",
   "metadata": {},
   "source": [
    "Before we can work with labels, we first want to define what our target classes are -- their names, their IDs, and possibly, their colors (to use for visualization)."
   ]
  },
  {
   "cell_type": "markdown",
   "id": "a68160d7-e2ba-4da2-8925-8a0b565865fc",
   "metadata": {
    "raw_mimetype": "text/restructuredtext",
    "tags": []
   },
   "source": [
    ".. currentmodule:: rastervision.core.data\n",
    "\n",
    "Raster Vision makes all this simple to do using the handy :class:`.ClassConfig` class."
   ]
  },
  {
   "cell_type": "code",
   "execution_count": 2,
   "id": "f91a5612-984e-4ba5-9137-fb7d810cf571",
   "metadata": {},
   "outputs": [
    {
     "name": "stderr",
     "output_type": "stream",
     "text": [
      "2023-10-20 17:40:29:rastervision.pipeline.rv_config: WARNING - Root temporary directory cannot be used: /data/tmp. Using root: /data/tmp/tmp8kz_29ur\n"
     ]
    },
    {
     "data": {
      "text/plain": [
       "ClassConfig(names=['background', 'foreground'], colors=[(245, 187, 82), (217, 126, 133)], null_class=None)"
      ]
     },
     "execution_count": 2,
     "metadata": {},
     "output_type": "execute_result"
    }
   ],
   "source": [
    "from rastervision.core.data import ClassConfig\n",
    "\n",
    "class_config = ClassConfig(names=['background', 'foreground'])\n",
    "class_config"
   ]
  },
  {
   "cell_type": "markdown",
   "id": "a06bb9e2-c44c-4e7b-a499-898e305e349d",
   "metadata": {},
   "source": [
    "(Note how a unique color was generated for each class.)"
   ]
  },
  {
   "cell_type": "markdown",
   "id": "aaf7c95f-ccc7-4b84-9a7c-d96ae25142c1",
   "metadata": {
    "raw_mimetype": "text/restructuredtext",
    "tags": []
   },
   "source": [
    "The numeric ID of each class is its index in the :attr:`~class_config.ClassConfig.names` list."
   ]
  },
  {
   "cell_type": "markdown",
   "id": "c1d973a4-1da7-4a06-ba64-0bf4f670c17e",
   "metadata": {},
   "source": [
    "We can query the ID of a class like so:"
   ]
  },
  {
   "cell_type": "code",
   "execution_count": 3,
   "id": "d1cac4ec-fcae-4f61-9b24-3c21eeb9dc2a",
   "metadata": {},
   "outputs": [
    {
     "name": "stdout",
     "output_type": "stream",
     "text": [
      "background 0\n",
      "foreground 1\n"
     ]
    }
   ],
   "source": [
    "print('background', class_config.get_class_id('background'))\n",
    "print('foreground', class_config.get_class_id('foreground'))"
   ]
  },
  {
   "cell_type": "markdown",
   "id": "7dc30f62-f3c8-4a84-b6cc-2906153f1d2f",
   "metadata": {},
   "source": [
    "In the example above, `ClassConfig` automatically generated a color for each class. We could have instead manually specified them. The colors can be any color-string recognized by `PIL`."
   ]
  },
  {
   "cell_type": "code",
   "execution_count": 4,
   "id": "a190d59f-78a7-45f3-9991-c560d340033f",
   "metadata": {},
   "outputs": [
    {
     "data": {
      "text/plain": [
       "ClassConfig(names=['background', 'foreground'], colors=['lightgray', 'darkred'], null_class=None)"
      ]
     },
     "execution_count": 4,
     "metadata": {},
     "output_type": "execute_result"
    }
   ],
   "source": [
    "class_config = ClassConfig(\n",
    "    names=['background', 'foreground'],\n",
    "    colors=['lightgray', 'darkred'])\n",
    "class_config"
   ]
  },
  {
   "cell_type": "markdown",
   "id": "516763e2-0039-4468-9710-4c7b9171db14",
   "metadata": {},
   "source": [
    "---"
   ]
  },
  {
   "cell_type": "markdown",
   "id": "c2075e50-e74f-4849-af2a-b11bde488c9d",
   "metadata": {},
   "source": [
    "### The \"null\" class"
   ]
  },
  {
   "cell_type": "markdown",
   "id": "41d3d6ac-7a02-456d-b23d-4811d9cba0fe",
   "metadata": {},
   "source": [
    "Geospatial rasters can have `NODATA` pixels. This is relevant for semantic segmentation where you need to assign a label to every pixel.\n",
    "\n",
    "You may either want to assign them a class of their own or consider them a part of a catch-all \"background\" class.\n",
    "\n",
    "`ClassConfig`'s name for this class is the \"null class\". Below are some ways that you can define it."
   ]
  },
  {
   "cell_type": "markdown",
   "id": "ada53367-a37b-48d1-a409-20abd25bea2a",
   "metadata": {},
   "source": [
    "1. Designate one class as the \"null\" class."
   ]
  },
  {
   "cell_type": "code",
   "execution_count": 5,
   "id": "39c11d63-2181-45d7-8ec2-7375faf09366",
   "metadata": {},
   "outputs": [
    {
     "data": {
      "text/plain": [
       "ClassConfig(names=['background', 'foreground'], colors=[(33, 182, 204), (204, 247, 82)], null_class='background')"
      ]
     },
     "execution_count": 5,
     "metadata": {},
     "output_type": "execute_result"
    }
   ],
   "source": [
    "class_config = ClassConfig(names=['background', 'foreground'], null_class='background')\n",
    "class_config"
   ]
  },
  {
   "cell_type": "markdown",
   "id": "af8c248c-c0f2-4b35-bb3e-830072f5199b",
   "metadata": {},
   "source": [
    "2. Specify a class called \"null\"."
   ]
  },
  {
   "cell_type": "code",
   "execution_count": 6,
   "id": "22d7fd9f-0d6d-4909-9b13-647869d2b376",
   "metadata": {},
   "outputs": [
    {
     "data": {
      "text/plain": [
       "ClassConfig(names=['null', 'foreground'], colors=[(14, 230, 234), (250, 106, 200)], null_class='null')"
      ]
     },
     "execution_count": 6,
     "metadata": {},
     "output_type": "execute_result"
    }
   ],
   "source": [
    "class_config = ClassConfig(names=['null', 'foreground'])\n",
    "class_config"
   ]
  },
  {
   "cell_type": "markdown",
   "id": "c7ca357e-0cd0-4d5c-bd1a-ea09769d8d13",
   "metadata": {},
   "source": [
    "3. Call `.ensure_null_class()` to automatically add an additional \"null\" class."
   ]
  },
  {
   "cell_type": "code",
   "execution_count": 7,
   "id": "5f812ea1-01ed-4f76-bb0f-7a9e7a761f1a",
   "metadata": {},
   "outputs": [
    {
     "data": {
      "text/plain": [
       "ClassConfig(names=['background', 'foreground', 'null'], colors=[(30, 250, 201), (125, 87, 199), 'black'], null_class='null')"
      ]
     },
     "execution_count": 7,
     "metadata": {},
     "output_type": "execute_result"
    }
   ],
   "source": [
    "class_config = ClassConfig(names=['background', 'foreground'])\n",
    "class_config.ensure_null_class()\n",
    "class_config"
   ]
  },
  {
   "cell_type": "markdown",
   "id": "993c9b95-308d-4f6b-ab0d-f03eb736f269",
   "metadata": {},
   "source": [
    "---"
   ]
  },
  {
   "cell_type": "markdown",
   "id": "556304bb-5a70-42d6-a28b-e0bc72279c78",
   "metadata": {},
   "source": [
    "### Normalized colors"
   ]
  },
  {
   "cell_type": "markdown",
   "id": "be575610-a6ad-416d-8427-2b9ab0f38292",
   "metadata": {
    "raw_mimetype": "text/restructuredtext",
    "tags": []
   },
   "source": [
    "Another nifty functionality is the :attr:`~class_config.ClassConfig.color_triples` property that returns the colors in a normalized form that can be directly used with ``matplotlib``."
   ]
  },
  {
   "cell_type": "markdown",
   "id": "6982066d-15bb-4cdd-aa4a-a321fec57df4",
   "metadata": {},
   "source": [
    "The example below shows how we can easily create a color-map from our class colors."
   ]
  },
  {
   "cell_type": "code",
   "execution_count": 8,
   "id": "2c9b31c5-48fe-4246-8b4b-1111d70f7203",
   "metadata": {},
   "outputs": [
    {
     "data": {
      "image/png": "[encoded data removed]",
      "text/html": [
       "<div style=\"vertical-align: middle;\"><strong>from_list</strong> </div><div class=\"cmap\"><img alt=\"from_list colormap\" title=\"from_list\" style=\"border: 1px solid #555;\" src=\"data:image/png;base64,iVBORw0KGgoAAAANSUhEUgAAAgAAAABACAYAAABsv8+/AAAAGHRFWHRUaXRsZQBmcm9tX2xpc3QgY29sb3JtYXBDL89FAAAAHnRFWHREZXNjcmlwdGlvbgBmcm9tX2xpc3QgY29sb3JtYXABtCnOAAAAMHRFWHRBdXRob3IATWF0cGxvdGxpYiB2My42LjEsIGh0dHBzOi8vbWF0cGxvdGxpYi5vcmdEI+MMAAAAMnRFWHRTb2Z0d2FyZQBNYXRwbG90bGliIHYzLjYuMSwgaHR0cHM6Ly9tYXRwbG90bGliLm9yZ2qFfCsAAAFaSURBVHic7daxrQFQAEBRtL9WmkBjib+CUiV2sYNEaRa9MZiBJcRL3j1nglve5WF7fy/4uv1jNzphOrfLa3TCdP6u59EJ09n8H0cnTGf9PI1OmNJqdAAA8HsGAACCDAAABBkAAAgyAAAQZAAAIMgAAECQAQCAIAMAAEEGAACCDAAABBkAAAgyAAAQZAAAIMgAAECQAQCAIAMAAEEGAACCDAAABBkAAAgyAAAQZAAAIMgAAECQAQCAIAMAAEEGAACCDAAABBkAAAgyAAAQZAAAIMgAAECQAQCAIAMAAEEGAACCDAAABBkAAAgyAAAQZAAAIMgAAECQAQCAIAMAAEEGAACCDAAABBkAAAgyAAAQZAAAIMgAAECQAQCAIAMAAEEGAACCDAAABBkAAAgyAAAQZAAAIMgAAECQAQCAIAMAAEEGAACCDAAABBkAAAgyAAAQZAAAIMgAAEDQB3paCbt3ZhurAAAAAElFTkSuQmCC\"></div><div style=\"vertical-align: middle; max-width: 514px; display: flex; justify-content: space-between;\"><div style=\"float: left;\"><div title=\"#5e2bc9ff\" style=\"display: inline-block; width: 1em; height: 1em; margin: 0; vertical-align: middle; border: 1px solid #555; background-color: #5e2bc9ff;\"></div> under</div><div style=\"margin: 0 auto; display: inline-block;\">bad <div title=\"#00000000\" style=\"display: inline-block; width: 1em; height: 1em; margin: 0; vertical-align: middle; border: 1px solid #555; background-color: #00000000;\"></div></div><div style=\"float: right;\">over <div title=\"#986b39ff\" style=\"display: inline-block; width: 1em; height: 1em; margin: 0; vertical-align: middle; border: 1px solid #555; background-color: #986b39ff;\"></div></div>"
      ],
      "text/plain": [
       "<matplotlib.colors.ListedColormap at 0x7f8f1f3a0cd0>"
      ]
     },
     "execution_count": 8,
     "metadata": {},
     "output_type": "execute_result"
    }
   ],
   "source": [
    "from matplotlib.colors import ListedColormap\n",
    "\n",
    "class_config = ClassConfig(names=['a', 'b', 'c', 'd', 'e', 'f'])\n",
    "cmap = ListedColormap(class_config.color_triples)\n",
    "cmap"
   ]
  },
  {
   "cell_type": "markdown",
   "id": "b85471a1-9d3b-4ea8-b9ac-edb4ab3e8e84",
   "metadata": {},
   "source": [
    "<hr style=\"border:2px solid gray\">"
   ]
  },
  {
   "cell_type": "markdown",
   "id": "72f4dc30-530d-42a7-a54f-fb9009575de7",
   "metadata": {
    "tags": []
   },
   "source": [
    "## `LabelSource`"
   ]
  },
  {
   "cell_type": "markdown",
   "id": "532dc6a7-5a16-4632-9cc6-46404c822761",
   "metadata": {
    "raw_mimetype": "text/restructuredtext",
    "tags": []
   },
   "source": [
    ".. currentmodule:: rastervision.core.data.label_source\n",
    "\n",
    "While `RasterSources <reading_raster_data.ipynb>`_ and `VectorSources <reading_vector_data.ipynb>`_ allow us to read raw data, the :class:`LabelSources <label_source.LabelSource>` take this data and convert them into a form suitable for machine learning.\n",
    "\n",
    "We have 3 kinds of pre-defined :class:`LabelSources <label_source.LabelSource>` -- one for each of the 3 main computer vision tasks: semantic segmentation, object detection, and chip classification."
   ]
  },
  {
   "cell_type": "markdown",
   "id": "9c29ecf5-d1bf-4128-8626-437627450eed",
   "metadata": {},
   "source": [
    "---"
   ]
  },
  {
   "cell_type": "markdown",
   "id": "2a280f83-5780-441b-af5b-43beeaba7c88",
   "metadata": {
    "jp-MarkdownHeadingCollapsed": true,
    "tags": []
   },
   "source": [
    "### Semantic Segmentation - `SemanticSegmentationLabelSource`"
   ]
  },
  {
   "cell_type": "markdown",
   "id": "42385eeb-1ac9-497b-bd31-a514a7bae055",
   "metadata": {
    "raw_mimetype": "text/restructuredtext",
    "tags": []
   },
   "source": [
    ":class:`.SemanticSegmentationLabelSource` is perhaps the simplest of `LabelSources`. Since semantic segmentation labels are rasters themselves, :class:`.SemanticSegmentationLabelSource` takes in a :class:`.RasterSource` and allows querying chips from it using array-indexing or :class:`Box's <rastervision.core.box.Box>`."
   ]
  },
  {
   "cell_type": "markdown",
   "id": "d9e5cab5-2d59-4903-99e0-faebc86d82da",
   "metadata": {},
   "source": [
    "The main added service it provides is ensuring that if a chip overflows the extent, the overflowing pixels are assigned the ID of the \"null class\"."
   ]
  },
  {
   "cell_type": "markdown",
   "id": "fb324a1a-e8d1-4d28-ae26-9f0cf7c82276",
   "metadata": {},
   "source": [
    "---"
   ]
  },
  {
   "cell_type": "markdown",
   "id": "a1ebf08e-66b9-434c-8e75-0413cd342443",
   "metadata": {},
   "source": [
    "The example below shows how to create a `SemanticSegmentationLabelSource` from rasterized vector labels."
   ]
  },
  {
   "cell_type": "code",
   "execution_count": 9,
   "id": "4a16fd3a-5c4d-4521-9226-8a10d4b8a2c5",
   "metadata": {},
   "outputs": [],
   "source": [
    "import os\n",
    "from subprocess import check_output\n",
    "\n",
    "os.environ['GDAL_DATA'] = check_output('pip show rasterio | grep Location | awk \\'{print $NF\"/rasterio/gdal_data/\"}\\'', shell=True).decode().strip()\n",
    "os.environ['AWS_NO_SIGN_REQUEST'] = 'YES'"
   ]
  },
  {
   "cell_type": "code",
   "execution_count": 10,
   "id": "84eb5e49-2a36-46f8-8b12-62fc47466f90",
   "metadata": {},
   "outputs": [],
   "source": [
    "# img_uri = 's3://azavea-research-public-data/raster-vision/examples/spacenet/RGB-PanSharpen_AOI_2_Vegas_img205.tif'\n",
    "# label_uri = 's3://azavea-research-public-data/raster-vision/examples/spacenet/buildings_AOI_2_Vegas_img205.geojson'\n",
    "img_uri = 'RGB-PanSharpen_AOI_2_Vegas_img205.tif'\n",
    "label_uri = 'buildings_AOI_2_Vegas_img205_3.geojson'"
   ]
  },
  {
   "cell_type": "markdown",
   "id": "1b534765-48b4-4dbf-bada-5083fa19b8b0",
   "metadata": {},
   "source": [
    "Define `ClassConfig`:"
   ]
  },
  {
   "cell_type": "code",
   "execution_count": 11,
   "id": "00154f7b",
   "metadata": {},
   "outputs": [
    {
     "data": {
      "text/html": [
       "<div>\n",
       "<style scoped>\n",
       "    .dataframe tbody tr th:only-of-type {\n",
       "        vertical-align: middle;\n",
       "    }\n",
       "\n",
       "    .dataframe tbody tr th {\n",
       "        vertical-align: top;\n",
       "    }\n",
       "\n",
       "    .dataframe thead th {\n",
       "        text-align: right;\n",
       "    }\n",
       "</style>\n",
       "<table border=\"1\" class=\"dataframe\">\n",
       "  <thead>\n",
       "    <tr style=\"text-align: right;\">\n",
       "      <th></th>\n",
       "      <th>class_id</th>\n",
       "      <th>FID_VEGAS_</th>\n",
       "      <th>Id</th>\n",
       "      <th>FID_Vegas</th>\n",
       "      <th>Name</th>\n",
       "      <th>AREA</th>\n",
       "      <th>Shape_Leng</th>\n",
       "      <th>Shape_Le_1</th>\n",
       "      <th>SISL</th>\n",
       "      <th>OBJECTID_1</th>\n",
       "      <th>Shape_Le_2</th>\n",
       "      <th>Shape_Le_3</th>\n",
       "      <th>Shape_Area</th>\n",
       "      <th>partialBuilding</th>\n",
       "      <th>partialDec</th>\n",
       "      <th>geometry</th>\n",
       "    </tr>\n",
       "  </thead>\n",
       "  <tbody>\n",
       "    <tr>\n",
       "      <th>0</th>\n",
       "      <td>1.5</td>\n",
       "      <td>0</td>\n",
       "      <td>0</td>\n",
       "      <td>0</td>\n",
       "      <td>None</td>\n",
       "      <td>0.0</td>\n",
       "      <td>0.0</td>\n",
       "      <td>0.0</td>\n",
       "      <td>0.0</td>\n",
       "      <td>0</td>\n",
       "      <td>0.0</td>\n",
       "      <td>0.000625</td>\n",
       "      <td>0.0</td>\n",
       "      <td>0.0</td>\n",
       "      <td>1.0</td>\n",
       "      <td>POLYGON Z ((-115.30076 36.19516 0.00000, -115....</td>\n",
       "    </tr>\n",
       "    <tr>\n",
       "      <th>1</th>\n",
       "      <td>1.0</td>\n",
       "      <td>0</td>\n",
       "      <td>0</td>\n",
       "      <td>0</td>\n",
       "      <td>None</td>\n",
       "      <td>0.0</td>\n",
       "      <td>0.0</td>\n",
       "      <td>0.0</td>\n",
       "      <td>0.0</td>\n",
       "      <td>0</td>\n",
       "      <td>0.0</td>\n",
       "      <td>0.000658</td>\n",
       "      <td>0.0</td>\n",
       "      <td>0.0</td>\n",
       "      <td>1.0</td>\n",
       "      <td>POLYGON Z ((-115.30074 36.19530 0.00000, -115....</td>\n",
       "    </tr>\n",
       "    <tr>\n",
       "      <th>2</th>\n",
       "      <td>1.0</td>\n",
       "      <td>0</td>\n",
       "      <td>0</td>\n",
       "      <td>0</td>\n",
       "      <td>None</td>\n",
       "      <td>0.0</td>\n",
       "      <td>0.0</td>\n",
       "      <td>0.0</td>\n",
       "      <td>0.0</td>\n",
       "      <td>0</td>\n",
       "      <td>0.0</td>\n",
       "      <td>0.000627</td>\n",
       "      <td>0.0</td>\n",
       "      <td>0.0</td>\n",
       "      <td>1.0</td>\n",
       "      <td>POLYGON Z ((-115.30076 36.19548 0.00000, -115....</td>\n",
       "    </tr>\n",
       "    <tr>\n",
       "      <th>3</th>\n",
       "      <td>1.5</td>\n",
       "      <td>0</td>\n",
       "      <td>0</td>\n",
       "      <td>0</td>\n",
       "      <td>None</td>\n",
       "      <td>0.0</td>\n",
       "      <td>0.0</td>\n",
       "      <td>0.0</td>\n",
       "      <td>0.0</td>\n",
       "      <td>0</td>\n",
       "      <td>0.0</td>\n",
       "      <td>0.000744</td>\n",
       "      <td>0.0</td>\n",
       "      <td>0.0</td>\n",
       "      <td>1.0</td>\n",
       "      <td>POLYGON Z ((-115.30076 36.19573 0.00000, -115....</td>\n",
       "    </tr>\n",
       "    <tr>\n",
       "      <th>4</th>\n",
       "      <td>1.5</td>\n",
       "      <td>0</td>\n",
       "      <td>0</td>\n",
       "      <td>0</td>\n",
       "      <td>None</td>\n",
       "      <td>0.0</td>\n",
       "      <td>0.0</td>\n",
       "      <td>0.0</td>\n",
       "      <td>0.0</td>\n",
       "      <td>0</td>\n",
       "      <td>0.0</td>\n",
       "      <td>0.000634</td>\n",
       "      <td>0.0</td>\n",
       "      <td>0.0</td>\n",
       "      <td>1.0</td>\n",
       "      <td>POLYGON Z ((-115.30081 36.19589 0.00000, -115....</td>\n",
       "    </tr>\n",
       "  </tbody>\n",
       "</table>\n",
       "</div>"
      ],
      "text/plain": [
       "   class_id  FID_VEGAS_  Id  FID_Vegas  Name  AREA  Shape_Leng  Shape_Le_1  \\\n",
       "0       1.5           0   0          0  None   0.0         0.0         0.0   \n",
       "1       1.0           0   0          0  None   0.0         0.0         0.0   \n",
       "2       1.0           0   0          0  None   0.0         0.0         0.0   \n",
       "3       1.5           0   0          0  None   0.0         0.0         0.0   \n",
       "4       1.5           0   0          0  None   0.0         0.0         0.0   \n",
       "\n",
       "   SISL  OBJECTID_1  Shape_Le_2  Shape_Le_3  Shape_Area  partialBuilding  \\\n",
       "0   0.0           0         0.0    0.000625         0.0              0.0   \n",
       "1   0.0           0         0.0    0.000658         0.0              0.0   \n",
       "2   0.0           0         0.0    0.000627         0.0              0.0   \n",
       "3   0.0           0         0.0    0.000744         0.0              0.0   \n",
       "4   0.0           0         0.0    0.000634         0.0              0.0   \n",
       "\n",
       "   partialDec                                           geometry  \n",
       "0         1.0  POLYGON Z ((-115.30076 36.19516 0.00000, -115....  \n",
       "1         1.0  POLYGON Z ((-115.30074 36.19530 0.00000, -115....  \n",
       "2         1.0  POLYGON Z ((-115.30076 36.19548 0.00000, -115....  \n",
       "3         1.0  POLYGON Z ((-115.30076 36.19573 0.00000, -115....  \n",
       "4         1.0  POLYGON Z ((-115.30081 36.19589 0.00000, -115....  "
      ]
     },
     "execution_count": 11,
     "metadata": {},
     "output_type": "execute_result"
    }
   ],
   "source": [
    "# read the geojson file in label_uri to a geopandas dataframe\n",
    "import geopandas as gpd\n",
    "labelsxx = gpd.read_file(label_uri)\n",
    "labelsxx.head()"
   ]
  },
  {
   "cell_type": "code",
   "execution_count": 12,
   "id": "5427d18b-3090-4898-a64a-3406eb21ec4a",
   "metadata": {},
   "outputs": [],
   "source": [
    "from rastervision.core.data import ClassConfig\n",
    "\n",
    "class_config = ClassConfig(\n",
    "    names=['background', 'building','test'], \n",
    "    colors=['lightgray', 'darkred', 'green'],\n",
    "    null_class='background')"
   ]
  },
  {
   "cell_type": "markdown",
   "id": "a7d76d20-12b5-46d8-82cb-58afed008eab",
   "metadata": {
    "raw_mimetype": "text/restructuredtext",
    "tags": []
   },
   "source": [
    ".. currentmodule:: rastervision.core.data\n",
    "\n",
    "Create\n",
    "\n",
    "- a :class:`.RasterSource` to get the image extent and a :class:`~crs_transformer.crs_transformer.CRSTransformer`\n",
    "- a :class:`.VectorSource` to read the vector labels\n",
    "- a :class:`.RasterizedSource` to rasterize the :class:`.VectorSource`"
   ]
  },
  {
   "cell_type": "code",
   "execution_count": 13,
   "id": "905c80ba-c770-4916-af23-b01e1f37fbac",
   "metadata": {
    "tags": []
   },
   "outputs": [
    {
     "name": "stderr",
     "output_type": "stream",
     "text": [
      "2023-10-20 17:40:34:rastervision.core.data.raster_source.rasterio_source: WARNING - Raster block size (2, 650) is too non-square. This can slow down reading. Consider re-tiling using GDAL.\n"
     ]
    }
   ],
   "source": [
    "from rastervision.core.data import (\n",
    "    ClassInferenceTransformer, GeoJSONVectorSource,\n",
    "    RasterioSource, RasterizedSource)\n",
    "\n",
    "from utils.rastervision_pipeline import RasterizedSourceProbability\n",
    "\n",
    "img_raster_source = RasterioSource(img_uri, allow_streaming=True)\n",
    "\n",
    "vector_source = GeoJSONVectorSource(\n",
    "    label_uri,\n",
    "    img_raster_source.crs_transformer,\n",
    "    ignore_crs_field=True,\n",
    "    vector_transformers=[\n",
    "        ClassInferenceTransformer(\n",
    "            default_class_id=class_config.get_class_id('building'))])\n",
    "\n",
    "label_raster_source = RasterizedSourceProbability(\n",
    "    vector_source,\n",
    "    background_class_id=class_config.null_class_id,\n",
    "    extent=img_raster_source.extent)\n",
    "\n",
    "# label_raster_source = RasterizedSource(\n",
    "#     vector_source,\n",
    "#     background_class_id=class_config.null_class_id,\n",
    "#     extent=img_raster_source.extent)"
   ]
  },
  {
   "cell_type": "markdown",
   "id": "b0b04ea2-b13c-4acc-9b85-5db6ab4ffa08",
   "metadata": {},
   "source": [
    "Create a `SemanticSegmentationLabelSource` from the `RasterizedSource`."
   ]
  },
  {
   "cell_type": "code",
   "execution_count": 14,
   "id": "ab6b0f7d-bc60-4faa-8bf0-0ae9bfc8ebba",
   "metadata": {},
   "outputs": [],
   "source": [
    "from rastervision.core.data import SemanticSegmentationLabelSource\n",
    "\n",
    "label_source = SemanticSegmentationLabelSource(\n",
    "    label_raster_source, class_config=class_config)"
   ]
  },
  {
   "cell_type": "markdown",
   "id": "2f3cef10-415b-4372-8801-7d82f2103bcd",
   "metadata": {},
   "source": [
    "We can sample label-chips like so:"
   ]
  },
  {
   "cell_type": "code",
   "execution_count": 15,
   "id": "ab6a50dd-9995-4fa0-97e2-ab883cd34955",
   "metadata": {},
   "outputs": [],
   "source": [
    "label_chip = label_source[:, :]"
   ]
  },
  {
   "cell_type": "code",
   "execution_count": 16,
   "id": "5fe243c3",
   "metadata": {},
   "outputs": [
    {
     "data": {
      "text/plain": [
       "<matplotlib.image.AxesImage at 0x7f8f19fe51f0>"
      ]
     },
     "execution_count": 16,
     "metadata": {},
     "output_type": "execute_result"
    },
    {
     "data": {
      "image/png": "[encoded data removed]",
      "text/plain": [
       "<Figure size 640x480 with 2 Axes>"
      ]
     },
     "metadata": {},
     "output_type": "display_data"
    }
   ],
   "source": [
    "import skimage.io as skio\n",
    "skio.imshow(label_chip)"
   ]
  },
  {
   "cell_type": "code",
   "execution_count": 17,
   "id": "524c9245",
   "metadata": {},
   "outputs": [
    {
     "data": {
      "text/plain": [
       "array([[1., 1., 1., ..., 0., 0., 0.],\n",
       "       [1., 1., 1., ..., 0., 0., 0.],\n",
       "       [1., 1., 1., ..., 0., 0., 0.],\n",
       "       ...,\n",
       "       [0., 0., 0., ..., 0., 0., 0.],\n",
       "       [0., 0., 0., ..., 0., 0., 0.],\n",
       "       [0., 0., 0., ..., 0., 0., 0.]], dtype=float32)"
      ]
     },
     "execution_count": 17,
     "metadata": {},
     "output_type": "execute_result"
    }
   ],
   "source": [
    "label_chip"
   ]
  },
  {
   "cell_type": "code",
   "execution_count": 18,
   "id": "c5d5532b-48d2-4b9e-a7a4-774288a9563d",
   "metadata": {},
   "outputs": [
    {
     "data": {
      "image/png": "[encoded data removed]",
      "text/plain": [
       "<Figure size 500x500 with 1 Axes>"
      ]
     },
     "metadata": {},
     "output_type": "display_data"
    }
   ],
   "source": [
    "from matplotlib import pyplot as plt\n",
    "from matplotlib.colors import ListedColormap\n",
    "from matplotlib import patches\n",
    "\n",
    "fig, ax = plt.subplots(figsize=(5, 5))\n",
    "cmap = ListedColormap(class_config.color_triples)\n",
    "ax.matshow(label_chip, cmap=cmap)\n",
    "\n",
    "legend_items = [\n",
    "    patches.Patch(facecolor=cmap(i), edgecolor='black', label=cname)\n",
    "    for i, cname in enumerate(class_config.names)]\n",
    "ax.legend(\n",
    "    handles=legend_items, \n",
    "    ncol=len(class_config), \n",
    "    loc='upper center', \n",
    "    fontsize=14,\n",
    "    bbox_to_anchor=(0.5, 0))\n",
    "plt.show()"
   ]
  }
 ],
 "metadata": {
  "kernelspec": {
   "display_name": "Python 3 (ipykernel)",
   "language": "python",
   "name": "python3"
  },
  "language_info": {
   "codemirror_mode": {
    "name": "ipython",
    "version": 3
   },
   "file_extension": ".py",
   "mimetype": "text/x-python",
   "name": "python",
   "nbconvert_exporter": "python",
   "pygments_lexer": "ipython3",
   "version": "3.9.16"
  },
  "vscode": {
   "interpreter": {
    "hash": "6850b013e1f3bd5bc88fc148f23f814e4d2f79564e8ea88f16f3069ee54d6960"
   }
  }
 },
 "nbformat": 4,
 "nbformat_minor": 5
}
