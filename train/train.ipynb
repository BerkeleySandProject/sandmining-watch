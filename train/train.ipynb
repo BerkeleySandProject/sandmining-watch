{
 "cells": [
  {
   "cell_type": "code",
   "execution_count": null,
   "id": "827ede6a-cec2-4306-b462-430933a476f9",
   "metadata": {
    "tags": []
   },
   "outputs": [],
   "source": [
    "import sys\n",
    "import os\n",
    "from typing import List\n",
    "sys.path.insert(0, os.path.abspath('..'))\n",
    "\n",
    "%load_ext autoreload\n",
    "%autoreload 2"
   ]
  },
  {
   "cell_type": "code",
   "execution_count": null,
   "id": "1509766c",
   "metadata": {},
   "outputs": [],
   "source": [
    "from google.cloud import storage\n",
    "from project_config import GCP_PROJECT_NAME\n",
    "\n",
    "gcp_client = storage.Client(project=GCP_PROJECT_NAME)"
   ]
  },
  {
   "cell_type": "markdown",
   "id": "184df66e",
   "metadata": {},
   "source": [
    "### Configuration"
   ]
  },
  {
   "cell_type": "code",
   "execution_count": null,
   "id": "6b614ef6",
   "metadata": {},
   "outputs": [],
   "source": [
    "VALIDATION_SITES = [\"Ken_Banda\", \"Sone_Rohtas\"]\n",
    "TILE_SIZE = 110\n",
    "\n",
    "import albumentations as A\n",
    "AUGMENTATION_TRAIN = A.Compose([\n",
    "    A.RandomRotate90(),\n",
    "    A.HorizontalFlip(),\n",
    "    A.VerticalFlip(),\n",
    "    A.CoarseDropout(max_height=32, max_width=32, max_holes=3)\n",
    "])\n",
    "\n",
    "EXPERIMENT_DIR = '../out/0725-more-data'"
   ]
  },
  {
   "cell_type": "markdown",
   "id": "701b9bc0",
   "metadata": {},
   "source": [
    "### Create Rastervision datasets"
   ]
  },
  {
   "cell_type": "code",
   "execution_count": null,
   "id": "bda67a90",
   "metadata": {},
   "outputs": [],
   "source": [
    "from torch.utils.data import ConcatDataset\n",
    "\n",
    "from utils.rastervision_utils import observation_to_scene, scene_to_training_ds, scene_to_validation_ds\n",
    "from utils.data_management import observation_factory\n",
    "from utils.schemas import ObservationPointer\n",
    "\n",
    "from project_config import S2_CHANNELS\n",
    "\n",
    "\n",
    "def is_validation(scene):\n",
    "    return any(\n",
    "        [validation_site in scene.id\n",
    "         for validation_site in VALIDATION_SITES]\n",
    "    )\n",
    "\n",
    "def is_training(scene):\n",
    "    return not is_validation(scene)\n",
    "\n",
    "\n",
    "all_observations = observation_factory(gcp_client)\n",
    "all_scenes = list(map(\n",
    "    lambda observation: observation_to_scene(observation, S2_CHANNELS),\n",
    "    all_observations\n",
    "))\n",
    "\n",
    "training_scenes = filter(is_training, all_scenes)\n",
    "validation_scenes = filter(is_validation, all_scenes)\n",
    "\n",
    "training_datasets = list(map(\n",
    "    lambda scene: scene_to_training_ds(scene, TILE_SIZE, AUGMENTATION_TRAIN),\n",
    "    training_scenes\n",
    "))\n",
    "validation_datasets = list(map(\n",
    "    lambda scene: scene_to_validation_ds(scene, TILE_SIZE),\n",
    "    validation_scenes\n",
    "))\n",
    "assert len(training_datasets) + len(validation_datasets) == len(all_scenes)\n",
    "\n",
    "train_dataset_merged = ConcatDataset(training_datasets)\n",
    "val_dataset_merged = ConcatDataset(validation_datasets)\n"
   ]
  },
  {
   "cell_type": "code",
   "execution_count": null,
   "id": "7e1ac684",
   "metadata": {},
   "outputs": [],
   "source": [
    "from utils.visualizing import show_windows, show_image_in_dataset\n",
    "from project_config import DISPLAY_GROUPS, CLASS_CONFIG\n",
    "\n",
    "ds_to_visualize = validation_datasets[2]\n",
    "show_windows(\n",
    "    ds_to_visualize.scene.raster_source[:,:],\n",
    "    ds_to_visualize.windows\n",
    ")\n",
    "show_image_in_dataset(\n",
    "    ds_to_visualize,\n",
    "    CLASS_CONFIG,\n",
    "    DISPLAY_GROUPS\n",
    ")"
   ]
  },
  {
   "attachments": {},
   "cell_type": "markdown",
   "id": "3f17bdfc-7fe5-49d4-a98d-79ad2a47f1a3",
   "metadata": {
    "tags": []
   },
   "source": [
    "### Train"
   ]
  },
  {
   "cell_type": "code",
   "execution_count": null,
   "id": "d3a94b65-7753-4ee8-abb9-7d62f3d272e8",
   "metadata": {
    "tags": []
   },
   "outputs": [],
   "source": [
    "from utils.rastervision_utils import construct_semantic_segmentation_learner\n",
    "from models.unet.unet_small import UNetSmall\n",
    "\n",
    "_, _, n_channels = training_datasets[0].scene.raster_source.shape\n",
    "n_classes = 2\n",
    "model = UNetSmall(n_channels, n_classes)\n",
    "\n",
    "learner = construct_semantic_segmentation_learner(\n",
    "    model=model,\n",
    "    training_ds=train_dataset_merged,\n",
    "    validation_ds=val_dataset_merged,\n",
    "    batch_size=64,\n",
    "    learning_rate=3e-2,\n",
    "    class_loss_weights=[1., 10.],\n",
    "    experiment_dir=EXPERIMENT_DIR\n",
    ")\n",
    "learner.log_data_stats()"
   ]
  },
  {
   "cell_type": "code",
   "execution_count": null,
   "id": "144a710a-38ad-4d7b-9b4c-b19253b97dfb",
   "metadata": {
    "tags": []
   },
   "outputs": [],
   "source": [
    "learner.train(epochs=10)"
   ]
  },
  {
   "attachments": {},
   "cell_type": "markdown",
   "id": "45126cf1-6800-4fc0-80fc-71f5798d02b7",
   "metadata": {},
   "source": [
    "### Predict on validation locations \n",
    "And export visualizations to tensorboard"
   ]
  },
  {
   "cell_type": "code",
   "execution_count": null,
   "id": "73be2fb4",
   "metadata": {},
   "outputs": [],
   "source": [
    "from utils.rastervision_utils import get_predictions_for_site\n",
    "from utils.visualizing import show_rgb_labels_preds\n",
    "\n",
    "for idx, ds in enumerate(validation_datasets):\n",
    "    predicted_mine_probability = get_predictions_for_site(learner, ds)\n",
    "    fig = show_rgb_labels_preds(\n",
    "        ds.scene.raster_source[:, :],\n",
    "        ds.scene.label_source[:, :],\n",
    "        predicted_mine_probability,\n",
    "        ds.scene.id,\n",
    "    )\n",
    "    learner.tb_writer.add_figure('Predictions', fig, idx, close=True)\n",
    "    "
   ]
  }
 ],
 "metadata": {
  "kernelspec": {
   "display_name": "rastervis",
   "language": "python",
   "name": "python3"
  },
  "language_info": {
   "codemirror_mode": {
    "name": "ipython",
    "version": 3
   },
   "file_extension": ".py",
   "mimetype": "text/x-python",
   "name": "python",
   "nbconvert_exporter": "python",
   "pygments_lexer": "ipython3",
   "version": "3.9.17"
  }
 },
 "nbformat": 4,
 "nbformat_minor": 5
}
