{
 "cells": [
  {
   "cell_type": "code",
   "execution_count": 1,
   "metadata": {},
   "outputs": [
    {
     "name": "stderr",
     "output_type": "stream",
     "text": [
      "2024-01-27 08:41:20:rastervision.pipeline.rv_config: WARNING - Root temporary directory cannot be used: /opt/data/tmp. Using root: /tmp/tmp5pwhmpky\n",
      "/home/gautam/anaconda3/envs/sand-mining/lib/python3.9/site-packages/geopandas/_compat.py:124: UserWarning: The Shapely GEOS version (3.11.1-CAPI-1.17.1) is incompatible with the GEOS version PyGEOS was compiled with (3.10.3-CAPI-1.16.1). Conversions between both will be slow.\n",
      "  warnings.warn(\n"
     ]
    }
   ],
   "source": [
    "import sys\n",
    "import os\n",
    "sys.path.insert(0, os.path.abspath('..'))\n",
    "from os.path import expanduser\n",
    "\n",
    "%load_ext autoreload\n",
    "%autoreload 2\n",
    "\n",
    "from dotenv import load_dotenv\n",
    "load_dotenv()\n",
    "\n",
    "from google.cloud import storage\n",
    "from project_config import GCP_PROJECT_NAME, DATASET_JSON_PATH\n",
    "\n",
    "gcp_client = storage.Client(project=GCP_PROJECT_NAME)"
   ]
  },
  {
   "cell_type": "code",
   "execution_count": 2,
   "metadata": {},
   "outputs": [
    {
     "data": {
      "text/plain": [
       "<torch._C.Generator at 0x7fe86d6f9d30>"
      ]
     },
     "execution_count": 2,
     "metadata": {},
     "output_type": "execute_result"
    }
   ],
   "source": [
    "import os, torch\n",
    "# os.environ[\"PYTORCH_CUDA_ALLOC_CONF\"] = \"max_split_size_mb:32\" #to prevent cuda out of memory error\n",
    "torch.cuda.empty_cache()\n",
    "\n",
    "\n",
    "#For reproducibility\n",
    "torch.manual_seed(13)"
   ]
  },
  {
   "cell_type": "code",
   "execution_count": 3,
   "metadata": {},
   "outputs": [],
   "source": [
    "from experiment_configs.configs import *\n",
    "config = testing_config"
   ]
  },
  {
   "cell_type": "code",
   "execution_count": 4,
   "metadata": {},
   "outputs": [
    {
     "name": "stderr",
     "output_type": "stream",
     "text": [
      "2024-01-27 08:41:38:rastervision.pipeline.file_system.utils: INFO - Downloading https://storage.googleapis.com/sand_mining_median/labels/Kathajodi_Cuttack_85-85_20-44_median/s2/Kathajodi_Cuttack_85-85_20-44_2022-05-01_s2.tif to /tmp/tmp5pwhmpky/cache/http/storage.googleapis.com/sand_mining_median/labels/Kathajodi_Cuttack_85-85_20-44_median/s2/Kathajodi_Cuttack_85-85_20-44_2022-05-01_s2.tif...\n",
      "2024-01-27 08:41:40:rastervision.pipeline.file_system.utils: INFO - Downloading https://storage.googleapis.com/sand_mining_median/labels/Kathajodi_Cuttack_85-85_20-44_median/s1/Kathajodi_Cuttack_85-85_20-44_2022-05-01_s1.tif to /tmp/tmp5pwhmpky/cache/http/storage.googleapis.com/sand_mining_median/labels/Kathajodi_Cuttack_85-85_20-44_median/s1/Kathajodi_Cuttack_85-85_20-44_2022-05-01_s1.tif...\n",
      "2024-01-27 08:41:48:rastervision.pipeline.file_system.utils: INFO - Downloading https://storage.googleapis.com/sand_mining_median/labels/Kathajodi_Cuttack_85-85_20-44_median/annotations/Kathajodi_Cuttack_85-85_20-44_2022-05-01_annotations.geojson to /tmp/tmp5pwhmpky/cache/http/storage.googleapis.com/sand_mining_median/labels/Kathajodi_Cuttack_85-85_20-44_median/annotations/Kathajodi_Cuttack_85-85_20-44_2022-05-01_annotations.geojson...\n",
      "2024-01-27 08:41:48:rastervision.pipeline.file_system.utils: INFO - Downloading https://storage.googleapis.com/sand_mining_median/labels/Kathajodi_Cuttack_85-85_20-44_median/rivers/Kathajodi_Cuttack_85-85_20-44_rivers_1000m.geojson to /tmp/tmp5pwhmpky/cache/http/storage.googleapis.com/sand_mining_median/labels/Kathajodi_Cuttack_85-85_20-44_median/rivers/Kathajodi_Cuttack_85-85_20-44_rivers_1000m.geojson...\n",
      "2024-01-27 08:41:48:rastervision.core.data.vector_source.geojson_vector_source: INFO - Ignoring CRS ({'type': 'name', 'properties': {'name': 'urn:ogc:def:crs:OGC:1.3:CRS84'}}) specified in https://storage.googleapis.com/sand_mining_median/labels/Kathajodi_Cuttack_85-85_20-44_median/rivers/Kathajodi_Cuttack_85-85_20-44_rivers_1000m.geojson and assuming EPSG:4326 instead.\n",
      "2024-01-27 08:41:48:rastervision.pipeline.file_system.utils: INFO - Downloading https://storage.googleapis.com/sand_mining_median/labels/Kathajodi_Cuttack_85-85_20-44_median/s2/Kathajodi_Cuttack_85-85_20-44_2022-02-01_s2.tif to /tmp/tmp5pwhmpky/cache/http/storage.googleapis.com/sand_mining_median/labels/Kathajodi_Cuttack_85-85_20-44_median/s2/Kathajodi_Cuttack_85-85_20-44_2022-02-01_s2.tif...\n",
      "2024-01-27 08:41:50:rastervision.pipeline.file_system.utils: INFO - Downloading https://storage.googleapis.com/sand_mining_median/labels/Kathajodi_Cuttack_85-85_20-44_median/s1/Kathajodi_Cuttack_85-85_20-44_2022-02-01_s1.tif to /tmp/tmp5pwhmpky/cache/http/storage.googleapis.com/sand_mining_median/labels/Kathajodi_Cuttack_85-85_20-44_median/s1/Kathajodi_Cuttack_85-85_20-44_2022-02-01_s1.tif...\n",
      "2024-01-27 08:41:51:rastervision.pipeline.file_system.utils: INFO - Downloading https://storage.googleapis.com/sand_mining_median/labels/Kathajodi_Cuttack_85-85_20-44_median/annotations/Kathajodi_Cuttack_85-85_20-44_2022-02-01_annotations.geojson to /tmp/tmp5pwhmpky/cache/http/storage.googleapis.com/sand_mining_median/labels/Kathajodi_Cuttack_85-85_20-44_median/annotations/Kathajodi_Cuttack_85-85_20-44_2022-02-01_annotations.geojson...\n",
      "2024-01-27 08:41:51:rastervision.pipeline.file_system.utils: INFO - Using cached file /tmp/tmp5pwhmpky/cache/http/storage.googleapis.com/sand_mining_median/labels/Kathajodi_Cuttack_85-85_20-44_median/rivers/Kathajodi_Cuttack_85-85_20-44_rivers_1000m.geojson.\n",
      "2024-01-27 08:41:51:rastervision.core.data.vector_source.geojson_vector_source: INFO - Ignoring CRS ({'type': 'name', 'properties': {'name': 'urn:ogc:def:crs:OGC:1.3:CRS84'}}) specified in https://storage.googleapis.com/sand_mining_median/labels/Kathajodi_Cuttack_85-85_20-44_median/rivers/Kathajodi_Cuttack_85-85_20-44_rivers_1000m.geojson and assuming EPSG:4326 instead.\n",
      "2024-01-27 08:41:52:rastervision.pipeline.file_system.utils: INFO - Downloading https://storage.googleapis.com/sand_mining_median/labels/Ken_Banda_80-35_25-68_median/s2/Ken_Banda_80-35_25-68_2022-06-01_s2.tif to /tmp/tmp5pwhmpky/cache/http/storage.googleapis.com/sand_mining_median/labels/Ken_Banda_80-35_25-68_median/s2/Ken_Banda_80-35_25-68_2022-06-01_s2.tif...\n",
      "2024-01-27 08:41:52:rastervision.pipeline.file_system.utils: INFO - Downloading https://storage.googleapis.com/sand_mining_median/labels/Ken_Banda_80-35_25-68_median/s1/Ken_Banda_80-35_25-68_2022-06-01_s1.tif to /tmp/tmp5pwhmpky/cache/http/storage.googleapis.com/sand_mining_median/labels/Ken_Banda_80-35_25-68_median/s1/Ken_Banda_80-35_25-68_2022-06-01_s1.tif...\n",
      "2024-01-27 08:41:52:rastervision.pipeline.file_system.utils: INFO - Downloading https://storage.googleapis.com/sand_mining_median/labels/Ken_Banda_80-35_25-68_median/annotations/Ken_Banda_80-35_25-68_2022-06-01_annotations.geojson to /tmp/tmp5pwhmpky/cache/http/storage.googleapis.com/sand_mining_median/labels/Ken_Banda_80-35_25-68_median/annotations/Ken_Banda_80-35_25-68_2022-06-01_annotations.geojson...\n",
      "2024-01-27 08:41:53:rastervision.pipeline.file_system.utils: INFO - Downloading https://storage.googleapis.com/sand_mining_median/labels/Ken_Banda_80-35_25-68_median/rivers/Ken_Banda_80-35_25-68_rivers_1000m.geojson to /tmp/tmp5pwhmpky/cache/http/storage.googleapis.com/sand_mining_median/labels/Ken_Banda_80-35_25-68_median/rivers/Ken_Banda_80-35_25-68_rivers_1000m.geojson...\n",
      "2024-01-27 08:41:53:rastervision.core.data.vector_source.geojson_vector_source: INFO - Ignoring CRS ({'type': 'name', 'properties': {'name': 'urn:ogc:def:crs:OGC:1.3:CRS84'}}) specified in https://storage.googleapis.com/sand_mining_median/labels/Ken_Banda_80-35_25-68_median/rivers/Ken_Banda_80-35_25-68_rivers_1000m.geojson and assuming EPSG:4326 instead.\n"
     ]
    },
    {
     "name": "stdout",
     "output_type": "stream",
     "text": [
      "Validation split cluster_id: 4\n",
      "Training dataset size:  108 images | Number of observations: 2\n",
      "Testing dataset size:  108  images | Number of observations: 1\n",
      "Total dataset has 3.99%  mining area.\n",
      "Training dataset has 4.02%  mining area.\n",
      "Validation dataset has 3.82%  mining area.\n",
      "Within AOIs, total dataset has 6.01%  mining area.\n",
      "Outside AOIs, total dataset has 0.00%  mining area.\n",
      "\n",
      "The median percentage of mine in an observation is 3.95%\n",
      "The median number of mine pixels in an observation is 31601\n",
      "\n",
      "The median number pixels in an observation is 791231\n"
     ]
    }
   ],
   "source": [
    "from torch.utils.data import ConcatDataset\n",
    "import json\n",
    "from utils.rastervision_pipeline import observation_to_scene, scene_to_training_ds, scene_to_validation_ds, scene_to_inference_ds\n",
    "from utils.data_management import observation_factory, characterize_dataset\n",
    "import random\n",
    "\n",
    "#set the seed\n",
    "random.seed(13)\n",
    "\n",
    "# get the current working directory\n",
    "root_dir = os.getcwd()\n",
    "\n",
    "# define the relative path to the dataset JSON file\n",
    "json_rel_path = '../' + DATASET_JSON_PATH\n",
    "\n",
    "# combine the root directory with the relative path\n",
    "json_abs_path = os.path.join(root_dir, json_rel_path)\n",
    "\n",
    "dataset_json = json.load(open(json_abs_path, 'r'))\n",
    "all_observations = observation_factory(dataset_json)\n",
    "\n",
    "#find the highest cluster id\n",
    "max_cluster_id = max([observation['cluster_id'] for observation in dataset_json])\n",
    "\n",
    "\n",
    "# Randomly split the data into training and validation\n",
    "val_split = random.randint(0, max_cluster_id+1)\n",
    "\n",
    "training_scenes = []\n",
    "validation_scenes = []\n",
    "\n",
    "for observation in list(all_observations)[:3]:\n",
    "    if observation.cluster_id == val_split: \n",
    "        validation_scenes.append(observation_to_scene(config, observation))\n",
    "    else:\n",
    "        training_scenes.append(observation_to_scene(config, observation))\n",
    "\n",
    "\n",
    "training_datasets = [\n",
    "    scene_to_training_ds(config, scene) for scene in training_scenes #random window sampling happens here\n",
    "]\n",
    "validation_datasets = [\n",
    "    # scene_to_validation_ds(config, scene) for scene in validation_scenes\n",
    "    scene_to_inference_ds(config, scene, full_image=False, stride=int(config.tile_size/2)) for scene in validation_scenes # better performance with this\n",
    "]\n",
    "\n",
    "train_dataset_merged = ConcatDataset(training_datasets)\n",
    "# val_dataset_merged = ConcatDataset(validation_datasets)\n",
    "val_dataset_merged = train_dataset_merged\n",
    "\n",
    "print('Validation split cluster_id:', val_split)\n",
    "print ('Training dataset size: {:4d} images | Number of observations: {:}'.format(len(train_dataset_merged), len(training_scenes)))\n",
    "print ('Testing dataset size: {:4d}  images | Number of observations: {:}'.format(len(val_dataset_merged), len(validation_scenes)))\n",
    "\n",
    "mine_percentage_aoi = characterize_dataset(training_scenes, validation_scenes)"
   ]
  },
  {
   "cell_type": "code",
   "execution_count": 8,
   "metadata": {},
   "outputs": [],
   "source": [
    "label_arr = training_scenes[0].label_source.get_label_arr()"
   ]
  },
  {
   "cell_type": "code",
   "execution_count": 9,
   "metadata": {},
   "outputs": [],
   "source": [
    "import matplotlib.pyplot as plt"
   ]
  },
  {
   "cell_type": "code",
   "execution_count": 10,
   "metadata": {},
   "outputs": [
    {
     "data": {
      "text/plain": [
       "<matplotlib.image.AxesImage at 0x7fe78a728eb0>"
      ]
     },
     "execution_count": 10,
     "metadata": {},
     "output_type": "execute_result"
    },
    {
     "data": {
      "image/png": "[encoded data removed]",
      "text/plain": [
       "<Figure size 1190.81x480 with 1 Axes>"
      ]
     },
     "metadata": {},
     "output_type": "display_data"
    }
   ],
   "source": [
    "plt.matshow(label_arr)"
   ]
  },
  {
   "cell_type": "code",
   "execution_count": null,
   "metadata": {},
   "outputs": [],
   "source": []
  }
 ],
 "metadata": {
  "kernelspec": {
   "display_name": "sand-mining",
   "language": "python",
   "name": "python3"
  },
  "language_info": {
   "codemirror_mode": {
    "name": "ipython",
    "version": 3
   },
   "file_extension": ".py",
   "mimetype": "text/x-python",
   "name": "python",
   "nbconvert_exporter": "python",
   "pygments_lexer": "ipython3",
   "version": "3.9.17"
  },
  "orig_nbformat": 4,
  "vscode": {
   "interpreter": {
    "hash": "b5dd2ba60de8bda55ea3970b324b4919d693cac635abee2efe739b91809016bc"
   }
  }
 },
 "nbformat": 4,
 "nbformat_minor": 2
}
