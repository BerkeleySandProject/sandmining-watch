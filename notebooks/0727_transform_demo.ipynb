{
 "cells": [
  {
   "cell_type": "code",
   "execution_count": 1,
   "id": "827ede6a-cec2-4306-b462-430933a476f9",
   "metadata": {
    "tags": []
   },
   "outputs": [],
   "source": [
    "import sys\n",
    "import os\n",
    "from typing import List\n",
    "sys.path.insert(0, os.path.abspath('..'))\n",
    "\n",
    "%load_ext autoreload\n",
    "%autoreload 2"
   ]
  },
  {
   "cell_type": "markdown",
   "id": "d516cb6d",
   "metadata": {},
   "source": [
    "This Notebooks demonstrates how we can use RasterTransformer and MultiRasterSource.\n",
    "\n",
    "We can:\n",
    "- Apply custom normalizations using RasterTransformer\n",
    "- Merge multiple images (e.g. S1 and S2) using MultiRasterSource\n",
    "- Create Indices (e.g. NDWI) using RasterTransformer and merge tusing MultiRasterSource"
   ]
  },
  {
   "cell_type": "code",
   "execution_count": 2,
   "id": "bda67a90",
   "metadata": {},
   "outputs": [
    {
     "name": "stderr",
     "output_type": "stream",
     "text": [
      "/home/tboehnel/.conda/envs/rastervision/lib/python3.9/site-packages/tqdm/auto.py:22: TqdmWarning: IProgress not found. Please update jupyter and ipywidgets. See https://ipywidgets.readthedocs.io/en/stable/user_install.html\n",
      "  from .autonotebook import tqdm as notebook_tqdm\n",
      "2023-07-27 14:19:59:rastervision.pipeline.file_system.utils: INFO - Using cached file /data/tmp/cache/http/storage.googleapis.com/sand_mining/labels/Betwa_Hamirpur_79-81_25-91/rgb/Betwa_Hamirpur_79-81_25-91_2022-03-22_rgb.tif.\n",
      "2023-07-27 14:19:59:rastervision.pipeline.file_system.utils: INFO - Using cached file /data/tmp/cache/http/storage.googleapis.com/sand_mining/labels/Betwa_Hamirpur_79-81_25-91/rgb/Betwa_Hamirpur_79-81_25-91_2022-03-22_rgb.tif.\n"
     ]
    },
    {
     "name": "stdout",
     "output_type": "stream",
     "text": [
      "Chip from original    image has shape (150, 150, 3)\n",
      "Chip from transformed image has shape (150, 150, 1)\n",
      "Chip from combined    image has shape (150, 150, 4)\n"
     ]
    }
   ],
   "source": [
    "from typing import Optional\n",
    "import numpy as np\n",
    "\n",
    "from rastervision.core.data import RasterioSource, MultiRasterSource\n",
    "from rastervision.core.data.raster_transformer.raster_transformer import RasterTransformer\n",
    "from rastervision.core.box import Box\n",
    "\n",
    "image_uri = \"https://storage.googleapis.com/sand_mining/labels/Betwa_Hamirpur_79-81_25-91/rgb/Betwa_Hamirpur_79-81_25-91_2022-03-22_rgb.tif\"\n",
    "\n",
    "class CustomTransformer(RasterTransformer):\n",
    "    \"\"\"\n",
    "    Dummy transformer for demonstration\n",
    "    \"\"\"\n",
    "    def __init__(self):\n",
    "        pass\n",
    "\n",
    "    def transform(self, chip: np.ndarray,\n",
    "                  channel_order: Optional[list] = None) -> np.ndarray:\n",
    "        summed = chip.sum(axis=2)\n",
    "        return np.expand_dims(summed, axis=2)\n",
    "\n",
    "\n",
    "img_original = RasterioSource(\n",
    "    image_uri,\n",
    ")\n",
    "img_custom = RasterioSource(\n",
    "    image_uri,\n",
    "    raster_transformers=[CustomTransformer()]\n",
    ")\n",
    "\n",
    "# We can merge them into one RasterSource\n",
    "combined_img = MultiRasterSource(\n",
    "    [img_original, img_custom],\n",
    "    force_same_dtype=True\n",
    ")\n",
    "\n",
    "\n",
    "dummy_bbox = Box(0,0,150,150)\n",
    "print(f\"Chip from original    image has shape {img_original.get_chip(dummy_bbox).shape}\")\n",
    "print(f\"Chip from transformed image has shape {img_custom.get_chip(dummy_bbox).shape}\")\n",
    "print(f\"Chip from combined    image has shape {combined_img.get_chip(dummy_bbox).shape}\")\n"
   ]
  }
 ],
 "metadata": {
  "kernelspec": {
   "display_name": "rastervis",
   "language": "python",
   "name": "python3"
  },
  "language_info": {
   "codemirror_mode": {
    "name": "ipython",
    "version": 3
   },
   "file_extension": ".py",
   "mimetype": "text/x-python",
   "name": "python",
   "nbconvert_exporter": "python",
   "pygments_lexer": "ipython3",
   "version": "3.9.17"
  }
 },
 "nbformat": 4,
 "nbformat_minor": 5
}
