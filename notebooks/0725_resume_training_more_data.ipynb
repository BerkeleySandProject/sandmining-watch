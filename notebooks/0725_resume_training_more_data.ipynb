{
 "cells": [
  {
   "cell_type": "code",
   "execution_count": 1,
   "id": "827ede6a-cec2-4306-b462-430933a476f9",
   "metadata": {
    "tags": []
   },
   "outputs": [],
   "source": [
    "import sys\n",
    "import os\n",
    "from typing import List\n",
    "sys.path.insert(0, os.path.abspath('..'))\n",
    "\n",
    "%load_ext autoreload\n",
    "%autoreload 2"
   ]
  },
  {
   "cell_type": "code",
   "execution_count": 2,
   "id": "6b614ef6",
   "metadata": {},
   "outputs": [],
   "source": [
    "VALIDATION_SITES = [\"Ken_Banda\", \"Sone_Rohtas\"]\n",
    "TILE_SIZE = 110\n",
    "\n",
    "EXPERIMENT_DIR = '../out/0725-more-data'"
   ]
  },
  {
   "cell_type": "code",
   "execution_count": 3,
   "id": "1509766c",
   "metadata": {},
   "outputs": [],
   "source": [
    "from google.cloud import storage\n",
    "\n",
    "GCP_PROJECT_NAME = \"gee-sand\"\n",
    "BUCKET_NAME = \"sand_mining\"\n",
    "\n",
    "gcp_client = storage.Client(project=GCP_PROJECT_NAME)"
   ]
  },
  {
   "cell_type": "code",
   "execution_count": 6,
   "id": "bda67a90",
   "metadata": {},
   "outputs": [
    {
     "name": "stderr",
     "output_type": "stream",
     "text": [
      "2023-07-25 16:49:12:rastervision.pipeline.file_system.utils: INFO - Using cached file /data/tmp/cache/http/storage.googleapis.com/sand_mining/labels/Betwa_Hamirpur_79-81_25-91/bs/Betwa_Hamirpur_79-81_25-91_2022-03-22_bs.tif.\n",
      "2023-07-25 16:49:12:rastervision.pipeline.file_system.utils: INFO - Using cached file /data/tmp/cache/http/storage.googleapis.com/sand_mining/labels/Betwa_Hamirpur_79-81_25-91/annotations/Betwa_Hamirpur_79-81_25-91_2022-03-22_annotations.geojson.\n",
      "2023-07-25 16:49:12:rastervision.pipeline.file_system.utils: INFO - Using cached file /data/tmp/cache/http/storage.googleapis.com/sand_mining/labels/Betwa_Hamirpur_79-81_25-91/bs/Betwa_Hamirpur_79-81_25-91_2022-04-01_bs.tif.\n",
      "2023-07-25 16:49:12:rastervision.pipeline.file_system.utils: INFO - Using cached file /data/tmp/cache/http/storage.googleapis.com/sand_mining/labels/Betwa_Hamirpur_79-81_25-91/annotations/Betwa_Hamirpur_79-81_25-91_2022-04-01_annotations.geojson.\n",
      "2023-07-25 16:49:12:rastervision.pipeline.file_system.utils: INFO - Using cached file /data/tmp/cache/http/storage.googleapis.com/sand_mining/labels/Betwa_Hamirpur_79-81_25-91/bs/Betwa_Hamirpur_79-81_25-91_2022-05-11_bs.tif.\n",
      "2023-07-25 16:49:12:rastervision.pipeline.file_system.utils: INFO - Using cached file /data/tmp/cache/http/storage.googleapis.com/sand_mining/labels/Betwa_Hamirpur_79-81_25-91/annotations/Betwa_Hamirpur_79-81_25-91_2022-05-11_annotations.geojson.\n",
      "2023-07-25 16:49:12:rastervision.pipeline.file_system.utils: INFO - Using cached file /data/tmp/cache/http/storage.googleapis.com/sand_mining/labels/Betwa_Hamirpur_79-81_25-91/bs/Betwa_Hamirpur_79-81_25-91_2022-11-02_bs.tif.\n",
      "2023-07-25 16:49:12:rastervision.pipeline.file_system.utils: INFO - Using cached file /data/tmp/cache/http/storage.googleapis.com/sand_mining/labels/Betwa_Hamirpur_79-81_25-91/annotations/Betwa_Hamirpur_79-81_25-91_2022-11-02_annotations.geojson.\n",
      "2023-07-25 16:49:12:rastervision.pipeline.file_system.utils: INFO - Using cached file /data/tmp/cache/http/storage.googleapis.com/sand_mining/labels/Betwa_Hamirpur_79-81_25-91/bs/Betwa_Hamirpur_79-81_25-91_2022-12-22_bs.tif.\n",
      "2023-07-25 16:49:12:rastervision.pipeline.file_system.utils: INFO - Using cached file /data/tmp/cache/http/storage.googleapis.com/sand_mining/labels/Betwa_Hamirpur_79-81_25-91/annotations/Betwa_Hamirpur_79-81_25-91_2022-12-22_annotations.geojson.\n",
      "2023-07-25 16:49:12:rastervision.pipeline.file_system.utils: INFO - Using cached file /data/tmp/cache/http/storage.googleapis.com/sand_mining/labels/Chambal_More_77-86_26-61/bs/Chambal_More_77-86_26-61_2022-03-02_bs.tif.\n",
      "2023-07-25 16:49:12:rastervision.pipeline.file_system.utils: INFO - Using cached file /data/tmp/cache/http/storage.googleapis.com/sand_mining/labels/Chambal_More_77-86_26-61/annotations/Chambal_More_77-86_26-61_2022-03-02_annotations.geojson.\n",
      "2023-07-25 16:49:12:rastervision.pipeline.file_system.utils: INFO - Using cached file /data/tmp/cache/http/storage.googleapis.com/sand_mining/labels/Chambal_More_77-86_26-61/bs/Chambal_More_77-86_26-61_2022-04-09_bs.tif.\n",
      "2023-07-25 16:49:12:rastervision.pipeline.file_system.utils: INFO - Using cached file /data/tmp/cache/http/storage.googleapis.com/sand_mining/labels/Chambal_More_77-86_26-61/annotations/Chambal_More_77-86_26-61_2022-04-09_annotations.geojson.\n",
      "2023-07-25 16:49:12:rastervision.pipeline.file_system.utils: INFO - Using cached file /data/tmp/cache/http/storage.googleapis.com/sand_mining/labels/Chambal_More_77-86_26-61/bs/Chambal_More_77-86_26-61_2022-10-01_bs.tif.\n",
      "2023-07-25 16:49:12:rastervision.pipeline.file_system.utils: INFO - Using cached file /data/tmp/cache/http/storage.googleapis.com/sand_mining/labels/Chambal_More_77-86_26-61/annotations/Chambal_More_77-86_26-61_2022-10-01_annotations.geojson.\n",
      "2023-07-25 16:49:12:rastervision.pipeline.file_system.utils: INFO - Using cached file /data/tmp/cache/http/storage.googleapis.com/sand_mining/labels/Chambal_More_77-86_26-61/bs/Chambal_More_77-86_26-61_2022-11-05_bs.tif.\n",
      "2023-07-25 16:49:12:rastervision.pipeline.file_system.utils: INFO - Using cached file /data/tmp/cache/http/storage.googleapis.com/sand_mining/labels/Chambal_More_77-86_26-61/annotations/Chambal_More_77-86_26-61_2022-11-05_annotations.geojson.\n",
      "2023-07-25 16:49:12:rastervision.pipeline.file_system.utils: INFO - Using cached file /data/tmp/cache/http/storage.googleapis.com/sand_mining/labels/Kathajodi_Cuttack_85-85_20-44/bs/Kathajodi_Cuttack_85-85_20-44_2022-03-03_bs.tif.\n",
      "2023-07-25 16:49:12:rastervision.pipeline.file_system.utils: INFO - Using cached file /data/tmp/cache/http/storage.googleapis.com/sand_mining/labels/Kathajodi_Cuttack_85-85_20-44/annotations/Kathajodi_Cuttack_85-85_20-44_2022-03-03_annotations.geojson.\n",
      "2023-07-25 16:49:12:rastervision.pipeline.file_system.utils: INFO - Using cached file /data/tmp/cache/http/storage.googleapis.com/sand_mining/labels/Kathajodi_Cuttack_85-85_20-44/bs/Kathajodi_Cuttack_85-85_20-44_2022-05-02_bs.tif.\n",
      "2023-07-25 16:49:12:rastervision.pipeline.file_system.utils: INFO - Using cached file /data/tmp/cache/http/storage.googleapis.com/sand_mining/labels/Kathajodi_Cuttack_85-85_20-44/annotations/Kathajodi_Cuttack_85-85_20-44_2022-05-02_annotations.geojson.\n",
      "2023-07-25 16:49:12:rastervision.pipeline.file_system.utils: INFO - Using cached file /data/tmp/cache/http/storage.googleapis.com/sand_mining/labels/Kathajodi_Cuttack_85-85_20-44/bs/Kathajodi_Cuttack_85-85_20-44_2022-05-17_bs.tif.\n",
      "2023-07-25 16:49:12:rastervision.pipeline.file_system.utils: INFO - Using cached file /data/tmp/cache/http/storage.googleapis.com/sand_mining/labels/Kathajodi_Cuttack_85-85_20-44/annotations/Kathajodi_Cuttack_85-85_20-44_2022-05-17_annotations.geojson.\n",
      "2023-07-25 16:49:12:rastervision.pipeline.file_system.utils: INFO - Using cached file /data/tmp/cache/http/storage.googleapis.com/sand_mining/labels/Kathajodi_Cuttack_85-85_20-44/bs/Kathajodi_Cuttack_85-85_20-44_2022-12-28_bs.tif.\n",
      "2023-07-25 16:49:13:rastervision.pipeline.file_system.utils: INFO - Using cached file /data/tmp/cache/http/storage.googleapis.com/sand_mining/labels/Kathajodi_Cuttack_85-85_20-44/annotations/Kathajodi_Cuttack_85-85_20-44_2022-12-28_annotations.geojson.\n",
      "2023-07-25 16:49:13:rastervision.pipeline.file_system.utils: INFO - Using cached file /data/tmp/cache/http/storage.googleapis.com/sand_mining/labels/Ken_Banda_80-35_25-68/bs/Ken_Banda_80-35_25-68_2022-03-09_bs.tif.\n",
      "2023-07-25 16:49:13:rastervision.pipeline.file_system.utils: INFO - Using cached file /data/tmp/cache/http/storage.googleapis.com/sand_mining/labels/Ken_Banda_80-35_25-68/annotations/Ken_Banda_80-35_25-68_2022-03-09_annotations.geojson.\n",
      "2023-07-25 16:49:13:rastervision.pipeline.file_system.utils: INFO - Using cached file /data/tmp/cache/http/storage.googleapis.com/sand_mining/labels/Ken_Banda_80-35_25-68/bs/Ken_Banda_80-35_25-68_2022-03-29_bs.tif.\n",
      "2023-07-25 16:49:13:rastervision.pipeline.file_system.utils: INFO - Using cached file /data/tmp/cache/http/storage.googleapis.com/sand_mining/labels/Ken_Banda_80-35_25-68/annotations/Ken_Banda_80-35_25-68_2022-03-29_annotations.geojson.\n",
      "2023-07-25 16:49:13:rastervision.pipeline.file_system.utils: INFO - Using cached file /data/tmp/cache/http/storage.googleapis.com/sand_mining/labels/Ken_Banda_80-35_25-68/bs/Ken_Banda_80-35_25-68_2022-04-08_bs.tif.\n",
      "2023-07-25 16:49:13:rastervision.pipeline.file_system.utils: INFO - Using cached file /data/tmp/cache/http/storage.googleapis.com/sand_mining/labels/Ken_Banda_80-35_25-68/annotations/Ken_Banda_80-35_25-68_2022-04-08_annotations.geojson.\n",
      "2023-07-25 16:49:13:rastervision.pipeline.file_system.utils: INFO - Using cached file /data/tmp/cache/http/storage.googleapis.com/sand_mining/labels/Ken_Banda_80-35_25-68/bs/Ken_Banda_80-35_25-68_2022-05-28_bs.tif.\n",
      "2023-07-25 16:49:13:rastervision.pipeline.file_system.utils: INFO - Using cached file /data/tmp/cache/http/storage.googleapis.com/sand_mining/labels/Ken_Banda_80-35_25-68/annotations/Ken_Banda_80-35_25-68_2022-05-28_annotations.geojson.\n",
      "2023-07-25 16:49:13:rastervision.pipeline.file_system.utils: INFO - Using cached file /data/tmp/cache/http/storage.googleapis.com/sand_mining/labels/Ken_Banda_80-35_25-68/bs/Ken_Banda_80-35_25-68_2022-12-29_bs.tif.\n",
      "2023-07-25 16:49:13:rastervision.pipeline.file_system.utils: INFO - Using cached file /data/tmp/cache/http/storage.googleapis.com/sand_mining/labels/Ken_Banda_80-35_25-68/annotations/Ken_Banda_80-35_25-68_2022-12-29_annotations.geojson.\n",
      "2023-07-25 16:49:13:rastervision.pipeline.file_system.utils: INFO - Using cached file /data/tmp/cache/http/storage.googleapis.com/sand_mining/labels/Narmada_Sehore_77-32_22-56/bs/Narmada_Sehore_77-32_22-56_2022-03-22_bs.tif.\n",
      "2023-07-25 16:49:13:rastervision.pipeline.file_system.utils: INFO - Using cached file /data/tmp/cache/http/storage.googleapis.com/sand_mining/labels/Narmada_Sehore_77-32_22-56/annotations/Narmada_Sehore_77-32_22-56_2022-03-22_annotations.geojson.\n",
      "2023-07-25 16:49:13:rastervision.pipeline.file_system.utils: INFO - Using cached file /data/tmp/cache/http/storage.googleapis.com/sand_mining/labels/Narmada_Sehore_77-32_22-56/bs/Narmada_Sehore_77-32_22-56_2022-04-11_bs.tif.\n",
      "2023-07-25 16:49:13:rastervision.pipeline.file_system.utils: INFO - Using cached file /data/tmp/cache/http/storage.googleapis.com/sand_mining/labels/Narmada_Sehore_77-32_22-56/annotations/Narmada_Sehore_77-32_22-56_2022-04-11_annotations.geojson.\n",
      "2023-07-25 16:49:13:rastervision.pipeline.file_system.utils: INFO - Using cached file /data/tmp/cache/http/storage.googleapis.com/sand_mining/labels/Narmada_Sehore_77-32_22-56/bs/Narmada_Sehore_77-32_22-56_2022-05-31_bs.tif.\n",
      "2023-07-25 16:49:13:rastervision.pipeline.file_system.utils: INFO - Using cached file /data/tmp/cache/http/storage.googleapis.com/sand_mining/labels/Narmada_Sehore_77-32_22-56/annotations/Narmada_Sehore_77-32_22-56_2022-05-31_annotations.geojson.\n",
      "2023-07-25 16:49:13:rastervision.pipeline.file_system.utils: INFO - Using cached file /data/tmp/cache/http/storage.googleapis.com/sand_mining/labels/Narmada_Sehore_77-32_22-56/bs/Narmada_Sehore_77-32_22-56_2022-10-23_bs.tif.\n",
      "2023-07-25 16:49:13:rastervision.pipeline.file_system.utils: INFO - Using cached file /data/tmp/cache/http/storage.googleapis.com/sand_mining/labels/Narmada_Sehore_77-32_22-56/annotations/Narmada_Sehore_77-32_22-56_2022-10-23_annotations.geojson.\n",
      "2023-07-25 16:49:13:rastervision.pipeline.file_system.utils: INFO - Using cached file /data/tmp/cache/http/storage.googleapis.com/sand_mining/labels/Narmada_Sehore_77-32_22-56/bs/Narmada_Sehore_77-32_22-56_2022-11-22_bs.tif.\n",
      "2023-07-25 16:49:13:rastervision.pipeline.file_system.utils: INFO - Using cached file /data/tmp/cache/http/storage.googleapis.com/sand_mining/labels/Narmada_Sehore_77-32_22-56/annotations/Narmada_Sehore_77-32_22-56_2022-11-22_annotations.geojson.\n",
      "2023-07-25 16:49:13:rastervision.pipeline.file_system.utils: INFO - Using cached file /data/tmp/cache/http/storage.googleapis.com/sand_mining/labels/Narmada_Sehore_77-32_22-56/bs/Narmada_Sehore_77-32_22-56_2022-12-27_bs.tif.\n",
      "2023-07-25 16:49:13:rastervision.pipeline.file_system.utils: INFO - Using cached file /data/tmp/cache/http/storage.googleapis.com/sand_mining/labels/Narmada_Sehore_77-32_22-56/annotations/Narmada_Sehore_77-32_22-56_2022-12-27_annotations.geojson.\n",
      "2023-07-25 16:49:13:rastervision.pipeline.file_system.utils: INFO - Using cached file /data/tmp/cache/http/storage.googleapis.com/sand_mining/labels/Sone_Rohtas_84-21_24-91/bs/Sone_Rohtas_84-21_24-91_2022-03-01_bs.tif.\n",
      "2023-07-25 16:49:13:rastervision.pipeline.file_system.utils: INFO - Using cached file /data/tmp/cache/http/storage.googleapis.com/sand_mining/labels/Sone_Rohtas_84-21_24-91/annotations/Sone_Rohtas_84-21_24-91_2022-03-01_annotations.geojson.\n",
      "2023-07-25 16:49:13:rastervision.pipeline.file_system.utils: INFO - Using cached file /data/tmp/cache/http/storage.googleapis.com/sand_mining/labels/Sone_Rohtas_84-21_24-91/bs/Sone_Rohtas_84-21_24-91_2022-03-31_bs.tif.\n",
      "2023-07-25 16:49:13:rastervision.pipeline.file_system.utils: INFO - Using cached file /data/tmp/cache/http/storage.googleapis.com/sand_mining/labels/Sone_Rohtas_84-21_24-91/annotations/Sone_Rohtas_84-21_24-91_2022-03-31_annotations.geojson.\n",
      "2023-07-25 16:49:13:rastervision.pipeline.file_system.utils: INFO - Using cached file /data/tmp/cache/http/storage.googleapis.com/sand_mining/labels/Sone_Rohtas_84-21_24-91/bs/Sone_Rohtas_84-21_24-91_2022-04-30_bs.tif.\n",
      "2023-07-25 16:49:13:rastervision.pipeline.file_system.utils: INFO - Using cached file /data/tmp/cache/http/storage.googleapis.com/sand_mining/labels/Sone_Rohtas_84-21_24-91/annotations/Sone_Rohtas_84-21_24-91_2022-04-30_annotations.geojson.\n",
      "2023-07-25 16:49:13:rastervision.pipeline.file_system.utils: INFO - Using cached file /data/tmp/cache/http/storage.googleapis.com/sand_mining/labels/Sone_Rohtas_84-21_24-91/bs/Sone_Rohtas_84-21_24-91_2022-05-20_bs.tif.\n",
      "2023-07-25 16:49:13:rastervision.pipeline.file_system.utils: INFO - Using cached file /data/tmp/cache/http/storage.googleapis.com/sand_mining/labels/Sone_Rohtas_84-21_24-91/annotations/Sone_Rohtas_84-21_24-91_2022-05-20_annotations.geojson.\n",
      "2023-07-25 16:49:13:rastervision.pipeline.file_system.utils: INFO - Using cached file /data/tmp/cache/http/storage.googleapis.com/sand_mining/labels/Sone_Rohtas_84-21_24-91/bs/Sone_Rohtas_84-21_24-91_2022-11-26_bs.tif.\n",
      "2023-07-25 16:49:13:rastervision.pipeline.file_system.utils: INFO - Using cached file /data/tmp/cache/http/storage.googleapis.com/sand_mining/labels/Sone_Rohtas_84-21_24-91/annotations/Sone_Rohtas_84-21_24-91_2022-11-26_annotations.geojson.\n",
      "2023-07-25 16:49:13:rastervision.pipeline.file_system.utils: INFO - Using cached file /data/tmp/cache/http/storage.googleapis.com/sand_mining/labels/Sone_Rohtas_84-21_24-91/bs/Sone_Rohtas_84-21_24-91_2022-12-16_bs.tif.\n",
      "2023-07-25 16:49:13:rastervision.pipeline.file_system.utils: INFO - Using cached file /data/tmp/cache/http/storage.googleapis.com/sand_mining/labels/Sone_Rohtas_84-21_24-91/annotations/Sone_Rohtas_84-21_24-91_2022-12-16_annotations.geojson.\n",
      "2023-07-25 16:49:13:rastervision.pipeline.file_system.utils: INFO - Using cached file /data/tmp/cache/http/storage.googleapis.com/sand_mining/labels/Tawa_Hoshangabad_77-80_22-74/bs/Tawa_Hoshangabad_77-80_22-74_2022-03-02_bs.tif.\n",
      "2023-07-25 16:49:13:rastervision.pipeline.file_system.utils: INFO - Using cached file /data/tmp/cache/http/storage.googleapis.com/sand_mining/labels/Tawa_Hoshangabad_77-80_22-74/annotations/Tawa_Hoshangabad_77-80_22-74_2022-03-02_annotations.geojson.\n",
      "2023-07-25 16:49:13:rastervision.pipeline.file_system.utils: INFO - Using cached file /data/tmp/cache/http/storage.googleapis.com/sand_mining/labels/Tawa_Hoshangabad_77-80_22-74/bs/Tawa_Hoshangabad_77-80_22-74_2022-05-26_bs.tif.\n",
      "2023-07-25 16:49:13:rastervision.pipeline.file_system.utils: INFO - Using cached file /data/tmp/cache/http/storage.googleapis.com/sand_mining/labels/Tawa_Hoshangabad_77-80_22-74/annotations/Tawa_Hoshangabad_77-80_22-74_2022-05-26_annotations.geojson.\n",
      "2023-07-25 16:49:13:rastervision.pipeline.file_system.utils: INFO - Using cached file /data/tmp/cache/http/storage.googleapis.com/sand_mining/labels/Tawa_Hoshangabad_77-80_22-74/bs/Tawa_Hoshangabad_77-80_22-74_2022-10-23_bs.tif.\n",
      "2023-07-25 16:49:13:rastervision.pipeline.file_system.utils: INFO - Using cached file /data/tmp/cache/http/storage.googleapis.com/sand_mining/labels/Tawa_Hoshangabad_77-80_22-74/annotations/Tawa_Hoshangabad_77-80_22-74_2022-10-23_annotations.geojson.\n",
      "2023-07-25 16:49:13:rastervision.pipeline.file_system.utils: INFO - Using cached file /data/tmp/cache/http/storage.googleapis.com/sand_mining/labels/Tawa_Hoshangabad_77-80_22-74/bs/Tawa_Hoshangabad_77-80_22-74_2022-12-27_bs.tif.\n",
      "2023-07-25 16:49:13:rastervision.pipeline.file_system.utils: INFO - Using cached file /data/tmp/cache/http/storage.googleapis.com/sand_mining/labels/Tawa_Hoshangabad_77-80_22-74/annotations/Tawa_Hoshangabad_77-80_22-74_2022-12-27_annotations.geojson.\n"
     ]
    }
   ],
   "source": [
    "import albumentations as A\n",
    "from rastervision.pytorch_learner import SemanticSegmentationSlidingWindowGeoDataset\n",
    "\n",
    "from utils.rastervision_utils import create_scene\n",
    "from utils.data_management import observation_factory\n",
    "from utils.schemas import ObservationPointer\n",
    "\n",
    "from config import CLASS_CONFIG_BINARY_SAND as class_config\n",
    "from config import S2_CHANNELS\n",
    "\n",
    "\n",
    "augmentation = A.Compose([\n",
    "    A.RandomRotate90(),\n",
    "    A.HorizontalFlip(),\n",
    "    A.VerticalFlip(),\n",
    "    A.CoarseDropout(max_height=32, max_width=32, max_holes=3)\n",
    "])\n",
    "\n",
    "def observation_to_scene(observation: ObservationPointer):\n",
    "    return create_scene(\n",
    "        observation.uri_to_bs,\n",
    "        observation.uri_to_annotations,\n",
    "        observation.name,\n",
    "        S2_CHANNELS,\n",
    "        class_config,\n",
    "    )\n",
    "\n",
    "def is_validation(scene):\n",
    "    for validation_site_iter in VALIDATION_SITES:\n",
    "        if validation_site_iter in scene.id:\n",
    "            return True\n",
    "    return False\n",
    "\n",
    "def is_training(scene):\n",
    "    return not is_validation(scene)\n",
    "\n",
    "def scene_to_validation_ds(scene):\n",
    "    return SemanticSegmentationSlidingWindowGeoDataset(\n",
    "        scene,\n",
    "        size=TILE_SIZE,\n",
    "        stride=TILE_SIZE,\n",
    "        padding=TILE_SIZE,\n",
    "        pad_direction='end',\n",
    "        transform=None,\n",
    "    )\n",
    "\n",
    "def scene_to_training_ds(scene):\n",
    "    return SemanticSegmentationSlidingWindowGeoDataset(\n",
    "        scene,\n",
    "        size=TILE_SIZE,\n",
    "        stride=int(TILE_SIZE / 2),\n",
    "        padding=None,\n",
    "        pad_direction='both',\n",
    "        transform=augmentation,\n",
    "    )\n",
    "\n",
    "\n",
    "all_observations = observation_factory(gcp_client)\n",
    "all_scenes = list(map(observation_to_scene, all_observations))\n",
    "\n",
    "training_scenes = filter(is_training, all_scenes)\n",
    "validation_scenes = filter(is_validation, all_scenes)\n",
    "\n",
    "training_datasets = list(map(scene_to_training_ds, training_scenes))\n",
    "validation_datasets = list(map(scene_to_validation_ds, validation_scenes))\n"
   ]
  },
  {
   "cell_type": "code",
   "execution_count": null,
   "id": "7e1ac684",
   "metadata": {},
   "outputs": [],
   "source": [
    "from utils.visualizing import show_windows, show_image_in_dataset\n",
    "from config import DISPLAY_GROUPS\n",
    "\n",
    "ds_to_visualize = validation_datasets[2]\n",
    "show_windows(\n",
    "    ds_to_visualize.scene.raster_source[:,:],\n",
    "    ds_to_visualize.windows\n",
    ")\n",
    "show_image_in_dataset(\n",
    "    ds_to_visualize,\n",
    "    class_config,\n",
    "    DISPLAY_GROUPS\n",
    ")"
   ]
  },
  {
   "cell_type": "code",
   "execution_count": 10,
   "id": "d5120813-76b9-41fd-afc1-9d9e13dd90f5",
   "metadata": {},
   "outputs": [],
   "source": [
    "from torch.utils.data import ConcatDataset\n",
    "\n",
    "train_dataset_merged = ConcatDataset(training_datasets)\n",
    "val_dataset_merged = ConcatDataset(validation_datasets)"
   ]
  },
  {
   "attachments": {},
   "cell_type": "markdown",
   "id": "3f17bdfc-7fe5-49d4-a98d-79ad2a47f1a3",
   "metadata": {
    "tags": []
   },
   "source": [
    "## Train"
   ]
  },
  {
   "cell_type": "code",
   "execution_count": 12,
   "id": "d3a94b65-7753-4ee8-abb9-7d62f3d272e8",
   "metadata": {
    "tags": []
   },
   "outputs": [
    {
     "name": "stderr",
     "output_type": "stream",
     "text": [
      "2023-07-25 16:50:18:rastervision.pytorch_learner.learner: INFO - Loading checkpoint from ../out/0725-more-data/last-model.pth\n",
      "2023-07-25 16:50:18:rastervision.pytorch_learner.learner: INFO - train_ds: 9643 items\n",
      "2023-07-25 16:50:18:rastervision.pytorch_learner.learner: INFO - valid_ds: 3048 items\n"
     ]
    }
   ],
   "source": [
    "from rastervision.pytorch_learner import SemanticSegmentationGeoDataConfig, SolverConfig, SemanticSegmentationLearnerConfig, SemanticSegmentationLearner\n",
    "\n",
    "from models.unet.unet_small import UNetSmall\n",
    "\n",
    "_, _, n_channels = training_datasets[0].scene.raster_source.shape\n",
    "n_classes = 2\n",
    "\n",
    "model = UNetSmall(n_channels, n_classes)\n",
    "\n",
    "data_cfg = SemanticSegmentationGeoDataConfig(\n",
    "    class_names=class_config.names,\n",
    "    class_colors=class_config.colors,\n",
    "    num_workers=0,\n",
    ")\n",
    "\n",
    "solver_cfg = SolverConfig(\n",
    "    batch_sz=64,\n",
    "    lr=3e-2,\n",
    "    class_loss_weights=[1., 10]\n",
    ")\n",
    "\n",
    "learner_cfg = SemanticSegmentationLearnerConfig(data=data_cfg, solver=solver_cfg)\n",
    "\n",
    "learner = SemanticSegmentationLearner(\n",
    "    cfg=learner_cfg,\n",
    "    output_dir=EXPERIMENT_DIR,\n",
    "    model=model,\n",
    "    train_ds=train_dataset_merged,\n",
    "    valid_ds=val_dataset_merged,\n",
    ")\n",
    "learner.log_data_stats()"
   ]
  },
  {
   "cell_type": "code",
   "execution_count": 14,
   "id": "144a710a-38ad-4d7b-9b4c-b19253b97dfb",
   "metadata": {
    "tags": []
   },
   "outputs": [
    {
     "name": "stderr",
     "output_type": "stream",
     "text": [
      "2023-07-25 17:04:05:rastervision.pytorch_learner.learner: INFO - Resuming training from epoch 21\n",
      "2023-07-25 17:04:05:rastervision.pytorch_learner.learner: INFO - epoch: 21\n",
      "Training:   0%|          | 0/151 [00:00<?, ?it/s]"
     ]
    }
   ],
   "source": [
    "learner.train(epochs=9)"
   ]
  },
  {
   "attachments": {},
   "cell_type": "markdown",
   "id": "45126cf1-6800-4fc0-80fc-71f5798d02b7",
   "metadata": {},
   "source": [
    "## Evaluate"
   ]
  },
  {
   "cell_type": "code",
   "execution_count": 14,
   "id": "73be2fb4",
   "metadata": {},
   "outputs": [],
   "source": [
    "from rastervision.core.data import SemanticSegmentationLabels\n",
    "from rastervision.pytorch_learner import SemanticSegmentationSlidingWindowGeoDataset, SemanticSegmentationLearner\n",
    "\n",
    "\n",
    "def get_predictions_for_site(learner: SemanticSegmentationLearner, ds: SemanticSegmentationSlidingWindowGeoDataset):\n",
    "    predictions = learner.predict_dataset(\n",
    "        ds,\n",
    "        raw_out=True,\n",
    "        numpy_out=True,\n",
    "        progress_bar=True\n",
    "    )\n",
    "    pred_labels = SemanticSegmentationLabels.from_predictions(\n",
    "        ds.windows,\n",
    "        predictions,\n",
    "        smooth=True,\n",
    "        extent=ds.scene.extent,\n",
    "        num_classes=len(class_config)\n",
    "    )\n",
    "    scores = pred_labels.get_score_arr(pred_labels.extent)\n",
    "    predicted_mine_probability = scores[class_config.get_class_id('sandmine')]\n",
    "    return predicted_mine_probability"
   ]
  },
  {
   "attachments": {},
   "cell_type": "markdown",
   "id": "7748f1c6-586c-4449-bd37-0cc54371acc0",
   "metadata": {},
   "source": [
    "#### Save prediction visualizations"
   ]
  },
  {
   "cell_type": "code",
   "execution_count": null,
   "id": "ec080c8e",
   "metadata": {},
   "outputs": [],
   "source": [
    "from utils.visualizing import show_rgb_labels_preds\n",
    "\n",
    "for idx, ds in enumerate(val_datasets):\n",
    "    predicted_mine_probability = get_predictions_for_site(learner, ds)\n",
    "    show_rgb_labels_preds(\n",
    "        ds.scene.raster_source[:, :],\n",
    "        ds.scene.label_source[:, :],\n",
    "        predicted_mine_probability,\n",
    "        ds.scene.id,\n",
    "        savefig_path=f\"{EXPERIMENT_DIR}/result_images/{idx}_{ds.scene.id}.png\"\n",
    "    )"
   ]
  }
 ],
 "metadata": {
  "kernelspec": {
   "display_name": "rastervis",
   "language": "python",
   "name": "python3"
  },
  "language_info": {
   "codemirror_mode": {
    "name": "ipython",
    "version": 3
   },
   "file_extension": ".py",
   "mimetype": "text/x-python",
   "name": "python",
   "nbconvert_exporter": "python",
   "pygments_lexer": "ipython3",
   "version": "3.9.17"
  }
 },
 "nbformat": 4,
 "nbformat_minor": 5
}
