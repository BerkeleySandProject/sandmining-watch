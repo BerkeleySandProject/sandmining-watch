{
 "cells": [
  {
   "cell_type": "code",
   "execution_count": 5,
   "id": "827ede6a-cec2-4306-b462-430933a476f9",
   "metadata": {
    "tags": []
   },
   "outputs": [],
   "source": [
    "import sys\n",
    "import os\n",
    "from typing import List\n",
    "sys.path.insert(0, os.path.abspath('..'))\n",
    "\n",
    "%load_ext autoreload\n",
    "%autoreload 2"
   ]
  },
  {
   "cell_type": "code",
   "execution_count": 6,
   "id": "16b2eae2",
   "metadata": {},
   "outputs": [],
   "source": [
    "from utils.schemas import Split, ObservationPointer\n",
    "from utils.data_management import observation_factory"
   ]
  },
  {
   "cell_type": "code",
   "execution_count": 7,
   "id": "1509766c",
   "metadata": {},
   "outputs": [],
   "source": [
    "from google.cloud import storage\n",
    "\n",
    "GCP_PROJECT_NAME = \"gee-sand\"\n",
    "BUCKET_NAME = \"sand_mining\"\n",
    "\n",
    "gcp_client = storage.Client(project=GCP_PROJECT_NAME)"
   ]
  },
  {
   "cell_type": "code",
   "execution_count": 22,
   "id": "e74764e7",
   "metadata": {},
   "outputs": [
    {
     "name": "stderr",
     "output_type": "stream",
     "text": [
      "2023-07-25 16:05:24:rastervision.pipeline.file_system.utils: INFO - Using cached file /data/tmp/cache/http/storage.googleapis.com/sand_mining/labels/Betwa_Hamirpur_79-81_25-91/bs/Betwa_Hamirpur_79-81_25-91_2022-03-22_bs.tif.\n",
      "2023-07-25 16:05:24:rastervision.pipeline.file_system.utils: INFO - Using cached file /data/tmp/cache/http/storage.googleapis.com/sand_mining/labels/Chambal_More_77-86_26-61/bs/Chambal_More_77-86_26-61_2022-03-02_bs.tif.\n",
      "2023-07-25 16:05:24:rastervision.pipeline.file_system.utils: INFO - Using cached file /data/tmp/cache/http/storage.googleapis.com/sand_mining/labels/Kathajodi_Cuttack_85-85_20-44/bs/Kathajodi_Cuttack_85-85_20-44_2022-03-03_bs.tif.\n",
      "2023-07-25 16:05:24:rastervision.pipeline.file_system.utils: INFO - Using cached file /data/tmp/cache/http/storage.googleapis.com/sand_mining/labels/Ken_Banda_80-35_25-68/bs/Ken_Banda_80-35_25-68_2022-03-09_bs.tif.\n",
      "2023-07-25 16:05:24:rastervision.pipeline.file_system.utils: INFO - Using cached file /data/tmp/cache/http/storage.googleapis.com/sand_mining/labels/Narmada_Sehore_77-32_22-56/bs/Narmada_Sehore_77-32_22-56_2022-03-22_bs.tif.\n",
      "2023-07-25 16:05:24:rastervision.pipeline.file_system.utils: INFO - Using cached file /data/tmp/cache/http/storage.googleapis.com/sand_mining/labels/Sone_Rohtas_84-21_24-91/bs/Sone_Rohtas_84-21_24-91_2022-03-01_bs.tif.\n",
      "2023-07-25 16:05:24:rastervision.pipeline.file_system.utils: INFO - Using cached file /data/tmp/cache/http/storage.googleapis.com/sand_mining/labels/Tawa_Hoshangabad_77-80_22-74/bs/Tawa_Hoshangabad_77-80_22-74_2022-03-02_bs.tif.\n"
     ]
    },
    {
     "name": "stdout",
     "output_type": "stream",
     "text": [
      "{'Betwa_Hamirpur_79-81_25-91': {'Coverage area [km^2]': 254.39,\n",
      "                                'Number of observations': 5,\n",
      "                                'Patch size': (1043, 2439)},\n",
      " 'Chambal_More_77-86_26-61': {'Coverage area [km^2]': 68.61,\n",
      "                              'Number of observations': 4,\n",
      "                              'Patch size': (795, 863)},\n",
      " 'Kathajodi_Cuttack_85-85_20-44': {'Coverage area [km^2]': 105.79,\n",
      "                                   'Number of observations': 4,\n",
      "                                   'Patch size': (653, 1620)},\n",
      " 'Ken_Banda_80-35_25-68': {'Coverage area [km^2]': 25.8,\n",
      "                           'Number of observations': 5,\n",
      "                           'Patch size': (451, 572)},\n",
      " 'Narmada_Sehore_77-32_22-56': {'Coverage area [km^2]': 20.32,\n",
      "                                'Number of observations': 6,\n",
      "                                'Patch size': (278, 731)},\n",
      " 'Sone_Rohtas_84-21_24-91': {'Coverage area [km^2]': 582.03,\n",
      "                             'Number of observations': 6,\n",
      "                             'Patch size': (2306, 2524)},\n",
      " 'Tawa_Hoshangabad_77-80_22-74': {'Coverage area [km^2]': 177.86,\n",
      "                                  'Number of observations': 4,\n",
      "                                  'Patch size': (1164, 1528)}}\n",
      "Total of 7 locations\n"
     ]
    }
   ],
   "source": [
    "from rastervision.core.data import RasterioSource\n",
    "from utils.data_management import get_location_from_key\n",
    "\n",
    "dataset_summary = {}\n",
    "\n",
    "all_observations: List[ObservationPointer] = list(observation_factory(gcp_client))\n",
    "observations_per_locations = {}\n",
    "for observation in all_observations:\n",
    "    location = get_location_from_key(observation.name)\n",
    "    if location in observations_per_locations:\n",
    "        observations_per_locations[location].append(observation)\n",
    "    else:\n",
    "        observations_per_locations[location] = [observation]\n",
    "\n",
    "for location, observation_list in observations_per_locations.items():\n",
    "    # To determine the patch size, we only look into the first observations.\n",
    "    # We expect that all observations cover the same geographical extent.\n",
    "    raster_source = RasterioSource(observation_list[0].uri_to_bs, allow_streaming=False)\n",
    "    coverage_area_km2 = raster_source.shape[0] * raster_source.shape[1] / 1e4  # Each pixel covers 100m^2\n",
    "    summary_of_location = {\n",
    "        \"Number of observations\": len(observation_list),\n",
    "        \"Patch size\": raster_source.shape[:2],\n",
    "        \"Coverage area [km^2]\": round(coverage_area_km2, 2)\n",
    "    }\n",
    "    dataset_summary[location] = summary_of_location\n",
    "\n",
    "pprint(dataset_summary)\n",
    "print(f\"Total of {len(observations_per_locations)} locations\")\n"
   ]
  }
 ],
 "metadata": {
  "kernelspec": {
   "display_name": "rastervis",
   "language": "python",
   "name": "python3"
  },
  "language_info": {
   "codemirror_mode": {
    "name": "ipython",
    "version": 3
   },
   "file_extension": ".py",
   "mimetype": "text/x-python",
   "name": "python",
   "nbconvert_exporter": "python",
   "pygments_lexer": "ipython3",
   "version": "3.9.17"
  }
 },
 "nbformat": 4,
 "nbformat_minor": 5
}
