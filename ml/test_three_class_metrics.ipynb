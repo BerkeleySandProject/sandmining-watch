{
 "cells": [
  {
   "cell_type": "code",
   "execution_count": 1,
   "metadata": {},
   "outputs": [],
   "source": [
    "import torch\n",
    "from three_class_metrics import *"
   ]
  },
  {
   "cell_type": "code",
   "execution_count": 2,
   "metadata": {},
   "outputs": [],
   "source": [
    "def compute_conf_mat(out, y, num_labels):\n",
    "    labels = torch.arange(0, num_labels).to(out.device)\n",
    "    return ((out == labels[:, None]) & (y == labels[:, None, None])).sum(\n",
    "        dim=2, dtype=torch.float32)"
   ]
  },
  {
   "cell_type": "code",
   "execution_count": 3,
   "metadata": {},
   "outputs": [
    {
     "data": {
      "text/plain": [
       "tensor([[1., 0., 0.],\n",
       "        [0., 0., 0.],\n",
       "        [0., 0., 0.]])"
      ]
     },
     "execution_count": 3,
     "metadata": {},
     "output_type": "execute_result"
    }
   ],
   "source": [
    "# Nonemine and nonmine\n",
    "i = torch.ones(1) * 0\n",
    "t = torch.ones(1) * 0\n",
    "compute_conf_mat(i, t, 3)"
   ]
  },
  {
   "cell_type": "code",
   "execution_count": 4,
   "metadata": {},
   "outputs": [
    {
     "data": {
      "text/plain": [
       "tensor([[0., 1., 0.],\n",
       "        [0., 0., 0.],\n",
       "        [0., 0., 0.]])"
      ]
     },
     "execution_count": 4,
     "metadata": {},
     "output_type": "execute_result"
    }
   ],
   "source": [
    "# lc and nonmine\n",
    "i = torch.ones(1) * 1\n",
    "t = torch.ones(1) * 0\n",
    "compute_conf_mat(i, t, 3)"
   ]
  },
  {
   "cell_type": "code",
   "execution_count": 5,
   "metadata": {},
   "outputs": [
    {
     "data": {
      "text/plain": [
       "tensor([[0., 0., 1.],\n",
       "        [0., 0., 0.],\n",
       "        [0., 0., 0.]])"
      ]
     },
     "execution_count": 5,
     "metadata": {},
     "output_type": "execute_result"
    }
   ],
   "source": [
    "# mine and nonmine\n",
    "i = torch.ones(1) * 2\n",
    "t = torch.ones(1) * 0\n",
    "compute_conf_mat(i, t, 3)"
   ]
  },
  {
   "cell_type": "code",
   "execution_count": 6,
   "metadata": {},
   "outputs": [
    {
     "data": {
      "text/plain": [
       "tensor([[1., 0., 0.],\n",
       "        [0., 0., 0.],\n",
       "        [0., 0., 0.]])"
      ]
     },
     "execution_count": 6,
     "metadata": {},
     "output_type": "execute_result"
    }
   ],
   "source": [
    "# Nonemine and nonmine\n",
    "i = torch.ones(1) * 0\n",
    "t = torch.ones(1) * 0\n",
    "compute_conf_mat(i, t, 3)"
   ]
  },
  {
   "cell_type": "code",
   "execution_count": 7,
   "metadata": {},
   "outputs": [
    {
     "data": {
      "text/plain": [
       "tensor([[0., 0., 0.],\n",
       "        [1., 0., 0.],\n",
       "        [0., 0., 0.]])"
      ]
     },
     "execution_count": 7,
     "metadata": {},
     "output_type": "execute_result"
    }
   ],
   "source": [
    "# Nonemine and lc\n",
    "i = torch.ones(1) * 0\n",
    "t = torch.ones(1) * 1\n",
    "compute_conf_mat(i, t, 3)"
   ]
  },
  {
   "cell_type": "code",
   "execution_count": 8,
   "metadata": {},
   "outputs": [
    {
     "data": {
      "text/plain": [
       "tensor([[0., 0., 0.],\n",
       "        [0., 0., 0.],\n",
       "        [1., 0., 0.]])"
      ]
     },
     "execution_count": 8,
     "metadata": {},
     "output_type": "execute_result"
    }
   ],
   "source": [
    "# Nonemine and lc\n",
    "i = torch.ones(1) * 0\n",
    "t = torch.ones(1) * 2\n",
    "compute_conf_mat(i, t, 3)"
   ]
  },
  {
   "cell_type": "code",
   "execution_count": 9,
   "metadata": {},
   "outputs": [
    {
     "data": {
      "text/plain": [
       "tensor([[ 5., 17.,  9.],\n",
       "        [12.,  7., 14.],\n",
       "        [10., 16., 10.]])"
      ]
     },
     "execution_count": 9,
     "metadata": {},
     "output_type": "execute_result"
    }
   ],
   "source": [
    "torch.manual_seed(42)\n",
    "i = torch.randint(0, 3, (100, ))\n",
    "t = torch.randint(0, 3, (100, ))\n",
    "conf_mat = compute_conf_mat(i, t, 3)\n",
    "conf_mat"
   ]
  },
  {
   "cell_type": "code",
   "execution_count": 10,
   "metadata": {},
   "outputs": [],
   "source": [
    "eps = torch.tensor(1e-6)\n",
    "conf_mat = conf_mat.cpu()\n",
    "conf_mat[1] = 0\n",
    "conf_mat[:, 1] = 0\n",
    "gt_count = conf_mat.sum(dim=1)\n",
    "pred_count = conf_mat.sum(dim=0)\n",
    "total = conf_mat.sum()\n",
    "true_pos = torch.diag(conf_mat)\n",
    "precision = true_pos / torch.max(pred_count, eps)\n",
    "recall = true_pos / torch.max(gt_count, eps)\n",
    "f1 = (2 * precision * recall) / torch.max(precision + recall, eps)\n",
    "\n",
    "weights = gt_count / total\n",
    "weighted_precision = (weights * precision).sum()\n",
    "weighted_recall = (weights * recall).sum()\n",
    "weighted_f1 = ((2 * weighted_precision * weighted_recall) / torch.max(\n",
    "    weighted_precision + weighted_recall, eps))\n",
    "\n",
    "metrics = {\n",
    "    'avg_precision': weighted_precision.item(),\n",
    "    'avg_recall': weighted_recall.item(),\n",
    "    'avg_f1': weighted_f1.item()\n",
    "}"
   ]
  },
  {
   "cell_type": "code",
   "execution_count": 11,
   "metadata": {},
   "outputs": [
    {
     "data": {
      "text/plain": [
       "tensor([[ 5.,  0.,  9.],\n",
       "        [ 0.,  0.,  0.],\n",
       "        [10.,  0., 10.]])"
      ]
     },
     "execution_count": 11,
     "metadata": {},
     "output_type": "execute_result"
    }
   ],
   "source": [
    "conf_mat"
   ]
  },
  {
   "cell_type": "code",
   "execution_count": 12,
   "metadata": {},
   "outputs": [
    {
     "data": {
      "text/plain": [
       "tensor([0.3333, 0.0000, 0.5263])"
      ]
     },
     "execution_count": 12,
     "metadata": {},
     "output_type": "execute_result"
    }
   ],
   "source": [
    "precision"
   ]
  },
  {
   "cell_type": "code",
   "execution_count": 13,
   "metadata": {},
   "outputs": [
    {
     "data": {
      "text/plain": [
       "tensor([0.3571, 0.0000, 0.5000])"
      ]
     },
     "execution_count": 13,
     "metadata": {},
     "output_type": "execute_result"
    }
   ],
   "source": [
    "recall"
   ]
  },
  {
   "cell_type": "code",
   "execution_count": null,
   "metadata": {},
   "outputs": [],
   "source": []
  }
 ],
 "metadata": {
  "kernelspec": {
   "display_name": "sand-mining",
   "language": "python",
   "name": "python3"
  },
  "language_info": {
   "codemirror_mode": {
    "name": "ipython",
    "version": 3
   },
   "file_extension": ".py",
   "mimetype": "text/x-python",
   "name": "python",
   "nbconvert_exporter": "python",
   "pygments_lexer": "ipython3",
   "version": "3.9.17"
  },
  "orig_nbformat": 4,
  "vscode": {
   "interpreter": {
    "hash": "b5dd2ba60de8bda55ea3970b324b4919d693cac635abee2efe739b91809016bc"
   }
  }
 },
 "nbformat": 4,
 "nbformat_minor": 2
}
