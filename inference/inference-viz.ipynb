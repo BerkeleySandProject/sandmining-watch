{
 "cells": [
  {
   "cell_type": "markdown",
   "metadata": {},
   "source": [
    "# Vizualization of Inference\n",
    "\n",
    "This notebook utilizes Geemap to display the results of the inference step on entire river basins. Refer to `inference_oos.ipynb` for the code to generate the inferences."
   ]
  },
  {
   "cell_type": "code",
   "execution_count": 3,
   "metadata": {},
   "outputs": [
    {
     "data": {
      "text/html": [
       "\n",
       "            <style>\n",
       "                .geemap-dark {\n",
       "                    --jp-widgets-color: white;\n",
       "                    --jp-widgets-label-color: white;\n",
       "                    --jp-ui-font-color1: white;\n",
       "                    --jp-layout-color2: #454545;\n",
       "                    background-color: #383838;\n",
       "                }\n",
       "                    \n",
       "                .geemap-dark .jupyter-button {\n",
       "                    --jp-layout-color3: #383838;\n",
       "                }\n",
       "                \n",
       "                .geemap-colab {\n",
       "                    background-color: var(--colab-primary-surface-color, white);\n",
       "                }\n",
       "                    \n",
       "                .geemap-colab .jupyter-button {\n",
       "                    --jp-layout-color3: var(--colab-primary-surface-color, white);\n",
       "                }\n",
       "            </style>\n",
       "            "
      ],
      "text/plain": [
       "<IPython.core.display.HTML object>"
      ]
     },
     "metadata": {},
     "output_type": "display_data"
    }
   ],
   "source": [
    "import geemap\n",
    "import ee\n",
    "import matplotlib.cm as cm\n",
    "import matplotlib.colors\n",
    "import numpy as np\n",
    "import sys\n",
    "import os\n",
    "sys.path.insert(0, os.path.abspath('..'))"
   ]
  },
  {
   "cell_type": "code",
   "execution_count": 4,
   "metadata": {},
   "outputs": [
    {
     "data": {
      "text/html": [
       "\n",
       "            <style>\n",
       "                .geemap-dark {\n",
       "                    --jp-widgets-color: white;\n",
       "                    --jp-widgets-label-color: white;\n",
       "                    --jp-ui-font-color1: white;\n",
       "                    --jp-layout-color2: #454545;\n",
       "                    background-color: #383838;\n",
       "                }\n",
       "                    \n",
       "                .geemap-dark .jupyter-button {\n",
       "                    --jp-layout-color3: #383838;\n",
       "                }\n",
       "                \n",
       "                .geemap-colab {\n",
       "                    background-color: var(--colab-primary-surface-color, white);\n",
       "                }\n",
       "                    \n",
       "                .geemap-colab .jupyter-button {\n",
       "                    --jp-layout-color3: var(--colab-primary-surface-color, white);\n",
       "                }\n",
       "            </style>\n",
       "            "
      ],
      "text/plain": [
       "<IPython.core.display.HTML object>"
      ]
     },
     "metadata": {},
     "output_type": "display_data"
    }
   ],
   "source": [
    "try:\n",
    "    ee.Initialize()\n",
    "except Exception as e:\n",
    "    ee.Authenticate()\n",
    "    ee.Initialize()"
   ]
  },
  {
   "cell_type": "code",
   "execution_count": 6,
   "metadata": {},
   "outputs": [
    {
     "data": {
      "text/html": [
       "\n",
       "            <style>\n",
       "                .geemap-dark {\n",
       "                    --jp-widgets-color: white;\n",
       "                    --jp-widgets-label-color: white;\n",
       "                    --jp-ui-font-color1: white;\n",
       "                    --jp-layout-color2: #454545;\n",
       "                    background-color: #383838;\n",
       "                }\n",
       "                    \n",
       "                .geemap-dark .jupyter-button {\n",
       "                    --jp-layout-color3: #383838;\n",
       "                }\n",
       "                \n",
       "                .geemap-colab {\n",
       "                    background-color: var(--colab-primary-surface-color, white);\n",
       "                }\n",
       "                    \n",
       "                .geemap-colab .jupyter-button {\n",
       "                    --jp-layout-color3: var(--colab-primary-surface-color, white);\n",
       "                }\n",
       "            </style>\n",
       "            "
      ],
      "text/plain": [
       "<IPython.core.display.HTML object>"
      ]
     },
     "metadata": {},
     "output_type": "display_data"
    }
   ],
   "source": [
    "from experiment_configs.configs import satmae_large_inf_config\n",
    "# config = satmae_large_config\n",
    "wandb_id = satmae_large_inf_config.wandb_id.split('/')[-1]\n",
    "threshold = satmae_large_inf_config.mean_threshold\n",
    "\n",
    "bucket = 'gs://sand_mining_inference'\n",
    "river = 'sone'\n",
    "date = '2023-05-01'\n",
    "\n",
    "\n",
    "prediction_path = f'{bucket}/{river}/{date}/{river}_prediction_{date}_{wandb_id}.tif'\n",
    "s2_path = f'{bucket}/{river}/{date}/S2/{river}_s2_{date}.tif'\n",
    "s1_path = f'{bucket}/{river}/{date}/S1/{river}_s1_{date}.tif'"
   ]
  },
  {
   "cell_type": "code",
   "execution_count": 9,
   "metadata": {},
   "outputs": [
    {
     "data": {
      "text/html": [
       "\n",
       "            <style>\n",
       "                .geemap-dark {\n",
       "                    --jp-widgets-color: white;\n",
       "                    --jp-widgets-label-color: white;\n",
       "                    --jp-ui-font-color1: white;\n",
       "                    --jp-layout-color2: #454545;\n",
       "                    background-color: #383838;\n",
       "                }\n",
       "                    \n",
       "                .geemap-dark .jupyter-button {\n",
       "                    --jp-layout-color3: #383838;\n",
       "                }\n",
       "                \n",
       "                .geemap-colab {\n",
       "                    background-color: var(--colab-primary-surface-color, white);\n",
       "                }\n",
       "                    \n",
       "                .geemap-colab .jupyter-button {\n",
       "                    --jp-layout-color3: var(--colab-primary-surface-color, white);\n",
       "                }\n",
       "            </style>\n",
       "            "
      ],
      "text/plain": [
       "<IPython.core.display.HTML object>"
      ]
     },
     "metadata": {},
     "output_type": "display_data"
    },
    {
     "data": {
      "application/vnd.jupyter.widget-view+json": {
       "model_id": "5e426cd179074724bdca9e473efc0211",
       "version_major": 2,
       "version_minor": 0
      },
      "text/plain": [
       "Map(center=[25.078281891522835, 83.62381047257249], controls=(WidgetControl(options=['position', 'transparent_…"
      ]
     },
     "execution_count": 9,
     "metadata": {},
     "output_type": "execute_result"
    }
   ],
   "source": [
    "# Create an ee.Image object from the GeoTIFF file\n",
    "prediction = ee.Image.loadGeoTIFF(prediction_path)\n",
    "\n",
    "threshold = threshold * 0.8\n",
    "\n",
    "#mask out all values that are zero\n",
    "mask = prediction.neq(0)\n",
    "\n",
    "mask = prediction.lte(1.0).And(prediction.gt(threshold))\n",
    "\n",
    "# Update the image to include the mask\n",
    "prediction = prediction.updateMask(mask)\n",
    "\n",
    "# Generate a viridis colormap\n",
    "viridis = cm.get_cmap('magma', 256)\n",
    "\n",
    "# Convert the colormap to a list of hexadecimal colors\n",
    "viridis_hex = [matplotlib.colors.rgb2hex(rgb) for rgb in viridis(np.arange(256))]\n",
    "\n",
    "# Define visualization parameters with the viridis palette\n",
    "prediction_vis_params = {\n",
    "    'min': 0,\n",
    "    'max': 1,\n",
    "    'palette': viridis_hex,\n",
    "    'opacity': .5\n",
    "}\n",
    "\n",
    "# Create a Map\n",
    "Map = geemap.Map(height='800px')\n",
    "\n",
    "\n",
    "#add a satellite basemap\n",
    "\n",
    "\n",
    "#Add the S2 image\n",
    "s2_image_params = {\n",
    "    'min': 0,\n",
    "    'max': 3000,\n",
    "    'bands': ['B3', 'B2', 'B1'],\n",
    "    'gamma': 1.4 \n",
    "}\n",
    "\n",
    "s2_image = ee.Image.loadGeoTIFF(s2_path)\n",
    "mask_s2 = s2_image.neq(0)\n",
    "s2_image = s2_image.updateMask(mask_s2)\n",
    "\n",
    "\n",
    "\n",
    "#S1\n",
    "# s1_image = ee.Image.loadGeoTIFF(s1_path)\n",
    "\n",
    "# s1_image_params = {\n",
    "#     'min': -20,\n",
    "#     'max': 0,\n",
    "#     'bands': ['B1', 'B0', 'B0'],\n",
    "#     'gamma': 1.0 \n",
    "# }\n",
    "\n",
    "# #stretch s1 to 98% of the histogram\n",
    "\n",
    "\n",
    "# mask_s1 = s1_image.neq(0)\n",
    "# s1_image = s1_image.updateMask(mask_s1)\n",
    "\n",
    "\n",
    "# Add the image layer to the map and display it\n",
    "Map.add_basemap('SATELLITE')\n",
    "# Map.addLayer(s1_image, s1_image_params, 'S1')\n",
    "Map.addLayer(s2_image, s2_image_params, 'S2 RGB')\n",
    "# Add the prediction layer to the map\n",
    "Map.addLayer(prediction, prediction_vis_params, 'Predictions')\n",
    "\n",
    "# Display the map\n",
    "#center the map on the image\n",
    "Map.centerObject(prediction, 10)\n",
    "\n",
    "Map\n"
   ]
  },
  {
   "cell_type": "code",
   "execution_count": null,
   "metadata": {},
   "outputs": [],
   "source": []
  }
 ],
 "metadata": {
  "kernelspec": {
   "display_name": "sand_mining",
   "language": "python",
   "name": "python3"
  },
  "language_info": {
   "codemirror_mode": {
    "name": "ipython",
    "version": 3
   },
   "file_extension": ".py",
   "mimetype": "text/x-python",
   "name": "python",
   "nbconvert_exporter": "python",
   "pygments_lexer": "ipython3",
   "version": "3.9.17"
  }
 },
 "nbformat": 4,
 "nbformat_minor": 2
}
