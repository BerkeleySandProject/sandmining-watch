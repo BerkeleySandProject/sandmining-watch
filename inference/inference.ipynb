{
 "cells": [
  {
   "cell_type": "markdown",
   "metadata": {},
   "source": [
    "Run inference. (Without quantitative evaluation, no annotations required.)"
   ]
  },
  {
   "cell_type": "code",
   "execution_count": null,
   "metadata": {},
   "outputs": [],
   "source": [
    "import sys\n",
    "import os\n",
    "sys.path.insert(0, os.path.abspath('..'))\n",
    "\n",
    "%load_ext autoreload\n",
    "%autoreload 2\n",
    "\n",
    "from dotenv import load_dotenv\n",
    "load_dotenv()\n",
    "\n",
    "from google.cloud import storage\n",
    "from project_config import GCP_PROJECT_NAME\n",
    "\n",
    "gcp_client = storage.Client(project=GCP_PROJECT_NAME)"
   ]
  },
  {
   "cell_type": "markdown",
   "metadata": {},
   "source": [
    "## Configuration\n",
    "Chose model configuration, path to trained weights and location to run inference on.\n",
    "\n",
    "For information on inference strategy, read https://www.notion.so/andoshah/Inference-strategy-4da86e75cad848eeada298141ef23370?pvs=4"
   ]
  },
  {
   "cell_type": "code",
   "execution_count": null,
   "metadata": {},
   "outputs": [],
   "source": [
    "from experiment_configs.unet_fs_config import unet_orig_config\n",
    "config = unet_orig_config\n",
    "config.batch_size = 8\n",
    "\n",
    "#from project_config import N_EDGE_PIXELS_DISCARD\n",
    "\n",
    "from os.path import expanduser\n",
    "path_to_weights = expanduser(\"~/sandmining-watch/out/1031-unet-orig-160/last-model.pth\")\n",
    "\n",
    "LOCATION = \"Kathajodi_Cuttack_85-85_20-44\""
   ]
  },
  {
   "cell_type": "code",
   "execution_count": null,
   "metadata": {},
   "outputs": [],
   "source": [
    "## Additional filtering of observations\n",
    "filter_fcn = lambda x: x.name.endswith('2022-02-01')\n",
    "\n",
    "## For no additional filterting, comment out the following line:\n",
    "#filter_fcn  = lambda _: True"
   ]
  },
  {
   "cell_type": "code",
   "execution_count": null,
   "metadata": {},
   "outputs": [],
   "source": [
    "from utils.data_management import all_observations_for_location\n",
    "\n",
    "observations_in_locations = list(all_observations_for_location(gcp_client, \"Kathajodi_Cuttack_85-85_20-44\"))\n",
    "observations_for_inference = list(filter(filter_fcn,  observations_in_locations))\n",
    "\n",
    "print(f\"Aggregated {len(observations_for_inference)} observations for inference\")"
   ]
  },
  {
   "cell_type": "code",
   "execution_count": null,
   "metadata": {},
   "outputs": [],
   "source": [
    "\n",
    "from utils.rastervision_pipeline import observation_to_scene, scene_to_inference_ds\n",
    "\n",
    "datasets_for_inference = []\n",
    "\n",
    "for observation in observations_for_inference:\n",
    "    scene = observation_to_scene(config, observation)\n",
    "    dataset = scene_to_inference_ds(config, scene, full_image=False)\n",
    "    datasets_for_inference.append(dataset)"
   ]
  },
  {
   "cell_type": "code",
   "execution_count": null,
   "metadata": {},
   "outputs": [],
   "source": [
    "from ml.learner import BinarySegmentationPredictor\n",
    "from models.model_factory import model_factory\n",
    "\n",
    "\n",
    "_, _, n_channels = dataset.scene.raster_source.shape\n",
    "model = model_factory(\n",
    "    config,\n",
    "    n_channels=n_channels,\n",
    ")\n",
    "\n",
    "predictor = BinarySegmentationPredictor(\n",
    "    config, model, path_to_weights\n",
    ")\n"
   ]
  },
  {
   "cell_type": "code",
   "execution_count": null,
   "metadata": {},
   "outputs": [],
   "source": [
    "import matplotlib.pyplot as plt\n",
    "\n",
    "for dataset in datasets_for_inference:\n",
    "    predicted_probs = predictor.predict_mine_probability_for_site(dataset)\n",
    "    plt.imshow(predicted_probs, vmin=0, vmax=1, cmap='gray')\n",
    "    plt.axis('off')\n",
    "    plt.title(dataset.scene.id)\n",
    "    plt.show()"
   ]
  }
 ],
 "metadata": {
  "kernelspec": {
   "display_name": "rv-21-a",
   "language": "python",
   "name": "python3"
  },
  "language_info": {
   "codemirror_mode": {
    "name": "ipython",
    "version": 3
   },
   "file_extension": ".py",
   "mimetype": "text/x-python",
   "name": "python",
   "nbconvert_exporter": "python",
   "pygments_lexer": "ipython3",
   "version": "3.9.17"
  },
  "orig_nbformat": 4
 },
 "nbformat": 4,
 "nbformat_minor": 2
}
